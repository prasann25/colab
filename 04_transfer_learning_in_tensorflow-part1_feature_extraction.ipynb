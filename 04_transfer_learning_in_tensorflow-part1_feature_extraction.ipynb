{
  "nbformat": 4,
  "nbformat_minor": 0,
  "metadata": {
    "colab": {
      "name": "04_transfer_learning_in_tensorflow-part1_feature_extraction",
      "provenance": [],
      "authorship_tag": "ABX9TyNN/kXuTU8O7+zSEPSF3rLm",
      "include_colab_link": true
    },
    "kernelspec": {
      "name": "python3",
      "display_name": "Python 3"
    },
    "language_info": {
      "name": "python"
    },
    "accelerator": "GPU"
  },
  "cells": [
    {
      "cell_type": "markdown",
      "metadata": {
        "id": "view-in-github",
        "colab_type": "text"
      },
      "source": [
        "<a href=\"https://colab.research.google.com/github/prasann25/colab/blob/main/04_transfer_learning_in_tensorflow-part1_feature_extraction.ipynb\" target=\"_parent\"><img src=\"https://colab.research.google.com/assets/colab-badge.svg\" alt=\"Open In Colab\"/></a>"
      ]
    },
    {
      "cell_type": "markdown",
      "metadata": {
        "id": "-8fbclEDHYdu"
      },
      "source": [
        "# Transfer Learning With TensorFlow Part 1: Feature Extraction\n",
        "\n",
        "Transfer learning is leveraging a working model's existing architecture and learned patterns for our own problem.\n",
        "\n",
        "There are 2 main benefits :\n",
        "1. Can leverage an existing neural network architecture proven to work on problems similar to our own.\n",
        "2. Can leverage a working neural network architecture which has already learned patterns on similar data to our own, then we can adapt those patterns to our own data."
      ]
    },
    {
      "cell_type": "code",
      "metadata": {
        "id": "YiA99SJeMTgT",
        "colab": {
          "base_uri": "https://localhost:8080/"
        },
        "outputId": "24952be7-b83a-4cac-e0dd-38478f0a86d5"
      },
      "source": [
        "# Are we using a GPU?\n",
        "!nvidia-smi"
      ],
      "execution_count": 1,
      "outputs": [
        {
          "output_type": "stream",
          "text": [
            "Mon Jul 12 17:24:33 2021       \n",
            "+-----------------------------------------------------------------------------+\n",
            "| NVIDIA-SMI 470.42.01    Driver Version: 460.32.03    CUDA Version: 11.2     |\n",
            "|-------------------------------+----------------------+----------------------+\n",
            "| GPU  Name        Persistence-M| Bus-Id        Disp.A | Volatile Uncorr. ECC |\n",
            "| Fan  Temp  Perf  Pwr:Usage/Cap|         Memory-Usage | GPU-Util  Compute M. |\n",
            "|                               |                      |               MIG M. |\n",
            "|===============================+======================+======================|\n",
            "|   0  Tesla T4            Off  | 00000000:00:04.0 Off |                    0 |\n",
            "| N/A   61C    P8    11W /  70W |      0MiB / 15109MiB |      0%      Default |\n",
            "|                               |                      |                  N/A |\n",
            "+-------------------------------+----------------------+----------------------+\n",
            "                                                                               \n",
            "+-----------------------------------------------------------------------------+\n",
            "| Processes:                                                                  |\n",
            "|  GPU   GI   CI        PID   Type   Process name                  GPU Memory |\n",
            "|        ID   ID                                                   Usage      |\n",
            "|=============================================================================|\n",
            "|  No running processes found                                                 |\n",
            "+-----------------------------------------------------------------------------+\n"
          ],
          "name": "stdout"
        }
      ]
    },
    {
      "cell_type": "markdown",
      "metadata": {
        "id": "LYc6mAweNIXr"
      },
      "source": [
        "## Downloading and becoming one with the data"
      ]
    },
    {
      "cell_type": "code",
      "metadata": {
        "id": "yUP2rR88NUza",
        "colab": {
          "base_uri": "https://localhost:8080/"
        },
        "outputId": "4ccc3552-c64a-4565-951d-3bf5e34b522a"
      },
      "source": [
        "# Get data(10% of food classes from Food101) https://www.kaggle.com/dansbecker/food-101\n",
        "import zipfile\n",
        "\n",
        "#Download the data\n",
        "!wget https://storage.googleapis.com/ztm_tf_course/food_vision/10_food_classes_10_percent.zip\n",
        "\n",
        "# Unzip the downloaded file\n",
        "zip_ref = zipfile.ZipFile(\"10_food_classes_10_percent.zip\")\n",
        "zip_ref.extractall()\n",
        "zip_ref.close()\n"
      ],
      "execution_count": 2,
      "outputs": [
        {
          "output_type": "stream",
          "text": [
            "--2021-07-12 17:24:33--  https://storage.googleapis.com/ztm_tf_course/food_vision/10_food_classes_10_percent.zip\n",
            "Resolving storage.googleapis.com (storage.googleapis.com)... 74.125.135.128, 74.125.195.128, 74.125.142.128, ...\n",
            "Connecting to storage.googleapis.com (storage.googleapis.com)|74.125.135.128|:443... connected.\n",
            "HTTP request sent, awaiting response... 200 OK\n",
            "Length: 168546183 (161M) [application/zip]\n",
            "Saving to: ‘10_food_classes_10_percent.zip’\n",
            "\n",
            "10_food_classes_10_ 100%[===================>] 160.74M   165MB/s    in 1.0s    \n",
            "\n",
            "2021-07-12 17:24:35 (165 MB/s) - ‘10_food_classes_10_percent.zip’ saved [168546183/168546183]\n",
            "\n"
          ],
          "name": "stdout"
        }
      ]
    },
    {
      "cell_type": "code",
      "metadata": {
        "id": "tXY2RrNbN6AS",
        "colab": {
          "base_uri": "https://localhost:8080/"
        },
        "outputId": "c19424e2-cd23-4b43-d585-b2d239347609"
      },
      "source": [
        "# How many images in each folder\n",
        "import os\n",
        "\n",
        "# Walk through 10 percent data directory and list number of files\n",
        "for dirpath, dirnames, filenames in os.walk(\"10_food_classes_10_percent\") :\n",
        "  print(f\"There are {len(dirnames)} directories and {len(filenames)} images in '{dirpath}'.'\")"
      ],
      "execution_count": 3,
      "outputs": [
        {
          "output_type": "stream",
          "text": [
            "There are 2 directories and 0 images in '10_food_classes_10_percent'.'\n",
            "There are 10 directories and 0 images in '10_food_classes_10_percent/train'.'\n",
            "There are 0 directories and 75 images in '10_food_classes_10_percent/train/steak'.'\n",
            "There are 0 directories and 75 images in '10_food_classes_10_percent/train/chicken_curry'.'\n",
            "There are 0 directories and 75 images in '10_food_classes_10_percent/train/hamburger'.'\n",
            "There are 0 directories and 75 images in '10_food_classes_10_percent/train/ice_cream'.'\n",
            "There are 0 directories and 75 images in '10_food_classes_10_percent/train/chicken_wings'.'\n",
            "There are 0 directories and 75 images in '10_food_classes_10_percent/train/grilled_salmon'.'\n",
            "There are 0 directories and 75 images in '10_food_classes_10_percent/train/sushi'.'\n",
            "There are 0 directories and 75 images in '10_food_classes_10_percent/train/fried_rice'.'\n",
            "There are 0 directories and 75 images in '10_food_classes_10_percent/train/pizza'.'\n",
            "There are 0 directories and 75 images in '10_food_classes_10_percent/train/ramen'.'\n",
            "There are 10 directories and 0 images in '10_food_classes_10_percent/test'.'\n",
            "There are 0 directories and 250 images in '10_food_classes_10_percent/test/steak'.'\n",
            "There are 0 directories and 250 images in '10_food_classes_10_percent/test/chicken_curry'.'\n",
            "There are 0 directories and 250 images in '10_food_classes_10_percent/test/hamburger'.'\n",
            "There are 0 directories and 250 images in '10_food_classes_10_percent/test/ice_cream'.'\n",
            "There are 0 directories and 250 images in '10_food_classes_10_percent/test/chicken_wings'.'\n",
            "There are 0 directories and 250 images in '10_food_classes_10_percent/test/grilled_salmon'.'\n",
            "There are 0 directories and 250 images in '10_food_classes_10_percent/test/sushi'.'\n",
            "There are 0 directories and 250 images in '10_food_classes_10_percent/test/fried_rice'.'\n",
            "There are 0 directories and 250 images in '10_food_classes_10_percent/test/pizza'.'\n",
            "There are 0 directories and 250 images in '10_food_classes_10_percent/test/ramen'.'\n"
          ],
          "name": "stdout"
        }
      ]
    },
    {
      "cell_type": "markdown",
      "metadata": {
        "id": "osxnr7GI8BtK"
      },
      "source": [
        "## Creating data loaders(preparing the data)\n",
        "We'll use the `ImageDataGenerator` class to load in out images in batches."
      ]
    },
    {
      "cell_type": "code",
      "metadata": {
        "colab": {
          "base_uri": "https://localhost:8080/"
        },
        "id": "GBIAJU-i8eIt",
        "outputId": "07d50881-43cd-40c7-c7a3-684cafb16e75"
      },
      "source": [
        "# Setup data inputs\n",
        "from tensorflow.keras.preprocessing.image import ImageDataGenerator\n",
        "\n",
        "IMG_SHAPE=(224, 224)\n",
        "BATCH_SIZE=32\n",
        "\n",
        "train_dir = \"10_food_classes_10_percent/train/\"\n",
        "test_dir = \"10_food_classes_10_percent/test/\"\n",
        "\n",
        "train_datagen = ImageDataGenerator(rescale = 1/255.)\n",
        "test_datagen  = ImageDataGenerator(rescale=1/255.)\n",
        "\n",
        "print(\"Training images:\")\n",
        "train_data_10_percent = train_datagen.flow_from_directory(train_dir, \n",
        "                                                          target_size=IMG_SHAPE,\n",
        "                                                          batch_size=BATCH_SIZE,\n",
        "                                                          class_mode=\"categorical\")\n",
        "print(\"Testing images:\")\n",
        "test_data = test_datagen.flow_from_directory(test_dir,\n",
        "                                                        target_size=IMG_SHAPE,\n",
        "                                                        batch_size=BATCH_SIZE,\n",
        "                                                        class_mode=\"categorical\")\n",
        "\n",
        "\n",
        "\n"
      ],
      "execution_count": 4,
      "outputs": [
        {
          "output_type": "stream",
          "text": [
            "Training images:\n",
            "Found 750 images belonging to 10 classes.\n",
            "Testing images:\n",
            "Found 2500 images belonging to 10 classes.\n"
          ],
          "name": "stdout"
        }
      ]
    },
    {
      "cell_type": "code",
      "metadata": {
        "colab": {
          "base_uri": "https://localhost:8080/"
        },
        "id": "AWMEnZ859nmm",
        "outputId": "81ba9820-6de1-463c-a920-84703345fb7a"
      },
      "source": [
        "len(train_data_10_percent), len(test_data)"
      ],
      "execution_count": 5,
      "outputs": [
        {
          "output_type": "execute_result",
          "data": {
            "text/plain": [
              "(24, 79)"
            ]
          },
          "metadata": {
            "tags": []
          },
          "execution_count": 5
        }
      ]
    },
    {
      "cell_type": "markdown",
      "metadata": {
        "id": "MUTeYdAd93zW"
      },
      "source": [
        "## Setting up callbacks (things to run whilst our model trains)\n",
        "\n",
        "Callbacks are extra functionality you can add to your models to be performed during or after training. Some of the most popular callbacks :\n",
        "* Tracking experiments with the TensorBoard callback\n",
        "* Model checkpoint with the ModelCheckpoint callback\n",
        "* Stopping a model from training( before it trains too long and overfits) with the EarlyStopping callback"
      ]
    },
    {
      "cell_type": "code",
      "metadata": {
        "id": "oH_LmB8m-WYl"
      },
      "source": [
        "# Create TensorBoard callback (functionized becaused we need to create a new one for each model)\n",
        "\n",
        "import datetime\n",
        "\n",
        "def create_tensorboard_callback(dir_name, experiment_name) :\n",
        "  log_dir = dir_name + \"/\" + experiment_name + \"/\" + datetime.datetime.now().strftime(\"%Y%m%d-%H%M%S\")\n",
        "  tensorboard_callback = tf.keras.callbacks.TensorBoard(log_dir=log_dir)\n",
        "  print(f\"Saving TensorBoard log file to: {log_dir}\")\n",
        "  return tensorboard_callback"
      ],
      "execution_count": 6,
      "outputs": []
    },
    {
      "cell_type": "markdown",
      "metadata": {
        "id": "cmMvFp8wsbID"
      },
      "source": [
        "## Creating Models using TensorFlow Hub\n",
        "\n",
        "In the past we'v e used TensorFlow to create our own models layer by layer from scratch.\n",
        "\n",
        "Now we're going to do a similar process, except the majority of our model's layers are going to come from TensorFlow Hub.\n",
        "We can access pre-trained models on [https://www.tensorflow.org/hub](https://www.tensorflow.org/hub)\n",
        "\n",
        "\n",
        "Research paper on which architecture is performing well on different classfication models\n",
        "[https://paperswithcode.com](https://paperswithcode.com/)\n",
        "\n",
        "https://paperswithcode.com/task/image-classification\n",
        "\n",
        "Browsing the TensorFlow Hub page and sorting for image classification, we found the following vector model link : https://tfhub.dev/tensorflow/efficientnet/b0/feature-vector/1\n",
        "\n"
      ]
    },
    {
      "cell_type": "code",
      "metadata": {
        "id": "wORatJCtDNEo"
      },
      "source": [
        "# Let's compare the following two models\n",
        "resnet_url = \"https://tfhub.dev/google/imagenet/resnet_v2_50/feature_vector/5\"\n",
        "\n",
        "efficientnet_url = \"https://tfhub.dev/tensorflow/efficientnet/b0/feature-vector/1\"\n"
      ],
      "execution_count": 7,
      "outputs": []
    },
    {
      "cell_type": "code",
      "metadata": {
        "id": "Oh_cAIMDHpyn",
        "colab": {
          "base_uri": "https://localhost:8080/"
        },
        "outputId": "6350a309-1935-4d52-d922-6bd696c3c9ca"
      },
      "source": [
        "IMG_SHAPE + (3,)"
      ],
      "execution_count": 8,
      "outputs": [
        {
          "output_type": "execute_result",
          "data": {
            "text/plain": [
              "(224, 224, 3)"
            ]
          },
          "metadata": {
            "tags": []
          },
          "execution_count": 8
        }
      ]
    },
    {
      "cell_type": "code",
      "metadata": {
        "id": "iETsMitDFzra"
      },
      "source": [
        "# Import dependencies\n",
        "import tensorflow as tf\n",
        "import tensorflow_hub as hub\n",
        "from tensorflow.keras import layers"
      ],
      "execution_count": 9,
      "outputs": []
    },
    {
      "cell_type": "code",
      "metadata": {
        "id": "2eEZofXQF_-y"
      },
      "source": [
        "# Let's make a create_model() function to create model from a URL\n",
        "def create_model(model_url, num_classes=10) :\n",
        "  \"\"\"\n",
        "  Take a tensorflow hub url and creates a Keras Sequential model with it.\n",
        "\n",
        "  Args:\n",
        "    model_url(str) : A TensorFlow Hub feature extraction URL.\n",
        "    num_classes(int) : Number of output neurons in the output layer,\n",
        "      should be equal to number of target classes, default to 10.\n",
        "  Returns :\n",
        "    An uncompiled Keras Sequential mdoel with model_url as feature extractor \n",
        "    layer and Dense output layer with num_classes output neurons.\n",
        "  \"\"\"\n",
        "\n",
        "  # Download the pretrained model and saves it as a Keras layer\n",
        "  feature_extractor_layer = hub.KerasLayer(model_url, \n",
        "                                           trainable=False, # freeze the already learned patterns\n",
        "                                           name=\"feature_extraction_layer\",\n",
        "                                           input_shape = IMG_SHAPE + (3, ))\n",
        "  \n",
        "  # Create our own model\n",
        "  model = tf.keras.Sequential([\n",
        "          feature_extractor_layer,\n",
        "          layers.Dense(num_classes, activation=\"softmax\", name=\"output_layer\")\n",
        "  ])\n",
        "\n",
        "  return model"
      ],
      "execution_count": 10,
      "outputs": []
    },
    {
      "cell_type": "markdown",
      "metadata": {
        "id": "CH9u-eknLJjq"
      },
      "source": [
        "### Creating and testing ResNet TensorFlow Hub Feature Extraction model"
      ]
    },
    {
      "cell_type": "code",
      "metadata": {
        "id": "4ICje2kpLBV-"
      },
      "source": [
        "# Create Resnet model\n",
        "resnet_model = create_model(resnet_url,\n",
        "                            num_classes=train_data_10_percent.num_classes)"
      ],
      "execution_count": 11,
      "outputs": []
    },
    {
      "cell_type": "code",
      "metadata": {
        "id": "MjDLKdi8MJU0"
      },
      "source": [
        "# Compile our resnet model\n",
        "resnet_model.compile(loss = \"categorical_crossentropy\",\n",
        "                      optimizer=tf.keras.optimizers.Adam(),\n",
        "                      metrics=[\"accuracy\"])"
      ],
      "execution_count": 12,
      "outputs": []
    },
    {
      "cell_type": "code",
      "metadata": {
        "id": "h7VZfO5vMhNe",
        "colab": {
          "base_uri": "https://localhost:8080/"
        },
        "outputId": "0d1b2cac-38be-4cae-e3d6-89e19d972ee2"
      },
      "source": [
        "resnet_model.summary()"
      ],
      "execution_count": 13,
      "outputs": [
        {
          "output_type": "stream",
          "text": [
            "Model: \"sequential\"\n",
            "_________________________________________________________________\n",
            "Layer (type)                 Output Shape              Param #   \n",
            "=================================================================\n",
            "feature_extraction_layer (Ke (None, 2048)              23564800  \n",
            "_________________________________________________________________\n",
            "output_layer (Dense)         (None, 10)                20490     \n",
            "=================================================================\n",
            "Total params: 23,585,290\n",
            "Trainable params: 20,490\n",
            "Non-trainable params: 23,564,800\n",
            "_________________________________________________________________\n"
          ],
          "name": "stdout"
        }
      ]
    },
    {
      "cell_type": "code",
      "metadata": {
        "colab": {
          "base_uri": "https://localhost:8080/"
        },
        "id": "6wEqVEL2P6bq",
        "outputId": "7992387d-8264-4ac1-95b9-ac59e754e5be"
      },
      "source": [
        "resnet_history = resnet_model.fit(train_data_10_percent, \n",
        "                                  epochs=5, \n",
        "                                  steps_per_epoch=len(train_data_10_percent),\n",
        "                                  validation_data=test_data,\n",
        "                                  validation_steps=len(test_data),\n",
        "                                  callbacks=[create_tensorboard_callback(dir_name=\"tensorflow_hub\",\n",
        "                                                                         experiment_name=\"resnet50V2\")])"
      ],
      "execution_count": 14,
      "outputs": [
        {
          "output_type": "stream",
          "text": [
            "Saving TensorBoard log file to: tensorflow_hub/resnet50V2/20210712-172448\n",
            "Epoch 1/5\n",
            "24/24 [==============================] - 51s 778ms/step - loss: 1.9144 - accuracy: 0.3693 - val_loss: 1.2284 - val_accuracy: 0.5968\n",
            "Epoch 2/5\n",
            "24/24 [==============================] - 15s 663ms/step - loss: 0.8876 - accuracy: 0.7440 - val_loss: 0.8769 - val_accuracy: 0.7156\n",
            "Epoch 3/5\n",
            "24/24 [==============================] - 15s 657ms/step - loss: 0.6157 - accuracy: 0.8427 - val_loss: 0.7736 - val_accuracy: 0.7408\n",
            "Epoch 4/5\n",
            "24/24 [==============================] - 15s 658ms/step - loss: 0.4669 - accuracy: 0.8880 - val_loss: 0.7126 - val_accuracy: 0.7632\n",
            "Epoch 5/5\n",
            "24/24 [==============================] - 16s 673ms/step - loss: 0.3742 - accuracy: 0.9053 - val_loss: 0.6759 - val_accuracy: 0.7720\n"
          ],
          "name": "stdout"
        }
      ]
    },
    {
      "cell_type": "markdown",
      "metadata": {
        "id": "lAa2o7LYQnKK"
      },
      "source": [
        "wow! \n",
        "\n",
        "That is incredible. Our transfer learning feature exxtractor mdoel out performed ALL of the previous models we built by hand... (substantially) and in a quicker training time AND with only 10% of the training examples.\n"
      ]
    },
    {
      "cell_type": "code",
      "metadata": {
        "id": "1fXvVrqpRwZB"
      },
      "source": [
        "# Let's create a function plot our loss curves...\n",
        "# Note: You could put a function lie this into a script called helper.py and import it when you need it...\n",
        "import matplotlib.pyplot as plt\n",
        "\n",
        "def plot_loss_curves(history) :\n",
        "  \"\"\"\n",
        "    Return separate loss curves for training and validation metrics...\n",
        "\n",
        "    Args :\n",
        "      history : TensorFlow History object.\n",
        "    Returns :\n",
        "      Plots of training/validation loss and accuracy metrics.\n",
        "  \"\"\"\n",
        "  loss = history.history[\"loss\"]\n",
        "  val_loss = history.history[\"val_loss\"]\n",
        "\n",
        "  accuracy = history.history[\"accuracy\"]\n",
        "  val_accuracy = history.history[\"val_accuracy\"]\n",
        "\n",
        "  epochs = range(len(history.history[\"loss\"])) # how many epochs we run for?\n",
        "\n",
        "  #Plot loss\n",
        "  plt.plot(epochs, loss, label=\"training_loss\")\n",
        "  plt.plot(epochs, val_loss, label=\"val_loss\")\n",
        "  plt.title(\"Loss\")\n",
        "  plt.xlabel(\"Epochs\")\n",
        "  plt.legend()\n",
        "\n",
        "  #Plot accuracy\n",
        "  plt.figure()\n",
        "  plt.plot(epochs, accuracy, label=\"training_accuracy\")\n",
        "  plt.plot(epochs, val_accuracy, label=\"test_accuracy\")\n",
        "  plt.title(\"Accuracy\")\n",
        "  plt.xlabel(\"Epochs\")\n",
        "  plt.legend()\n"
      ],
      "execution_count": 15,
      "outputs": []
    },
    {
      "cell_type": "code",
      "metadata": {
        "colab": {
          "base_uri": "https://localhost:8080/",
          "height": 573
        },
        "id": "8fHsf7O2UQiW",
        "outputId": "fcaf6d2a-aa47-4c56-98e3-f05c759f9355"
      },
      "source": [
        "plot_loss_curves(resnet_history)"
      ],
      "execution_count": 16,
      "outputs": [
        {
          "output_type": "display_data",
          "data": {
            "image/png": "[encoded data removed]",
            "text/plain": [
              "<Figure size 432x288 with 1 Axes>"
            ]
          },
          "metadata": {
            "tags": [],
            "needs_background": "light"
          }
        },
        {
          "output_type": "display_data",
          "data": {
            "image/png": "[encoded data removed]",
            "text/plain": [
              "<Figure size 432x288 with 1 Axes>"
            ]
          },
          "metadata": {
            "tags": [],
            "needs_background": "light"
          }
        }
      ]
    },
    {
      "cell_type": "code",
      "metadata": {
        "id": "bLQZnJ_1EMP2"
      },
      "source": [
        ""
      ],
      "execution_count": 16,
      "outputs": []
    },
    {
      "cell_type": "markdown",
      "metadata": {
        "id": "OB0HYp4RUmu_"
      },
      "source": [
        "### Creating and Testing EfficientNetB0 TensorFlow Hub Feature Extraction model"
      ]
    },
    {
      "cell_type": "code",
      "metadata": {
        "id": "cUSqlJeGUv5X"
      },
      "source": [
        "# Create EfficientNetB0 model\n",
        "# Details on EfficientNet https://ai.googleblog.com/2019/05/efficientnet-improving-accuracy-and.html\n",
        "efficientnet_model = create_model(efficientnet_url,\n",
        "                            num_classes=train_data_10_percent.num_classes)\n"
      ],
      "execution_count": 17,
      "outputs": []
    },
    {
      "cell_type": "code",
      "metadata": {
        "id": "73YvuYMRU1t1"
      },
      "source": [
        "# Compile the model\n",
        "efficientnet_model.compile(loss=\"categorical_crossentropy\",\n",
        "                           optimizer=tf.keras.optimizers.Adam(),\n",
        "                           metrics=[\"accuracy\"])\n"
      ],
      "execution_count": 18,
      "outputs": []
    },
    {
      "cell_type": "code",
      "metadata": {
        "colab": {
          "base_uri": "https://localhost:8080/"
        },
        "id": "KnDkZjqcVL3k",
        "outputId": "0210cd2e-b022-4465-fdcc-89a22b5bd627"
      },
      "source": [
        "efficientnet_model.summary()"
      ],
      "execution_count": 19,
      "outputs": [
        {
          "output_type": "stream",
          "text": [
            "Model: \"sequential_1\"\n",
            "_________________________________________________________________\n",
            "Layer (type)                 Output Shape              Param #   \n",
            "=================================================================\n",
            "feature_extraction_layer (Ke (None, 1280)              4049564   \n",
            "_________________________________________________________________\n",
            "output_layer (Dense)         (None, 10)                12810     \n",
            "=================================================================\n",
            "Total params: 4,062,374\n",
            "Trainable params: 12,810\n",
            "Non-trainable params: 4,049,564\n",
            "_________________________________________________________________\n"
          ],
          "name": "stdout"
        }
      ]
    },
    {
      "cell_type": "code",
      "metadata": {
        "colab": {
          "base_uri": "https://localhost:8080/"
        },
        "id": "2MjYSaAfVQ8I",
        "outputId": "94f76063-c7dc-4b5a-ec56-968e4260e41a"
      },
      "source": [
        "# Fit the efficientnet model \n",
        "efficientnet_history = efficientnet_model.fit(train_data_10_percent, \n",
        "                       epochs=5, \n",
        "                       steps_per_epoch=len(train_data_10_percent),\n",
        "                       validation_data= test_data,\n",
        "                       validation_steps=len(test_data),\n",
        "                       callbacks =[create_tensorboard_callback(dir_name=\"tensorflow_hub\",\n",
        "                                                               experiment_name=\"efficientnetb0\"\n",
        "                                                               )])\n"
      ],
      "execution_count": 20,
      "outputs": [
        {
          "output_type": "stream",
          "text": [
            "Saving TensorBoard log file to: tensorflow_hub/efficientnetb0/20210712-172656\n",
            "Epoch 1/5\n",
            "24/24 [==============================] - 26s 783ms/step - loss: 1.8083 - accuracy: 0.4560 - val_loss: 1.2560 - val_accuracy: 0.7452\n",
            "Epoch 2/5\n",
            "24/24 [==============================] - 15s 631ms/step - loss: 1.0263 - accuracy: 0.7733 - val_loss: 0.8522 - val_accuracy: 0.8124\n",
            "Epoch 3/5\n",
            "24/24 [==============================] - 15s 632ms/step - loss: 0.7368 - accuracy: 0.8360 - val_loss: 0.6907 - val_accuracy: 0.8364\n",
            "Epoch 4/5\n",
            "24/24 [==============================] - 15s 623ms/step - loss: 0.5951 - accuracy: 0.8800 - val_loss: 0.6042 - val_accuracy: 0.8516\n",
            "Epoch 5/5\n",
            "24/24 [==============================] - 15s 628ms/step - loss: 0.5081 - accuracy: 0.8893 - val_loss: 0.5521 - val_accuracy: 0.8604\n"
          ],
          "name": "stdout"
        }
      ]
    },
    {
      "cell_type": "code",
      "metadata": {
        "colab": {
          "base_uri": "https://localhost:8080/",
          "height": 573
        },
        "id": "dXPOlB0AZqV9",
        "outputId": "41873051-fe39-48b0-bd84-2f64f8b955e4"
      },
      "source": [
        "# Loss curve for Efficient Net 50\n",
        "plot_loss_curves(efficientnet_history)"
      ],
      "execution_count": 21,
      "outputs": [
        {
          "output_type": "display_data",
          "data": {
            "image/png": "[encoded data removed]",
            "text/plain": [
              "<Figure size 432x288 with 1 Axes>"
            ]
          },
          "metadata": {
            "tags": [],
            "needs_background": "light"
          }
        },
        {
          "output_type": "display_data",
          "data": {
            "image/png": "[encoded data removed]",
            "text/plain": [
              "<Figure size 432x288 with 1 Axes>"
            ]
          },
          "metadata": {
            "tags": [],
            "needs_background": "light"
          }
        }
      ]
    },
    {
      "cell_type": "code",
      "metadata": {
        "id": "vJRG9TX8FjJn",
        "outputId": "6a1b175c-9df7-42ae-b78f-58b79f625933",
        "colab": {
          "base_uri": "https://localhost:8080/"
        }
      },
      "source": [
        "# Check how many layers Efficientnetb0 feature extractor have?\n",
        "len(efficientnet_model.layers[0].weights)"
      ],
      "execution_count": 22,
      "outputs": [
        {
          "output_type": "execute_result",
          "data": {
            "text/plain": [
              "309"
            ]
          },
          "metadata": {
            "tags": []
          },
          "execution_count": 22
        }
      ]
    },
    {
      "cell_type": "markdown",
      "metadata": {
        "id": "UnXmsnmjEZLI"
      },
      "source": [
        "## Different types of Transfer Learning\n",
        "* **\"As is\"** transfer learning - using an existing model with no changes what so ever(e.g. using ImageNet model on 1000 ImageNet classes, none of your own)\n",
        "* **\"Feature Extraction\"**  transfer learning - use prelearned patterns of an existing model (e.g. EfficientNetB0 trained on ImageNet) and adjust the output layer for your own problem (e.g. 1000 classes -> 10 classes of food)\n",
        "* **\"Fine-tuning\"** transfer learning - use the prelearned patterns of an existing model and \"fine-tune\" many or all of the underlying layers(including new output layers)\n",
        "\n"
      ]
    },
    {
      "cell_type": "markdown",
      "metadata": {
        "id": "1XypkD6IxqWq"
      },
      "source": [
        "## Comparing our mdoel results using TensorBoard"
      ]
    }
  ]
}