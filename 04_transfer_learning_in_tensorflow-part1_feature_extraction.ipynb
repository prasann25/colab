{
  "nbformat": 4,
  "nbformat_minor": 0,
  "metadata": {
    "colab": {
      "name": "04_transfer_learning_in_tensorflow-part1_feature_extraction",
      "provenance": [],
      "authorship_tag": "ABX9TyMvY02IbvE92i3ErLBMQA7I",
      "include_colab_link": true
    },
    "kernelspec": {
      "name": "python3",
      "display_name": "Python 3"
    },
    "language_info": {
      "name": "python"
    },
    "accelerator": "GPU"
  },
  "cells": [
    {
      "cell_type": "markdown",
      "metadata": {
        "id": "view-in-github",
        "colab_type": "text"
      },
      "source": [
        "<a href=\"https://colab.research.google.com/github/prasann25/colab/blob/main/04_transfer_learning_in_tensorflow-part1_feature_extraction.ipynb\" target=\"_parent\"><img src=\"https://colab.research.google.com/assets/colab-badge.svg\" alt=\"Open In Colab\"/></a>"
      ]
    },
    {
      "cell_type": "markdown",
      "metadata": {
        "id": "-8fbclEDHYdu"
      },
      "source": [
        "# Transfer Learning With TensorFlow Part 1: Feature Extraction\n",
        "\n",
        "Transfer learning is leveraging a working model's existing architecture and learned patterns for our own problem.\n",
        "\n",
        "There are 2 main benefits :\n",
        "1. Can leverage an existing neural network architecture proven to work on problems similar to our own.\n",
        "2. Can leverage a working neural network architecture which has already learned patterns on similar data to our own, then we can adapt those patterns to our own data."
      ]
    },
    {
      "cell_type": "code",
      "metadata": {
        "id": "YiA99SJeMTgT",
        "colab": {
          "base_uri": "https://localhost:8080/"
        },
        "outputId": "fdce4f5d-2d08-4590-ab79-160285033b26"
      },
      "source": [
        "# Are we using a GPU?\n",
        "!nvidia-smi"
      ],
      "execution_count": 1,
      "outputs": [
        {
          "output_type": "stream",
          "text": [
            "Mon Jul 12 00:08:22 2021       \n",
            "+-----------------------------------------------------------------------------+\n",
            "| NVIDIA-SMI 470.42.01    Driver Version: 460.32.03    CUDA Version: 11.2     |\n",
            "|-------------------------------+----------------------+----------------------+\n",
            "| GPU  Name        Persistence-M| Bus-Id        Disp.A | Volatile Uncorr. ECC |\n",
            "| Fan  Temp  Perf  Pwr:Usage/Cap|         Memory-Usage | GPU-Util  Compute M. |\n",
            "|                               |                      |               MIG M. |\n",
            "|===============================+======================+======================|\n",
            "|   0  Tesla T4            Off  | 00000000:00:04.0 Off |                    0 |\n",
            "| N/A   64C    P8    11W /  70W |      0MiB / 15109MiB |      0%      Default |\n",
            "|                               |                      |                  N/A |\n",
            "+-------------------------------+----------------------+----------------------+\n",
            "                                                                               \n",
            "+-----------------------------------------------------------------------------+\n",
            "| Processes:                                                                  |\n",
            "|  GPU   GI   CI        PID   Type   Process name                  GPU Memory |\n",
            "|        ID   ID                                                   Usage      |\n",
            "|=============================================================================|\n",
            "|  No running processes found                                                 |\n",
            "+-----------------------------------------------------------------------------+\n"
          ],
          "name": "stdout"
        }
      ]
    },
    {
      "cell_type": "markdown",
      "metadata": {
        "id": "LYc6mAweNIXr"
      },
      "source": [
        "## Downloading and becoming one with the data"
      ]
    },
    {
      "cell_type": "code",
      "metadata": {
        "id": "yUP2rR88NUza",
        "colab": {
          "base_uri": "https://localhost:8080/"
        },
        "outputId": "017306d4-2bc4-4336-bf07-ce42ad113d1d"
      },
      "source": [
        "# Get data(10% of food classes from Food101) https://www.kaggle.com/dansbecker/food-101\n",
        "import zipfile\n",
        "\n",
        "#Download the data\n",
        "!wget https://storage.googleapis.com/ztm_tf_course/food_vision/10_food_classes_10_percent.zip\n",
        "\n",
        "# Unzip the downloaded file\n",
        "zip_ref = zipfile.ZipFile(\"10_food_classes_10_percent.zip\")\n",
        "zip_ref.extractall()\n",
        "zip_ref.close()\n"
      ],
      "execution_count": 2,
      "outputs": [
        {
          "output_type": "stream",
          "text": [
            "--2021-07-12 00:08:22--  https://storage.googleapis.com/ztm_tf_course/food_vision/10_food_classes_10_percent.zip\n",
            "Resolving storage.googleapis.com (storage.googleapis.com)... 173.194.203.128, 74.125.199.128, 74.125.20.128, ...\n",
            "Connecting to storage.googleapis.com (storage.googleapis.com)|173.194.203.128|:443... connected.\n",
            "HTTP request sent, awaiting response... 200 OK\n",
            "Length: 168546183 (161M) [application/zip]\n",
            "Saving to: ‘10_food_classes_10_percent.zip’\n",
            "\n",
            "10_food_classes_10_ 100%[===================>] 160.74M   185MB/s    in 0.9s    \n",
            "\n",
            "2021-07-12 00:08:23 (185 MB/s) - ‘10_food_classes_10_percent.zip’ saved [168546183/168546183]\n",
            "\n"
          ],
          "name": "stdout"
        }
      ]
    },
    {
      "cell_type": "code",
      "metadata": {
        "id": "tXY2RrNbN6AS",
        "colab": {
          "base_uri": "https://localhost:8080/"
        },
        "outputId": "bee6d4ce-2741-418c-dbe8-0493d82dff22"
      },
      "source": [
        "# How many images in each folder\n",
        "import os\n",
        "\n",
        "# Walk through 10 percent data directory and list number of files\n",
        "for dirpath, dirnames, filenames in os.walk(\"10_food_classes_10_percent\") :\n",
        "  print(f\"There are {len(dirnames)} directories and {len(filenames)} images in '{dirpath}'.'\")"
      ],
      "execution_count": 3,
      "outputs": [
        {
          "output_type": "stream",
          "text": [
            "There are 2 directories and 0 images in '10_food_classes_10_percent'.'\n",
            "There are 10 directories and 0 images in '10_food_classes_10_percent/test'.'\n",
            "There are 0 directories and 250 images in '10_food_classes_10_percent/test/ramen'.'\n",
            "There are 0 directories and 250 images in '10_food_classes_10_percent/test/sushi'.'\n",
            "There are 0 directories and 250 images in '10_food_classes_10_percent/test/ice_cream'.'\n",
            "There are 0 directories and 250 images in '10_food_classes_10_percent/test/steak'.'\n",
            "There are 0 directories and 250 images in '10_food_classes_10_percent/test/grilled_salmon'.'\n",
            "There are 0 directories and 250 images in '10_food_classes_10_percent/test/hamburger'.'\n",
            "There are 0 directories and 250 images in '10_food_classes_10_percent/test/pizza'.'\n",
            "There are 0 directories and 250 images in '10_food_classes_10_percent/test/chicken_curry'.'\n",
            "There are 0 directories and 250 images in '10_food_classes_10_percent/test/chicken_wings'.'\n",
            "There are 0 directories and 250 images in '10_food_classes_10_percent/test/fried_rice'.'\n",
            "There are 10 directories and 0 images in '10_food_classes_10_percent/train'.'\n",
            "There are 0 directories and 75 images in '10_food_classes_10_percent/train/ramen'.'\n",
            "There are 0 directories and 75 images in '10_food_classes_10_percent/train/sushi'.'\n",
            "There are 0 directories and 75 images in '10_food_classes_10_percent/train/ice_cream'.'\n",
            "There are 0 directories and 75 images in '10_food_classes_10_percent/train/steak'.'\n",
            "There are 0 directories and 75 images in '10_food_classes_10_percent/train/grilled_salmon'.'\n",
            "There are 0 directories and 75 images in '10_food_classes_10_percent/train/hamburger'.'\n",
            "There are 0 directories and 75 images in '10_food_classes_10_percent/train/pizza'.'\n",
            "There are 0 directories and 75 images in '10_food_classes_10_percent/train/chicken_curry'.'\n",
            "There are 0 directories and 75 images in '10_food_classes_10_percent/train/chicken_wings'.'\n",
            "There are 0 directories and 75 images in '10_food_classes_10_percent/train/fried_rice'.'\n"
          ],
          "name": "stdout"
        }
      ]
    },
    {
      "cell_type": "markdown",
      "metadata": {
        "id": "osxnr7GI8BtK"
      },
      "source": [
        "## Creating data loaders(preparing the data)\n",
        "We'll use the `ImageDataGenerator` class to load in out images in batches."
      ]
    },
    {
      "cell_type": "code",
      "metadata": {
        "colab": {
          "base_uri": "https://localhost:8080/"
        },
        "id": "GBIAJU-i8eIt",
        "outputId": "3efd6c0f-6228-4e81-8e37-87f7dce2f1d1"
      },
      "source": [
        "# Setup data inputs\n",
        "from tensorflow.keras.preprocessing.image import ImageDataGenerator\n",
        "\n",
        "IMG_SHAPE=(224, 224)\n",
        "BATCH_SIZE=32\n",
        "\n",
        "train_dir = \"10_food_classes_10_percent/train/\"\n",
        "test_dir = \"10_food_classes_10_percent/test/\"\n",
        "\n",
        "train_datagen = ImageDataGenerator(rescale = 1/255.)\n",
        "test_datagen  = ImageDataGenerator(rescale=1/255.)\n",
        "\n",
        "print(\"Training images:\")\n",
        "train_data_10_percent = train_datagen.flow_from_directory(train_dir, \n",
        "                                                          target_size=IMG_SHAPE,\n",
        "                                                          batch_size=BATCH_SIZE,\n",
        "                                                          class_mode=\"categorical\")\n",
        "print(\"Testing images:\")\n",
        "test_data = test_datagen.flow_from_directory(test_dir,\n",
        "                                                        target_size=IMG_SHAPE,\n",
        "                                                        batch_size=BATCH_SIZE,\n",
        "                                                        class_mode=\"categorical\")\n",
        "\n",
        "\n",
        "\n"
      ],
      "execution_count": 4,
      "outputs": [
        {
          "output_type": "stream",
          "text": [
            "Training images:\n",
            "Found 750 images belonging to 10 classes.\n",
            "Testing images:\n",
            "Found 2500 images belonging to 10 classes.\n"
          ],
          "name": "stdout"
        }
      ]
    },
    {
      "cell_type": "code",
      "metadata": {
        "colab": {
          "base_uri": "https://localhost:8080/"
        },
        "id": "AWMEnZ859nmm",
        "outputId": "922706d6-5f19-4e70-e147-e016f6115a35"
      },
      "source": [
        "len(train_data_10_percent), len(test_data)"
      ],
      "execution_count": 5,
      "outputs": [
        {
          "output_type": "execute_result",
          "data": {
            "text/plain": [
              "(24, 79)"
            ]
          },
          "metadata": {
            "tags": []
          },
          "execution_count": 5
        }
      ]
    },
    {
      "cell_type": "markdown",
      "metadata": {
        "id": "MUTeYdAd93zW"
      },
      "source": [
        "## Setting up callbacks (things to run whilst our model trains)\n",
        "\n",
        "Callbacks are extra functionality you can add to your models to be performed during or after training. Some of the most popular callbacks :\n",
        "* Tracking experiments with the TensorBoard callback\n",
        "* Model checkpoint with the ModelCheckpoint callback\n",
        "* Stopping a model from training( before it trains too long and overfits) with the EarlyStopping callback"
      ]
    },
    {
      "cell_type": "code",
      "metadata": {
        "id": "oH_LmB8m-WYl"
      },
      "source": [
        "# Create TensorBoard callback (functionized becaused we need to create a new one for each model)\n",
        "\n",
        "import datetime\n",
        "\n",
        "def create_tensorboard_callback(dir_name, experiment_name) :\n",
        "  log_dir = dir_name + \"/\" + experiment_name + \"/\" + datetime.datetime.now().strftime(\"%Y&m&d-%H%M%S\")\n",
        "  tensorboard_callback = tf.keras.callback.TensorBoard(log_dir=log_dir)\n",
        "  print(f\"Saving TensorBoard log file to: {log_dir}\")\n",
        "  return tensorboard_callback"
      ],
      "execution_count": 6,
      "outputs": []
    },
    {
      "cell_type": "markdown",
      "metadata": {
        "id": "cmMvFp8wsbID"
      },
      "source": [
        "## Creating Models using TensorFlow Hub\n",
        "\n",
        "In the past we'v e used TensorFlow to create our own models layer by layer from scratch.\n",
        "\n",
        "Now we're going to do a similar process, except the majority of our model's layers are going to come from TensorFlow Hub.\n",
        "We can access pre-trained models on [https://www.tensorflow.org/hub](https://www.tensorflow.org/hub)\n",
        "\n",
        "\n",
        "Research paper on which architecture is performing well on different classfication models\n",
        "[https://paperswithcode.com](https://paperswithcode.com/)\n",
        "\n",
        "https://paperswithcode.com/task/image-classification\n",
        "\n",
        "Browsing the TensorFlow Hub page and sorting for image classification, we found the following vector model link : https://tfhub.dev/tensorflow/efficientnet/b0/feature-vector/1\n",
        "\n"
      ]
    },
    {
      "cell_type": "code",
      "metadata": {
        "id": "wORatJCtDNEo"
      },
      "source": [
        "# Let's compare the following two models\n",
        "resnet_url = \"https://tfhub.dev/google/imagenet/resnet_v2_50/feature_vector/5\"\n",
        "\n",
        "efficientnet_url = \"https://tfhub.dev/tensorflow/efficientnet/b0/feature-vector/1\"\n"
      ],
      "execution_count": 8,
      "outputs": []
    },
    {
      "cell_type": "code",
      "metadata": {
        "id": "Oh_cAIMDHpyn",
        "outputId": "17a567ee-c1ce-4da6-b601-458a73346d2e",
        "colab": {
          "base_uri": "https://localhost:8080/"
        }
      },
      "source": [
        "IMG_SHAPE + (3,)"
      ],
      "execution_count": 12,
      "outputs": [
        {
          "output_type": "execute_result",
          "data": {
            "text/plain": [
              "(224, 224, 3)"
            ]
          },
          "metadata": {
            "tags": []
          },
          "execution_count": 12
        }
      ]
    },
    {
      "cell_type": "code",
      "metadata": {
        "id": "iETsMitDFzra"
      },
      "source": [
        "# Import dependencies\n",
        "import tensorflow as tf\n",
        "import tensorflow_hub as hub\n",
        "from tensorflow.keras import layers"
      ],
      "execution_count": 10,
      "outputs": []
    },
    {
      "cell_type": "code",
      "metadata": {
        "id": "2eEZofXQF_-y"
      },
      "source": [
        "# Let's make a create_model() function to create model from a URL\n",
        "def create_model(model_url, num_classes=10) :\n",
        "  \"\"\"\n",
        "  Take a tensorflow hub url and creates a Keras Sequential model with it.\n",
        "\n",
        "  Args:\n",
        "    model_url(str) : A TensorFlow Hub feature extraction URL.\n",
        "    num_classes(int) : Number of output neurons in the output layer,\n",
        "      should be equal to number of target classes, default to 10.\n",
        "  Returns :\n",
        "    An uncompiled Keras Sequential mdoel with model_url as feature extractor \n",
        "    layer and Dense output layer with num_classes output neurons.\n",
        "  \"\"\"\n",
        "\n",
        "  # Download the pretrained model and saves it as a Keras layer\n",
        "  feature_extractor_layer = hub.KerasLayer(model_url, \n",
        "                                           trainable=False, # freeze the already learned patterns\n",
        "                                           name=\"feature_extraction_layer\",\n",
        "                                           input_shape = IMG_SHAPE + (3, ))\n",
        "  \n",
        "  # Create our own model\n",
        "  model = tf.keras.Sequential([\n",
        "          feature_extractor_layer,\n",
        "          layers.Dense(num_classes, activation=\"softmax\", name=\"output_layer\")\n",
        "  ])\n",
        "\n",
        "  return model"
      ],
      "execution_count": 21,
      "outputs": []
    },
    {
      "cell_type": "markdown",
      "metadata": {
        "id": "CH9u-eknLJjq"
      },
      "source": [
        "### Creating and testing ResNet TensorFlow Hub Feature Extraction model"
      ]
    },
    {
      "cell_type": "code",
      "metadata": {
        "id": "4ICje2kpLBV-"
      },
      "source": [
        "# Create Resnet model\n",
        "resnet_model = create_model(resnet_url,\n",
        "                            num_classes=train_data_10_percent.num_classes)"
      ],
      "execution_count": 22,
      "outputs": []
    },
    {
      "cell_type": "code",
      "metadata": {
        "id": "MjDLKdi8MJU0"
      },
      "source": [
        "# Compile our resnet model\n",
        "resnet_model.compile(loss = \"categorical_crossentropy\",\n",
        "                      optimizer=tf.keras.optimizers.Adam(),\n",
        "                      metrics=[\"accuracy\"])"
      ],
      "execution_count": 26,
      "outputs": []
    },
    {
      "cell_type": "code",
      "metadata": {
        "id": "h7VZfO5vMhNe",
        "outputId": "902b3f1a-74b9-478f-e1af-e59157f2975b",
        "colab": {
          "base_uri": "https://localhost:8080/"
        }
      },
      "source": [
        "resnet_model.summary()"
      ],
      "execution_count": 27,
      "outputs": [
        {
          "output_type": "stream",
          "text": [
            "Model: \"sequential_2\"\n",
            "_________________________________________________________________\n",
            "Layer (type)                 Output Shape              Param #   \n",
            "=================================================================\n",
            "feature_extraction_layer (Ke (None, 2048)              23564800  \n",
            "_________________________________________________________________\n",
            "output_layer (Dense)         (None, 10)                20490     \n",
            "=================================================================\n",
            "Total params: 23,585,290\n",
            "Trainable params: 20,490\n",
            "Non-trainable params: 23,564,800\n",
            "_________________________________________________________________\n"
          ],
          "name": "stdout"
        }
      ]
    }
  ]
}