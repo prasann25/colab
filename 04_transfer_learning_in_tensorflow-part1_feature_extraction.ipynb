{
  "nbformat": 4,
  "nbformat_minor": 0,
  "metadata": {
    "colab": {
      "name": "04_transfer_learning_in_tensorflow-part1_feature_extraction",
      "provenance": [],
      "authorship_tag": "ABX9TyMKjfsEeAlZDLmFuiV0WPhb",
      "include_colab_link": true
    },
    "kernelspec": {
      "name": "python3",
      "display_name": "Python 3"
    },
    "language_info": {
      "name": "python"
    },
    "accelerator": "GPU"
  },
  "cells": [
    {
      "cell_type": "markdown",
      "metadata": {
        "id": "view-in-github",
        "colab_type": "text"
      },
      "source": [
        "<a href=\"https://colab.research.google.com/github/prasann25/colab/blob/main/04_transfer_learning_in_tensorflow-part1_feature_extraction.ipynb\" target=\"_parent\"><img src=\"https://colab.research.google.com/assets/colab-badge.svg\" alt=\"Open In Colab\"/></a>"
      ]
    },
    {
      "cell_type": "markdown",
      "metadata": {
        "id": "-8fbclEDHYdu"
      },
      "source": [
        "# Transfer Learning With TensorFlow Part 1: Feature Extraction\n",
        "\n",
        "Transfer learning is leveraging a working model's existing architecture and learned patterns for our own problem.\n",
        "\n",
        "There are 2 main benefits :\n",
        "1. Can leverage an existing neural network architecture proven to work on problems similar to our own.\n",
        "2. Can leverage a working neural network architecture which has already learned patterns on similar data to our own, then we can adapt those patterns to our own data."
      ]
    },
    {
      "cell_type": "code",
      "metadata": {
        "id": "YiA99SJeMTgT",
        "colab": {
          "base_uri": "https://localhost:8080/"
        },
        "outputId": "0cb94211-7ce6-4f88-d061-443d73661b1b"
      },
      "source": [
        "# Are we using a GPU?\n",
        "!nvidia-smi"
      ],
      "execution_count": 1,
      "outputs": [
        {
          "output_type": "stream",
          "text": [
            "Fri Jul  9 15:20:14 2021       \n",
            "+-----------------------------------------------------------------------------+\n",
            "| NVIDIA-SMI 470.42.01    Driver Version: 460.32.03    CUDA Version: 11.2     |\n",
            "|-------------------------------+----------------------+----------------------+\n",
            "| GPU  Name        Persistence-M| Bus-Id        Disp.A | Volatile Uncorr. ECC |\n",
            "| Fan  Temp  Perf  Pwr:Usage/Cap|         Memory-Usage | GPU-Util  Compute M. |\n",
            "|                               |                      |               MIG M. |\n",
            "|===============================+======================+======================|\n",
            "|   0  Tesla T4            Off  | 00000000:00:04.0 Off |                    0 |\n",
            "| N/A   59C    P8    11W /  70W |      0MiB / 15109MiB |      0%      Default |\n",
            "|                               |                      |                  N/A |\n",
            "+-------------------------------+----------------------+----------------------+\n",
            "                                                                               \n",
            "+-----------------------------------------------------------------------------+\n",
            "| Processes:                                                                  |\n",
            "|  GPU   GI   CI        PID   Type   Process name                  GPU Memory |\n",
            "|        ID   ID                                                   Usage      |\n",
            "|=============================================================================|\n",
            "|  No running processes found                                                 |\n",
            "+-----------------------------------------------------------------------------+\n"
          ],
          "name": "stdout"
        }
      ]
    },
    {
      "cell_type": "markdown",
      "metadata": {
        "id": "LYc6mAweNIXr"
      },
      "source": [
        "## Downloading and becoming one with the data"
      ]
    },
    {
      "cell_type": "code",
      "metadata": {
        "id": "yUP2rR88NUza",
        "colab": {
          "base_uri": "https://localhost:8080/"
        },
        "outputId": "25cc5e7b-c8e4-4521-fe4a-e1fe23c44f07"
      },
      "source": [
        "# Get data(10% of food classes from Food101) https://www.kaggle.com/dansbecker/food-101\n",
        "import zipfile\n",
        "\n",
        "#Download the data\n",
        "!wget https://storage.googleapis.com/ztm_tf_course/food_vision/10_food_classes_10_percent.zip\n",
        "\n",
        "# Unzip the downloaded file\n",
        "zip_ref = zipfile.ZipFile(\"10_food_classes_10_percent.zip\")\n",
        "zip_ref.extractall()\n",
        "zip_ref.close()\n"
      ],
      "execution_count": 2,
      "outputs": [
        {
          "output_type": "stream",
          "text": [
            "--2021-07-09 15:20:14--  https://storage.googleapis.com/ztm_tf_course/food_vision/10_food_classes_10_percent.zip\n",
            "Resolving storage.googleapis.com (storage.googleapis.com)... 172.253.122.128, 172.253.63.128, 142.250.31.128, ...\n",
            "Connecting to storage.googleapis.com (storage.googleapis.com)|172.253.122.128|:443... connected.\n",
            "HTTP request sent, awaiting response... 200 OK\n",
            "Length: 168546183 (161M) [application/zip]\n",
            "Saving to: ‘10_food_classes_10_percent.zip’\n",
            "\n",
            "10_food_classes_10_ 100%[===================>] 160.74M   162MB/s    in 1.0s    \n",
            "\n",
            "2021-07-09 15:20:15 (162 MB/s) - ‘10_food_classes_10_percent.zip’ saved [168546183/168546183]\n",
            "\n"
          ],
          "name": "stdout"
        }
      ]
    },
    {
      "cell_type": "code",
      "metadata": {
        "id": "tXY2RrNbN6AS",
        "outputId": "7c1c1aa6-51c7-40d8-ee8f-0fd698d4025c",
        "colab": {
          "base_uri": "https://localhost:8080/"
        }
      },
      "source": [
        "# How many images in each folder\n",
        "import os\n",
        "\n",
        "# Walk through 10 percent data directory and list number of files\n",
        "for dirpath, dirnames, filenames in os.walk(\"10_food_classes_10_percent\") :\n",
        "  print(f\"There are {len(dirnames)} directories and {len(filenames)} images in '{dirpath}'.'\")"
      ],
      "execution_count": 4,
      "outputs": [
        {
          "output_type": "stream",
          "text": [
            "There are 2 directories and 0 images in '10_food_classes_10_percent'.'\n",
            "There are 10 directories and 0 images in '10_food_classes_10_percent/train'.'\n",
            "There are 0 directories and 75 images in '10_food_classes_10_percent/train/chicken_curry'.'\n",
            "There are 0 directories and 75 images in '10_food_classes_10_percent/train/ramen'.'\n",
            "There are 0 directories and 75 images in '10_food_classes_10_percent/train/sushi'.'\n",
            "There are 0 directories and 75 images in '10_food_classes_10_percent/train/pizza'.'\n",
            "There are 0 directories and 75 images in '10_food_classes_10_percent/train/fried_rice'.'\n",
            "There are 0 directories and 75 images in '10_food_classes_10_percent/train/grilled_salmon'.'\n",
            "There are 0 directories and 75 images in '10_food_classes_10_percent/train/hamburger'.'\n",
            "There are 0 directories and 75 images in '10_food_classes_10_percent/train/ice_cream'.'\n",
            "There are 0 directories and 75 images in '10_food_classes_10_percent/train/steak'.'\n",
            "There are 0 directories and 75 images in '10_food_classes_10_percent/train/chicken_wings'.'\n",
            "There are 10 directories and 0 images in '10_food_classes_10_percent/test'.'\n",
            "There are 0 directories and 250 images in '10_food_classes_10_percent/test/chicken_curry'.'\n",
            "There are 0 directories and 250 images in '10_food_classes_10_percent/test/ramen'.'\n",
            "There are 0 directories and 250 images in '10_food_classes_10_percent/test/sushi'.'\n",
            "There are 0 directories and 250 images in '10_food_classes_10_percent/test/pizza'.'\n",
            "There are 0 directories and 250 images in '10_food_classes_10_percent/test/fried_rice'.'\n",
            "There are 0 directories and 250 images in '10_food_classes_10_percent/test/grilled_salmon'.'\n",
            "There are 0 directories and 250 images in '10_food_classes_10_percent/test/hamburger'.'\n",
            "There are 0 directories and 250 images in '10_food_classes_10_percent/test/ice_cream'.'\n",
            "There are 0 directories and 250 images in '10_food_classes_10_percent/test/steak'.'\n",
            "There are 0 directories and 250 images in '10_food_classes_10_percent/test/chicken_wings'.'\n"
          ],
          "name": "stdout"
        }
      ]
    },
    {
      "cell_type": "markdown",
      "metadata": {
        "id": "osxnr7GI8BtK"
      },
      "source": [
        "## Creating data loaders(preparing the data)\n",
        "We'll use the `ImageDataGenerator` class to load in out images in batches."
      ]
    },
    {
      "cell_type": "code",
      "metadata": {
        "id": "GBIAJU-i8eIt",
        "outputId": "bbf1a05d-76f4-4603-b954-a248742e0b32",
        "colab": {
          "base_uri": "https://localhost:8080/"
        }
      },
      "source": [
        "# Setup data inputs\n",
        "from tensorflow.keras.preprocessing.image import ImageDataGenerator\n",
        "\n",
        "IMG_SHAPE=(224, 224)\n",
        "BATCH_SIZE=32\n",
        "\n",
        "train_dir = \"10_food_classes_10_percent/train/\"\n",
        "test_dir = \"10_food_classes_10_percent/test/\"\n",
        "\n",
        "train_datagen = ImageDataGenerator(rescale = 1/255.)\n",
        "test_datagen  = ImageDataGenerator(rescale=1/255.)\n",
        "\n",
        "print(\"Training images:\")\n",
        "train_data_10_percent = train_datagen.flow_from_directory(train_dir, \n",
        "                                                          target_size=IMG_SHAPE,\n",
        "                                                          batch_size=BATCH_SIZE,\n",
        "                                                          class_mode=\"categorical\")\n",
        "print(\"Testing images:\")\n",
        "test_data = test_datagen.flow_from_directory(test_dir,\n",
        "                                                        target_size=IMG_SHAPE,\n",
        "                                                        batch_size=BATCH_SIZE,\n",
        "                                                        class_mode=\"categorical\")\n",
        "\n",
        "\n",
        "\n"
      ],
      "execution_count": 7,
      "outputs": [
        {
          "output_type": "stream",
          "text": [
            "Training images:\n",
            "Found 750 images belonging to 10 classes.\n",
            "Testing images:\n",
            "Found 2500 images belonging to 10 classes.\n"
          ],
          "name": "stdout"
        }
      ]
    },
    {
      "cell_type": "code",
      "metadata": {
        "id": "AWMEnZ859nmm",
        "outputId": "144663eb-5e12-4f91-cd73-60078a811c30",
        "colab": {
          "base_uri": "https://localhost:8080/"
        }
      },
      "source": [
        "len(train_data_10_percent), len(test_data)"
      ],
      "execution_count": 8,
      "outputs": [
        {
          "output_type": "execute_result",
          "data": {
            "text/plain": [
              "(24, 79)"
            ]
          },
          "metadata": {
            "tags": []
          },
          "execution_count": 8
        }
      ]
    }
  ]
}