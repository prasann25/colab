{
  "nbformat": 4,
  "nbformat_minor": 0,
  "metadata": {
    "colab": {
      "name": "10_time_series_forecasting_with_tensorflow_milestone_proj3_bitpredict",
      "provenance": [],
      "include_colab_link": true
    },
    "kernelspec": {
      "name": "python3",
      "display_name": "Python 3"
    },
    "language_info": {
      "name": "python"
    },
    "accelerator": "GPU"
  },
  "cells": [
    {
      "cell_type": "markdown",
      "metadata": {
        "id": "view-in-github",
        "colab_type": "text"
      },
      "source": [
        "<a href=\"https://colab.research.google.com/github/prasann25/colab/blob/main/10_time_series_forecasting_with_tensorflow_milestone_proj3_bitpredict.ipynb\" target=\"_parent\"><img src=\"https://colab.research.google.com/assets/colab-badge.svg\" alt=\"Open In Colab\"/></a>"
      ]
    },
    {
      "cell_type": "markdown",
      "metadata": {
        "id": "-8fbclEDHYdu"
      },
      "source": [
        "#Time series forecasting fundamentals with TensorFlow + Milestone Project 3 : BitPredict\n",
        "\n",
        "Let's write some TensorFlow code to predict the price of Bitcoin based on the historical price of Bitcoin.\n",
        "\n",
        "**Note** : This is not a financial advice.\n",
        "\n",
        "Links to understand some practical references:-\n",
        "* All resources : https://github.com/mrdbourke/tensorflow-deep-learning\n",
        "\n",
        "* https://dev.mrdbourke.com/tensorflow-deep-learning/\n",
        "\n",
        "* https://eng.uber.com/forecasting-introduction/"
      ]
    },
    {
      "cell_type": "markdown",
      "metadata": {
        "id": "D38ymGfJyu6X"
      },
      "source": [
        "## Get data\n",
        "\n",
        "We're going to be using the historical price data of Bitcoin to try and predict the future price of Bitcoin, we downloaded the data from here :\n",
        "https://www.coindesk.com/price/bitcoin"
      ]
    },
    {
      "cell_type": "code",
      "metadata": {
        "colab": {
          "base_uri": "https://localhost:8080/"
        },
        "id": "pXzwwRs31NcH",
        "outputId": "51f5449e-6bb8-460d-d9f0-56d5512fa288"
      },
      "source": [
        "!nvidia-smi -L"
      ],
      "execution_count": 1,
      "outputs": [
        {
          "output_type": "stream",
          "text": [
            "GPU 0: Tesla P4 (UUID: GPU-a3e5d299-2bb6-d469-ed16-6255fb0461fa)\n"
          ],
          "name": "stdout"
        }
      ]
    },
    {
      "cell_type": "code",
      "metadata": {
        "colab": {
          "base_uri": "https://localhost:8080/"
        },
        "id": "BJrmbW190k5V",
        "outputId": "7121c7cc-00d5-4ab5-83c0-c4e196f96d8f"
      },
      "source": [
        "!wget https://raw.githubusercontent.com/mrdbourke/tensorflow-deep-learning/main/extras/BTC_USD_2013-10-01_2021-05-18-CoinDesk.csv"
      ],
      "execution_count": 2,
      "outputs": [
        {
          "output_type": "stream",
          "text": [
            "--2021-08-25 01:22:52--  https://raw.githubusercontent.com/mrdbourke/tensorflow-deep-learning/main/extras/BTC_USD_2013-10-01_2021-05-18-CoinDesk.csv\n",
            "Resolving raw.githubusercontent.com (raw.githubusercontent.com)... 185.199.108.133, 185.199.109.133, 185.199.110.133, ...\n",
            "Connecting to raw.githubusercontent.com (raw.githubusercontent.com)|185.199.108.133|:443... connected.\n",
            "HTTP request sent, awaiting response... 200 OK\n",
            "Length: 178509 (174K) [text/plain]\n",
            "Saving to: ‘BTC_USD_2013-10-01_2021-05-18-CoinDesk.csv’\n",
            "\n",
            "BTC_USD_2013-10-01_ 100%[===================>] 174.33K  --.-KB/s    in 0.02s   \n",
            "\n",
            "2021-08-25 01:22:53 (7.16 MB/s) - ‘BTC_USD_2013-10-01_2021-05-18-CoinDesk.csv’ saved [178509/178509]\n",
            "\n"
          ],
          "name": "stdout"
        }
      ]
    },
    {
      "cell_type": "markdown",
      "metadata": {
        "id": "mNq5PW4X0u5x"
      },
      "source": [
        "## Importing time series with pandas"
      ]
    },
    {
      "cell_type": "code",
      "metadata": {
        "colab": {
          "base_uri": "https://localhost:8080/",
          "height": 235
        },
        "id": "nfT8dF9j1XEE",
        "outputId": "d2fdaf1e-8be7-4800-b97c-04a532dea0db"
      },
      "source": [
        "# Import with pandas\n",
        "import pandas as pd\n",
        "# Let's read in our Bitcoin data and parse the dates\n",
        "df = pd.read_csv(\"/content/BTC_USD_2013-10-01_2021-05-18-CoinDesk.csv\",\n",
        "                 parse_dates=[\"Date\"],\n",
        "                 index_col=[\"Date\"]) # parse the date column and tell pandas column 1 is a datetime\n",
        "df.head()"
      ],
      "execution_count": 3,
      "outputs": [
        {
          "output_type": "execute_result",
          "data": {
            "text/html": [
              "<div>\n",
              "<style scoped>\n",
              "    .dataframe tbody tr th:only-of-type {\n",
              "        vertical-align: middle;\n",
              "    }\n",
              "\n",
              "    .dataframe tbody tr th {\n",
              "        vertical-align: top;\n",
              "    }\n",
              "\n",
              "    .dataframe thead th {\n",
              "        text-align: right;\n",
              "    }\n",
              "</style>\n",
              "<table border=\"1\" class=\"dataframe\">\n",
              "  <thead>\n",
              "    <tr style=\"text-align: right;\">\n",
              "      <th></th>\n",
              "      <th>Currency</th>\n",
              "      <th>Closing Price (USD)</th>\n",
              "      <th>24h Open (USD)</th>\n",
              "      <th>24h High (USD)</th>\n",
              "      <th>24h Low (USD)</th>\n",
              "    </tr>\n",
              "    <tr>\n",
              "      <th>Date</th>\n",
              "      <th></th>\n",
              "      <th></th>\n",
              "      <th></th>\n",
              "      <th></th>\n",
              "      <th></th>\n",
              "    </tr>\n",
              "  </thead>\n",
              "  <tbody>\n",
              "    <tr>\n",
              "      <th>2013-10-01</th>\n",
              "      <td>BTC</td>\n",
              "      <td>123.65499</td>\n",
              "      <td>124.30466</td>\n",
              "      <td>124.75166</td>\n",
              "      <td>122.56349</td>\n",
              "    </tr>\n",
              "    <tr>\n",
              "      <th>2013-10-02</th>\n",
              "      <td>BTC</td>\n",
              "      <td>125.45500</td>\n",
              "      <td>123.65499</td>\n",
              "      <td>125.75850</td>\n",
              "      <td>123.63383</td>\n",
              "    </tr>\n",
              "    <tr>\n",
              "      <th>2013-10-03</th>\n",
              "      <td>BTC</td>\n",
              "      <td>108.58483</td>\n",
              "      <td>125.45500</td>\n",
              "      <td>125.66566</td>\n",
              "      <td>83.32833</td>\n",
              "    </tr>\n",
              "    <tr>\n",
              "      <th>2013-10-04</th>\n",
              "      <td>BTC</td>\n",
              "      <td>118.67466</td>\n",
              "      <td>108.58483</td>\n",
              "      <td>118.67500</td>\n",
              "      <td>107.05816</td>\n",
              "    </tr>\n",
              "    <tr>\n",
              "      <th>2013-10-05</th>\n",
              "      <td>BTC</td>\n",
              "      <td>121.33866</td>\n",
              "      <td>118.67466</td>\n",
              "      <td>121.93633</td>\n",
              "      <td>118.00566</td>\n",
              "    </tr>\n",
              "  </tbody>\n",
              "</table>\n",
              "</div>"
            ],
            "text/plain": [
              "           Currency  Closing Price (USD)  ...  24h High (USD)  24h Low (USD)\n",
              "Date                                      ...                               \n",
              "2013-10-01      BTC            123.65499  ...       124.75166      122.56349\n",
              "2013-10-02      BTC            125.45500  ...       125.75850      123.63383\n",
              "2013-10-03      BTC            108.58483  ...       125.66566       83.32833\n",
              "2013-10-04      BTC            118.67466  ...       118.67500      107.05816\n",
              "2013-10-05      BTC            121.33866  ...       121.93633      118.00566\n",
              "\n",
              "[5 rows x 5 columns]"
            ]
          },
          "metadata": {},
          "execution_count": 3
        }
      ]
    },
    {
      "cell_type": "code",
      "metadata": {
        "colab": {
          "base_uri": "https://localhost:8080/"
        },
        "id": "vhvyZjLs2SqM",
        "outputId": "940a5064-a235-4faf-800c-1e87196a8c50"
      },
      "source": [
        "df.info()"
      ],
      "execution_count": 4,
      "outputs": [
        {
          "output_type": "stream",
          "text": [
            "<class 'pandas.core.frame.DataFrame'>\n",
            "DatetimeIndex: 2787 entries, 2013-10-01 to 2021-05-18\n",
            "Data columns (total 5 columns):\n",
            " #   Column               Non-Null Count  Dtype  \n",
            "---  ------               --------------  -----  \n",
            " 0   Currency             2787 non-null   object \n",
            " 1   Closing Price (USD)  2787 non-null   float64\n",
            " 2   24h Open (USD)       2787 non-null   float64\n",
            " 3   24h High (USD)       2787 non-null   float64\n",
            " 4   24h Low (USD)        2787 non-null   float64\n",
            "dtypes: float64(4), object(1)\n",
            "memory usage: 130.6+ KB\n"
          ],
          "name": "stdout"
        }
      ]
    },
    {
      "cell_type": "code",
      "metadata": {
        "colab": {
          "base_uri": "https://localhost:8080/"
        },
        "id": "3Idb-62L2W5e",
        "outputId": "f5c2aaac-ab9b-4902-f085-58bf216bc25a"
      },
      "source": [
        "# How many samples do we have ?\n",
        "len(df)"
      ],
      "execution_count": 5,
      "outputs": [
        {
          "output_type": "execute_result",
          "data": {
            "text/plain": [
              "2787"
            ]
          },
          "metadata": {},
          "execution_count": 5
        }
      ]
    },
    {
      "cell_type": "code",
      "metadata": {
        "colab": {
          "base_uri": "https://localhost:8080/",
          "height": 235
        },
        "id": "zkGYWQXQ4jZw",
        "outputId": "3d97c3e0-4e5b-42d5-ca2c-b465d9a4b819"
      },
      "source": [
        "df.tail()"
      ],
      "execution_count": 6,
      "outputs": [
        {
          "output_type": "execute_result",
          "data": {
            "text/html": [
              "<div>\n",
              "<style scoped>\n",
              "    .dataframe tbody tr th:only-of-type {\n",
              "        vertical-align: middle;\n",
              "    }\n",
              "\n",
              "    .dataframe tbody tr th {\n",
              "        vertical-align: top;\n",
              "    }\n",
              "\n",
              "    .dataframe thead th {\n",
              "        text-align: right;\n",
              "    }\n",
              "</style>\n",
              "<table border=\"1\" class=\"dataframe\">\n",
              "  <thead>\n",
              "    <tr style=\"text-align: right;\">\n",
              "      <th></th>\n",
              "      <th>Currency</th>\n",
              "      <th>Closing Price (USD)</th>\n",
              "      <th>24h Open (USD)</th>\n",
              "      <th>24h High (USD)</th>\n",
              "      <th>24h Low (USD)</th>\n",
              "    </tr>\n",
              "    <tr>\n",
              "      <th>Date</th>\n",
              "      <th></th>\n",
              "      <th></th>\n",
              "      <th></th>\n",
              "      <th></th>\n",
              "      <th></th>\n",
              "    </tr>\n",
              "  </thead>\n",
              "  <tbody>\n",
              "    <tr>\n",
              "      <th>2021-05-14</th>\n",
              "      <td>BTC</td>\n",
              "      <td>49764.132082</td>\n",
              "      <td>49596.778891</td>\n",
              "      <td>51448.798576</td>\n",
              "      <td>46294.720180</td>\n",
              "    </tr>\n",
              "    <tr>\n",
              "      <th>2021-05-15</th>\n",
              "      <td>BTC</td>\n",
              "      <td>50032.693137</td>\n",
              "      <td>49717.354353</td>\n",
              "      <td>51578.312545</td>\n",
              "      <td>48944.346536</td>\n",
              "    </tr>\n",
              "    <tr>\n",
              "      <th>2021-05-16</th>\n",
              "      <td>BTC</td>\n",
              "      <td>47885.625255</td>\n",
              "      <td>49926.035067</td>\n",
              "      <td>50690.802950</td>\n",
              "      <td>47005.102292</td>\n",
              "    </tr>\n",
              "    <tr>\n",
              "      <th>2021-05-17</th>\n",
              "      <td>BTC</td>\n",
              "      <td>45604.615754</td>\n",
              "      <td>46805.537852</td>\n",
              "      <td>49670.414174</td>\n",
              "      <td>43868.638969</td>\n",
              "    </tr>\n",
              "    <tr>\n",
              "      <th>2021-05-18</th>\n",
              "      <td>BTC</td>\n",
              "      <td>43144.471291</td>\n",
              "      <td>46439.336570</td>\n",
              "      <td>46622.853437</td>\n",
              "      <td>42102.346430</td>\n",
              "    </tr>\n",
              "  </tbody>\n",
              "</table>\n",
              "</div>"
            ],
            "text/plain": [
              "           Currency  Closing Price (USD)  ...  24h High (USD)  24h Low (USD)\n",
              "Date                                      ...                               \n",
              "2021-05-14      BTC         49764.132082  ...    51448.798576   46294.720180\n",
              "2021-05-15      BTC         50032.693137  ...    51578.312545   48944.346536\n",
              "2021-05-16      BTC         47885.625255  ...    50690.802950   47005.102292\n",
              "2021-05-17      BTC         45604.615754  ...    49670.414174   43868.638969\n",
              "2021-05-18      BTC         43144.471291  ...    46622.853437   42102.346430\n",
              "\n",
              "[5 rows x 5 columns]"
            ]
          },
          "metadata": {},
          "execution_count": 6
        }
      ]
    },
    {
      "cell_type": "markdown",
      "metadata": {
        "id": "JVX56RZt4y_B"
      },
      "source": [
        "We've collected the historical price of Bitcoin for the past ~8 years but there's 2787 samples.\n",
        "\n",
        "Typically deep learning models usually like lots and lots and lots of samples (where lots and lots and lots can thousands to tens of thousands to millions)\n",
        "\n",
        "A smaller number of samples is something you'll often run into with time series data problems.\n",
        "\n",
        "> **Note** : The **seasonality** of a time series dataset is referred as the number of samples per year. So for our Bitcoin data, it has a seasonality of daily or value of 365 because we collect one samples per dat meaning we'll get 365 samples per year."
      ]
    },
    {
      "cell_type": "code",
      "metadata": {
        "colab": {
          "base_uri": "https://localhost:8080/",
          "height": 235
        },
        "id": "PxlCEtuU4lHq",
        "outputId": "786c67ae-ad56-4d60-a971-af49ef0e0b78"
      },
      "source": [
        "# Only want closing price for each day\n",
        "bitcoin_prices = pd.DataFrame(df[\"Closing Price (USD)\"]).rename(columns={\"Closing Price (USD)\" : \"Price\"})\n",
        "bitcoin_prices.head()"
      ],
      "execution_count": 7,
      "outputs": [
        {
          "output_type": "execute_result",
          "data": {
            "text/html": [
              "<div>\n",
              "<style scoped>\n",
              "    .dataframe tbody tr th:only-of-type {\n",
              "        vertical-align: middle;\n",
              "    }\n",
              "\n",
              "    .dataframe tbody tr th {\n",
              "        vertical-align: top;\n",
              "    }\n",
              "\n",
              "    .dataframe thead th {\n",
              "        text-align: right;\n",
              "    }\n",
              "</style>\n",
              "<table border=\"1\" class=\"dataframe\">\n",
              "  <thead>\n",
              "    <tr style=\"text-align: right;\">\n",
              "      <th></th>\n",
              "      <th>Price</th>\n",
              "    </tr>\n",
              "    <tr>\n",
              "      <th>Date</th>\n",
              "      <th></th>\n",
              "    </tr>\n",
              "  </thead>\n",
              "  <tbody>\n",
              "    <tr>\n",
              "      <th>2013-10-01</th>\n",
              "      <td>123.65499</td>\n",
              "    </tr>\n",
              "    <tr>\n",
              "      <th>2013-10-02</th>\n",
              "      <td>125.45500</td>\n",
              "    </tr>\n",
              "    <tr>\n",
              "      <th>2013-10-03</th>\n",
              "      <td>108.58483</td>\n",
              "    </tr>\n",
              "    <tr>\n",
              "      <th>2013-10-04</th>\n",
              "      <td>118.67466</td>\n",
              "    </tr>\n",
              "    <tr>\n",
              "      <th>2013-10-05</th>\n",
              "      <td>121.33866</td>\n",
              "    </tr>\n",
              "  </tbody>\n",
              "</table>\n",
              "</div>"
            ],
            "text/plain": [
              "                Price\n",
              "Date                 \n",
              "2013-10-01  123.65499\n",
              "2013-10-02  125.45500\n",
              "2013-10-03  108.58483\n",
              "2013-10-04  118.67466\n",
              "2013-10-05  121.33866"
            ]
          },
          "metadata": {},
          "execution_count": 7
        }
      ]
    },
    {
      "cell_type": "code",
      "metadata": {
        "colab": {
          "base_uri": "https://localhost:8080/",
          "height": 460
        },
        "id": "ClsnM1Pc8dL5",
        "outputId": "c7393ac1-2441-4b2f-ee9c-4d8793580222"
      },
      "source": [
        "import matplotlib.pyplot as plt\n",
        "bitcoin_prices.plot(figsize=(10, 7))\n",
        "plt.ylabel(\"BTC Price\")\n",
        "plt.title(\"Price of Bitcoin from 1 Oct 2013 to 18 May 2021\", fontsize=16)\n",
        "plt.legend(fontsize=14);"
      ],
      "execution_count": 8,
      "outputs": [
        {
          "output_type": "display_data",
          "data": {
            "image/png": "[encoded data removed]",
            "text/plain": [
              "<Figure size 720x504 with 1 Axes>"
            ]
          },
          "metadata": {
            "needs_background": "light"
          }
        }
      ]
    },
    {
      "cell_type": "markdown",
      "metadata": {
        "id": "gHKZEYW_9yXw"
      },
      "source": [
        "## Importing time series data with Python's CSV module"
      ]
    },
    {
      "cell_type": "code",
      "metadata": {
        "id": "hy8Zr7pa5P4R"
      },
      "source": [
        "# Importing and formatting historical Bitcoin data with Python\n",
        "import csv\n",
        "from datetime import datetime\n",
        "\n",
        "timesteps = []\n",
        "btc_price = []\n",
        "with open(\"/content/BTC_USD_2013-10-01_2021-05-18-CoinDesk.csv\", \"r\") as f :\n",
        "  csv_reader = csv.reader(f, delimiter=\",\")\n",
        "  next(csv_reader) # skip first line (this gets rid of the column titles)\n",
        "  for line in csv_reader :\n",
        "    timesteps.append(datetime.strptime(line[1], \"%Y-%m-%d\")) # get the dates as dates (not string)\n",
        "    btc_price.append(float(line[2])) # Get closing price as float"
      ],
      "execution_count": 9,
      "outputs": []
    },
    {
      "cell_type": "code",
      "metadata": {
        "colab": {
          "base_uri": "https://localhost:8080/"
        },
        "id": "HdfX5d1i_A_O",
        "outputId": "538d4187-10f8-4ac8-d612-3595572dddb3"
      },
      "source": [
        "timesteps [:10], btc_price[:10]"
      ],
      "execution_count": 10,
      "outputs": [
        {
          "output_type": "execute_result",
          "data": {
            "text/plain": [
              "([datetime.datetime(2013, 10, 1, 0, 0),\n",
              "  datetime.datetime(2013, 10, 2, 0, 0),\n",
              "  datetime.datetime(2013, 10, 3, 0, 0),\n",
              "  datetime.datetime(2013, 10, 4, 0, 0),\n",
              "  datetime.datetime(2013, 10, 5, 0, 0),\n",
              "  datetime.datetime(2013, 10, 6, 0, 0),\n",
              "  datetime.datetime(2013, 10, 7, 0, 0),\n",
              "  datetime.datetime(2013, 10, 8, 0, 0),\n",
              "  datetime.datetime(2013, 10, 9, 0, 0),\n",
              "  datetime.datetime(2013, 10, 10, 0, 0)],\n",
              " [123.65499,\n",
              "  125.455,\n",
              "  108.58483,\n",
              "  118.67466,\n",
              "  121.33866,\n",
              "  120.65533,\n",
              "  121.795,\n",
              "  123.033,\n",
              "  124.049,\n",
              "  125.96116])"
            ]
          },
          "metadata": {},
          "execution_count": 10
        }
      ]
    },
    {
      "cell_type": "code",
      "metadata": {
        "colab": {
          "base_uri": "https://localhost:8080/",
          "height": 460
        },
        "id": "Tukv4MdN_qKY",
        "outputId": "2a8fbc54-d219-4768-a93a-a2569558c028"
      },
      "source": [
        "# Plot from CSV\n",
        "import matplotlib.pyplot as plt\n",
        "#import numpy as np\n",
        "plt.figure(figsize=(10, 7))\n",
        "plt.plot(timesteps, btc_price)\n",
        "plt.ylabel(\"BTC Price\")\n",
        "plt.title(\"Price of Bitcoin from from 1 Oct 2013 to 18 May 2021\", fontsize=16)\n",
        "plt.xlabel(\"Date\");\n",
        "#plt.legend(fontsize=14);"
      ],
      "execution_count": 11,
      "outputs": [
        {
          "output_type": "display_data",
          "data": {
            "image/png": "[encoded data removed]",
            "text/plain": [
              "<Figure size 720x504 with 1 Axes>"
            ]
          },
          "metadata": {
            "needs_background": "light"
          }
        }
      ]
    },
    {
      "cell_type": "markdown",
      "metadata": {
        "id": "SDy-iHVDASAm"
      },
      "source": [
        "## Format data part 1 : Create train and test sets of our time series data"
      ]
    },
    {
      "cell_type": "markdown",
      "metadata": {
        "id": "DOwjtktJAimn"
      },
      "source": [
        "### Creating train and test sets with time series data ( the wrong way)"
      ]
    },
    {
      "cell_type": "code",
      "metadata": {
        "colab": {
          "base_uri": "https://localhost:8080/"
        },
        "id": "jSxeZ1BWAnDv",
        "outputId": "55a17c03-c529-4074-bc68-c93dc6f327f7"
      },
      "source": [
        "# Get bitcoin date array\n",
        "timesteps = bitcoin_prices.index.to_numpy()\n",
        "prices = bitcoin_prices[\"Price\"].to_numpy()\n",
        "\n",
        "timesteps[:10], prices[:10]"
      ],
      "execution_count": 12,
      "outputs": [
        {
          "output_type": "execute_result",
          "data": {
            "text/plain": [
              "(array(['2013-10-01T00:00:00.000000000', '2013-10-02T00:00:00.000000000',\n",
              "        '2013-10-03T00:00:00.000000000', '2013-10-04T00:00:00.000000000',\n",
              "        '2013-10-05T00:00:00.000000000', '2013-10-06T00:00:00.000000000',\n",
              "        '2013-10-07T00:00:00.000000000', '2013-10-08T00:00:00.000000000',\n",
              "        '2013-10-09T00:00:00.000000000', '2013-10-10T00:00:00.000000000'],\n",
              "       dtype='datetime64[ns]'),\n",
              " array([123.65499, 125.455  , 108.58483, 118.67466, 121.33866, 120.65533,\n",
              "        121.795  , 123.033  , 124.049  , 125.96116]))"
            ]
          },
          "metadata": {},
          "execution_count": 12
        }
      ]
    },
    {
      "cell_type": "code",
      "metadata": {
        "colab": {
          "base_uri": "https://localhost:8080/"
        },
        "id": "_IKBhVucBF19",
        "outputId": "e4270eb6-1ffc-466d-f8a0-f47c4a43c309"
      },
      "source": [
        "# Wrong way to make train/test sets for time series data\n",
        "from sklearn.model_selection import train_test_split\n",
        "\n",
        "X_train, X_test, y_train, y_test = train_test_split(timesteps, # dates\n",
        "                                                    prices, # BTC prices\n",
        "                                                    test_size=0.2,\n",
        "                                                    random_state=42)\n",
        "\n",
        "X_train.shape, X_test.shape, y_train.shape, y_test.shape"
      ],
      "execution_count": 13,
      "outputs": [
        {
          "output_type": "execute_result",
          "data": {
            "text/plain": [
              "((2229,), (558,), (2229,), (558,))"
            ]
          },
          "metadata": {},
          "execution_count": 13
        }
      ]
    },
    {
      "cell_type": "code",
      "metadata": {
        "colab": {
          "base_uri": "https://localhost:8080/",
          "height": 442
        },
        "id": "H6eV_KkACSdS",
        "outputId": "9182885f-e459-458a-a010-3fe5f2a91279"
      },
      "source": [
        "# Let's plot wrong train and test split\n",
        "plt.figure(figsize=(10, 7))\n",
        "plt.scatter(X_train, y_train, s=5, label=\"Train data\")\n",
        "plt.scatter(X_test, y_test, s=5, label=\"Test data\")\n",
        "plt.xlabel(\"Date\")\n",
        "plt.ylabel(\"BTC Price\")\n",
        "plt.legend(fontsize=14)\n",
        "plt.show();"
      ],
      "execution_count": 14,
      "outputs": [
        {
          "output_type": "display_data",
          "data": {
            "image/png": "[encoded data removed]",
            "text/plain": [
              "<Figure size 720x504 with 1 Axes>"
            ]
          },
          "metadata": {
            "needs_background": "light"
          }
        }
      ]
    },
    {
      "cell_type": "markdown",
      "metadata": {
        "id": "-fHwyNfGC3qk"
      },
      "source": [
        "### Create train and test sets for time series (the right away)"
      ]
    },
    {
      "cell_type": "code",
      "metadata": {
        "colab": {
          "base_uri": "https://localhost:8080/"
        },
        "id": "KrpLNsHFDo_7",
        "outputId": "7bddb287-5202-4564-8f34-8a0ff8bc8800"
      },
      "source": [
        "# Right way to create train/test sets for time series data\n",
        "split_size = int(0.8 * len(prices)) # 80% train, 20% test - you cna change these value as needed e.g  90/10, 95/5\n",
        "\n",
        "# Create train data splits(everything before the split)\n",
        "X_train, y_train = timesteps[ : split_size], prices[ : split_size]\n",
        "\n",
        "# Create test data splits (everything after the split)\n",
        "X_test, y_test = timesteps[split_size : ], prices[split_size : ]\n",
        "\n",
        "len(X_train), len(X_test), len(y_train), len(y_test)"
      ],
      "execution_count": 15,
      "outputs": [
        {
          "output_type": "execute_result",
          "data": {
            "text/plain": [
              "(2229, 558, 2229, 558)"
            ]
          },
          "metadata": {},
          "execution_count": 15
        }
      ]
    },
    {
      "cell_type": "code",
      "metadata": {
        "colab": {
          "base_uri": "https://localhost:8080/",
          "height": 442
        },
        "id": "IaC_9SuTFH7Q",
        "outputId": "abd4743b-7342-4ae0-b860-f526fc5ebb4b"
      },
      "source": [
        "# Plot correctly made train and test data\n",
        "plt.figure(figsize=(10, 7))\n",
        "plt.scatter(X_train, y_train, s=5 , label=\"Train data\")\n",
        "plt.scatter(X_test, y_test, s= 5, label=\"Test data\")\n",
        "plt.xlabel(\"Date\")\n",
        "plt.ylabel(\"BTC Price\")\n",
        "plt.legend(fontsize=14)\n",
        "plt.show();"
      ],
      "execution_count": 16,
      "outputs": [
        {
          "output_type": "display_data",
          "data": {
            "image/png": "[encoded data removed]",
            "text/plain": [
              "<Figure size 720x504 with 1 Axes>"
            ]
          },
          "metadata": {
            "needs_background": "light"
          }
        }
      ]
    },
    {
      "cell_type": "markdown",
      "metadata": {
        "id": "4gHF1omSFwGO"
      },
      "source": [
        "## Creating a plotting function\n",
        "\n",
        "Typing plotting function is tedious , let's functionalize it."
      ]
    },
    {
      "cell_type": "code",
      "metadata": {
        "id": "YsRuH73kHtKs"
      },
      "source": [
        "# Create a function to plot time series data\n",
        "def plot_time_series(timesteps, values, format=\".\", start=0, end=None, label=None) :\n",
        "  \"\"\"\n",
        "  Plots timesteps ( a series of points in time) against values (a series of value across timesteps).\n",
        "  \n",
        "  Parameters\n",
        "  ----------\n",
        "  timesteps : array of timestep values\n",
        "  values : array of values across time\n",
        "  format : style of plot, default \".\"\n",
        "  start : where to start the plot (setting a value wil index from start of timestamp & values)\n",
        "  end : where to end the plot(similar to start but for the end)\n",
        "  label : label to show on plot about values, default None\n",
        "  \"\"\"\n",
        "\n",
        "  # Plot the series\n",
        "  plt.plot(timesteps[start:end], values[start:end], format, label=label)\n",
        "  plt.xlabel(\"Time\")\n",
        "  plt.ylabel(\"BTC Price\")\n",
        "  if label :\n",
        "    plt.legend(fontsize = 14) # make label bigger\n",
        "  plt.grid(True)\n",
        "\n"
      ],
      "execution_count": 17,
      "outputs": []
    },
    {
      "cell_type": "code",
      "metadata": {
        "colab": {
          "base_uri": "https://localhost:8080/",
          "height": 442
        },
        "id": "NO76SdYLKVIU",
        "outputId": "8eb6f565-62a8-45fc-8fbe-0255008aec73"
      },
      "source": [
        "# Test our plotting function\n",
        "plt.figure(figsize=(10, 7))\n",
        "plot_time_series(timesteps = X_train, values=y_train, label=\"Train data\")\n",
        "plot_time_series(timesteps=X_test, values=y_test, label=\"Test data\")"
      ],
      "execution_count": 18,
      "outputs": [
        {
          "output_type": "display_data",
          "data": {
            "image/png": "[encoded data removed]",
            "text/plain": [
              "<Figure size 720x504 with 1 Axes>"
            ]
          },
          "metadata": {
            "needs_background": "light"
          }
        }
      ]
    },
    {
      "cell_type": "markdown",
      "metadata": {
        "id": "p6dZxLb3UPwu"
      },
      "source": [
        "## Modelling Experiments\n",
        "\n",
        "We've got some Bitcoin historical data, to model it, let's run a series of modelling experiments and see which model performs best.\n",
        "\n",
        "Terms to be familiar with :\n",
        "* **Horizon** = number of timesteps into the future we're going to predict\n",
        "* Window size = number of timesteps we're going to use to predict **horizon**\n",
        "\n",
        "Modelling experiments we're running :-\n",
        "* 0\tNaïve model (baseline)\n",
        "* 1\tDense model,\thorizon = 1, window = 7\n",
        "* 2\tSame as 1,\thorizon = 1, window =\t30\n",
        "* 3\tSame as 1,\thorizon = 7, window =\t30\n",
        "* 4\tConv1D\n",
        "* 5\tLSTM\n",
        "* 6\tSame as 1 (but with multivariate data)\n",
        "* 7\tN-BEATs Algorithm\n",
        "* 8\tEnsemble (multiple models optimized on different loss functions)\n",
        "* 9\tFuture prediction model (model to predict future values)\n",
        "* 10\tSame as 1 (but with turkey 🦃 data introduced)"
      ]
    },
    {
      "cell_type": "markdown",
      "metadata": {
        "id": "ISWxO6xtK-PK"
      },
      "source": [
        "## Model 9 : Naive forecast(baseline)\n",
        "\n",
        "The formula looks like this :\n",
        "$$\\hat{y}_{t} = y_{t-1}$$\n",
        "\n",
        "In English :\n",
        "> The prediction at timestep t (y-hat) is equal to the value at timestamp t-1 (previous timestep) this is for a horizon of 1.\n",
        "\n",
        "References : https://otexts.com/fpp3/simple-methods.html"
      ]
    },
    {
      "cell_type": "code",
      "metadata": {
        "id": "KfqtXAVObgJl",
        "colab": {
          "base_uri": "https://localhost:8080/"
        },
        "outputId": "9f516823-0b03-493b-cf20-6ea44079dc74"
      },
      "source": [
        "y_test[:10]"
      ],
      "execution_count": 19,
      "outputs": [
        {
          "output_type": "execute_result",
          "data": {
            "text/plain": [
              "array([9226.48582088, 8794.35864452, 8798.04205463, 9081.18687849,\n",
              "       8711.53433917, 8760.89271814, 8749.52059102, 8656.97092235,\n",
              "       8500.64355816, 8469.2608989 ])"
            ]
          },
          "metadata": {},
          "execution_count": 19
        }
      ]
    },
    {
      "cell_type": "code",
      "metadata": {
        "id": "UzT7HJT5Zm9I",
        "colab": {
          "base_uri": "https://localhost:8080/"
        },
        "outputId": "8583bf63-620f-4500-f36a-2d29b89ef8f7"
      },
      "source": [
        "# Create a naive forecast\n",
        "naive_forecast = y_test[:-1]\n",
        "\n",
        "naive_forecast[:10], naive_forecast[-10:]"
      ],
      "execution_count": 20,
      "outputs": [
        {
          "output_type": "execute_result",
          "data": {
            "text/plain": [
              "(array([9226.48582088, 8794.35864452, 8798.04205463, 9081.18687849,\n",
              "        8711.53433917, 8760.89271814, 8749.52059102, 8656.97092235,\n",
              "        8500.64355816, 8469.2608989 ]),\n",
              " array([57107.12067189, 58788.20967893, 58102.19142623, 55715.54665129,\n",
              "        56573.5554719 , 52147.82118698, 49764.1320816 , 50032.69313676,\n",
              "        47885.62525472, 45604.61575361]))"
            ]
          },
          "metadata": {},
          "execution_count": 20
        }
      ]
    },
    {
      "cell_type": "code",
      "metadata": {
        "id": "oqPIv6H8c6TN",
        "colab": {
          "base_uri": "https://localhost:8080/"
        },
        "outputId": "17f47358-ce0f-4bbe-9954-9a5b82b0b003"
      },
      "source": [
        "len(y_test), len(naive_forecast), y_test[-10:], naive_forecast[-10:]"
      ],
      "execution_count": 21,
      "outputs": [
        {
          "output_type": "execute_result",
          "data": {
            "text/plain": [
              "(558,\n",
              " 557,\n",
              " array([58788.20967893, 58102.19142623, 55715.54665129, 56573.5554719 ,\n",
              "        52147.82118698, 49764.1320816 , 50032.69313676, 47885.62525472,\n",
              "        45604.61575361, 43144.47129086]),\n",
              " array([57107.12067189, 58788.20967893, 58102.19142623, 55715.54665129,\n",
              "        56573.5554719 , 52147.82118698, 49764.1320816 , 50032.69313676,\n",
              "        47885.62525472, 45604.61575361]))"
            ]
          },
          "metadata": {},
          "execution_count": 21
        }
      ]
    },
    {
      "cell_type": "code",
      "metadata": {
        "id": "yxZ9aFaXhUbc",
        "colab": {
          "base_uri": "https://localhost:8080/",
          "height": 442
        },
        "outputId": "6b9815d9-4a5d-4bf1-9d4f-9f7e85c775cf"
      },
      "source": [
        "plt.figure(figsize=(10, 7))\n",
        "\n",
        "#plot_time_series(timesteps=X_train, values=y_train, label=\"Train data\")\n",
        "plot_time_series(timesteps=X_test, values=y_test, start=350, format=\"-\", label=\"Test data\")\n",
        "plot_time_series(timesteps=X_test[1:], values=naive_forecast, start=350, format=\"-\", label=\"Naive Forecast\")"
      ],
      "execution_count": 22,
      "outputs": [
        {
          "output_type": "display_data",
          "data": {
            "image/png": "[encoded data removed]",
            "text/plain": [
              "<Figure size 720x504 with 1 Axes>"
            ]
          },
          "metadata": {
            "needs_background": "light"
          }
        }
      ]
    },
    {
      "cell_type": "markdown",
      "metadata": {
        "id": "QKDgsx-nfhcA"
      },
      "source": [
        "> **Exercise** : Spend 10 minutes reading the simple forecasts chapter of Forecasting: Principles in Practice. And have a search to find out the naive forecast is hard to beat, does the term auto-regressive comes up?\n",
        " https://otexts.com/fpp3/simple-methods.html"
      ]
    },
    {
      "cell_type": "markdown",
      "metadata": {
        "id": "pIM1BBhmgJJh"
      },
      "source": [
        "## Evaluating a time series model\n",
        "\n",
        "Let's look into some evaluation metrics for time series forecasting.\n",
        "\n",
        "What are we doing?\n",
        "\n",
        "We're predicting a number, so that means we have a form of a regression problem.\n",
        "\n",
        "Because we're working on a regression problem, we'll need some regression-like metrics.\n",
        "\n",
        "A few common regression metrics (which can also be used for time series forecasting) :\n",
        "* MAE - mean absolute error\n",
        "* MSE - mean squared error\n",
        "* RMSE - root mean square error\n",
        "* MAPE/sMAPE - (symmetric) mean absolute percentage error\n",
        "* MASE - mean absolute scaled error\n",
        "\n",
        "For all of the above metrics , **lower is better**, for example , an MAE of 0 that is better than an MAE of 100.\n",
        "\n",
        "The main thing we're evaluating here is : **how do our model's forecast(y_pred) compare against the actual values(y_true or ground truth values) ?**\n",
        "\n",
        "\n",
        "> **Resources** For a deeper dive on the various kinds of time series forecasting methods, see, please refer to 5.8 on the book https://otexts.com/fpp3/accuracy.html#accuracy"
      ]
    },
    {
      "cell_type": "code",
      "metadata": {
        "id": "n8fVqrQjhym7"
      },
      "source": [
        "import tensorflow as tf\n"
      ],
      "execution_count": 23,
      "outputs": []
    },
    {
      "cell_type": "code",
      "metadata": {
        "id": "kIlDYE8Glglf"
      },
      "source": [
        "# MASE implementation \n",
        "def mean_absolute_scaled_error(y_true, y_pred) :\n",
        "  \"\"\"\n",
        "  Implement MASE (assuming no seasonality of data).\n",
        "  \"\"\"\n",
        "  # For future forecast experiments, \n",
        "  #if the function mean_absolute_scaled_error returns > 1 , means its worse than Naive forecast\n",
        "  # if < 1, means its better than 1.\n",
        "  mae = tf.reduce_mean(tf.abs(y_true-y_pred))\n",
        "\n",
        "  # Find MAE of naive forecast(no seasonality)\n",
        "  mae_naive_no_season = tf.reduce_mean(tf.abs(y_true[1:] - y_true[:-1])) # our seasonlity is 1 day (hence the shift of 1)\n",
        "\n",
        "  return mae / mae_naive_no_season"
      ],
      "execution_count": 24,
      "outputs": []
    },
    {
      "cell_type": "code",
      "metadata": {
        "colab": {
          "base_uri": "https://localhost:8080/"
        },
        "id": "etrtsdW7pxSh",
        "outputId": "fb0ec306-5eeb-4b23-ded0-56284e011518"
      },
      "source": [
        "# Evaluating our naive forecast baseline, it should return 1\n",
        "mean_absolute_scaled_error(y_true = y_test[1:],\n",
        "                           y_pred = naive_forecast).numpy()"
      ],
      "execution_count": 25,
      "outputs": [
        {
          "output_type": "execute_result",
          "data": {
            "text/plain": [
              "0.9995699939182624"
            ]
          },
          "metadata": {},
          "execution_count": 25
        }
      ]
    },
    {
      "cell_type": "markdown",
      "metadata": {
        "id": "erZXSRybqKwa"
      },
      "source": [
        "## Create Evaluation metrics"
      ]
    },
    {
      "cell_type": "code",
      "metadata": {
        "id": "1gFu0_oKqmt9"
      },
      "source": [
        "# Create a function to take in model predictions and truth value and return eveluation metrics\n",
        "\n",
        "def evaluate_preds(y_true, y_pred) :\n",
        "  \"\"\"\n",
        "  Compute all evaluation metrics\n",
        "  Returns :\n",
        "  dictionary with all evaluation metrics values\n",
        "  \"\"\"\n",
        "  # Make sure float32 datatype (for metric calculations)\n",
        "  y_true = tf.cast(y_true, dtype=tf.float32)\n",
        "  y_pred = tf.cast(y_pred, tf.float32)\n",
        "\n",
        "  # Calculate various evaluation metrics\n",
        "  mae = tf.keras.metrics.mean_absolute_error(y_true, y_pred)\n",
        "  mse = tf.keras.metrics.mean_squared_error(y_true, y_pred)\n",
        "  rmse = tf.sqrt(mse)\n",
        "  mape = tf.keras.metrics.mean_absolute_percentage_error(y_true, y_pred)\n",
        "  mase = mean_absolute_scaled_error(y_true, y_pred)\n",
        "\n",
        "  return {\n",
        "      \"mae\" : mae.numpy(),\n",
        "      \"mse\": mse.numpy(),\n",
        "      \"rmse\" : rmse.numpy(),\n",
        "      \"mape\" : mape.numpy(),\n",
        "      \"mase\": mase.numpy()}"
      ],
      "execution_count": 26,
      "outputs": []
    },
    {
      "cell_type": "markdown",
      "metadata": {
        "id": "Rc7MVA-tt7ZH"
      },
      "source": [
        "That's one good looking evaluation function !\n",
        "Let's now see if it works..."
      ]
    },
    {
      "cell_type": "code",
      "metadata": {
        "colab": {
          "base_uri": "https://localhost:8080/"
        },
        "id": "rNkbEZfOsN1y",
        "outputId": "cecffb37-d929-4e7d-b57f-b8fe4cea1e41"
      },
      "source": [
        "# Evaluate Naive forecast (baseline)\n",
        "naive_results = evaluate_preds(y_true = y_test[1:], \n",
        "                               y_pred = naive_forecast)\n",
        "naive_results"
      ],
      "execution_count": 27,
      "outputs": [
        {
          "output_type": "execute_result",
          "data": {
            "text/plain": [
              "{'mae': 567.9802,\n",
              " 'mape': 2.516525,\n",
              " 'mase': 0.99957,\n",
              " 'mse': 1147547.0,\n",
              " 'rmse': 1071.2362}"
            ]
          },
          "metadata": {},
          "execution_count": 27
        }
      ]
    },
    {
      "cell_type": "code",
      "metadata": {
        "colab": {
          "base_uri": "https://localhost:8080/"
        },
        "id": "NORcn3X3uK4u",
        "outputId": "fbbd9e1d-c4d8-4aa6-d3dc-a8461f4d6247"
      },
      "source": [
        "naive_forecast[-10:]"
      ],
      "execution_count": 28,
      "outputs": [
        {
          "output_type": "execute_result",
          "data": {
            "text/plain": [
              "array([57107.12067189, 58788.20967893, 58102.19142623, 55715.54665129,\n",
              "       56573.5554719 , 52147.82118698, 49764.1320816 , 50032.69313676,\n",
              "       47885.62525472, 45604.61575361])"
            ]
          },
          "metadata": {},
          "execution_count": 28
        }
      ]
    },
    {
      "cell_type": "code",
      "metadata": {
        "colab": {
          "base_uri": "https://localhost:8080/"
        },
        "id": "q7vOeSsK1iCu",
        "outputId": "01391927-ede9-4964-c928-62addee87d8c"
      },
      "source": [
        "tf.reduce_mean(y_test)"
      ],
      "execution_count": 29,
      "outputs": [
        {
          "output_type": "execute_result",
          "data": {
            "text/plain": [
              "<tf.Tensor: shape=(), dtype=float64, numpy=20056.632963737226>"
            ]
          },
          "metadata": {},
          "execution_count": 29
        }
      ]
    },
    {
      "cell_type": "code",
      "metadata": {
        "colab": {
          "base_uri": "https://localhost:8080/"
        },
        "id": "Qm8uejEu1kxA",
        "outputId": "f3729cd5-c48d-4154-96f8-4f34d720f391"
      },
      "source": [
        "tf.reduce_min(y_test), tf.reduce_max(y_test)"
      ],
      "execution_count": 30,
      "outputs": [
        {
          "output_type": "execute_result",
          "data": {
            "text/plain": [
              "(<tf.Tensor: shape=(), dtype=float64, numpy=4944.7023359837>,\n",
              " <tf.Tensor: shape=(), dtype=float64, numpy=63346.7890351052>)"
            ]
          },
          "metadata": {},
          "execution_count": 30
        }
      ]
    },
    {
      "cell_type": "markdown",
      "metadata": {
        "id": "uqYNePn91zSz"
      },
      "source": [
        "## Other models you can use for baselines and for actual forecasts\n",
        "\n",
        "In this notebook, we're focused on TensorFlow and deep learning models.\n",
        "However, there are plenty of time series that you could get a learning on \n",
        "\n",
        "https://dev.mrdbourke.com/tensorflow-deep-learning/10_time_series_forecasting_in_tensorflow/#Other-kinds-of-time-series-forecasting-models-which-can-be-used-for-baselines-and-actual-forecasts\n",
        "\n",
        "\n",
        "\n",
        "Check out the ones by Facebook, LinkedIn\n",
        "\n",
        "* https://github.com/facebookresearch/Kats\n",
        "* https://github.com/linkedin/greykite\n",
        "\n"
      ]
    },
    {
      "cell_type": "markdown",
      "metadata": {
        "id": "Z89JDODA8I5Z"
      },
      "source": [
        "## Format Data Part 2: Windowing our dataset\n",
        "\n",
        "Why do we window?\n",
        "We window our timeseries dataset to turn our data into a supervised learning problem.\n",
        "\n",
        "```\n",
        "Windowing for one week\n",
        "[0, 1, 2, 3, 4, 5, 6] -> [7]\n",
        "[1, 2, 3, 4, 5, 6, 7] -> [8]\n",
        "[2, 3, 4, 5, 6, 7, 8] -> [9]\n",
        "```"
      ]
    },
    {
      "cell_type": "code",
      "metadata": {
        "colab": {
          "base_uri": "https://localhost:8080/"
        },
        "id": "MZFTcYwQ83gV",
        "outputId": "fbe8e5b3-d1cb-463d-f927-81e3980914e6"
      },
      "source": [
        "btc_price[:8]"
      ],
      "execution_count": 31,
      "outputs": [
        {
          "output_type": "execute_result",
          "data": {
            "text/plain": [
              "[123.65499,\n",
              " 125.455,\n",
              " 108.58483,\n",
              " 118.67466,\n",
              " 121.33866,\n",
              " 120.65533,\n",
              " 121.795,\n",
              " 123.033]"
            ]
          },
          "metadata": {},
          "execution_count": 31
        }
      ]
    },
    {
      "cell_type": "code",
      "metadata": {
        "colab": {
          "base_uri": "https://localhost:8080/"
        },
        "id": "5Se3vRVX8_6m",
        "outputId": "414050d8-b771-4e21-c4e7-46790d1c1024"
      },
      "source": [
        "# What we want to do with our Bitcoin data\n",
        "print(f\"We want to use: {btc_price[:7]} to predict this : {btc_price[7]}\")"
      ],
      "execution_count": 32,
      "outputs": [
        {
          "output_type": "stream",
          "text": [
            "We want to use: [123.65499, 125.455, 108.58483, 118.67466, 121.33866, 120.65533, 121.795] to predict this : 123.033\n"
          ],
          "name": "stdout"
        }
      ]
    },
    {
      "cell_type": "code",
      "metadata": {
        "id": "GaG_Yugx9cAY"
      },
      "source": [
        "# Let's setup global variables for window and horizon size\n",
        "\n",
        "HORIZON = 1 # predict next 1 day\n",
        "WINDOW_SIZE = 7 # use the past week of Bitcoin data to make predictions"
      ],
      "execution_count": 33,
      "outputs": []
    },
    {
      "cell_type": "code",
      "metadata": {
        "id": "eTDqZa3D9l0u"
      },
      "source": [
        "# Create function to label windowed data\n",
        "\n",
        "def get_labelled_windows(x, horizon = HORIZON) :\n",
        "  \"\"\"\n",
        "  Create labels for windowed dataset.\n",
        "   E.g. if horizon =1\n",
        "   Input: [0, 1, 2, 3, 4, 5, 6, 7] -> Output: ([0, 1, 2, 3, 4, 5, 6], [7]) \n",
        "  \"\"\"\n",
        "  return x[:, :-horizon], x[:, -horizon: ]"
      ],
      "execution_count": 34,
      "outputs": []
    },
    {
      "cell_type": "code",
      "metadata": {
        "colab": {
          "base_uri": "https://localhost:8080/"
        },
        "id": "e8I9ktQp_pGI",
        "outputId": "49b3ee35-f933-4c56-ddc7-8fc30863a2d8"
      },
      "source": [
        "# Test out the window labelling function\n",
        "test_window , test_label = get_labelled_windows(tf.expand_dims(tf.range(8), axis=0))\n",
        "print(f\"Window : {tf.squeeze(test_window).numpy()} -> Label : {tf.squeeze(test_label).numpy()} \")"
      ],
      "execution_count": 35,
      "outputs": [
        {
          "output_type": "stream",
          "text": [
            "Window : [0 1 2 3 4 5 6] -> Label : 7 \n"
          ],
          "name": "stdout"
        }
      ]
    },
    {
      "cell_type": "code",
      "metadata": {
        "colab": {
          "base_uri": "https://localhost:8080/"
        },
        "id": "iERZe1UBAFNp",
        "outputId": "ff153bef-677c-4f97-a236-9db098c28369"
      },
      "source": [
        "tf.expand_dims(tf.range(8), axis=0)"
      ],
      "execution_count": 36,
      "outputs": [
        {
          "output_type": "execute_result",
          "data": {
            "text/plain": [
              "<tf.Tensor: shape=(1, 8), dtype=int32, numpy=array([[0, 1, 2, 3, 4, 5, 6, 7]], dtype=int32)>"
            ]
          },
          "metadata": {},
          "execution_count": 36
        }
      ]
    },
    {
      "cell_type": "markdown",
      "metadata": {
        "id": "tq_I4DZ5BMmO"
      },
      "source": [
        "\n",
        "Prepare the data using the sliding window approach.\n",
        "\n",
        "We've got a way to label our windowed data. \n",
        "However, this only works on a small scale.\n",
        "We need a way to do the above across our entire time series.\n",
        "\n",
        "We could do this with Python for loops, however, for large time series, that'd be quite low.\n",
        "\n",
        "To speed things up, we will leverage NumPy's array indexing - https://numpy.org/doc/stable/reference/arrays.indexing.html\n",
        "\n",
        "Our function will :\n",
        "1. Create a window step of specific window size (e.g. [0, 1, 2, 3, 4, 5, 6])\n",
        "2. Use NumPy indexing to create a 2D array of multiple window steps, for example :\n",
        "```\n",
        "[[0, 1, 2, 3, 4, 5, 6],\n",
        "[1, 2, 3, 4, 5, 6, 7],\n",
        "[2, 3, 4, 5, 6, 7, 8]]\n",
        "```\n",
        "3. Uses the 2D array of multiple window steps (from 2. ) to index on a target series (e.g. the historical price of Bitcoin)\n",
        "4. Use our `get_labelled_windows()` function we created above to turn the window steps into windows with a specified horizon\n",
        "\n",
        "\n",
        "> **Resources** :-\n",
        "The function here has been adapted from the following article:\n",
        "https://towardsdatascience.com/fast-and-robust-sliding-window-vectorization-with-numpy-3ad950ed62f5\n"
      ]
    },
    {
      "cell_type": "code",
      "metadata": {
        "id": "7xJDPAcqH4kt"
      },
      "source": [
        "import numpy as np\n",
        "# 1. Create function to view NumPy arrays as windows\n",
        "\n",
        "def make_windows(x, window_size=WINDOW_SIZE, horizon=HORIZON) :\n",
        "\n",
        "  \"\"\"\n",
        "  Turns a 1D array into a 2D array of sequential labelled windows of window_size with horizon size labels.\n",
        "  \"\"\"\n",
        "  # 1. Create a window of specific window_size(add the horizon on the end for labelling later)\n",
        "  window_step = np.expand_dims(np.arange(window_size + horizon), axis=0)\n",
        "\n",
        "  # 2. Create a 2D array of multiple window steps (minus 1 account for 0 indexing)\n",
        "  window_indexes = window_step + np.expand_dims(np.arange(len(x) - (window_size + horizon -1)), axis=0).T # Create 2D array of windows of size window_size\n",
        "  #print(f\"Window Indexes :\\n {window_indexes, window_indexes.shape}\")\n",
        "\n",
        "  #3 . Index on the target array (a time series ) with 2D array of multiple window steps\n",
        "  windowed_array = x[window_indexes]\n",
        "  #print(f\"Windowed_array : {windowed_array}\")\n",
        "\n",
        "  #4. Get the labelled windows\n",
        "  windows, labels = get_labelled_windows(windowed_array, horizon=horizon)\n",
        "  return windows, labels\n",
        "\n",
        "\n"
      ],
      "execution_count": 37,
      "outputs": []
    },
    {
      "cell_type": "code",
      "metadata": {
        "colab": {
          "base_uri": "https://localhost:8080/"
        },
        "id": "-pRClMlgaF-7",
        "outputId": "0fc6bc92-ff43-4ba3-812e-fca971663fbe"
      },
      "source": [
        "full_windows, full_labels = make_windows(prices, window_size=WINDOW_SIZE, horizon=HORIZON)\n",
        "len(full_windows), len(full_labels)"
      ],
      "execution_count": 38,
      "outputs": [
        {
          "output_type": "execute_result",
          "data": {
            "text/plain": [
              "(2780, 2780)"
            ]
          },
          "metadata": {},
          "execution_count": 38
        }
      ]
    },
    {
      "cell_type": "code",
      "metadata": {
        "colab": {
          "base_uri": "https://localhost:8080/"
        },
        "id": "nsijFTZZmNTF",
        "outputId": "0f4e8515-ca55-455b-d49a-c543fd4ababb"
      },
      "source": [
        "# View the first 3 windows/labels\n",
        "for i in range(3) :\n",
        "  print(f\"Window: {full_windows[i]} -> Label: {full_labels[i]}\")"
      ],
      "execution_count": 39,
      "outputs": [
        {
          "output_type": "stream",
          "text": [
            "Window: [123.65499 125.455   108.58483 118.67466 121.33866 120.65533 121.795  ] -> Label: [123.033]\n",
            "Window: [125.455   108.58483 118.67466 121.33866 120.65533 121.795   123.033  ] -> Label: [124.049]\n",
            "Window: [108.58483 118.67466 121.33866 120.65533 121.795   123.033   124.049  ] -> Label: [125.96116]\n"
          ],
          "name": "stdout"
        }
      ]
    },
    {
      "cell_type": "code",
      "metadata": {
        "colab": {
          "base_uri": "https://localhost:8080/"
        },
        "id": "To1bLSzNmza_",
        "outputId": "c0739113-70d7-43c5-dac9-a530c6fcebd2"
      },
      "source": [
        "# View the last 3 windows/labels\n",
        "for i in range(3) :\n",
        "  print(f\"Window : {full_windows[i-3]} -> Label : {full_labels[i-3]}\")"
      ],
      "execution_count": 40,
      "outputs": [
        {
          "output_type": "stream",
          "text": [
            "Window : [58788.20967893 58102.19142623 55715.54665129 56573.5554719\n",
            " 52147.82118698 49764.1320816  50032.69313676] -> Label : [47885.62525472]\n",
            "Window : [58102.19142623 55715.54665129 56573.5554719  52147.82118698\n",
            " 49764.1320816  50032.69313676 47885.62525472] -> Label : [45604.61575361]\n",
            "Window : [55715.54665129 56573.5554719  52147.82118698 49764.1320816\n",
            " 50032.69313676 47885.62525472 45604.61575361] -> Label : [43144.47129086]\n"
          ],
          "name": "stdout"
        }
      ]
    },
    {
      "cell_type": "code",
      "metadata": {
        "colab": {
          "base_uri": "https://localhost:8080/"
        },
        "id": "iV0Hjw4anIc8",
        "outputId": "76476010-1173-45d8-cece-22112c83a6d5"
      },
      "source": [
        "prices[-1]"
      ],
      "execution_count": 41,
      "outputs": [
        {
          "output_type": "execute_result",
          "data": {
            "text/plain": [
              "43144.471290860296"
            ]
          },
          "metadata": {},
          "execution_count": 41
        }
      ]
    },
    {
      "cell_type": "markdown",
      "metadata": {
        "id": "VUpgWtCQnKbo"
      },
      "source": [
        "> **Note** : There is a function which does similar to above in tf.keras.preprocessing, an extension could be to try and replicate what we've done using the pre-made function:\n",
        "https://www.tensorflow.org/api_docs/python/tf/keras/utils/timeseries_dataset_from_array"
      ]
    },
    {
      "cell_type": "markdown",
      "metadata": {
        "id": "rmDEWEPrn00v"
      },
      "source": [
        "## Turning windows into training and test sets"
      ]
    },
    {
      "cell_type": "code",
      "metadata": {
        "id": "bDZ9Jo13tM6y"
      },
      "source": [
        "# Make the train/test splits\n",
        "def make_train_test_splits(windows, labels, test_split=0.2) :\n",
        "\n",
        "  \"\"\"\n",
        "  Split matching pairs of windows and labels into train and test splits\n",
        "  \"\"\"\n",
        "  split_size = int(len(windows) * (1-test_split)) # this will default to 80% train 20% test\n",
        "  train_windows = windows[:split_size]\n",
        "  train_labels = labels[:split_size]\n",
        "  test_windows = windows[split_size:]\n",
        "  test_labels = labels[split_size:]\n",
        "\n",
        "  return train_windows, test_windows, train_labels, test_labels\n"
      ],
      "execution_count": 42,
      "outputs": []
    },
    {
      "cell_type": "code",
      "metadata": {
        "id": "aVHhrkvGuWMS"
      },
      "source": [
        "# Get train/test splits\n",
        "train_windows, test_windows, train_labels, test_labels = make_train_test_splits(full_windows, full_labels)"
      ],
      "execution_count": 43,
      "outputs": []
    },
    {
      "cell_type": "code",
      "metadata": {
        "colab": {
          "base_uri": "https://localhost:8080/"
        },
        "id": "_YDhiR_WuhHs",
        "outputId": "593c3a9b-4032-4ad2-cec9-7759c0ac058b"
      },
      "source": [
        "len(train_windows), len(test_windows), len(train_labels), len(test_labels)"
      ],
      "execution_count": 44,
      "outputs": [
        {
          "output_type": "execute_result",
          "data": {
            "text/plain": [
              "(2224, 556, 2224, 556)"
            ]
          },
          "metadata": {},
          "execution_count": 44
        }
      ]
    },
    {
      "cell_type": "code",
      "metadata": {
        "colab": {
          "base_uri": "https://localhost:8080/"
        },
        "id": "S0RS8H4rungc",
        "outputId": "0163e434-c535-43ff-8e39-58e0d4019f8c"
      },
      "source": [
        "len(full_windows) * 0.8"
      ],
      "execution_count": 45,
      "outputs": [
        {
          "output_type": "execute_result",
          "data": {
            "text/plain": [
              "2224.0"
            ]
          },
          "metadata": {},
          "execution_count": 45
        }
      ]
    },
    {
      "cell_type": "code",
      "metadata": {
        "colab": {
          "base_uri": "https://localhost:8080/"
        },
        "id": "rgJQlfFkur5p",
        "outputId": "66a1df24-2a98-4cf4-ed76-6897024ecc9f"
      },
      "source": [
        "train_windows[:5], train_labels[:5]"
      ],
      "execution_count": 46,
      "outputs": [
        {
          "output_type": "execute_result",
          "data": {
            "text/plain": [
              "(array([[123.65499, 125.455  , 108.58483, 118.67466, 121.33866, 120.65533,\n",
              "         121.795  ],\n",
              "        [125.455  , 108.58483, 118.67466, 121.33866, 120.65533, 121.795  ,\n",
              "         123.033  ],\n",
              "        [108.58483, 118.67466, 121.33866, 120.65533, 121.795  , 123.033  ,\n",
              "         124.049  ],\n",
              "        [118.67466, 121.33866, 120.65533, 121.795  , 123.033  , 124.049  ,\n",
              "         125.96116],\n",
              "        [121.33866, 120.65533, 121.795  , 123.033  , 124.049  , 125.96116,\n",
              "         125.27966]]), array([[123.033  ],\n",
              "        [124.049  ],\n",
              "        [125.96116],\n",
              "        [125.27966],\n",
              "        [125.9275 ]]))"
            ]
          },
          "metadata": {},
          "execution_count": 46
        }
      ]
    },
    {
      "cell_type": "code",
      "metadata": {
        "colab": {
          "base_uri": "https://localhost:8080/"
        },
        "id": "DNVA2M5IuwTr",
        "outputId": "1d2b4f12-5160-43dc-899a-eb57ae59f490"
      },
      "source": [
        "# Check to see if train labels are the same (before and after window split)\n",
        "np.array_equal(np.squeeze(train_labels[: -HORIZON -1]), y_train[WINDOW_SIZE:])"
      ],
      "execution_count": 47,
      "outputs": [
        {
          "output_type": "execute_result",
          "data": {
            "text/plain": [
              "True"
            ]
          },
          "metadata": {},
          "execution_count": 47
        }
      ]
    },
    {
      "cell_type": "code",
      "metadata": {
        "colab": {
          "base_uri": "https://localhost:8080/"
        },
        "id": "afaxVk2OvONV",
        "outputId": "a5f227af-c64a-4d32-8b72-e6b8d70e9a14"
      },
      "source": [
        "np.squeeze(train_labels[:5]).shape"
      ],
      "execution_count": 48,
      "outputs": [
        {
          "output_type": "execute_result",
          "data": {
            "text/plain": [
              "(5,)"
            ]
          },
          "metadata": {},
          "execution_count": 48
        }
      ]
    },
    {
      "cell_type": "markdown",
      "metadata": {
        "id": "HLbpAnSOwXlQ"
      },
      "source": [
        "## Making a modelling checkpoint\n",
        "\n",
        "Because our model's performance will fluctuate from experiment to experiment, we're going to write a model checkpoint so we can compare apple to apples.\n",
        "\n",
        "More specifically, we want to compare each of our model's best performances against the other model's best performances.\n",
        "\n",
        "For example if our model performs the best on epoch 55 (but we're training for 100 epochs), we want to load an evaluate the model saved on epoch 55.\n",
        "\n",
        "We can create a modelling checkpoint callback using the following :-\n",
        "https://www.tensorflow.org/api_docs/python/tf/keras/callbacks/ModelCheckpoint\n",
        "\n",
        "\n"
      ]
    },
    {
      "cell_type": "code",
      "metadata": {
        "id": "bNfGsNnUw4gy"
      },
      "source": [
        "import os\n",
        "\n",
        "# Create a function to implement a ModelCheckpoint callback with a specific filename\n",
        "\n",
        "def create_model_checkpoint(model_name, save_path=\"model_experiments\") :\n",
        "  return tf.keras.callbacks.ModelCheckpoint(filepath=os.path.join(save_path, model_name),\n",
        "                                            verbose=0, # only output a limited  amout of text\n",
        "                                            monitor=\"val_loss\", # default value\n",
        "                                            save_best_only=True)"
      ],
      "execution_count": 49,
      "outputs": []
    },
    {
      "cell_type": "markdown",
      "metadata": {
        "id": "NM8jDPVGzYVD"
      },
      "source": [
        "## Model 1 : Dense model(window = 7, horizon = 1)\n",
        "\n",
        "Our first deep model is going to be a simple dense model  :\n",
        "* A single dense layer with 128 hidden units and ReLU\n",
        "* An output layer with linear activation(no activation)\n",
        "* Adam optimization and MAE loss function\n",
        "* Batch size of 128 ( previously we've used 32)\n",
        "* Run for 100 epochs \n",
        "\n",
        "\n",
        "Why these values ?\n",
        "\n",
        "I picked them out of experimentation.\n",
        "\n",
        "* **Hyperparameters** = values a machine learning practitioner(you!) can adjust themselves\n",
        "\n",
        "* **Parameters** = also called weights are values a model learn on its own\n",
        "\n",
        "** Since our dataset is smaller, we can increase the batch size and run for more epochs\n",
        "\n"
      ]
    },
    {
      "cell_type": "code",
      "metadata": {
        "colab": {
          "base_uri": "https://localhost:8080/"
        },
        "id": "2M7b1SmPzz2o",
        "outputId": "a5ab7e9b-9952-493a-a7b5-6ae0228f6ba0"
      },
      "source": [
        "import tensorflow as tf\n",
        "from tensorflow.keras import layers\n",
        "\n",
        "# Set random seed for as reproducible results as possible\n",
        "tf.random.set_seed(42)\n",
        "\n",
        "# 1. Construct model\n",
        "model_1 = tf.keras.Sequential([\n",
        "        layers.Dense(128, activation=\"relu\"),\n",
        "        layers.Dense(HORIZON, activation=\"linear\")  # activation =\"linear\" same as no activation, pass thru activation layer and do nothing\n",
        "        ], name=\"model_1_dense\") # name our model so we can save it\n",
        "\n",
        "# 2. Compile\n",
        "model_1.compile(loss=\"mae\",\n",
        "                optimizer=tf.keras.optimizers.Adam(),\n",
        "                metrics=[\"mae\", \"mse\"])\n",
        "\n",
        "# 3. Fit the model\n",
        "model_1.fit(x= train_windows, \n",
        "            y = train_labels,\n",
        "            epochs=100,\n",
        "            verbose = 1,\n",
        "            batch_size = 128,\n",
        "            validation_data = (test_windows, test_labels),\n",
        "            callbacks=[create_model_checkpoint(model_name = model_1.name)])"
      ],
      "execution_count": 50,
      "outputs": [
        {
          "output_type": "stream",
          "text": [
            "Epoch 1/100\n",
            "18/18 [==============================] - 3s 11ms/step - loss: 780.3455 - mae: 780.3455 - mse: 2312725.7500 - val_loss: 2279.6528 - val_mae: 2279.6528 - val_mse: 12772731.0000\n",
            "INFO:tensorflow:Assets written to: model_experiments/model_1_dense/assets\n",
            "Epoch 2/100\n",
            "18/18 [==============================] - 0s 4ms/step - loss: 247.6756 - mae: 247.6756 - mse: 285481.1875 - val_loss: 1005.9992 - val_mae: 1005.9992 - val_mse: 3441833.5000\n",
            "INFO:tensorflow:Assets written to: model_experiments/model_1_dense/assets\n",
            "Epoch 3/100\n",
            "18/18 [==============================] - 0s 3ms/step - loss: 188.4116 - mae: 188.4116 - mse: 171891.5938 - val_loss: 923.2863 - val_mae: 923.2863 - val_mse: 2868221.2500\n",
            "INFO:tensorflow:Assets written to: model_experiments/model_1_dense/assets\n",
            "Epoch 4/100\n",
            "18/18 [==============================] - 0s 4ms/step - loss: 169.4340 - mae: 169.4340 - mse: 151700.5625 - val_loss: 900.5872 - val_mae: 900.5872 - val_mse: 2683715.7500\n",
            "INFO:tensorflow:Assets written to: model_experiments/model_1_dense/assets\n",
            "Epoch 5/100\n",
            "18/18 [==============================] - 0s 4ms/step - loss: 165.0895 - mae: 165.0895 - mse: 145490.8125 - val_loss: 895.2236 - val_mae: 895.2236 - val_mse: 2564574.5000\n",
            "INFO:tensorflow:Assets written to: model_experiments/model_1_dense/assets\n",
            "Epoch 6/100\n",
            "18/18 [==============================] - 0s 4ms/step - loss: 158.5210 - mae: 158.5210 - mse: 133817.7500 - val_loss: 855.1985 - val_mae: 855.1985 - val_mse: 2481873.7500\n",
            "INFO:tensorflow:Assets written to: model_experiments/model_1_dense/assets\n",
            "Epoch 7/100\n",
            "18/18 [==============================] - 0s 3ms/step - loss: 151.3566 - mae: 151.3566 - mse: 123446.9922 - val_loss: 840.9167 - val_mae: 840.9166 - val_mse: 2276452.0000\n",
            "INFO:tensorflow:Assets written to: model_experiments/model_1_dense/assets\n",
            "Epoch 8/100\n",
            "18/18 [==============================] - 0s 4ms/step - loss: 145.2560 - mae: 145.2560 - mse: 117694.5000 - val_loss: 803.5959 - val_mae: 803.5959 - val_mse: 2140574.7500\n",
            "INFO:tensorflow:Assets written to: model_experiments/model_1_dense/assets\n",
            "Epoch 9/100\n",
            "18/18 [==============================] - 0s 4ms/step - loss: 144.3546 - mae: 144.3546 - mse: 115269.3125 - val_loss: 799.5455 - val_mae: 799.5455 - val_mse: 2049208.1250\n",
            "INFO:tensorflow:Assets written to: model_experiments/model_1_dense/assets\n",
            "Epoch 10/100\n",
            "18/18 [==============================] - 0s 3ms/step - loss: 141.2943 - mae: 141.2943 - mse: 112394.5938 - val_loss: 763.5010 - val_mae: 763.5010 - val_mse: 1933141.0000\n",
            "INFO:tensorflow:Assets written to: model_experiments/model_1_dense/assets\n",
            "Epoch 11/100\n",
            "18/18 [==============================] - 0s 3ms/step - loss: 135.6595 - mae: 135.6595 - mse: 104118.2578 - val_loss: 771.3354 - val_mae: 771.3354 - val_mse: 1885849.5000\n",
            "Epoch 12/100\n",
            "18/18 [==============================] - 0s 3ms/step - loss: 134.1700 - mae: 134.1700 - mse: 101780.8672 - val_loss: 782.8077 - val_mae: 782.8077 - val_mse: 1881726.8750\n",
            "Epoch 13/100\n",
            "18/18 [==============================] - 0s 3ms/step - loss: 134.6015 - mae: 134.6015 - mse: 102345.2500 - val_loss: 784.4446 - val_mae: 784.4446 - val_mse: 1860995.0000\n",
            "Epoch 14/100\n",
            "18/18 [==============================] - 0s 3ms/step - loss: 130.6127 - mae: 130.6127 - mse: 96225.1484 - val_loss: 751.3230 - val_mae: 751.3231 - val_mse: 1749608.5000\n",
            "INFO:tensorflow:Assets written to: model_experiments/model_1_dense/assets\n",
            "Epoch 15/100\n",
            "18/18 [==============================] - 0s 3ms/step - loss: 128.8347 - mae: 128.8347 - mse: 94307.0156 - val_loss: 696.5756 - val_mae: 696.5756 - val_mse: 1606352.6250\n",
            "INFO:tensorflow:Assets written to: model_experiments/model_1_dense/assets\n",
            "Epoch 16/100\n",
            "18/18 [==============================] - 0s 4ms/step - loss: 124.7738 - mae: 124.7738 - mse: 90394.9297 - val_loss: 702.4695 - val_mae: 702.4695 - val_mse: 1592415.5000\n",
            "Epoch 17/100\n",
            "18/18 [==============================] - 0s 4ms/step - loss: 123.4474 - mae: 123.4474 - mse: 89247.6953 - val_loss: 704.9236 - val_mae: 704.9236 - val_mse: 1580782.5000\n",
            "Epoch 18/100\n",
            "18/18 [==============================] - 0s 3ms/step - loss: 122.2105 - mae: 122.2105 - mse: 87607.6016 - val_loss: 667.9723 - val_mae: 667.9723 - val_mse: 1498881.8750\n",
            "INFO:tensorflow:Assets written to: model_experiments/model_1_dense/assets\n",
            "Epoch 19/100\n",
            "18/18 [==============================] - 0s 3ms/step - loss: 121.7262 - mae: 121.7262 - mse: 86632.2734 - val_loss: 718.8792 - val_mae: 718.8792 - val_mse: 1589298.0000\n",
            "Epoch 20/100\n",
            "18/18 [==============================] - 0s 3ms/step - loss: 119.2420 - mae: 119.2420 - mse: 84334.3281 - val_loss: 657.0665 - val_mae: 657.0665 - val_mse: 1447500.7500\n",
            "INFO:tensorflow:Assets written to: model_experiments/model_1_dense/assets\n",
            "Epoch 21/100\n",
            "18/18 [==============================] - 0s 3ms/step - loss: 121.2275 - mae: 121.2275 - mse: 85743.3984 - val_loss: 637.0330 - val_mae: 637.0330 - val_mse: 1401774.0000\n",
            "INFO:tensorflow:Assets written to: model_experiments/model_1_dense/assets\n",
            "Epoch 22/100\n",
            "18/18 [==============================] - 0s 4ms/step - loss: 119.9544 - mae: 119.9544 - mse: 84050.1016 - val_loss: 671.2486 - val_mae: 671.2486 - val_mse: 1447895.7500\n",
            "Epoch 23/100\n",
            "18/18 [==============================] - 0s 4ms/step - loss: 121.9248 - mae: 121.9248 - mse: 83746.1250 - val_loss: 633.3590 - val_mae: 633.3590 - val_mse: 1367377.5000\n",
            "INFO:tensorflow:Assets written to: model_experiments/model_1_dense/assets\n",
            "Epoch 24/100\n",
            "18/18 [==============================] - 0s 4ms/step - loss: 116.3665 - mae: 116.3665 - mse: 81446.6797 - val_loss: 624.4853 - val_mae: 624.4853 - val_mse: 1348961.2500\n",
            "INFO:tensorflow:Assets written to: model_experiments/model_1_dense/assets\n",
            "Epoch 25/100\n",
            "18/18 [==============================] - 0s 5ms/step - loss: 114.6816 - mae: 114.6816 - mse: 78912.8438 - val_loss: 619.7573 - val_mae: 619.7573 - val_mse: 1351090.1250\n",
            "INFO:tensorflow:Assets written to: model_experiments/model_1_dense/assets\n",
            "Epoch 26/100\n",
            "18/18 [==============================] - 0s 4ms/step - loss: 116.4456 - mae: 116.4456 - mse: 79365.5938 - val_loss: 615.6364 - val_mae: 615.6364 - val_mse: 1321514.6250\n",
            "INFO:tensorflow:Assets written to: model_experiments/model_1_dense/assets\n",
            "Epoch 27/100\n",
            "18/18 [==============================] - 0s 3ms/step - loss: 116.5868 - mae: 116.5868 - mse: 78672.9453 - val_loss: 615.9629 - val_mae: 615.9629 - val_mse: 1313077.7500\n",
            "Epoch 28/100\n",
            "18/18 [==============================] - 0s 3ms/step - loss: 113.4691 - mae: 113.4691 - mse: 77440.1250 - val_loss: 608.0922 - val_mae: 608.0922 - val_mse: 1309775.7500\n",
            "INFO:tensorflow:Assets written to: model_experiments/model_1_dense/assets\n",
            "Epoch 29/100\n",
            "18/18 [==============================] - 0s 4ms/step - loss: 113.7598 - mae: 113.7598 - mse: 78506.9531 - val_loss: 621.9301 - val_mae: 621.9301 - val_mse: 1313324.3750\n",
            "Epoch 30/100\n",
            "18/18 [==============================] - 0s 4ms/step - loss: 116.8613 - mae: 116.8613 - mse: 79236.4609 - val_loss: 604.4055 - val_mae: 604.4055 - val_mse: 1283408.2500\n",
            "INFO:tensorflow:Assets written to: model_experiments/model_1_dense/assets\n",
            "Epoch 31/100\n",
            "18/18 [==============================] - 0s 3ms/step - loss: 111.9375 - mae: 111.9375 - mse: 74849.0703 - val_loss: 609.3879 - val_mae: 609.3879 - val_mse: 1284505.8750\n",
            "Epoch 32/100\n",
            "18/18 [==============================] - 0s 3ms/step - loss: 112.4175 - mae: 112.4175 - mse: 77178.6016 - val_loss: 603.0585 - val_mae: 603.0585 - val_mse: 1273058.6250\n",
            "INFO:tensorflow:Assets written to: model_experiments/model_1_dense/assets\n",
            "Epoch 33/100\n",
            "18/18 [==============================] - 0s 4ms/step - loss: 112.6697 - mae: 112.6697 - mse: 75788.0078 - val_loss: 645.6965 - val_mae: 645.6965 - val_mse: 1353254.0000\n",
            "Epoch 34/100\n",
            "18/18 [==============================] - 0s 3ms/step - loss: 111.9867 - mae: 111.9867 - mse: 77245.7266 - val_loss: 604.7639 - val_mae: 604.7639 - val_mse: 1289361.8750\n",
            "Epoch 35/100\n",
            "18/18 [==============================] - 0s 3ms/step - loss: 110.9451 - mae: 110.9451 - mse: 75301.8281 - val_loss: 593.4648 - val_mae: 593.4648 - val_mse: 1250491.8750\n",
            "INFO:tensorflow:Assets written to: model_experiments/model_1_dense/assets\n",
            "Epoch 36/100\n",
            "18/18 [==============================] - 0s 3ms/step - loss: 114.4816 - mae: 114.4816 - mse: 76138.5703 - val_loss: 608.0067 - val_mae: 608.0067 - val_mse: 1269270.5000\n",
            "Epoch 37/100\n",
            "18/18 [==============================] - 0s 3ms/step - loss: 110.2016 - mae: 110.2016 - mse: 74635.3125 - val_loss: 597.2306 - val_mae: 597.2306 - val_mse: 1248473.8750\n",
            "Epoch 38/100\n",
            "18/18 [==============================] - 0s 4ms/step - loss: 112.2371 - mae: 112.2371 - mse: 75821.7266 - val_loss: 637.9808 - val_mae: 637.9808 - val_mse: 1366132.7500\n",
            "Epoch 39/100\n",
            "18/18 [==============================] - 0s 3ms/step - loss: 115.1290 - mae: 115.1290 - mse: 76339.6797 - val_loss: 587.4678 - val_mae: 587.4678 - val_mse: 1233512.5000\n",
            "INFO:tensorflow:Assets written to: model_experiments/model_1_dense/assets\n",
            "Epoch 40/100\n",
            "18/18 [==============================] - 0s 3ms/step - loss: 110.0854 - mae: 110.0854 - mse: 73528.5000 - val_loss: 592.7120 - val_mae: 592.7120 - val_mse: 1251474.8750\n",
            "Epoch 41/100\n",
            "18/18 [==============================] - 0s 3ms/step - loss: 110.6344 - mae: 110.6344 - mse: 73528.8281 - val_loss: 593.9002 - val_mae: 593.9002 - val_mse: 1253679.3750\n",
            "Epoch 42/100\n",
            "18/18 [==============================] - 0s 3ms/step - loss: 113.5762 - mae: 113.5762 - mse: 77076.7500 - val_loss: 636.3661 - val_mae: 636.3661 - val_mse: 1317280.6250\n",
            "Epoch 43/100\n",
            "18/18 [==============================] - 0s 4ms/step - loss: 116.2285 - mae: 116.2285 - mse: 74712.2109 - val_loss: 662.9277 - val_mae: 662.9277 - val_mse: 1419205.8750\n",
            "Epoch 44/100\n",
            "18/18 [==============================] - 0s 3ms/step - loss: 120.0193 - mae: 120.0193 - mse: 80971.9219 - val_loss: 635.6375 - val_mae: 635.6375 - val_mse: 1346002.8750\n",
            "Epoch 45/100\n",
            "18/18 [==============================] - 0s 4ms/step - loss: 110.9675 - mae: 110.9675 - mse: 74941.3203 - val_loss: 601.9918 - val_mae: 601.9918 - val_mse: 1244814.7500\n",
            "Epoch 46/100\n",
            "18/18 [==============================] - 0s 4ms/step - loss: 111.6012 - mae: 111.6012 - mse: 74565.6328 - val_loss: 593.3539 - val_mae: 593.3539 - val_mse: 1248765.8750\n",
            "Epoch 47/100\n",
            "18/18 [==============================] - 0s 3ms/step - loss: 109.6161 - mae: 109.6161 - mse: 74190.7422 - val_loss: 637.0000 - val_mae: 637.0000 - val_mse: 1314967.7500\n",
            "Epoch 48/100\n",
            "18/18 [==============================] - 0s 4ms/step - loss: 109.1368 - mae: 109.1368 - mse: 72792.5859 - val_loss: 598.4189 - val_mae: 598.4189 - val_mse: 1234608.6250\n",
            "Epoch 49/100\n",
            "18/18 [==============================] - 0s 4ms/step - loss: 112.4355 - mae: 112.4355 - mse: 73980.3672 - val_loss: 579.7040 - val_mae: 579.7040 - val_mse: 1208301.8750\n",
            "INFO:tensorflow:Assets written to: model_experiments/model_1_dense/assets\n",
            "Epoch 50/100\n",
            "18/18 [==============================] - 0s 4ms/step - loss: 110.2108 - mae: 110.2108 - mse: 72939.7188 - val_loss: 639.2337 - val_mae: 639.2337 - val_mse: 1347997.1250\n",
            "Epoch 51/100\n",
            "18/18 [==============================] - 0s 4ms/step - loss: 111.0958 - mae: 111.0958 - mse: 73281.9219 - val_loss: 597.3566 - val_mae: 597.3566 - val_mse: 1229789.8750\n",
            "Epoch 52/100\n",
            "18/18 [==============================] - 0s 4ms/step - loss: 110.7351 - mae: 110.7351 - mse: 74529.6328 - val_loss: 580.7230 - val_mae: 580.7230 - val_mse: 1215478.3750\n",
            "Epoch 53/100\n",
            "18/18 [==============================] - 0s 4ms/step - loss: 111.1785 - mae: 111.1785 - mse: 74149.5078 - val_loss: 648.3575 - val_mae: 648.3575 - val_mse: 1336948.3750\n",
            "Epoch 54/100\n",
            "18/18 [==============================] - 0s 3ms/step - loss: 114.0831 - mae: 114.0831 - mse: 74815.0859 - val_loss: 593.2001 - val_mae: 593.2001 - val_mse: 1220660.3750\n",
            "Epoch 55/100\n",
            "18/18 [==============================] - 0s 3ms/step - loss: 110.4910 - mae: 110.4910 - mse: 74711.2500 - val_loss: 579.5068 - val_mae: 579.5068 - val_mse: 1211581.2500\n",
            "INFO:tensorflow:Assets written to: model_experiments/model_1_dense/assets\n",
            "Epoch 56/100\n",
            "18/18 [==============================] - 0s 4ms/step - loss: 108.0488 - mae: 108.0488 - mse: 71844.1641 - val_loss: 807.3871 - val_mae: 807.3871 - val_mse: 1859299.5000\n",
            "Epoch 57/100\n",
            "18/18 [==============================] - 0s 3ms/step - loss: 125.0614 - mae: 125.0614 - mse: 84025.2734 - val_loss: 674.1669 - val_mae: 674.1669 - val_mse: 1437690.5000\n",
            "Epoch 58/100\n",
            "18/18 [==============================] - 0s 4ms/step - loss: 115.4340 - mae: 115.4340 - mse: 73710.7578 - val_loss: 582.2692 - val_mae: 582.2692 - val_mse: 1202679.1250\n",
            "Epoch 59/100\n",
            "18/18 [==============================] - 0s 3ms/step - loss: 110.0881 - mae: 110.0881 - mse: 72845.1328 - val_loss: 606.7650 - val_mae: 606.7650 - val_mse: 1267546.2500\n",
            "Epoch 60/100\n",
            "18/18 [==============================] - 0s 3ms/step - loss: 108.7156 - mae: 108.7156 - mse: 72675.7969 - val_loss: 602.3090 - val_mae: 602.3090 - val_mse: 1234688.2500\n",
            "Epoch 61/100\n",
            "18/18 [==============================] - 0s 4ms/step - loss: 108.1525 - mae: 108.1525 - mse: 72252.1250 - val_loss: 573.9988 - val_mae: 573.9988 - val_mse: 1189583.2500\n",
            "INFO:tensorflow:Assets written to: model_experiments/model_1_dense/assets\n",
            "Epoch 62/100\n",
            "18/18 [==============================] - 0s 4ms/step - loss: 107.3727 - mae: 107.3727 - mse: 70822.8359 - val_loss: 581.7021 - val_mae: 581.7021 - val_mse: 1214007.3750\n",
            "Epoch 63/100\n",
            "18/18 [==============================] - 0s 3ms/step - loss: 110.7667 - mae: 110.7667 - mse: 73178.4688 - val_loss: 637.5234 - val_mae: 637.5234 - val_mse: 1311199.7500\n",
            "Epoch 64/100\n",
            "18/18 [==============================] - 0s 3ms/step - loss: 110.1539 - mae: 110.1539 - mse: 72588.2422 - val_loss: 586.6592 - val_mae: 586.6592 - val_mse: 1207115.2500\n",
            "Epoch 65/100\n",
            "18/18 [==============================] - 0s 4ms/step - loss: 108.2325 - mae: 108.2325 - mse: 71962.0859 - val_loss: 573.5617 - val_mae: 573.5617 - val_mse: 1188986.2500\n",
            "INFO:tensorflow:Assets written to: model_experiments/model_1_dense/assets\n",
            "Epoch 66/100\n",
            "18/18 [==============================] - 0s 3ms/step - loss: 108.6825 - mae: 108.6825 - mse: 71026.3672 - val_loss: 572.2206 - val_mae: 572.2206 - val_mse: 1187818.3750\n",
            "INFO:tensorflow:Assets written to: model_experiments/model_1_dense/assets\n",
            "Epoch 67/100\n",
            "18/18 [==============================] - 0s 3ms/step - loss: 106.6371 - mae: 106.6371 - mse: 70166.2656 - val_loss: 646.6371 - val_mae: 646.6371 - val_mse: 1356396.2500\n",
            "Epoch 68/100\n",
            "18/18 [==============================] - 0s 3ms/step - loss: 114.1603 - mae: 114.1603 - mse: 71297.3281 - val_loss: 681.8581 - val_mae: 681.8581 - val_mse: 1455432.8750\n",
            "Epoch 69/100\n",
            "18/18 [==============================] - 0s 3ms/step - loss: 124.5514 - mae: 124.5514 - mse: 81239.0000 - val_loss: 655.9902 - val_mae: 655.9902 - val_mse: 1383327.2500\n",
            "Epoch 70/100\n",
            "18/18 [==============================] - 0s 4ms/step - loss: 125.0234 - mae: 125.0234 - mse: 83058.1953 - val_loss: 601.0046 - val_mae: 601.0046 - val_mse: 1256965.2500\n",
            "Epoch 71/100\n",
            "18/18 [==============================] - 0s 4ms/step - loss: 110.3651 - mae: 110.3651 - mse: 71691.5156 - val_loss: 595.3952 - val_mae: 595.3952 - val_mse: 1222770.1250\n",
            "Epoch 72/100\n",
            "18/18 [==============================] - 0s 3ms/step - loss: 107.9285 - mae: 107.9285 - mse: 71745.5391 - val_loss: 573.7084 - val_mae: 573.7084 - val_mse: 1192818.7500\n",
            "Epoch 73/100\n",
            "18/18 [==============================] - 0s 3ms/step - loss: 109.5085 - mae: 109.5085 - mse: 71691.1641 - val_loss: 580.4187 - val_mae: 580.4187 - val_mse: 1211318.3750\n",
            "Epoch 74/100\n",
            "18/18 [==============================] - 0s 4ms/step - loss: 108.7380 - mae: 108.7380 - mse: 72051.1328 - val_loss: 576.1218 - val_mae: 576.1218 - val_mse: 1199671.0000\n",
            "Epoch 75/100\n",
            "18/18 [==============================] - 0s 3ms/step - loss: 107.9404 - mae: 107.9404 - mse: 71043.1641 - val_loss: 591.1465 - val_mae: 591.1465 - val_mse: 1211106.2500\n",
            "Epoch 76/100\n",
            "18/18 [==============================] - 0s 4ms/step - loss: 109.4232 - mae: 109.4232 - mse: 72295.0547 - val_loss: 597.8621 - val_mae: 597.8621 - val_mse: 1243938.2500\n",
            "Epoch 77/100\n",
            "18/18 [==============================] - 0s 3ms/step - loss: 107.5879 - mae: 107.5879 - mse: 70333.8594 - val_loss: 571.9301 - val_mae: 571.9301 - val_mse: 1186830.0000\n",
            "INFO:tensorflow:Assets written to: model_experiments/model_1_dense/assets\n",
            "Epoch 78/100\n",
            "18/18 [==============================] - 0s 4ms/step - loss: 108.1598 - mae: 108.1598 - mse: 70200.1016 - val_loss: 575.2389 - val_mae: 575.2389 - val_mse: 1195317.8750\n",
            "Epoch 79/100\n",
            "18/18 [==============================] - 0s 3ms/step - loss: 107.9175 - mae: 107.9175 - mse: 72451.6250 - val_loss: 617.3092 - val_mae: 617.3092 - val_mse: 1285513.8750\n",
            "Epoch 80/100\n",
            "18/18 [==============================] - 0s 3ms/step - loss: 108.9510 - mae: 108.9510 - mse: 72158.7969 - val_loss: 583.4836 - val_mae: 583.4836 - val_mse: 1194356.1250\n",
            "Epoch 81/100\n",
            "18/18 [==============================] - 0s 4ms/step - loss: 106.0505 - mae: 106.0505 - mse: 69690.9219 - val_loss: 570.0801 - val_mae: 570.0801 - val_mse: 1177237.8750\n",
            "INFO:tensorflow:Assets written to: model_experiments/model_1_dense/assets\n",
            "Epoch 82/100\n",
            "18/18 [==============================] - 0s 3ms/step - loss: 115.6827 - mae: 115.6827 - mse: 76903.5000 - val_loss: 575.7390 - val_mae: 575.7390 - val_mse: 1194663.6250\n",
            "Epoch 83/100\n",
            "18/18 [==============================] - 0s 4ms/step - loss: 110.9379 - mae: 110.9379 - mse: 72968.3203 - val_loss: 659.6590 - val_mae: 659.6590 - val_mse: 1388833.3750\n",
            "Epoch 84/100\n",
            "18/18 [==============================] - 0s 3ms/step - loss: 111.4836 - mae: 111.4836 - mse: 73017.9531 - val_loss: 570.1957 - val_mae: 570.1957 - val_mse: 1177492.5000\n",
            "Epoch 85/100\n",
            "18/18 [==============================] - 0s 4ms/step - loss: 107.5948 - mae: 107.5948 - mse: 70728.2266 - val_loss: 601.5933 - val_mae: 601.5933 - val_mse: 1228450.1250\n",
            "Epoch 86/100\n",
            "18/18 [==============================] - 0s 4ms/step - loss: 108.9426 - mae: 108.9426 - mse: 70066.7734 - val_loss: 592.8096 - val_mae: 592.8096 - val_mse: 1209679.5000\n",
            "Epoch 87/100\n",
            "18/18 [==============================] - 0s 3ms/step - loss: 105.7717 - mae: 105.7717 - mse: 68382.3906 - val_loss: 603.6180 - val_mae: 603.6180 - val_mse: 1252411.3750\n",
            "Epoch 88/100\n",
            "18/18 [==============================] - 0s 3ms/step - loss: 107.9218 - mae: 107.9218 - mse: 71668.0859 - val_loss: 569.0501 - val_mae: 569.0501 - val_mse: 1174588.7500\n",
            "INFO:tensorflow:Assets written to: model_experiments/model_1_dense/assets\n",
            "Epoch 89/100\n",
            "18/18 [==============================] - 0s 4ms/step - loss: 106.0344 - mae: 106.0344 - mse: 68979.1641 - val_loss: 568.9511 - val_mae: 568.9511 - val_mse: 1171744.0000\n",
            "INFO:tensorflow:Assets written to: model_experiments/model_1_dense/assets\n",
            "Epoch 90/100\n",
            "18/18 [==============================] - 0s 3ms/step - loss: 105.4977 - mae: 105.4977 - mse: 67516.5000 - val_loss: 581.7675 - val_mae: 581.7675 - val_mse: 1190160.1250\n",
            "Epoch 91/100\n",
            "18/18 [==============================] - 0s 4ms/step - loss: 108.8468 - mae: 108.8468 - mse: 71112.3750 - val_loss: 573.6028 - val_mae: 573.6028 - val_mse: 1185216.8750\n",
            "Epoch 92/100\n",
            "18/18 [==============================] - 0s 4ms/step - loss: 110.8884 - mae: 110.8884 - mse: 73287.8594 - val_loss: 576.8241 - val_mae: 576.8241 - val_mse: 1181628.1250\n",
            "Epoch 93/100\n",
            "18/18 [==============================] - 0s 4ms/step - loss: 113.8781 - mae: 113.8781 - mse: 75236.4688 - val_loss: 608.3032 - val_mae: 608.3032 - val_mse: 1264208.0000\n",
            "Epoch 94/100\n",
            "18/18 [==============================] - 0s 4ms/step - loss: 110.5763 - mae: 110.5763 - mse: 72590.9141 - val_loss: 601.6036 - val_mae: 601.6036 - val_mse: 1229104.1250\n",
            "Epoch 95/100\n",
            "18/18 [==============================] - 0s 3ms/step - loss: 106.5906 - mae: 106.5906 - mse: 68612.3281 - val_loss: 570.3649 - val_mae: 570.3649 - val_mse: 1175759.1250\n",
            "Epoch 96/100\n",
            "18/18 [==============================] - 0s 4ms/step - loss: 116.9515 - mae: 116.9515 - mse: 75082.1250 - val_loss: 615.2594 - val_mae: 615.2594 - val_mse: 1277126.6250\n",
            "Epoch 97/100\n",
            "18/18 [==============================] - 0s 4ms/step - loss: 108.0739 - mae: 108.0739 - mse: 71321.4688 - val_loss: 580.3080 - val_mae: 580.3080 - val_mse: 1202623.3750\n",
            "Epoch 98/100\n",
            "18/18 [==============================] - 0s 3ms/step - loss: 108.7102 - mae: 108.7102 - mse: 70248.1328 - val_loss: 586.6504 - val_mae: 586.6504 - val_mse: 1200830.1250\n",
            "Epoch 99/100\n",
            "18/18 [==============================] - 0s 4ms/step - loss: 109.0488 - mae: 109.0488 - mse: 70913.1797 - val_loss: 570.0628 - val_mae: 570.0628 - val_mse: 1177064.2500\n",
            "Epoch 100/100\n",
            "18/18 [==============================] - 0s 3ms/step - loss: 106.1845 - mae: 106.1845 - mse: 68681.7500 - val_loss: 585.9752 - val_mae: 585.9752 - val_mse: 1197801.2500\n"
          ],
          "name": "stdout"
        },
        {
          "output_type": "execute_result",
          "data": {
            "text/plain": [
              "<keras.callbacks.History at 0x7f564daf6a10>"
            ]
          },
          "metadata": {},
          "execution_count": 50
        }
      ]
    },
    {
      "cell_type": "code",
      "metadata": {
        "colab": {
          "base_uri": "https://localhost:8080/"
        },
        "id": "Gbo00ws83XvL",
        "outputId": "5c10cb95-93b9-48be-98e5-049868017ca7"
      },
      "source": [
        "# Evaluate model on test data\n",
        "model_1.evaluate(test_windows, test_labels)"
      ],
      "execution_count": 51,
      "outputs": [
        {
          "output_type": "stream",
          "text": [
            "18/18 [==============================] - 0s 2ms/step - loss: 585.9752 - mae: 585.9752 - mse: 1197801.2500\n"
          ],
          "name": "stdout"
        },
        {
          "output_type": "execute_result",
          "data": {
            "text/plain": [
              "[585.9751586914062, 585.9751586914062, 1197801.25]"
            ]
          },
          "metadata": {},
          "execution_count": 51
        }
      ]
    },
    {
      "cell_type": "code",
      "metadata": {
        "colab": {
          "base_uri": "https://localhost:8080/"
        },
        "id": "J78iEfZs4tgX",
        "outputId": "a9743cf0-92b5-48a7-cd81-40d4084b0708"
      },
      "source": [
        "# load in saved best performig model_1 and evaluate it on test data\n",
        "model_1 = tf.keras.models.load_model(\"model_experiments/model_1_dense/\")\n",
        "model_1.evaluate(test_windows, test_labels)"
      ],
      "execution_count": 52,
      "outputs": [
        {
          "output_type": "stream",
          "text": [
            "18/18 [==============================] - 0s 2ms/step - loss: 568.9510 - mae: 568.9510 - mse: 1171744.0000\n"
          ],
          "name": "stdout"
        },
        {
          "output_type": "execute_result",
          "data": {
            "text/plain": [
              "[568.9510498046875, 568.9510498046875, 1171744.0]"
            ]
          },
          "metadata": {},
          "execution_count": 52
        }
      ]
    },
    {
      "cell_type": "markdown",
      "metadata": {
        "id": "M-wZe5GimXMF"
      },
      "source": [
        "## Making forecast with a model (on the test dataset)\n",
        "\n",
        "\n",
        "To make \"forecasts\" on the test dataset (note : these won't be actual forecasts, they're only pseudo forecast because actual forecasts are into the future). Let's write a function to :\n",
        "1. Take in a train mdoel\n",
        "2. Takes in some input data(same kind of data the model was trained on)\n",
        "3. Passes the input data to the model's `predict()` method.\n",
        "4. Returns the predictions"
      ]
    },
    {
      "cell_type": "code",
      "metadata": {
        "id": "9HVndUvCnoPI"
      },
      "source": [
        "def make_preds(model, input_data) :\n",
        "  \"\"\"\n",
        "  Uses model to make predictions input_data\n",
        "  \"\"\"\n",
        "  forecast = model.predict(input_data)\n",
        "  return tf.squeeze(forecast) # return 1D array of predictions"
      ],
      "execution_count": 53,
      "outputs": []
    },
    {
      "cell_type": "code",
      "metadata": {
        "colab": {
          "base_uri": "https://localhost:8080/"
        },
        "id": "qz2QpIGgn-_N",
        "outputId": "156e3a09-6913-465b-b0b4-220602af0bd7"
      },
      "source": [
        "# Make predictions using model_1 on the test dataset and view_results\n",
        "model_1_preds = make_preds(model_1, test_windows)\n",
        "len(model_1_preds), model_1_preds[:10]"
      ],
      "execution_count": 54,
      "outputs": [
        {
          "output_type": "execute_result",
          "data": {
            "text/plain": [
              "(556, <tf.Tensor: shape=(10,), dtype=float32, numpy=\n",
              " array([8861.713 , 8769.888 , 9015.712 , 8795.52  , 8723.8125, 8730.111 ,\n",
              "        8691.953 , 8502.056 , 8460.962 , 8516.548 ], dtype=float32)>)"
            ]
          },
          "metadata": {},
          "execution_count": 54
        }
      ]
    },
    {
      "cell_type": "code",
      "metadata": {
        "colab": {
          "base_uri": "https://localhost:8080/"
        },
        "id": "VpysKrHzqojS",
        "outputId": "6aa169c9-f143-4833-f458-68e40e038f76"
      },
      "source": [
        "test_labels.shape, model_1_preds.shape"
      ],
      "execution_count": 55,
      "outputs": [
        {
          "output_type": "execute_result",
          "data": {
            "text/plain": [
              "((556, 1), TensorShape([556]))"
            ]
          },
          "metadata": {},
          "execution_count": 55
        }
      ]
    },
    {
      "cell_type": "code",
      "metadata": {
        "colab": {
          "base_uri": "https://localhost:8080/"
        },
        "id": "unipDm-Zp7mI",
        "outputId": "0ccbdd97-5401-42a7-9cb3-494b339fe9df"
      },
      "source": [
        "# Evaluate preds\n",
        "\n",
        "model_1_results = evaluate_preds(y_true = tf.squeeze(test_labels),\n",
        "                                 y_pred = model_1_preds)\n",
        "model_1_results"
      ],
      "execution_count": 56,
      "outputs": [
        {
          "output_type": "execute_result",
          "data": {
            "text/plain": [
              "{'mae': 568.9511,\n",
              " 'mape': 2.5448983,\n",
              " 'mase': 0.99948955,\n",
              " 'mse': 1171744.0,\n",
              " 'rmse': 1082.4712}"
            ]
          },
          "metadata": {},
          "execution_count": 56
        }
      ]
    },
    {
      "cell_type": "code",
      "metadata": {
        "colab": {
          "base_uri": "https://localhost:8080/"
        },
        "id": "d7Fm_k8sqcii",
        "outputId": "e936e173-933c-4198-b3ed-cdec81173707"
      },
      "source": [
        "naive_results"
      ],
      "execution_count": 57,
      "outputs": [
        {
          "output_type": "execute_result",
          "data": {
            "text/plain": [
              "{'mae': 567.9802,\n",
              " 'mape': 2.516525,\n",
              " 'mase': 0.99957,\n",
              " 'mse': 1147547.0,\n",
              " 'rmse': 1071.2362}"
            ]
          },
          "metadata": {},
          "execution_count": 57
        }
      ]
    },
    {
      "cell_type": "code",
      "metadata": {
        "colab": {
          "base_uri": "https://localhost:8080/",
          "height": 446
        },
        "id": "Krhf0PWhrPSe",
        "outputId": "01910488-9518-44e8-d26c-9002a9fb27b4"
      },
      "source": [
        "# Let's plot our model 1 predictions\n",
        "offset = 450\n",
        "plt.figure(figsize=(10, 7))\n",
        "\n",
        "# Account for the test_window offset and index into test_labels to ensure correct plotting\n",
        "plot_time_series(timesteps=X_test[-len(test_windows) :], \n",
        "                 values = test_labels[:, 0],\n",
        "                 start = offset, \n",
        "                 label=\"Test Data\")\n",
        "\n",
        "plot_time_series(timesteps = X_test[-len(test_windows) :],\n",
        "                 values = model_1_preds,\n",
        "                 start = offset,\n",
        "                 format = \"-\",\n",
        "                 label = \"model_1_preds\")"
      ],
      "execution_count": 58,
      "outputs": [
        {
          "output_type": "display_data",
          "data": {
            "image/png": "[encoded data removed]",
            "text/plain": [
              "<Figure size 720x504 with 1 Axes>"
            ]
          },
          "metadata": {
            "needs_background": "light"
          }
        }
      ]
    },
    {
      "cell_type": "markdown",
      "metadata": {
        "id": "BzAuF3JewUp_"
      },
      "source": [
        "> **Resources** : To understand a bit more about the lagging predictions for the above model predictions, please refer to the resources on topic \"Autocorrelation\"\n",
        "https://otexts.com/fpp3/acf.html"
      ]
    },
    {
      "cell_type": "markdown",
      "metadata": {
        "id": "b6KPLYq9u0J0"
      },
      "source": [
        "## Model 2 : Window size = 30, horizon = 1"
      ]
    },
    {
      "cell_type": "code",
      "metadata": {
        "id": "jWkNnCcYvFUg"
      },
      "source": [
        "# Create train and test data for window size 30\n",
        "WINDOW_SIZE = 30 # use 30 timestamps in past\n",
        "HORIZON = 1 # predict one step at a time (one day of Bitcoin prices)\n"
      ],
      "execution_count": 59,
      "outputs": []
    },
    {
      "cell_type": "code",
      "metadata": {
        "colab": {
          "base_uri": "https://localhost:8080/"
        },
        "id": "Dxc3wowcxSqE",
        "outputId": "f0d42d4b-d668-4666-b83e-9c077d4bc959"
      },
      "source": [
        "# Make windows data with appropriate horizon and window sizes\n",
        "full_windows, full_labels = make_windows(prices, window_size=WINDOW_SIZE, horizon=HORIZON)\n",
        "len(full_windows), len(full_labels)"
      ],
      "execution_count": 60,
      "outputs": [
        {
          "output_type": "execute_result",
          "data": {
            "text/plain": [
              "(2757, 2757)"
            ]
          },
          "metadata": {},
          "execution_count": 60
        }
      ]
    },
    {
      "cell_type": "code",
      "metadata": {
        "colab": {
          "base_uri": "https://localhost:8080/"
        },
        "id": "Vdkj0750vSbE",
        "outputId": "b48d853b-92d1-42b1-b891-8bce50978577"
      },
      "source": [
        "full_windows.shape, full_labels.shape"
      ],
      "execution_count": 61,
      "outputs": [
        {
          "output_type": "execute_result",
          "data": {
            "text/plain": [
              "((2757, 30), (2757, 1))"
            ]
          },
          "metadata": {},
          "execution_count": 61
        }
      ]
    },
    {
      "cell_type": "code",
      "metadata": {
        "colab": {
          "base_uri": "https://localhost:8080/"
        },
        "id": "KRsZ_v5xveVU",
        "outputId": "2256b1fd-da34-47cf-dcee-13d0bbe00a7c"
      },
      "source": [
        "# Make train/test windows for the WINDOW_SIZE = 30\n",
        "train_windows, test_windows, train_labels, test_labels = make_train_test_splits(full_windows, \n",
        "                                                                                full_labels)\n",
        "len(train_windows), len(test_windows), len(train_labels), len(test_labels)"
      ],
      "execution_count": 62,
      "outputs": [
        {
          "output_type": "execute_result",
          "data": {
            "text/plain": [
              "(2205, 552, 2205, 552)"
            ]
          },
          "metadata": {},
          "execution_count": 62
        }
      ]
    },
    {
      "cell_type": "code",
      "metadata": {
        "colab": {
          "base_uri": "https://localhost:8080/"
        },
        "id": "e4Dg3OYFvoiJ",
        "outputId": "d56c8eb2-681a-4da6-8724-b95bf81c03b0"
      },
      "source": [
        " train_windows.shape, test_windows.shape, train_labels.shape, test_labels.shape"
      ],
      "execution_count": 63,
      "outputs": [
        {
          "output_type": "execute_result",
          "data": {
            "text/plain": [
              "((2205, 30), (552, 30), (2205, 1), (552, 1))"
            ]
          },
          "metadata": {},
          "execution_count": 63
        }
      ]
    },
    {
      "cell_type": "code",
      "metadata": {
        "colab": {
          "base_uri": "https://localhost:8080/"
        },
        "id": "Fpk1PZoTx_E2",
        "outputId": "b980f128-a1db-45c1-fb7a-06f13eceaec1"
      },
      "source": [
        "train_windows[:3], train_labels[:3]"
      ],
      "execution_count": 64,
      "outputs": [
        {
          "output_type": "execute_result",
          "data": {
            "text/plain": [
              "(array([[123.65499, 125.455  , 108.58483, 118.67466, 121.33866, 120.65533,\n",
              "         121.795  , 123.033  , 124.049  , 125.96116, 125.27966, 125.9275 ,\n",
              "         126.38333, 135.24199, 133.20333, 142.76333, 137.92333, 142.95166,\n",
              "         152.55183, 160.33883, 164.31499, 177.63333, 188.29716, 200.70166,\n",
              "         180.355  , 175.03166, 177.6965 , 187.15983, 192.75666, 197.4    ],\n",
              "        [125.455  , 108.58483, 118.67466, 121.33866, 120.65533, 121.795  ,\n",
              "         123.033  , 124.049  , 125.96116, 125.27966, 125.9275 , 126.38333,\n",
              "         135.24199, 133.20333, 142.76333, 137.92333, 142.95166, 152.55183,\n",
              "         160.33883, 164.31499, 177.63333, 188.29716, 200.70166, 180.355  ,\n",
              "         175.03166, 177.6965 , 187.15983, 192.75666, 197.4    , 196.02499],\n",
              "        [108.58483, 118.67466, 121.33866, 120.65533, 121.795  , 123.033  ,\n",
              "         124.049  , 125.96116, 125.27966, 125.9275 , 126.38333, 135.24199,\n",
              "         133.20333, 142.76333, 137.92333, 142.95166, 152.55183, 160.33883,\n",
              "         164.31499, 177.63333, 188.29716, 200.70166, 180.355  , 175.03166,\n",
              "         177.6965 , 187.15983, 192.75666, 197.4    , 196.02499, 198.04883]]),\n",
              " array([[196.02499],\n",
              "        [198.04883],\n",
              "        [198.93233]]))"
            ]
          },
          "metadata": {},
          "execution_count": 64
        }
      ]
    },
    {
      "cell_type": "code",
      "metadata": {
        "colab": {
          "base_uri": "https://localhost:8080/"
        },
        "id": "iOlP1tKZyDdD",
        "outputId": "e37d7764-febb-45c4-d995-f02aed197570"
      },
      "source": [
        "# Create model 2\n",
        "import tensorflow as tf\n",
        "from tensorflow.keras import layers\n",
        "\n",
        "tf.random.set_seed(42)\n",
        "\n",
        "# Create model_2\n",
        "model_2 = tf.keras.Sequential([\n",
        "          layers.Dense(128, activation=\"relu\"),\n",
        "          layers.Dense(HORIZON)\n",
        "  ], name=\"model_2_dense\")\n",
        "\n",
        "# Compile the model\n",
        "model_2.compile(loss=\"mae\",\n",
        "                optimizer = tf.keras.optimizers.Adam(),\n",
        "                metrics=[\"mae\"])\n",
        "\n",
        "# Fit the model\n",
        "model_2.fit(x = train_windows, \n",
        "            y = train_labels,\n",
        "            epochs = 100,\n",
        "            batch_size = 128, \n",
        "            verbose = 0,\n",
        "            validation_data = (test_windows, test_labels),\n",
        "            callbacks=[create_model_checkpoint(model_name=model_2.name)])"
      ],
      "execution_count": 65,
      "outputs": [
        {
          "output_type": "stream",
          "text": [
            "INFO:tensorflow:Assets written to: model_experiments/model_2_dense/assets\n",
            "INFO:tensorflow:Assets written to: model_experiments/model_2_dense/assets\n",
            "INFO:tensorflow:Assets written to: model_experiments/model_2_dense/assets\n",
            "INFO:tensorflow:Assets written to: model_experiments/model_2_dense/assets\n",
            "INFO:tensorflow:Assets written to: model_experiments/model_2_dense/assets\n",
            "INFO:tensorflow:Assets written to: model_experiments/model_2_dense/assets\n",
            "INFO:tensorflow:Assets written to: model_experiments/model_2_dense/assets\n",
            "INFO:tensorflow:Assets written to: model_experiments/model_2_dense/assets\n",
            "INFO:tensorflow:Assets written to: model_experiments/model_2_dense/assets\n",
            "INFO:tensorflow:Assets written to: model_experiments/model_2_dense/assets\n",
            "INFO:tensorflow:Assets written to: model_experiments/model_2_dense/assets\n",
            "INFO:tensorflow:Assets written to: model_experiments/model_2_dense/assets\n",
            "INFO:tensorflow:Assets written to: model_experiments/model_2_dense/assets\n",
            "INFO:tensorflow:Assets written to: model_experiments/model_2_dense/assets\n",
            "INFO:tensorflow:Assets written to: model_experiments/model_2_dense/assets\n",
            "INFO:tensorflow:Assets written to: model_experiments/model_2_dense/assets\n",
            "INFO:tensorflow:Assets written to: model_experiments/model_2_dense/assets\n",
            "INFO:tensorflow:Assets written to: model_experiments/model_2_dense/assets\n",
            "INFO:tensorflow:Assets written to: model_experiments/model_2_dense/assets\n",
            "INFO:tensorflow:Assets written to: model_experiments/model_2_dense/assets\n",
            "INFO:tensorflow:Assets written to: model_experiments/model_2_dense/assets\n",
            "INFO:tensorflow:Assets written to: model_experiments/model_2_dense/assets\n",
            "INFO:tensorflow:Assets written to: model_experiments/model_2_dense/assets\n",
            "INFO:tensorflow:Assets written to: model_experiments/model_2_dense/assets\n",
            "INFO:tensorflow:Assets written to: model_experiments/model_2_dense/assets\n",
            "INFO:tensorflow:Assets written to: model_experiments/model_2_dense/assets\n",
            "INFO:tensorflow:Assets written to: model_experiments/model_2_dense/assets\n"
          ],
          "name": "stdout"
        },
        {
          "output_type": "execute_result",
          "data": {
            "text/plain": [
              "<keras.callbacks.History at 0x7f564a8ae110>"
            ]
          },
          "metadata": {},
          "execution_count": 65
        }
      ]
    },
    {
      "cell_type": "code",
      "metadata": {
        "colab": {
          "base_uri": "https://localhost:8080/"
        },
        "id": "BXXO7VFuzfQF",
        "outputId": "7030ce11-e5bb-4e00-b767-690cb06ed975"
      },
      "source": [
        "# Evaluate model 2 on test data\n",
        "model_2.evaluate(test_windows, test_labels)"
      ],
      "execution_count": 66,
      "outputs": [
        {
          "output_type": "stream",
          "text": [
            "18/18 [==============================] - 0s 2ms/step - loss: 608.9620 - mae: 608.9620\n"
          ],
          "name": "stdout"
        },
        {
          "output_type": "execute_result",
          "data": {
            "text/plain": [
              "[608.9619750976562, 608.9619750976562]"
            ]
          },
          "metadata": {},
          "execution_count": 66
        }
      ]
    },
    {
      "cell_type": "code",
      "metadata": {
        "colab": {
          "base_uri": "https://localhost:8080/"
        },
        "id": "J_RV9sqk0BdQ",
        "outputId": "c7bf3fb0-5b29-4bc3-ddde-f88560534e3a"
      },
      "source": [
        "# Load in the best performing model \n",
        "model_2 = tf.keras.models.load_model(\"model_experiments/model_2_dense/\")\n",
        "model_2.evaluate(test_windows, test_labels)"
      ],
      "execution_count": 67,
      "outputs": [
        {
          "output_type": "stream",
          "text": [
            "18/18 [==============================] - 0s 2ms/step - loss: 608.9620 - mae: 608.9620\n"
          ],
          "name": "stdout"
        },
        {
          "output_type": "execute_result",
          "data": {
            "text/plain": [
              "[608.9619750976562, 608.9619750976562]"
            ]
          },
          "metadata": {},
          "execution_count": 67
        }
      ]
    },
    {
      "cell_type": "code",
      "metadata": {
        "id": "Qv1-16jZ0VTx"
      },
      "source": [
        "# Get forecast predictions\n",
        "model_2_preds = make_preds(model_2, \n",
        "                           input_data = test_windows)"
      ],
      "execution_count": 68,
      "outputs": []
    },
    {
      "cell_type": "code",
      "metadata": {
        "colab": {
          "base_uri": "https://localhost:8080/"
        },
        "id": "tI4xFuoJ0k5D",
        "outputId": "6a6a6af2-f55a-485d-cae7-11b749bfb605"
      },
      "source": [
        "model_2_preds.shape, test_labels.shape, tf.squeeze(test_labels).shape"
      ],
      "execution_count": 69,
      "outputs": [
        {
          "output_type": "execute_result",
          "data": {
            "text/plain": [
              "(TensorShape([552]), (552, 1), TensorShape([552]))"
            ]
          },
          "metadata": {},
          "execution_count": 69
        }
      ]
    },
    {
      "cell_type": "code",
      "metadata": {
        "colab": {
          "base_uri": "https://localhost:8080/"
        },
        "id": "-ZPD5ZR20fYE",
        "outputId": "1f0ab4ad-76b2-4fc7-e7b2-eb9a8177fa0b"
      },
      "source": [
        "# Evaluate  results for model 2 predictions\n",
        "model_2_results = evaluate_preds(y_true = tf.squeeze(test_labels),\n",
        "                                 y_pred = model_2_preds)\n",
        "model_2_results"
      ],
      "execution_count": 70,
      "outputs": [
        {
          "output_type": "execute_result",
          "data": {
            "text/plain": [
              "{'mae': 608.962,\n",
              " 'mape': 2.7693412,\n",
              " 'mase': 1.0644715,\n",
              " 'mse': 1281440.6,\n",
              " 'rmse': 1132.0073}"
            ]
          },
          "metadata": {},
          "execution_count": 70
        }
      ]
    },
    {
      "cell_type": "code",
      "metadata": {
        "colab": {
          "base_uri": "https://localhost:8080/",
          "height": 442
        },
        "id": "24lM0Bhz1Hg4",
        "outputId": "df35f52a-e7b4-4cee-ebbc-95d40414f2d9"
      },
      "source": [
        "offset = 450\n",
        "plt.figure(figsize=(10, 7))\n",
        "# Account for test_window offset when plotting\n",
        "plot_time_series(timesteps = X_test[-len(test_windows) :], \n",
        "                 values = test_labels[:, 0],\n",
        "                 start = offset, \n",
        "                 label=\"Test Data\")\n",
        "\n",
        "plot_time_series(timesteps = X_test[-len(test_windows) : ],\n",
        "                 values = model_2_preds,\n",
        "                 start = offset,\n",
        "                 format=\"-\",\n",
        "                 label = \"model_2_preds\")"
      ],
      "execution_count": 71,
      "outputs": [
        {
          "output_type": "display_data",
          "data": {
            "image/png": "[encoded data removed]",
            "text/plain": [
              "<Figure size 720x504 with 1 Axes>"
            ]
          },
          "metadata": {
            "needs_background": "light"
          }
        }
      ]
    },
    {
      "cell_type": "markdown",
      "metadata": {
        "id": "cnoUToVk2mHI"
      },
      "source": [
        "## Model 3 : Dense ( Window size = 30, horizon = 7)"
      ]
    },
    {
      "cell_type": "code",
      "metadata": {
        "id": "QW82DgR-2pG2"
      },
      "source": [
        "# Create train and test data for window size 30\n",
        "WINDOW_SIZE = 30 # use 30 timestamps in past\n",
        "HORIZON = 7 # predict 7 step at a time (one day of Bitcoin prices)"
      ],
      "execution_count": 72,
      "outputs": []
    },
    {
      "cell_type": "code",
      "metadata": {
        "colab": {
          "base_uri": "https://localhost:8080/"
        },
        "id": "Bgk7TAIC2vge",
        "outputId": "f056140c-1fef-4b03-b7ab-db28ad3d93be"
      },
      "source": [
        "full_windows, full_labels = make_windows(prices, window_size=WINDOW_SIZE, horizon=HORIZON)\n",
        "len(full_windows), len(full_labels)\n"
      ],
      "execution_count": 73,
      "outputs": [
        {
          "output_type": "execute_result",
          "data": {
            "text/plain": [
              "(2751, 2751)"
            ]
          },
          "metadata": {},
          "execution_count": 73
        }
      ]
    },
    {
      "cell_type": "code",
      "metadata": {
        "colab": {
          "base_uri": "https://localhost:8080/"
        },
        "id": "AKe7W_bD3DCR",
        "outputId": "f81b08e6-6a77-4146-8599-f2d0aa083125"
      },
      "source": [
        "full_windows.shape, full_labels.shape"
      ],
      "execution_count": 74,
      "outputs": [
        {
          "output_type": "execute_result",
          "data": {
            "text/plain": [
              "((2751, 30), (2751, 7))"
            ]
          },
          "metadata": {},
          "execution_count": 74
        }
      ]
    },
    {
      "cell_type": "code",
      "metadata": {
        "colab": {
          "base_uri": "https://localhost:8080/"
        },
        "id": "1V5ic97Q3Jv4",
        "outputId": "cdba798b-551f-47ce-cbf3-5a403129e46d"
      },
      "source": [
        "# Make train/test windows for the WINDOW_SIZE = 30 HORIZON = 7\n",
        "train_windows, test_windows, train_labels, test_labels = make_train_test_splits(windows = full_windows, \n",
        "                                                                                labels = full_labels)\n",
        "len(train_windows), len(test_windows), len(train_labels), len(test_labels)"
      ],
      "execution_count": 75,
      "outputs": [
        {
          "output_type": "execute_result",
          "data": {
            "text/plain": [
              "(2200, 551, 2200, 551)"
            ]
          },
          "metadata": {},
          "execution_count": 75
        }
      ]
    },
    {
      "cell_type": "code",
      "metadata": {
        "colab": {
          "base_uri": "https://localhost:8080/"
        },
        "id": "aRslDy-e3kTg",
        "outputId": "50f8e0d3-ff51-4aeb-b343-e6453adb1a9d"
      },
      "source": [
        "train_windows.shape, train_labels.shape"
      ],
      "execution_count": 76,
      "outputs": [
        {
          "output_type": "execute_result",
          "data": {
            "text/plain": [
              "((2200, 30), (2200, 7))"
            ]
          },
          "metadata": {},
          "execution_count": 76
        }
      ]
    },
    {
      "cell_type": "code",
      "metadata": {
        "colab": {
          "base_uri": "https://localhost:8080/"
        },
        "id": "TzYCad1V8YPx",
        "outputId": "0de88146-66eb-428c-c95d-ea065ca4ac8e"
      },
      "source": [
        "HORIZON, WINDOW_SIZE"
      ],
      "execution_count": 77,
      "outputs": [
        {
          "output_type": "execute_result",
          "data": {
            "text/plain": [
              "(7, 30)"
            ]
          },
          "metadata": {},
          "execution_count": 77
        }
      ]
    },
    {
      "cell_type": "code",
      "metadata": {
        "colab": {
          "base_uri": "https://localhost:8080/"
        },
        "id": "ZLWpqrCN3q2y",
        "outputId": "2b379185-1957-490b-e731-908f2713d4c5"
      },
      "source": [
        "# Create model 3 (same as model_1 except with different data input and output sizes)\n",
        "import tensorflow as tf\n",
        "from tensorflow.keras import layers\n",
        "\n",
        "tf.random.set_seed(42)\n",
        "\n",
        "# Create the model\n",
        "model_3 = tf.keras.Sequential([\n",
        "          layers.Dense(128, activation=\"relu\"),\n",
        "          layers.Dense(HORIZON) # activation=\"linear\" same as no activation(None)\n",
        "], name=\"model_3_dense\")\n",
        "\n",
        "# Compile the model\n",
        "model_3.compile(loss=\"mae\",\n",
        "                optimizer = tf.keras.optimizers.Adam())\n",
        "\n",
        "# Fit the model\n",
        "model_3.fit(train_windows,\n",
        "            train_labels,\n",
        "            epochs = 100,\n",
        "            batch_size = 128,\n",
        "            verbose = 0,\n",
        "            validation_data = (test_windows, test_labels),\n",
        "            callbacks=[create_model_checkpoint(model_name = model_3.name)])\n"
      ],
      "execution_count": 78,
      "outputs": [
        {
          "output_type": "stream",
          "text": [
            "INFO:tensorflow:Assets written to: model_experiments/model_3_dense/assets\n",
            "INFO:tensorflow:Assets written to: model_experiments/model_3_dense/assets\n",
            "INFO:tensorflow:Assets written to: model_experiments/model_3_dense/assets\n",
            "INFO:tensorflow:Assets written to: model_experiments/model_3_dense/assets\n",
            "INFO:tensorflow:Assets written to: model_experiments/model_3_dense/assets\n",
            "INFO:tensorflow:Assets written to: model_experiments/model_3_dense/assets\n",
            "INFO:tensorflow:Assets written to: model_experiments/model_3_dense/assets\n",
            "INFO:tensorflow:Assets written to: model_experiments/model_3_dense/assets\n",
            "INFO:tensorflow:Assets written to: model_experiments/model_3_dense/assets\n",
            "INFO:tensorflow:Assets written to: model_experiments/model_3_dense/assets\n",
            "INFO:tensorflow:Assets written to: model_experiments/model_3_dense/assets\n",
            "INFO:tensorflow:Assets written to: model_experiments/model_3_dense/assets\n",
            "INFO:tensorflow:Assets written to: model_experiments/model_3_dense/assets\n",
            "INFO:tensorflow:Assets written to: model_experiments/model_3_dense/assets\n",
            "INFO:tensorflow:Assets written to: model_experiments/model_3_dense/assets\n",
            "INFO:tensorflow:Assets written to: model_experiments/model_3_dense/assets\n",
            "INFO:tensorflow:Assets written to: model_experiments/model_3_dense/assets\n",
            "INFO:tensorflow:Assets written to: model_experiments/model_3_dense/assets\n",
            "INFO:tensorflow:Assets written to: model_experiments/model_3_dense/assets\n",
            "INFO:tensorflow:Assets written to: model_experiments/model_3_dense/assets\n",
            "INFO:tensorflow:Assets written to: model_experiments/model_3_dense/assets\n",
            "INFO:tensorflow:Assets written to: model_experiments/model_3_dense/assets\n",
            "INFO:tensorflow:Assets written to: model_experiments/model_3_dense/assets\n",
            "INFO:tensorflow:Assets written to: model_experiments/model_3_dense/assets\n"
          ],
          "name": "stdout"
        },
        {
          "output_type": "execute_result",
          "data": {
            "text/plain": [
              "<keras.callbacks.History at 0x7f564a1f8f10>"
            ]
          },
          "metadata": {},
          "execution_count": 78
        }
      ]
    },
    {
      "cell_type": "code",
      "metadata": {
        "colab": {
          "base_uri": "https://localhost:8080/"
        },
        "id": "mrE8Ga1u4k8Q",
        "outputId": "f69a406a-1fbb-4011-810b-bcb8e0633eb9"
      },
      "source": [
        "# Evaluate model on the test data\n",
        "model_3.evaluate(test_windows, test_labels)\n"
      ],
      "execution_count": 79,
      "outputs": [
        {
          "output_type": "stream",
          "text": [
            "18/18 [==============================] - 0s 1ms/step - loss: 1340.4274\n"
          ],
          "name": "stdout"
        },
        {
          "output_type": "execute_result",
          "data": {
            "text/plain": [
              "1340.4273681640625"
            ]
          },
          "metadata": {},
          "execution_count": 79
        }
      ]
    },
    {
      "cell_type": "code",
      "metadata": {
        "colab": {
          "base_uri": "https://localhost:8080/"
        },
        "id": "x2lLQt5_4rwG",
        "outputId": "5e54df70-fadb-4729-b119-76abbc643e79"
      },
      "source": [
        "# Load best version of model_3 and evaluate\n",
        "model_3 = tf.keras.models.load_model(\"model_experiments/model_3_dense/\")\n",
        "model_3.evaluate(test_windows, test_labels)\n"
      ],
      "execution_count": 80,
      "outputs": [
        {
          "output_type": "stream",
          "text": [
            "18/18 [==============================] - 0s 2ms/step - loss: 1234.8838\n"
          ],
          "name": "stdout"
        },
        {
          "output_type": "execute_result",
          "data": {
            "text/plain": [
              "1234.8837890625"
            ]
          },
          "metadata": {},
          "execution_count": 80
        }
      ]
    },
    {
      "cell_type": "code",
      "metadata": {
        "id": "0Icu4TW744HY"
      },
      "source": [
        "# Get Model_3 predictions\n",
        "model_3_preds = make_preds(model = model_3,\n",
        "                           input_data = test_windows)"
      ],
      "execution_count": 81,
      "outputs": []
    },
    {
      "cell_type": "code",
      "metadata": {
        "colab": {
          "base_uri": "https://localhost:8080/"
        },
        "id": "UqayHy7c9Mrg",
        "outputId": "878b6adc-a2e7-42f6-e966-b88a79e67622"
      },
      "source": [
        "model_3_preds[:3]"
      ],
      "execution_count": 82,
      "outputs": [
        {
          "output_type": "execute_result",
          "data": {
            "text/plain": [
              "<tf.Tensor: shape=(3, 7), dtype=float32, numpy=\n",
              "array([[9250.798, 9279.124, 9394.038, 9400.203, 9479.183, 9375.264,\n",
              "        9302.472],\n",
              "       [8945.557, 9029.438, 9164.761, 8997.948, 9077.654, 8971.883,\n",
              "        9081.854],\n",
              "       [8883.711, 8987.258, 9057.071, 8901.714, 9001.872, 8817.509,\n",
              "        8971.558]], dtype=float32)>"
            ]
          },
          "metadata": {},
          "execution_count": 82
        }
      ]
    },
    {
      "cell_type": "code",
      "metadata": {
        "colab": {
          "base_uri": "https://localhost:8080/"
        },
        "id": "ZKmVum8b5BZf",
        "outputId": "b1468222-23f6-4982-802e-ac08540430ec"
      },
      "source": [
        "model_3_preds.shape, test_labels.shape"
      ],
      "execution_count": 83,
      "outputs": [
        {
          "output_type": "execute_result",
          "data": {
            "text/plain": [
              "(TensorShape([551, 7]), (551, 7))"
            ]
          },
          "metadata": {},
          "execution_count": 83
        }
      ]
    },
    {
      "cell_type": "code",
      "metadata": {
        "colab": {
          "base_uri": "https://localhost:8080/"
        },
        "id": "Z6Ct3nWv5Kwf",
        "outputId": "6b8e8c34-6143-44ee-dc52-b0268ad3af44"
      },
      "source": [
        "# Evaluate model_3 results\n",
        "model_3_results = evaluate_preds(y_true = tf.squeeze(test_labels),\n",
        "                                 y_pred = model_3_preds)\n",
        "model_3_results[\"mae\"].ndim"
      ],
      "execution_count": 84,
      "outputs": [
        {
          "output_type": "execute_result",
          "data": {
            "text/plain": [
              "1"
            ]
          },
          "metadata": {},
          "execution_count": 84
        }
      ]
    },
    {
      "cell_type": "code",
      "metadata": {
        "id": "gkbpPA_vUndK",
        "colab": {
          "base_uri": "https://localhost:8080/"
        },
        "outputId": "0c07d18e-2653-4fd0-b64b-3421fe1a0c78"
      },
      "source": [
        "model_2_results[\"mae\"].ndim"
      ],
      "execution_count": 85,
      "outputs": [
        {
          "output_type": "execute_result",
          "data": {
            "text/plain": [
              "0"
            ]
          },
          "metadata": {},
          "execution_count": 85
        }
      ]
    },
    {
      "cell_type": "code",
      "metadata": {
        "colab": {
          "base_uri": "https://localhost:8080/"
        },
        "id": "BiG0PtroUJj5",
        "outputId": "2f40f496-6bd3-4b6c-bf1d-99efb7059908"
      },
      "source": [
        "tf.reduce_mean(model_3_results[\"mae\"]).numpy()"
      ],
      "execution_count": 86,
      "outputs": [
        {
          "output_type": "execute_result",
          "data": {
            "text/plain": [
              "1234.8837"
            ]
          },
          "metadata": {},
          "execution_count": 86
        }
      ]
    },
    {
      "cell_type": "code",
      "metadata": {
        "colab": {
          "base_uri": "https://localhost:8080/"
        },
        "id": "keqiDDAHUk5I",
        "outputId": "d6b4cc08-ac00-4a70-93e1-a79ae4e8e6d0"
      },
      "source": [
        "model_3.evaluate(test_windows, test_labels)"
      ],
      "execution_count": 87,
      "outputs": [
        {
          "output_type": "stream",
          "text": [
            "18/18 [==============================] - 0s 2ms/step - loss: 1234.8838\n"
          ],
          "name": "stdout"
        },
        {
          "output_type": "execute_result",
          "data": {
            "text/plain": [
              "1234.8837890625"
            ]
          },
          "metadata": {},
          "execution_count": 87
        }
      ]
    },
    {
      "cell_type": "markdown",
      "metadata": {
        "id": "Xsd-2bQcTPJu"
      },
      "source": [
        "## Make our evaluation function work for larger horizons\n"
      ]
    },
    {
      "cell_type": "code",
      "metadata": {
        "id": "HBAdLe8WTWUp"
      },
      "source": [
        "# Create a function to take in model predictions and truth value and return eveluation metrics\n",
        "\n",
        "def evaluate_preds(y_true, y_pred) :\n",
        "  \"\"\"\n",
        "  Compute all evaluation metrics\n",
        "  Returns :\n",
        "  dictionary with all evaluation metrics values\n",
        "  \"\"\"\n",
        "  # Make sure float32 datatype (for metric calculations)\n",
        "  y_true = tf.cast(y_true, dtype=tf.float32)\n",
        "  y_pred = tf.cast(y_pred, tf.float32)\n",
        "\n",
        "  # Calculate various evaluation metrics\n",
        "  mae = tf.keras.metrics.mean_absolute_error(y_true, y_pred)\n",
        "  mse = tf.keras.metrics.mean_squared_error(y_true, y_pred)\n",
        "  rmse = tf.sqrt(mse)\n",
        "  mape = tf.keras.metrics.mean_absolute_percentage_error(y_true, y_pred)\n",
        "  mase = mean_absolute_scaled_error(y_true, y_pred)\n",
        "\n",
        "  # Account for different sized metrics (for longer horizons, we want to reduce metrics to a single value)\n",
        "  if mae.ndim > 0 :\n",
        "    mae = tf.reduce_mean(mae)\n",
        "    mse = tf.reduce_mean(mse)\n",
        "    rmse = tf.reduce_mean(rmse)\n",
        "    mape = tf.reduce_mean(mape)\n",
        "    mase = tf.reduce_mean(mase)\n",
        "\n",
        "  return {\n",
        "      \"mae\" : mae.numpy(),\n",
        "      \"mse\": mse.numpy(),\n",
        "      \"rmse\" : rmse.numpy(),\n",
        "      \"mape\" : mape.numpy(),\n",
        "      \"mase\": mase.numpy()}"
      ],
      "execution_count": 88,
      "outputs": []
    },
    {
      "cell_type": "code",
      "metadata": {
        "colab": {
          "base_uri": "https://localhost:8080/"
        },
        "id": "wfX4dCGPTJUL",
        "outputId": "3146e40f-8a60-4442-e6e3-1bbc1c1051d9"
      },
      "source": [
        "# Recalculate model_3 evaluation aggregated to single value\n",
        "model_3_results = evaluate_preds(y_true = tf.squeeze(test_labels),\n",
        "                                 y_pred = model_3_preds)\n",
        "model_3_results"
      ],
      "execution_count": 89,
      "outputs": [
        {
          "output_type": "execute_result",
          "data": {
            "text/plain": [
              "{'mae': 1234.8837,\n",
              " 'mape': 5.4874988,\n",
              " 'mase': 2.1974065,\n",
              " 'mse': 5393734.5,\n",
              " 'rmse': 1419.1364}"
            ]
          },
          "metadata": {},
          "execution_count": 89
        }
      ]
    },
    {
      "cell_type": "markdown",
      "metadata": {
        "id": "eQsYN4TbVeSM"
      },
      "source": [
        "We've made and evaluated predictions with `model_3` let's visualize, visualize, visualize!"
      ]
    },
    {
      "cell_type": "code",
      "metadata": {
        "colab": {
          "base_uri": "https://localhost:8080/",
          "height": 442
        },
        "id": "bQWhj7tSVVuo",
        "outputId": "cc4d683c-783a-43cf-b489-a5f5bd7d0ee8"
      },
      "source": [
        "# Plot the model 3 predictions\n",
        "\n",
        "offset = 300\n",
        "plt.figure(figsize=(10, 7))\n",
        "plot_time_series(timesteps = X_test[- len(test_windows) : ],\n",
        "                 values = test_labels[:, 0],\n",
        "                 start = offset, \n",
        "                 format=\"-\",\n",
        "                 label = \"Test Data\")\n",
        "plot_time_series(timesteps=X_test[-len(test_windows) :],\n",
        "                 values = model_3_preds,\n",
        "                 start = offset,\n",
        "                 label = \"model_3_preds\")"
      ],
      "execution_count": 90,
      "outputs": [
        {
          "output_type": "display_data",
          "data": {
            "image/png": "[encoded data removed]",
            "text/plain": [
              "<Figure size 720x504 with 1 Axes>"
            ]
          },
          "metadata": {
            "needs_background": "light"
          }
        }
      ]
    },
    {
      "cell_type": "code",
      "metadata": {
        "colab": {
          "base_uri": "https://localhost:8080/",
          "height": 442
        },
        "id": "J7Bkr5-BWflB",
        "outputId": "a11c5ccb-ba70-45e4-c15b-7bc709f19309"
      },
      "source": [
        "# Plot the model 3 predictions\n",
        "\n",
        "offset = 300\n",
        "plt.figure(figsize=(10, 7))\n",
        "plot_time_series(timesteps = X_test[- len(test_windows) : ],\n",
        "                 values = test_labels[:, 0],\n",
        "                 start = offset, \n",
        "                 format=\"-\",\n",
        "                 label = \"Test Data\")\n",
        "plot_time_series(timesteps=X_test[-len(test_windows) :],\n",
        "                 values = tf.reduce_mean(model_3_preds, axis=1),\n",
        "                 start = offset,\n",
        "                 format=\"-\",\n",
        "                 label = \"model_3_preds\")"
      ],
      "execution_count": 91,
      "outputs": [
        {
          "output_type": "display_data",
          "data": {
            "image/png": "[encoded data removed]",
            "text/plain": [
              "<Figure size 720x504 with 1 Axes>"
            ]
          },
          "metadata": {
            "needs_background": "light"
          }
        }
      ]
    },
    {
      "cell_type": "markdown",
      "metadata": {
        "id": "9V5nHh3FX4kg"
      },
      "source": [
        "## Which of our model's performing the best so far?\n",
        "\n",
        "We have trained a few models, now let's compare them and see how they've gone ...\n"
      ]
    },
    {
      "cell_type": "code",
      "metadata": {
        "colab": {
          "base_uri": "https://localhost:8080/",
          "height": 440
        },
        "id": "ZR7__juRZZ_M",
        "outputId": "de56a026-5121-48f8-f971-e08c4c9afaba"
      },
      "source": [
        "pd.DataFrame({\"naive\" : naive_results[\"mae\"],\n",
        "              \"horizon_1_window_7\" : model_1_results[\"mae\"],\n",
        "              \"horizon_1_window_30\" : model_2_results[\"mae\"],\n",
        "              \"horizon_7_window_30\" : model_3_results[\"mae\"]}, index=[\"mae\"]).plot(figsize=(10, 7), kind=\"bar\");\n"
      ],
      "execution_count": 92,
      "outputs": [
        {
          "output_type": "display_data",
          "data": {
            "image/png": "[encoded data removed]",
            "text/plain": [
              "<Figure size 720x504 with 1 Axes>"
            ]
          },
          "metadata": {
            "needs_background": "light"
          }
        }
      ]
    },
    {
      "cell_type": "markdown",
      "metadata": {
        "id": "C5absSjxaPvD"
      },
      "source": [
        "> **Resources**: Why our naive baseline model perform better for time-series steps? Are the predicted prices co-related to past prices. Read this article to get a better understanding on 'Autocorrelation' : https://towardsdatascience.com/how-not-to-use-machine-learning-for-time-series-forecasting-avoiding-the-pitfalls-19f9d7adf424"
      ]
    },
    {
      "cell_type": "markdown",
      "metadata": {
        "id": "HtchN9ptbcfK"
      },
      "source": [
        "## Model 4 : Build a Conv1D"
      ]
    },
    {
      "cell_type": "code",
      "metadata": {
        "id": "9but3wiRcU2w"
      },
      "source": [
        "HORIZON = 1 # predict next day of Bitcoin prices\n",
        "WINDOW_SIZE = 7 # use previous week worth data\n"
      ],
      "execution_count": 93,
      "outputs": []
    },
    {
      "cell_type": "code",
      "metadata": {
        "colab": {
          "base_uri": "https://localhost:8080/"
        },
        "id": "a1gtFMkoc5l2",
        "outputId": "0c7efff4-cd9f-4139-96a2-950045dfdcb0"
      },
      "source": [
        "# Create windowed data\n",
        "full_windows, full_labels = make_windows(prices, window_size = WINDOW_SIZE, horizon = HORIZON)\n",
        "len(full_windows), len(full_labels)"
      ],
      "execution_count": 94,
      "outputs": [
        {
          "output_type": "execute_result",
          "data": {
            "text/plain": [
              "(2780, 2780)"
            ]
          },
          "metadata": {},
          "execution_count": 94
        }
      ]
    },
    {
      "cell_type": "code",
      "metadata": {
        "colab": {
          "base_uri": "https://localhost:8080/"
        },
        "id": "DzN1nzXsdE2M",
        "outputId": "cd9caaed-b453-4493-b551-a72410f7de00"
      },
      "source": [
        "train_windows, test_windows, train_labels, test_labels = make_train_test_splits(full_windows, full_labels)\n",
        "len(train_windows), len(test_windows), len(train_labels), len(test_labels)"
      ],
      "execution_count": 95,
      "outputs": [
        {
          "output_type": "execute_result",
          "data": {
            "text/plain": [
              "(2224, 556, 2224, 556)"
            ]
          },
          "metadata": {},
          "execution_count": 95
        }
      ]
    },
    {
      "cell_type": "code",
      "metadata": {
        "colab": {
          "base_uri": "https://localhost:8080/"
        },
        "id": "UPCNuEuUdWDi",
        "outputId": "1b0e7f91-f498-4284-ef61-1f2c5b4000a3"
      },
      "source": [
        "train_windows.shape, train_labels.shape"
      ],
      "execution_count": 96,
      "outputs": [
        {
          "output_type": "execute_result",
          "data": {
            "text/plain": [
              "((2224, 7), (2224, 1))"
            ]
          },
          "metadata": {},
          "execution_count": 96
        }
      ]
    },
    {
      "cell_type": "markdown",
      "metadata": {
        "id": "nyPa8g9udaK9"
      },
      "source": [
        "We need an input shape of : `(batch_size, timesteps, input_dim)`...\n",
        "\n",
        "However, out data isn't in that shape yet..."
      ]
    },
    {
      "cell_type": "code",
      "metadata": {
        "colab": {
          "base_uri": "https://localhost:8080/"
        },
        "id": "wl6g0GYWdsO6",
        "outputId": "e76ee0c6-9daa-4c58-fdce-fc20d0f84060"
      },
      "source": [
        "# Check data input shape\n",
        "train_windows[0].shape # returns (WINDOW_SIZE)"
      ],
      "execution_count": 97,
      "outputs": [
        {
          "output_type": "execute_result",
          "data": {
            "text/plain": [
              "(7,)"
            ]
          },
          "metadata": {},
          "execution_count": 97
        }
      ]
    },
    {
      "cell_type": "code",
      "metadata": {
        "colab": {
          "base_uri": "https://localhost:8080/"
        },
        "id": "b7P1viOFdzAP",
        "outputId": "2ed9c1b0-955d-4ef6-e19f-d421207ca8cf"
      },
      "source": [
        "# Before we pass our data to the Conv1D layer, we have to reshape it in order to make it work\n",
        "x = tf.constant(train_windows[0])\n",
        "x"
      ],
      "execution_count": 98,
      "outputs": [
        {
          "output_type": "execute_result",
          "data": {
            "text/plain": [
              "<tf.Tensor: shape=(7,), dtype=float64, numpy=\n",
              "array([123.65499, 125.455  , 108.58483, 118.67466, 121.33866, 120.65533,\n",
              "       121.795  ])>"
            ]
          },
          "metadata": {},
          "execution_count": 98
        }
      ]
    },
    {
      "cell_type": "markdown",
      "metadata": {
        "id": "0_oA7PlPekAD"
      },
      "source": [
        "> **Resources** : TensorFlow Lambda function https://www.tensorflow.org/api_docs/python/tf/keras/layers/Lambda"
      ]
    },
    {
      "cell_type": "code",
      "metadata": {
        "id": "1cUtemW4eJMA"
      },
      "source": [
        "expand_dims_layer = layers.Lambda(lambda x : tf.expand_dims(x, axis = 1)) # add an extra dimension for input_dim"
      ],
      "execution_count": 99,
      "outputs": []
    },
    {
      "cell_type": "code",
      "metadata": {
        "colab": {
          "base_uri": "https://localhost:8080/"
        },
        "id": "GKBnQSIqetta",
        "outputId": "392b9dc3-e8ed-4d22-da79-169ab64869fd"
      },
      "source": [
        "# Test out our lambda layer\n",
        "print(f\"Original shape : {x.shape}\") # (WINDOW_SIZE)\n",
        "print(f\"Expanded shape : {expand_dims_layer(x).shape}\") # (WINDOW_SIZE, input_dim)\n",
        "print(f\"Original values with expanded shape :\\n {expand_dims_layer(x)}\")"
      ],
      "execution_count": 100,
      "outputs": [
        {
          "output_type": "stream",
          "text": [
            "Original shape : (7,)\n",
            "Expanded shape : (7, 1)\n",
            "Original values with expanded shape :\n",
            " [[123.65499]\n",
            " [125.455  ]\n",
            " [108.58483]\n",
            " [118.67466]\n",
            " [121.33866]\n",
            " [120.65533]\n",
            " [121.795  ]]\n"
          ],
          "name": "stdout"
        }
      ]
    },
    {
      "cell_type": "code",
      "metadata": {
        "colab": {
          "base_uri": "https://localhost:8080/"
        },
        "id": "yLKGEFvEf1K-",
        "outputId": "2a5c070d-af04-46c2-a789-0240859d77d7"
      },
      "source": [
        "tf.random.set_seed(42)\n",
        "\n",
        "# Create Conv1D model\n",
        "model_4 = tf.keras.Sequential([\n",
        "        layers.Lambda(lambda x : tf.expand_dims(x, axis=1)),\n",
        "        layers.Conv1D(filters = 128,\n",
        "                      kernel_size= 5, \n",
        "                      strides = 1,\n",
        "                      padding=\"causal\",  # Our data is temporal , so using padding=\"causal\"\n",
        "                      activation=\"relu\"),\n",
        "        layers.Dense(HORIZON)\n",
        "        ], name=\"model_4_conv1D\")\n",
        "\n",
        "\n",
        "# Compile the model\n",
        "model_4.compile(loss=\"mae\", \n",
        "                optimizer= tf.keras.optimizers.Adam())\n",
        "\n",
        "# Fit the model\n",
        "model_4.fit(x = train_windows, \n",
        "            y = train_labels,\n",
        "            batch_size=128, \n",
        "            epochs=100,\n",
        "            verbose = 1, \n",
        "            validation_data = (test_windows, test_labels),\n",
        "            callbacks=[create_model_checkpoint(model_name = model_4.name)])"
      ],
      "execution_count": 101,
      "outputs": [
        {
          "output_type": "stream",
          "text": [
            "Epoch 1/100\n",
            "18/18 [==============================] - 27s 12ms/step - loss: 1207.3817 - val_loss: 2320.6218\n",
            "INFO:tensorflow:Assets written to: model_experiments/model_4_conv1D/assets\n",
            "Epoch 2/100\n",
            "18/18 [==============================] - 0s 3ms/step - loss: 316.2171 - val_loss: 1467.2799\n",
            "INFO:tensorflow:Assets written to: model_experiments/model_4_conv1D/assets\n",
            "Epoch 3/100\n",
            "18/18 [==============================] - 0s 4ms/step - loss: 192.6853 - val_loss: 1164.7074\n",
            "INFO:tensorflow:Assets written to: model_experiments/model_4_conv1D/assets\n",
            "Epoch 4/100\n",
            "18/18 [==============================] - 0s 4ms/step - loss: 177.3535 - val_loss: 981.6695\n",
            "INFO:tensorflow:Assets written to: model_experiments/model_4_conv1D/assets\n",
            "Epoch 5/100\n",
            "18/18 [==============================] - 0s 4ms/step - loss: 172.3466 - val_loss: 960.8708\n",
            "INFO:tensorflow:Assets written to: model_experiments/model_4_conv1D/assets\n",
            "Epoch 6/100\n",
            "18/18 [==============================] - 0s 4ms/step - loss: 171.9754 - val_loss: 950.2026\n",
            "INFO:tensorflow:Assets written to: model_experiments/model_4_conv1D/assets\n",
            "Epoch 7/100\n",
            "18/18 [==============================] - 0s 4ms/step - loss: 167.1943 - val_loss: 943.2872\n",
            "INFO:tensorflow:Assets written to: model_experiments/model_4_conv1D/assets\n",
            "Epoch 8/100\n",
            "18/18 [==============================] - 0s 4ms/step - loss: 163.5991 - val_loss: 905.5261\n",
            "INFO:tensorflow:Assets written to: model_experiments/model_4_conv1D/assets\n",
            "Epoch 9/100\n",
            "18/18 [==============================] - 0s 4ms/step - loss: 162.5455 - val_loss: 929.7607\n",
            "Epoch 10/100\n",
            "18/18 [==============================] - 0s 4ms/step - loss: 158.5780 - val_loss: 871.9778\n",
            "INFO:tensorflow:Assets written to: model_experiments/model_4_conv1D/assets\n",
            "Epoch 11/100\n",
            "18/18 [==============================] - 0s 4ms/step - loss: 154.0058 - val_loss: 852.7119\n",
            "INFO:tensorflow:Assets written to: model_experiments/model_4_conv1D/assets\n",
            "Epoch 12/100\n",
            "18/18 [==============================] - 0s 4ms/step - loss: 151.2621 - val_loss: 944.1971\n",
            "Epoch 13/100\n",
            "18/18 [==============================] - 0s 4ms/step - loss: 150.2688 - val_loss: 881.1826\n",
            "Epoch 14/100\n",
            "18/18 [==============================] - 0s 4ms/step - loss: 145.4593 - val_loss: 849.1819\n",
            "INFO:tensorflow:Assets written to: model_experiments/model_4_conv1D/assets\n",
            "Epoch 15/100\n",
            "18/18 [==============================] - 0s 4ms/step - loss: 143.3640 - val_loss: 844.4008\n",
            "INFO:tensorflow:Assets written to: model_experiments/model_4_conv1D/assets\n",
            "Epoch 16/100\n",
            "18/18 [==============================] - 0s 4ms/step - loss: 139.8764 - val_loss: 806.7261\n",
            "INFO:tensorflow:Assets written to: model_experiments/model_4_conv1D/assets\n",
            "Epoch 17/100\n",
            "18/18 [==============================] - 0s 4ms/step - loss: 138.1677 - val_loss: 812.6341\n",
            "Epoch 18/100\n",
            "18/18 [==============================] - 0s 4ms/step - loss: 137.9497 - val_loss: 775.2100\n",
            "INFO:tensorflow:Assets written to: model_experiments/model_4_conv1D/assets\n",
            "Epoch 19/100\n",
            "18/18 [==============================] - 0s 4ms/step - loss: 131.1450 - val_loss: 755.4261\n",
            "INFO:tensorflow:Assets written to: model_experiments/model_4_conv1D/assets\n",
            "Epoch 20/100\n",
            "18/18 [==============================] - 0s 4ms/step - loss: 132.4057 - val_loss: 712.2014\n",
            "INFO:tensorflow:Assets written to: model_experiments/model_4_conv1D/assets\n",
            "Epoch 21/100\n",
            "18/18 [==============================] - 0s 4ms/step - loss: 131.0829 - val_loss: 707.4122\n",
            "INFO:tensorflow:Assets written to: model_experiments/model_4_conv1D/assets\n",
            "Epoch 22/100\n",
            "18/18 [==============================] - 0s 4ms/step - loss: 126.9511 - val_loss: 692.9737\n",
            "INFO:tensorflow:Assets written to: model_experiments/model_4_conv1D/assets\n",
            "Epoch 23/100\n",
            "18/18 [==============================] - 0s 4ms/step - loss: 125.1489 - val_loss: 682.4753\n",
            "INFO:tensorflow:Assets written to: model_experiments/model_4_conv1D/assets\n",
            "Epoch 24/100\n",
            "18/18 [==============================] - 0s 4ms/step - loss: 124.3786 - val_loss: 670.8322\n",
            "INFO:tensorflow:Assets written to: model_experiments/model_4_conv1D/assets\n",
            "Epoch 25/100\n",
            "18/18 [==============================] - 0s 4ms/step - loss: 121.6896 - val_loss: 662.6083\n",
            "INFO:tensorflow:Assets written to: model_experiments/model_4_conv1D/assets\n",
            "Epoch 26/100\n",
            "18/18 [==============================] - 0s 4ms/step - loss: 121.5705 - val_loss: 654.6090\n",
            "INFO:tensorflow:Assets written to: model_experiments/model_4_conv1D/assets\n",
            "Epoch 27/100\n",
            "18/18 [==============================] - 0s 4ms/step - loss: 122.6445 - val_loss: 650.9058\n",
            "INFO:tensorflow:Assets written to: model_experiments/model_4_conv1D/assets\n",
            "Epoch 28/100\n",
            "18/18 [==============================] - 0s 4ms/step - loss: 117.9561 - val_loss: 645.4809\n",
            "INFO:tensorflow:Assets written to: model_experiments/model_4_conv1D/assets\n",
            "Epoch 29/100\n",
            "18/18 [==============================] - 0s 4ms/step - loss: 117.1769 - val_loss: 639.9748\n",
            "INFO:tensorflow:Assets written to: model_experiments/model_4_conv1D/assets\n",
            "Epoch 30/100\n",
            "18/18 [==============================] - 0s 4ms/step - loss: 121.0468 - val_loss: 630.7950\n",
            "INFO:tensorflow:Assets written to: model_experiments/model_4_conv1D/assets\n",
            "Epoch 31/100\n",
            "18/18 [==============================] - 0s 4ms/step - loss: 114.9061 - val_loss: 652.6464\n",
            "Epoch 32/100\n",
            "18/18 [==============================] - 0s 4ms/step - loss: 116.4312 - val_loss: 623.4980\n",
            "INFO:tensorflow:Assets written to: model_experiments/model_4_conv1D/assets\n",
            "Epoch 33/100\n",
            "18/18 [==============================] - 0s 4ms/step - loss: 115.7972 - val_loss: 664.3209\n",
            "Epoch 34/100\n",
            "18/18 [==============================] - 0s 3ms/step - loss: 117.2043 - val_loss: 613.7656\n",
            "INFO:tensorflow:Assets written to: model_experiments/model_4_conv1D/assets\n",
            "Epoch 35/100\n",
            "18/18 [==============================] - 0s 4ms/step - loss: 113.4074 - val_loss: 619.6225\n",
            "Epoch 36/100\n",
            "18/18 [==============================] - 0s 4ms/step - loss: 116.8330 - val_loss: 605.7615\n",
            "INFO:tensorflow:Assets written to: model_experiments/model_4_conv1D/assets\n",
            "Epoch 37/100\n",
            "18/18 [==============================] - 0s 4ms/step - loss: 114.7925 - val_loss: 603.6093\n",
            "INFO:tensorflow:Assets written to: model_experiments/model_4_conv1D/assets\n",
            "Epoch 38/100\n",
            "18/18 [==============================] - 0s 4ms/step - loss: 113.0861 - val_loss: 602.5891\n",
            "INFO:tensorflow:Assets written to: model_experiments/model_4_conv1D/assets\n",
            "Epoch 39/100\n",
            "18/18 [==============================] - 0s 4ms/step - loss: 111.9831 - val_loss: 602.2946\n",
            "INFO:tensorflow:Assets written to: model_experiments/model_4_conv1D/assets\n",
            "Epoch 40/100\n",
            "18/18 [==============================] - 0s 4ms/step - loss: 111.2691 - val_loss: 600.5514\n",
            "INFO:tensorflow:Assets written to: model_experiments/model_4_conv1D/assets\n",
            "Epoch 41/100\n",
            "18/18 [==============================] - 0s 4ms/step - loss: 112.0726 - val_loss: 623.0617\n",
            "Epoch 42/100\n",
            "18/18 [==============================] - 0s 4ms/step - loss: 116.7095 - val_loss: 645.0154\n",
            "Epoch 43/100\n",
            "18/18 [==============================] - 0s 5ms/step - loss: 118.9676 - val_loss: 659.5667\n",
            "Epoch 44/100\n",
            "18/18 [==============================] - 0s 4ms/step - loss: 125.4497 - val_loss: 678.8229\n",
            "Epoch 45/100\n",
            "18/18 [==============================] - 0s 4ms/step - loss: 115.4361 - val_loss: 611.8371\n",
            "Epoch 46/100\n",
            "18/18 [==============================] - 0s 4ms/step - loss: 114.1717 - val_loss: 589.6738\n",
            "INFO:tensorflow:Assets written to: model_experiments/model_4_conv1D/assets\n",
            "Epoch 47/100\n",
            "18/18 [==============================] - 0s 4ms/step - loss: 113.7248 - val_loss: 720.2480\n",
            "Epoch 48/100\n",
            "18/18 [==============================] - 0s 4ms/step - loss: 112.0136 - val_loss: 597.4332\n",
            "Epoch 49/100\n",
            "18/18 [==============================] - 0s 4ms/step - loss: 110.5681 - val_loss: 665.2028\n",
            "Epoch 50/100\n",
            "18/18 [==============================] - 0s 4ms/step - loss: 119.7653 - val_loss: 635.1694\n",
            "Epoch 51/100\n",
            "18/18 [==============================] - 0s 4ms/step - loss: 110.7740 - val_loss: 586.0245\n",
            "INFO:tensorflow:Assets written to: model_experiments/model_4_conv1D/assets\n",
            "Epoch 52/100\n",
            "18/18 [==============================] - 0s 4ms/step - loss: 111.2179 - val_loss: 595.2482\n",
            "Epoch 53/100\n",
            "18/18 [==============================] - 0s 4ms/step - loss: 113.6466 - val_loss: 670.5780\n",
            "Epoch 54/100\n",
            "18/18 [==============================] - 0s 4ms/step - loss: 126.7883 - val_loss: 648.2971\n",
            "Epoch 55/100\n",
            "18/18 [==============================] - 0s 4ms/step - loss: 110.6968 - val_loss: 593.8555\n",
            "Epoch 56/100\n",
            "18/18 [==============================] - 0s 4ms/step - loss: 109.8591 - val_loss: 766.5007\n",
            "Epoch 57/100\n",
            "18/18 [==============================] - 0s 4ms/step - loss: 124.8183 - val_loss: 712.2674\n",
            "Epoch 58/100\n",
            "18/18 [==============================] - 0s 4ms/step - loss: 120.3515 - val_loss: 698.5150\n",
            "Epoch 59/100\n",
            "18/18 [==============================] - 0s 4ms/step - loss: 110.8185 - val_loss: 592.1150\n",
            "Epoch 60/100\n",
            "18/18 [==============================] - 0s 3ms/step - loss: 110.2038 - val_loss: 616.9357\n",
            "Epoch 61/100\n",
            "18/18 [==============================] - 0s 3ms/step - loss: 111.0310 - val_loss: 588.4845\n",
            "Epoch 62/100\n",
            "18/18 [==============================] - 0s 4ms/step - loss: 108.1684 - val_loss: 577.6282\n",
            "INFO:tensorflow:Assets written to: model_experiments/model_4_conv1D/assets\n",
            "Epoch 63/100\n",
            "18/18 [==============================] - 0s 5ms/step - loss: 108.7932 - val_loss: 610.1494\n",
            "Epoch 64/100\n",
            "18/18 [==============================] - 0s 4ms/step - loss: 110.4675 - val_loss: 652.9427\n",
            "Epoch 65/100\n",
            "18/18 [==============================] - 0s 4ms/step - loss: 110.7312 - val_loss: 583.0663\n",
            "Epoch 66/100\n",
            "18/18 [==============================] - 0s 4ms/step - loss: 108.3487 - val_loss: 587.8362\n",
            "Epoch 67/100\n",
            "18/18 [==============================] - 0s 4ms/step - loss: 108.0646 - val_loss: 648.5151\n",
            "Epoch 68/100\n",
            "18/18 [==============================] - 0s 4ms/step - loss: 113.6957 - val_loss: 675.1596\n",
            "Epoch 69/100\n",
            "18/18 [==============================] - 0s 3ms/step - loss: 124.3081 - val_loss: 632.9846\n",
            "Epoch 70/100\n",
            "18/18 [==============================] - 0s 4ms/step - loss: 124.3231 - val_loss: 588.5079\n",
            "Epoch 71/100\n",
            "18/18 [==============================] - 0s 4ms/step - loss: 111.2923 - val_loss: 618.2579\n",
            "Epoch 72/100\n",
            "18/18 [==============================] - 0s 4ms/step - loss: 110.1688 - val_loss: 581.8316\n",
            "Epoch 73/100\n",
            "18/18 [==============================] - 0s 3ms/step - loss: 108.6783 - val_loss: 582.9404\n",
            "Epoch 74/100\n",
            "18/18 [==============================] - 0s 3ms/step - loss: 108.4709 - val_loss: 578.2971\n",
            "Epoch 75/100\n",
            "18/18 [==============================] - 0s 4ms/step - loss: 110.1821 - val_loss: 663.3145\n",
            "Epoch 76/100\n",
            "18/18 [==============================] - 0s 4ms/step - loss: 112.4488 - val_loss: 582.5887\n",
            "Epoch 77/100\n",
            "18/18 [==============================] - 0s 5ms/step - loss: 110.0107 - val_loss: 579.8845\n",
            "Epoch 78/100\n",
            "18/18 [==============================] - 0s 4ms/step - loss: 107.3413 - val_loss: 582.0062\n",
            "Epoch 79/100\n",
            "18/18 [==============================] - 0s 4ms/step - loss: 109.0300 - val_loss: 591.4008\n",
            "Epoch 80/100\n",
            "18/18 [==============================] - 0s 4ms/step - loss: 106.9309 - val_loss: 585.3929\n",
            "Epoch 81/100\n",
            "18/18 [==============================] - 0s 3ms/step - loss: 106.6292 - val_loss: 575.4402\n",
            "INFO:tensorflow:Assets written to: model_experiments/model_4_conv1D/assets\n",
            "Epoch 82/100\n",
            "18/18 [==============================] - 0s 5ms/step - loss: 114.2934 - val_loss: 571.6199\n",
            "INFO:tensorflow:Assets written to: model_experiments/model_4_conv1D/assets\n",
            "Epoch 83/100\n",
            "18/18 [==============================] - 0s 4ms/step - loss: 111.1759 - val_loss: 666.0590\n",
            "Epoch 84/100\n",
            "18/18 [==============================] - 0s 4ms/step - loss: 112.2543 - val_loss: 580.0315\n",
            "Epoch 85/100\n",
            "18/18 [==============================] - 0s 5ms/step - loss: 107.7741 - val_loss: 599.6222\n",
            "Epoch 86/100\n",
            "18/18 [==============================] - 0s 4ms/step - loss: 108.7533 - val_loss: 599.0880\n",
            "Epoch 87/100\n",
            "18/18 [==============================] - 0s 4ms/step - loss: 106.9682 - val_loss: 596.5338\n",
            "Epoch 88/100\n",
            "18/18 [==============================] - 0s 3ms/step - loss: 107.9607 - val_loss: 598.1052\n",
            "Epoch 89/100\n",
            "18/18 [==============================] - 0s 3ms/step - loss: 107.3045 - val_loss: 570.8285\n",
            "INFO:tensorflow:Assets written to: model_experiments/model_4_conv1D/assets\n",
            "Epoch 90/100\n",
            "18/18 [==============================] - 0s 4ms/step - loss: 108.0094 - val_loss: 642.3939\n",
            "Epoch 91/100\n",
            "18/18 [==============================] - 0s 4ms/step - loss: 113.7574 - val_loss: 625.3716\n",
            "Epoch 92/100\n",
            "18/18 [==============================] - 0s 4ms/step - loss: 108.0017 - val_loss: 627.3054\n",
            "Epoch 93/100\n",
            "18/18 [==============================] - 0s 4ms/step - loss: 118.0999 - val_loss: 637.1273\n",
            "Epoch 94/100\n",
            "18/18 [==============================] - 0s 4ms/step - loss: 111.3195 - val_loss: 579.6985\n",
            "Epoch 95/100\n",
            "18/18 [==============================] - 0s 4ms/step - loss: 106.8561 - val_loss: 572.8485\n",
            "Epoch 96/100\n",
            "18/18 [==============================] - 0s 4ms/step - loss: 115.0598 - val_loss: 602.3210\n",
            "Epoch 97/100\n",
            "18/18 [==============================] - 0s 4ms/step - loss: 109.4901 - val_loss: 616.3583\n",
            "Epoch 98/100\n",
            "18/18 [==============================] - 0s 4ms/step - loss: 111.2816 - val_loss: 586.7991\n",
            "Epoch 99/100\n",
            "18/18 [==============================] - 0s 4ms/step - loss: 111.2904 - val_loss: 581.4894\n",
            "Epoch 100/100\n",
            "18/18 [==============================] - 0s 3ms/step - loss: 107.0190 - val_loss: 610.1541\n"
          ],
          "name": "stdout"
        },
        {
          "output_type": "execute_result",
          "data": {
            "text/plain": [
              "<keras.callbacks.History at 0x7f564ad22990>"
            ]
          },
          "metadata": {},
          "execution_count": 101
        }
      ]
    },
    {
      "cell_type": "code",
      "metadata": {
        "colab": {
          "base_uri": "https://localhost:8080/"
        },
        "id": "NdPN1a3onoa6",
        "outputId": "9d07a189-e460-429d-bfcb-6f8142f87bed"
      },
      "source": [
        "model_4.summary()"
      ],
      "execution_count": 102,
      "outputs": [
        {
          "output_type": "stream",
          "text": [
            "Model: \"model_4_conv1D\"\n",
            "_________________________________________________________________\n",
            "Layer (type)                 Output Shape              Param #   \n",
            "=================================================================\n",
            "lambda_1 (Lambda)            (None, 1, 7)              0         \n",
            "_________________________________________________________________\n",
            "conv1d (Conv1D)              (None, 1, 128)            4608      \n",
            "_________________________________________________________________\n",
            "dense_6 (Dense)              (None, 1, 1)              129       \n",
            "=================================================================\n",
            "Total params: 4,737\n",
            "Trainable params: 4,737\n",
            "Non-trainable params: 0\n",
            "_________________________________________________________________\n"
          ],
          "name": "stdout"
        }
      ]
    },
    {
      "cell_type": "code",
      "metadata": {
        "colab": {
          "base_uri": "https://localhost:8080/"
        },
        "id": "v3UKE623nJ_K",
        "outputId": "e692a637-d44e-4abf-aee5-1ab8fb399802"
      },
      "source": [
        "model_4.evaluate(test_windows, test_labels)"
      ],
      "execution_count": 103,
      "outputs": [
        {
          "output_type": "stream",
          "text": [
            "18/18 [==============================] - 0s 27ms/step - loss: 610.1541\n"
          ],
          "name": "stdout"
        },
        {
          "output_type": "execute_result",
          "data": {
            "text/plain": [
              "610.1541137695312"
            ]
          },
          "metadata": {},
          "execution_count": 103
        }
      ]
    },
    {
      "cell_type": "code",
      "metadata": {
        "colab": {
          "base_uri": "https://localhost:8080/"
        },
        "id": "UFr-JCfBnQwZ",
        "outputId": "bc623118-ee62-4ca5-8c7f-1d9c5f7437e3"
      },
      "source": [
        "# Load the best performing model_4\n",
        "model_4 = tf.keras.models.load_model(\"model_experiments/model_4_conv1D\")\n",
        "model_4.evaluate(test_windows, test_labels)\n"
      ],
      "execution_count": 104,
      "outputs": [
        {
          "output_type": "stream",
          "text": [
            "18/18 [==============================] - 0s 2ms/step - loss: 570.8284\n"
          ],
          "name": "stdout"
        },
        {
          "output_type": "execute_result",
          "data": {
            "text/plain": [
              "570.8284301757812"
            ]
          },
          "metadata": {},
          "execution_count": 104
        }
      ]
    },
    {
      "cell_type": "code",
      "metadata": {
        "colab": {
          "base_uri": "https://localhost:8080/"
        },
        "id": "oYF8p1dgoV6d",
        "outputId": "6141ae4a-22c2-4df8-d9d3-b31e6ca6a18f"
      },
      "source": [
        "# Make predictions\n",
        "model_4_preds = make_preds(model_4, test_windows)\n",
        "model_4_preds[:10]"
      ],
      "execution_count": 105,
      "outputs": [
        {
          "output_type": "execute_result",
          "data": {
            "text/plain": [
              "<tf.Tensor: shape=(10,), dtype=float32, numpy=\n",
              "array([8851.464, 8754.47 , 8983.927, 8759.671, 8703.626, 8708.294,\n",
              "       8661.668, 8494.838, 8435.317, 8492.114], dtype=float32)>"
            ]
          },
          "metadata": {},
          "execution_count": 105
        }
      ]
    },
    {
      "cell_type": "code",
      "metadata": {
        "colab": {
          "base_uri": "https://localhost:8080/"
        },
        "id": "e-J5ur85oeOZ",
        "outputId": "875c16aa-f724-4424-9aea-c28d42e99c40"
      },
      "source": [
        "# Evaluate predictions\n",
        "model_4_results = evaluate_preds(y_true = tf.squeeze(test_labels),\n",
        "                                 y_pred = model_4_preds)\n",
        "model_4_results"
      ],
      "execution_count": 106,
      "outputs": [
        {
          "output_type": "execute_result",
          "data": {
            "text/plain": [
              "{'mae': 570.8284,\n",
              " 'mape': 2.5593362,\n",
              " 'mase': 1.0027875,\n",
              " 'mse': 1176671.2,\n",
              " 'rmse': 1084.7448}"
            ]
          },
          "metadata": {},
          "execution_count": 106
        }
      ]
    },
    {
      "cell_type": "code",
      "metadata": {
        "colab": {
          "base_uri": "https://localhost:8080/"
        },
        "id": "JGI9uPmoowcG",
        "outputId": "81f068bb-ba5f-40cc-f908-26dda381a7b6"
      },
      "source": [
        "model_1_results"
      ],
      "execution_count": 107,
      "outputs": [
        {
          "output_type": "execute_result",
          "data": {
            "text/plain": [
              "{'mae': 568.9511,\n",
              " 'mape': 2.5448983,\n",
              " 'mase': 0.99948955,\n",
              " 'mse': 1171744.0,\n",
              " 'rmse': 1082.4712}"
            ]
          },
          "metadata": {},
          "execution_count": 107
        }
      ]
    },
    {
      "cell_type": "markdown",
      "metadata": {
        "id": "JGD6v8o8192v"
      },
      "source": [
        "## Model  5 : RNN (LSTM)\n",
        "\n",
        "Let's build an RNN model for our time series data.\n",
        "We'll use the same data we created previously."
      ]
    },
    {
      "cell_type": "code",
      "metadata": {
        "colab": {
          "base_uri": "https://localhost:8080/"
        },
        "id": "qIF4pZIq0vix",
        "outputId": "1a82f512-35a8-441f-de26-2958490bba11"
      },
      "source": [
        "from tensorflow.keras import layers\n",
        "tf.random.set_seed(42)\n",
        "\n",
        "# Let's build an LSTM model with the Functional API\n",
        "inputs = layers.Input(shape=(WINDOW_SIZE))\n",
        "x = layers.Lambda(lambda x : tf.expand_dims(x, axis = 1)) (inputs)\n",
        "# x = layers.LSTM(128, return_sequences=True)(x)\n",
        "x = layers.LSTM(128, activation=\"relu\")(x)\n",
        "#x = layers.Dense(32, activation=\"relu\")(x)\n",
        "outputs = layers.Dense(HORIZON)(x)\n",
        "model_5 = tf.keras.Model(inputs = inputs, outputs = outputs, name = \"model_5_lstm\")\n",
        "\n",
        "# Compile the model\n",
        "model_5.compile(loss=\"mae\",\n",
        "                optimizer = tf.keras.optimizers.Adam())\n",
        "\n",
        "# Fit the model\n",
        "model_5.fit(x = train_windows, \n",
        "            y = train_labels,\n",
        "            epochs= 100,\n",
        "            batch_size=128,\n",
        "            verbose = 1,\n",
        "            validation_data = (test_windows, test_labels),\n",
        "            callbacks=[create_model_checkpoint(model_name = model_5.name)])\n"
      ],
      "execution_count": 108,
      "outputs": [
        {
          "output_type": "stream",
          "text": [
            "WARNING:tensorflow:Layer lstm will not use cuDNN kernels since it doesn't meet the criteria. It will use a generic GPU kernel as fallback when running on GPU.\n",
            "Epoch 1/100\n",
            "18/18 [==============================] - 1s 17ms/step - loss: 2323.6077 - val_loss: 9222.6221\n",
            "INFO:tensorflow:Assets written to: model_experiments/model_5_lstm/assets\n",
            "Epoch 2/100\n",
            "18/18 [==============================] - 0s 7ms/step - loss: 695.4739 - val_loss: 1486.0378\n",
            "INFO:tensorflow:Assets written to: model_experiments/model_5_lstm/assets\n",
            "Epoch 3/100\n",
            "18/18 [==============================] - 0s 6ms/step - loss: 237.3842 - val_loss: 1298.9087\n",
            "INFO:tensorflow:Assets written to: model_experiments/model_5_lstm/assets\n",
            "Epoch 4/100\n",
            "18/18 [==============================] - 0s 6ms/step - loss: 181.9185 - val_loss: 966.6432\n",
            "INFO:tensorflow:Assets written to: model_experiments/model_5_lstm/assets\n",
            "Epoch 5/100\n",
            "18/18 [==============================] - 0s 6ms/step - loss: 173.4023 - val_loss: 970.9296\n",
            "Epoch 6/100\n",
            "18/18 [==============================] - 0s 6ms/step - loss: 173.3822 - val_loss: 981.0975\n",
            "Epoch 7/100\n",
            "18/18 [==============================] - 0s 5ms/step - loss: 171.9762 - val_loss: 921.8434\n",
            "INFO:tensorflow:Assets written to: model_experiments/model_5_lstm/assets\n",
            "Epoch 8/100\n",
            "18/18 [==============================] - 0s 5ms/step - loss: 165.5515 - val_loss: 900.0497\n",
            "INFO:tensorflow:Assets written to: model_experiments/model_5_lstm/assets\n",
            "Epoch 9/100\n",
            "18/18 [==============================] - 0s 5ms/step - loss: 160.4305 - val_loss: 853.6299\n",
            "INFO:tensorflow:Assets written to: model_experiments/model_5_lstm/assets\n",
            "Epoch 10/100\n",
            "18/18 [==============================] - 0s 6ms/step - loss: 168.6475 - val_loss: 931.5431\n",
            "Epoch 11/100\n",
            "18/18 [==============================] - 0s 6ms/step - loss: 169.2183 - val_loss: 926.0713\n",
            "Epoch 12/100\n",
            "18/18 [==============================] - 0s 6ms/step - loss: 166.3748 - val_loss: 916.8346\n",
            "Epoch 13/100\n",
            "18/18 [==============================] - 0s 5ms/step - loss: 166.8522 - val_loss: 909.6310\n",
            "Epoch 14/100\n",
            "18/18 [==============================] - 0s 5ms/step - loss: 161.6482 - val_loss: 866.7496\n",
            "Epoch 15/100\n",
            "18/18 [==============================] - 0s 6ms/step - loss: 155.9960 - val_loss: 896.1780\n",
            "Epoch 16/100\n",
            "18/18 [==============================] - 0s 6ms/step - loss: 159.4309 - val_loss: 882.4391\n",
            "Epoch 17/100\n",
            "18/18 [==============================] - 0s 6ms/step - loss: 157.7812 - val_loss: 956.9371\n",
            "Epoch 18/100\n",
            "18/18 [==============================] - 0s 6ms/step - loss: 157.7068 - val_loss: 940.6453\n",
            "Epoch 19/100\n",
            "18/18 [==============================] - 0s 6ms/step - loss: 155.3832 - val_loss: 941.6826\n",
            "Epoch 20/100\n",
            "18/18 [==============================] - 0s 6ms/step - loss: 154.8648 - val_loss: 863.4883\n",
            "Epoch 21/100\n",
            "18/18 [==============================] - 0s 5ms/step - loss: 151.6370 - val_loss: 855.1499\n",
            "Epoch 22/100\n",
            "18/18 [==============================] - 0s 5ms/step - loss: 150.1062 - val_loss: 844.7767\n",
            "INFO:tensorflow:Assets written to: model_experiments/model_5_lstm/assets\n",
            "Epoch 23/100\n",
            "18/18 [==============================] - 0s 6ms/step - loss: 149.1968 - val_loss: 861.0685\n",
            "Epoch 24/100\n",
            "18/18 [==============================] - 0s 5ms/step - loss: 147.1761 - val_loss: 848.1241\n",
            "Epoch 25/100\n",
            "18/18 [==============================] - 0s 6ms/step - loss: 145.5848 - val_loss: 840.6231\n",
            "INFO:tensorflow:Assets written to: model_experiments/model_5_lstm/assets\n",
            "Epoch 26/100\n",
            "18/18 [==============================] - 0s 6ms/step - loss: 145.0945 - val_loss: 813.1295\n",
            "INFO:tensorflow:Assets written to: model_experiments/model_5_lstm/assets\n",
            "Epoch 27/100\n",
            "18/18 [==============================] - 0s 5ms/step - loss: 143.2227 - val_loss: 805.5842\n",
            "INFO:tensorflow:Assets written to: model_experiments/model_5_lstm/assets\n",
            "Epoch 28/100\n",
            "18/18 [==============================] - 0s 6ms/step - loss: 141.6531 - val_loss: 785.5984\n",
            "INFO:tensorflow:Assets written to: model_experiments/model_5_lstm/assets\n",
            "Epoch 29/100\n",
            "18/18 [==============================] - 0s 5ms/step - loss: 140.8680 - val_loss: 801.3979\n",
            "Epoch 30/100\n",
            "18/18 [==============================] - 0s 6ms/step - loss: 141.3804 - val_loss: 791.8160\n",
            "Epoch 31/100\n",
            "18/18 [==============================] - 0s 6ms/step - loss: 138.0144 - val_loss: 768.1625\n",
            "INFO:tensorflow:Assets written to: model_experiments/model_5_lstm/assets\n",
            "Epoch 32/100\n",
            "18/18 [==============================] - 0s 6ms/step - loss: 135.9883 - val_loss: 764.0204\n",
            "INFO:tensorflow:Assets written to: model_experiments/model_5_lstm/assets\n",
            "Epoch 33/100\n",
            "18/18 [==============================] - 0s 5ms/step - loss: 136.6867 - val_loss: 791.4828\n",
            "Epoch 34/100\n",
            "18/18 [==============================] - 0s 6ms/step - loss: 136.4118 - val_loss: 750.6531\n",
            "INFO:tensorflow:Assets written to: model_experiments/model_5_lstm/assets\n",
            "Epoch 35/100\n",
            "18/18 [==============================] - 0s 6ms/step - loss: 133.7257 - val_loss: 754.5988\n",
            "Epoch 36/100\n",
            "18/18 [==============================] - 0s 6ms/step - loss: 133.4312 - val_loss: 734.5640\n",
            "INFO:tensorflow:Assets written to: model_experiments/model_5_lstm/assets\n",
            "Epoch 37/100\n",
            "18/18 [==============================] - 0s 5ms/step - loss: 131.2189 - val_loss: 747.5995\n",
            "Epoch 38/100\n",
            "18/18 [==============================] - 0s 6ms/step - loss: 129.7771 - val_loss: 718.2686\n",
            "INFO:tensorflow:Assets written to: model_experiments/model_5_lstm/assets\n",
            "Epoch 39/100\n",
            "18/18 [==============================] - 0s 5ms/step - loss: 129.4270 - val_loss: 716.9465\n",
            "INFO:tensorflow:Assets written to: model_experiments/model_5_lstm/assets\n",
            "Epoch 40/100\n",
            "18/18 [==============================] - 0s 7ms/step - loss: 130.6303 - val_loss: 728.0188\n",
            "Epoch 41/100\n",
            "18/18 [==============================] - 0s 6ms/step - loss: 127.6953 - val_loss: 701.7618\n",
            "INFO:tensorflow:Assets written to: model_experiments/model_5_lstm/assets\n",
            "Epoch 42/100\n",
            "18/18 [==============================] - 0s 6ms/step - loss: 126.2242 - val_loss: 706.0325\n",
            "Epoch 43/100\n",
            "18/18 [==============================] - 0s 5ms/step - loss: 125.7488 - val_loss: 693.8345\n",
            "INFO:tensorflow:Assets written to: model_experiments/model_5_lstm/assets\n",
            "Epoch 44/100\n",
            "18/18 [==============================] - 0s 6ms/step - loss: 125.5652 - val_loss: 689.3698\n",
            "INFO:tensorflow:Assets written to: model_experiments/model_5_lstm/assets\n",
            "Epoch 45/100\n",
            "18/18 [==============================] - 0s 6ms/step - loss: 123.4030 - val_loss: 682.0648\n",
            "INFO:tensorflow:Assets written to: model_experiments/model_5_lstm/assets\n",
            "Epoch 46/100\n",
            "18/18 [==============================] - 0s 5ms/step - loss: 124.5756 - val_loss: 679.0645\n",
            "INFO:tensorflow:Assets written to: model_experiments/model_5_lstm/assets\n",
            "Epoch 47/100\n",
            "18/18 [==============================] - 0s 6ms/step - loss: 122.3864 - val_loss: 700.8399\n",
            "Epoch 48/100\n",
            "18/18 [==============================] - 0s 5ms/step - loss: 122.4737 - val_loss: 676.0283\n",
            "INFO:tensorflow:Assets written to: model_experiments/model_5_lstm/assets\n",
            "Epoch 49/100\n",
            "18/18 [==============================] - 0s 5ms/step - loss: 122.0582 - val_loss: 690.3026\n",
            "Epoch 50/100\n",
            "18/18 [==============================] - 0s 5ms/step - loss: 124.1240 - val_loss: 714.4885\n",
            "Epoch 51/100\n",
            "18/18 [==============================] - 0s 6ms/step - loss: 125.1230 - val_loss: 778.5692\n",
            "Epoch 52/100\n",
            "18/18 [==============================] - 0s 6ms/step - loss: 123.6763 - val_loss: 660.4346\n",
            "INFO:tensorflow:Assets written to: model_experiments/model_5_lstm/assets\n",
            "Epoch 53/100\n",
            "18/18 [==============================] - 0s 6ms/step - loss: 119.8259 - val_loss: 659.2103\n",
            "INFO:tensorflow:Assets written to: model_experiments/model_5_lstm/assets\n",
            "Epoch 54/100\n",
            "18/18 [==============================] - 0s 6ms/step - loss: 120.3732 - val_loss: 654.3164\n",
            "INFO:tensorflow:Assets written to: model_experiments/model_5_lstm/assets\n",
            "Epoch 55/100\n",
            "18/18 [==============================] - 0s 5ms/step - loss: 118.6429 - val_loss: 648.6450\n",
            "INFO:tensorflow:Assets written to: model_experiments/model_5_lstm/assets\n",
            "Epoch 56/100\n",
            "18/18 [==============================] - 0s 6ms/step - loss: 120.1063 - val_loss: 645.4896\n",
            "INFO:tensorflow:Assets written to: model_experiments/model_5_lstm/assets\n",
            "Epoch 57/100\n",
            "18/18 [==============================] - 0s 5ms/step - loss: 123.7777 - val_loss: 680.8215\n",
            "Epoch 58/100\n",
            "18/18 [==============================] - 0s 6ms/step - loss: 118.7787 - val_loss: 641.7518\n",
            "INFO:tensorflow:Assets written to: model_experiments/model_5_lstm/assets\n",
            "Epoch 59/100\n",
            "18/18 [==============================] - 0s 5ms/step - loss: 117.9966 - val_loss: 641.0961\n",
            "INFO:tensorflow:Assets written to: model_experiments/model_5_lstm/assets\n",
            "Epoch 60/100\n",
            "18/18 [==============================] - 0s 6ms/step - loss: 118.3239 - val_loss: 643.4174\n",
            "Epoch 61/100\n",
            "18/18 [==============================] - 0s 6ms/step - loss: 118.6151 - val_loss: 696.0721\n",
            "Epoch 62/100\n",
            "18/18 [==============================] - 0s 6ms/step - loss: 122.4420 - val_loss: 749.9855\n",
            "Epoch 63/100\n",
            "18/18 [==============================] - 0s 5ms/step - loss: 123.8672 - val_loss: 660.2910\n",
            "Epoch 64/100\n",
            "18/18 [==============================] - 0s 5ms/step - loss: 117.0016 - val_loss: 687.4307\n",
            "Epoch 65/100\n",
            "18/18 [==============================] - 0s 5ms/step - loss: 119.8755 - val_loss: 632.8752\n",
            "INFO:tensorflow:Assets written to: model_experiments/model_5_lstm/assets\n",
            "Epoch 66/100\n",
            "18/18 [==============================] - 0s 6ms/step - loss: 117.1110 - val_loss: 640.7438\n",
            "Epoch 67/100\n",
            "18/18 [==============================] - 0s 6ms/step - loss: 117.9292 - val_loss: 626.2725\n",
            "INFO:tensorflow:Assets written to: model_experiments/model_5_lstm/assets\n",
            "Epoch 68/100\n",
            "18/18 [==============================] - 0s 6ms/step - loss: 117.1456 - val_loss: 625.1245\n",
            "INFO:tensorflow:Assets written to: model_experiments/model_5_lstm/assets\n",
            "Epoch 69/100\n",
            "18/18 [==============================] - 0s 6ms/step - loss: 119.3027 - val_loss: 625.7104\n",
            "Epoch 70/100\n",
            "18/18 [==============================] - 0s 6ms/step - loss: 114.9086 - val_loss: 621.8661\n",
            "INFO:tensorflow:Assets written to: model_experiments/model_5_lstm/assets\n",
            "Epoch 71/100\n",
            "18/18 [==============================] - 0s 6ms/step - loss: 115.1822 - val_loss: 654.4707\n",
            "Epoch 72/100\n",
            "18/18 [==============================] - 0s 6ms/step - loss: 119.3393 - val_loss: 632.7345\n",
            "Epoch 73/100\n",
            "18/18 [==============================] - 0s 5ms/step - loss: 115.7310 - val_loss: 627.1373\n",
            "Epoch 74/100\n",
            "18/18 [==============================] - 0s 6ms/step - loss: 115.2199 - val_loss: 625.5247\n",
            "Epoch 75/100\n",
            "18/18 [==============================] - 0s 6ms/step - loss: 115.5961 - val_loss: 647.6739\n",
            "Epoch 76/100\n",
            "18/18 [==============================] - 0s 5ms/step - loss: 114.7675 - val_loss: 617.0222\n",
            "INFO:tensorflow:Assets written to: model_experiments/model_5_lstm/assets\n",
            "Epoch 77/100\n",
            "18/18 [==============================] - 0s 5ms/step - loss: 116.8673 - val_loss: 666.9280\n",
            "Epoch 78/100\n",
            "18/18 [==============================] - 0s 6ms/step - loss: 117.1996 - val_loss: 627.6133\n",
            "Epoch 79/100\n",
            "18/18 [==============================] - 0s 5ms/step - loss: 113.5704 - val_loss: 611.2637\n",
            "INFO:tensorflow:Assets written to: model_experiments/model_5_lstm/assets\n",
            "Epoch 80/100\n",
            "18/18 [==============================] - 0s 5ms/step - loss: 113.2127 - val_loss: 621.4436\n",
            "Epoch 81/100\n",
            "18/18 [==============================] - 0s 6ms/step - loss: 113.3850 - val_loss: 631.9078\n",
            "Epoch 82/100\n",
            "18/18 [==============================] - 0s 5ms/step - loss: 116.0263 - val_loss: 610.8793\n",
            "INFO:tensorflow:Assets written to: model_experiments/model_5_lstm/assets\n",
            "Epoch 83/100\n",
            "18/18 [==============================] - 0s 6ms/step - loss: 113.4978 - val_loss: 631.0351\n",
            "Epoch 84/100\n",
            "18/18 [==============================] - 0s 5ms/step - loss: 114.4766 - val_loss: 620.5226\n",
            "Epoch 85/100\n",
            "18/18 [==============================] - 0s 5ms/step - loss: 114.3218 - val_loss: 640.3288\n",
            "Epoch 86/100\n",
            "18/18 [==============================] - 0s 6ms/step - loss: 115.0620 - val_loss: 614.5500\n",
            "Epoch 87/100\n",
            "18/18 [==============================] - 0s 6ms/step - loss: 112.4946 - val_loss: 609.2250\n",
            "INFO:tensorflow:Assets written to: model_experiments/model_5_lstm/assets\n",
            "Epoch 88/100\n",
            "18/18 [==============================] - 0s 6ms/step - loss: 112.1963 - val_loss: 603.8983\n",
            "INFO:tensorflow:Assets written to: model_experiments/model_5_lstm/assets\n",
            "Epoch 89/100\n",
            "18/18 [==============================] - 0s 6ms/step - loss: 112.1124 - val_loss: 629.1746\n",
            "Epoch 90/100\n",
            "18/18 [==============================] - 0s 6ms/step - loss: 116.6988 - val_loss: 645.2277\n",
            "Epoch 91/100\n",
            "18/18 [==============================] - 0s 5ms/step - loss: 115.3321 - val_loss: 626.2292\n",
            "Epoch 92/100\n",
            "18/18 [==============================] - 0s 6ms/step - loss: 113.3265 - val_loss: 612.6552\n",
            "Epoch 93/100\n",
            "18/18 [==============================] - 0s 5ms/step - loss: 113.0708 - val_loss: 599.9893\n",
            "INFO:tensorflow:Assets written to: model_experiments/model_5_lstm/assets\n",
            "Epoch 94/100\n",
            "18/18 [==============================] - 0s 5ms/step - loss: 111.2166 - val_loss: 600.3155\n",
            "Epoch 95/100\n",
            "18/18 [==============================] - 0s 5ms/step - loss: 111.1020 - val_loss: 598.2369\n",
            "INFO:tensorflow:Assets written to: model_experiments/model_5_lstm/assets\n",
            "Epoch 96/100\n",
            "18/18 [==============================] - 0s 6ms/step - loss: 112.3853 - val_loss: 605.4749\n",
            "Epoch 97/100\n",
            "18/18 [==============================] - 0s 6ms/step - loss: 111.6455 - val_loss: 625.0032\n",
            "Epoch 98/100\n",
            "18/18 [==============================] - 0s 6ms/step - loss: 112.1201 - val_loss: 600.1553\n",
            "Epoch 99/100\n",
            "18/18 [==============================] - 0s 6ms/step - loss: 110.9818 - val_loss: 598.9257\n",
            "Epoch 100/100\n",
            "18/18 [==============================] - 0s 7ms/step - loss: 112.5498 - val_loss: 597.4623\n",
            "INFO:tensorflow:Assets written to: model_experiments/model_5_lstm/assets\n"
          ],
          "name": "stdout"
        },
        {
          "output_type": "execute_result",
          "data": {
            "text/plain": [
              "<keras.callbacks.History at 0x7f564a1a4390>"
            ]
          },
          "metadata": {},
          "execution_count": 108
        }
      ]
    },
    {
      "cell_type": "code",
      "metadata": {
        "colab": {
          "base_uri": "https://localhost:8080/"
        },
        "id": "TwTMkAiS4s0a",
        "outputId": "6ed454e3-e9e4-4843-bd5a-dd83117cfa79"
      },
      "source": [
        "model_5.evaluate(test_windows, test_labels)"
      ],
      "execution_count": 109,
      "outputs": [
        {
          "output_type": "stream",
          "text": [
            "18/18 [==============================] - 0s 2ms/step - loss: 597.4624\n"
          ],
          "name": "stdout"
        },
        {
          "output_type": "execute_result",
          "data": {
            "text/plain": [
              "597.46240234375"
            ]
          },
          "metadata": {},
          "execution_count": 109
        }
      ]
    },
    {
      "cell_type": "code",
      "metadata": {
        "colab": {
          "base_uri": "https://localhost:8080/"
        },
        "id": "SJypGEul-ex4",
        "outputId": "51a66b1b-ee4d-40b1-aed4-166c8239c0b9"
      },
      "source": [
        "# Get the best performing model 5 and evaluate on test data\n",
        "model_5 = tf.keras.models.load_model(\"model_experiments/model_5_lstm/\")\n",
        "model_5.evaluate(test_windows, test_labels)"
      ],
      "execution_count": 110,
      "outputs": [
        {
          "output_type": "stream",
          "text": [
            "WARNING:tensorflow:Layer lstm will not use cuDNN kernels since it doesn't meet the criteria. It will use a generic GPU kernel as fallback when running on GPU.\n",
            "18/18 [==============================] - 0s 2ms/step - loss: 597.4624\n"
          ],
          "name": "stdout"
        },
        {
          "output_type": "execute_result",
          "data": {
            "text/plain": [
              "597.46240234375"
            ]
          },
          "metadata": {},
          "execution_count": 110
        }
      ]
    },
    {
      "cell_type": "code",
      "metadata": {
        "colab": {
          "base_uri": "https://localhost:8080/"
        },
        "id": "EWGU7sLX-2sG",
        "outputId": "eef38ac7-edb6-467f-b040-265008d91c1c"
      },
      "source": [
        "# Make prediction with our LSTM model\n",
        "model_5_preds = make_preds(model_5, input_data= test_windows)\n",
        "model_5_preds[:5]"
      ],
      "execution_count": 111,
      "outputs": [
        {
          "output_type": "execute_result",
          "data": {
            "text/plain": [
              "<tf.Tensor: shape=(5,), dtype=float32, numpy=array([8992.637, 8824.648, 9010.125, 8848.681, 8743.077], dtype=float32)>"
            ]
          },
          "metadata": {},
          "execution_count": 111
        }
      ]
    },
    {
      "cell_type": "code",
      "metadata": {
        "colab": {
          "base_uri": "https://localhost:8080/"
        },
        "id": "HsTFC8jt_Gvu",
        "outputId": "85b0f44a-f9e2-4c92-bb27-223481bf22c1"
      },
      "source": [
        "# Evaluate model 5 predictions\n",
        "model_5_results = evaluate_preds(y_true = tf.squeeze(test_labels),\n",
        "                                 y_pred = model_5_preds)\n",
        "model_5_results"
      ],
      "execution_count": 112,
      "outputs": [
        {
          "output_type": "execute_result",
          "data": {
            "text/plain": [
              "{'mae': 597.46234,\n",
              " 'mape': 2.6910973,\n",
              " 'mase': 1.0495758,\n",
              " 'mse': 1275416.0,\n",
              " 'rmse': 1129.3431}"
            ]
          },
          "metadata": {},
          "execution_count": 112
        }
      ]
    },
    {
      "cell_type": "code",
      "metadata": {
        "colab": {
          "base_uri": "https://localhost:8080/"
        },
        "id": "FZihAugrASiM",
        "outputId": "58350904-ea89-4e81-cab6-f6762921484c"
      },
      "source": [
        "model_1_results"
      ],
      "execution_count": 113,
      "outputs": [
        {
          "output_type": "execute_result",
          "data": {
            "text/plain": [
              "{'mae': 568.9511,\n",
              " 'mape': 2.5448983,\n",
              " 'mase': 0.99948955,\n",
              " 'mse': 1171744.0,\n",
              " 'rmse': 1082.4712}"
            ]
          },
          "metadata": {},
          "execution_count": 113
        }
      ]
    },
    {
      "cell_type": "markdown",
      "metadata": {
        "id": "-M1X7wgFBzms"
      },
      "source": [
        "**Note** : Because neural networks are such powerful algorithms, they can be used for almost any problem, however that doesn't mean they'll achieve performant or usable results. You're probably starting to clue onto this now."
      ]
    },
    {
      "cell_type": "markdown",
      "metadata": {
        "id": "O6cyHMa1A2cN"
      },
      "source": [
        "## Make a multivariate time-series dataset\n",
        "\n",
        "Before we add a feature to our time series, what is a feature we can use?\n",
        "\n",
        "One feature we could add is whether or not Daniel Bourke  or Elon Musk ( :) )tweeted on that day ...\n",
        "\n",
        "* day 1 - 0\n",
        "* day 2 - 1\n",
        "* day 3 - 0\n",
        "\n",
        "What's better feature to use ?\n",
        "\n",
        "\n",
        "How about the bitcoin halving events?\n",
        "https://www.cmcmarkets.com/en/learn-cryptocurrencies/bitcoin-halving"
      ]
    },
    {
      "cell_type": "code",
      "metadata": {
        "colab": {
          "base_uri": "https://localhost:8080/",
          "height": 235
        },
        "id": "UQZNxpITOPVH",
        "outputId": "4ba59287-a502-4508-8917-7344c7ca3346"
      },
      "source": [
        "bitcoin_prices.head()"
      ],
      "execution_count": 114,
      "outputs": [
        {
          "output_type": "execute_result",
          "data": {
            "text/html": [
              "<div>\n",
              "<style scoped>\n",
              "    .dataframe tbody tr th:only-of-type {\n",
              "        vertical-align: middle;\n",
              "    }\n",
              "\n",
              "    .dataframe tbody tr th {\n",
              "        vertical-align: top;\n",
              "    }\n",
              "\n",
              "    .dataframe thead th {\n",
              "        text-align: right;\n",
              "    }\n",
              "</style>\n",
              "<table border=\"1\" class=\"dataframe\">\n",
              "  <thead>\n",
              "    <tr style=\"text-align: right;\">\n",
              "      <th></th>\n",
              "      <th>Price</th>\n",
              "    </tr>\n",
              "    <tr>\n",
              "      <th>Date</th>\n",
              "      <th></th>\n",
              "    </tr>\n",
              "  </thead>\n",
              "  <tbody>\n",
              "    <tr>\n",
              "      <th>2013-10-01</th>\n",
              "      <td>123.65499</td>\n",
              "    </tr>\n",
              "    <tr>\n",
              "      <th>2013-10-02</th>\n",
              "      <td>125.45500</td>\n",
              "    </tr>\n",
              "    <tr>\n",
              "      <th>2013-10-03</th>\n",
              "      <td>108.58483</td>\n",
              "    </tr>\n",
              "    <tr>\n",
              "      <th>2013-10-04</th>\n",
              "      <td>118.67466</td>\n",
              "    </tr>\n",
              "    <tr>\n",
              "      <th>2013-10-05</th>\n",
              "      <td>121.33866</td>\n",
              "    </tr>\n",
              "  </tbody>\n",
              "</table>\n",
              "</div>"
            ],
            "text/plain": [
              "                Price\n",
              "Date                 \n",
              "2013-10-01  123.65499\n",
              "2013-10-02  125.45500\n",
              "2013-10-03  108.58483\n",
              "2013-10-04  118.67466\n",
              "2013-10-05  121.33866"
            ]
          },
          "metadata": {},
          "execution_count": 114
        }
      ]
    },
    {
      "cell_type": "code",
      "metadata": {
        "id": "xxiOd61RD1Uo"
      },
      "source": [
        "# Let's add the bitcoin halving to the dataset\n",
        "\n",
        "block_reward_1 = 50 # 3 January  2009 - this block reward isn't in our dataset (our dataset start from 2013 Oct 01)\n",
        "block_reward_2 = 25 # 28 November 2012\n",
        "block_reward_3 = 12.5 # 9 July 2016 \n",
        "block_reward_4 = 6.25 # 18 May 2020\n",
        "\n",
        "# Block reward dates\n",
        "block_reward_2_datetime = np.datetime64(\"2012-11-28\")\n",
        "block_reward_3_datetime = np.datetime64(\"2016-07-09\")\n",
        "block_reward_4_datetime = np.datetime64(\"2020-05-18\")"
      ],
      "execution_count": 115,
      "outputs": []
    },
    {
      "cell_type": "code",
      "metadata": {
        "colab": {
          "base_uri": "https://localhost:8080/"
        },
        "id": "0PYzYkqtPcDl",
        "outputId": "ddeb5088-1cc1-43c7-cb99-bc8c4f16706e"
      },
      "source": [
        "# Create date ranges of where specific block_reward values should be \n",
        "block_reward_2_days = (block_reward_3_datetime - bitcoin_prices.index[0]).days\n",
        "block_reward_3_days = (block_reward_4_datetime - bitcoin_prices.index[0]).days\n",
        "block_reward_2_days, block_reward_3_days"
      ],
      "execution_count": 116,
      "outputs": [
        {
          "output_type": "execute_result",
          "data": {
            "text/plain": [
              "(1012, 2421)"
            ]
          },
          "metadata": {},
          "execution_count": 116
        }
      ]
    },
    {
      "cell_type": "code",
      "metadata": {
        "id": "-UpnBBgtQevk"
      },
      "source": [
        "# Add in block_reward column\n",
        "bitcoin_prices_block = bitcoin_prices.copy()\n",
        "bitcoin_prices_block[\"block_reward\"] = None\n",
        "\n",
        "# Add in block reward values as a feature to our dataframe\n",
        "bitcoin_prices_block.iloc[:block_reward_2_days, -1] = block_reward_2\n",
        "bitcoin_prices_block.iloc[block_reward_2_days : block_reward_3_days, -1] = block_reward_3\n",
        "bitcoin_prices_block.iloc[block_reward_3_days :, -1] = block_reward_4"
      ],
      "execution_count": 117,
      "outputs": []
    },
    {
      "cell_type": "code",
      "metadata": {
        "colab": {
          "base_uri": "https://localhost:8080/",
          "height": 235
        },
        "id": "6qMkaIEpPJfe",
        "outputId": "7a119e4e-4b37-4f40-9c59-352d25df584a"
      },
      "source": [
        "bitcoin_prices_block.head()"
      ],
      "execution_count": 118,
      "outputs": [
        {
          "output_type": "execute_result",
          "data": {
            "text/html": [
              "<div>\n",
              "<style scoped>\n",
              "    .dataframe tbody tr th:only-of-type {\n",
              "        vertical-align: middle;\n",
              "    }\n",
              "\n",
              "    .dataframe tbody tr th {\n",
              "        vertical-align: top;\n",
              "    }\n",
              "\n",
              "    .dataframe thead th {\n",
              "        text-align: right;\n",
              "    }\n",
              "</style>\n",
              "<table border=\"1\" class=\"dataframe\">\n",
              "  <thead>\n",
              "    <tr style=\"text-align: right;\">\n",
              "      <th></th>\n",
              "      <th>Price</th>\n",
              "      <th>block_reward</th>\n",
              "    </tr>\n",
              "    <tr>\n",
              "      <th>Date</th>\n",
              "      <th></th>\n",
              "      <th></th>\n",
              "    </tr>\n",
              "  </thead>\n",
              "  <tbody>\n",
              "    <tr>\n",
              "      <th>2013-10-01</th>\n",
              "      <td>123.65499</td>\n",
              "      <td>25</td>\n",
              "    </tr>\n",
              "    <tr>\n",
              "      <th>2013-10-02</th>\n",
              "      <td>125.45500</td>\n",
              "      <td>25</td>\n",
              "    </tr>\n",
              "    <tr>\n",
              "      <th>2013-10-03</th>\n",
              "      <td>108.58483</td>\n",
              "      <td>25</td>\n",
              "    </tr>\n",
              "    <tr>\n",
              "      <th>2013-10-04</th>\n",
              "      <td>118.67466</td>\n",
              "      <td>25</td>\n",
              "    </tr>\n",
              "    <tr>\n",
              "      <th>2013-10-05</th>\n",
              "      <td>121.33866</td>\n",
              "      <td>25</td>\n",
              "    </tr>\n",
              "  </tbody>\n",
              "</table>\n",
              "</div>"
            ],
            "text/plain": [
              "                Price block_reward\n",
              "Date                              \n",
              "2013-10-01  123.65499           25\n",
              "2013-10-02  125.45500           25\n",
              "2013-10-03  108.58483           25\n",
              "2013-10-04  118.67466           25\n",
              "2013-10-05  121.33866           25"
            ]
          },
          "metadata": {},
          "execution_count": 118
        }
      ]
    },
    {
      "cell_type": "code",
      "metadata": {
        "colab": {
          "base_uri": "https://localhost:8080/",
          "height": 235
        },
        "id": "vIcqohncQ79V",
        "outputId": "ffaeaf71-54a8-4f7f-f269-fc41fd9dbd02"
      },
      "source": [
        "bitcoin_prices_block.tail()"
      ],
      "execution_count": 119,
      "outputs": [
        {
          "output_type": "execute_result",
          "data": {
            "text/html": [
              "<div>\n",
              "<style scoped>\n",
              "    .dataframe tbody tr th:only-of-type {\n",
              "        vertical-align: middle;\n",
              "    }\n",
              "\n",
              "    .dataframe tbody tr th {\n",
              "        vertical-align: top;\n",
              "    }\n",
              "\n",
              "    .dataframe thead th {\n",
              "        text-align: right;\n",
              "    }\n",
              "</style>\n",
              "<table border=\"1\" class=\"dataframe\">\n",
              "  <thead>\n",
              "    <tr style=\"text-align: right;\">\n",
              "      <th></th>\n",
              "      <th>Price</th>\n",
              "      <th>block_reward</th>\n",
              "    </tr>\n",
              "    <tr>\n",
              "      <th>Date</th>\n",
              "      <th></th>\n",
              "      <th></th>\n",
              "    </tr>\n",
              "  </thead>\n",
              "  <tbody>\n",
              "    <tr>\n",
              "      <th>2021-05-14</th>\n",
              "      <td>49764.132082</td>\n",
              "      <td>6.25</td>\n",
              "    </tr>\n",
              "    <tr>\n",
              "      <th>2021-05-15</th>\n",
              "      <td>50032.693137</td>\n",
              "      <td>6.25</td>\n",
              "    </tr>\n",
              "    <tr>\n",
              "      <th>2021-05-16</th>\n",
              "      <td>47885.625255</td>\n",
              "      <td>6.25</td>\n",
              "    </tr>\n",
              "    <tr>\n",
              "      <th>2021-05-17</th>\n",
              "      <td>45604.615754</td>\n",
              "      <td>6.25</td>\n",
              "    </tr>\n",
              "    <tr>\n",
              "      <th>2021-05-18</th>\n",
              "      <td>43144.471291</td>\n",
              "      <td>6.25</td>\n",
              "    </tr>\n",
              "  </tbody>\n",
              "</table>\n",
              "</div>"
            ],
            "text/plain": [
              "                   Price block_reward\n",
              "Date                                 \n",
              "2021-05-14  49764.132082         6.25\n",
              "2021-05-15  50032.693137         6.25\n",
              "2021-05-16  47885.625255         6.25\n",
              "2021-05-17  45604.615754         6.25\n",
              "2021-05-18  43144.471291         6.25"
            ]
          },
          "metadata": {},
          "execution_count": 119
        }
      ]
    },
    {
      "cell_type": "code",
      "metadata": {
        "colab": {
          "base_uri": "https://localhost:8080/",
          "height": 442
        },
        "id": "VKoBYVN_R2LT",
        "outputId": "6b7689c9-bc08-4509-e3b7-93626c5774a5"
      },
      "source": [
        "# Plot the block reward vs price over time.\n",
        "from sklearn.preprocessing import minmax_scale\n",
        "scaled_price_block_df = pd.DataFrame(minmax_scale(bitcoin_prices_block[[\"Price\", \"block_reward\"]]),\n",
        "                                            columns = bitcoin_prices_block.columns,\n",
        "                                     index = bitcoin_prices_block.index)\n",
        "scaled_price_block_df.plot(figsize = (10, 7));"
      ],
      "execution_count": 120,
      "outputs": [
        {
          "output_type": "display_data",
          "data": {
            "image/png": "[encoded data removed]",
            "text/plain": [
              "<Figure size 720x504 with 1 Axes>"
            ]
          },
          "metadata": {
            "needs_background": "light"
          }
        }
      ]
    },
    {
      "cell_type": "code",
      "metadata": {
        "colab": {
          "base_uri": "https://localhost:8080/",
          "height": 235
        },
        "id": "oMRyTJndT82C",
        "outputId": "fe5d3a53-dc5f-4eff-8efe-0bfa280cb817"
      },
      "source": [
        "scaled_price_block_df.head()"
      ],
      "execution_count": 121,
      "outputs": [
        {
          "output_type": "execute_result",
          "data": {
            "text/html": [
              "<div>\n",
              "<style scoped>\n",
              "    .dataframe tbody tr th:only-of-type {\n",
              "        vertical-align: middle;\n",
              "    }\n",
              "\n",
              "    .dataframe tbody tr th {\n",
              "        vertical-align: top;\n",
              "    }\n",
              "\n",
              "    .dataframe thead th {\n",
              "        text-align: right;\n",
              "    }\n",
              "</style>\n",
              "<table border=\"1\" class=\"dataframe\">\n",
              "  <thead>\n",
              "    <tr style=\"text-align: right;\">\n",
              "      <th></th>\n",
              "      <th>Price</th>\n",
              "      <th>block_reward</th>\n",
              "    </tr>\n",
              "    <tr>\n",
              "      <th>Date</th>\n",
              "      <th></th>\n",
              "      <th></th>\n",
              "    </tr>\n",
              "  </thead>\n",
              "  <tbody>\n",
              "    <tr>\n",
              "      <th>2013-10-01</th>\n",
              "      <td>0.000238</td>\n",
              "      <td>1.0</td>\n",
              "    </tr>\n",
              "    <tr>\n",
              "      <th>2013-10-02</th>\n",
              "      <td>0.000267</td>\n",
              "      <td>1.0</td>\n",
              "    </tr>\n",
              "    <tr>\n",
              "      <th>2013-10-03</th>\n",
              "      <td>0.000000</td>\n",
              "      <td>1.0</td>\n",
              "    </tr>\n",
              "    <tr>\n",
              "      <th>2013-10-04</th>\n",
              "      <td>0.000160</td>\n",
              "      <td>1.0</td>\n",
              "    </tr>\n",
              "    <tr>\n",
              "      <th>2013-10-05</th>\n",
              "      <td>0.000202</td>\n",
              "      <td>1.0</td>\n",
              "    </tr>\n",
              "  </tbody>\n",
              "</table>\n",
              "</div>"
            ],
            "text/plain": [
              "               Price  block_reward\n",
              "Date                              \n",
              "2013-10-01  0.000238           1.0\n",
              "2013-10-02  0.000267           1.0\n",
              "2013-10-03  0.000000           1.0\n",
              "2013-10-04  0.000160           1.0\n",
              "2013-10-05  0.000202           1.0"
            ]
          },
          "metadata": {},
          "execution_count": 121
        }
      ]
    },
    {
      "cell_type": "markdown",
      "metadata": {
        "id": "8hd6pxrEUGMt"
      },
      "source": [
        "## Making a windowed dataset with pandas\n",
        "\n",
        "Previously, we turned our univariate time series into windowed dataset using the helper functions above. \n",
        "\n",
        "However, since we've got multivariate data, these functions won't work.\n",
        "Not to worry, we can use `pandas.DataFrame.shift()` method to window our multivariate data.\n",
        "https://pandas.pydata.org/docs/reference/api/pandas.DataFrame.shift.html"
      ]
    },
    {
      "cell_type": "code",
      "metadata": {
        "id": "MnLiadEPUquT"
      },
      "source": [
        "# Setup dataset hyperparameters\n",
        "HORIZON = 1\n",
        "WINDOW_SIZE = 7"
      ],
      "execution_count": 122,
      "outputs": []
    },
    {
      "cell_type": "code",
      "metadata": {
        "colab": {
          "base_uri": "https://localhost:8080/",
          "height": 390
        },
        "id": "jPzZntT3VQht",
        "outputId": "29906da3-3323-4af9-c888-093277307f43"
      },
      "source": [
        "# Make a copy of the Bitcoin historical data with block reward feature\n",
        "bitcoin_prices_windowed = bitcoin_prices_block.copy()\n",
        "\n",
        "# Add windowed column\n",
        "for i in range(WINDOW_SIZE) : # shift values for each step in WINDOW_SIZE\n",
        "  bitcoin_prices_windowed[f\"Price+{i+1}\"] = bitcoin_prices_windowed[\"Price\"].shift(periods = i+1)\n",
        "\n",
        "bitcoin_prices_windowed.head(10)"
      ],
      "execution_count": 123,
      "outputs": [
        {
          "output_type": "execute_result",
          "data": {
            "text/html": [
              "<div>\n",
              "<style scoped>\n",
              "    .dataframe tbody tr th:only-of-type {\n",
              "        vertical-align: middle;\n",
              "    }\n",
              "\n",
              "    .dataframe tbody tr th {\n",
              "        vertical-align: top;\n",
              "    }\n",
              "\n",
              "    .dataframe thead th {\n",
              "        text-align: right;\n",
              "    }\n",
              "</style>\n",
              "<table border=\"1\" class=\"dataframe\">\n",
              "  <thead>\n",
              "    <tr style=\"text-align: right;\">\n",
              "      <th></th>\n",
              "      <th>Price</th>\n",
              "      <th>block_reward</th>\n",
              "      <th>Price+1</th>\n",
              "      <th>Price+2</th>\n",
              "      <th>Price+3</th>\n",
              "      <th>Price+4</th>\n",
              "      <th>Price+5</th>\n",
              "      <th>Price+6</th>\n",
              "      <th>Price+7</th>\n",
              "    </tr>\n",
              "    <tr>\n",
              "      <th>Date</th>\n",
              "      <th></th>\n",
              "      <th></th>\n",
              "      <th></th>\n",
              "      <th></th>\n",
              "      <th></th>\n",
              "      <th></th>\n",
              "      <th></th>\n",
              "      <th></th>\n",
              "      <th></th>\n",
              "    </tr>\n",
              "  </thead>\n",
              "  <tbody>\n",
              "    <tr>\n",
              "      <th>2013-10-01</th>\n",
              "      <td>123.65499</td>\n",
              "      <td>25</td>\n",
              "      <td>NaN</td>\n",
              "      <td>NaN</td>\n",
              "      <td>NaN</td>\n",
              "      <td>NaN</td>\n",
              "      <td>NaN</td>\n",
              "      <td>NaN</td>\n",
              "      <td>NaN</td>\n",
              "    </tr>\n",
              "    <tr>\n",
              "      <th>2013-10-02</th>\n",
              "      <td>125.45500</td>\n",
              "      <td>25</td>\n",
              "      <td>123.65499</td>\n",
              "      <td>NaN</td>\n",
              "      <td>NaN</td>\n",
              "      <td>NaN</td>\n",
              "      <td>NaN</td>\n",
              "      <td>NaN</td>\n",
              "      <td>NaN</td>\n",
              "    </tr>\n",
              "    <tr>\n",
              "      <th>2013-10-03</th>\n",
              "      <td>108.58483</td>\n",
              "      <td>25</td>\n",
              "      <td>125.45500</td>\n",
              "      <td>123.65499</td>\n",
              "      <td>NaN</td>\n",
              "      <td>NaN</td>\n",
              "      <td>NaN</td>\n",
              "      <td>NaN</td>\n",
              "      <td>NaN</td>\n",
              "    </tr>\n",
              "    <tr>\n",
              "      <th>2013-10-04</th>\n",
              "      <td>118.67466</td>\n",
              "      <td>25</td>\n",
              "      <td>108.58483</td>\n",
              "      <td>125.45500</td>\n",
              "      <td>123.65499</td>\n",
              "      <td>NaN</td>\n",
              "      <td>NaN</td>\n",
              "      <td>NaN</td>\n",
              "      <td>NaN</td>\n",
              "    </tr>\n",
              "    <tr>\n",
              "      <th>2013-10-05</th>\n",
              "      <td>121.33866</td>\n",
              "      <td>25</td>\n",
              "      <td>118.67466</td>\n",
              "      <td>108.58483</td>\n",
              "      <td>125.45500</td>\n",
              "      <td>123.65499</td>\n",
              "      <td>NaN</td>\n",
              "      <td>NaN</td>\n",
              "      <td>NaN</td>\n",
              "    </tr>\n",
              "    <tr>\n",
              "      <th>2013-10-06</th>\n",
              "      <td>120.65533</td>\n",
              "      <td>25</td>\n",
              "      <td>121.33866</td>\n",
              "      <td>118.67466</td>\n",
              "      <td>108.58483</td>\n",
              "      <td>125.45500</td>\n",
              "      <td>123.65499</td>\n",
              "      <td>NaN</td>\n",
              "      <td>NaN</td>\n",
              "    </tr>\n",
              "    <tr>\n",
              "      <th>2013-10-07</th>\n",
              "      <td>121.79500</td>\n",
              "      <td>25</td>\n",
              "      <td>120.65533</td>\n",
              "      <td>121.33866</td>\n",
              "      <td>118.67466</td>\n",
              "      <td>108.58483</td>\n",
              "      <td>125.45500</td>\n",
              "      <td>123.65499</td>\n",
              "      <td>NaN</td>\n",
              "    </tr>\n",
              "    <tr>\n",
              "      <th>2013-10-08</th>\n",
              "      <td>123.03300</td>\n",
              "      <td>25</td>\n",
              "      <td>121.79500</td>\n",
              "      <td>120.65533</td>\n",
              "      <td>121.33866</td>\n",
              "      <td>118.67466</td>\n",
              "      <td>108.58483</td>\n",
              "      <td>125.45500</td>\n",
              "      <td>123.65499</td>\n",
              "    </tr>\n",
              "    <tr>\n",
              "      <th>2013-10-09</th>\n",
              "      <td>124.04900</td>\n",
              "      <td>25</td>\n",
              "      <td>123.03300</td>\n",
              "      <td>121.79500</td>\n",
              "      <td>120.65533</td>\n",
              "      <td>121.33866</td>\n",
              "      <td>118.67466</td>\n",
              "      <td>108.58483</td>\n",
              "      <td>125.45500</td>\n",
              "    </tr>\n",
              "    <tr>\n",
              "      <th>2013-10-10</th>\n",
              "      <td>125.96116</td>\n",
              "      <td>25</td>\n",
              "      <td>124.04900</td>\n",
              "      <td>123.03300</td>\n",
              "      <td>121.79500</td>\n",
              "      <td>120.65533</td>\n",
              "      <td>121.33866</td>\n",
              "      <td>118.67466</td>\n",
              "      <td>108.58483</td>\n",
              "    </tr>\n",
              "  </tbody>\n",
              "</table>\n",
              "</div>"
            ],
            "text/plain": [
              "                Price block_reward    Price+1  ...    Price+5    Price+6    Price+7\n",
              "Date                                           ...                                 \n",
              "2013-10-01  123.65499           25        NaN  ...        NaN        NaN        NaN\n",
              "2013-10-02  125.45500           25  123.65499  ...        NaN        NaN        NaN\n",
              "2013-10-03  108.58483           25  125.45500  ...        NaN        NaN        NaN\n",
              "2013-10-04  118.67466           25  108.58483  ...        NaN        NaN        NaN\n",
              "2013-10-05  121.33866           25  118.67466  ...        NaN        NaN        NaN\n",
              "2013-10-06  120.65533           25  121.33866  ...  123.65499        NaN        NaN\n",
              "2013-10-07  121.79500           25  120.65533  ...  125.45500  123.65499        NaN\n",
              "2013-10-08  123.03300           25  121.79500  ...  108.58483  125.45500  123.65499\n",
              "2013-10-09  124.04900           25  123.03300  ...  118.67466  108.58483  125.45500\n",
              "2013-10-10  125.96116           25  124.04900  ...  121.33866  118.67466  108.58483\n",
              "\n",
              "[10 rows x 9 columns]"
            ]
          },
          "metadata": {},
          "execution_count": 123
        }
      ]
    },
    {
      "cell_type": "markdown",
      "metadata": {
        "id": "pUw1gtb1WhLT"
      },
      "source": [
        "What we've done is created a way to window our dataset directly from a pandas dataframe.\n",
        "\n",
        "```\n",
        "[0, 1, 2, 3, 4, 5, 6, block_reward] -> [7]\n",
        "[1, 2, 3, 4, 5, 6, 7, block_reward] -> [8]\n",
        "[2, 3, 4, 5, 6, 7, 8, block_reward] -> [9]\n",
        "```"
      ]
    },
    {
      "cell_type": "code",
      "metadata": {
        "colab": {
          "base_uri": "https://localhost:8080/",
          "height": 235
        },
        "id": "r6fgfBHTVrva",
        "outputId": "44f54d05-a1a2-427b-a0c9-e15e8108b191"
      },
      "source": [
        "# Create X (windows) and y(horizons) features\n",
        "X = bitcoin_prices_windowed.dropna().drop(\"Price\", axis = 1).astype(np.float32)\n",
        "y = bitcoin_prices_windowed.dropna()[\"Price\"].astype(np.float32)\n",
        "\n",
        "X.head()"
      ],
      "execution_count": 124,
      "outputs": [
        {
          "output_type": "execute_result",
          "data": {
            "text/html": [
              "<div>\n",
              "<style scoped>\n",
              "    .dataframe tbody tr th:only-of-type {\n",
              "        vertical-align: middle;\n",
              "    }\n",
              "\n",
              "    .dataframe tbody tr th {\n",
              "        vertical-align: top;\n",
              "    }\n",
              "\n",
              "    .dataframe thead th {\n",
              "        text-align: right;\n",
              "    }\n",
              "</style>\n",
              "<table border=\"1\" class=\"dataframe\">\n",
              "  <thead>\n",
              "    <tr style=\"text-align: right;\">\n",
              "      <th></th>\n",
              "      <th>block_reward</th>\n",
              "      <th>Price+1</th>\n",
              "      <th>Price+2</th>\n",
              "      <th>Price+3</th>\n",
              "      <th>Price+4</th>\n",
              "      <th>Price+5</th>\n",
              "      <th>Price+6</th>\n",
              "      <th>Price+7</th>\n",
              "    </tr>\n",
              "    <tr>\n",
              "      <th>Date</th>\n",
              "      <th></th>\n",
              "      <th></th>\n",
              "      <th></th>\n",
              "      <th></th>\n",
              "      <th></th>\n",
              "      <th></th>\n",
              "      <th></th>\n",
              "      <th></th>\n",
              "    </tr>\n",
              "  </thead>\n",
              "  <tbody>\n",
              "    <tr>\n",
              "      <th>2013-10-08</th>\n",
              "      <td>25.0</td>\n",
              "      <td>121.794998</td>\n",
              "      <td>120.655327</td>\n",
              "      <td>121.338661</td>\n",
              "      <td>118.674660</td>\n",
              "      <td>108.584831</td>\n",
              "      <td>125.455002</td>\n",
              "      <td>123.654991</td>\n",
              "    </tr>\n",
              "    <tr>\n",
              "      <th>2013-10-09</th>\n",
              "      <td>25.0</td>\n",
              "      <td>123.032997</td>\n",
              "      <td>121.794998</td>\n",
              "      <td>120.655327</td>\n",
              "      <td>121.338661</td>\n",
              "      <td>118.674660</td>\n",
              "      <td>108.584831</td>\n",
              "      <td>125.455002</td>\n",
              "    </tr>\n",
              "    <tr>\n",
              "      <th>2013-10-10</th>\n",
              "      <td>25.0</td>\n",
              "      <td>124.049004</td>\n",
              "      <td>123.032997</td>\n",
              "      <td>121.794998</td>\n",
              "      <td>120.655327</td>\n",
              "      <td>121.338661</td>\n",
              "      <td>118.674660</td>\n",
              "      <td>108.584831</td>\n",
              "    </tr>\n",
              "    <tr>\n",
              "      <th>2013-10-11</th>\n",
              "      <td>25.0</td>\n",
              "      <td>125.961159</td>\n",
              "      <td>124.049004</td>\n",
              "      <td>123.032997</td>\n",
              "      <td>121.794998</td>\n",
              "      <td>120.655327</td>\n",
              "      <td>121.338661</td>\n",
              "      <td>118.674660</td>\n",
              "    </tr>\n",
              "    <tr>\n",
              "      <th>2013-10-12</th>\n",
              "      <td>25.0</td>\n",
              "      <td>125.279663</td>\n",
              "      <td>125.961159</td>\n",
              "      <td>124.049004</td>\n",
              "      <td>123.032997</td>\n",
              "      <td>121.794998</td>\n",
              "      <td>120.655327</td>\n",
              "      <td>121.338661</td>\n",
              "    </tr>\n",
              "  </tbody>\n",
              "</table>\n",
              "</div>"
            ],
            "text/plain": [
              "            block_reward     Price+1  ...     Price+6     Price+7\n",
              "Date                                  ...                        \n",
              "2013-10-08          25.0  121.794998  ...  125.455002  123.654991\n",
              "2013-10-09          25.0  123.032997  ...  108.584831  125.455002\n",
              "2013-10-10          25.0  124.049004  ...  118.674660  108.584831\n",
              "2013-10-11          25.0  125.961159  ...  121.338661  118.674660\n",
              "2013-10-12          25.0  125.279663  ...  120.655327  121.338661\n",
              "\n",
              "[5 rows x 8 columns]"
            ]
          },
          "metadata": {},
          "execution_count": 124
        }
      ]
    },
    {
      "cell_type": "code",
      "metadata": {
        "colab": {
          "base_uri": "https://localhost:8080/"
        },
        "id": "IQiY6G1LXfjW",
        "outputId": "0ec6b8e4-8da8-4fd8-e4c5-43d75325c494"
      },
      "source": [
        "y.head()"
      ],
      "execution_count": 125,
      "outputs": [
        {
          "output_type": "execute_result",
          "data": {
            "text/plain": [
              "Date\n",
              "2013-10-08    123.032997\n",
              "2013-10-09    124.049004\n",
              "2013-10-10    125.961159\n",
              "2013-10-11    125.279663\n",
              "2013-10-12    125.927498\n",
              "Name: Price, dtype: float32"
            ]
          },
          "metadata": {},
          "execution_count": 125
        }
      ]
    },
    {
      "cell_type": "code",
      "metadata": {
        "colab": {
          "base_uri": "https://localhost:8080/"
        },
        "id": "N77NOrPgXhuI",
        "outputId": "7cb40bd9-da32-4af1-e4bc-7152bcf15d96"
      },
      "source": [
        "# Make train and test sets using indexing\n",
        "split_size = int(len(X) * 0.8)\n",
        "X_train, y_train = X[:split_size], y[:split_size]\n",
        "X_test, y_test = X[split_size:], y[split_size :]\n",
        "\n",
        "len(X_train), len(y_train), len(X_test), len(y_test)"
      ],
      "execution_count": 126,
      "outputs": [
        {
          "output_type": "execute_result",
          "data": {
            "text/plain": [
              "(2224, 2224, 556, 556)"
            ]
          },
          "metadata": {},
          "execution_count": 126
        }
      ]
    },
    {
      "cell_type": "code",
      "metadata": {
        "colab": {
          "base_uri": "https://localhost:8080/",
          "height": 235
        },
        "id": "ftDlkg-KYCmv",
        "outputId": "987dfad8-939d-4c77-b08e-56aecb2246d4"
      },
      "source": [
        "X_train.head()"
      ],
      "execution_count": 127,
      "outputs": [
        {
          "output_type": "execute_result",
          "data": {
            "text/html": [
              "<div>\n",
              "<style scoped>\n",
              "    .dataframe tbody tr th:only-of-type {\n",
              "        vertical-align: middle;\n",
              "    }\n",
              "\n",
              "    .dataframe tbody tr th {\n",
              "        vertical-align: top;\n",
              "    }\n",
              "\n",
              "    .dataframe thead th {\n",
              "        text-align: right;\n",
              "    }\n",
              "</style>\n",
              "<table border=\"1\" class=\"dataframe\">\n",
              "  <thead>\n",
              "    <tr style=\"text-align: right;\">\n",
              "      <th></th>\n",
              "      <th>block_reward</th>\n",
              "      <th>Price+1</th>\n",
              "      <th>Price+2</th>\n",
              "      <th>Price+3</th>\n",
              "      <th>Price+4</th>\n",
              "      <th>Price+5</th>\n",
              "      <th>Price+6</th>\n",
              "      <th>Price+7</th>\n",
              "    </tr>\n",
              "    <tr>\n",
              "      <th>Date</th>\n",
              "      <th></th>\n",
              "      <th></th>\n",
              "      <th></th>\n",
              "      <th></th>\n",
              "      <th></th>\n",
              "      <th></th>\n",
              "      <th></th>\n",
              "      <th></th>\n",
              "    </tr>\n",
              "  </thead>\n",
              "  <tbody>\n",
              "    <tr>\n",
              "      <th>2013-10-08</th>\n",
              "      <td>25.0</td>\n",
              "      <td>121.794998</td>\n",
              "      <td>120.655327</td>\n",
              "      <td>121.338661</td>\n",
              "      <td>118.674660</td>\n",
              "      <td>108.584831</td>\n",
              "      <td>125.455002</td>\n",
              "      <td>123.654991</td>\n",
              "    </tr>\n",
              "    <tr>\n",
              "      <th>2013-10-09</th>\n",
              "      <td>25.0</td>\n",
              "      <td>123.032997</td>\n",
              "      <td>121.794998</td>\n",
              "      <td>120.655327</td>\n",
              "      <td>121.338661</td>\n",
              "      <td>118.674660</td>\n",
              "      <td>108.584831</td>\n",
              "      <td>125.455002</td>\n",
              "    </tr>\n",
              "    <tr>\n",
              "      <th>2013-10-10</th>\n",
              "      <td>25.0</td>\n",
              "      <td>124.049004</td>\n",
              "      <td>123.032997</td>\n",
              "      <td>121.794998</td>\n",
              "      <td>120.655327</td>\n",
              "      <td>121.338661</td>\n",
              "      <td>118.674660</td>\n",
              "      <td>108.584831</td>\n",
              "    </tr>\n",
              "    <tr>\n",
              "      <th>2013-10-11</th>\n",
              "      <td>25.0</td>\n",
              "      <td>125.961159</td>\n",
              "      <td>124.049004</td>\n",
              "      <td>123.032997</td>\n",
              "      <td>121.794998</td>\n",
              "      <td>120.655327</td>\n",
              "      <td>121.338661</td>\n",
              "      <td>118.674660</td>\n",
              "    </tr>\n",
              "    <tr>\n",
              "      <th>2013-10-12</th>\n",
              "      <td>25.0</td>\n",
              "      <td>125.279663</td>\n",
              "      <td>125.961159</td>\n",
              "      <td>124.049004</td>\n",
              "      <td>123.032997</td>\n",
              "      <td>121.794998</td>\n",
              "      <td>120.655327</td>\n",
              "      <td>121.338661</td>\n",
              "    </tr>\n",
              "  </tbody>\n",
              "</table>\n",
              "</div>"
            ],
            "text/plain": [
              "            block_reward     Price+1  ...     Price+6     Price+7\n",
              "Date                                  ...                        \n",
              "2013-10-08          25.0  121.794998  ...  125.455002  123.654991\n",
              "2013-10-09          25.0  123.032997  ...  108.584831  125.455002\n",
              "2013-10-10          25.0  124.049004  ...  118.674660  108.584831\n",
              "2013-10-11          25.0  125.961159  ...  121.338661  118.674660\n",
              "2013-10-12          25.0  125.279663  ...  120.655327  121.338661\n",
              "\n",
              "[5 rows x 8 columns]"
            ]
          },
          "metadata": {},
          "execution_count": 127
        }
      ]
    },
    {
      "cell_type": "code",
      "metadata": {
        "colab": {
          "base_uri": "https://localhost:8080/"
        },
        "id": "BiLWnR7SYHHf",
        "outputId": "97b65be8-86a3-4684-9cf2-96bf2c255a69"
      },
      "source": [
        "y_train.head()"
      ],
      "execution_count": 128,
      "outputs": [
        {
          "output_type": "execute_result",
          "data": {
            "text/plain": [
              "Date\n",
              "2013-10-08    123.032997\n",
              "2013-10-09    124.049004\n",
              "2013-10-10    125.961159\n",
              "2013-10-11    125.279663\n",
              "2013-10-12    125.927498\n",
              "Name: Price, dtype: float32"
            ]
          },
          "metadata": {},
          "execution_count": 128
        }
      ]
    },
    {
      "cell_type": "markdown",
      "metadata": {
        "id": "2dASF1Z1YTy1"
      },
      "source": [
        "## Model 6 : Dense(multivariate time series)\n"
      ]
    },
    {
      "cell_type": "code",
      "metadata": {
        "colab": {
          "base_uri": "https://localhost:8080/"
        },
        "id": "S25CZlF3YZYT",
        "outputId": "56373081-f1e3-419b-dbe0-55842cf4ff68"
      },
      "source": [
        "tf.random.set_seed(42)\n",
        "\n",
        "# Make multivariate time series model\n",
        "model_6 = tf.keras.Sequential([\n",
        "            layers.Dense(128, activation=\"relu\"),\n",
        "            #layers.Dense(128, activation=\"relu\"),\n",
        "            layers.Dense(HORIZON)\n",
        "], name=\"model_6_dense_multivariate\")\n",
        "\n",
        "# Compile\n",
        "model_6.compile(loss=\"mae\",\n",
        "                optimizer = tf.keras.optimizers.Adam())\n",
        "\n",
        "# Fit the model\n",
        "model_6.fit(x = X_train,\n",
        "            y = y_train,\n",
        "            epochs = 100,\n",
        "            batch_size = 128,\n",
        "            verbose = 1,\n",
        "            validation_data = (X_test, y_test),\n",
        "            callbacks=[create_model_checkpoint(model_name = model_6.name)])\n"
      ],
      "execution_count": 129,
      "outputs": [
        {
          "output_type": "stream",
          "text": [
            "Epoch 1/100\n",
            "18/18 [==============================] - 0s 10ms/step - loss: 1234.6805 - val_loss: 2061.9075\n",
            "INFO:tensorflow:Assets written to: model_experiments/model_6_dense_multivariate/assets\n",
            "Epoch 2/100\n",
            "18/18 [==============================] - 0s 3ms/step - loss: 351.5054 - val_loss: 1908.6731\n",
            "INFO:tensorflow:Assets written to: model_experiments/model_6_dense_multivariate/assets\n",
            "Epoch 3/100\n",
            "18/18 [==============================] - 0s 3ms/step - loss: 235.4153 - val_loss: 1329.0583\n",
            "INFO:tensorflow:Assets written to: model_experiments/model_6_dense_multivariate/assets\n",
            "Epoch 4/100\n",
            "18/18 [==============================] - 0s 3ms/step - loss: 208.6112 - val_loss: 1102.1342\n",
            "INFO:tensorflow:Assets written to: model_experiments/model_6_dense_multivariate/assets\n",
            "Epoch 5/100\n",
            "18/18 [==============================] - 0s 3ms/step - loss: 196.5770 - val_loss: 1107.8473\n",
            "Epoch 6/100\n",
            "18/18 [==============================] - 0s 3ms/step - loss: 187.2244 - val_loss: 1036.1720\n",
            "INFO:tensorflow:Assets written to: model_experiments/model_6_dense_multivariate/assets\n",
            "Epoch 7/100\n",
            "18/18 [==============================] - 0s 4ms/step - loss: 182.0246 - val_loss: 1019.2927\n",
            "INFO:tensorflow:Assets written to: model_experiments/model_6_dense_multivariate/assets\n",
            "Epoch 8/100\n",
            "18/18 [==============================] - 0s 3ms/step - loss: 175.7059 - val_loss: 977.8487\n",
            "INFO:tensorflow:Assets written to: model_experiments/model_6_dense_multivariate/assets\n",
            "Epoch 9/100\n",
            "18/18 [==============================] - 0s 3ms/step - loss: 170.1784 - val_loss: 954.4036\n",
            "INFO:tensorflow:Assets written to: model_experiments/model_6_dense_multivariate/assets\n",
            "Epoch 10/100\n",
            "18/18 [==============================] - 0s 3ms/step - loss: 164.4430 - val_loss: 913.5146\n",
            "INFO:tensorflow:Assets written to: model_experiments/model_6_dense_multivariate/assets\n",
            "Epoch 11/100\n",
            "18/18 [==============================] - 0s 3ms/step - loss: 158.6892 - val_loss: 874.2505\n",
            "INFO:tensorflow:Assets written to: model_experiments/model_6_dense_multivariate/assets\n",
            "Epoch 12/100\n",
            "18/18 [==============================] - 0s 3ms/step - loss: 152.0732 - val_loss: 861.0416\n",
            "INFO:tensorflow:Assets written to: model_experiments/model_6_dense_multivariate/assets\n",
            "Epoch 13/100\n",
            "18/18 [==============================] - 0s 4ms/step - loss: 151.1057 - val_loss: 886.1204\n",
            "Epoch 14/100\n",
            "18/18 [==============================] - 0s 3ms/step - loss: 147.5482 - val_loss: 837.8613\n",
            "INFO:tensorflow:Assets written to: model_experiments/model_6_dense_multivariate/assets\n",
            "Epoch 15/100\n",
            "18/18 [==============================] - 0s 3ms/step - loss: 142.3497 - val_loss: 794.4786\n",
            "INFO:tensorflow:Assets written to: model_experiments/model_6_dense_multivariate/assets\n",
            "Epoch 16/100\n",
            "18/18 [==============================] - 0s 3ms/step - loss: 137.5206 - val_loss: 778.4050\n",
            "INFO:tensorflow:Assets written to: model_experiments/model_6_dense_multivariate/assets\n",
            "Epoch 17/100\n",
            "18/18 [==============================] - 0s 3ms/step - loss: 135.8190 - val_loss: 772.4529\n",
            "INFO:tensorflow:Assets written to: model_experiments/model_6_dense_multivariate/assets\n",
            "Epoch 18/100\n",
            "18/18 [==============================] - 0s 3ms/step - loss: 134.8562 - val_loss: 747.4801\n",
            "INFO:tensorflow:Assets written to: model_experiments/model_6_dense_multivariate/assets\n",
            "Epoch 19/100\n",
            "18/18 [==============================] - 0s 3ms/step - loss: 130.3347 - val_loss: 761.0552\n",
            "Epoch 20/100\n",
            "18/18 [==============================] - 0s 3ms/step - loss: 128.6775 - val_loss: 701.8977\n",
            "INFO:tensorflow:Assets written to: model_experiments/model_6_dense_multivariate/assets\n",
            "Epoch 21/100\n",
            "18/18 [==============================] - 0s 3ms/step - loss: 129.5576 - val_loss: 691.0127\n",
            "INFO:tensorflow:Assets written to: model_experiments/model_6_dense_multivariate/assets\n",
            "Epoch 22/100\n",
            "18/18 [==============================] - 0s 3ms/step - loss: 125.8060 - val_loss: 684.4120\n",
            "INFO:tensorflow:Assets written to: model_experiments/model_6_dense_multivariate/assets\n",
            "Epoch 23/100\n",
            "18/18 [==============================] - 0s 3ms/step - loss: 125.5263 - val_loss: 692.1295\n",
            "Epoch 24/100\n",
            "18/18 [==============================] - 0s 3ms/step - loss: 122.4765 - val_loss: 674.2214\n",
            "INFO:tensorflow:Assets written to: model_experiments/model_6_dense_multivariate/assets\n",
            "Epoch 25/100\n",
            "18/18 [==============================] - 0s 4ms/step - loss: 121.1171 - val_loss: 669.6443\n",
            "INFO:tensorflow:Assets written to: model_experiments/model_6_dense_multivariate/assets\n",
            "Epoch 26/100\n",
            "18/18 [==============================] - 0s 3ms/step - loss: 127.2623 - val_loss: 690.0407\n",
            "Epoch 27/100\n",
            "18/18 [==============================] - 0s 4ms/step - loss: 124.6204 - val_loss: 643.9725\n",
            "INFO:tensorflow:Assets written to: model_experiments/model_6_dense_multivariate/assets\n",
            "Epoch 28/100\n",
            "18/18 [==============================] - 0s 3ms/step - loss: 118.2544 - val_loss: 656.2766\n",
            "Epoch 29/100\n",
            "18/18 [==============================] - 0s 3ms/step - loss: 119.6374 - val_loss: 633.4545\n",
            "INFO:tensorflow:Assets written to: model_experiments/model_6_dense_multivariate/assets\n",
            "Epoch 30/100\n",
            "18/18 [==============================] - 0s 3ms/step - loss: 119.5001 - val_loss: 625.3953\n",
            "INFO:tensorflow:Assets written to: model_experiments/model_6_dense_multivariate/assets\n",
            "Epoch 31/100\n",
            "18/18 [==============================] - 0s 4ms/step - loss: 114.5633 - val_loss: 668.5062\n",
            "Epoch 32/100\n",
            "18/18 [==============================] - 0s 4ms/step - loss: 116.9750 - val_loss: 617.1060\n",
            "INFO:tensorflow:Assets written to: model_experiments/model_6_dense_multivariate/assets\n",
            "Epoch 33/100\n",
            "18/18 [==============================] - 0s 3ms/step - loss: 115.2439 - val_loss: 649.0987\n",
            "Epoch 34/100\n",
            "18/18 [==============================] - 0s 3ms/step - loss: 114.5187 - val_loss: 632.1377\n",
            "Epoch 35/100\n",
            "18/18 [==============================] - 0s 4ms/step - loss: 113.6357 - val_loss: 607.4173\n",
            "INFO:tensorflow:Assets written to: model_experiments/model_6_dense_multivariate/assets\n",
            "Epoch 36/100\n",
            "18/18 [==============================] - 0s 3ms/step - loss: 115.2605 - val_loss: 626.4316\n",
            "Epoch 37/100\n",
            "18/18 [==============================] - 0s 3ms/step - loss: 113.7021 - val_loss: 606.2318\n",
            "INFO:tensorflow:Assets written to: model_experiments/model_6_dense_multivariate/assets\n",
            "Epoch 38/100\n",
            "18/18 [==============================] - 0s 3ms/step - loss: 111.4061 - val_loss: 603.2921\n",
            "INFO:tensorflow:Assets written to: model_experiments/model_6_dense_multivariate/assets\n",
            "Epoch 39/100\n",
            "18/18 [==============================] - 0s 3ms/step - loss: 112.7722 - val_loss: 596.0060\n",
            "INFO:tensorflow:Assets written to: model_experiments/model_6_dense_multivariate/assets\n",
            "Epoch 40/100\n",
            "18/18 [==============================] - 0s 3ms/step - loss: 110.5418 - val_loss: 593.2171\n",
            "INFO:tensorflow:Assets written to: model_experiments/model_6_dense_multivariate/assets\n",
            "Epoch 41/100\n",
            "18/18 [==============================] - 0s 3ms/step - loss: 110.8671 - val_loss: 609.1066\n",
            "Epoch 42/100\n",
            "18/18 [==============================] - 0s 3ms/step - loss: 115.7249 - val_loss: 607.4874\n",
            "Epoch 43/100\n",
            "18/18 [==============================] - 0s 4ms/step - loss: 111.3313 - val_loss: 606.2032\n",
            "Epoch 44/100\n",
            "18/18 [==============================] - 0s 3ms/step - loss: 109.7027 - val_loss: 586.1216\n",
            "INFO:tensorflow:Assets written to: model_experiments/model_6_dense_multivariate/assets\n",
            "Epoch 45/100\n",
            "18/18 [==============================] - 0s 3ms/step - loss: 107.8748 - val_loss: 593.8448\n",
            "Epoch 46/100\n",
            "18/18 [==============================] - 0s 3ms/step - loss: 109.8641 - val_loss: 586.4579\n",
            "Epoch 47/100\n",
            "18/18 [==============================] - 0s 3ms/step - loss: 112.3586 - val_loss: 655.4484\n",
            "Epoch 48/100\n",
            "18/18 [==============================] - 0s 3ms/step - loss: 109.1614 - val_loss: 598.7231\n",
            "Epoch 49/100\n",
            "18/18 [==============================] - 0s 4ms/step - loss: 109.3029 - val_loss: 589.2485\n",
            "Epoch 50/100\n",
            "18/18 [==============================] - 0s 3ms/step - loss: 111.1971 - val_loss: 649.3793\n",
            "Epoch 51/100\n",
            "18/18 [==============================] - 0s 3ms/step - loss: 110.8514 - val_loss: 602.7662\n",
            "Epoch 52/100\n",
            "18/18 [==============================] - 0s 3ms/step - loss: 111.8331 - val_loss: 599.2961\n",
            "Epoch 53/100\n",
            "18/18 [==============================] - 0s 3ms/step - loss: 110.8895 - val_loss: 652.1635\n",
            "Epoch 54/100\n",
            "18/18 [==============================] - 0s 3ms/step - loss: 113.8169 - val_loss: 600.8454\n",
            "Epoch 55/100\n",
            "18/18 [==============================] - 0s 3ms/step - loss: 110.4068 - val_loss: 575.7750\n",
            "INFO:tensorflow:Assets written to: model_experiments/model_6_dense_multivariate/assets\n",
            "Epoch 56/100\n",
            "18/18 [==============================] - 0s 4ms/step - loss: 108.6609 - val_loss: 785.9762\n",
            "Epoch 57/100\n",
            "18/18 [==============================] - 0s 3ms/step - loss: 124.9823 - val_loss: 670.3788\n",
            "Epoch 58/100\n",
            "18/18 [==============================] - 0s 3ms/step - loss: 112.8591 - val_loss: 580.2877\n",
            "Epoch 59/100\n",
            "18/18 [==============================] - 0s 3ms/step - loss: 107.2513 - val_loss: 597.5089\n",
            "Epoch 60/100\n",
            "18/18 [==============================] - 0s 3ms/step - loss: 109.2322 - val_loss: 632.2950\n",
            "Epoch 61/100\n",
            "18/18 [==============================] - 0s 4ms/step - loss: 109.3518 - val_loss: 591.5407\n",
            "Epoch 62/100\n",
            "18/18 [==============================] - 0s 3ms/step - loss: 108.4084 - val_loss: 617.5809\n",
            "Epoch 63/100\n",
            "18/18 [==============================] - 0s 3ms/step - loss: 113.5326 - val_loss: 613.1470\n",
            "Epoch 64/100\n",
            "18/18 [==============================] - 0s 3ms/step - loss: 110.6625 - val_loss: 689.1790\n",
            "Epoch 65/100\n",
            "18/18 [==============================] - 0s 3ms/step - loss: 112.0475 - val_loss: 575.5544\n",
            "INFO:tensorflow:Assets written to: model_experiments/model_6_dense_multivariate/assets\n",
            "Epoch 66/100\n",
            "18/18 [==============================] - 0s 3ms/step - loss: 111.2831 - val_loss: 590.7808\n",
            "Epoch 67/100\n",
            "18/18 [==============================] - 0s 3ms/step - loss: 106.7917 - val_loss: 586.8846\n",
            "Epoch 68/100\n",
            "18/18 [==============================] - 0s 3ms/step - loss: 112.2987 - val_loss: 696.5298\n",
            "Epoch 69/100\n",
            "18/18 [==============================] - 0s 3ms/step - loss: 124.7808 - val_loss: 698.5273\n",
            "Epoch 70/100\n",
            "18/18 [==============================] - 0s 3ms/step - loss: 119.3443 - val_loss: 581.2105\n",
            "Epoch 71/100\n",
            "18/18 [==============================] - 0s 3ms/step - loss: 109.9960 - val_loss: 607.6736\n",
            "Epoch 72/100\n",
            "18/18 [==============================] - 0s 3ms/step - loss: 106.7711 - val_loss: 573.6143\n",
            "INFO:tensorflow:Assets written to: model_experiments/model_6_dense_multivariate/assets\n",
            "Epoch 73/100\n",
            "18/18 [==============================] - 0s 3ms/step - loss: 110.2485 - val_loss: 618.8953\n",
            "Epoch 74/100\n",
            "18/18 [==============================] - 0s 3ms/step - loss: 105.5330 - val_loss: 574.9455\n",
            "Epoch 75/100\n",
            "18/18 [==============================] - 0s 3ms/step - loss: 107.3177 - val_loss: 606.1971\n",
            "Epoch 76/100\n",
            "18/18 [==============================] - 0s 3ms/step - loss: 107.8084 - val_loss: 582.2407\n",
            "Epoch 77/100\n",
            "18/18 [==============================] - 0s 4ms/step - loss: 107.2528 - val_loss: 571.8566\n",
            "INFO:tensorflow:Assets written to: model_experiments/model_6_dense_multivariate/assets\n",
            "Epoch 78/100\n",
            "18/18 [==============================] - 0s 3ms/step - loss: 106.2309 - val_loss: 572.2827\n",
            "Epoch 79/100\n",
            "18/18 [==============================] - 0s 3ms/step - loss: 105.8568 - val_loss: 596.5466\n",
            "Epoch 80/100\n",
            "18/18 [==============================] - 0s 4ms/step - loss: 107.8419 - val_loss: 577.2398\n",
            "Epoch 81/100\n",
            "18/18 [==============================] - 0s 4ms/step - loss: 105.1100 - val_loss: 568.4897\n",
            "INFO:tensorflow:Assets written to: model_experiments/model_6_dense_multivariate/assets\n",
            "Epoch 82/100\n",
            "18/18 [==============================] - 0s 3ms/step - loss: 114.1867 - val_loss: 592.5615\n",
            "Epoch 83/100\n",
            "18/18 [==============================] - 0s 5ms/step - loss: 107.9631 - val_loss: 651.6220\n",
            "Epoch 84/100\n",
            "18/18 [==============================] - 0s 4ms/step - loss: 109.6690 - val_loss: 568.9340\n",
            "Epoch 85/100\n",
            "18/18 [==============================] - 0s 3ms/step - loss: 105.8219 - val_loss: 571.5331\n",
            "Epoch 86/100\n",
            "18/18 [==============================] - 0s 3ms/step - loss: 104.8628 - val_loss: 579.3854\n",
            "Epoch 87/100\n",
            "18/18 [==============================] - 0s 4ms/step - loss: 104.7148 - val_loss: 582.9182\n",
            "Epoch 88/100\n",
            "18/18 [==============================] - 0s 3ms/step - loss: 106.8899 - val_loss: 569.0820\n",
            "Epoch 89/100\n",
            "18/18 [==============================] - 0s 3ms/step - loss: 105.4376 - val_loss: 569.3438\n",
            "Epoch 90/100\n",
            "18/18 [==============================] - 0s 3ms/step - loss: 104.9081 - val_loss: 597.7663\n",
            "Epoch 91/100\n",
            "18/18 [==============================] - 0s 3ms/step - loss: 111.0515 - val_loss: 645.6418\n",
            "Epoch 92/100\n",
            "18/18 [==============================] - 0s 3ms/step - loss: 106.7720 - val_loss: 593.7665\n",
            "Epoch 93/100\n",
            "18/18 [==============================] - 0s 3ms/step - loss: 113.1876 - val_loss: 643.8378\n",
            "Epoch 94/100\n",
            "18/18 [==============================] - 0s 3ms/step - loss: 109.1489 - val_loss: 571.6637\n",
            "Epoch 95/100\n",
            "18/18 [==============================] - 0s 3ms/step - loss: 104.2674 - val_loss: 569.3417\n",
            "Epoch 96/100\n",
            "18/18 [==============================] - 0s 4ms/step - loss: 110.6049 - val_loss: 649.0352\n",
            "Epoch 97/100\n",
            "18/18 [==============================] - 0s 4ms/step - loss: 108.4132 - val_loss: 570.1170\n",
            "Epoch 98/100\n",
            "18/18 [==============================] - 0s 3ms/step - loss: 105.7977 - val_loss: 583.0423\n",
            "Epoch 99/100\n",
            "18/18 [==============================] - 0s 3ms/step - loss: 106.1837 - val_loss: 568.0361\n",
            "INFO:tensorflow:Assets written to: model_experiments/model_6_dense_multivariate/assets\n",
            "Epoch 100/100\n",
            "18/18 [==============================] - 0s 4ms/step - loss: 115.8590 - val_loss: 639.6246\n"
          ],
          "name": "stdout"
        },
        {
          "output_type": "execute_result",
          "data": {
            "text/plain": [
              "<keras.callbacks.History at 0x7f564c8ca650>"
            ]
          },
          "metadata": {},
          "execution_count": 129
        }
      ]
    },
    {
      "cell_type": "code",
      "metadata": {
        "colab": {
          "base_uri": "https://localhost:8080/"
        },
        "id": "Xy70rEaCZTyE",
        "outputId": "5e592355-d26b-4bb2-ee52-e810cd5fcdac"
      },
      "source": [
        "model_6.evaluate(X_test, y_test)"
      ],
      "execution_count": 130,
      "outputs": [
        {
          "output_type": "stream",
          "text": [
            "18/18 [==============================] - 0s 1ms/step - loss: 639.6246\n"
          ],
          "name": "stdout"
        },
        {
          "output_type": "execute_result",
          "data": {
            "text/plain": [
              "639.6245727539062"
            ]
          },
          "metadata": {},
          "execution_count": 130
        }
      ]
    },
    {
      "cell_type": "code",
      "metadata": {
        "colab": {
          "base_uri": "https://localhost:8080/"
        },
        "id": "gnXf9YbKZcre",
        "outputId": "855d3d39-302b-40ea-f674-d02177b6fe8e"
      },
      "source": [
        "# Load in best performing model\n",
        "model_6 = tf.keras.models.load_model(\"model_experiments/model_6_dense_multivariate/\")\n",
        "model_6.evaluate(X_test, y_test)"
      ],
      "execution_count": 131,
      "outputs": [
        {
          "output_type": "stream",
          "text": [
            "18/18 [==============================] - 0s 1ms/step - loss: 568.0361\n"
          ],
          "name": "stdout"
        },
        {
          "output_type": "execute_result",
          "data": {
            "text/plain": [
              "568.0360717773438"
            ]
          },
          "metadata": {},
          "execution_count": 131
        }
      ]
    },
    {
      "cell_type": "code",
      "metadata": {
        "colab": {
          "base_uri": "https://localhost:8080/"
        },
        "id": "HR0kq3NPZoNT",
        "outputId": "25dca917-d8a0-4c05-b2c3-f4f27b98dada"
      },
      "source": [
        "# Make predictions with multivariate model\n",
        "model_6_preds = tf.squeeze(model_6.predict(X_test))\n",
        "model_6_preds[:10]"
      ],
      "execution_count": 132,
      "outputs": [
        {
          "output_type": "execute_result",
          "data": {
            "text/plain": [
              "<tf.Tensor: shape=(10,), dtype=float32, numpy=\n",
              "array([8849.693 , 8777.459 , 9053.712 , 8753.832 , 8731.5205, 8777.638 ,\n",
              "       8673.611 , 8509.444 , 8475.512 , 8533.936 ], dtype=float32)>"
            ]
          },
          "metadata": {},
          "execution_count": 132
        }
      ]
    },
    {
      "cell_type": "code",
      "metadata": {
        "colab": {
          "base_uri": "https://localhost:8080/"
        },
        "id": "0qlJO8JOuYM-",
        "outputId": "1659a103-6ef0-4ab1-89e3-3268caaa8924"
      },
      "source": [
        "# Evaluate predictions to get eval metrics\n",
        "model_6_results = evaluate_preds(y_true = y_test,\n",
        "                                 y_pred = model_6_preds)\n",
        "model_6_results"
      ],
      "execution_count": 133,
      "outputs": [
        {
          "output_type": "execute_result",
          "data": {
            "text/plain": [
              "{'mae': 568.036,\n",
              " 'mape': 2.546599,\n",
              " 'mase': 0.99788195,\n",
              " 'mse': 1166216.0,\n",
              " 'rmse': 1079.9148}"
            ]
          },
          "metadata": {},
          "execution_count": 133
        }
      ]
    },
    {
      "cell_type": "code",
      "metadata": {
        "colab": {
          "base_uri": "https://localhost:8080/"
        },
        "id": "hG8C3-NwwH6P",
        "outputId": "f66660c8-e565-4b0b-9cd7-5b1a17a89749"
      },
      "source": [
        "model_1_results"
      ],
      "execution_count": 134,
      "outputs": [
        {
          "output_type": "execute_result",
          "data": {
            "text/plain": [
              "{'mae': 568.9511,\n",
              " 'mape': 2.5448983,\n",
              " 'mase': 0.99948955,\n",
              " 'mse': 1171744.0,\n",
              " 'rmse': 1082.4712}"
            ]
          },
          "metadata": {},
          "execution_count": 134
        }
      ]
    },
    {
      "cell_type": "code",
      "metadata": {
        "colab": {
          "base_uri": "https://localhost:8080/"
        },
        "id": "WaMOOKpJwLdC",
        "outputId": "543c1a68-33a7-4225-d95b-c55a5a97b029"
      },
      "source": [
        "naive_results"
      ],
      "execution_count": 135,
      "outputs": [
        {
          "output_type": "execute_result",
          "data": {
            "text/plain": [
              "{'mae': 567.9802,\n",
              " 'mape': 2.516525,\n",
              " 'mase': 0.99957,\n",
              " 'mse': 1147547.0,\n",
              " 'rmse': 1071.2362}"
            ]
          },
          "metadata": {},
          "execution_count": 135
        }
      ]
    },
    {
      "cell_type": "markdown",
      "metadata": {
        "id": "u5iEQCCKwVCQ"
      },
      "source": [
        "## Model 7 : N-BEATS algorithm\n",
        "\n",
        "Let's now build the biggest baddest (though maybe not the baddest, as in, it perform really well...) time series forecasting model we've built so far.\n",
        "\n",
        "More specifically, we're going to be replicating the algorithm in Figure 1 from the following paper : https://arxiv.org/pdf/1905.10437.pdf\n",
        "\n",
        "Why ?\n",
        "* This will allow us to practice replicating a paper with TensorFlow code\n",
        "* We will see how to use TensorFlow layer subclassing (to make our own custom layers)\n",
        "* Get experience using the Functional API to create a custom architecture.\n",
        "* Potentially get state of the art results for our problem"
      ]
    },
    {
      "cell_type": "markdown",
      "metadata": {
        "id": "JURJhyDMxWA0"
      },
      "source": [
        "### Building and testing the N-BEATS block layer\n",
        "\n",
        "\n",
        "Because the N-BEATS block layer doesn't exist in TensorFlow, we've got to create it.\n",
        "\n",
        "To create custom layers and models in TensorFlow, we  can  use subclassing :\n",
        "https://www.tensorflow.org/guide/keras/custom_layers_and_models"
      ]
    },
    {
      "cell_type": "code",
      "metadata": {
        "id": "ParsULj10lzA"
      },
      "source": [
        "# Create N-Beats Block custom layer\n",
        "class NBeatsBlock(tf.keras.layers.Layer) :\n",
        "  def __init__(self,\n",
        "               input_size : int,\n",
        "               theta_size : int,\n",
        "               horizon : int, \n",
        "               n_neurons : int, \n",
        "               n_layers : int,\n",
        "               **kwargs): # the **kwargs take care of all the arguments for the parent class (input_shape, trainable, name ...)\n",
        "    super().__init__(**kwargs)\n",
        "    self.input_size = input_size\n",
        "    self.theta_size = theta_size\n",
        "    self.horizon = horizon\n",
        "    self.n_neurons = n_neurons\n",
        "    self.n_layers = n_layers\n",
        "\n",
        "    # Block contains stack of 4 fully connected layers each has ReLU activation\n",
        "    self.hidden  = [tf.keras.layers.Dense(n_neurons, activation=\"relu\") for _ in range(n_layers)]\n",
        "    #Output of block is a theta layer with linerar activation\n",
        "    self.theta_layer = tf.keras.layers.Dense(theta_size, activation=\"linear\", name=\"theta\")\n",
        "\n",
        "  def call(self, inputs) :\n",
        "    x = inputs\n",
        "    for layer in self.hidden :\n",
        "      x = layer(x)\n",
        "    theta = self.theta_layer(x)\n",
        "    # Output the backcast and forecast from theta\n",
        "    backcast, forecast = theta[:, :self.input_size], theta[:, -self.horizon:]\n",
        "    return backcast, forecast\n",
        "\n"
      ],
      "execution_count": 136,
      "outputs": []
    },
    {
      "cell_type": "markdown",
      "metadata": {
        "id": "sXFG2C7iW2J6"
      },
      "source": [
        "Let's test our NBeatsBlock class.\n",
        "To do we'll make some dummay inputs and outputs."
      ]
    },
    {
      "cell_type": "code",
      "metadata": {
        "id": "ZU3n5RU_XCgB"
      },
      "source": [
        "# Set up dummy NBeatsBlock layer to represent inputs and outputs\n",
        "tf.random.set_seed(42)\n",
        "dummy_nbeasts_block_layer = NBeatsBlock(input_size=WINDOW_SIZE,\n",
        "                                        theta_size = WINDOW_SIZE + HORIZON, # backcast + forecast\n",
        "                                        horizon = HORIZON,\n",
        "                                        n_neurons = 128,\n",
        "                                        n_layers = 4)"
      ],
      "execution_count": 137,
      "outputs": []
    },
    {
      "cell_type": "code",
      "metadata": {
        "colab": {
          "base_uri": "https://localhost:8080/"
        },
        "id": "AzeRpItBY0fN",
        "outputId": "7a20f097-ad6a-4a1d-92ad-6aea2805de61"
      },
      "source": [
        "# Create dummy inputs (have to be same size as input_size)\n",
        "dummy_inputs = tf.expand_dims(tf.range(WINDOW_SIZE) +1,  axis=0) # input shaep to the model has to reflect dense layer input requirments (ndim = 2)\n",
        "dummy_inputs"
      ],
      "execution_count": 138,
      "outputs": [
        {
          "output_type": "execute_result",
          "data": {
            "text/plain": [
              "<tf.Tensor: shape=(1, 7), dtype=int32, numpy=array([[1, 2, 3, 4, 5, 6, 7]], dtype=int32)>"
            ]
          },
          "metadata": {},
          "execution_count": 138
        }
      ]
    },
    {
      "cell_type": "code",
      "metadata": {
        "colab": {
          "base_uri": "https://localhost:8080/"
        },
        "id": "Xdxmlr_TZQKv",
        "outputId": "d9a1e80e-02cb-4a98-8ef6-69fc5b4d93af"
      },
      "source": [
        "# Pass dummy inputs to dummy NBeatsBlock layer\n",
        "backcast, forecast = dummy_nbeasts_block_layer(dummy_inputs)\n",
        "\n",
        "# These are the activation outpts of the theta layer(they'll be random due to no training of the model)\n",
        "print(f\"Backcast : {tf.squeeze(backcast.numpy())}\")\n",
        "print(f\"Forecast : {tf.squeeze(forecast.numpy())}\")"
      ],
      "execution_count": 139,
      "outputs": [
        {
          "output_type": "stream",
          "text": [
            "Backcast : [ 0.07960155  0.3251205  -0.8428683  -0.69389856 -0.31720546 -0.56987345\n",
            " -0.6396661 ]\n",
            "Forecast : 1.0071648359298706\n"
          ],
          "name": "stdout"
        }
      ]
    },
    {
      "cell_type": "markdown",
      "metadata": {
        "id": "l5-1VOXUce-Y"
      },
      "source": [
        "### Preparing data for the N-Beats algorithm using `tf.data`\n",
        "\n",
        "To make our input data load as fast as possible we're going to be adhering to the performant data pipeline steps in the tf data guide :\n",
        "https://www.tensorflow.org/guide/data_performance\n",
        "\n"
      ]
    },
    {
      "cell_type": "code",
      "metadata": {
        "id": "-1Xg4Fw7fjAI"
      },
      "source": [
        "HORIZON = 1\n",
        "WINDOW_SIZE = 7"
      ],
      "execution_count": 140,
      "outputs": []
    },
    {
      "cell_type": "code",
      "metadata": {
        "colab": {
          "base_uri": "https://localhost:8080/",
          "height": 235
        },
        "id": "m2c8X2Zgfl3q",
        "outputId": "e75d870e-bea1-4331-b05b-88b3e3cdaca1"
      },
      "source": [
        "# Create N-Beats data inputs (N-Beats work with univariate time series)\n",
        "bitcoin_prices.head()"
      ],
      "execution_count": 141,
      "outputs": [
        {
          "output_type": "execute_result",
          "data": {
            "text/html": [
              "<div>\n",
              "<style scoped>\n",
              "    .dataframe tbody tr th:only-of-type {\n",
              "        vertical-align: middle;\n",
              "    }\n",
              "\n",
              "    .dataframe tbody tr th {\n",
              "        vertical-align: top;\n",
              "    }\n",
              "\n",
              "    .dataframe thead th {\n",
              "        text-align: right;\n",
              "    }\n",
              "</style>\n",
              "<table border=\"1\" class=\"dataframe\">\n",
              "  <thead>\n",
              "    <tr style=\"text-align: right;\">\n",
              "      <th></th>\n",
              "      <th>Price</th>\n",
              "    </tr>\n",
              "    <tr>\n",
              "      <th>Date</th>\n",
              "      <th></th>\n",
              "    </tr>\n",
              "  </thead>\n",
              "  <tbody>\n",
              "    <tr>\n",
              "      <th>2013-10-01</th>\n",
              "      <td>123.65499</td>\n",
              "    </tr>\n",
              "    <tr>\n",
              "      <th>2013-10-02</th>\n",
              "      <td>125.45500</td>\n",
              "    </tr>\n",
              "    <tr>\n",
              "      <th>2013-10-03</th>\n",
              "      <td>108.58483</td>\n",
              "    </tr>\n",
              "    <tr>\n",
              "      <th>2013-10-04</th>\n",
              "      <td>118.67466</td>\n",
              "    </tr>\n",
              "    <tr>\n",
              "      <th>2013-10-05</th>\n",
              "      <td>121.33866</td>\n",
              "    </tr>\n",
              "  </tbody>\n",
              "</table>\n",
              "</div>"
            ],
            "text/plain": [
              "                Price\n",
              "Date                 \n",
              "2013-10-01  123.65499\n",
              "2013-10-02  125.45500\n",
              "2013-10-03  108.58483\n",
              "2013-10-04  118.67466\n",
              "2013-10-05  121.33866"
            ]
          },
          "metadata": {},
          "execution_count": 141
        }
      ]
    },
    {
      "cell_type": "code",
      "metadata": {
        "colab": {
          "base_uri": "https://localhost:8080/",
          "height": 235
        },
        "id": "ikG-UEFGf4Bk",
        "outputId": "0e198573-7db6-49bd-b329-ff8b3dc52088"
      },
      "source": [
        "# Add windowed column\n",
        "bitcoin_prices_nbeats = bitcoin_prices.copy()\n",
        "for i in range(WINDOW_SIZE) :\n",
        "  bitcoin_prices_nbeats[f\"Prices+{i+1}\"] = bitcoin_prices_nbeats[\"Price\"].shift(periods = i + 1)\n",
        "\n",
        "bitcoin_prices_nbeats.head()"
      ],
      "execution_count": 142,
      "outputs": [
        {
          "output_type": "execute_result",
          "data": {
            "text/html": [
              "<div>\n",
              "<style scoped>\n",
              "    .dataframe tbody tr th:only-of-type {\n",
              "        vertical-align: middle;\n",
              "    }\n",
              "\n",
              "    .dataframe tbody tr th {\n",
              "        vertical-align: top;\n",
              "    }\n",
              "\n",
              "    .dataframe thead th {\n",
              "        text-align: right;\n",
              "    }\n",
              "</style>\n",
              "<table border=\"1\" class=\"dataframe\">\n",
              "  <thead>\n",
              "    <tr style=\"text-align: right;\">\n",
              "      <th></th>\n",
              "      <th>Price</th>\n",
              "      <th>Prices+1</th>\n",
              "      <th>Prices+2</th>\n",
              "      <th>Prices+3</th>\n",
              "      <th>Prices+4</th>\n",
              "      <th>Prices+5</th>\n",
              "      <th>Prices+6</th>\n",
              "      <th>Prices+7</th>\n",
              "    </tr>\n",
              "    <tr>\n",
              "      <th>Date</th>\n",
              "      <th></th>\n",
              "      <th></th>\n",
              "      <th></th>\n",
              "      <th></th>\n",
              "      <th></th>\n",
              "      <th></th>\n",
              "      <th></th>\n",
              "      <th></th>\n",
              "    </tr>\n",
              "  </thead>\n",
              "  <tbody>\n",
              "    <tr>\n",
              "      <th>2013-10-01</th>\n",
              "      <td>123.65499</td>\n",
              "      <td>NaN</td>\n",
              "      <td>NaN</td>\n",
              "      <td>NaN</td>\n",
              "      <td>NaN</td>\n",
              "      <td>NaN</td>\n",
              "      <td>NaN</td>\n",
              "      <td>NaN</td>\n",
              "    </tr>\n",
              "    <tr>\n",
              "      <th>2013-10-02</th>\n",
              "      <td>125.45500</td>\n",
              "      <td>123.65499</td>\n",
              "      <td>NaN</td>\n",
              "      <td>NaN</td>\n",
              "      <td>NaN</td>\n",
              "      <td>NaN</td>\n",
              "      <td>NaN</td>\n",
              "      <td>NaN</td>\n",
              "    </tr>\n",
              "    <tr>\n",
              "      <th>2013-10-03</th>\n",
              "      <td>108.58483</td>\n",
              "      <td>125.45500</td>\n",
              "      <td>123.65499</td>\n",
              "      <td>NaN</td>\n",
              "      <td>NaN</td>\n",
              "      <td>NaN</td>\n",
              "      <td>NaN</td>\n",
              "      <td>NaN</td>\n",
              "    </tr>\n",
              "    <tr>\n",
              "      <th>2013-10-04</th>\n",
              "      <td>118.67466</td>\n",
              "      <td>108.58483</td>\n",
              "      <td>125.45500</td>\n",
              "      <td>123.65499</td>\n",
              "      <td>NaN</td>\n",
              "      <td>NaN</td>\n",
              "      <td>NaN</td>\n",
              "      <td>NaN</td>\n",
              "    </tr>\n",
              "    <tr>\n",
              "      <th>2013-10-05</th>\n",
              "      <td>121.33866</td>\n",
              "      <td>118.67466</td>\n",
              "      <td>108.58483</td>\n",
              "      <td>125.45500</td>\n",
              "      <td>123.65499</td>\n",
              "      <td>NaN</td>\n",
              "      <td>NaN</td>\n",
              "      <td>NaN</td>\n",
              "    </tr>\n",
              "  </tbody>\n",
              "</table>\n",
              "</div>"
            ],
            "text/plain": [
              "                Price   Prices+1   Prices+2  ...  Prices+5  Prices+6  Prices+7\n",
              "Date                                         ...                              \n",
              "2013-10-01  123.65499        NaN        NaN  ...       NaN       NaN       NaN\n",
              "2013-10-02  125.45500  123.65499        NaN  ...       NaN       NaN       NaN\n",
              "2013-10-03  108.58483  125.45500  123.65499  ...       NaN       NaN       NaN\n",
              "2013-10-04  118.67466  108.58483  125.45500  ...       NaN       NaN       NaN\n",
              "2013-10-05  121.33866  118.67466  108.58483  ...       NaN       NaN       NaN\n",
              "\n",
              "[5 rows x 8 columns]"
            ]
          },
          "metadata": {},
          "execution_count": 142
        }
      ]
    },
    {
      "cell_type": "code",
      "metadata": {
        "colab": {
          "base_uri": "https://localhost:8080/"
        },
        "id": "jzsPT6LmgXr3",
        "outputId": "36a0db3a-5d62-4417-aab8-8482fc0bb208"
      },
      "source": [
        "# Make features and labels\n",
        "X = bitcoin_prices_nbeats.dropna().drop(\"Price\", axis=1)\n",
        "y = bitcoin_prices_nbeats.dropna()[\"Price\"] \n",
        "\n",
        "# Make train and test sets\n",
        "split_size = int (len(X) * 0.8)\n",
        "X_train, y_train = X[:split_size], y[:split_size]\n",
        "X_test, y_test = X[split_size :], y[split_size : ]\n",
        "len(X_train), len(y_train), len(X_test), len(y_test)"
      ],
      "execution_count": 143,
      "outputs": [
        {
          "output_type": "execute_result",
          "data": {
            "text/plain": [
              "(2224, 2224, 556, 556)"
            ]
          },
          "metadata": {},
          "execution_count": 143
        }
      ]
    },
    {
      "cell_type": "code",
      "metadata": {
        "id": "qa4KnfhOhGYJ"
      },
      "source": [
        "# Time to make our dataset performant using tf.data API\n",
        "\n",
        "train_features_dataset = tf.data.Dataset.from_tensor_slices(X_train)\n",
        "train_labels_dataset = tf.data.Dataset.from_tensor_slices(y_train)\n",
        "\n",
        "test_features_dataset = tf.data.Dataset.from_tensor_slices(X_test)\n",
        "test_labels_dataset = tf.data.Dataset.from_tensor_slices(y_test)\n",
        "\n",
        "# Combine labels and features by zipping together -> (fetaures, labels)\n",
        "train_dataset = tf.data.Dataset.zip((train_features_dataset, train_labels_dataset))\n",
        "test_dataset = tf.data.Dataset.zip((test_features_dataset, test_labels_dataset))\n",
        "\n",
        "# Batch and prefetch\n",
        "BATCH_SIZE = 1024\n",
        "train_dataset = train_dataset.batch(BATCH_SIZE).prefetch(tf.data.AUTOTUNE)\n",
        "test_dataset = test_dataset.batch(BATCH_SIZE).prefetch(tf.data.AUTOTUNE)"
      ],
      "execution_count": 144,
      "outputs": []
    },
    {
      "cell_type": "code",
      "metadata": {
        "colab": {
          "base_uri": "https://localhost:8080/"
        },
        "id": "Sipva9CaiuQr",
        "outputId": "8f7845f8-6130-4739-d843-ce73b82d4054"
      },
      "source": [
        "len(train_dataset), len(test_dataset)"
      ],
      "execution_count": 145,
      "outputs": [
        {
          "output_type": "execute_result",
          "data": {
            "text/plain": [
              "(3, 1)"
            ]
          },
          "metadata": {},
          "execution_count": 145
        }
      ]
    },
    {
      "cell_type": "code",
      "metadata": {
        "colab": {
          "base_uri": "https://localhost:8080/"
        },
        "id": "JmqhYVToi8E4",
        "outputId": "04de8d7e-bee1-49ae-e92e-61c0869ba37d"
      },
      "source": [
        "train_dataset, test_dataset"
      ],
      "execution_count": 146,
      "outputs": [
        {
          "output_type": "execute_result",
          "data": {
            "text/plain": [
              "(<PrefetchDataset shapes: ((None, 7), (None,)), types: (tf.float64, tf.float64)>,\n",
              " <PrefetchDataset shapes: ((None, 7), (None,)), types: (tf.float64, tf.float64)>)"
            ]
          },
          "metadata": {},
          "execution_count": 146
        }
      ]
    },
    {
      "cell_type": "markdown",
      "metadata": {
        "id": "OXj50N4rkRHh"
      },
      "source": [
        "### Setting up hyperparameters for N-BEATS algorithm\n",
        "\n",
        "The N-Beats algorithm has a fair few numbers of parameters, many of them can be found in Table 18 : https://arxiv.org/pdf/1905.10437.pdf"
      ]
    },
    {
      "cell_type": "code",
      "metadata": {
        "colab": {
          "base_uri": "https://localhost:8080/"
        },
        "id": "dL1DLx4smZ-B",
        "outputId": "940eeacb-9113-4474-aef3-6a03d478a132"
      },
      "source": [
        "# Values from N-BEATS paper\n",
        "N_EPOCHS = 5000\n",
        "N_NEURONS = 512\n",
        "N_LAYERS  = 4\n",
        "N_STACKS = 30\n",
        "\n",
        "INPUT_SIZE = WINDOW_SIZE * HORIZON\n",
        "THETA_SIZE = INPUT_SIZE + HORIZON  # total includes forecast (Horizon) and backcast(Input_size)\n",
        "\n",
        "INPUT_SIZE, THETA_SIZE"
      ],
      "execution_count": 147,
      "outputs": [
        {
          "output_type": "execute_result",
          "data": {
            "text/plain": [
              "(7, 8)"
            ]
          },
          "metadata": {},
          "execution_count": 147
        }
      ]
    },
    {
      "cell_type": "markdown",
      "metadata": {
        "id": "6YWIf3PMoxwq"
      },
      "source": [
        "### Getting ready for residual connection\n",
        "\n",
        "Before we can craft our N-BEATS model, we need two layers for the residual connection (substract and add)\n",
        "\n",
        "The N-Beats algorithm uses double residual stacking to help train its deeper architecture (section 3.2 of N-Beats paper)\n",
        "\n",
        "> **Resources** : For more on residual connection see :\n",
        "* https://en.wikipedia.org/wiki/Residual_neural_network\n",
        "* https://en.wikipedia.org/wiki/Vanishing_gradient_problem\n",
        "* https://arxiv.org/abs/1512.03385\n",
        "* https://paperswithcode.com/method/resnet"
      ]
    },
    {
      "cell_type": "code",
      "metadata": {
        "colab": {
          "base_uri": "https://localhost:8080/"
        },
        "id": "Ha8X_IHjqZKp",
        "outputId": "31b59cfe-6eb6-4acf-9e53-9d0448554b8f"
      },
      "source": [
        "# Make tensors\n",
        "tensor_1 = tf.range(10) + 10\n",
        "tensor_2  = tf.range(10)\n",
        "\n",
        "#Subtract\n",
        "subtracted = layers.subtract([tensor_1, tensor_2])\n",
        "\n",
        "#Add\n",
        "added  = layers.add([tensor_1, tensor_2])\n",
        "\n",
        "# Get outputs\n",
        "print(f\"Input tensors : {tensor_1.numpy()} & {tensor_2.numpy()}\")\n",
        "print(f\"Subtracted: {subtracted.numpy()}\")\n",
        "print(f\"Added : {added.numpy()}\")"
      ],
      "execution_count": 148,
      "outputs": [
        {
          "output_type": "stream",
          "text": [
            "Input tensors : [10 11 12 13 14 15 16 17 18 19] & [0 1 2 3 4 5 6 7 8 9]\n",
            "Subtracted: [10 10 10 10 10 10 10 10 10 10]\n",
            "Added : [10 12 14 16 18 20 22 24 26 28]\n"
          ],
          "name": "stdout"
        }
      ]
    },
    {
      "cell_type": "markdown",
      "metadata": {
        "id": "mQolrQhXwh2L"
      },
      "source": [
        "### Building , compiling and fitting the N-BEATS algorithm\n",
        "\n",
        "\n",
        "1. Setup an instance of N-Beats block layer using `NBeatsBlock` (this'll be the initial block used for the network, the rest will be created as part of stacks)\n",
        "2. Create an input layer for the N-BEATS stack (we'll be using the Keras Functional API)\n",
        "3. Make the initial backcast and forecasts for the model with the layer created in (1)\n",
        "4. Use for-loops to create stacks of block layers\n",
        "5. Use the `NBeatsBlock` class within the for loop in (4) to create blocks which return backcasts and block-level forecasts\n",
        "6. Create the double residual stacking using substract and add layers\n",
        "7. Put the models inputs and outputs together using `tf.keras.Model()`\n",
        "8. Compile the model with MAE loss (the paper uses multiple losses but we'll use MAE to keep it inline with out other mdoels) and Adam optimizer with default setting as per section 5.2 of N-BEATS paper.\n",
        "9. Fit the N-BEATS for 5000 epochs and since it's fitting for so many epochs, we'll use a couple of callbacks :\n",
        " * Early stopping - because the model will be training for so long, we'll stop it early if it stops improving\n",
        " * Reduce LR on Plateau - if a model stops improving, try lowering the learning to reduce the amount it updates its weights each time(take smaller steps towards best performance)"
      ]
    },
    {
      "cell_type": "code",
      "metadata": {
        "id": "13V6qPWX9URY"
      },
      "source": [
        ""
      ],
      "execution_count": null,
      "outputs": []
    },
    {
      "cell_type": "code",
      "metadata": {
        "id": "mllSLPQv3Wig"
      },
      "source": [
        ""
      ],
      "execution_count": 148,
      "outputs": []
    }
  ]
}