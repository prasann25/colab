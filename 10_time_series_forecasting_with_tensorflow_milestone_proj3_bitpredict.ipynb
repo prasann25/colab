{
  "nbformat": 4,
  "nbformat_minor": 0,
  "metadata": {
    "colab": {
      "name": "10_time_series_forecasting_with_tensorflow_milestone_proj3_bitpredict",
      "provenance": [],
      "include_colab_link": true
    },
    "kernelspec": {
      "name": "python3",
      "display_name": "Python 3"
    },
    "language_info": {
      "name": "python"
    },
    "accelerator": "GPU"
  },
  "cells": [
    {
      "cell_type": "markdown",
      "metadata": {
        "id": "view-in-github",
        "colab_type": "text"
      },
      "source": [
        "<a href=\"https://colab.research.google.com/github/prasann25/colab/blob/main/10_time_series_forecasting_with_tensorflow_milestone_proj3_bitpredict.ipynb\" target=\"_parent\"><img src=\"https://colab.research.google.com/assets/colab-badge.svg\" alt=\"Open In Colab\"/></a>"
      ]
    },
    {
      "cell_type": "markdown",
      "metadata": {
        "id": "-8fbclEDHYdu"
      },
      "source": [
        "#Time series forecasting fundamentals with TensorFlow + Milestone Project 3 : BitPredict\n",
        "\n",
        "Let's write some TensorFlow code to predict the price of Bitcoin based on the historical price of Bitcoin.\n",
        "\n",
        "**Note** : This is not a financial advice.\n",
        "\n",
        "Links to understand some practical references:-\n",
        "* All resources : https://github.com/mrdbourke/tensorflow-deep-learning\n",
        "\n",
        "* https://dev.mrdbourke.com/tensorflow-deep-learning/\n",
        "\n",
        "* https://eng.uber.com/forecasting-introduction/"
      ]
    },
    {
      "cell_type": "markdown",
      "metadata": {
        "id": "D38ymGfJyu6X"
      },
      "source": [
        "## Get data\n",
        "\n",
        "We're going to be using the historical price data of Bitcoin to try and predict the future price of Bitcoin, we downloaded the data from here :\n",
        "https://www.coindesk.com/price/bitcoin"
      ]
    },
    {
      "cell_type": "code",
      "metadata": {
        "colab": {
          "base_uri": "https://localhost:8080/"
        },
        "id": "pXzwwRs31NcH",
        "outputId": "5217d947-6ec2-4d82-eaed-593cd055743f"
      },
      "source": [
        "!nvidia-smi -L"
      ],
      "execution_count": 2,
      "outputs": [
        {
          "output_type": "stream",
          "text": [
            "GPU 0: Tesla T4 (UUID: GPU-09855e1e-8e86-7f23-6ca9-db3c7e6caa19)\n"
          ],
          "name": "stdout"
        }
      ]
    },
    {
      "cell_type": "code",
      "metadata": {
        "colab": {
          "base_uri": "https://localhost:8080/"
        },
        "id": "BJrmbW190k5V",
        "outputId": "d14044b8-ae45-4628-b180-92606eab4207"
      },
      "source": [
        "!wget https://raw.githubusercontent.com/mrdbourke/tensorflow-deep-learning/main/extras/BTC_USD_2013-10-01_2021-05-18-CoinDesk.csv"
      ],
      "execution_count": 3,
      "outputs": [
        {
          "output_type": "stream",
          "text": [
            "--2021-08-24 18:32:03--  https://raw.githubusercontent.com/mrdbourke/tensorflow-deep-learning/main/extras/BTC_USD_2013-10-01_2021-05-18-CoinDesk.csv\n",
            "Resolving raw.githubusercontent.com (raw.githubusercontent.com)... 185.199.108.133, 185.199.109.133, 185.199.110.133, ...\n",
            "Connecting to raw.githubusercontent.com (raw.githubusercontent.com)|185.199.108.133|:443... connected.\n",
            "HTTP request sent, awaiting response... 200 OK\n",
            "Length: 178509 (174K) [text/plain]\n",
            "Saving to: ‘BTC_USD_2013-10-01_2021-05-18-CoinDesk.csv’\n",
            "\n",
            "\r          BTC_USD_2   0%[                    ]       0  --.-KB/s               \rBTC_USD_2013-10-01_ 100%[===================>] 174.33K  --.-KB/s    in 0.02s   \n",
            "\n",
            "2021-08-24 18:32:04 (11.1 MB/s) - ‘BTC_USD_2013-10-01_2021-05-18-CoinDesk.csv’ saved [178509/178509]\n",
            "\n"
          ],
          "name": "stdout"
        }
      ]
    },
    {
      "cell_type": "markdown",
      "metadata": {
        "id": "mNq5PW4X0u5x"
      },
      "source": [
        "## Importing time series with pandas"
      ]
    },
    {
      "cell_type": "code",
      "metadata": {
        "colab": {
          "base_uri": "https://localhost:8080/",
          "height": 235
        },
        "id": "nfT8dF9j1XEE",
        "outputId": "bcbb49e3-278b-4b3f-f292-f15a5b9a6d04"
      },
      "source": [
        "# Import with pandas\n",
        "import pandas as pd\n",
        "# Let's read in our Bitcoin data and parse the dates\n",
        "df = pd.read_csv(\"/content/BTC_USD_2013-10-01_2021-05-18-CoinDesk.csv\",\n",
        "                 parse_dates=[\"Date\"],\n",
        "                 index_col=[\"Date\"]) # parse the date column and tell pandas column 1 is a datetime\n",
        "df.head()"
      ],
      "execution_count": 4,
      "outputs": [
        {
          "output_type": "execute_result",
          "data": {
            "text/html": [
              "<div>\n",
              "<style scoped>\n",
              "    .dataframe tbody tr th:only-of-type {\n",
              "        vertical-align: middle;\n",
              "    }\n",
              "\n",
              "    .dataframe tbody tr th {\n",
              "        vertical-align: top;\n",
              "    }\n",
              "\n",
              "    .dataframe thead th {\n",
              "        text-align: right;\n",
              "    }\n",
              "</style>\n",
              "<table border=\"1\" class=\"dataframe\">\n",
              "  <thead>\n",
              "    <tr style=\"text-align: right;\">\n",
              "      <th></th>\n",
              "      <th>Currency</th>\n",
              "      <th>Closing Price (USD)</th>\n",
              "      <th>24h Open (USD)</th>\n",
              "      <th>24h High (USD)</th>\n",
              "      <th>24h Low (USD)</th>\n",
              "    </tr>\n",
              "    <tr>\n",
              "      <th>Date</th>\n",
              "      <th></th>\n",
              "      <th></th>\n",
              "      <th></th>\n",
              "      <th></th>\n",
              "      <th></th>\n",
              "    </tr>\n",
              "  </thead>\n",
              "  <tbody>\n",
              "    <tr>\n",
              "      <th>2013-10-01</th>\n",
              "      <td>BTC</td>\n",
              "      <td>123.65499</td>\n",
              "      <td>124.30466</td>\n",
              "      <td>124.75166</td>\n",
              "      <td>122.56349</td>\n",
              "    </tr>\n",
              "    <tr>\n",
              "      <th>2013-10-02</th>\n",
              "      <td>BTC</td>\n",
              "      <td>125.45500</td>\n",
              "      <td>123.65499</td>\n",
              "      <td>125.75850</td>\n",
              "      <td>123.63383</td>\n",
              "    </tr>\n",
              "    <tr>\n",
              "      <th>2013-10-03</th>\n",
              "      <td>BTC</td>\n",
              "      <td>108.58483</td>\n",
              "      <td>125.45500</td>\n",
              "      <td>125.66566</td>\n",
              "      <td>83.32833</td>\n",
              "    </tr>\n",
              "    <tr>\n",
              "      <th>2013-10-04</th>\n",
              "      <td>BTC</td>\n",
              "      <td>118.67466</td>\n",
              "      <td>108.58483</td>\n",
              "      <td>118.67500</td>\n",
              "      <td>107.05816</td>\n",
              "    </tr>\n",
              "    <tr>\n",
              "      <th>2013-10-05</th>\n",
              "      <td>BTC</td>\n",
              "      <td>121.33866</td>\n",
              "      <td>118.67466</td>\n",
              "      <td>121.93633</td>\n",
              "      <td>118.00566</td>\n",
              "    </tr>\n",
              "  </tbody>\n",
              "</table>\n",
              "</div>"
            ],
            "text/plain": [
              "           Currency  Closing Price (USD)  ...  24h High (USD)  24h Low (USD)\n",
              "Date                                      ...                               \n",
              "2013-10-01      BTC            123.65499  ...       124.75166      122.56349\n",
              "2013-10-02      BTC            125.45500  ...       125.75850      123.63383\n",
              "2013-10-03      BTC            108.58483  ...       125.66566       83.32833\n",
              "2013-10-04      BTC            118.67466  ...       118.67500      107.05816\n",
              "2013-10-05      BTC            121.33866  ...       121.93633      118.00566\n",
              "\n",
              "[5 rows x 5 columns]"
            ]
          },
          "metadata": {},
          "execution_count": 4
        }
      ]
    },
    {
      "cell_type": "code",
      "metadata": {
        "colab": {
          "base_uri": "https://localhost:8080/"
        },
        "id": "vhvyZjLs2SqM",
        "outputId": "b3fe6704-c6be-4b3d-c145-178a4a834a62"
      },
      "source": [
        "df.info()"
      ],
      "execution_count": 5,
      "outputs": [
        {
          "output_type": "stream",
          "text": [
            "<class 'pandas.core.frame.DataFrame'>\n",
            "DatetimeIndex: 2787 entries, 2013-10-01 to 2021-05-18\n",
            "Data columns (total 5 columns):\n",
            " #   Column               Non-Null Count  Dtype  \n",
            "---  ------               --------------  -----  \n",
            " 0   Currency             2787 non-null   object \n",
            " 1   Closing Price (USD)  2787 non-null   float64\n",
            " 2   24h Open (USD)       2787 non-null   float64\n",
            " 3   24h High (USD)       2787 non-null   float64\n",
            " 4   24h Low (USD)        2787 non-null   float64\n",
            "dtypes: float64(4), object(1)\n",
            "memory usage: 130.6+ KB\n"
          ],
          "name": "stdout"
        }
      ]
    },
    {
      "cell_type": "code",
      "metadata": {
        "colab": {
          "base_uri": "https://localhost:8080/"
        },
        "id": "3Idb-62L2W5e",
        "outputId": "221a6ea0-3f88-4198-d5ce-d65101ce5a11"
      },
      "source": [
        "# How many samples do we have ?\n",
        "len(df)"
      ],
      "execution_count": 6,
      "outputs": [
        {
          "output_type": "execute_result",
          "data": {
            "text/plain": [
              "2787"
            ]
          },
          "metadata": {},
          "execution_count": 6
        }
      ]
    },
    {
      "cell_type": "code",
      "metadata": {
        "colab": {
          "base_uri": "https://localhost:8080/",
          "height": 235
        },
        "id": "zkGYWQXQ4jZw",
        "outputId": "69188500-be27-4ab7-8dc2-59bbffd9f04f"
      },
      "source": [
        "df.tail()"
      ],
      "execution_count": 7,
      "outputs": [
        {
          "output_type": "execute_result",
          "data": {
            "text/html": [
              "<div>\n",
              "<style scoped>\n",
              "    .dataframe tbody tr th:only-of-type {\n",
              "        vertical-align: middle;\n",
              "    }\n",
              "\n",
              "    .dataframe tbody tr th {\n",
              "        vertical-align: top;\n",
              "    }\n",
              "\n",
              "    .dataframe thead th {\n",
              "        text-align: right;\n",
              "    }\n",
              "</style>\n",
              "<table border=\"1\" class=\"dataframe\">\n",
              "  <thead>\n",
              "    <tr style=\"text-align: right;\">\n",
              "      <th></th>\n",
              "      <th>Currency</th>\n",
              "      <th>Closing Price (USD)</th>\n",
              "      <th>24h Open (USD)</th>\n",
              "      <th>24h High (USD)</th>\n",
              "      <th>24h Low (USD)</th>\n",
              "    </tr>\n",
              "    <tr>\n",
              "      <th>Date</th>\n",
              "      <th></th>\n",
              "      <th></th>\n",
              "      <th></th>\n",
              "      <th></th>\n",
              "      <th></th>\n",
              "    </tr>\n",
              "  </thead>\n",
              "  <tbody>\n",
              "    <tr>\n",
              "      <th>2021-05-14</th>\n",
              "      <td>BTC</td>\n",
              "      <td>49764.132082</td>\n",
              "      <td>49596.778891</td>\n",
              "      <td>51448.798576</td>\n",
              "      <td>46294.720180</td>\n",
              "    </tr>\n",
              "    <tr>\n",
              "      <th>2021-05-15</th>\n",
              "      <td>BTC</td>\n",
              "      <td>50032.693137</td>\n",
              "      <td>49717.354353</td>\n",
              "      <td>51578.312545</td>\n",
              "      <td>48944.346536</td>\n",
              "    </tr>\n",
              "    <tr>\n",
              "      <th>2021-05-16</th>\n",
              "      <td>BTC</td>\n",
              "      <td>47885.625255</td>\n",
              "      <td>49926.035067</td>\n",
              "      <td>50690.802950</td>\n",
              "      <td>47005.102292</td>\n",
              "    </tr>\n",
              "    <tr>\n",
              "      <th>2021-05-17</th>\n",
              "      <td>BTC</td>\n",
              "      <td>45604.615754</td>\n",
              "      <td>46805.537852</td>\n",
              "      <td>49670.414174</td>\n",
              "      <td>43868.638969</td>\n",
              "    </tr>\n",
              "    <tr>\n",
              "      <th>2021-05-18</th>\n",
              "      <td>BTC</td>\n",
              "      <td>43144.471291</td>\n",
              "      <td>46439.336570</td>\n",
              "      <td>46622.853437</td>\n",
              "      <td>42102.346430</td>\n",
              "    </tr>\n",
              "  </tbody>\n",
              "</table>\n",
              "</div>"
            ],
            "text/plain": [
              "           Currency  Closing Price (USD)  ...  24h High (USD)  24h Low (USD)\n",
              "Date                                      ...                               \n",
              "2021-05-14      BTC         49764.132082  ...    51448.798576   46294.720180\n",
              "2021-05-15      BTC         50032.693137  ...    51578.312545   48944.346536\n",
              "2021-05-16      BTC         47885.625255  ...    50690.802950   47005.102292\n",
              "2021-05-17      BTC         45604.615754  ...    49670.414174   43868.638969\n",
              "2021-05-18      BTC         43144.471291  ...    46622.853437   42102.346430\n",
              "\n",
              "[5 rows x 5 columns]"
            ]
          },
          "metadata": {},
          "execution_count": 7
        }
      ]
    },
    {
      "cell_type": "markdown",
      "metadata": {
        "id": "JVX56RZt4y_B"
      },
      "source": [
        "We've collected the historical price of Bitcoin for the past ~8 years but there's 2787 samples.\n",
        "\n",
        "Typically deep learning models usually like lots and lots and lots of samples (where lots and lots and lots can thousands to tens of thousands to millions)\n",
        "\n",
        "A smaller number of samples is something you'll often run into with time series data problems.\n",
        "\n",
        "> **Note** : The **seasonality** of a time series dataset is referred as the number of samples per year. So for our Bitcoin data, it has a seasonality of daily or value of 365 because we collect one samples per dat meaning we'll get 365 samples per year."
      ]
    },
    {
      "cell_type": "code",
      "metadata": {
        "colab": {
          "base_uri": "https://localhost:8080/",
          "height": 235
        },
        "id": "PxlCEtuU4lHq",
        "outputId": "62833b82-7364-46a5-def8-4f80f15ff23d"
      },
      "source": [
        "# Only want closing price for each day\n",
        "bitcoin_prices = pd.DataFrame(df[\"Closing Price (USD)\"]).rename(columns={\"Closing Price (USD)\" : \"Price\"})\n",
        "bitcoin_prices.head()"
      ],
      "execution_count": 8,
      "outputs": [
        {
          "output_type": "execute_result",
          "data": {
            "text/html": [
              "<div>\n",
              "<style scoped>\n",
              "    .dataframe tbody tr th:only-of-type {\n",
              "        vertical-align: middle;\n",
              "    }\n",
              "\n",
              "    .dataframe tbody tr th {\n",
              "        vertical-align: top;\n",
              "    }\n",
              "\n",
              "    .dataframe thead th {\n",
              "        text-align: right;\n",
              "    }\n",
              "</style>\n",
              "<table border=\"1\" class=\"dataframe\">\n",
              "  <thead>\n",
              "    <tr style=\"text-align: right;\">\n",
              "      <th></th>\n",
              "      <th>Price</th>\n",
              "    </tr>\n",
              "    <tr>\n",
              "      <th>Date</th>\n",
              "      <th></th>\n",
              "    </tr>\n",
              "  </thead>\n",
              "  <tbody>\n",
              "    <tr>\n",
              "      <th>2013-10-01</th>\n",
              "      <td>123.65499</td>\n",
              "    </tr>\n",
              "    <tr>\n",
              "      <th>2013-10-02</th>\n",
              "      <td>125.45500</td>\n",
              "    </tr>\n",
              "    <tr>\n",
              "      <th>2013-10-03</th>\n",
              "      <td>108.58483</td>\n",
              "    </tr>\n",
              "    <tr>\n",
              "      <th>2013-10-04</th>\n",
              "      <td>118.67466</td>\n",
              "    </tr>\n",
              "    <tr>\n",
              "      <th>2013-10-05</th>\n",
              "      <td>121.33866</td>\n",
              "    </tr>\n",
              "  </tbody>\n",
              "</table>\n",
              "</div>"
            ],
            "text/plain": [
              "                Price\n",
              "Date                 \n",
              "2013-10-01  123.65499\n",
              "2013-10-02  125.45500\n",
              "2013-10-03  108.58483\n",
              "2013-10-04  118.67466\n",
              "2013-10-05  121.33866"
            ]
          },
          "metadata": {},
          "execution_count": 8
        }
      ]
    },
    {
      "cell_type": "code",
      "metadata": {
        "colab": {
          "base_uri": "https://localhost:8080/",
          "height": 460
        },
        "id": "ClsnM1Pc8dL5",
        "outputId": "8bb4342f-ef8d-409e-d578-d05e28cd8ae6"
      },
      "source": [
        "import matplotlib.pyplot as plt\n",
        "bitcoin_prices.plot(figsize=(10, 7))\n",
        "plt.ylabel(\"BTC Price\")\n",
        "plt.title(\"Price of Bitcoin from 1 Oct 2013 to 18 May 2021\", fontsize=16)\n",
        "plt.legend(fontsize=14);"
      ],
      "execution_count": 9,
      "outputs": [
        {
          "output_type": "display_data",
          "data": {
            "image/png": "[encoded data removed]",
            "text/plain": [
              "<Figure size 720x504 with 1 Axes>"
            ]
          },
          "metadata": {
            "needs_background": "light"
          }
        }
      ]
    },
    {
      "cell_type": "markdown",
      "metadata": {
        "id": "gHKZEYW_9yXw"
      },
      "source": [
        "## Importing time series data with Python's CSV module"
      ]
    },
    {
      "cell_type": "code",
      "metadata": {
        "id": "hy8Zr7pa5P4R"
      },
      "source": [
        "# Importing and formatting historical Bitcoin data with Python\n",
        "import csv\n",
        "from datetime import datetime\n",
        "\n",
        "timesteps = []\n",
        "btc_price = []\n",
        "with open(\"/content/BTC_USD_2013-10-01_2021-05-18-CoinDesk.csv\", \"r\") as f :\n",
        "  csv_reader = csv.reader(f, delimiter=\",\")\n",
        "  next(csv_reader) # skip first line (this gets rid of the column titles)\n",
        "  for line in csv_reader :\n",
        "    timesteps.append(datetime.strptime(line[1], \"%Y-%m-%d\")) # get the dates as dates (not string)\n",
        "    btc_price.append(float(line[2])) # Get closing price as float"
      ],
      "execution_count": 10,
      "outputs": []
    },
    {
      "cell_type": "code",
      "metadata": {
        "colab": {
          "base_uri": "https://localhost:8080/"
        },
        "id": "HdfX5d1i_A_O",
        "outputId": "25bdfcab-2bec-426b-f639-549a51d3aeae"
      },
      "source": [
        "timesteps [:10], btc_price[:10]"
      ],
      "execution_count": 11,
      "outputs": [
        {
          "output_type": "execute_result",
          "data": {
            "text/plain": [
              "([datetime.datetime(2013, 10, 1, 0, 0),\n",
              "  datetime.datetime(2013, 10, 2, 0, 0),\n",
              "  datetime.datetime(2013, 10, 3, 0, 0),\n",
              "  datetime.datetime(2013, 10, 4, 0, 0),\n",
              "  datetime.datetime(2013, 10, 5, 0, 0),\n",
              "  datetime.datetime(2013, 10, 6, 0, 0),\n",
              "  datetime.datetime(2013, 10, 7, 0, 0),\n",
              "  datetime.datetime(2013, 10, 8, 0, 0),\n",
              "  datetime.datetime(2013, 10, 9, 0, 0),\n",
              "  datetime.datetime(2013, 10, 10, 0, 0)],\n",
              " [123.65499,\n",
              "  125.455,\n",
              "  108.58483,\n",
              "  118.67466,\n",
              "  121.33866,\n",
              "  120.65533,\n",
              "  121.795,\n",
              "  123.033,\n",
              "  124.049,\n",
              "  125.96116])"
            ]
          },
          "metadata": {},
          "execution_count": 11
        }
      ]
    },
    {
      "cell_type": "code",
      "metadata": {
        "colab": {
          "base_uri": "https://localhost:8080/",
          "height": 460
        },
        "id": "Tukv4MdN_qKY",
        "outputId": "9bc89ea0-b54f-4802-8320-3172afa6d116"
      },
      "source": [
        "# Plot from CSV\n",
        "import matplotlib.pyplot as plt\n",
        "#import numpy as np\n",
        "plt.figure(figsize=(10, 7))\n",
        "plt.plot(timesteps, btc_price)\n",
        "plt.ylabel(\"BTC Price\")\n",
        "plt.title(\"Price of Bitcoin from from 1 Oct 2013 to 18 May 2021\", fontsize=16)\n",
        "plt.xlabel(\"Date\");\n",
        "#plt.legend(fontsize=14);"
      ],
      "execution_count": 12,
      "outputs": [
        {
          "output_type": "display_data",
          "data": {
            "image/png": "[encoded data removed]",
            "text/plain": [
              "<Figure size 720x504 with 1 Axes>"
            ]
          },
          "metadata": {
            "needs_background": "light"
          }
        }
      ]
    },
    {
      "cell_type": "markdown",
      "metadata": {
        "id": "SDy-iHVDASAm"
      },
      "source": [
        "## Format data part 1 : Create train and test sets of our time series data"
      ]
    },
    {
      "cell_type": "markdown",
      "metadata": {
        "id": "DOwjtktJAimn"
      },
      "source": [
        "### Creating train and test sets with time series data ( the wrong way)"
      ]
    },
    {
      "cell_type": "code",
      "metadata": {
        "colab": {
          "base_uri": "https://localhost:8080/"
        },
        "id": "jSxeZ1BWAnDv",
        "outputId": "d15376a6-d003-4e16-a781-f4f267ef657e"
      },
      "source": [
        "# Get bitcoin date array\n",
        "timesteps = bitcoin_prices.index.to_numpy()\n",
        "prices = bitcoin_prices[\"Price\"].to_numpy()\n",
        "\n",
        "timesteps[:10], prices[:10]"
      ],
      "execution_count": 13,
      "outputs": [
        {
          "output_type": "execute_result",
          "data": {
            "text/plain": [
              "(array(['2013-10-01T00:00:00.000000000', '2013-10-02T00:00:00.000000000',\n",
              "        '2013-10-03T00:00:00.000000000', '2013-10-04T00:00:00.000000000',\n",
              "        '2013-10-05T00:00:00.000000000', '2013-10-06T00:00:00.000000000',\n",
              "        '2013-10-07T00:00:00.000000000', '2013-10-08T00:00:00.000000000',\n",
              "        '2013-10-09T00:00:00.000000000', '2013-10-10T00:00:00.000000000'],\n",
              "       dtype='datetime64[ns]'),\n",
              " array([123.65499, 125.455  , 108.58483, 118.67466, 121.33866, 120.65533,\n",
              "        121.795  , 123.033  , 124.049  , 125.96116]))"
            ]
          },
          "metadata": {},
          "execution_count": 13
        }
      ]
    },
    {
      "cell_type": "code",
      "metadata": {
        "colab": {
          "base_uri": "https://localhost:8080/"
        },
        "id": "_IKBhVucBF19",
        "outputId": "ab5794d9-fe96-43d6-a8b4-d42bf726751b"
      },
      "source": [
        "# Wrong way to make train/test sets for time series data\n",
        "from sklearn.model_selection import train_test_split\n",
        "\n",
        "X_train, X_test, y_train, y_test = train_test_split(timesteps, # dates\n",
        "                                                    prices, # BTC prices\n",
        "                                                    test_size=0.2,\n",
        "                                                    random_state=42)\n",
        "\n",
        "X_train.shape, X_test.shape, y_train.shape, y_test.shape"
      ],
      "execution_count": 14,
      "outputs": [
        {
          "output_type": "execute_result",
          "data": {
            "text/plain": [
              "((2229,), (558,), (2229,), (558,))"
            ]
          },
          "metadata": {},
          "execution_count": 14
        }
      ]
    },
    {
      "cell_type": "code",
      "metadata": {
        "colab": {
          "base_uri": "https://localhost:8080/",
          "height": 442
        },
        "id": "H6eV_KkACSdS",
        "outputId": "8b38066e-8f63-4a44-fd53-d8d3e242e33b"
      },
      "source": [
        "# Let's plot wrong train and test split\n",
        "plt.figure(figsize=(10, 7))\n",
        "plt.scatter(X_train, y_train, s=5, label=\"Train data\")\n",
        "plt.scatter(X_test, y_test, s=5, label=\"Test data\")\n",
        "plt.xlabel(\"Date\")\n",
        "plt.ylabel(\"BTC Price\")\n",
        "plt.legend(fontsize=14)\n",
        "plt.show();"
      ],
      "execution_count": 15,
      "outputs": [
        {
          "output_type": "display_data",
          "data": {
            "image/png": "[encoded data removed]",
            "text/plain": [
              "<Figure size 720x504 with 1 Axes>"
            ]
          },
          "metadata": {
            "needs_background": "light"
          }
        }
      ]
    },
    {
      "cell_type": "markdown",
      "metadata": {
        "id": "-fHwyNfGC3qk"
      },
      "source": [
        "### Create train and test sets for time series (the right away)"
      ]
    },
    {
      "cell_type": "code",
      "metadata": {
        "colab": {
          "base_uri": "https://localhost:8080/"
        },
        "id": "KrpLNsHFDo_7",
        "outputId": "d8b24d44-a71f-4bc3-df78-141bcf353508"
      },
      "source": [
        "# Right way to create train/test sets for time series data\n",
        "split_size = int(0.8 * len(prices)) # 80% train, 20% test - you cna change these value as needed e.g  90/10, 95/5\n",
        "\n",
        "# Create train data splits(everything before the split)\n",
        "X_train, y_train = timesteps[ : split_size], prices[ : split_size]\n",
        "\n",
        "# Create test data splits (everything after the split)\n",
        "X_test, y_test = timesteps[split_size : ], prices[split_size : ]\n",
        "\n",
        "len(X_train), len(X_test), len(y_train), len(y_test)"
      ],
      "execution_count": 16,
      "outputs": [
        {
          "output_type": "execute_result",
          "data": {
            "text/plain": [
              "(2229, 558, 2229, 558)"
            ]
          },
          "metadata": {},
          "execution_count": 16
        }
      ]
    },
    {
      "cell_type": "code",
      "metadata": {
        "colab": {
          "base_uri": "https://localhost:8080/",
          "height": 442
        },
        "id": "IaC_9SuTFH7Q",
        "outputId": "6da30b0b-3c6d-4733-f466-f0c61b8c9a48"
      },
      "source": [
        "# Plot correctly made train and test data\n",
        "plt.figure(figsize=(10, 7))\n",
        "plt.scatter(X_train, y_train, s=5 , label=\"Train data\")\n",
        "plt.scatter(X_test, y_test, s= 5, label=\"Test data\")\n",
        "plt.xlabel(\"Date\")\n",
        "plt.ylabel(\"BTC Price\")\n",
        "plt.legend(fontsize=14)\n",
        "plt.show();"
      ],
      "execution_count": 17,
      "outputs": [
        {
          "output_type": "display_data",
          "data": {
            "image/png": "[encoded data removed]",
            "text/plain": [
              "<Figure size 720x504 with 1 Axes>"
            ]
          },
          "metadata": {
            "needs_background": "light"
          }
        }
      ]
    },
    {
      "cell_type": "markdown",
      "metadata": {
        "id": "4gHF1omSFwGO"
      },
      "source": [
        "## Creating a plotting function\n",
        "\n",
        "Typing plotting function is tedious , let's functionalize it."
      ]
    },
    {
      "cell_type": "code",
      "metadata": {
        "id": "YsRuH73kHtKs"
      },
      "source": [
        "# Create a function to plot time series data\n",
        "def plot_time_series(timesteps, values, format=\".\", start=0, end=None, label=None) :\n",
        "  \"\"\"\n",
        "  Plots timesteps ( a series of points in time) against values (a series of value across timesteps).\n",
        "  \n",
        "  Parameters\n",
        "  ----------\n",
        "  timesteps : array of timestep values\n",
        "  values : array of values across time\n",
        "  format : style of plot, default \".\"\n",
        "  start : where to start the plot (setting a value wil index from start of timestamp & values)\n",
        "  end : where to end the plot(similar to start but for the end)\n",
        "  label : label to show on plot about values, default None\n",
        "  \"\"\"\n",
        "\n",
        "  # Plot the series\n",
        "  plt.plot(timesteps[start:end], values[start:end], format, label=label)\n",
        "  plt.xlabel(\"Time\")\n",
        "  plt.ylabel(\"BTC Price\")\n",
        "  if label :\n",
        "    plt.legend(fontsize = 14) # make label bigger\n",
        "  plt.grid(True)\n",
        "\n"
      ],
      "execution_count": 18,
      "outputs": []
    },
    {
      "cell_type": "code",
      "metadata": {
        "colab": {
          "base_uri": "https://localhost:8080/",
          "height": 442
        },
        "id": "NO76SdYLKVIU",
        "outputId": "86b7be12-7685-46ec-91c6-0731b6994e45"
      },
      "source": [
        "# Test our plotting function\n",
        "plt.figure(figsize=(10, 7))\n",
        "plot_time_series(timesteps = X_train, values=y_train, label=\"Train data\")\n",
        "plot_time_series(timesteps=X_test, values=y_test, label=\"Test data\")"
      ],
      "execution_count": 19,
      "outputs": [
        {
          "output_type": "display_data",
          "data": {
            "image/png": "[encoded data removed]",
            "text/plain": [
              "<Figure size 720x504 with 1 Axes>"
            ]
          },
          "metadata": {
            "needs_background": "light"
          }
        }
      ]
    },
    {
      "cell_type": "markdown",
      "metadata": {
        "id": "p6dZxLb3UPwu"
      },
      "source": [
        "## Modelling Experiments\n",
        "\n",
        "We've got some Bitcoin historical data, to model it, let's run a series of modelling experiments and see which model performs best.\n",
        "\n",
        "Terms to be familiar with :\n",
        "* **Horizon** = number of timesteps into the future we're going to predict\n",
        "* Window size = number of timesteps we're going to use to predict **horizon**\n",
        "\n",
        "Modelling experiments we're running :-\n",
        "* 0\tNaïve model (baseline)\n",
        "* 1\tDense model,\thorizon = 1, window = 7\n",
        "* 2\tSame as 1,\thorizon = 1, window =\t30\n",
        "* 3\tSame as 1,\thorizon = 7, window =\t30\n",
        "* 4\tConv1D\n",
        "* 5\tLSTM\n",
        "* 6\tSame as 1 (but with multivariate data)\n",
        "* 7\tN-BEATs Algorithm\n",
        "* 8\tEnsemble (multiple models optimized on different loss functions)\n",
        "* 9\tFuture prediction model (model to predict future values)\n",
        "* 10\tSame as 1 (but with turkey 🦃 data introduced)"
      ]
    },
    {
      "cell_type": "markdown",
      "metadata": {
        "id": "ISWxO6xtK-PK"
      },
      "source": [
        "## Model 9 : Naive forecast(baseline)\n",
        "\n",
        "The formula looks like this :\n",
        "$$\\hat{y}_{t} = y_{t-1}$$\n",
        "\n",
        "In English :\n",
        "> The prediction at timestep t (y-hat) is equal to the value at timestamp t-1 (previous timestep) this is for a horizon of 1.\n",
        "\n",
        "References : https://otexts.com/fpp3/simple-methods.html"
      ]
    },
    {
      "cell_type": "code",
      "metadata": {
        "id": "KfqtXAVObgJl",
        "colab": {
          "base_uri": "https://localhost:8080/"
        },
        "outputId": "bcc2745d-6fb6-4879-96b6-6f21d5023d58"
      },
      "source": [
        "y_test[:10]"
      ],
      "execution_count": 20,
      "outputs": [
        {
          "output_type": "execute_result",
          "data": {
            "text/plain": [
              "array([9226.48582088, 8794.35864452, 8798.04205463, 9081.18687849,\n",
              "       8711.53433917, 8760.89271814, 8749.52059102, 8656.97092235,\n",
              "       8500.64355816, 8469.2608989 ])"
            ]
          },
          "metadata": {},
          "execution_count": 20
        }
      ]
    },
    {
      "cell_type": "code",
      "metadata": {
        "id": "UzT7HJT5Zm9I",
        "colab": {
          "base_uri": "https://localhost:8080/"
        },
        "outputId": "8b8ff684-ad28-4058-8d90-0a810220005e"
      },
      "source": [
        "# Create a naive forecast\n",
        "naive_forecast = y_test[:-1]\n",
        "\n",
        "naive_forecast[:10], naive_forecast[-10:]"
      ],
      "execution_count": 21,
      "outputs": [
        {
          "output_type": "execute_result",
          "data": {
            "text/plain": [
              "(array([9226.48582088, 8794.35864452, 8798.04205463, 9081.18687849,\n",
              "        8711.53433917, 8760.89271814, 8749.52059102, 8656.97092235,\n",
              "        8500.64355816, 8469.2608989 ]),\n",
              " array([57107.12067189, 58788.20967893, 58102.19142623, 55715.54665129,\n",
              "        56573.5554719 , 52147.82118698, 49764.1320816 , 50032.69313676,\n",
              "        47885.62525472, 45604.61575361]))"
            ]
          },
          "metadata": {},
          "execution_count": 21
        }
      ]
    },
    {
      "cell_type": "code",
      "metadata": {
        "id": "oqPIv6H8c6TN",
        "colab": {
          "base_uri": "https://localhost:8080/"
        },
        "outputId": "b174c6c5-e50f-4854-8505-5a83c3a92462"
      },
      "source": [
        "len(y_test), len(naive_forecast), y_test[-10:], naive_forecast[-10:]"
      ],
      "execution_count": 22,
      "outputs": [
        {
          "output_type": "execute_result",
          "data": {
            "text/plain": [
              "(558,\n",
              " 557,\n",
              " array([58788.20967893, 58102.19142623, 55715.54665129, 56573.5554719 ,\n",
              "        52147.82118698, 49764.1320816 , 50032.69313676, 47885.62525472,\n",
              "        45604.61575361, 43144.47129086]),\n",
              " array([57107.12067189, 58788.20967893, 58102.19142623, 55715.54665129,\n",
              "        56573.5554719 , 52147.82118698, 49764.1320816 , 50032.69313676,\n",
              "        47885.62525472, 45604.61575361]))"
            ]
          },
          "metadata": {},
          "execution_count": 22
        }
      ]
    },
    {
      "cell_type": "code",
      "metadata": {
        "id": "yxZ9aFaXhUbc",
        "colab": {
          "base_uri": "https://localhost:8080/",
          "height": 442
        },
        "outputId": "77135578-d858-4f5b-c2dd-0847dfe8faa1"
      },
      "source": [
        "plt.figure(figsize=(10, 7))\n",
        "\n",
        "#plot_time_series(timesteps=X_train, values=y_train, label=\"Train data\")\n",
        "plot_time_series(timesteps=X_test, values=y_test, start=350, format=\"-\", label=\"Test data\")\n",
        "plot_time_series(timesteps=X_test[1:], values=naive_forecast, start=350, format=\"-\", label=\"Naive Forecast\")"
      ],
      "execution_count": 23,
      "outputs": [
        {
          "output_type": "display_data",
          "data": {
            "image/png": "[encoded data removed]",
            "text/plain": [
              "<Figure size 720x504 with 1 Axes>"
            ]
          },
          "metadata": {
            "needs_background": "light"
          }
        }
      ]
    },
    {
      "cell_type": "markdown",
      "metadata": {
        "id": "QKDgsx-nfhcA"
      },
      "source": [
        "> **Exercise** : Spend 10 minutes reading the simple forecasts chapter of Forecasting: Principles in Practice. And have a search to find out the naive forecast is hard to beat, does the term auto-regressive comes up?\n",
        " https://otexts.com/fpp3/simple-methods.html"
      ]
    },
    {
      "cell_type": "markdown",
      "metadata": {
        "id": "pIM1BBhmgJJh"
      },
      "source": [
        "## Evaluating a time series model\n",
        "\n",
        "Let's look into some evaluation metrics for time series forecasting.\n",
        "\n",
        "What are we doing?\n",
        "\n",
        "We're predicting a number, so that means we have a form of a regression problem.\n",
        "\n",
        "Because we're working on a regression problem, we'll need some regression-like metrics.\n",
        "\n",
        "A few common regression metrics (which can also be used for time series forecasting) :\n",
        "* MAE - mean absolute error\n",
        "* MSE - mean squared error\n",
        "* RMSE - root mean square error\n",
        "* MAPE/sMAPE - (symmetric) mean absolute percentage error\n",
        "* MASE - mean absolute scaled error\n",
        "\n",
        "For all of the above metrics , **lower is better**, for example , an MAE of 0 that is better than an MAE of 100.\n",
        "\n",
        "The main thing we're evaluating here is : **how do our model's forecast(y_pred) compare against the actual values(y_true or ground truth values) ?**\n",
        "\n",
        "\n",
        "> **Resources** For a deeper dive on the various kinds of time series forecasting methods, see, please refer to 5.8 on the book https://otexts.com/fpp3/accuracy.html#accuracy"
      ]
    },
    {
      "cell_type": "code",
      "metadata": {
        "id": "n8fVqrQjhym7"
      },
      "source": [
        "import tensorflow as tf\n"
      ],
      "execution_count": 24,
      "outputs": []
    },
    {
      "cell_type": "code",
      "metadata": {
        "id": "kIlDYE8Glglf"
      },
      "source": [
        "# MASE implementation \n",
        "def mean_absolute_scaled_error(y_true, y_pred) :\n",
        "  \"\"\"\n",
        "  Implement MASE (assuming no seasonality of data).\n",
        "  \"\"\"\n",
        "  # For future forecast experiments, \n",
        "  #if the function mean_absolute_scaled_error returns > 1 , means its worse than Naive forecast\n",
        "  # if < 1, means its better than 1.\n",
        "  mae = tf.reduce_mean(tf.abs(y_true-y_pred))\n",
        "\n",
        "  # Find MAE of naive forecast(no seasonality)\n",
        "  mae_naive_no_season = tf.reduce_mean(tf.abs(y_true[1:] - y_true[:-1])) # our seasonlity is 1 day (hence the shift of 1)\n",
        "\n",
        "  return mae / mae_naive_no_season"
      ],
      "execution_count": 25,
      "outputs": []
    },
    {
      "cell_type": "code",
      "metadata": {
        "colab": {
          "base_uri": "https://localhost:8080/"
        },
        "id": "etrtsdW7pxSh",
        "outputId": "23cd722a-2d4a-44e7-f4a5-d0911336a031"
      },
      "source": [
        "# Evaluating our naive forecast baseline, it should return 1\n",
        "mean_absolute_scaled_error(y_true = y_test[1:],\n",
        "                           y_pred = naive_forecast).numpy()"
      ],
      "execution_count": 26,
      "outputs": [
        {
          "output_type": "execute_result",
          "data": {
            "text/plain": [
              "0.9995699939182624"
            ]
          },
          "metadata": {},
          "execution_count": 26
        }
      ]
    },
    {
      "cell_type": "markdown",
      "metadata": {
        "id": "erZXSRybqKwa"
      },
      "source": [
        "## Create Evaluation metrics"
      ]
    },
    {
      "cell_type": "code",
      "metadata": {
        "id": "1gFu0_oKqmt9"
      },
      "source": [
        "# Create a function to take in model predictions and truth value and return eveluation metrics\n",
        "\n",
        "def evaluate_preds(y_true, y_pred) :\n",
        "  \"\"\"\n",
        "  Compute all evaluation metrics\n",
        "  Returns :\n",
        "  dictionary with all evaluation metrics values\n",
        "  \"\"\"\n",
        "  # Make sure float32 datatype (for metric calculations)\n",
        "  y_true = tf.cast(y_true, dtype=tf.float32)\n",
        "  y_pred = tf.cast(y_pred, tf.float32)\n",
        "\n",
        "  # Calculate various evaluation metrics\n",
        "  mae = tf.keras.metrics.mean_absolute_error(y_true, y_pred)\n",
        "  mse = tf.keras.metrics.mean_squared_error(y_true, y_pred)\n",
        "  rmse = tf.sqrt(mse)\n",
        "  mape = tf.keras.metrics.mean_absolute_percentage_error(y_true, y_pred)\n",
        "  mase = mean_absolute_scaled_error(y_true, y_pred)\n",
        "\n",
        "  return {\n",
        "      \"mae\" : mae.numpy(),\n",
        "      \"mse\": mse.numpy(),\n",
        "      \"rmse\" : rmse.numpy(),\n",
        "      \"mape\" : mape.numpy(),\n",
        "      \"mase\": mase.numpy()}"
      ],
      "execution_count": 27,
      "outputs": []
    },
    {
      "cell_type": "markdown",
      "metadata": {
        "id": "Rc7MVA-tt7ZH"
      },
      "source": [
        "That's one good looking evaluation function !\n",
        "Let's now see if it works..."
      ]
    },
    {
      "cell_type": "code",
      "metadata": {
        "colab": {
          "base_uri": "https://localhost:8080/"
        },
        "id": "rNkbEZfOsN1y",
        "outputId": "375020ae-80f5-4a81-bf4c-4787e30d666a"
      },
      "source": [
        "# Evaluate Naive forecast (baseline)\n",
        "naive_results = evaluate_preds(y_true = y_test[1:], \n",
        "                               y_pred = naive_forecast)\n",
        "naive_results"
      ],
      "execution_count": 28,
      "outputs": [
        {
          "output_type": "execute_result",
          "data": {
            "text/plain": [
              "{'mae': 567.9802,\n",
              " 'mape': 2.516525,\n",
              " 'mase': 0.99957,\n",
              " 'mse': 1147547.0,\n",
              " 'rmse': 1071.2362}"
            ]
          },
          "metadata": {},
          "execution_count": 28
        }
      ]
    },
    {
      "cell_type": "code",
      "metadata": {
        "colab": {
          "base_uri": "https://localhost:8080/"
        },
        "id": "NORcn3X3uK4u",
        "outputId": "268e75be-061a-4941-c196-b20308a8c44f"
      },
      "source": [
        "naive_forecast[-10:]"
      ],
      "execution_count": 29,
      "outputs": [
        {
          "output_type": "execute_result",
          "data": {
            "text/plain": [
              "array([57107.12067189, 58788.20967893, 58102.19142623, 55715.54665129,\n",
              "       56573.5554719 , 52147.82118698, 49764.1320816 , 50032.69313676,\n",
              "       47885.62525472, 45604.61575361])"
            ]
          },
          "metadata": {},
          "execution_count": 29
        }
      ]
    },
    {
      "cell_type": "code",
      "metadata": {
        "colab": {
          "base_uri": "https://localhost:8080/"
        },
        "id": "q7vOeSsK1iCu",
        "outputId": "ec596ced-0192-4e5e-a6e7-e6d592465928"
      },
      "source": [
        "tf.reduce_mean(y_test)"
      ],
      "execution_count": 30,
      "outputs": [
        {
          "output_type": "execute_result",
          "data": {
            "text/plain": [
              "<tf.Tensor: shape=(), dtype=float64, numpy=20056.632963737226>"
            ]
          },
          "metadata": {},
          "execution_count": 30
        }
      ]
    },
    {
      "cell_type": "code",
      "metadata": {
        "colab": {
          "base_uri": "https://localhost:8080/"
        },
        "id": "Qm8uejEu1kxA",
        "outputId": "182ccfc1-3265-4e4b-aff3-94e52f32f785"
      },
      "source": [
        "tf.reduce_min(y_test), tf.reduce_max(y_test)"
      ],
      "execution_count": 31,
      "outputs": [
        {
          "output_type": "execute_result",
          "data": {
            "text/plain": [
              "(<tf.Tensor: shape=(), dtype=float64, numpy=4944.7023359837>,\n",
              " <tf.Tensor: shape=(), dtype=float64, numpy=63346.7890351052>)"
            ]
          },
          "metadata": {},
          "execution_count": 31
        }
      ]
    },
    {
      "cell_type": "markdown",
      "metadata": {
        "id": "uqYNePn91zSz"
      },
      "source": [
        "## Other models you can use for baselines and for actual forecasts\n",
        "\n",
        "In this notebook, we're focused on TensorFlow and deep learning models.\n",
        "However, there are plenty of time series that you could get a learning on \n",
        "\n",
        "https://dev.mrdbourke.com/tensorflow-deep-learning/10_time_series_forecasting_in_tensorflow/#Other-kinds-of-time-series-forecasting-models-which-can-be-used-for-baselines-and-actual-forecasts\n",
        "\n",
        "\n",
        "\n",
        "Check out the ones by Facebook, LinkedIn\n",
        "\n",
        "* https://github.com/facebookresearch/Kats\n",
        "* https://github.com/linkedin/greykite\n",
        "\n"
      ]
    },
    {
      "cell_type": "markdown",
      "metadata": {
        "id": "Z89JDODA8I5Z"
      },
      "source": [
        "## Format Data Part 2: Windowing our dataset\n",
        "\n",
        "Why do we window?\n",
        "We window our timeseries dataset to turn our data into a supervised learning problem.\n",
        "\n",
        "```\n",
        "Windowing for one week\n",
        "[0, 1, 2, 3, 4, 5, 6] -> [7]\n",
        "[1, 2, 3, 4, 5, 6, 7] -> [8]\n",
        "[2, 3, 4, 5, 6, 7, 8] -> [9]\n",
        "```"
      ]
    },
    {
      "cell_type": "code",
      "metadata": {
        "colab": {
          "base_uri": "https://localhost:8080/"
        },
        "id": "MZFTcYwQ83gV",
        "outputId": "cf6bf6c4-5a4c-4aac-9994-3205d83511e4"
      },
      "source": [
        "btc_price[:8]"
      ],
      "execution_count": 32,
      "outputs": [
        {
          "output_type": "execute_result",
          "data": {
            "text/plain": [
              "[123.65499,\n",
              " 125.455,\n",
              " 108.58483,\n",
              " 118.67466,\n",
              " 121.33866,\n",
              " 120.65533,\n",
              " 121.795,\n",
              " 123.033]"
            ]
          },
          "metadata": {},
          "execution_count": 32
        }
      ]
    },
    {
      "cell_type": "code",
      "metadata": {
        "colab": {
          "base_uri": "https://localhost:8080/"
        },
        "id": "5Se3vRVX8_6m",
        "outputId": "ab4e1b2c-b86c-4203-d321-173de7a68a33"
      },
      "source": [
        "# What we want to do with our Bitcoin data\n",
        "print(f\"We want to use: {btc_price[:7]} to predict this : {btc_price[7]}\")"
      ],
      "execution_count": 33,
      "outputs": [
        {
          "output_type": "stream",
          "text": [
            "We want to use: [123.65499, 125.455, 108.58483, 118.67466, 121.33866, 120.65533, 121.795] to predict this : 123.033\n"
          ],
          "name": "stdout"
        }
      ]
    },
    {
      "cell_type": "code",
      "metadata": {
        "id": "GaG_Yugx9cAY"
      },
      "source": [
        "# Let's setup global variables for window and horizon size\n",
        "\n",
        "HORIZON = 1 # predict next 1 day\n",
        "WINDOW_SIZE = 7 # use the past week of Bitcoin data to make predictions"
      ],
      "execution_count": 34,
      "outputs": []
    },
    {
      "cell_type": "code",
      "metadata": {
        "id": "eTDqZa3D9l0u"
      },
      "source": [
        "# Create function to label windowed data\n",
        "\n",
        "def get_labelled_windows(x, horizon = HORIZON) :\n",
        "  \"\"\"\n",
        "  Create labels for windowed dataset.\n",
        "   E.g. if horizon =1\n",
        "   Input: [0, 1, 2, 3, 4, 5, 6, 7] -> Output: ([0, 1, 2, 3, 4, 5, 6], [7]) \n",
        "  \"\"\"\n",
        "  return x[:, :-horizon], x[:, -horizon: ]"
      ],
      "execution_count": 35,
      "outputs": []
    },
    {
      "cell_type": "code",
      "metadata": {
        "colab": {
          "base_uri": "https://localhost:8080/"
        },
        "id": "e8I9ktQp_pGI",
        "outputId": "88cb2d50-f69f-4709-d52f-269804faa813"
      },
      "source": [
        "# Test out the window labelling function\n",
        "test_window , test_label = get_labelled_windows(tf.expand_dims(tf.range(8), axis=0))\n",
        "print(f\"Window : {tf.squeeze(test_window).numpy()} -> Label : {tf.squeeze(test_label).numpy()} \")"
      ],
      "execution_count": 36,
      "outputs": [
        {
          "output_type": "stream",
          "text": [
            "Window : [0 1 2 3 4 5 6] -> Label : 7 \n"
          ],
          "name": "stdout"
        }
      ]
    },
    {
      "cell_type": "code",
      "metadata": {
        "colab": {
          "base_uri": "https://localhost:8080/"
        },
        "id": "iERZe1UBAFNp",
        "outputId": "6674b188-f2bf-4306-be39-3f4132a2077a"
      },
      "source": [
        "tf.expand_dims(tf.range(8), axis=0)"
      ],
      "execution_count": 37,
      "outputs": [
        {
          "output_type": "execute_result",
          "data": {
            "text/plain": [
              "<tf.Tensor: shape=(1, 8), dtype=int32, numpy=array([[0, 1, 2, 3, 4, 5, 6, 7]], dtype=int32)>"
            ]
          },
          "metadata": {},
          "execution_count": 37
        }
      ]
    },
    {
      "cell_type": "markdown",
      "metadata": {
        "id": "tq_I4DZ5BMmO"
      },
      "source": [
        "\n",
        "Prepare the data using the sliding window approach.\n",
        "\n",
        "We've got a way to label our windowed data. \n",
        "However, this only works on a small scale.\n",
        "We need a way to do the above across our entire time series.\n",
        "\n",
        "We could do this with Python for loops, however, for large time series, that'd be quite low.\n",
        "\n",
        "To speed things up, we will leverage NumPy's array indexing - https://numpy.org/doc/stable/reference/arrays.indexing.html\n",
        "\n",
        "Our function will :\n",
        "1. Create a window step of specific window size (e.g. [0, 1, 2, 3, 4, 5, 6])\n",
        "2. Use NumPy indexing to create a 2D array of multiple window steps, for example :\n",
        "```\n",
        "[[0, 1, 2, 3, 4, 5, 6],\n",
        "[1, 2, 3, 4, 5, 6, 7],\n",
        "[2, 3, 4, 5, 6, 7, 8]]\n",
        "```\n",
        "3. Uses the 2D array of multiple window steps (from 2. ) to index on a target series (e.g. the historical price of Bitcoin)\n",
        "4. Use our `get_labelled_windows()` function we created above to turn the window steps into windows with a specified horizon\n",
        "\n",
        "\n",
        "> **Resources** :-\n",
        "The function here has been adapted from the following article:\n",
        "https://towardsdatascience.com/fast-and-robust-sliding-window-vectorization-with-numpy-3ad950ed62f5\n"
      ]
    },
    {
      "cell_type": "code",
      "metadata": {
        "id": "7xJDPAcqH4kt"
      },
      "source": [
        "import numpy as np\n",
        "# 1. Create function to view NumPy arrays as windows\n",
        "\n",
        "def make_windows(x, window_size=WINDOW_SIZE, horizon=HORIZON) :\n",
        "\n",
        "  \"\"\"\n",
        "  Turns a 1D array into a 2D array of sequential labelled windows of window_size with horizon size labels.\n",
        "  \"\"\"\n",
        "  # 1. Create a window of specific window_size(add the horizon on the end for labelling later)\n",
        "  window_step = np.expand_dims(np.arange(window_size + horizon), axis=0)\n",
        "\n",
        "  # 2. Create a 2D array of multiple window steps (minus 1 account for 0 indexing)\n",
        "  window_indexes = window_step + np.expand_dims(np.arange(len(x) - (window_size + horizon -1)), axis=0).T # Create 2D array of windows of size window_size\n",
        "  #print(f\"Window Indexes :\\n {window_indexes, window_indexes.shape}\")\n",
        "\n",
        "  #3 . Index on the target array (a time series ) with 2D array of multiple window steps\n",
        "  windowed_array = x[window_indexes]\n",
        "  #print(f\"Windowed_array : {windowed_array}\")\n",
        "\n",
        "  #4. Get the labelled windows\n",
        "  windows, labels = get_labelled_windows(windowed_array, horizon=horizon)\n",
        "  return windows, labels\n",
        "\n",
        "\n"
      ],
      "execution_count": 38,
      "outputs": []
    },
    {
      "cell_type": "code",
      "metadata": {
        "colab": {
          "base_uri": "https://localhost:8080/"
        },
        "id": "-pRClMlgaF-7",
        "outputId": "65cfdf96-5403-4563-ed06-0cc90d3f4abf"
      },
      "source": [
        "full_windows, full_labels = make_windows(prices, window_size=WINDOW_SIZE, horizon=HORIZON)\n",
        "len(full_windows), len(full_labels)"
      ],
      "execution_count": 39,
      "outputs": [
        {
          "output_type": "execute_result",
          "data": {
            "text/plain": [
              "(2780, 2780)"
            ]
          },
          "metadata": {},
          "execution_count": 39
        }
      ]
    },
    {
      "cell_type": "code",
      "metadata": {
        "colab": {
          "base_uri": "https://localhost:8080/"
        },
        "id": "nsijFTZZmNTF",
        "outputId": "2ea39850-78a2-44ff-d4c2-510ab604a143"
      },
      "source": [
        "# View the first 3 windows/labels\n",
        "for i in range(3) :\n",
        "  print(f\"Window: {full_windows[i]} -> Label: {full_labels[i]}\")"
      ],
      "execution_count": 40,
      "outputs": [
        {
          "output_type": "stream",
          "text": [
            "Window: [123.65499 125.455   108.58483 118.67466 121.33866 120.65533 121.795  ] -> Label: [123.033]\n",
            "Window: [125.455   108.58483 118.67466 121.33866 120.65533 121.795   123.033  ] -> Label: [124.049]\n",
            "Window: [108.58483 118.67466 121.33866 120.65533 121.795   123.033   124.049  ] -> Label: [125.96116]\n"
          ],
          "name": "stdout"
        }
      ]
    },
    {
      "cell_type": "code",
      "metadata": {
        "colab": {
          "base_uri": "https://localhost:8080/"
        },
        "id": "To1bLSzNmza_",
        "outputId": "97039d9b-c1fa-4571-cf4a-7a5a59319717"
      },
      "source": [
        "# View the last 3 windows/labels\n",
        "for i in range(3) :\n",
        "  print(f\"Window : {full_windows[i-3]} -> Label : {full_labels[i-3]}\")"
      ],
      "execution_count": 41,
      "outputs": [
        {
          "output_type": "stream",
          "text": [
            "Window : [58788.20967893 58102.19142623 55715.54665129 56573.5554719\n",
            " 52147.82118698 49764.1320816  50032.69313676] -> Label : [47885.62525472]\n",
            "Window : [58102.19142623 55715.54665129 56573.5554719  52147.82118698\n",
            " 49764.1320816  50032.69313676 47885.62525472] -> Label : [45604.61575361]\n",
            "Window : [55715.54665129 56573.5554719  52147.82118698 49764.1320816\n",
            " 50032.69313676 47885.62525472 45604.61575361] -> Label : [43144.47129086]\n"
          ],
          "name": "stdout"
        }
      ]
    },
    {
      "cell_type": "code",
      "metadata": {
        "colab": {
          "base_uri": "https://localhost:8080/"
        },
        "id": "iV0Hjw4anIc8",
        "outputId": "81f8571b-533d-4a4e-e58f-5b3a2bda0716"
      },
      "source": [
        "prices[-1]"
      ],
      "execution_count": 42,
      "outputs": [
        {
          "output_type": "execute_result",
          "data": {
            "text/plain": [
              "43144.471290860296"
            ]
          },
          "metadata": {},
          "execution_count": 42
        }
      ]
    },
    {
      "cell_type": "markdown",
      "metadata": {
        "id": "VUpgWtCQnKbo"
      },
      "source": [
        "> **Note** : There is a function which does similar to above in tf.keras.preprocessing, an extension could be to try and replicate what we've done using the pre-made function:\n",
        "https://www.tensorflow.org/api_docs/python/tf/keras/utils/timeseries_dataset_from_array"
      ]
    },
    {
      "cell_type": "markdown",
      "metadata": {
        "id": "rmDEWEPrn00v"
      },
      "source": [
        "## Turning windows into training and test sets"
      ]
    },
    {
      "cell_type": "code",
      "metadata": {
        "id": "bDZ9Jo13tM6y"
      },
      "source": [
        "# Make the train/test splits\n",
        "def make_train_test_splits(windows, labels, test_split=0.2) :\n",
        "\n",
        "  \"\"\"\n",
        "  Split matching pairs of windows and labels into train and test splits\n",
        "  \"\"\"\n",
        "  split_size = int(len(windows) * (1-test_split)) # this will default to 80% train 20% test\n",
        "  train_windows = windows[:split_size]\n",
        "  train_labels = labels[:split_size]\n",
        "  test_windows = windows[split_size:]\n",
        "  test_labels = labels[split_size:]\n",
        "\n",
        "  return train_windows, test_windows, train_labels, test_labels\n"
      ],
      "execution_count": 43,
      "outputs": []
    },
    {
      "cell_type": "code",
      "metadata": {
        "id": "aVHhrkvGuWMS"
      },
      "source": [
        "# Get train/test splits\n",
        "train_windows, test_windows, train_labels, test_labels = make_train_test_splits(full_windows, full_labels)"
      ],
      "execution_count": 44,
      "outputs": []
    },
    {
      "cell_type": "code",
      "metadata": {
        "colab": {
          "base_uri": "https://localhost:8080/"
        },
        "id": "_YDhiR_WuhHs",
        "outputId": "82b06a9e-8356-4abf-f658-76938792aabc"
      },
      "source": [
        "len(train_windows), len(test_windows), len(train_labels), len(test_labels)"
      ],
      "execution_count": 45,
      "outputs": [
        {
          "output_type": "execute_result",
          "data": {
            "text/plain": [
              "(2224, 556, 2224, 556)"
            ]
          },
          "metadata": {},
          "execution_count": 45
        }
      ]
    },
    {
      "cell_type": "code",
      "metadata": {
        "colab": {
          "base_uri": "https://localhost:8080/"
        },
        "id": "S0RS8H4rungc",
        "outputId": "68d94450-5aaf-43d9-bf95-b1661f674bd9"
      },
      "source": [
        "len(full_windows) * 0.8"
      ],
      "execution_count": 46,
      "outputs": [
        {
          "output_type": "execute_result",
          "data": {
            "text/plain": [
              "2224.0"
            ]
          },
          "metadata": {},
          "execution_count": 46
        }
      ]
    },
    {
      "cell_type": "code",
      "metadata": {
        "colab": {
          "base_uri": "https://localhost:8080/"
        },
        "id": "rgJQlfFkur5p",
        "outputId": "0cc8ba0f-ae8e-4f1d-8e0b-d51af08f0271"
      },
      "source": [
        "train_windows[:5], train_labels[:5]"
      ],
      "execution_count": 47,
      "outputs": [
        {
          "output_type": "execute_result",
          "data": {
            "text/plain": [
              "(array([[123.65499, 125.455  , 108.58483, 118.67466, 121.33866, 120.65533,\n",
              "         121.795  ],\n",
              "        [125.455  , 108.58483, 118.67466, 121.33866, 120.65533, 121.795  ,\n",
              "         123.033  ],\n",
              "        [108.58483, 118.67466, 121.33866, 120.65533, 121.795  , 123.033  ,\n",
              "         124.049  ],\n",
              "        [118.67466, 121.33866, 120.65533, 121.795  , 123.033  , 124.049  ,\n",
              "         125.96116],\n",
              "        [121.33866, 120.65533, 121.795  , 123.033  , 124.049  , 125.96116,\n",
              "         125.27966]]), array([[123.033  ],\n",
              "        [124.049  ],\n",
              "        [125.96116],\n",
              "        [125.27966],\n",
              "        [125.9275 ]]))"
            ]
          },
          "metadata": {},
          "execution_count": 47
        }
      ]
    },
    {
      "cell_type": "code",
      "metadata": {
        "colab": {
          "base_uri": "https://localhost:8080/"
        },
        "id": "DNVA2M5IuwTr",
        "outputId": "af53fd6e-0e1f-4ef0-c122-4e03b2e4041d"
      },
      "source": [
        "# Check to see if train labels are the same (before and after window split)\n",
        "np.array_equal(np.squeeze(train_labels[: -HORIZON -1]), y_train[WINDOW_SIZE:])"
      ],
      "execution_count": 48,
      "outputs": [
        {
          "output_type": "execute_result",
          "data": {
            "text/plain": [
              "True"
            ]
          },
          "metadata": {},
          "execution_count": 48
        }
      ]
    },
    {
      "cell_type": "code",
      "metadata": {
        "colab": {
          "base_uri": "https://localhost:8080/"
        },
        "id": "afaxVk2OvONV",
        "outputId": "ce645fbc-b94a-4a3b-b94c-30f5f8f227ef"
      },
      "source": [
        "np.squeeze(train_labels[:5]).shape"
      ],
      "execution_count": 49,
      "outputs": [
        {
          "output_type": "execute_result",
          "data": {
            "text/plain": [
              "(5,)"
            ]
          },
          "metadata": {},
          "execution_count": 49
        }
      ]
    },
    {
      "cell_type": "markdown",
      "metadata": {
        "id": "HLbpAnSOwXlQ"
      },
      "source": [
        "## Making a modelling checkpoint\n",
        "\n",
        "Because our model's performance will fluctuate from experiment to experiment, we're going to write a model checkpoint so we can compare apple to apples.\n",
        "\n",
        "More specifically, we want to compare each of our model's best performances against the other model's best performances.\n",
        "\n",
        "For example if our model performs the best on epoch 55 (but we're training for 100 epochs), we want to load an evaluate the model saved on epoch 55.\n",
        "\n",
        "We can create a modelling checkpoint callback using the following :-\n",
        "https://www.tensorflow.org/api_docs/python/tf/keras/callbacks/ModelCheckpoint\n",
        "\n",
        "\n"
      ]
    },
    {
      "cell_type": "code",
      "metadata": {
        "id": "bNfGsNnUw4gy"
      },
      "source": [
        "import os\n",
        "\n",
        "# Create a function to implement a ModelCheckpoint callback with a specific filename\n",
        "\n",
        "def create_model_checkpoint(model_name, save_path=\"model_experiments\") :\n",
        "  return tf.keras.callbacks.ModelCheckpoint(filepath=os.path.join(save_path, model_name),\n",
        "                                            verbose=0, # only output a limited  amout of text\n",
        "                                            monitor=\"val_loss\", # default value\n",
        "                                            save_best_only=True)"
      ],
      "execution_count": 50,
      "outputs": []
    },
    {
      "cell_type": "markdown",
      "metadata": {
        "id": "NM8jDPVGzYVD"
      },
      "source": [
        "## Model 1 : Dense model(window = 7, horizon = 1)\n",
        "\n",
        "Our first deep model is going to be a simple dense model  :\n",
        "* A single dense layer with 128 hidden units and ReLU\n",
        "* An output layer with linear activation(no activation)\n",
        "* Adam optimization and MAE loss function\n",
        "* Batch size of 128 ( previously we've used 32)\n",
        "* Run for 100 epochs \n",
        "\n",
        "\n",
        "Why these values ?\n",
        "\n",
        "I picked them out of experimentation.\n",
        "\n",
        "* **Hyperparameters** = values a machine learning practitioner(you!) can adjust themselves\n",
        "\n",
        "* **Parameters** = also called weights are values a model learn on its own\n",
        "\n",
        "** Since our dataset is smaller, we can increase the batch size and run for more epochs\n",
        "\n"
      ]
    },
    {
      "cell_type": "code",
      "metadata": {
        "colab": {
          "base_uri": "https://localhost:8080/"
        },
        "id": "2M7b1SmPzz2o",
        "outputId": "297dc2c3-4572-463f-c9d4-8379b57254a9"
      },
      "source": [
        "import tensorflow as tf\n",
        "from tensorflow.keras import layers\n",
        "\n",
        "# Set random seed for as reproducible results as possible\n",
        "tf.random.set_seed(42)\n",
        "\n",
        "# 1. Construct model\n",
        "model_1 = tf.keras.Sequential([\n",
        "        layers.Dense(128, activation=\"relu\"),\n",
        "        layers.Dense(HORIZON, activation=\"linear\")  # activation =\"linear\" same as no activation, pass thru activation layer and do nothing\n",
        "        ], name=\"model_1_dense\") # name our model so we can save it\n",
        "\n",
        "# 2. Compile\n",
        "model_1.compile(loss=\"mae\",\n",
        "                optimizer=tf.keras.optimizers.Adam(),\n",
        "                metrics=[\"mae\", \"mse\"])\n",
        "\n",
        "# 3. Fit the model\n",
        "model_1.fit(x= train_windows, \n",
        "            y = train_labels,\n",
        "            epochs=100,\n",
        "            verbose = 1,\n",
        "            batch_size = 128,\n",
        "            validation_data = (test_windows, test_labels),\n",
        "            callbacks=[create_model_checkpoint(model_name = model_1.name)])"
      ],
      "execution_count": 51,
      "outputs": [
        {
          "output_type": "stream",
          "text": [
            "Epoch 1/100\n",
            "18/18 [==============================] - 3s 11ms/step - loss: 780.3455 - mae: 780.3455 - mse: 2312725.7500 - val_loss: 2279.6528 - val_mae: 2279.6528 - val_mse: 12772731.0000\n",
            "INFO:tensorflow:Assets written to: model_experiments/model_1_dense/assets\n",
            "Epoch 2/100\n",
            "18/18 [==============================] - 0s 4ms/step - loss: 247.6756 - mae: 247.6756 - mse: 285481.1875 - val_loss: 1005.9993 - val_mae: 1005.9993 - val_mse: 3441833.2500\n",
            "INFO:tensorflow:Assets written to: model_experiments/model_1_dense/assets\n",
            "Epoch 3/100\n",
            "18/18 [==============================] - 0s 4ms/step - loss: 188.4116 - mae: 188.4116 - mse: 171891.6094 - val_loss: 923.2862 - val_mae: 923.2861 - val_mse: 2868220.7500\n",
            "INFO:tensorflow:Assets written to: model_experiments/model_1_dense/assets\n",
            "Epoch 4/100\n",
            "18/18 [==============================] - 0s 3ms/step - loss: 169.4340 - mae: 169.4340 - mse: 151700.5781 - val_loss: 900.5872 - val_mae: 900.5872 - val_mse: 2683715.5000\n",
            "INFO:tensorflow:Assets written to: model_experiments/model_1_dense/assets\n",
            "Epoch 5/100\n",
            "18/18 [==============================] - 0s 3ms/step - loss: 165.0894 - mae: 165.0894 - mse: 145490.7812 - val_loss: 895.2237 - val_mae: 895.2237 - val_mse: 2564574.5000\n",
            "INFO:tensorflow:Assets written to: model_experiments/model_1_dense/assets\n",
            "Epoch 6/100\n",
            "18/18 [==============================] - 0s 4ms/step - loss: 158.5210 - mae: 158.5210 - mse: 133817.7344 - val_loss: 855.1984 - val_mae: 855.1984 - val_mse: 2481873.2500\n",
            "INFO:tensorflow:Assets written to: model_experiments/model_1_dense/assets\n",
            "Epoch 7/100\n",
            "18/18 [==============================] - 0s 3ms/step - loss: 151.3566 - mae: 151.3566 - mse: 123446.9766 - val_loss: 840.9166 - val_mae: 840.9166 - val_mse: 2276451.5000\n",
            "INFO:tensorflow:Assets written to: model_experiments/model_1_dense/assets\n",
            "Epoch 8/100\n",
            "18/18 [==============================] - 0s 4ms/step - loss: 145.2560 - mae: 145.2560 - mse: 117694.5000 - val_loss: 803.5956 - val_mae: 803.5956 - val_mse: 2140573.5000\n",
            "INFO:tensorflow:Assets written to: model_experiments/model_1_dense/assets\n",
            "Epoch 9/100\n",
            "18/18 [==============================] - 0s 3ms/step - loss: 144.3546 - mae: 144.3546 - mse: 115269.3047 - val_loss: 799.5454 - val_mae: 799.5454 - val_mse: 2049207.7500\n",
            "INFO:tensorflow:Assets written to: model_experiments/model_1_dense/assets\n",
            "Epoch 10/100\n",
            "18/18 [==============================] - 0s 4ms/step - loss: 141.2943 - mae: 141.2943 - mse: 112394.5938 - val_loss: 763.5010 - val_mae: 763.5010 - val_mse: 1933140.7500\n",
            "INFO:tensorflow:Assets written to: model_experiments/model_1_dense/assets\n",
            "Epoch 11/100\n",
            "18/18 [==============================] - 0s 3ms/step - loss: 135.6595 - mae: 135.6595 - mse: 104118.2344 - val_loss: 771.3356 - val_mae: 771.3356 - val_mse: 1885849.7500\n",
            "Epoch 12/100\n",
            "18/18 [==============================] - 0s 3ms/step - loss: 134.1700 - mae: 134.1700 - mse: 101780.8672 - val_loss: 782.8079 - val_mae: 782.8079 - val_mse: 1881727.1250\n",
            "Epoch 13/100\n",
            "18/18 [==============================] - 0s 3ms/step - loss: 134.6015 - mae: 134.6015 - mse: 102345.2266 - val_loss: 784.4449 - val_mae: 784.4449 - val_mse: 1860996.1250\n",
            "Epoch 14/100\n",
            "18/18 [==============================] - 0s 3ms/step - loss: 130.6127 - mae: 130.6127 - mse: 96225.1328 - val_loss: 751.3234 - val_mae: 751.3233 - val_mse: 1749609.0000\n",
            "INFO:tensorflow:Assets written to: model_experiments/model_1_dense/assets\n",
            "Epoch 15/100\n",
            "18/18 [==============================] - 0s 3ms/step - loss: 128.8347 - mae: 128.8347 - mse: 94306.9922 - val_loss: 696.5756 - val_mae: 696.5756 - val_mse: 1606352.3750\n",
            "INFO:tensorflow:Assets written to: model_experiments/model_1_dense/assets\n",
            "Epoch 16/100\n",
            "18/18 [==============================] - 0s 3ms/step - loss: 124.7739 - mae: 124.7739 - mse: 90394.9375 - val_loss: 702.4698 - val_mae: 702.4698 - val_mse: 1592416.2500\n",
            "Epoch 17/100\n",
            "18/18 [==============================] - 0s 3ms/step - loss: 123.4474 - mae: 123.4474 - mse: 89247.7031 - val_loss: 704.9239 - val_mae: 704.9239 - val_mse: 1580782.7500\n",
            "Epoch 18/100\n",
            "18/18 [==============================] - 0s 3ms/step - loss: 122.2105 - mae: 122.2105 - mse: 87607.5938 - val_loss: 667.9724 - val_mae: 667.9724 - val_mse: 1498881.6250\n",
            "INFO:tensorflow:Assets written to: model_experiments/model_1_dense/assets\n",
            "Epoch 19/100\n",
            "18/18 [==============================] - 0s 3ms/step - loss: 121.7263 - mae: 121.7263 - mse: 86632.2422 - val_loss: 718.8796 - val_mae: 718.8796 - val_mse: 1589299.2500\n",
            "Epoch 20/100\n",
            "18/18 [==============================] - 0s 3ms/step - loss: 119.2420 - mae: 119.2420 - mse: 84334.3203 - val_loss: 657.0666 - val_mae: 657.0666 - val_mse: 1447501.1250\n",
            "INFO:tensorflow:Assets written to: model_experiments/model_1_dense/assets\n",
            "Epoch 21/100\n",
            "18/18 [==============================] - 0s 3ms/step - loss: 121.2275 - mae: 121.2275 - mse: 85743.3828 - val_loss: 637.0332 - val_mae: 637.0332 - val_mse: 1401774.1250\n",
            "INFO:tensorflow:Assets written to: model_experiments/model_1_dense/assets\n",
            "Epoch 22/100\n",
            "18/18 [==============================] - 0s 3ms/step - loss: 119.9544 - mae: 119.9544 - mse: 84050.1094 - val_loss: 671.2487 - val_mae: 671.2487 - val_mse: 1447895.6250\n",
            "Epoch 23/100\n",
            "18/18 [==============================] - 0s 3ms/step - loss: 121.9248 - mae: 121.9248 - mse: 83746.1250 - val_loss: 633.3591 - val_mae: 633.3591 - val_mse: 1367377.8750\n",
            "INFO:tensorflow:Assets written to: model_experiments/model_1_dense/assets\n",
            "Epoch 24/100\n",
            "18/18 [==============================] - 0s 4ms/step - loss: 116.3665 - mae: 116.3665 - mse: 81446.6562 - val_loss: 624.4852 - val_mae: 624.4852 - val_mse: 1348960.7500\n",
            "INFO:tensorflow:Assets written to: model_experiments/model_1_dense/assets\n",
            "Epoch 25/100\n",
            "18/18 [==============================] - 0s 3ms/step - loss: 114.6816 - mae: 114.6816 - mse: 78912.8359 - val_loss: 619.7570 - val_mae: 619.7570 - val_mse: 1351089.7500\n",
            "INFO:tensorflow:Assets written to: model_experiments/model_1_dense/assets\n",
            "Epoch 26/100\n",
            "18/18 [==============================] - 0s 4ms/step - loss: 116.4455 - mae: 116.4455 - mse: 79365.5938 - val_loss: 615.6364 - val_mae: 615.6364 - val_mse: 1321514.3750\n",
            "INFO:tensorflow:Assets written to: model_experiments/model_1_dense/assets\n",
            "Epoch 27/100\n",
            "18/18 [==============================] - 0s 4ms/step - loss: 116.5868 - mae: 116.5868 - mse: 78672.9062 - val_loss: 615.9629 - val_mae: 615.9629 - val_mse: 1313077.6250\n",
            "Epoch 28/100\n",
            "18/18 [==============================] - 0s 3ms/step - loss: 113.4691 - mae: 113.4691 - mse: 77440.1016 - val_loss: 608.0921 - val_mae: 608.0921 - val_mse: 1309775.3750\n",
            "INFO:tensorflow:Assets written to: model_experiments/model_1_dense/assets\n",
            "Epoch 29/100\n",
            "18/18 [==============================] - 0s 3ms/step - loss: 113.7598 - mae: 113.7598 - mse: 78506.9531 - val_loss: 621.9305 - val_mae: 621.9305 - val_mse: 1313324.6250\n",
            "Epoch 30/100\n",
            "18/18 [==============================] - 0s 3ms/step - loss: 116.8613 - mae: 116.8613 - mse: 79236.4609 - val_loss: 604.4056 - val_mae: 604.4056 - val_mse: 1283407.8750\n",
            "INFO:tensorflow:Assets written to: model_experiments/model_1_dense/assets\n",
            "Epoch 31/100\n",
            "18/18 [==============================] - 0s 4ms/step - loss: 111.9375 - mae: 111.9375 - mse: 74849.0703 - val_loss: 609.3882 - val_mae: 609.3882 - val_mse: 1284506.2500\n",
            "Epoch 32/100\n",
            "18/18 [==============================] - 0s 3ms/step - loss: 112.4175 - mae: 112.4175 - mse: 77178.5859 - val_loss: 603.0588 - val_mae: 603.0588 - val_mse: 1273059.5000\n",
            "INFO:tensorflow:Assets written to: model_experiments/model_1_dense/assets\n",
            "Epoch 33/100\n",
            "18/18 [==============================] - 0s 3ms/step - loss: 112.6697 - mae: 112.6697 - mse: 75787.9766 - val_loss: 645.6973 - val_mae: 645.6973 - val_mse: 1353255.7500\n",
            "Epoch 34/100\n",
            "18/18 [==============================] - 0s 3ms/step - loss: 111.9867 - mae: 111.9867 - mse: 77245.7266 - val_loss: 604.7634 - val_mae: 604.7634 - val_mse: 1289360.3750\n",
            "Epoch 35/100\n",
            "18/18 [==============================] - 0s 4ms/step - loss: 110.9451 - mae: 110.9451 - mse: 75301.7812 - val_loss: 593.4648 - val_mae: 593.4648 - val_mse: 1250491.3750\n",
            "INFO:tensorflow:Assets written to: model_experiments/model_1_dense/assets\n",
            "Epoch 36/100\n",
            "18/18 [==============================] - 0s 3ms/step - loss: 114.4816 - mae: 114.4816 - mse: 76138.5391 - val_loss: 608.0074 - val_mae: 608.0074 - val_mse: 1269272.3750\n",
            "Epoch 37/100\n",
            "18/18 [==============================] - 0s 3ms/step - loss: 110.2016 - mae: 110.2016 - mse: 74635.3047 - val_loss: 597.2308 - val_mae: 597.2308 - val_mse: 1248474.0000\n",
            "Epoch 38/100\n",
            "18/18 [==============================] - 0s 3ms/step - loss: 112.2372 - mae: 112.2372 - mse: 75821.6953 - val_loss: 637.9798 - val_mae: 637.9798 - val_mse: 1366130.8750\n",
            "Epoch 39/100\n",
            "18/18 [==============================] - 0s 4ms/step - loss: 115.1289 - mae: 115.1289 - mse: 76339.6797 - val_loss: 587.4680 - val_mae: 587.4680 - val_mse: 1233512.3750\n",
            "INFO:tensorflow:Assets written to: model_experiments/model_1_dense/assets\n",
            "Epoch 40/100\n",
            "18/18 [==============================] - 0s 3ms/step - loss: 110.0854 - mae: 110.0854 - mse: 73528.4766 - val_loss: 592.7117 - val_mae: 592.7117 - val_mse: 1251474.6250\n",
            "Epoch 41/100\n",
            "18/18 [==============================] - 0s 3ms/step - loss: 110.6344 - mae: 110.6344 - mse: 73528.7891 - val_loss: 593.8997 - val_mae: 593.8997 - val_mse: 1253678.5000\n",
            "Epoch 42/100\n",
            "18/18 [==============================] - 0s 3ms/step - loss: 113.5762 - mae: 113.5762 - mse: 77076.7031 - val_loss: 636.3674 - val_mae: 636.3674 - val_mse: 1317283.5000\n",
            "Epoch 43/100\n",
            "18/18 [==============================] - 0s 4ms/step - loss: 116.2285 - mae: 116.2285 - mse: 74712.2031 - val_loss: 662.9263 - val_mae: 662.9263 - val_mse: 1419201.7500\n",
            "Epoch 44/100\n",
            "18/18 [==============================] - 0s 3ms/step - loss: 120.0192 - mae: 120.0192 - mse: 80971.8750 - val_loss: 635.6360 - val_mae: 635.6360 - val_mse: 1345999.3750\n",
            "Epoch 45/100\n",
            "18/18 [==============================] - 0s 3ms/step - loss: 110.9675 - mae: 110.9675 - mse: 74941.2891 - val_loss: 601.9926 - val_mae: 601.9926 - val_mse: 1244816.7500\n",
            "Epoch 46/100\n",
            "18/18 [==============================] - 0s 3ms/step - loss: 111.6012 - mae: 111.6012 - mse: 74565.6016 - val_loss: 593.3531 - val_mae: 593.3531 - val_mse: 1248764.3750\n",
            "Epoch 47/100\n",
            "18/18 [==============================] - 0s 3ms/step - loss: 109.6161 - mae: 109.6161 - mse: 74190.7109 - val_loss: 637.0011 - val_mae: 637.0011 - val_mse: 1314970.2500\n",
            "Epoch 48/100\n",
            "18/18 [==============================] - 0s 3ms/step - loss: 109.1368 - mae: 109.1368 - mse: 72792.5547 - val_loss: 598.4197 - val_mae: 598.4197 - val_mse: 1234610.1250\n",
            "Epoch 49/100\n",
            "18/18 [==============================] - 0s 3ms/step - loss: 112.4355 - mae: 112.4355 - mse: 73980.3359 - val_loss: 579.7042 - val_mae: 579.7042 - val_mse: 1208301.8750\n",
            "INFO:tensorflow:Assets written to: model_experiments/model_1_dense/assets\n",
            "Epoch 50/100\n",
            "18/18 [==============================] - 0s 3ms/step - loss: 110.2108 - mae: 110.2108 - mse: 72939.7109 - val_loss: 639.2327 - val_mae: 639.2327 - val_mse: 1347994.1250\n",
            "Epoch 51/100\n",
            "18/18 [==============================] - 0s 3ms/step - loss: 111.0958 - mae: 111.0958 - mse: 73281.9062 - val_loss: 597.3571 - val_mae: 597.3571 - val_mse: 1229791.1250\n",
            "Epoch 52/100\n",
            "18/18 [==============================] - 0s 3ms/step - loss: 110.7351 - mae: 110.7351 - mse: 74529.6328 - val_loss: 580.7227 - val_mae: 580.7227 - val_mse: 1215477.1250\n",
            "Epoch 53/100\n",
            "18/18 [==============================] - 0s 4ms/step - loss: 111.1785 - mae: 111.1785 - mse: 74149.4766 - val_loss: 648.3586 - val_mae: 648.3586 - val_mse: 1336951.1250\n",
            "Epoch 54/100\n",
            "18/18 [==============================] - 0s 3ms/step - loss: 114.0831 - mae: 114.0831 - mse: 74815.0781 - val_loss: 593.2006 - val_mae: 593.2006 - val_mse: 1220661.2500\n",
            "Epoch 55/100\n",
            "18/18 [==============================] - 0s 3ms/step - loss: 110.4910 - mae: 110.4910 - mse: 74711.2500 - val_loss: 579.5067 - val_mae: 579.5067 - val_mse: 1211580.3750\n",
            "INFO:tensorflow:Assets written to: model_experiments/model_1_dense/assets\n",
            "Epoch 56/100\n",
            "18/18 [==============================] - 0s 4ms/step - loss: 108.0488 - mae: 108.0488 - mse: 71844.1562 - val_loss: 807.3853 - val_mae: 807.3853 - val_mse: 1859292.5000\n",
            "Epoch 57/100\n",
            "18/18 [==============================] - 0s 3ms/step - loss: 125.0614 - mae: 125.0614 - mse: 84025.2812 - val_loss: 674.1658 - val_mae: 674.1658 - val_mse: 1437686.8750\n",
            "Epoch 58/100\n",
            "18/18 [==============================] - 0s 3ms/step - loss: 115.4340 - mae: 115.4340 - mse: 73710.7422 - val_loss: 582.2698 - val_mae: 582.2698 - val_mse: 1202679.5000\n",
            "Epoch 59/100\n",
            "18/18 [==============================] - 0s 4ms/step - loss: 110.0881 - mae: 110.0881 - mse: 72845.1172 - val_loss: 606.7640 - val_mae: 606.7640 - val_mse: 1267544.0000\n",
            "Epoch 60/100\n",
            "18/18 [==============================] - 0s 4ms/step - loss: 108.7156 - mae: 108.7156 - mse: 72675.7734 - val_loss: 602.3099 - val_mae: 602.3099 - val_mse: 1234690.0000\n",
            "Epoch 61/100\n",
            "18/18 [==============================] - 0s 3ms/step - loss: 108.1525 - mae: 108.1525 - mse: 72252.1250 - val_loss: 573.9990 - val_mae: 573.9990 - val_mse: 1189583.5000\n",
            "INFO:tensorflow:Assets written to: model_experiments/model_1_dense/assets\n",
            "Epoch 62/100\n",
            "18/18 [==============================] - 0s 4ms/step - loss: 107.3726 - mae: 107.3726 - mse: 70822.7891 - val_loss: 581.7015 - val_mae: 581.7015 - val_mse: 1214006.6250\n",
            "Epoch 63/100\n",
            "18/18 [==============================] - 0s 3ms/step - loss: 110.7667 - mae: 110.7667 - mse: 73178.4453 - val_loss: 637.5243 - val_mae: 637.5243 - val_mse: 1311201.6250\n",
            "Epoch 64/100\n",
            "18/18 [==============================] - 0s 4ms/step - loss: 110.1539 - mae: 110.1539 - mse: 72588.2188 - val_loss: 586.6598 - val_mae: 586.6598 - val_mse: 1207116.3750\n",
            "Epoch 65/100\n",
            "18/18 [==============================] - 0s 3ms/step - loss: 108.2325 - mae: 108.2325 - mse: 71962.0859 - val_loss: 573.5618 - val_mae: 573.5618 - val_mse: 1188986.2500\n",
            "INFO:tensorflow:Assets written to: model_experiments/model_1_dense/assets\n",
            "Epoch 66/100\n",
            "18/18 [==============================] - 0s 3ms/step - loss: 108.6825 - mae: 108.6825 - mse: 71026.3516 - val_loss: 572.2206 - val_mae: 572.2206 - val_mse: 1187818.3750\n",
            "INFO:tensorflow:Assets written to: model_experiments/model_1_dense/assets\n",
            "Epoch 67/100\n",
            "18/18 [==============================] - 0s 4ms/step - loss: 106.6371 - mae: 106.6371 - mse: 70166.2578 - val_loss: 646.6359 - val_mae: 646.6359 - val_mse: 1356393.0000\n",
            "Epoch 68/100\n",
            "18/18 [==============================] - 0s 3ms/step - loss: 114.1603 - mae: 114.1603 - mse: 71297.3203 - val_loss: 681.8572 - val_mae: 681.8572 - val_mse: 1455430.5000\n",
            "Epoch 69/100\n",
            "18/18 [==============================] - 0s 4ms/step - loss: 124.5514 - mae: 124.5514 - mse: 81238.9609 - val_loss: 655.9892 - val_mae: 655.9892 - val_mse: 1383324.6250\n",
            "Epoch 70/100\n",
            "18/18 [==============================] - 0s 3ms/step - loss: 125.0234 - mae: 125.0234 - mse: 83058.2109 - val_loss: 601.0039 - val_mae: 601.0039 - val_mse: 1256963.6250\n",
            "Epoch 71/100\n",
            "18/18 [==============================] - 0s 3ms/step - loss: 110.3652 - mae: 110.3652 - mse: 71691.4922 - val_loss: 595.3957 - val_mae: 595.3957 - val_mse: 1222771.6250\n",
            "Epoch 72/100\n",
            "18/18 [==============================] - 0s 3ms/step - loss: 107.9285 - mae: 107.9285 - mse: 71745.5312 - val_loss: 573.7084 - val_mae: 573.7084 - val_mse: 1192818.5000\n",
            "Epoch 73/100\n",
            "18/18 [==============================] - 0s 4ms/step - loss: 109.5085 - mae: 109.5085 - mse: 71691.1484 - val_loss: 580.4183 - val_mae: 580.4183 - val_mse: 1211317.6250\n",
            "Epoch 74/100\n",
            "18/18 [==============================] - 0s 3ms/step - loss: 108.7380 - mae: 108.7380 - mse: 72051.1094 - val_loss: 576.1216 - val_mae: 576.1216 - val_mse: 1199670.7500\n",
            "Epoch 75/100\n",
            "18/18 [==============================] - 0s 3ms/step - loss: 107.9404 - mae: 107.9404 - mse: 71043.1328 - val_loss: 591.1470 - val_mae: 591.1470 - val_mse: 1211107.6250\n",
            "Epoch 76/100\n",
            "18/18 [==============================] - 0s 3ms/step - loss: 109.4232 - mae: 109.4232 - mse: 72295.0312 - val_loss: 597.8611 - val_mae: 597.8611 - val_mse: 1243936.2500\n",
            "Epoch 77/100\n",
            "18/18 [==============================] - 0s 3ms/step - loss: 107.5879 - mae: 107.5879 - mse: 70333.8359 - val_loss: 571.9301 - val_mae: 571.9301 - val_mse: 1186830.0000\n",
            "INFO:tensorflow:Assets written to: model_experiments/model_1_dense/assets\n",
            "Epoch 78/100\n",
            "18/18 [==============================] - 0s 3ms/step - loss: 108.1598 - mae: 108.1598 - mse: 70200.0781 - val_loss: 575.2387 - val_mae: 575.2387 - val_mse: 1195318.0000\n",
            "Epoch 79/100\n",
            "18/18 [==============================] - 0s 4ms/step - loss: 107.9175 - mae: 107.9175 - mse: 72451.5859 - val_loss: 617.3083 - val_mae: 617.3083 - val_mse: 1285512.3750\n",
            "Epoch 80/100\n",
            "18/18 [==============================] - 0s 4ms/step - loss: 108.9510 - mae: 108.9510 - mse: 72158.7812 - val_loss: 583.4841 - val_mae: 583.4841 - val_mse: 1194356.7500\n",
            "Epoch 81/100\n",
            "18/18 [==============================] - 0s 3ms/step - loss: 106.0505 - mae: 106.0505 - mse: 69690.9219 - val_loss: 570.0803 - val_mae: 570.0803 - val_mse: 1177237.8750\n",
            "INFO:tensorflow:Assets written to: model_experiments/model_1_dense/assets\n",
            "Epoch 82/100\n",
            "18/18 [==============================] - 0s 3ms/step - loss: 115.6827 - mae: 115.6827 - mse: 76903.4922 - val_loss: 575.7388 - val_mae: 575.7388 - val_mse: 1194662.6250\n",
            "Epoch 83/100\n",
            "18/18 [==============================] - 0s 3ms/step - loss: 110.9379 - mae: 110.9379 - mse: 72968.3047 - val_loss: 659.6579 - val_mae: 659.6579 - val_mse: 1388829.8750\n",
            "Epoch 84/100\n",
            "18/18 [==============================] - 0s 4ms/step - loss: 111.4836 - mae: 111.4836 - mse: 73017.9453 - val_loss: 570.1957 - val_mae: 570.1957 - val_mse: 1177492.2500\n",
            "Epoch 85/100\n",
            "18/18 [==============================] - 0s 3ms/step - loss: 107.5949 - mae: 107.5949 - mse: 70728.2266 - val_loss: 601.5939 - val_mae: 601.5939 - val_mse: 1228450.7500\n",
            "Epoch 86/100\n",
            "18/18 [==============================] - 0s 4ms/step - loss: 108.9425 - mae: 108.9425 - mse: 70066.7344 - val_loss: 592.8101 - val_mae: 592.8101 - val_mse: 1209680.7500\n",
            "Epoch 87/100\n",
            "18/18 [==============================] - 0s 3ms/step - loss: 105.7717 - mae: 105.7717 - mse: 68382.3516 - val_loss: 603.6174 - val_mae: 603.6174 - val_mse: 1252409.5000\n",
            "Epoch 88/100\n",
            "18/18 [==============================] - 0s 3ms/step - loss: 107.9217 - mae: 107.9217 - mse: 71668.0469 - val_loss: 569.0500 - val_mae: 569.0500 - val_mse: 1174588.3750\n",
            "INFO:tensorflow:Assets written to: model_experiments/model_1_dense/assets\n",
            "Epoch 89/100\n",
            "18/18 [==============================] - 0s 3ms/step - loss: 106.0344 - mae: 106.0344 - mse: 68979.1484 - val_loss: 568.9510 - val_mae: 568.9510 - val_mse: 1171743.5000\n",
            "INFO:tensorflow:Assets written to: model_experiments/model_1_dense/assets\n",
            "Epoch 90/100\n",
            "18/18 [==============================] - 0s 4ms/step - loss: 105.4977 - mae: 105.4977 - mse: 67516.5000 - val_loss: 581.7678 - val_mae: 581.7678 - val_mse: 1190160.5000\n",
            "Epoch 91/100\n",
            "18/18 [==============================] - 0s 4ms/step - loss: 108.8468 - mae: 108.8468 - mse: 71112.3281 - val_loss: 573.6025 - val_mae: 573.6025 - val_mse: 1185216.0000\n",
            "Epoch 92/100\n",
            "18/18 [==============================] - 0s 3ms/step - loss: 110.8884 - mae: 110.8884 - mse: 73287.8125 - val_loss: 576.8243 - val_mae: 576.8243 - val_mse: 1181628.3750\n",
            "Epoch 93/100\n",
            "18/18 [==============================] - 0s 3ms/step - loss: 113.8781 - mae: 113.8781 - mse: 75236.4375 - val_loss: 608.3022 - val_mae: 608.3022 - val_mse: 1264206.1250\n",
            "Epoch 94/100\n",
            "18/18 [==============================] - 0s 3ms/step - loss: 110.5763 - mae: 110.5763 - mse: 72590.8672 - val_loss: 601.6042 - val_mae: 601.6042 - val_mse: 1229105.1250\n",
            "Epoch 95/100\n",
            "18/18 [==============================] - 0s 3ms/step - loss: 106.5906 - mae: 106.5906 - mse: 68612.3281 - val_loss: 570.3651 - val_mae: 570.3651 - val_mse: 1175759.6250\n",
            "Epoch 96/100\n",
            "18/18 [==============================] - 0s 3ms/step - loss: 116.9515 - mae: 116.9515 - mse: 75082.1172 - val_loss: 615.2584 - val_mae: 615.2584 - val_mse: 1277124.3750\n",
            "Epoch 97/100\n",
            "18/18 [==============================] - 0s 3ms/step - loss: 108.0739 - mae: 108.0739 - mse: 71321.4219 - val_loss: 580.3076 - val_mae: 580.3076 - val_mse: 1202622.3750\n",
            "Epoch 98/100\n",
            "18/18 [==============================] - 0s 3ms/step - loss: 108.7102 - mae: 108.7102 - mse: 70248.0625 - val_loss: 586.6510 - val_mae: 586.6510 - val_mse: 1200831.2500\n",
            "Epoch 99/100\n",
            "18/18 [==============================] - 0s 3ms/step - loss: 109.0488 - mae: 109.0488 - mse: 70913.1562 - val_loss: 570.0628 - val_mae: 570.0628 - val_mse: 1177064.5000\n",
            "Epoch 100/100\n",
            "18/18 [==============================] - 0s 5ms/step - loss: 106.1845 - mae: 106.1845 - mse: 68681.7344 - val_loss: 585.9758 - val_mae: 585.9758 - val_mse: 1197802.1250\n"
          ],
          "name": "stdout"
        },
        {
          "output_type": "execute_result",
          "data": {
            "text/plain": [
              "<keras.callbacks.History at 0x7f8f2507aa50>"
            ]
          },
          "metadata": {},
          "execution_count": 51
        }
      ]
    },
    {
      "cell_type": "code",
      "metadata": {
        "colab": {
          "base_uri": "https://localhost:8080/"
        },
        "id": "Gbo00ws83XvL",
        "outputId": "e205c15e-cfcd-401c-c4a9-bacefb6e57f9"
      },
      "source": [
        "# Evaluate model on test data\n",
        "model_1.evaluate(test_windows, test_labels)"
      ],
      "execution_count": 52,
      "outputs": [
        {
          "output_type": "stream",
          "text": [
            "18/18 [==============================] - 0s 2ms/step - loss: 585.9758 - mae: 585.9758 - mse: 1197802.1250\n"
          ],
          "name": "stdout"
        },
        {
          "output_type": "execute_result",
          "data": {
            "text/plain": [
              "[585.9757690429688, 585.9757690429688, 1197802.125]"
            ]
          },
          "metadata": {},
          "execution_count": 52
        }
      ]
    },
    {
      "cell_type": "code",
      "metadata": {
        "colab": {
          "base_uri": "https://localhost:8080/"
        },
        "id": "J78iEfZs4tgX",
        "outputId": "23ca5ea2-a08f-47d6-e33a-e3526b2f70a5"
      },
      "source": [
        "# load in saved best performig model_1 and evaluate it on test data\n",
        "model_1 = tf.keras.models.load_model(\"model_experiments/model_1_dense/\")\n",
        "model_1.evaluate(test_windows, test_labels)"
      ],
      "execution_count": 53,
      "outputs": [
        {
          "output_type": "stream",
          "text": [
            "18/18 [==============================] - 0s 2ms/step - loss: 568.9510 - mae: 568.9510 - mse: 1171743.6250\n"
          ],
          "name": "stdout"
        },
        {
          "output_type": "execute_result",
          "data": {
            "text/plain": [
              "[568.9510498046875, 568.9510498046875, 1171743.625]"
            ]
          },
          "metadata": {},
          "execution_count": 53
        }
      ]
    },
    {
      "cell_type": "markdown",
      "metadata": {
        "id": "M-wZe5GimXMF"
      },
      "source": [
        "## Making forecast with a model (on the test dataset)\n",
        "\n",
        "\n",
        "To make \"forecasts\" on the test dataset (note : these won't be actual forecasts, they're only pseudo forecast because actual forecasts are into the future). Let's write a function to :\n",
        "1. Take in a train mdoel\n",
        "2. Takes in some input data(same kind of data the model was trained on)\n",
        "3. Passes the input data to the model's `predict()` method.\n",
        "4. Returns the predictions"
      ]
    },
    {
      "cell_type": "code",
      "metadata": {
        "id": "9HVndUvCnoPI"
      },
      "source": [
        "def make_preds(model, input_data) :\n",
        "  \"\"\"\n",
        "  Uses model to make predictions input_data\n",
        "  \"\"\"\n",
        "  forecast = model.predict(input_data)\n",
        "  return tf.squeeze(forecast) # return 1D array of predictions"
      ],
      "execution_count": 54,
      "outputs": []
    },
    {
      "cell_type": "code",
      "metadata": {
        "colab": {
          "base_uri": "https://localhost:8080/"
        },
        "id": "qz2QpIGgn-_N",
        "outputId": "150780ab-ac64-467b-e360-d96ae47804e5"
      },
      "source": [
        "# Make predictions using model_1 on the test dataset and view_results\n",
        "model_1_preds = make_preds(model_1, test_windows)\n",
        "len(model_1_preds), model_1_preds[:10]"
      ],
      "execution_count": 55,
      "outputs": [
        {
          "output_type": "execute_result",
          "data": {
            "text/plain": [
              "(556, <tf.Tensor: shape=(10,), dtype=float32, numpy=\n",
              " array([8861.71 , 8769.887, 9015.711, 8795.519, 8723.811, 8730.111,\n",
              "        8691.952, 8502.054, 8460.961, 8516.548], dtype=float32)>)"
            ]
          },
          "metadata": {},
          "execution_count": 55
        }
      ]
    },
    {
      "cell_type": "code",
      "metadata": {
        "colab": {
          "base_uri": "https://localhost:8080/"
        },
        "id": "VpysKrHzqojS",
        "outputId": "9b089eef-691a-4db6-c468-54c078ae3671"
      },
      "source": [
        "test_labels.shape, model_1_preds.shape"
      ],
      "execution_count": 56,
      "outputs": [
        {
          "output_type": "execute_result",
          "data": {
            "text/plain": [
              "((556, 1), TensorShape([556]))"
            ]
          },
          "metadata": {},
          "execution_count": 56
        }
      ]
    },
    {
      "cell_type": "code",
      "metadata": {
        "colab": {
          "base_uri": "https://localhost:8080/"
        },
        "id": "unipDm-Zp7mI",
        "outputId": "6ef3419f-3c87-48df-d228-64cc38501156"
      },
      "source": [
        "# Evaluate preds\n",
        "\n",
        "model_1_results = evaluate_preds(y_true = tf.squeeze(test_labels),\n",
        "                                 y_pred = model_1_preds)\n",
        "model_1_results"
      ],
      "execution_count": 57,
      "outputs": [
        {
          "output_type": "execute_result",
          "data": {
            "text/plain": [
              "{'mae': 568.9511,\n",
              " 'mape': 2.5448983,\n",
              " 'mase': 0.99948955,\n",
              " 'mse': 1171743.8,\n",
              " 'rmse': 1082.4712}"
            ]
          },
          "metadata": {},
          "execution_count": 57
        }
      ]
    },
    {
      "cell_type": "code",
      "metadata": {
        "colab": {
          "base_uri": "https://localhost:8080/"
        },
        "id": "d7Fm_k8sqcii",
        "outputId": "22e316fb-246f-4682-ea40-62fc5eb5b4e2"
      },
      "source": [
        "naive_results"
      ],
      "execution_count": 58,
      "outputs": [
        {
          "output_type": "execute_result",
          "data": {
            "text/plain": [
              "{'mae': 567.9802,\n",
              " 'mape': 2.516525,\n",
              " 'mase': 0.99957,\n",
              " 'mse': 1147547.0,\n",
              " 'rmse': 1071.2362}"
            ]
          },
          "metadata": {},
          "execution_count": 58
        }
      ]
    },
    {
      "cell_type": "code",
      "metadata": {
        "colab": {
          "base_uri": "https://localhost:8080/",
          "height": 446
        },
        "id": "Krhf0PWhrPSe",
        "outputId": "97535782-7310-49aa-e799-bbf8d2bc0287"
      },
      "source": [
        "# Let's plot our model 1 predictions\n",
        "offset = 450\n",
        "plt.figure(figsize=(10, 7))\n",
        "\n",
        "# Account for the test_window offset and index into test_labels to ensure correct plotting\n",
        "plot_time_series(timesteps=X_test[-len(test_windows) :], \n",
        "                 values = test_labels[:, 0],\n",
        "                 start = offset, \n",
        "                 label=\"Test Data\")\n",
        "\n",
        "plot_time_series(timesteps = X_test[-len(test_windows) :],\n",
        "                 values = model_1_preds,\n",
        "                 start = offset,\n",
        "                 format = \"-\",\n",
        "                 label = \"model_1_preds\")"
      ],
      "execution_count": 59,
      "outputs": [
        {
          "output_type": "display_data",
          "data": {
            "image/png": "[encoded data removed]",
            "text/plain": [
              "<Figure size 720x504 with 1 Axes>"
            ]
          },
          "metadata": {
            "needs_background": "light"
          }
        }
      ]
    },
    {
      "cell_type": "markdown",
      "metadata": {
        "id": "BzAuF3JewUp_"
      },
      "source": [
        "> **Resources** : To understand a bit more about the lagging predictions for the above model predictions, please refer to the resources on topic \"Autocorrelation\"\n",
        "https://otexts.com/fpp3/acf.html"
      ]
    },
    {
      "cell_type": "markdown",
      "metadata": {
        "id": "b6KPLYq9u0J0"
      },
      "source": [
        "## Model 2 : Window size = 30, horizon = 1"
      ]
    },
    {
      "cell_type": "code",
      "metadata": {
        "id": "jWkNnCcYvFUg"
      },
      "source": [
        "# Create train and test data for window size 30\n",
        "WINDOW_SIZE = 30 # use 30 timestamps in past\n",
        "HORIZON = 1 # predict one step at a time (one day of Bitcoin prices)\n"
      ],
      "execution_count": 60,
      "outputs": []
    },
    {
      "cell_type": "code",
      "metadata": {
        "colab": {
          "base_uri": "https://localhost:8080/"
        },
        "id": "Dxc3wowcxSqE",
        "outputId": "5a57ed69-6533-4b8a-f2c3-62da4cd26155"
      },
      "source": [
        "# Make windows data with appropriate horizon and window sizes\n",
        "full_windows, full_labels = make_windows(prices, window_size=WINDOW_SIZE, horizon=HORIZON)\n",
        "len(full_windows), len(full_labels)"
      ],
      "execution_count": 61,
      "outputs": [
        {
          "output_type": "execute_result",
          "data": {
            "text/plain": [
              "(2757, 2757)"
            ]
          },
          "metadata": {},
          "execution_count": 61
        }
      ]
    },
    {
      "cell_type": "code",
      "metadata": {
        "colab": {
          "base_uri": "https://localhost:8080/"
        },
        "id": "Vdkj0750vSbE",
        "outputId": "25645d70-205e-4246-91d8-17929d3c3f15"
      },
      "source": [
        "full_windows.shape, full_labels.shape"
      ],
      "execution_count": 62,
      "outputs": [
        {
          "output_type": "execute_result",
          "data": {
            "text/plain": [
              "((2757, 30), (2757, 1))"
            ]
          },
          "metadata": {},
          "execution_count": 62
        }
      ]
    },
    {
      "cell_type": "code",
      "metadata": {
        "colab": {
          "base_uri": "https://localhost:8080/"
        },
        "id": "KRsZ_v5xveVU",
        "outputId": "ca6ba77e-1b60-436f-88f2-1faf543d7334"
      },
      "source": [
        "# Make train/test windows for the WINDOW_SIZE = 30\n",
        "train_windows, test_windows, train_labels, test_labels = make_train_test_splits(full_windows, \n",
        "                                                                                full_labels)\n",
        "len(train_windows), len(test_windows), len(train_labels), len(test_labels)"
      ],
      "execution_count": 63,
      "outputs": [
        {
          "output_type": "execute_result",
          "data": {
            "text/plain": [
              "(2205, 552, 2205, 552)"
            ]
          },
          "metadata": {},
          "execution_count": 63
        }
      ]
    },
    {
      "cell_type": "code",
      "metadata": {
        "colab": {
          "base_uri": "https://localhost:8080/"
        },
        "id": "e4Dg3OYFvoiJ",
        "outputId": "441af276-6916-4c3d-a92f-e9f66ed152b7"
      },
      "source": [
        " train_windows.shape, test_windows.shape, train_labels.shape, test_labels.shape"
      ],
      "execution_count": 64,
      "outputs": [
        {
          "output_type": "execute_result",
          "data": {
            "text/plain": [
              "((2205, 30), (552, 30), (2205, 1), (552, 1))"
            ]
          },
          "metadata": {},
          "execution_count": 64
        }
      ]
    },
    {
      "cell_type": "code",
      "metadata": {
        "colab": {
          "base_uri": "https://localhost:8080/"
        },
        "id": "Fpk1PZoTx_E2",
        "outputId": "6c8bfddd-b2c5-4149-9306-bba3a66598b6"
      },
      "source": [
        "train_windows[:3], train_labels[:3]"
      ],
      "execution_count": 65,
      "outputs": [
        {
          "output_type": "execute_result",
          "data": {
            "text/plain": [
              "(array([[123.65499, 125.455  , 108.58483, 118.67466, 121.33866, 120.65533,\n",
              "         121.795  , 123.033  , 124.049  , 125.96116, 125.27966, 125.9275 ,\n",
              "         126.38333, 135.24199, 133.20333, 142.76333, 137.92333, 142.95166,\n",
              "         152.55183, 160.33883, 164.31499, 177.63333, 188.29716, 200.70166,\n",
              "         180.355  , 175.03166, 177.6965 , 187.15983, 192.75666, 197.4    ],\n",
              "        [125.455  , 108.58483, 118.67466, 121.33866, 120.65533, 121.795  ,\n",
              "         123.033  , 124.049  , 125.96116, 125.27966, 125.9275 , 126.38333,\n",
              "         135.24199, 133.20333, 142.76333, 137.92333, 142.95166, 152.55183,\n",
              "         160.33883, 164.31499, 177.63333, 188.29716, 200.70166, 180.355  ,\n",
              "         175.03166, 177.6965 , 187.15983, 192.75666, 197.4    , 196.02499],\n",
              "        [108.58483, 118.67466, 121.33866, 120.65533, 121.795  , 123.033  ,\n",
              "         124.049  , 125.96116, 125.27966, 125.9275 , 126.38333, 135.24199,\n",
              "         133.20333, 142.76333, 137.92333, 142.95166, 152.55183, 160.33883,\n",
              "         164.31499, 177.63333, 188.29716, 200.70166, 180.355  , 175.03166,\n",
              "         177.6965 , 187.15983, 192.75666, 197.4    , 196.02499, 198.04883]]),\n",
              " array([[196.02499],\n",
              "        [198.04883],\n",
              "        [198.93233]]))"
            ]
          },
          "metadata": {},
          "execution_count": 65
        }
      ]
    },
    {
      "cell_type": "code",
      "metadata": {
        "colab": {
          "base_uri": "https://localhost:8080/"
        },
        "id": "iOlP1tKZyDdD",
        "outputId": "86fb55ef-72aa-428b-860f-ccdec87e235b"
      },
      "source": [
        "# Create model 2\n",
        "import tensorflow as tf\n",
        "from tensorflow.keras import layers\n",
        "\n",
        "tf.random.set_seed(42)\n",
        "\n",
        "# Create model_2\n",
        "model_2 = tf.keras.Sequential([\n",
        "          layers.Dense(128, activation=\"relu\"),\n",
        "          layers.Dense(HORIZON)\n",
        "  ], name=\"model_2_dense\")\n",
        "\n",
        "# Compile the model\n",
        "model_2.compile(loss=\"mae\",\n",
        "                optimizer = tf.keras.optimizers.Adam(),\n",
        "                metrics=[\"mae\"])\n",
        "\n",
        "# Fit the model\n",
        "model_2.fit(x = train_windows, \n",
        "            y = train_labels,\n",
        "            epochs = 100,\n",
        "            batch_size = 128, \n",
        "            verbose = 0,\n",
        "            validation_data = (test_windows, test_labels),\n",
        "            callbacks=[create_model_checkpoint(model_name=model_2.name)])"
      ],
      "execution_count": 66,
      "outputs": [
        {
          "output_type": "stream",
          "text": [
            "INFO:tensorflow:Assets written to: model_experiments/model_2_dense/assets\n",
            "INFO:tensorflow:Assets written to: model_experiments/model_2_dense/assets\n",
            "INFO:tensorflow:Assets written to: model_experiments/model_2_dense/assets\n",
            "INFO:tensorflow:Assets written to: model_experiments/model_2_dense/assets\n",
            "INFO:tensorflow:Assets written to: model_experiments/model_2_dense/assets\n",
            "INFO:tensorflow:Assets written to: model_experiments/model_2_dense/assets\n",
            "INFO:tensorflow:Assets written to: model_experiments/model_2_dense/assets\n",
            "INFO:tensorflow:Assets written to: model_experiments/model_2_dense/assets\n",
            "INFO:tensorflow:Assets written to: model_experiments/model_2_dense/assets\n",
            "INFO:tensorflow:Assets written to: model_experiments/model_2_dense/assets\n",
            "INFO:tensorflow:Assets written to: model_experiments/model_2_dense/assets\n",
            "INFO:tensorflow:Assets written to: model_experiments/model_2_dense/assets\n",
            "INFO:tensorflow:Assets written to: model_experiments/model_2_dense/assets\n",
            "INFO:tensorflow:Assets written to: model_experiments/model_2_dense/assets\n",
            "INFO:tensorflow:Assets written to: model_experiments/model_2_dense/assets\n",
            "INFO:tensorflow:Assets written to: model_experiments/model_2_dense/assets\n",
            "INFO:tensorflow:Assets written to: model_experiments/model_2_dense/assets\n",
            "INFO:tensorflow:Assets written to: model_experiments/model_2_dense/assets\n",
            "INFO:tensorflow:Assets written to: model_experiments/model_2_dense/assets\n",
            "INFO:tensorflow:Assets written to: model_experiments/model_2_dense/assets\n",
            "INFO:tensorflow:Assets written to: model_experiments/model_2_dense/assets\n",
            "INFO:tensorflow:Assets written to: model_experiments/model_2_dense/assets\n",
            "INFO:tensorflow:Assets written to: model_experiments/model_2_dense/assets\n",
            "INFO:tensorflow:Assets written to: model_experiments/model_2_dense/assets\n",
            "INFO:tensorflow:Assets written to: model_experiments/model_2_dense/assets\n",
            "INFO:tensorflow:Assets written to: model_experiments/model_2_dense/assets\n",
            "INFO:tensorflow:Assets written to: model_experiments/model_2_dense/assets\n",
            "INFO:tensorflow:Assets written to: model_experiments/model_2_dense/assets\n",
            "INFO:tensorflow:Assets written to: model_experiments/model_2_dense/assets\n",
            "INFO:tensorflow:Assets written to: model_experiments/model_2_dense/assets\n"
          ],
          "name": "stdout"
        },
        {
          "output_type": "execute_result",
          "data": {
            "text/plain": [
              "<keras.callbacks.History at 0x7f8f21daa9d0>"
            ]
          },
          "metadata": {},
          "execution_count": 66
        }
      ]
    },
    {
      "cell_type": "code",
      "metadata": {
        "colab": {
          "base_uri": "https://localhost:8080/"
        },
        "id": "BXXO7VFuzfQF",
        "outputId": "0c847205-239c-4da2-9984-cf7b1e4eec54"
      },
      "source": [
        "# Evaluate model 2 on test data\n",
        "model_2.evaluate(test_windows, test_labels)"
      ],
      "execution_count": 67,
      "outputs": [
        {
          "output_type": "stream",
          "text": [
            "18/18 [==============================] - 0s 2ms/step - loss: 659.3332 - mae: 659.3332\n"
          ],
          "name": "stdout"
        },
        {
          "output_type": "execute_result",
          "data": {
            "text/plain": [
              "[659.3331909179688, 659.3331909179688]"
            ]
          },
          "metadata": {},
          "execution_count": 67
        }
      ]
    },
    {
      "cell_type": "code",
      "metadata": {
        "colab": {
          "base_uri": "https://localhost:8080/"
        },
        "id": "J_RV9sqk0BdQ",
        "outputId": "c35da464-cf1b-4357-c130-630873c6284c"
      },
      "source": [
        "# Load in the best performing model \n",
        "model_2 = tf.keras.models.load_model(\"model_experiments/model_2_dense/\")\n",
        "model_2.evaluate(test_windows, test_labels)"
      ],
      "execution_count": 68,
      "outputs": [
        {
          "output_type": "stream",
          "text": [
            "18/18 [==============================] - 0s 2ms/step - loss: 605.8741 - mae: 605.8741\n"
          ],
          "name": "stdout"
        },
        {
          "output_type": "execute_result",
          "data": {
            "text/plain": [
              "[605.8740844726562, 605.8740844726562]"
            ]
          },
          "metadata": {},
          "execution_count": 68
        }
      ]
    },
    {
      "cell_type": "code",
      "metadata": {
        "id": "Qv1-16jZ0VTx"
      },
      "source": [
        "# Get forecast predictions\n",
        "model_2_preds = make_preds(model_2, \n",
        "                           input_data = test_windows)"
      ],
      "execution_count": 69,
      "outputs": []
    },
    {
      "cell_type": "code",
      "metadata": {
        "colab": {
          "base_uri": "https://localhost:8080/"
        },
        "id": "tI4xFuoJ0k5D",
        "outputId": "ccecca42-00a3-4ea2-b3cc-fa772c9d79a8"
      },
      "source": [
        "model_2_preds.shape, test_labels.shape, tf.squeeze(test_labels).shape"
      ],
      "execution_count": 70,
      "outputs": [
        {
          "output_type": "execute_result",
          "data": {
            "text/plain": [
              "(TensorShape([552]), (552, 1), TensorShape([552]))"
            ]
          },
          "metadata": {},
          "execution_count": 70
        }
      ]
    },
    {
      "cell_type": "code",
      "metadata": {
        "colab": {
          "base_uri": "https://localhost:8080/"
        },
        "id": "-ZPD5ZR20fYE",
        "outputId": "d0265ecc-59f9-48a8-ad4e-c203f0ecd29b"
      },
      "source": [
        "# Evaluate  results for model 2 predictions\n",
        "model_2_results = evaluate_preds(y_true = tf.squeeze(test_labels),\n",
        "                                 y_pred = model_2_preds)\n",
        "model_2_results"
      ],
      "execution_count": 71,
      "outputs": [
        {
          "output_type": "execute_result",
          "data": {
            "text/plain": [
              "{'mae': 605.8741,\n",
              " 'mape': 2.726445,\n",
              " 'mase': 1.0590738,\n",
              " 'mse': 1273360.8,\n",
              " 'rmse': 1128.4329}"
            ]
          },
          "metadata": {},
          "execution_count": 71
        }
      ]
    },
    {
      "cell_type": "code",
      "metadata": {
        "colab": {
          "base_uri": "https://localhost:8080/",
          "height": 442
        },
        "id": "24lM0Bhz1Hg4",
        "outputId": "bf6d9706-6bcb-4f49-e220-4ee8de3cf8a3"
      },
      "source": [
        "offset = 450\n",
        "plt.figure(figsize=(10, 7))\n",
        "# Account for test_window offset when plotting\n",
        "plot_time_series(timesteps = X_test[-len(test_windows) :], \n",
        "                 values = test_labels[:, 0],\n",
        "                 start = offset, \n",
        "                 label=\"Test Data\")\n",
        "\n",
        "plot_time_series(timesteps = X_test[-len(test_windows) : ],\n",
        "                 values = model_2_preds,\n",
        "                 start = offset,\n",
        "                 format=\"-\",\n",
        "                 label = \"model_2_preds\")"
      ],
      "execution_count": 72,
      "outputs": [
        {
          "output_type": "display_data",
          "data": {
            "image/png": "[encoded data removed]",
            "text/plain": [
              "<Figure size 720x504 with 1 Axes>"
            ]
          },
          "metadata": {
            "needs_background": "light"
          }
        }
      ]
    },
    {
      "cell_type": "markdown",
      "metadata": {
        "id": "cnoUToVk2mHI"
      },
      "source": [
        "## Model 3 : Dense ( Window size = 30, horizon = 7)"
      ]
    },
    {
      "cell_type": "code",
      "metadata": {
        "id": "QW82DgR-2pG2"
      },
      "source": [
        "# Create train and test data for window size 30\n",
        "WINDOW_SIZE = 30 # use 30 timestamps in past\n",
        "HORIZON = 7 # predict 7 step at a time (one day of Bitcoin prices)"
      ],
      "execution_count": 73,
      "outputs": []
    },
    {
      "cell_type": "code",
      "metadata": {
        "colab": {
          "base_uri": "https://localhost:8080/"
        },
        "id": "Bgk7TAIC2vge",
        "outputId": "3596cedd-1cd9-45f0-853e-caba042dfd2e"
      },
      "source": [
        "full_windows, full_labels = make_windows(prices, window_size=WINDOW_SIZE, horizon=HORIZON)\n",
        "len(full_windows), len(full_labels)\n"
      ],
      "execution_count": 74,
      "outputs": [
        {
          "output_type": "execute_result",
          "data": {
            "text/plain": [
              "(2751, 2751)"
            ]
          },
          "metadata": {},
          "execution_count": 74
        }
      ]
    },
    {
      "cell_type": "code",
      "metadata": {
        "colab": {
          "base_uri": "https://localhost:8080/"
        },
        "id": "AKe7W_bD3DCR",
        "outputId": "ab186eaa-8d99-4921-b954-0f8f6ee1e309"
      },
      "source": [
        "full_windows.shape, full_labels.shape"
      ],
      "execution_count": 75,
      "outputs": [
        {
          "output_type": "execute_result",
          "data": {
            "text/plain": [
              "((2751, 30), (2751, 7))"
            ]
          },
          "metadata": {},
          "execution_count": 75
        }
      ]
    },
    {
      "cell_type": "code",
      "metadata": {
        "colab": {
          "base_uri": "https://localhost:8080/"
        },
        "id": "1V5ic97Q3Jv4",
        "outputId": "9a75dcac-6781-4a00-e506-025282059823"
      },
      "source": [
        "# Make train/test windows for the WINDOW_SIZE = 30 HORIZON = 7\n",
        "train_windows, test_windows, train_labels, test_labels = make_train_test_splits(windows = full_windows, \n",
        "                                                                                labels = full_labels)\n",
        "len(train_windows), len(test_windows), len(train_labels), len(test_labels)"
      ],
      "execution_count": 76,
      "outputs": [
        {
          "output_type": "execute_result",
          "data": {
            "text/plain": [
              "(2200, 551, 2200, 551)"
            ]
          },
          "metadata": {},
          "execution_count": 76
        }
      ]
    },
    {
      "cell_type": "code",
      "metadata": {
        "colab": {
          "base_uri": "https://localhost:8080/"
        },
        "id": "aRslDy-e3kTg",
        "outputId": "4911e87a-757c-402b-eca4-f4266a6b98ed"
      },
      "source": [
        "train_windows.shape, train_labels.shape"
      ],
      "execution_count": 77,
      "outputs": [
        {
          "output_type": "execute_result",
          "data": {
            "text/plain": [
              "((2200, 30), (2200, 7))"
            ]
          },
          "metadata": {},
          "execution_count": 77
        }
      ]
    },
    {
      "cell_type": "code",
      "metadata": {
        "colab": {
          "base_uri": "https://localhost:8080/"
        },
        "id": "TzYCad1V8YPx",
        "outputId": "2d2cfbbf-e230-492f-e84d-dd1a1ca668a6"
      },
      "source": [
        "HORIZON, WINDOW_SIZE"
      ],
      "execution_count": 78,
      "outputs": [
        {
          "output_type": "execute_result",
          "data": {
            "text/plain": [
              "(7, 30)"
            ]
          },
          "metadata": {},
          "execution_count": 78
        }
      ]
    },
    {
      "cell_type": "code",
      "metadata": {
        "colab": {
          "base_uri": "https://localhost:8080/"
        },
        "id": "ZLWpqrCN3q2y",
        "outputId": "67b3bc37-df89-458b-cb09-6505eb274512"
      },
      "source": [
        "# Create model 3 (same as model_1 except with different data input and output sizes)\n",
        "import tensorflow as tf\n",
        "from tensorflow.keras import layers\n",
        "\n",
        "tf.random.set_seed(42)\n",
        "\n",
        "# Create the model\n",
        "model_3 = tf.keras.Sequential([\n",
        "          layers.Dense(128, activation=\"relu\"),\n",
        "          layers.Dense(HORIZON) # activation=\"linear\" same as no activation(None)\n",
        "], name=\"model_3_dense\")\n",
        "\n",
        "# Compile the model\n",
        "model_3.compile(loss=\"mae\",\n",
        "                optimizer = tf.keras.optimizers.Adam())\n",
        "\n",
        "# Fit the model\n",
        "model_3.fit(train_windows,\n",
        "            train_labels,\n",
        "            epochs = 100,\n",
        "            batch_size = 128,\n",
        "            verbose = 0,\n",
        "            validation_data = (test_windows, test_labels),\n",
        "            callbacks=[create_model_checkpoint(model_name = model_3.name)])\n"
      ],
      "execution_count": 79,
      "outputs": [
        {
          "output_type": "stream",
          "text": [
            "INFO:tensorflow:Assets written to: model_experiments/model_3_dense/assets\n",
            "INFO:tensorflow:Assets written to: model_experiments/model_3_dense/assets\n",
            "INFO:tensorflow:Assets written to: model_experiments/model_3_dense/assets\n",
            "INFO:tensorflow:Assets written to: model_experiments/model_3_dense/assets\n",
            "INFO:tensorflow:Assets written to: model_experiments/model_3_dense/assets\n",
            "INFO:tensorflow:Assets written to: model_experiments/model_3_dense/assets\n",
            "INFO:tensorflow:Assets written to: model_experiments/model_3_dense/assets\n",
            "INFO:tensorflow:Assets written to: model_experiments/model_3_dense/assets\n",
            "INFO:tensorflow:Assets written to: model_experiments/model_3_dense/assets\n",
            "INFO:tensorflow:Assets written to: model_experiments/model_3_dense/assets\n",
            "INFO:tensorflow:Assets written to: model_experiments/model_3_dense/assets\n",
            "INFO:tensorflow:Assets written to: model_experiments/model_3_dense/assets\n",
            "INFO:tensorflow:Assets written to: model_experiments/model_3_dense/assets\n",
            "INFO:tensorflow:Assets written to: model_experiments/model_3_dense/assets\n",
            "INFO:tensorflow:Assets written to: model_experiments/model_3_dense/assets\n",
            "INFO:tensorflow:Assets written to: model_experiments/model_3_dense/assets\n",
            "INFO:tensorflow:Assets written to: model_experiments/model_3_dense/assets\n",
            "INFO:tensorflow:Assets written to: model_experiments/model_3_dense/assets\n",
            "INFO:tensorflow:Assets written to: model_experiments/model_3_dense/assets\n",
            "INFO:tensorflow:Assets written to: model_experiments/model_3_dense/assets\n",
            "INFO:tensorflow:Assets written to: model_experiments/model_3_dense/assets\n",
            "INFO:tensorflow:Assets written to: model_experiments/model_3_dense/assets\n"
          ],
          "name": "stdout"
        },
        {
          "output_type": "execute_result",
          "data": {
            "text/plain": [
              "<keras.callbacks.History at 0x7f8f21ae7bd0>"
            ]
          },
          "metadata": {},
          "execution_count": 79
        }
      ]
    },
    {
      "cell_type": "code",
      "metadata": {
        "colab": {
          "base_uri": "https://localhost:8080/"
        },
        "id": "mrE8Ga1u4k8Q",
        "outputId": "99d7af58-38c7-413f-f1dd-a07c8c98804a"
      },
      "source": [
        "# Evaluate model on the test data\n",
        "model_3.evaluate(test_windows, test_labels)\n"
      ],
      "execution_count": 80,
      "outputs": [
        {
          "output_type": "stream",
          "text": [
            "18/18 [==============================] - 0s 1ms/step - loss: 1300.1525\n"
          ],
          "name": "stdout"
        },
        {
          "output_type": "execute_result",
          "data": {
            "text/plain": [
              "1300.1524658203125"
            ]
          },
          "metadata": {},
          "execution_count": 80
        }
      ]
    },
    {
      "cell_type": "code",
      "metadata": {
        "colab": {
          "base_uri": "https://localhost:8080/"
        },
        "id": "x2lLQt5_4rwG",
        "outputId": "7efa8575-419a-4a50-9a40-31ce4586f958"
      },
      "source": [
        "# Load best version of model_3 and evaluate\n",
        "model_3 = tf.keras.models.load_model(\"model_experiments/model_3_dense/\")\n",
        "model_3.evaluate(test_windows, test_labels)\n"
      ],
      "execution_count": 81,
      "outputs": [
        {
          "output_type": "stream",
          "text": [
            "18/18 [==============================] - 0s 2ms/step - loss: 1237.5063\n"
          ],
          "name": "stdout"
        },
        {
          "output_type": "execute_result",
          "data": {
            "text/plain": [
              "1237.50634765625"
            ]
          },
          "metadata": {},
          "execution_count": 81
        }
      ]
    },
    {
      "cell_type": "code",
      "metadata": {
        "id": "0Icu4TW744HY"
      },
      "source": [
        "# Get Model_3 predictions\n",
        "model_3_preds = make_preds(model = model_3,\n",
        "                           input_data = test_windows)"
      ],
      "execution_count": 82,
      "outputs": []
    },
    {
      "cell_type": "code",
      "metadata": {
        "colab": {
          "base_uri": "https://localhost:8080/"
        },
        "id": "UqayHy7c9Mrg",
        "outputId": "bbbea8a2-2cda-489c-a7c1-4b99cd16ad95"
      },
      "source": [
        "model_3_preds[:3]"
      ],
      "execution_count": 83,
      "outputs": [
        {
          "output_type": "execute_result",
          "data": {
            "text/plain": [
              "<tf.Tensor: shape=(3, 7), dtype=float32, numpy=\n",
              "array([[9004.694 , 9048.1   , 9425.09  , 9258.256 , 9495.797 , 9558.453 ,\n",
              "        9357.3545],\n",
              "       [8735.506 , 8840.303 , 9247.793 , 8885.601 , 9097.186 , 9174.327 ,\n",
              "        9156.818 ],\n",
              "       [8672.508 , 8782.387 , 9123.857 , 8770.371 , 9007.13  , 9003.869 ,\n",
              "        9042.725 ]], dtype=float32)>"
            ]
          },
          "metadata": {},
          "execution_count": 83
        }
      ]
    },
    {
      "cell_type": "code",
      "metadata": {
        "colab": {
          "base_uri": "https://localhost:8080/"
        },
        "id": "ZKmVum8b5BZf",
        "outputId": "20bbbd29-9e00-40b2-f69a-7b0c1b31d45d"
      },
      "source": [
        "model_3_preds.shape, test_labels.shape"
      ],
      "execution_count": 84,
      "outputs": [
        {
          "output_type": "execute_result",
          "data": {
            "text/plain": [
              "(TensorShape([551, 7]), (551, 7))"
            ]
          },
          "metadata": {},
          "execution_count": 84
        }
      ]
    },
    {
      "cell_type": "code",
      "metadata": {
        "colab": {
          "base_uri": "https://localhost:8080/"
        },
        "id": "Z6Ct3nWv5Kwf",
        "outputId": "2605628b-a202-4c95-fc24-2d2e14523458"
      },
      "source": [
        "# Evaluate model_3 results\n",
        "model_3_results = evaluate_preds(y_true = tf.squeeze(test_labels),\n",
        "                                 y_pred = model_3_preds)\n",
        "model_3_results[\"mae\"].ndim"
      ],
      "execution_count": 85,
      "outputs": [
        {
          "output_type": "execute_result",
          "data": {
            "text/plain": [
              "1"
            ]
          },
          "metadata": {},
          "execution_count": 85
        }
      ]
    },
    {
      "cell_type": "code",
      "metadata": {
        "id": "gkbpPA_vUndK",
        "colab": {
          "base_uri": "https://localhost:8080/"
        },
        "outputId": "856a1c78-693e-4b8e-b7ee-e54334417217"
      },
      "source": [
        "model_2_results[\"mae\"].ndim"
      ],
      "execution_count": 86,
      "outputs": [
        {
          "output_type": "execute_result",
          "data": {
            "text/plain": [
              "0"
            ]
          },
          "metadata": {},
          "execution_count": 86
        }
      ]
    },
    {
      "cell_type": "code",
      "metadata": {
        "colab": {
          "base_uri": "https://localhost:8080/"
        },
        "id": "BiG0PtroUJj5",
        "outputId": "e1a7660f-74b7-48fa-8af3-d5891f3ed979"
      },
      "source": [
        "tf.reduce_mean(model_3_results[\"mae\"]).numpy()"
      ],
      "execution_count": 87,
      "outputs": [
        {
          "output_type": "execute_result",
          "data": {
            "text/plain": [
              "1237.5063"
            ]
          },
          "metadata": {},
          "execution_count": 87
        }
      ]
    },
    {
      "cell_type": "code",
      "metadata": {
        "colab": {
          "base_uri": "https://localhost:8080/"
        },
        "id": "keqiDDAHUk5I",
        "outputId": "45d1c027-d1d2-4e28-df52-93a908c711b4"
      },
      "source": [
        "model_3.evaluate(test_windows, test_labels)"
      ],
      "execution_count": 88,
      "outputs": [
        {
          "output_type": "stream",
          "text": [
            "18/18 [==============================] - 0s 1ms/step - loss: 1237.5063\n"
          ],
          "name": "stdout"
        },
        {
          "output_type": "execute_result",
          "data": {
            "text/plain": [
              "1237.50634765625"
            ]
          },
          "metadata": {},
          "execution_count": 88
        }
      ]
    },
    {
      "cell_type": "markdown",
      "metadata": {
        "id": "Xsd-2bQcTPJu"
      },
      "source": [
        "## Make our evaluation function work for larger horizons\n"
      ]
    },
    {
      "cell_type": "code",
      "metadata": {
        "id": "HBAdLe8WTWUp"
      },
      "source": [
        "# Create a function to take in model predictions and truth value and return eveluation metrics\n",
        "\n",
        "def evaluate_preds(y_true, y_pred) :\n",
        "  \"\"\"\n",
        "  Compute all evaluation metrics\n",
        "  Returns :\n",
        "  dictionary with all evaluation metrics values\n",
        "  \"\"\"\n",
        "  # Make sure float32 datatype (for metric calculations)\n",
        "  y_true = tf.cast(y_true, dtype=tf.float32)\n",
        "  y_pred = tf.cast(y_pred, tf.float32)\n",
        "\n",
        "  # Calculate various evaluation metrics\n",
        "  mae = tf.keras.metrics.mean_absolute_error(y_true, y_pred)\n",
        "  mse = tf.keras.metrics.mean_squared_error(y_true, y_pred)\n",
        "  rmse = tf.sqrt(mse)\n",
        "  mape = tf.keras.metrics.mean_absolute_percentage_error(y_true, y_pred)\n",
        "  mase = mean_absolute_scaled_error(y_true, y_pred)\n",
        "\n",
        "  # Account for different sized metrics (for longer horizons, we want to reduce metrics to a single value)\n",
        "  if mae.ndim > 0 :\n",
        "    mae = tf.reduce_mean(mae)\n",
        "    mse = tf.reduce_mean(mse)\n",
        "    rmse = tf.reduce_mean(rmse)\n",
        "    mape = tf.reduce_mean(mape)\n",
        "    mase = tf.reduce_mean(mase)\n",
        "\n",
        "  return {\n",
        "      \"mae\" : mae.numpy(),\n",
        "      \"mse\": mse.numpy(),\n",
        "      \"rmse\" : rmse.numpy(),\n",
        "      \"mape\" : mape.numpy(),\n",
        "      \"mase\": mase.numpy()}"
      ],
      "execution_count": 89,
      "outputs": []
    },
    {
      "cell_type": "code",
      "metadata": {
        "colab": {
          "base_uri": "https://localhost:8080/"
        },
        "id": "wfX4dCGPTJUL",
        "outputId": "e7d18926-f732-4d7d-d955-c4cf057a6299"
      },
      "source": [
        "# Recalculate model_3 evaluation aggregated to single value\n",
        "model_3_results = evaluate_preds(y_true = tf.squeeze(test_labels),\n",
        "                                 y_pred = model_3_preds)\n",
        "model_3_results"
      ],
      "execution_count": 90,
      "outputs": [
        {
          "output_type": "execute_result",
          "data": {
            "text/plain": [
              "{'mae': 1237.5063,\n",
              " 'mape': 5.5588784,\n",
              " 'mase': 2.2020733,\n",
              " 'mse': 5405198.5,\n",
              " 'rmse': 1425.7478}"
            ]
          },
          "metadata": {},
          "execution_count": 90
        }
      ]
    },
    {
      "cell_type": "markdown",
      "metadata": {
        "id": "eQsYN4TbVeSM"
      },
      "source": [
        "We've made and evaluated predictions with `model_3` let's visualize, visualize, visualize!"
      ]
    },
    {
      "cell_type": "code",
      "metadata": {
        "colab": {
          "base_uri": "https://localhost:8080/",
          "height": 442
        },
        "id": "bQWhj7tSVVuo",
        "outputId": "68803153-ac1f-448e-8e1e-27e457056d56"
      },
      "source": [
        "# Plot the model 3 predictions\n",
        "\n",
        "offset = 300\n",
        "plt.figure(figsize=(10, 7))\n",
        "plot_time_series(timesteps = X_test[- len(test_windows) : ],\n",
        "                 values = test_labels[:, 0],\n",
        "                 start = offset, \n",
        "                 format=\"-\",\n",
        "                 label = \"Test Data\")\n",
        "plot_time_series(timesteps=X_test[-len(test_windows) :],\n",
        "                 values = model_3_preds,\n",
        "                 start = offset,\n",
        "                 label = \"model_3_preds\")"
      ],
      "execution_count": 91,
      "outputs": [
        {
          "output_type": "display_data",
          "data": {
            "image/png": "[encoded data removed]",
            "text/plain": [
              "<Figure size 720x504 with 1 Axes>"
            ]
          },
          "metadata": {
            "needs_background": "light"
          }
        }
      ]
    },
    {
      "cell_type": "code",
      "metadata": {
        "colab": {
          "base_uri": "https://localhost:8080/",
          "height": 442
        },
        "id": "J7Bkr5-BWflB",
        "outputId": "2b2dbf3e-84bd-4ddd-9533-61d2583c7c51"
      },
      "source": [
        "# Plot the model 3 predictions\n",
        "\n",
        "offset = 300\n",
        "plt.figure(figsize=(10, 7))\n",
        "plot_time_series(timesteps = X_test[- len(test_windows) : ],\n",
        "                 values = test_labels[:, 0],\n",
        "                 start = offset, \n",
        "                 format=\"-\",\n",
        "                 label = \"Test Data\")\n",
        "plot_time_series(timesteps=X_test[-len(test_windows) :],\n",
        "                 values = tf.reduce_mean(model_3_preds, axis=1),\n",
        "                 start = offset,\n",
        "                 format=\"-\",\n",
        "                 label = \"model_3_preds\")"
      ],
      "execution_count": 92,
      "outputs": [
        {
          "output_type": "display_data",
          "data": {
            "image/png": "[encoded data removed]",
            "text/plain": [
              "<Figure size 720x504 with 1 Axes>"
            ]
          },
          "metadata": {
            "needs_background": "light"
          }
        }
      ]
    },
    {
      "cell_type": "markdown",
      "metadata": {
        "id": "9V5nHh3FX4kg"
      },
      "source": [
        "## Which of our model's performing the best so far?\n",
        "\n",
        "We have trained a few models, now let's compare them and see how they've gone ...\n"
      ]
    },
    {
      "cell_type": "code",
      "metadata": {
        "colab": {
          "base_uri": "https://localhost:8080/",
          "height": 440
        },
        "id": "ZR7__juRZZ_M",
        "outputId": "ceec5728-013d-4449-8c00-f7a748a310b6"
      },
      "source": [
        "pd.DataFrame({\"naive\" : naive_results[\"mae\"],\n",
        "              \"horizon_1_window_7\" : model_1_results[\"mae\"],\n",
        "              \"horizon_1_window_30\" : model_2_results[\"mae\"],\n",
        "              \"horizon_7_window_30\" : model_3_results[\"mae\"]}, index=[\"mae\"]).plot(figsize=(10, 7), kind=\"bar\");\n"
      ],
      "execution_count": 93,
      "outputs": [
        {
          "output_type": "display_data",
          "data": {
            "image/png": "[encoded data removed]",
            "text/plain": [
              "<Figure size 720x504 with 1 Axes>"
            ]
          },
          "metadata": {
            "needs_background": "light"
          }
        }
      ]
    },
    {
      "cell_type": "markdown",
      "metadata": {
        "id": "C5absSjxaPvD"
      },
      "source": [
        "> **Resources**: Why our naive baseline model perform better for time-series steps? Are the predicted prices co-related to past prices. Read this article to get a better understanding on 'Autocorrelation' : https://towardsdatascience.com/how-not-to-use-machine-learning-for-time-series-forecasting-avoiding-the-pitfalls-19f9d7adf424"
      ]
    },
    {
      "cell_type": "markdown",
      "metadata": {
        "id": "HtchN9ptbcfK"
      },
      "source": [
        "## Model 4 : Build a Conv1D"
      ]
    },
    {
      "cell_type": "code",
      "metadata": {
        "id": "9but3wiRcU2w"
      },
      "source": [
        "HORIZON = 1 # predict next day of Bitcoin prices\n",
        "WINDOW_SIZE = 7 # use previous week worth data\n"
      ],
      "execution_count": 94,
      "outputs": []
    },
    {
      "cell_type": "code",
      "metadata": {
        "colab": {
          "base_uri": "https://localhost:8080/"
        },
        "id": "a1gtFMkoc5l2",
        "outputId": "759c51f6-6add-4e6a-ede2-add52d169491"
      },
      "source": [
        "# Create windowed data\n",
        "full_windows, full_labels = make_windows(prices, window_size = WINDOW_SIZE, horizon = HORIZON)\n",
        "len(full_windows), len(full_labels)"
      ],
      "execution_count": 95,
      "outputs": [
        {
          "output_type": "execute_result",
          "data": {
            "text/plain": [
              "(2780, 2780)"
            ]
          },
          "metadata": {},
          "execution_count": 95
        }
      ]
    },
    {
      "cell_type": "code",
      "metadata": {
        "colab": {
          "base_uri": "https://localhost:8080/"
        },
        "id": "DzN1nzXsdE2M",
        "outputId": "ae4e6c18-89ab-4138-86dd-cf50322b8969"
      },
      "source": [
        "train_windows, test_windows, train_labels, test_labels = make_train_test_splits(full_windows, full_labels)\n",
        "len(train_windows), len(test_windows), len(train_labels), len(test_labels)"
      ],
      "execution_count": 96,
      "outputs": [
        {
          "output_type": "execute_result",
          "data": {
            "text/plain": [
              "(2224, 556, 2224, 556)"
            ]
          },
          "metadata": {},
          "execution_count": 96
        }
      ]
    },
    {
      "cell_type": "code",
      "metadata": {
        "colab": {
          "base_uri": "https://localhost:8080/"
        },
        "id": "UPCNuEuUdWDi",
        "outputId": "768c9747-c272-4ed5-973c-663f47d49649"
      },
      "source": [
        "train_windows.shape, train_labels.shape"
      ],
      "execution_count": 97,
      "outputs": [
        {
          "output_type": "execute_result",
          "data": {
            "text/plain": [
              "((2224, 7), (2224, 1))"
            ]
          },
          "metadata": {},
          "execution_count": 97
        }
      ]
    },
    {
      "cell_type": "markdown",
      "metadata": {
        "id": "nyPa8g9udaK9"
      },
      "source": [
        "We need an input shape of : `(batch_size, timesteps, input_dim)`...\n",
        "\n",
        "However, out data isn't in that shape yet..."
      ]
    },
    {
      "cell_type": "code",
      "metadata": {
        "colab": {
          "base_uri": "https://localhost:8080/"
        },
        "id": "wl6g0GYWdsO6",
        "outputId": "9ac40b82-6c7a-4793-e118-eabe7c1b7855"
      },
      "source": [
        "# Check data input shape\n",
        "train_windows[0].shape # returns (WINDOW_SIZE)"
      ],
      "execution_count": 98,
      "outputs": [
        {
          "output_type": "execute_result",
          "data": {
            "text/plain": [
              "(7,)"
            ]
          },
          "metadata": {},
          "execution_count": 98
        }
      ]
    },
    {
      "cell_type": "code",
      "metadata": {
        "colab": {
          "base_uri": "https://localhost:8080/"
        },
        "id": "b7P1viOFdzAP",
        "outputId": "80cc20b6-6f99-437c-8ee5-b043676e32be"
      },
      "source": [
        "# Before we pass our data to the Conv1D layer, we have to reshape it in order to make it work\n",
        "x = tf.constant(train_windows[0])\n",
        "x"
      ],
      "execution_count": 99,
      "outputs": [
        {
          "output_type": "execute_result",
          "data": {
            "text/plain": [
              "<tf.Tensor: shape=(7,), dtype=float64, numpy=\n",
              "array([123.65499, 125.455  , 108.58483, 118.67466, 121.33866, 120.65533,\n",
              "       121.795  ])>"
            ]
          },
          "metadata": {},
          "execution_count": 99
        }
      ]
    },
    {
      "cell_type": "markdown",
      "metadata": {
        "id": "0_oA7PlPekAD"
      },
      "source": [
        "> **Resources** : TensorFlow Lambda function https://www.tensorflow.org/api_docs/python/tf/keras/layers/Lambda"
      ]
    },
    {
      "cell_type": "code",
      "metadata": {
        "id": "1cUtemW4eJMA"
      },
      "source": [
        "expand_dims_layer = layers.Lambda(lambda x : tf.expand_dims(x, axis = 1)) # add an extra dimension for input_dim"
      ],
      "execution_count": 100,
      "outputs": []
    },
    {
      "cell_type": "code",
      "metadata": {
        "colab": {
          "base_uri": "https://localhost:8080/"
        },
        "id": "GKBnQSIqetta",
        "outputId": "092a42fd-a4ea-4677-c306-d3767090f8c9"
      },
      "source": [
        "# Test out our lambda layer\n",
        "print(f\"Original shape : {x.shape}\") # (WINDOW_SIZE)\n",
        "print(f\"Expanded shape : {expand_dims_layer(x).shape}\") # (WINDOW_SIZE, input_dim)\n",
        "print(f\"Original values with expanded shape :\\n {expand_dims_layer(x)}\")"
      ],
      "execution_count": 101,
      "outputs": [
        {
          "output_type": "stream",
          "text": [
            "Original shape : (7,)\n",
            "Expanded shape : (7, 1)\n",
            "Original values with expanded shape :\n",
            " [[123.65499]\n",
            " [125.455  ]\n",
            " [108.58483]\n",
            " [118.67466]\n",
            " [121.33866]\n",
            " [120.65533]\n",
            " [121.795  ]]\n"
          ],
          "name": "stdout"
        }
      ]
    },
    {
      "cell_type": "code",
      "metadata": {
        "colab": {
          "base_uri": "https://localhost:8080/"
        },
        "id": "yLKGEFvEf1K-",
        "outputId": "a6b96789-24fa-4422-c5d7-b67f2a3e45a6"
      },
      "source": [
        "tf.random.set_seed(42)\n",
        "\n",
        "# Create Conv1D model\n",
        "model_4 = tf.keras.Sequential([\n",
        "        layers.Lambda(lambda x : tf.expand_dims(x, axis=1)),\n",
        "        layers.Conv1D(filters = 128,\n",
        "                      kernel_size= 5, \n",
        "                      strides = 1,\n",
        "                      padding=\"causal\",  # Our data is temporal , so using padding=\"causal\"\n",
        "                      activation=\"relu\"),\n",
        "        layers.Dense(HORIZON)\n",
        "        ], name=\"model_4_conv1D\")\n",
        "\n",
        "\n",
        "# Compile the model\n",
        "model_4.compile(loss=\"mae\", \n",
        "                optimizer= tf.keras.optimizers.Adam())\n",
        "\n",
        "# Fit the model\n",
        "model_4.fit(x = train_windows, \n",
        "            y = train_labels,\n",
        "            batch_size=128, \n",
        "            epochs=100,\n",
        "            verbose = 1, \n",
        "            validation_data = (test_windows, test_labels),\n",
        "            callbacks=[create_model_checkpoint(model_name = model_4.name)])"
      ],
      "execution_count": 102,
      "outputs": [
        {
          "output_type": "stream",
          "text": [
            "Epoch 1/100\n",
            "18/18 [==============================] - 29s 39ms/step - loss: 1207.3817 - val_loss: 2320.6218\n",
            "INFO:tensorflow:Assets written to: model_experiments/model_4_conv1D/assets\n",
            "Epoch 2/100\n",
            "18/18 [==============================] - 0s 4ms/step - loss: 316.2171 - val_loss: 1467.2799\n",
            "INFO:tensorflow:Assets written to: model_experiments/model_4_conv1D/assets\n",
            "Epoch 3/100\n",
            "18/18 [==============================] - 0s 4ms/step - loss: 192.6853 - val_loss: 1164.7074\n",
            "INFO:tensorflow:Assets written to: model_experiments/model_4_conv1D/assets\n",
            "Epoch 4/100\n",
            "18/18 [==============================] - 0s 5ms/step - loss: 177.3535 - val_loss: 981.6694\n",
            "INFO:tensorflow:Assets written to: model_experiments/model_4_conv1D/assets\n",
            "Epoch 5/100\n",
            "18/18 [==============================] - 0s 4ms/step - loss: 172.3466 - val_loss: 960.8708\n",
            "INFO:tensorflow:Assets written to: model_experiments/model_4_conv1D/assets\n",
            "Epoch 6/100\n",
            "18/18 [==============================] - 0s 4ms/step - loss: 171.9753 - val_loss: 950.2026\n",
            "INFO:tensorflow:Assets written to: model_experiments/model_4_conv1D/assets\n",
            "Epoch 7/100\n",
            "18/18 [==============================] - 0s 4ms/step - loss: 167.1944 - val_loss: 943.2871\n",
            "INFO:tensorflow:Assets written to: model_experiments/model_4_conv1D/assets\n",
            "Epoch 8/100\n",
            "18/18 [==============================] - 0s 4ms/step - loss: 163.5991 - val_loss: 905.5263\n",
            "INFO:tensorflow:Assets written to: model_experiments/model_4_conv1D/assets\n",
            "Epoch 9/100\n",
            "18/18 [==============================] - 0s 4ms/step - loss: 162.5455 - val_loss: 929.7606\n",
            "Epoch 10/100\n",
            "18/18 [==============================] - 0s 3ms/step - loss: 158.5780 - val_loss: 871.9778\n",
            "INFO:tensorflow:Assets written to: model_experiments/model_4_conv1D/assets\n",
            "Epoch 11/100\n",
            "18/18 [==============================] - 0s 4ms/step - loss: 154.0058 - val_loss: 852.7119\n",
            "INFO:tensorflow:Assets written to: model_experiments/model_4_conv1D/assets\n",
            "Epoch 12/100\n",
            "18/18 [==============================] - 0s 4ms/step - loss: 151.2620 - val_loss: 944.1971\n",
            "Epoch 13/100\n",
            "18/18 [==============================] - 0s 3ms/step - loss: 150.2688 - val_loss: 881.1825\n",
            "Epoch 14/100\n",
            "18/18 [==============================] - 0s 4ms/step - loss: 145.4593 - val_loss: 849.1818\n",
            "INFO:tensorflow:Assets written to: model_experiments/model_4_conv1D/assets\n",
            "Epoch 15/100\n",
            "18/18 [==============================] - 0s 4ms/step - loss: 143.3641 - val_loss: 844.4006\n",
            "INFO:tensorflow:Assets written to: model_experiments/model_4_conv1D/assets\n",
            "Epoch 16/100\n",
            "18/18 [==============================] - 0s 4ms/step - loss: 139.8764 - val_loss: 806.7261\n",
            "INFO:tensorflow:Assets written to: model_experiments/model_4_conv1D/assets\n",
            "Epoch 17/100\n",
            "18/18 [==============================] - 0s 4ms/step - loss: 138.1677 - val_loss: 812.6341\n",
            "Epoch 18/100\n",
            "18/18 [==============================] - 0s 4ms/step - loss: 137.9497 - val_loss: 775.2099\n",
            "INFO:tensorflow:Assets written to: model_experiments/model_4_conv1D/assets\n",
            "Epoch 19/100\n",
            "18/18 [==============================] - 0s 4ms/step - loss: 131.1450 - val_loss: 755.4260\n",
            "INFO:tensorflow:Assets written to: model_experiments/model_4_conv1D/assets\n",
            "Epoch 20/100\n",
            "18/18 [==============================] - 0s 4ms/step - loss: 132.4057 - val_loss: 712.2014\n",
            "INFO:tensorflow:Assets written to: model_experiments/model_4_conv1D/assets\n",
            "Epoch 21/100\n",
            "18/18 [==============================] - 0s 4ms/step - loss: 131.0829 - val_loss: 707.4120\n",
            "INFO:tensorflow:Assets written to: model_experiments/model_4_conv1D/assets\n",
            "Epoch 22/100\n",
            "18/18 [==============================] - 0s 4ms/step - loss: 126.9511 - val_loss: 692.9737\n",
            "INFO:tensorflow:Assets written to: model_experiments/model_4_conv1D/assets\n",
            "Epoch 23/100\n",
            "18/18 [==============================] - 0s 4ms/step - loss: 125.1489 - val_loss: 682.4753\n",
            "INFO:tensorflow:Assets written to: model_experiments/model_4_conv1D/assets\n",
            "Epoch 24/100\n",
            "18/18 [==============================] - 0s 4ms/step - loss: 124.3786 - val_loss: 670.8320\n",
            "INFO:tensorflow:Assets written to: model_experiments/model_4_conv1D/assets\n",
            "Epoch 25/100\n",
            "18/18 [==============================] - 0s 4ms/step - loss: 121.6896 - val_loss: 662.6083\n",
            "INFO:tensorflow:Assets written to: model_experiments/model_4_conv1D/assets\n",
            "Epoch 26/100\n",
            "18/18 [==============================] - 0s 4ms/step - loss: 121.5706 - val_loss: 654.6090\n",
            "INFO:tensorflow:Assets written to: model_experiments/model_4_conv1D/assets\n",
            "Epoch 27/100\n",
            "18/18 [==============================] - 0s 4ms/step - loss: 122.6445 - val_loss: 650.9059\n",
            "INFO:tensorflow:Assets written to: model_experiments/model_4_conv1D/assets\n",
            "Epoch 28/100\n",
            "18/18 [==============================] - 0s 4ms/step - loss: 117.9561 - val_loss: 645.4808\n",
            "INFO:tensorflow:Assets written to: model_experiments/model_4_conv1D/assets\n",
            "Epoch 29/100\n",
            "18/18 [==============================] - 0s 4ms/step - loss: 117.1769 - val_loss: 639.9747\n",
            "INFO:tensorflow:Assets written to: model_experiments/model_4_conv1D/assets\n",
            "Epoch 30/100\n",
            "18/18 [==============================] - 0s 4ms/step - loss: 121.0468 - val_loss: 630.7950\n",
            "INFO:tensorflow:Assets written to: model_experiments/model_4_conv1D/assets\n",
            "Epoch 31/100\n",
            "18/18 [==============================] - 0s 4ms/step - loss: 114.9061 - val_loss: 652.6462\n",
            "Epoch 32/100\n",
            "18/18 [==============================] - 0s 4ms/step - loss: 116.4313 - val_loss: 623.4980\n",
            "INFO:tensorflow:Assets written to: model_experiments/model_4_conv1D/assets\n",
            "Epoch 33/100\n",
            "18/18 [==============================] - 0s 4ms/step - loss: 115.7971 - val_loss: 664.3208\n",
            "Epoch 34/100\n",
            "18/18 [==============================] - 0s 4ms/step - loss: 117.2043 - val_loss: 613.7655\n",
            "INFO:tensorflow:Assets written to: model_experiments/model_4_conv1D/assets\n",
            "Epoch 35/100\n",
            "18/18 [==============================] - 0s 4ms/step - loss: 113.4074 - val_loss: 619.6227\n",
            "Epoch 36/100\n",
            "18/18 [==============================] - 0s 4ms/step - loss: 116.8331 - val_loss: 605.7617\n",
            "INFO:tensorflow:Assets written to: model_experiments/model_4_conv1D/assets\n",
            "Epoch 37/100\n",
            "18/18 [==============================] - 0s 4ms/step - loss: 114.7925 - val_loss: 603.6093\n",
            "INFO:tensorflow:Assets written to: model_experiments/model_4_conv1D/assets\n",
            "Epoch 38/100\n",
            "18/18 [==============================] - 0s 4ms/step - loss: 113.0861 - val_loss: 602.5891\n",
            "INFO:tensorflow:Assets written to: model_experiments/model_4_conv1D/assets\n",
            "Epoch 39/100\n",
            "18/18 [==============================] - 0s 4ms/step - loss: 111.9831 - val_loss: 602.2945\n",
            "INFO:tensorflow:Assets written to: model_experiments/model_4_conv1D/assets\n",
            "Epoch 40/100\n",
            "18/18 [==============================] - 0s 4ms/step - loss: 111.2691 - val_loss: 600.5515\n",
            "INFO:tensorflow:Assets written to: model_experiments/model_4_conv1D/assets\n",
            "Epoch 41/100\n",
            "18/18 [==============================] - 0s 4ms/step - loss: 112.0727 - val_loss: 623.0618\n",
            "Epoch 42/100\n",
            "18/18 [==============================] - 0s 3ms/step - loss: 116.7095 - val_loss: 645.0152\n",
            "Epoch 43/100\n",
            "18/18 [==============================] - 0s 4ms/step - loss: 118.9676 - val_loss: 659.5670\n",
            "Epoch 44/100\n",
            "18/18 [==============================] - 0s 4ms/step - loss: 125.4497 - val_loss: 678.8231\n",
            "Epoch 45/100\n",
            "18/18 [==============================] - 0s 3ms/step - loss: 115.4361 - val_loss: 611.8369\n",
            "Epoch 46/100\n",
            "18/18 [==============================] - 0s 4ms/step - loss: 114.1717 - val_loss: 589.6738\n",
            "INFO:tensorflow:Assets written to: model_experiments/model_4_conv1D/assets\n",
            "Epoch 47/100\n",
            "18/18 [==============================] - 0s 5ms/step - loss: 113.7248 - val_loss: 720.2476\n",
            "Epoch 48/100\n",
            "18/18 [==============================] - 0s 4ms/step - loss: 112.0136 - val_loss: 597.4330\n",
            "Epoch 49/100\n",
            "18/18 [==============================] - 0s 3ms/step - loss: 110.5681 - val_loss: 665.2024\n",
            "Epoch 50/100\n",
            "18/18 [==============================] - 0s 4ms/step - loss: 119.7653 - val_loss: 635.1693\n",
            "Epoch 51/100\n",
            "18/18 [==============================] - 0s 4ms/step - loss: 110.7740 - val_loss: 586.0244\n",
            "INFO:tensorflow:Assets written to: model_experiments/model_4_conv1D/assets\n",
            "Epoch 52/100\n",
            "18/18 [==============================] - 0s 4ms/step - loss: 111.2179 - val_loss: 595.2483\n",
            "Epoch 53/100\n",
            "18/18 [==============================] - 0s 4ms/step - loss: 113.6466 - val_loss: 670.5777\n",
            "Epoch 54/100\n",
            "18/18 [==============================] - 0s 4ms/step - loss: 126.7883 - val_loss: 648.2968\n",
            "Epoch 55/100\n",
            "18/18 [==============================] - 0s 4ms/step - loss: 110.6968 - val_loss: 593.8556\n",
            "Epoch 56/100\n",
            "18/18 [==============================] - 0s 4ms/step - loss: 109.8591 - val_loss: 766.5010\n",
            "Epoch 57/100\n",
            "18/18 [==============================] - 0s 4ms/step - loss: 124.8183 - val_loss: 712.2677\n",
            "Epoch 58/100\n",
            "18/18 [==============================] - 0s 3ms/step - loss: 120.3515 - val_loss: 698.5150\n",
            "Epoch 59/100\n",
            "18/18 [==============================] - 0s 3ms/step - loss: 110.8185 - val_loss: 592.1151\n",
            "Epoch 60/100\n",
            "18/18 [==============================] - 0s 5ms/step - loss: 110.2038 - val_loss: 616.9355\n",
            "Epoch 61/100\n",
            "18/18 [==============================] - 0s 4ms/step - loss: 111.0310 - val_loss: 588.4846\n",
            "Epoch 62/100\n",
            "18/18 [==============================] - 0s 4ms/step - loss: 108.1684 - val_loss: 577.6282\n",
            "INFO:tensorflow:Assets written to: model_experiments/model_4_conv1D/assets\n",
            "Epoch 63/100\n",
            "18/18 [==============================] - 0s 4ms/step - loss: 108.7933 - val_loss: 610.1493\n",
            "Epoch 64/100\n",
            "18/18 [==============================] - 0s 4ms/step - loss: 110.4675 - val_loss: 652.9426\n",
            "Epoch 65/100\n",
            "18/18 [==============================] - 0s 4ms/step - loss: 110.7312 - val_loss: 583.0665\n",
            "Epoch 66/100\n",
            "18/18 [==============================] - 0s 3ms/step - loss: 108.3487 - val_loss: 587.8362\n",
            "Epoch 67/100\n",
            "18/18 [==============================] - 0s 3ms/step - loss: 108.0646 - val_loss: 648.5151\n",
            "Epoch 68/100\n",
            "18/18 [==============================] - 0s 4ms/step - loss: 113.6957 - val_loss: 675.1599\n",
            "Epoch 69/100\n",
            "18/18 [==============================] - 0s 4ms/step - loss: 124.3081 - val_loss: 632.9847\n",
            "Epoch 70/100\n",
            "18/18 [==============================] - 0s 4ms/step - loss: 124.3231 - val_loss: 588.5081\n",
            "Epoch 71/100\n",
            "18/18 [==============================] - 0s 4ms/step - loss: 111.2923 - val_loss: 618.2576\n",
            "Epoch 72/100\n",
            "18/18 [==============================] - 0s 3ms/step - loss: 110.1688 - val_loss: 581.8314\n",
            "Epoch 73/100\n",
            "18/18 [==============================] - 0s 4ms/step - loss: 108.6783 - val_loss: 582.9406\n",
            "Epoch 74/100\n",
            "18/18 [==============================] - 0s 4ms/step - loss: 108.4709 - val_loss: 578.2972\n",
            "Epoch 75/100\n",
            "18/18 [==============================] - 0s 4ms/step - loss: 110.1821 - val_loss: 663.3141\n",
            "Epoch 76/100\n",
            "18/18 [==============================] - 0s 3ms/step - loss: 112.4488 - val_loss: 582.5887\n",
            "Epoch 77/100\n",
            "18/18 [==============================] - 0s 3ms/step - loss: 110.0107 - val_loss: 579.8845\n",
            "Epoch 78/100\n",
            "18/18 [==============================] - 0s 4ms/step - loss: 107.3413 - val_loss: 582.0065\n",
            "Epoch 79/100\n",
            "18/18 [==============================] - 0s 3ms/step - loss: 109.0300 - val_loss: 591.4009\n",
            "Epoch 80/100\n",
            "18/18 [==============================] - 0s 3ms/step - loss: 106.9309 - val_loss: 585.3929\n",
            "Epoch 81/100\n",
            "18/18 [==============================] - 0s 4ms/step - loss: 106.6291 - val_loss: 575.4403\n",
            "INFO:tensorflow:Assets written to: model_experiments/model_4_conv1D/assets\n",
            "Epoch 82/100\n",
            "18/18 [==============================] - 0s 4ms/step - loss: 114.2934 - val_loss: 571.6199\n",
            "INFO:tensorflow:Assets written to: model_experiments/model_4_conv1D/assets\n",
            "Epoch 83/100\n",
            "18/18 [==============================] - 0s 5ms/step - loss: 111.1759 - val_loss: 666.0593\n",
            "Epoch 84/100\n",
            "18/18 [==============================] - 0s 4ms/step - loss: 112.2543 - val_loss: 580.0316\n",
            "Epoch 85/100\n",
            "18/18 [==============================] - 0s 3ms/step - loss: 107.7741 - val_loss: 599.6220\n",
            "Epoch 86/100\n",
            "18/18 [==============================] - 0s 4ms/step - loss: 108.7533 - val_loss: 599.0878\n",
            "Epoch 87/100\n",
            "18/18 [==============================] - 0s 4ms/step - loss: 106.9682 - val_loss: 596.5340\n",
            "Epoch 88/100\n",
            "18/18 [==============================] - 0s 5ms/step - loss: 107.9607 - val_loss: 598.1054\n",
            "Epoch 89/100\n",
            "18/18 [==============================] - 0s 4ms/step - loss: 107.3045 - val_loss: 570.8284\n",
            "INFO:tensorflow:Assets written to: model_experiments/model_4_conv1D/assets\n",
            "Epoch 90/100\n",
            "18/18 [==============================] - 0s 4ms/step - loss: 108.0094 - val_loss: 642.3936\n",
            "Epoch 91/100\n",
            "18/18 [==============================] - 0s 5ms/step - loss: 113.7574 - val_loss: 625.3721\n",
            "Epoch 92/100\n",
            "18/18 [==============================] - 0s 4ms/step - loss: 108.0016 - val_loss: 627.3057\n",
            "Epoch 93/100\n",
            "18/18 [==============================] - 0s 4ms/step - loss: 118.0999 - val_loss: 637.1281\n",
            "Epoch 94/100\n",
            "18/18 [==============================] - 0s 4ms/step - loss: 111.3195 - val_loss: 579.6982\n",
            "Epoch 95/100\n",
            "18/18 [==============================] - 0s 4ms/step - loss: 106.8561 - val_loss: 572.8484\n",
            "Epoch 96/100\n",
            "18/18 [==============================] - 0s 3ms/step - loss: 115.0599 - val_loss: 602.3215\n",
            "Epoch 97/100\n",
            "18/18 [==============================] - 0s 4ms/step - loss: 109.4901 - val_loss: 616.3589\n",
            "Epoch 98/100\n",
            "18/18 [==============================] - 0s 3ms/step - loss: 111.2816 - val_loss: 586.7988\n",
            "Epoch 99/100\n",
            "18/18 [==============================] - 0s 4ms/step - loss: 111.2904 - val_loss: 581.4891\n",
            "Epoch 100/100\n",
            "18/18 [==============================] - 0s 4ms/step - loss: 107.0190 - val_loss: 610.1539\n"
          ],
          "name": "stdout"
        },
        {
          "output_type": "execute_result",
          "data": {
            "text/plain": [
              "<keras.callbacks.History at 0x7f8f22012390>"
            ]
          },
          "metadata": {},
          "execution_count": 102
        }
      ]
    },
    {
      "cell_type": "code",
      "metadata": {
        "colab": {
          "base_uri": "https://localhost:8080/"
        },
        "id": "NdPN1a3onoa6",
        "outputId": "0f28360f-b70e-45f6-e584-72adf549012a"
      },
      "source": [
        "model_4.summary()"
      ],
      "execution_count": 103,
      "outputs": [
        {
          "output_type": "stream",
          "text": [
            "Model: \"model_4_conv1D\"\n",
            "_________________________________________________________________\n",
            "Layer (type)                 Output Shape              Param #   \n",
            "=================================================================\n",
            "lambda_1 (Lambda)            (None, 1, 7)              0         \n",
            "_________________________________________________________________\n",
            "conv1d (Conv1D)              (None, 1, 128)            4608      \n",
            "_________________________________________________________________\n",
            "dense_6 (Dense)              (None, 1, 1)              129       \n",
            "=================================================================\n",
            "Total params: 4,737\n",
            "Trainable params: 4,737\n",
            "Non-trainable params: 0\n",
            "_________________________________________________________________\n"
          ],
          "name": "stdout"
        }
      ]
    },
    {
      "cell_type": "code",
      "metadata": {
        "colab": {
          "base_uri": "https://localhost:8080/"
        },
        "id": "v3UKE623nJ_K",
        "outputId": "f210f2e2-f239-4605-ca94-4ce5c207a88c"
      },
      "source": [
        "model_4.evaluate(test_windows, test_labels)"
      ],
      "execution_count": 104,
      "outputs": [
        {
          "output_type": "stream",
          "text": [
            "18/18 [==============================] - 0s 3ms/step - loss: 610.1539\n"
          ],
          "name": "stdout"
        },
        {
          "output_type": "execute_result",
          "data": {
            "text/plain": [
              "610.1539306640625"
            ]
          },
          "metadata": {},
          "execution_count": 104
        }
      ]
    },
    {
      "cell_type": "code",
      "metadata": {
        "colab": {
          "base_uri": "https://localhost:8080/"
        },
        "id": "UFr-JCfBnQwZ",
        "outputId": "342e74f2-a7bf-44e5-cf31-affd9e380e68"
      },
      "source": [
        "# Load the best performing model_4\n",
        "model_4 = tf.keras.models.load_model(\"model_experiments/model_4_conv1D\")\n",
        "model_4.evaluate(test_windows, test_labels)\n"
      ],
      "execution_count": 105,
      "outputs": [
        {
          "output_type": "stream",
          "text": [
            "18/18 [==============================] - 0s 2ms/step - loss: 570.8284\n"
          ],
          "name": "stdout"
        },
        {
          "output_type": "execute_result",
          "data": {
            "text/plain": [
              "570.828369140625"
            ]
          },
          "metadata": {},
          "execution_count": 105
        }
      ]
    },
    {
      "cell_type": "code",
      "metadata": {
        "colab": {
          "base_uri": "https://localhost:8080/"
        },
        "id": "oYF8p1dgoV6d",
        "outputId": "32d3bd29-f473-45bf-d293-6dfc9ddd9ae6"
      },
      "source": [
        "# Make predictions\n",
        "model_4_preds = make_preds(model_4, test_windows)\n",
        "model_4_preds[:10]"
      ],
      "execution_count": 106,
      "outputs": [
        {
          "output_type": "execute_result",
          "data": {
            "text/plain": [
              "<tf.Tensor: shape=(10,), dtype=float32, numpy=\n",
              "array([8851.463, 8754.471, 8983.928, 8759.672, 8703.627, 8708.294,\n",
              "       8661.667, 8494.839, 8435.318, 8492.115], dtype=float32)>"
            ]
          },
          "metadata": {},
          "execution_count": 106
        }
      ]
    },
    {
      "cell_type": "code",
      "metadata": {
        "colab": {
          "base_uri": "https://localhost:8080/"
        },
        "id": "e-J5ur85oeOZ",
        "outputId": "42fbce12-f6eb-453f-82ec-b9813b261749"
      },
      "source": [
        "# Evaluate predictions\n",
        "model_4_results = evaluate_preds(y_true = tf.squeeze(test_labels),\n",
        "                                 y_pred = model_4_preds)\n",
        "model_4_results"
      ],
      "execution_count": 107,
      "outputs": [
        {
          "output_type": "execute_result",
          "data": {
            "text/plain": [
              "{'mae': 570.8283,\n",
              " 'mape': 2.5593357,\n",
              " 'mase': 1.0027872,\n",
              " 'mse': 1176671.2,\n",
              " 'rmse': 1084.7448}"
            ]
          },
          "metadata": {},
          "execution_count": 107
        }
      ]
    },
    {
      "cell_type": "code",
      "metadata": {
        "colab": {
          "base_uri": "https://localhost:8080/"
        },
        "id": "JGI9uPmoowcG",
        "outputId": "e7d0cf7c-c81a-4741-d1ba-4f5917df05b7"
      },
      "source": [
        "model_1_results"
      ],
      "execution_count": 108,
      "outputs": [
        {
          "output_type": "execute_result",
          "data": {
            "text/plain": [
              "{'mae': 568.9511,\n",
              " 'mape': 2.5448983,\n",
              " 'mase': 0.99948955,\n",
              " 'mse': 1171743.8,\n",
              " 'rmse': 1082.4712}"
            ]
          },
          "metadata": {},
          "execution_count": 108
        }
      ]
    },
    {
      "cell_type": "markdown",
      "metadata": {
        "id": "JGD6v8o8192v"
      },
      "source": [
        "## Model  5 : RNN (LSTM)\n",
        "\n",
        "Let's build an RNN model for our time series data.\n",
        "We'll use the same data we created previously."
      ]
    },
    {
      "cell_type": "code",
      "metadata": {
        "colab": {
          "base_uri": "https://localhost:8080/"
        },
        "id": "qIF4pZIq0vix",
        "outputId": "1b3b4aa4-58d0-4e3f-e6d4-314311dc4dd5"
      },
      "source": [
        "from tensorflow.keras import layers\n",
        "tf.random.set_seed(42)\n",
        "\n",
        "# Let's build an LSTM model with the Functional API\n",
        "inputs = layers.Input(shape=(WINDOW_SIZE))\n",
        "x = layers.Lambda(lambda x : tf.expand_dims(x, axis = 1)) (inputs)\n",
        "# x = layers.LSTM(128, return_sequences=True)(x)\n",
        "x = layers.LSTM(128, activation=\"relu\")(x)\n",
        "#x = layers.Dense(32, activation=\"relu\")(x)\n",
        "outputs = layers.Dense(HORIZON)(x)\n",
        "model_5 = tf.keras.Model(inputs = inputs, outputs = outputs, name = \"model_5_lstm\")\n",
        "\n",
        "# Compile the model\n",
        "model_5.compile(loss=\"mae\",\n",
        "                optimizer = tf.keras.optimizers.Adam())\n",
        "\n",
        "# Fit the model\n",
        "model_5.fit(x = train_windows, \n",
        "            y = train_labels,\n",
        "            epochs= 100,\n",
        "            batch_size=128,\n",
        "            verbose = 1,\n",
        "            validation_data = (test_windows, test_labels),\n",
        "            callbacks=[create_model_checkpoint(model_name = model_5.name)])\n"
      ],
      "execution_count": 109,
      "outputs": [
        {
          "output_type": "stream",
          "text": [
            "WARNING:tensorflow:Layer lstm will not use cuDNN kernels since it doesn't meet the criteria. It will use a generic GPU kernel as fallback when running on GPU.\n",
            "Epoch 1/100\n",
            "18/18 [==============================] - 1s 17ms/step - loss: 2323.6082 - val_loss: 9222.6523\n",
            "INFO:tensorflow:Assets written to: model_experiments/model_5_lstm/assets\n",
            "Epoch 2/100\n",
            "18/18 [==============================] - 0s 6ms/step - loss: 695.4739 - val_loss: 1486.0555\n",
            "INFO:tensorflow:Assets written to: model_experiments/model_5_lstm/assets\n",
            "Epoch 3/100\n",
            "18/18 [==============================] - 0s 6ms/step - loss: 237.3967 - val_loss: 1298.9084\n",
            "INFO:tensorflow:Assets written to: model_experiments/model_5_lstm/assets\n",
            "Epoch 4/100\n",
            "18/18 [==============================] - 0s 5ms/step - loss: 181.9180 - val_loss: 966.6431\n",
            "INFO:tensorflow:Assets written to: model_experiments/model_5_lstm/assets\n",
            "Epoch 5/100\n",
            "18/18 [==============================] - 0s 6ms/step - loss: 173.4022 - val_loss: 970.9295\n",
            "Epoch 6/100\n",
            "18/18 [==============================] - 0s 6ms/step - loss: 173.5414 - val_loss: 941.4746\n",
            "INFO:tensorflow:Assets written to: model_experiments/model_5_lstm/assets\n",
            "Epoch 7/100\n",
            "18/18 [==============================] - 0s 6ms/step - loss: 170.3566 - val_loss: 898.5215\n",
            "INFO:tensorflow:Assets written to: model_experiments/model_5_lstm/assets\n",
            "Epoch 8/100\n",
            "18/18 [==============================] - 0s 6ms/step - loss: 157.6371 - val_loss: 887.1069\n",
            "INFO:tensorflow:Assets written to: model_experiments/model_5_lstm/assets\n",
            "Epoch 9/100\n",
            "18/18 [==============================] - 0s 6ms/step - loss: 159.0397 - val_loss: 941.6474\n",
            "Epoch 10/100\n",
            "18/18 [==============================] - 0s 6ms/step - loss: 166.8723 - val_loss: 932.8405\n",
            "Epoch 11/100\n",
            "18/18 [==============================] - 0s 6ms/step - loss: 166.4009 - val_loss: 912.6633\n",
            "Epoch 12/100\n",
            "18/18 [==============================] - 0s 6ms/step - loss: 169.3308 - val_loss: 911.7051\n",
            "Epoch 13/100\n",
            "18/18 [==============================] - 0s 6ms/step - loss: 163.4948 - val_loss: 912.0140\n",
            "Epoch 14/100\n",
            "18/18 [==============================] - 0s 6ms/step - loss: 161.2514 - val_loss: 954.6791\n",
            "Epoch 15/100\n",
            "18/18 [==============================] - 0s 6ms/step - loss: 160.0829 - val_loss: 929.0612\n",
            "Epoch 16/100\n",
            "18/18 [==============================] - 0s 6ms/step - loss: 150.1265 - val_loss: 837.1278\n",
            "INFO:tensorflow:Assets written to: model_experiments/model_5_lstm/assets\n",
            "Epoch 17/100\n",
            "18/18 [==============================] - 0s 6ms/step - loss: 146.4163 - val_loss: 853.6611\n",
            "Epoch 18/100\n",
            "18/18 [==============================] - 0s 6ms/step - loss: 160.1423 - val_loss: 872.8708\n",
            "Epoch 19/100\n",
            "18/18 [==============================] - 0s 5ms/step - loss: 162.7851 - val_loss: 948.1257\n",
            "Epoch 20/100\n",
            "18/18 [==============================] - 0s 6ms/step - loss: 157.5906 - val_loss: 879.2180\n",
            "Epoch 21/100\n",
            "18/18 [==============================] - 0s 6ms/step - loss: 152.0355 - val_loss: 862.6780\n",
            "Epoch 22/100\n",
            "18/18 [==============================] - 0s 6ms/step - loss: 150.7321 - val_loss: 837.5231\n",
            "Epoch 23/100\n",
            "18/18 [==============================] - 0s 6ms/step - loss: 149.8567 - val_loss: 863.5777\n",
            "Epoch 24/100\n",
            "18/18 [==============================] - 0s 6ms/step - loss: 147.5116 - val_loss: 857.3817\n",
            "Epoch 25/100\n",
            "18/18 [==============================] - 0s 7ms/step - loss: 145.9860 - val_loss: 839.5698\n",
            "Epoch 26/100\n",
            "18/18 [==============================] - 0s 6ms/step - loss: 145.0650 - val_loss: 814.3984\n",
            "INFO:tensorflow:Assets written to: model_experiments/model_5_lstm/assets\n",
            "Epoch 27/100\n",
            "18/18 [==============================] - 0s 6ms/step - loss: 143.5609 - val_loss: 803.5718\n",
            "INFO:tensorflow:Assets written to: model_experiments/model_5_lstm/assets\n",
            "Epoch 28/100\n",
            "18/18 [==============================] - 0s 6ms/step - loss: 141.8002 - val_loss: 787.3266\n",
            "INFO:tensorflow:Assets written to: model_experiments/model_5_lstm/assets\n",
            "Epoch 29/100\n",
            "18/18 [==============================] - 0s 7ms/step - loss: 140.9612 - val_loss: 802.5436\n",
            "Epoch 30/100\n",
            "18/18 [==============================] - 0s 6ms/step - loss: 141.4158 - val_loss: 792.5001\n",
            "Epoch 31/100\n",
            "18/18 [==============================] - 0s 5ms/step - loss: 138.1068 - val_loss: 769.0403\n",
            "INFO:tensorflow:Assets written to: model_experiments/model_5_lstm/assets\n",
            "Epoch 32/100\n",
            "18/18 [==============================] - 0s 6ms/step - loss: 136.2222 - val_loss: 766.1755\n",
            "INFO:tensorflow:Assets written to: model_experiments/model_5_lstm/assets\n",
            "Epoch 33/100\n",
            "18/18 [==============================] - 0s 6ms/step - loss: 136.6590 - val_loss: 799.5143\n",
            "Epoch 34/100\n",
            "18/18 [==============================] - 0s 6ms/step - loss: 136.5250 - val_loss: 751.2918\n",
            "INFO:tensorflow:Assets written to: model_experiments/model_5_lstm/assets\n",
            "Epoch 35/100\n",
            "18/18 [==============================] - 0s 6ms/step - loss: 133.8809 - val_loss: 760.8373\n",
            "Epoch 36/100\n",
            "18/18 [==============================] - 0s 6ms/step - loss: 154.6745 - val_loss: 755.5355\n",
            "Epoch 37/100\n",
            "18/18 [==============================] - 0s 6ms/step - loss: 155.9530 - val_loss: 830.3299\n",
            "Epoch 38/100\n",
            "18/18 [==============================] - 0s 6ms/step - loss: 133.3048 - val_loss: 721.6965\n",
            "INFO:tensorflow:Assets written to: model_experiments/model_5_lstm/assets\n",
            "Epoch 39/100\n",
            "18/18 [==============================] - 0s 6ms/step - loss: 130.8634 - val_loss: 716.1732\n",
            "INFO:tensorflow:Assets written to: model_experiments/model_5_lstm/assets\n",
            "Epoch 40/100\n",
            "18/18 [==============================] - 0s 6ms/step - loss: 131.4340 - val_loss: 722.9932\n",
            "Epoch 41/100\n",
            "18/18 [==============================] - 0s 6ms/step - loss: 127.9265 - val_loss: 706.7326\n",
            "INFO:tensorflow:Assets written to: model_experiments/model_5_lstm/assets\n",
            "Epoch 42/100\n",
            "18/18 [==============================] - 0s 6ms/step - loss: 126.9680 - val_loss: 711.0535\n",
            "Epoch 43/100\n",
            "18/18 [==============================] - 0s 5ms/step - loss: 125.9146 - val_loss: 699.5353\n",
            "INFO:tensorflow:Assets written to: model_experiments/model_5_lstm/assets\n",
            "Epoch 44/100\n",
            "18/18 [==============================] - 0s 6ms/step - loss: 126.0430 - val_loss: 694.9197\n",
            "INFO:tensorflow:Assets written to: model_experiments/model_5_lstm/assets\n",
            "Epoch 45/100\n",
            "18/18 [==============================] - 0s 8ms/step - loss: 124.3085 - val_loss: 688.0770\n",
            "INFO:tensorflow:Assets written to: model_experiments/model_5_lstm/assets\n",
            "Epoch 46/100\n",
            "18/18 [==============================] - 0s 6ms/step - loss: 125.3113 - val_loss: 688.4482\n",
            "Epoch 47/100\n",
            "18/18 [==============================] - 0s 7ms/step - loss: 123.8175 - val_loss: 697.9518\n",
            "Epoch 48/100\n",
            "18/18 [==============================] - 0s 6ms/step - loss: 123.1645 - val_loss: 678.4640\n",
            "INFO:tensorflow:Assets written to: model_experiments/model_5_lstm/assets\n",
            "Epoch 49/100\n",
            "18/18 [==============================] - 0s 6ms/step - loss: 122.5108 - val_loss: 691.3553\n",
            "Epoch 50/100\n",
            "18/18 [==============================] - 0s 6ms/step - loss: 124.5405 - val_loss: 711.7105\n",
            "Epoch 51/100\n",
            "18/18 [==============================] - 0s 6ms/step - loss: 125.1063 - val_loss: 767.2324\n",
            "Epoch 52/100\n",
            "18/18 [==============================] - 0s 6ms/step - loss: 124.1389 - val_loss: 667.4606\n",
            "INFO:tensorflow:Assets written to: model_experiments/model_5_lstm/assets\n",
            "Epoch 53/100\n",
            "18/18 [==============================] - 0s 6ms/step - loss: 120.9903 - val_loss: 664.1364\n",
            "INFO:tensorflow:Assets written to: model_experiments/model_5_lstm/assets\n",
            "Epoch 54/100\n",
            "18/18 [==============================] - 0s 6ms/step - loss: 120.4420 - val_loss: 668.9785\n",
            "Epoch 55/100\n",
            "18/18 [==============================] - 0s 6ms/step - loss: 120.3250 - val_loss: 657.9633\n",
            "INFO:tensorflow:Assets written to: model_experiments/model_5_lstm/assets\n",
            "Epoch 56/100\n",
            "18/18 [==============================] - 0s 7ms/step - loss: 120.8701 - val_loss: 651.8960\n",
            "INFO:tensorflow:Assets written to: model_experiments/model_5_lstm/assets\n",
            "Epoch 57/100\n",
            "18/18 [==============================] - 0s 6ms/step - loss: 123.8955 - val_loss: 676.6168\n",
            "Epoch 58/100\n",
            "18/18 [==============================] - 0s 6ms/step - loss: 119.2845 - val_loss: 647.5352\n",
            "INFO:tensorflow:Assets written to: model_experiments/model_5_lstm/assets\n",
            "Epoch 59/100\n",
            "18/18 [==============================] - 0s 6ms/step - loss: 118.8512 - val_loss: 650.0970\n",
            "Epoch 60/100\n",
            "18/18 [==============================] - 0s 6ms/step - loss: 119.7555 - val_loss: 647.5707\n",
            "Epoch 61/100\n",
            "18/18 [==============================] - 0s 6ms/step - loss: 120.2817 - val_loss: 713.6547\n",
            "Epoch 62/100\n",
            "18/18 [==============================] - 0s 6ms/step - loss: 125.3769 - val_loss: 794.2551\n",
            "Epoch 63/100\n",
            "18/18 [==============================] - 0s 7ms/step - loss: 124.9135 - val_loss: 664.7371\n",
            "Epoch 64/100\n",
            "18/18 [==============================] - 0s 6ms/step - loss: 118.2151 - val_loss: 674.3691\n",
            "Epoch 65/100\n",
            "18/18 [==============================] - 0s 6ms/step - loss: 120.2009 - val_loss: 642.3017\n",
            "INFO:tensorflow:Assets written to: model_experiments/model_5_lstm/assets\n",
            "Epoch 66/100\n",
            "18/18 [==============================] - 0s 7ms/step - loss: 118.4315 - val_loss: 641.6986\n",
            "INFO:tensorflow:Assets written to: model_experiments/model_5_lstm/assets\n",
            "Epoch 67/100\n",
            "18/18 [==============================] - 0s 6ms/step - loss: 119.0471 - val_loss: 634.3810\n",
            "INFO:tensorflow:Assets written to: model_experiments/model_5_lstm/assets\n",
            "Epoch 68/100\n",
            "18/18 [==============================] - 0s 6ms/step - loss: 116.6638 - val_loss: 636.2444\n",
            "Epoch 69/100\n",
            "18/18 [==============================] - 0s 6ms/step - loss: 120.7408 - val_loss: 634.6294\n",
            "Epoch 70/100\n",
            "18/18 [==============================] - 0s 5ms/step - loss: 115.4599 - val_loss: 626.6803\n",
            "INFO:tensorflow:Assets written to: model_experiments/model_5_lstm/assets\n",
            "Epoch 71/100\n",
            "18/18 [==============================] - 0s 6ms/step - loss: 115.9339 - val_loss: 656.0881\n",
            "Epoch 72/100\n",
            "18/18 [==============================] - 0s 6ms/step - loss: 119.8699 - val_loss: 632.4766\n",
            "Epoch 73/100\n",
            "18/18 [==============================] - 0s 6ms/step - loss: 116.7878 - val_loss: 632.6957\n",
            "Epoch 74/100\n",
            "18/18 [==============================] - 0s 6ms/step - loss: 115.9789 - val_loss: 628.7859\n",
            "Epoch 75/100\n",
            "18/18 [==============================] - 0s 6ms/step - loss: 116.2214 - val_loss: 648.9557\n",
            "Epoch 76/100\n",
            "18/18 [==============================] - 0s 6ms/step - loss: 115.7740 - val_loss: 619.5612\n",
            "INFO:tensorflow:Assets written to: model_experiments/model_5_lstm/assets\n",
            "Epoch 77/100\n",
            "18/18 [==============================] - 0s 6ms/step - loss: 116.0982 - val_loss: 676.6537\n",
            "Epoch 78/100\n",
            "18/18 [==============================] - 0s 7ms/step - loss: 117.8428 - val_loss: 638.4432\n",
            "Epoch 79/100\n",
            "18/18 [==============================] - 0s 7ms/step - loss: 114.5818 - val_loss: 615.1121\n",
            "INFO:tensorflow:Assets written to: model_experiments/model_5_lstm/assets\n",
            "Epoch 80/100\n",
            "18/18 [==============================] - 0s 6ms/step - loss: 113.7328 - val_loss: 627.4662\n",
            "Epoch 81/100\n",
            "18/18 [==============================] - 0s 6ms/step - loss: 113.7289 - val_loss: 633.0526\n",
            "Epoch 82/100\n",
            "18/18 [==============================] - 0s 6ms/step - loss: 116.9833 - val_loss: 627.6213\n",
            "Epoch 83/100\n",
            "18/18 [==============================] - 0s 6ms/step - loss: 113.7818 - val_loss: 646.7040\n",
            "Epoch 84/100\n",
            "18/18 [==============================] - 0s 6ms/step - loss: 116.0995 - val_loss: 634.6423\n",
            "Epoch 85/100\n",
            "18/18 [==============================] - 0s 6ms/step - loss: 115.7939 - val_loss: 626.9783\n",
            "Epoch 86/100\n",
            "18/18 [==============================] - 0s 7ms/step - loss: 116.1706 - val_loss: 615.6919\n",
            "Epoch 87/100\n",
            "18/18 [==============================] - 0s 6ms/step - loss: 112.9052 - val_loss: 610.0921\n",
            "INFO:tensorflow:Assets written to: model_experiments/model_5_lstm/assets\n",
            "Epoch 88/100\n",
            "18/18 [==============================] - 0s 6ms/step - loss: 112.7499 - val_loss: 607.0144\n",
            "INFO:tensorflow:Assets written to: model_experiments/model_5_lstm/assets\n",
            "Epoch 89/100\n",
            "18/18 [==============================] - 0s 6ms/step - loss: 112.3718 - val_loss: 634.9384\n",
            "Epoch 90/100\n",
            "18/18 [==============================] - 0s 6ms/step - loss: 117.4136 - val_loss: 640.5466\n",
            "Epoch 91/100\n",
            "18/18 [==============================] - 0s 7ms/step - loss: 115.2679 - val_loss: 623.8540\n",
            "Epoch 92/100\n",
            "18/18 [==============================] - 0s 6ms/step - loss: 113.5989 - val_loss: 612.2767\n",
            "Epoch 93/100\n",
            "18/18 [==============================] - 0s 6ms/step - loss: 113.3057 - val_loss: 602.9005\n",
            "INFO:tensorflow:Assets written to: model_experiments/model_5_lstm/assets\n",
            "Epoch 94/100\n",
            "18/18 [==============================] - 0s 6ms/step - loss: 111.8213 - val_loss: 606.6011\n",
            "Epoch 95/100\n",
            "18/18 [==============================] - 0s 7ms/step - loss: 111.7478 - val_loss: 600.6985\n",
            "INFO:tensorflow:Assets written to: model_experiments/model_5_lstm/assets\n",
            "Epoch 96/100\n",
            "18/18 [==============================] - 0s 6ms/step - loss: 113.2104 - val_loss: 606.9620\n",
            "Epoch 97/100\n",
            "18/18 [==============================] - 0s 6ms/step - loss: 111.9565 - val_loss: 614.7238\n",
            "Epoch 98/100\n",
            "18/18 [==============================] - 0s 7ms/step - loss: 112.5009 - val_loss: 601.0434\n",
            "Epoch 99/100\n",
            "18/18 [==============================] - 0s 6ms/step - loss: 111.3801 - val_loss: 598.6812\n",
            "INFO:tensorflow:Assets written to: model_experiments/model_5_lstm/assets\n",
            "Epoch 100/100\n",
            "18/18 [==============================] - 0s 6ms/step - loss: 112.7538 - val_loss: 601.1650\n"
          ],
          "name": "stdout"
        },
        {
          "output_type": "execute_result",
          "data": {
            "text/plain": [
              "<keras.callbacks.History at 0x7f8f21be1ed0>"
            ]
          },
          "metadata": {},
          "execution_count": 109
        }
      ]
    },
    {
      "cell_type": "code",
      "metadata": {
        "colab": {
          "base_uri": "https://localhost:8080/"
        },
        "id": "TwTMkAiS4s0a",
        "outputId": "5232d196-e6ac-4f2c-d83a-010b0246d45d"
      },
      "source": [
        "model_5.evaluate(test_windows, test_labels)"
      ],
      "execution_count": 110,
      "outputs": [
        {
          "output_type": "stream",
          "text": [
            "18/18 [==============================] - 0s 2ms/step - loss: 601.1651\n"
          ],
          "name": "stdout"
        },
        {
          "output_type": "execute_result",
          "data": {
            "text/plain": [
              "601.1651000976562"
            ]
          },
          "metadata": {},
          "execution_count": 110
        }
      ]
    },
    {
      "cell_type": "code",
      "metadata": {
        "colab": {
          "base_uri": "https://localhost:8080/"
        },
        "id": "SJypGEul-ex4",
        "outputId": "5fcf2e97-e1a3-4984-8adb-28fec81b9a98"
      },
      "source": [
        "# Get the best performing model 5 and evaluate on test data\n",
        "model_5 = tf.keras.models.load_model(\"model_experiments/model_5_lstm/\")\n",
        "model_5.evaluate(test_windows, test_labels)"
      ],
      "execution_count": 111,
      "outputs": [
        {
          "output_type": "stream",
          "text": [
            "WARNING:tensorflow:Layer lstm will not use cuDNN kernels since it doesn't meet the criteria. It will use a generic GPU kernel as fallback when running on GPU.\n",
            "18/18 [==============================] - 0s 2ms/step - loss: 598.6813\n"
          ],
          "name": "stdout"
        },
        {
          "output_type": "execute_result",
          "data": {
            "text/plain": [
              "598.6813354492188"
            ]
          },
          "metadata": {},
          "execution_count": 111
        }
      ]
    },
    {
      "cell_type": "code",
      "metadata": {
        "colab": {
          "base_uri": "https://localhost:8080/"
        },
        "id": "EWGU7sLX-2sG",
        "outputId": "8769bcd1-7034-4ce7-8997-25d8e701a5bf"
      },
      "source": [
        "# Make prediction with our LSTM model\n",
        "model_5_preds = make_preds(model_5, input_data= test_windows)\n",
        "model_5_preds[:5]"
      ],
      "execution_count": 112,
      "outputs": [
        {
          "output_type": "execute_result",
          "data": {
            "text/plain": [
              "<tf.Tensor: shape=(5,), dtype=float32, numpy=array([8990.325, 8818.501, 8999.41 , 8839.997, 8732.248], dtype=float32)>"
            ]
          },
          "metadata": {},
          "execution_count": 112
        }
      ]
    },
    {
      "cell_type": "code",
      "metadata": {
        "colab": {
          "base_uri": "https://localhost:8080/"
        },
        "id": "HsTFC8jt_Gvu",
        "outputId": "6dfcc584-779c-49b8-fcec-6f64fd588dcf"
      },
      "source": [
        "# Evaluate model 5 predictions\n",
        "model_5_results = evaluate_preds(y_true = tf.squeeze(test_labels),\n",
        "                                 y_pred = model_5_preds)\n",
        "model_5_results"
      ],
      "execution_count": 113,
      "outputs": [
        {
          "output_type": "execute_result",
          "data": {
            "text/plain": [
              "{'mae': 598.6813,\n",
              " 'mape': 2.6928957,\n",
              " 'mase': 1.0517172,\n",
              " 'mse': 1280250.8,\n",
              " 'rmse': 1131.4817}"
            ]
          },
          "metadata": {},
          "execution_count": 113
        }
      ]
    },
    {
      "cell_type": "code",
      "metadata": {
        "colab": {
          "base_uri": "https://localhost:8080/"
        },
        "id": "FZihAugrASiM",
        "outputId": "56c01b53-49b8-40c0-fb14-775511dbd4d3"
      },
      "source": [
        "model_1_results"
      ],
      "execution_count": 114,
      "outputs": [
        {
          "output_type": "execute_result",
          "data": {
            "text/plain": [
              "{'mae': 568.9511,\n",
              " 'mape': 2.5448983,\n",
              " 'mase': 0.99948955,\n",
              " 'mse': 1171743.8,\n",
              " 'rmse': 1082.4712}"
            ]
          },
          "metadata": {},
          "execution_count": 114
        }
      ]
    },
    {
      "cell_type": "markdown",
      "metadata": {
        "id": "-M1X7wgFBzms"
      },
      "source": [
        "**Note** : Because neural networks are such powerful algorithms, they can be used for almost any problem, however that doesn't mean they'll achieve performant or usable results. You're probably starting to clue onto this now."
      ]
    },
    {
      "cell_type": "markdown",
      "metadata": {
        "id": "O6cyHMa1A2cN"
      },
      "source": [
        "## Make a multivariate time-series dataset\n",
        "\n",
        "Before we add a feature to our time series, what is a feature we can use?\n",
        "\n",
        "One feature we could add is whether or not Daniel Bourke  or Elon Musk ( :) )tweeted on that day ...\n",
        "\n",
        "* day 1 - 0\n",
        "* day 2 - 1\n",
        "* day 3 - 0\n",
        "\n",
        "What's better feature to use ?\n",
        "\n",
        "\n",
        "How about the bitcoin halving events?\n",
        "https://www.cmcmarkets.com/en/learn-cryptocurrencies/bitcoin-halving"
      ]
    },
    {
      "cell_type": "code",
      "metadata": {
        "colab": {
          "base_uri": "https://localhost:8080/",
          "height": 235
        },
        "id": "UQZNxpITOPVH",
        "outputId": "5548fc8e-ebe7-49f5-fdd3-988af1b4dfcb"
      },
      "source": [
        "bitcoin_prices.head()"
      ],
      "execution_count": 115,
      "outputs": [
        {
          "output_type": "execute_result",
          "data": {
            "text/html": [
              "<div>\n",
              "<style scoped>\n",
              "    .dataframe tbody tr th:only-of-type {\n",
              "        vertical-align: middle;\n",
              "    }\n",
              "\n",
              "    .dataframe tbody tr th {\n",
              "        vertical-align: top;\n",
              "    }\n",
              "\n",
              "    .dataframe thead th {\n",
              "        text-align: right;\n",
              "    }\n",
              "</style>\n",
              "<table border=\"1\" class=\"dataframe\">\n",
              "  <thead>\n",
              "    <tr style=\"text-align: right;\">\n",
              "      <th></th>\n",
              "      <th>Price</th>\n",
              "    </tr>\n",
              "    <tr>\n",
              "      <th>Date</th>\n",
              "      <th></th>\n",
              "    </tr>\n",
              "  </thead>\n",
              "  <tbody>\n",
              "    <tr>\n",
              "      <th>2013-10-01</th>\n",
              "      <td>123.65499</td>\n",
              "    </tr>\n",
              "    <tr>\n",
              "      <th>2013-10-02</th>\n",
              "      <td>125.45500</td>\n",
              "    </tr>\n",
              "    <tr>\n",
              "      <th>2013-10-03</th>\n",
              "      <td>108.58483</td>\n",
              "    </tr>\n",
              "    <tr>\n",
              "      <th>2013-10-04</th>\n",
              "      <td>118.67466</td>\n",
              "    </tr>\n",
              "    <tr>\n",
              "      <th>2013-10-05</th>\n",
              "      <td>121.33866</td>\n",
              "    </tr>\n",
              "  </tbody>\n",
              "</table>\n",
              "</div>"
            ],
            "text/plain": [
              "                Price\n",
              "Date                 \n",
              "2013-10-01  123.65499\n",
              "2013-10-02  125.45500\n",
              "2013-10-03  108.58483\n",
              "2013-10-04  118.67466\n",
              "2013-10-05  121.33866"
            ]
          },
          "metadata": {},
          "execution_count": 115
        }
      ]
    },
    {
      "cell_type": "code",
      "metadata": {
        "id": "xxiOd61RD1Uo"
      },
      "source": [
        "# Let's add the bitcoin halving to the dataset\n",
        "\n",
        "block_reward_1 = 50 # 3 January  2009 - this block reward isn't in our dataset (our dataset start from 2013 Oct 01)\n",
        "block_reward_2 = 25 # 28 November 2012\n",
        "block_reward_3 = 12.5 # 9 July 2016 \n",
        "block_reward_4 = 6.25 # 18 May 2020\n",
        "\n",
        "# Block reward dates\n",
        "block_reward_2_datetime = np.datetime64(\"2012-11-28\")\n",
        "block_reward_3_datetime = np.datetime64(\"2016-07-09\")\n",
        "block_reward_4_datetime = np.datetime64(\"2020-05-18\")"
      ],
      "execution_count": 116,
      "outputs": []
    },
    {
      "cell_type": "code",
      "metadata": {
        "colab": {
          "base_uri": "https://localhost:8080/"
        },
        "id": "0PYzYkqtPcDl",
        "outputId": "9c2feba7-2c55-416e-b76d-724dd074711e"
      },
      "source": [
        "# Create date ranges of where specific block_reward values should be \n",
        "block_reward_2_days = (block_reward_3_datetime - bitcoin_prices.index[0]).days\n",
        "block_reward_3_days = (block_reward_4_datetime - bitcoin_prices.index[0]).days\n",
        "block_reward_2_days, block_reward_3_days"
      ],
      "execution_count": 117,
      "outputs": [
        {
          "output_type": "execute_result",
          "data": {
            "text/plain": [
              "(1012, 2421)"
            ]
          },
          "metadata": {},
          "execution_count": 117
        }
      ]
    },
    {
      "cell_type": "code",
      "metadata": {
        "id": "-UpnBBgtQevk"
      },
      "source": [
        "# Add in block_reward column\n",
        "bitcoin_prices_block = bitcoin_prices.copy()\n",
        "bitcoin_prices_block[\"block_reward\"] = None\n",
        "\n",
        "# Add in block reward values as a feature to our dataframe\n",
        "bitcoin_prices_block.iloc[:block_reward_2_days, -1] = block_reward_2\n",
        "bitcoin_prices_block.iloc[block_reward_2_days : block_reward_3_days, -1] = block_reward_3\n",
        "bitcoin_prices_block.iloc[block_reward_3_days :, -1] = block_reward_4"
      ],
      "execution_count": 118,
      "outputs": []
    },
    {
      "cell_type": "code",
      "metadata": {
        "colab": {
          "base_uri": "https://localhost:8080/",
          "height": 235
        },
        "id": "6qMkaIEpPJfe",
        "outputId": "afabcf76-569b-427b-ff63-bb0ea90ef1c8"
      },
      "source": [
        "bitcoin_prices_block.head()"
      ],
      "execution_count": 119,
      "outputs": [
        {
          "output_type": "execute_result",
          "data": {
            "text/html": [
              "<div>\n",
              "<style scoped>\n",
              "    .dataframe tbody tr th:only-of-type {\n",
              "        vertical-align: middle;\n",
              "    }\n",
              "\n",
              "    .dataframe tbody tr th {\n",
              "        vertical-align: top;\n",
              "    }\n",
              "\n",
              "    .dataframe thead th {\n",
              "        text-align: right;\n",
              "    }\n",
              "</style>\n",
              "<table border=\"1\" class=\"dataframe\">\n",
              "  <thead>\n",
              "    <tr style=\"text-align: right;\">\n",
              "      <th></th>\n",
              "      <th>Price</th>\n",
              "      <th>block_reward</th>\n",
              "    </tr>\n",
              "    <tr>\n",
              "      <th>Date</th>\n",
              "      <th></th>\n",
              "      <th></th>\n",
              "    </tr>\n",
              "  </thead>\n",
              "  <tbody>\n",
              "    <tr>\n",
              "      <th>2013-10-01</th>\n",
              "      <td>123.65499</td>\n",
              "      <td>25</td>\n",
              "    </tr>\n",
              "    <tr>\n",
              "      <th>2013-10-02</th>\n",
              "      <td>125.45500</td>\n",
              "      <td>25</td>\n",
              "    </tr>\n",
              "    <tr>\n",
              "      <th>2013-10-03</th>\n",
              "      <td>108.58483</td>\n",
              "      <td>25</td>\n",
              "    </tr>\n",
              "    <tr>\n",
              "      <th>2013-10-04</th>\n",
              "      <td>118.67466</td>\n",
              "      <td>25</td>\n",
              "    </tr>\n",
              "    <tr>\n",
              "      <th>2013-10-05</th>\n",
              "      <td>121.33866</td>\n",
              "      <td>25</td>\n",
              "    </tr>\n",
              "  </tbody>\n",
              "</table>\n",
              "</div>"
            ],
            "text/plain": [
              "                Price block_reward\n",
              "Date                              \n",
              "2013-10-01  123.65499           25\n",
              "2013-10-02  125.45500           25\n",
              "2013-10-03  108.58483           25\n",
              "2013-10-04  118.67466           25\n",
              "2013-10-05  121.33866           25"
            ]
          },
          "metadata": {},
          "execution_count": 119
        }
      ]
    },
    {
      "cell_type": "code",
      "metadata": {
        "colab": {
          "base_uri": "https://localhost:8080/",
          "height": 235
        },
        "id": "vIcqohncQ79V",
        "outputId": "d943a7a7-545b-4bb6-8ac8-aaabc33542fc"
      },
      "source": [
        "bitcoin_prices_block.tail()"
      ],
      "execution_count": 120,
      "outputs": [
        {
          "output_type": "execute_result",
          "data": {
            "text/html": [
              "<div>\n",
              "<style scoped>\n",
              "    .dataframe tbody tr th:only-of-type {\n",
              "        vertical-align: middle;\n",
              "    }\n",
              "\n",
              "    .dataframe tbody tr th {\n",
              "        vertical-align: top;\n",
              "    }\n",
              "\n",
              "    .dataframe thead th {\n",
              "        text-align: right;\n",
              "    }\n",
              "</style>\n",
              "<table border=\"1\" class=\"dataframe\">\n",
              "  <thead>\n",
              "    <tr style=\"text-align: right;\">\n",
              "      <th></th>\n",
              "      <th>Price</th>\n",
              "      <th>block_reward</th>\n",
              "    </tr>\n",
              "    <tr>\n",
              "      <th>Date</th>\n",
              "      <th></th>\n",
              "      <th></th>\n",
              "    </tr>\n",
              "  </thead>\n",
              "  <tbody>\n",
              "    <tr>\n",
              "      <th>2021-05-14</th>\n",
              "      <td>49764.132082</td>\n",
              "      <td>6.25</td>\n",
              "    </tr>\n",
              "    <tr>\n",
              "      <th>2021-05-15</th>\n",
              "      <td>50032.693137</td>\n",
              "      <td>6.25</td>\n",
              "    </tr>\n",
              "    <tr>\n",
              "      <th>2021-05-16</th>\n",
              "      <td>47885.625255</td>\n",
              "      <td>6.25</td>\n",
              "    </tr>\n",
              "    <tr>\n",
              "      <th>2021-05-17</th>\n",
              "      <td>45604.615754</td>\n",
              "      <td>6.25</td>\n",
              "    </tr>\n",
              "    <tr>\n",
              "      <th>2021-05-18</th>\n",
              "      <td>43144.471291</td>\n",
              "      <td>6.25</td>\n",
              "    </tr>\n",
              "  </tbody>\n",
              "</table>\n",
              "</div>"
            ],
            "text/plain": [
              "                   Price block_reward\n",
              "Date                                 \n",
              "2021-05-14  49764.132082         6.25\n",
              "2021-05-15  50032.693137         6.25\n",
              "2021-05-16  47885.625255         6.25\n",
              "2021-05-17  45604.615754         6.25\n",
              "2021-05-18  43144.471291         6.25"
            ]
          },
          "metadata": {},
          "execution_count": 120
        }
      ]
    },
    {
      "cell_type": "code",
      "metadata": {
        "colab": {
          "base_uri": "https://localhost:8080/",
          "height": 442
        },
        "id": "VKoBYVN_R2LT",
        "outputId": "eec3fb12-00bd-44f1-b156-d130d9701843"
      },
      "source": [
        "# Plot the block reward vs price over time.\n",
        "from sklearn.preprocessing import minmax_scale\n",
        "scaled_price_block_df = pd.DataFrame(minmax_scale(bitcoin_prices_block[[\"Price\", \"block_reward\"]]),\n",
        "                                            columns = bitcoin_prices_block.columns,\n",
        "                                     index = bitcoin_prices_block.index)\n",
        "scaled_price_block_df.plot(figsize = (10, 7));"
      ],
      "execution_count": 121,
      "outputs": [
        {
          "output_type": "display_data",
          "data": {
            "image/png": "[encoded data removed]",
            "text/plain": [
              "<Figure size 720x504 with 1 Axes>"
            ]
          },
          "metadata": {
            "needs_background": "light"
          }
        }
      ]
    },
    {
      "cell_type": "code",
      "metadata": {
        "colab": {
          "base_uri": "https://localhost:8080/",
          "height": 235
        },
        "id": "oMRyTJndT82C",
        "outputId": "f317777f-124b-44ca-f22d-b7e974114661"
      },
      "source": [
        "scaled_price_block_df.head()"
      ],
      "execution_count": 122,
      "outputs": [
        {
          "output_type": "execute_result",
          "data": {
            "text/html": [
              "<div>\n",
              "<style scoped>\n",
              "    .dataframe tbody tr th:only-of-type {\n",
              "        vertical-align: middle;\n",
              "    }\n",
              "\n",
              "    .dataframe tbody tr th {\n",
              "        vertical-align: top;\n",
              "    }\n",
              "\n",
              "    .dataframe thead th {\n",
              "        text-align: right;\n",
              "    }\n",
              "</style>\n",
              "<table border=\"1\" class=\"dataframe\">\n",
              "  <thead>\n",
              "    <tr style=\"text-align: right;\">\n",
              "      <th></th>\n",
              "      <th>Price</th>\n",
              "      <th>block_reward</th>\n",
              "    </tr>\n",
              "    <tr>\n",
              "      <th>Date</th>\n",
              "      <th></th>\n",
              "      <th></th>\n",
              "    </tr>\n",
              "  </thead>\n",
              "  <tbody>\n",
              "    <tr>\n",
              "      <th>2013-10-01</th>\n",
              "      <td>0.000238</td>\n",
              "      <td>1.0</td>\n",
              "    </tr>\n",
              "    <tr>\n",
              "      <th>2013-10-02</th>\n",
              "      <td>0.000267</td>\n",
              "      <td>1.0</td>\n",
              "    </tr>\n",
              "    <tr>\n",
              "      <th>2013-10-03</th>\n",
              "      <td>0.000000</td>\n",
              "      <td>1.0</td>\n",
              "    </tr>\n",
              "    <tr>\n",
              "      <th>2013-10-04</th>\n",
              "      <td>0.000160</td>\n",
              "      <td>1.0</td>\n",
              "    </tr>\n",
              "    <tr>\n",
              "      <th>2013-10-05</th>\n",
              "      <td>0.000202</td>\n",
              "      <td>1.0</td>\n",
              "    </tr>\n",
              "  </tbody>\n",
              "</table>\n",
              "</div>"
            ],
            "text/plain": [
              "               Price  block_reward\n",
              "Date                              \n",
              "2013-10-01  0.000238           1.0\n",
              "2013-10-02  0.000267           1.0\n",
              "2013-10-03  0.000000           1.0\n",
              "2013-10-04  0.000160           1.0\n",
              "2013-10-05  0.000202           1.0"
            ]
          },
          "metadata": {},
          "execution_count": 122
        }
      ]
    },
    {
      "cell_type": "markdown",
      "metadata": {
        "id": "8hd6pxrEUGMt"
      },
      "source": [
        "## Making a windowed dataset with pandas\n",
        "\n",
        "Previously, we turned our univariate time series into windowed dataset using the helper functions above. \n",
        "\n",
        "However, since we've got multivariate data, these functions won't work.\n",
        "Not to worry, we can use `pandas.DataFrame.shift()` method to window our multivariate data.\n",
        "https://pandas.pydata.org/docs/reference/api/pandas.DataFrame.shift.html"
      ]
    },
    {
      "cell_type": "code",
      "metadata": {
        "id": "MnLiadEPUquT"
      },
      "source": [
        "# Setup dataset hyperparameters\n",
        "HORIZON = 1\n",
        "WINDOW_SIZE = 7"
      ],
      "execution_count": 123,
      "outputs": []
    },
    {
      "cell_type": "code",
      "metadata": {
        "colab": {
          "base_uri": "https://localhost:8080/",
          "height": 390
        },
        "id": "jPzZntT3VQht",
        "outputId": "cf8ef5b1-4399-4095-fb6f-c803906e9cba"
      },
      "source": [
        "# Make a copy of the Bitcoin historical data with block reward feature\n",
        "bitcoin_prices_windowed = bitcoin_prices_block.copy()\n",
        "\n",
        "# Add windowed column\n",
        "for i in range(WINDOW_SIZE) : # shift values for each step in WINDOW_SIZE\n",
        "  bitcoin_prices_windowed[f\"Price+{i+1}\"] = bitcoin_prices_windowed[\"Price\"].shift(periods = i+1)\n",
        "\n",
        "bitcoin_prices_windowed.head(10)"
      ],
      "execution_count": 124,
      "outputs": [
        {
          "output_type": "execute_result",
          "data": {
            "text/html": [
              "<div>\n",
              "<style scoped>\n",
              "    .dataframe tbody tr th:only-of-type {\n",
              "        vertical-align: middle;\n",
              "    }\n",
              "\n",
              "    .dataframe tbody tr th {\n",
              "        vertical-align: top;\n",
              "    }\n",
              "\n",
              "    .dataframe thead th {\n",
              "        text-align: right;\n",
              "    }\n",
              "</style>\n",
              "<table border=\"1\" class=\"dataframe\">\n",
              "  <thead>\n",
              "    <tr style=\"text-align: right;\">\n",
              "      <th></th>\n",
              "      <th>Price</th>\n",
              "      <th>block_reward</th>\n",
              "      <th>Price+1</th>\n",
              "      <th>Price+2</th>\n",
              "      <th>Price+3</th>\n",
              "      <th>Price+4</th>\n",
              "      <th>Price+5</th>\n",
              "      <th>Price+6</th>\n",
              "      <th>Price+7</th>\n",
              "    </tr>\n",
              "    <tr>\n",
              "      <th>Date</th>\n",
              "      <th></th>\n",
              "      <th></th>\n",
              "      <th></th>\n",
              "      <th></th>\n",
              "      <th></th>\n",
              "      <th></th>\n",
              "      <th></th>\n",
              "      <th></th>\n",
              "      <th></th>\n",
              "    </tr>\n",
              "  </thead>\n",
              "  <tbody>\n",
              "    <tr>\n",
              "      <th>2013-10-01</th>\n",
              "      <td>123.65499</td>\n",
              "      <td>25</td>\n",
              "      <td>NaN</td>\n",
              "      <td>NaN</td>\n",
              "      <td>NaN</td>\n",
              "      <td>NaN</td>\n",
              "      <td>NaN</td>\n",
              "      <td>NaN</td>\n",
              "      <td>NaN</td>\n",
              "    </tr>\n",
              "    <tr>\n",
              "      <th>2013-10-02</th>\n",
              "      <td>125.45500</td>\n",
              "      <td>25</td>\n",
              "      <td>123.65499</td>\n",
              "      <td>NaN</td>\n",
              "      <td>NaN</td>\n",
              "      <td>NaN</td>\n",
              "      <td>NaN</td>\n",
              "      <td>NaN</td>\n",
              "      <td>NaN</td>\n",
              "    </tr>\n",
              "    <tr>\n",
              "      <th>2013-10-03</th>\n",
              "      <td>108.58483</td>\n",
              "      <td>25</td>\n",
              "      <td>125.45500</td>\n",
              "      <td>123.65499</td>\n",
              "      <td>NaN</td>\n",
              "      <td>NaN</td>\n",
              "      <td>NaN</td>\n",
              "      <td>NaN</td>\n",
              "      <td>NaN</td>\n",
              "    </tr>\n",
              "    <tr>\n",
              "      <th>2013-10-04</th>\n",
              "      <td>118.67466</td>\n",
              "      <td>25</td>\n",
              "      <td>108.58483</td>\n",
              "      <td>125.45500</td>\n",
              "      <td>123.65499</td>\n",
              "      <td>NaN</td>\n",
              "      <td>NaN</td>\n",
              "      <td>NaN</td>\n",
              "      <td>NaN</td>\n",
              "    </tr>\n",
              "    <tr>\n",
              "      <th>2013-10-05</th>\n",
              "      <td>121.33866</td>\n",
              "      <td>25</td>\n",
              "      <td>118.67466</td>\n",
              "      <td>108.58483</td>\n",
              "      <td>125.45500</td>\n",
              "      <td>123.65499</td>\n",
              "      <td>NaN</td>\n",
              "      <td>NaN</td>\n",
              "      <td>NaN</td>\n",
              "    </tr>\n",
              "    <tr>\n",
              "      <th>2013-10-06</th>\n",
              "      <td>120.65533</td>\n",
              "      <td>25</td>\n",
              "      <td>121.33866</td>\n",
              "      <td>118.67466</td>\n",
              "      <td>108.58483</td>\n",
              "      <td>125.45500</td>\n",
              "      <td>123.65499</td>\n",
              "      <td>NaN</td>\n",
              "      <td>NaN</td>\n",
              "    </tr>\n",
              "    <tr>\n",
              "      <th>2013-10-07</th>\n",
              "      <td>121.79500</td>\n",
              "      <td>25</td>\n",
              "      <td>120.65533</td>\n",
              "      <td>121.33866</td>\n",
              "      <td>118.67466</td>\n",
              "      <td>108.58483</td>\n",
              "      <td>125.45500</td>\n",
              "      <td>123.65499</td>\n",
              "      <td>NaN</td>\n",
              "    </tr>\n",
              "    <tr>\n",
              "      <th>2013-10-08</th>\n",
              "      <td>123.03300</td>\n",
              "      <td>25</td>\n",
              "      <td>121.79500</td>\n",
              "      <td>120.65533</td>\n",
              "      <td>121.33866</td>\n",
              "      <td>118.67466</td>\n",
              "      <td>108.58483</td>\n",
              "      <td>125.45500</td>\n",
              "      <td>123.65499</td>\n",
              "    </tr>\n",
              "    <tr>\n",
              "      <th>2013-10-09</th>\n",
              "      <td>124.04900</td>\n",
              "      <td>25</td>\n",
              "      <td>123.03300</td>\n",
              "      <td>121.79500</td>\n",
              "      <td>120.65533</td>\n",
              "      <td>121.33866</td>\n",
              "      <td>118.67466</td>\n",
              "      <td>108.58483</td>\n",
              "      <td>125.45500</td>\n",
              "    </tr>\n",
              "    <tr>\n",
              "      <th>2013-10-10</th>\n",
              "      <td>125.96116</td>\n",
              "      <td>25</td>\n",
              "      <td>124.04900</td>\n",
              "      <td>123.03300</td>\n",
              "      <td>121.79500</td>\n",
              "      <td>120.65533</td>\n",
              "      <td>121.33866</td>\n",
              "      <td>118.67466</td>\n",
              "      <td>108.58483</td>\n",
              "    </tr>\n",
              "  </tbody>\n",
              "</table>\n",
              "</div>"
            ],
            "text/plain": [
              "                Price block_reward    Price+1  ...    Price+5    Price+6    Price+7\n",
              "Date                                           ...                                 \n",
              "2013-10-01  123.65499           25        NaN  ...        NaN        NaN        NaN\n",
              "2013-10-02  125.45500           25  123.65499  ...        NaN        NaN        NaN\n",
              "2013-10-03  108.58483           25  125.45500  ...        NaN        NaN        NaN\n",
              "2013-10-04  118.67466           25  108.58483  ...        NaN        NaN        NaN\n",
              "2013-10-05  121.33866           25  118.67466  ...        NaN        NaN        NaN\n",
              "2013-10-06  120.65533           25  121.33866  ...  123.65499        NaN        NaN\n",
              "2013-10-07  121.79500           25  120.65533  ...  125.45500  123.65499        NaN\n",
              "2013-10-08  123.03300           25  121.79500  ...  108.58483  125.45500  123.65499\n",
              "2013-10-09  124.04900           25  123.03300  ...  118.67466  108.58483  125.45500\n",
              "2013-10-10  125.96116           25  124.04900  ...  121.33866  118.67466  108.58483\n",
              "\n",
              "[10 rows x 9 columns]"
            ]
          },
          "metadata": {},
          "execution_count": 124
        }
      ]
    },
    {
      "cell_type": "markdown",
      "metadata": {
        "id": "pUw1gtb1WhLT"
      },
      "source": [
        "What we've done is created a way to window our dataset directly from a pandas dataframe.\n",
        "\n",
        "```\n",
        "[0, 1, 2, 3, 4, 5, 6, block_reward] -> [7]\n",
        "[1, 2, 3, 4, 5, 6, 7, block_reward] -> [8]\n",
        "[2, 3, 4, 5, 6, 7, 8, block_reward] -> [9]\n",
        "```"
      ]
    },
    {
      "cell_type": "code",
      "metadata": {
        "colab": {
          "base_uri": "https://localhost:8080/",
          "height": 235
        },
        "id": "r6fgfBHTVrva",
        "outputId": "eeba2f57-0740-4fe5-ee53-1f3f92bc35fb"
      },
      "source": [
        "# Create X (windows) and y(horizons) features\n",
        "X = bitcoin_prices_windowed.dropna().drop(\"Price\", axis = 1).astype(np.float32)\n",
        "y = bitcoin_prices_windowed.dropna()[\"Price\"].astype(np.float32)\n",
        "\n",
        "X.head()"
      ],
      "execution_count": 125,
      "outputs": [
        {
          "output_type": "execute_result",
          "data": {
            "text/html": [
              "<div>\n",
              "<style scoped>\n",
              "    .dataframe tbody tr th:only-of-type {\n",
              "        vertical-align: middle;\n",
              "    }\n",
              "\n",
              "    .dataframe tbody tr th {\n",
              "        vertical-align: top;\n",
              "    }\n",
              "\n",
              "    .dataframe thead th {\n",
              "        text-align: right;\n",
              "    }\n",
              "</style>\n",
              "<table border=\"1\" class=\"dataframe\">\n",
              "  <thead>\n",
              "    <tr style=\"text-align: right;\">\n",
              "      <th></th>\n",
              "      <th>block_reward</th>\n",
              "      <th>Price+1</th>\n",
              "      <th>Price+2</th>\n",
              "      <th>Price+3</th>\n",
              "      <th>Price+4</th>\n",
              "      <th>Price+5</th>\n",
              "      <th>Price+6</th>\n",
              "      <th>Price+7</th>\n",
              "    </tr>\n",
              "    <tr>\n",
              "      <th>Date</th>\n",
              "      <th></th>\n",
              "      <th></th>\n",
              "      <th></th>\n",
              "      <th></th>\n",
              "      <th></th>\n",
              "      <th></th>\n",
              "      <th></th>\n",
              "      <th></th>\n",
              "    </tr>\n",
              "  </thead>\n",
              "  <tbody>\n",
              "    <tr>\n",
              "      <th>2013-10-08</th>\n",
              "      <td>25.0</td>\n",
              "      <td>121.794998</td>\n",
              "      <td>120.655327</td>\n",
              "      <td>121.338661</td>\n",
              "      <td>118.674660</td>\n",
              "      <td>108.584831</td>\n",
              "      <td>125.455002</td>\n",
              "      <td>123.654991</td>\n",
              "    </tr>\n",
              "    <tr>\n",
              "      <th>2013-10-09</th>\n",
              "      <td>25.0</td>\n",
              "      <td>123.032997</td>\n",
              "      <td>121.794998</td>\n",
              "      <td>120.655327</td>\n",
              "      <td>121.338661</td>\n",
              "      <td>118.674660</td>\n",
              "      <td>108.584831</td>\n",
              "      <td>125.455002</td>\n",
              "    </tr>\n",
              "    <tr>\n",
              "      <th>2013-10-10</th>\n",
              "      <td>25.0</td>\n",
              "      <td>124.049004</td>\n",
              "      <td>123.032997</td>\n",
              "      <td>121.794998</td>\n",
              "      <td>120.655327</td>\n",
              "      <td>121.338661</td>\n",
              "      <td>118.674660</td>\n",
              "      <td>108.584831</td>\n",
              "    </tr>\n",
              "    <tr>\n",
              "      <th>2013-10-11</th>\n",
              "      <td>25.0</td>\n",
              "      <td>125.961159</td>\n",
              "      <td>124.049004</td>\n",
              "      <td>123.032997</td>\n",
              "      <td>121.794998</td>\n",
              "      <td>120.655327</td>\n",
              "      <td>121.338661</td>\n",
              "      <td>118.674660</td>\n",
              "    </tr>\n",
              "    <tr>\n",
              "      <th>2013-10-12</th>\n",
              "      <td>25.0</td>\n",
              "      <td>125.279663</td>\n",
              "      <td>125.961159</td>\n",
              "      <td>124.049004</td>\n",
              "      <td>123.032997</td>\n",
              "      <td>121.794998</td>\n",
              "      <td>120.655327</td>\n",
              "      <td>121.338661</td>\n",
              "    </tr>\n",
              "  </tbody>\n",
              "</table>\n",
              "</div>"
            ],
            "text/plain": [
              "            block_reward     Price+1  ...     Price+6     Price+7\n",
              "Date                                  ...                        \n",
              "2013-10-08          25.0  121.794998  ...  125.455002  123.654991\n",
              "2013-10-09          25.0  123.032997  ...  108.584831  125.455002\n",
              "2013-10-10          25.0  124.049004  ...  118.674660  108.584831\n",
              "2013-10-11          25.0  125.961159  ...  121.338661  118.674660\n",
              "2013-10-12          25.0  125.279663  ...  120.655327  121.338661\n",
              "\n",
              "[5 rows x 8 columns]"
            ]
          },
          "metadata": {},
          "execution_count": 125
        }
      ]
    },
    {
      "cell_type": "code",
      "metadata": {
        "colab": {
          "base_uri": "https://localhost:8080/"
        },
        "id": "IQiY6G1LXfjW",
        "outputId": "606a9b2e-e8f0-4d29-bfd2-44336b87ece9"
      },
      "source": [
        "y.head()"
      ],
      "execution_count": 126,
      "outputs": [
        {
          "output_type": "execute_result",
          "data": {
            "text/plain": [
              "Date\n",
              "2013-10-08    123.032997\n",
              "2013-10-09    124.049004\n",
              "2013-10-10    125.961159\n",
              "2013-10-11    125.279663\n",
              "2013-10-12    125.927498\n",
              "Name: Price, dtype: float32"
            ]
          },
          "metadata": {},
          "execution_count": 126
        }
      ]
    },
    {
      "cell_type": "code",
      "metadata": {
        "colab": {
          "base_uri": "https://localhost:8080/"
        },
        "id": "N77NOrPgXhuI",
        "outputId": "89bc4954-1bc1-443a-ba7d-9b84acab0341"
      },
      "source": [
        "# Make train and test sets using indexing\n",
        "split_size = int(len(X) * 0.8)\n",
        "X_train, y_train = X[:split_size], y[:split_size]\n",
        "X_test, y_test = X[split_size:], y[split_size :]\n",
        "\n",
        "len(X_train), len(y_train), len(X_test), len(y_test)"
      ],
      "execution_count": 127,
      "outputs": [
        {
          "output_type": "execute_result",
          "data": {
            "text/plain": [
              "(2224, 2224, 556, 556)"
            ]
          },
          "metadata": {},
          "execution_count": 127
        }
      ]
    },
    {
      "cell_type": "code",
      "metadata": {
        "colab": {
          "base_uri": "https://localhost:8080/",
          "height": 235
        },
        "id": "ftDlkg-KYCmv",
        "outputId": "70d03a8e-2160-46fa-ae19-e075a8101fca"
      },
      "source": [
        "X_train.head()"
      ],
      "execution_count": 128,
      "outputs": [
        {
          "output_type": "execute_result",
          "data": {
            "text/html": [
              "<div>\n",
              "<style scoped>\n",
              "    .dataframe tbody tr th:only-of-type {\n",
              "        vertical-align: middle;\n",
              "    }\n",
              "\n",
              "    .dataframe tbody tr th {\n",
              "        vertical-align: top;\n",
              "    }\n",
              "\n",
              "    .dataframe thead th {\n",
              "        text-align: right;\n",
              "    }\n",
              "</style>\n",
              "<table border=\"1\" class=\"dataframe\">\n",
              "  <thead>\n",
              "    <tr style=\"text-align: right;\">\n",
              "      <th></th>\n",
              "      <th>block_reward</th>\n",
              "      <th>Price+1</th>\n",
              "      <th>Price+2</th>\n",
              "      <th>Price+3</th>\n",
              "      <th>Price+4</th>\n",
              "      <th>Price+5</th>\n",
              "      <th>Price+6</th>\n",
              "      <th>Price+7</th>\n",
              "    </tr>\n",
              "    <tr>\n",
              "      <th>Date</th>\n",
              "      <th></th>\n",
              "      <th></th>\n",
              "      <th></th>\n",
              "      <th></th>\n",
              "      <th></th>\n",
              "      <th></th>\n",
              "      <th></th>\n",
              "      <th></th>\n",
              "    </tr>\n",
              "  </thead>\n",
              "  <tbody>\n",
              "    <tr>\n",
              "      <th>2013-10-08</th>\n",
              "      <td>25.0</td>\n",
              "      <td>121.794998</td>\n",
              "      <td>120.655327</td>\n",
              "      <td>121.338661</td>\n",
              "      <td>118.674660</td>\n",
              "      <td>108.584831</td>\n",
              "      <td>125.455002</td>\n",
              "      <td>123.654991</td>\n",
              "    </tr>\n",
              "    <tr>\n",
              "      <th>2013-10-09</th>\n",
              "      <td>25.0</td>\n",
              "      <td>123.032997</td>\n",
              "      <td>121.794998</td>\n",
              "      <td>120.655327</td>\n",
              "      <td>121.338661</td>\n",
              "      <td>118.674660</td>\n",
              "      <td>108.584831</td>\n",
              "      <td>125.455002</td>\n",
              "    </tr>\n",
              "    <tr>\n",
              "      <th>2013-10-10</th>\n",
              "      <td>25.0</td>\n",
              "      <td>124.049004</td>\n",
              "      <td>123.032997</td>\n",
              "      <td>121.794998</td>\n",
              "      <td>120.655327</td>\n",
              "      <td>121.338661</td>\n",
              "      <td>118.674660</td>\n",
              "      <td>108.584831</td>\n",
              "    </tr>\n",
              "    <tr>\n",
              "      <th>2013-10-11</th>\n",
              "      <td>25.0</td>\n",
              "      <td>125.961159</td>\n",
              "      <td>124.049004</td>\n",
              "      <td>123.032997</td>\n",
              "      <td>121.794998</td>\n",
              "      <td>120.655327</td>\n",
              "      <td>121.338661</td>\n",
              "      <td>118.674660</td>\n",
              "    </tr>\n",
              "    <tr>\n",
              "      <th>2013-10-12</th>\n",
              "      <td>25.0</td>\n",
              "      <td>125.279663</td>\n",
              "      <td>125.961159</td>\n",
              "      <td>124.049004</td>\n",
              "      <td>123.032997</td>\n",
              "      <td>121.794998</td>\n",
              "      <td>120.655327</td>\n",
              "      <td>121.338661</td>\n",
              "    </tr>\n",
              "  </tbody>\n",
              "</table>\n",
              "</div>"
            ],
            "text/plain": [
              "            block_reward     Price+1  ...     Price+6     Price+7\n",
              "Date                                  ...                        \n",
              "2013-10-08          25.0  121.794998  ...  125.455002  123.654991\n",
              "2013-10-09          25.0  123.032997  ...  108.584831  125.455002\n",
              "2013-10-10          25.0  124.049004  ...  118.674660  108.584831\n",
              "2013-10-11          25.0  125.961159  ...  121.338661  118.674660\n",
              "2013-10-12          25.0  125.279663  ...  120.655327  121.338661\n",
              "\n",
              "[5 rows x 8 columns]"
            ]
          },
          "metadata": {},
          "execution_count": 128
        }
      ]
    },
    {
      "cell_type": "code",
      "metadata": {
        "colab": {
          "base_uri": "https://localhost:8080/"
        },
        "id": "BiLWnR7SYHHf",
        "outputId": "5f2feb9c-d4a5-49e9-96d6-84f29efccced"
      },
      "source": [
        "y_train.head()"
      ],
      "execution_count": 129,
      "outputs": [
        {
          "output_type": "execute_result",
          "data": {
            "text/plain": [
              "Date\n",
              "2013-10-08    123.032997\n",
              "2013-10-09    124.049004\n",
              "2013-10-10    125.961159\n",
              "2013-10-11    125.279663\n",
              "2013-10-12    125.927498\n",
              "Name: Price, dtype: float32"
            ]
          },
          "metadata": {},
          "execution_count": 129
        }
      ]
    },
    {
      "cell_type": "markdown",
      "metadata": {
        "id": "2dASF1Z1YTy1"
      },
      "source": [
        "## Model 6 : Dense(multivariate time series)\n"
      ]
    },
    {
      "cell_type": "code",
      "metadata": {
        "colab": {
          "base_uri": "https://localhost:8080/"
        },
        "id": "S25CZlF3YZYT",
        "outputId": "6ea9d1ad-8841-4294-9217-101543a64c18"
      },
      "source": [
        "tf.random.set_seed(42)\n",
        "\n",
        "# Make multivariate time series model\n",
        "model_6 = tf.keras.Sequential([\n",
        "            layers.Dense(128, activation=\"relu\"),\n",
        "            #layers.Dense(128, activation=\"relu\"),\n",
        "            layers.Dense(HORIZON)\n",
        "], name=\"model_6_dense_multivariate\")\n",
        "\n",
        "# Compile\n",
        "model_6.compile(loss=\"mae\",\n",
        "                optimizer = tf.keras.optimizers.Adam())\n",
        "\n",
        "# Fit the model\n",
        "model_6.fit(x = X_train,\n",
        "            y = y_train,\n",
        "            epochs = 100,\n",
        "            batch_size = 128,\n",
        "            verbose = 1,\n",
        "            validation_data = (X_test, y_test),\n",
        "            callbacks=[create_model_checkpoint(model_name = model_6.name)])\n"
      ],
      "execution_count": 130,
      "outputs": [
        {
          "output_type": "stream",
          "text": [
            "Epoch 1/100\n",
            "18/18 [==============================] - 0s 9ms/step - loss: 1234.6804 - val_loss: 2061.9077\n",
            "INFO:tensorflow:Assets written to: model_experiments/model_6_dense_multivariate/assets\n",
            "Epoch 2/100\n",
            "18/18 [==============================] - 0s 3ms/step - loss: 351.5053 - val_loss: 1908.6733\n",
            "INFO:tensorflow:Assets written to: model_experiments/model_6_dense_multivariate/assets\n",
            "Epoch 3/100\n",
            "18/18 [==============================] - 0s 3ms/step - loss: 235.4153 - val_loss: 1329.0585\n",
            "INFO:tensorflow:Assets written to: model_experiments/model_6_dense_multivariate/assets\n",
            "Epoch 4/100\n",
            "18/18 [==============================] - 0s 3ms/step - loss: 208.6112 - val_loss: 1102.1342\n",
            "INFO:tensorflow:Assets written to: model_experiments/model_6_dense_multivariate/assets\n",
            "Epoch 5/100\n",
            "18/18 [==============================] - 0s 3ms/step - loss: 196.5770 - val_loss: 1107.8474\n",
            "Epoch 6/100\n",
            "18/18 [==============================] - 0s 4ms/step - loss: 187.2245 - val_loss: 1036.1720\n",
            "INFO:tensorflow:Assets written to: model_experiments/model_6_dense_multivariate/assets\n",
            "Epoch 7/100\n",
            "18/18 [==============================] - 0s 3ms/step - loss: 182.0245 - val_loss: 1019.2928\n",
            "INFO:tensorflow:Assets written to: model_experiments/model_6_dense_multivariate/assets\n",
            "Epoch 8/100\n",
            "18/18 [==============================] - 0s 3ms/step - loss: 175.7059 - val_loss: 977.8488\n",
            "INFO:tensorflow:Assets written to: model_experiments/model_6_dense_multivariate/assets\n",
            "Epoch 9/100\n",
            "18/18 [==============================] - 0s 3ms/step - loss: 170.1784 - val_loss: 954.4037\n",
            "INFO:tensorflow:Assets written to: model_experiments/model_6_dense_multivariate/assets\n",
            "Epoch 10/100\n",
            "18/18 [==============================] - 0s 3ms/step - loss: 164.4430 - val_loss: 913.5148\n",
            "INFO:tensorflow:Assets written to: model_experiments/model_6_dense_multivariate/assets\n",
            "Epoch 11/100\n",
            "18/18 [==============================] - 0s 3ms/step - loss: 158.6892 - val_loss: 874.2507\n",
            "INFO:tensorflow:Assets written to: model_experiments/model_6_dense_multivariate/assets\n",
            "Epoch 12/100\n",
            "18/18 [==============================] - 0s 3ms/step - loss: 152.0732 - val_loss: 861.0418\n",
            "INFO:tensorflow:Assets written to: model_experiments/model_6_dense_multivariate/assets\n",
            "Epoch 13/100\n",
            "18/18 [==============================] - 0s 3ms/step - loss: 151.1057 - val_loss: 886.1207\n",
            "Epoch 14/100\n",
            "18/18 [==============================] - 0s 3ms/step - loss: 147.5482 - val_loss: 837.8616\n",
            "INFO:tensorflow:Assets written to: model_experiments/model_6_dense_multivariate/assets\n",
            "Epoch 15/100\n",
            "18/18 [==============================] - 0s 3ms/step - loss: 142.3497 - val_loss: 794.4788\n",
            "INFO:tensorflow:Assets written to: model_experiments/model_6_dense_multivariate/assets\n",
            "Epoch 16/100\n",
            "18/18 [==============================] - 0s 3ms/step - loss: 137.5206 - val_loss: 778.4052\n",
            "INFO:tensorflow:Assets written to: model_experiments/model_6_dense_multivariate/assets\n",
            "Epoch 17/100\n",
            "18/18 [==============================] - 0s 3ms/step - loss: 135.8190 - val_loss: 772.4532\n",
            "INFO:tensorflow:Assets written to: model_experiments/model_6_dense_multivariate/assets\n",
            "Epoch 18/100\n",
            "18/18 [==============================] - 0s 3ms/step - loss: 134.8562 - val_loss: 747.4802\n",
            "INFO:tensorflow:Assets written to: model_experiments/model_6_dense_multivariate/assets\n",
            "Epoch 19/100\n",
            "18/18 [==============================] - 0s 3ms/step - loss: 130.3347 - val_loss: 761.0554\n",
            "Epoch 20/100\n",
            "18/18 [==============================] - 0s 3ms/step - loss: 128.6775 - val_loss: 701.8977\n",
            "INFO:tensorflow:Assets written to: model_experiments/model_6_dense_multivariate/assets\n",
            "Epoch 21/100\n",
            "18/18 [==============================] - 0s 3ms/step - loss: 129.5576 - val_loss: 691.0128\n",
            "INFO:tensorflow:Assets written to: model_experiments/model_6_dense_multivariate/assets\n",
            "Epoch 22/100\n",
            "18/18 [==============================] - 0s 3ms/step - loss: 125.8060 - val_loss: 684.4119\n",
            "INFO:tensorflow:Assets written to: model_experiments/model_6_dense_multivariate/assets\n",
            "Epoch 23/100\n",
            "18/18 [==============================] - 0s 3ms/step - loss: 125.5263 - val_loss: 692.1298\n",
            "Epoch 24/100\n",
            "18/18 [==============================] - 0s 4ms/step - loss: 122.4765 - val_loss: 674.2216\n",
            "INFO:tensorflow:Assets written to: model_experiments/model_6_dense_multivariate/assets\n",
            "Epoch 25/100\n",
            "18/18 [==============================] - 0s 4ms/step - loss: 121.1171 - val_loss: 669.6441\n",
            "INFO:tensorflow:Assets written to: model_experiments/model_6_dense_multivariate/assets\n",
            "Epoch 26/100\n",
            "18/18 [==============================] - 0s 3ms/step - loss: 127.2623 - val_loss: 690.0403\n",
            "Epoch 27/100\n",
            "18/18 [==============================] - 0s 3ms/step - loss: 124.6204 - val_loss: 643.9724\n",
            "INFO:tensorflow:Assets written to: model_experiments/model_6_dense_multivariate/assets\n",
            "Epoch 28/100\n",
            "18/18 [==============================] - 0s 3ms/step - loss: 118.2544 - val_loss: 656.2767\n",
            "Epoch 29/100\n",
            "18/18 [==============================] - 0s 3ms/step - loss: 119.6374 - val_loss: 633.4547\n",
            "INFO:tensorflow:Assets written to: model_experiments/model_6_dense_multivariate/assets\n",
            "Epoch 30/100\n",
            "18/18 [==============================] - 0s 3ms/step - loss: 119.5001 - val_loss: 625.3953\n",
            "INFO:tensorflow:Assets written to: model_experiments/model_6_dense_multivariate/assets\n",
            "Epoch 31/100\n",
            "18/18 [==============================] - 0s 3ms/step - loss: 114.5633 - val_loss: 668.5064\n",
            "Epoch 32/100\n",
            "18/18 [==============================] - 0s 3ms/step - loss: 116.9750 - val_loss: 617.1061\n",
            "INFO:tensorflow:Assets written to: model_experiments/model_6_dense_multivariate/assets\n",
            "Epoch 33/100\n",
            "18/18 [==============================] - 0s 3ms/step - loss: 115.2438 - val_loss: 649.0989\n",
            "Epoch 34/100\n",
            "18/18 [==============================] - 0s 3ms/step - loss: 114.5187 - val_loss: 632.1375\n",
            "Epoch 35/100\n",
            "18/18 [==============================] - 0s 3ms/step - loss: 113.6357 - val_loss: 607.4173\n",
            "INFO:tensorflow:Assets written to: model_experiments/model_6_dense_multivariate/assets\n",
            "Epoch 36/100\n",
            "18/18 [==============================] - 0s 3ms/step - loss: 115.2605 - val_loss: 626.4319\n",
            "Epoch 37/100\n",
            "18/18 [==============================] - 0s 3ms/step - loss: 113.7020 - val_loss: 606.2318\n",
            "INFO:tensorflow:Assets written to: model_experiments/model_6_dense_multivariate/assets\n",
            "Epoch 38/100\n",
            "18/18 [==============================] - 0s 3ms/step - loss: 111.4061 - val_loss: 603.2919\n",
            "INFO:tensorflow:Assets written to: model_experiments/model_6_dense_multivariate/assets\n",
            "Epoch 39/100\n",
            "18/18 [==============================] - 0s 3ms/step - loss: 112.7722 - val_loss: 596.0060\n",
            "INFO:tensorflow:Assets written to: model_experiments/model_6_dense_multivariate/assets\n",
            "Epoch 40/100\n",
            "18/18 [==============================] - 0s 3ms/step - loss: 110.5418 - val_loss: 593.2170\n",
            "INFO:tensorflow:Assets written to: model_experiments/model_6_dense_multivariate/assets\n",
            "Epoch 41/100\n",
            "18/18 [==============================] - 0s 4ms/step - loss: 110.8671 - val_loss: 609.1062\n",
            "Epoch 42/100\n",
            "18/18 [==============================] - 0s 3ms/step - loss: 115.7249 - val_loss: 607.4877\n",
            "Epoch 43/100\n",
            "18/18 [==============================] - 0s 3ms/step - loss: 111.3313 - val_loss: 606.2029\n",
            "Epoch 44/100\n",
            "18/18 [==============================] - 0s 3ms/step - loss: 109.7027 - val_loss: 586.1215\n",
            "INFO:tensorflow:Assets written to: model_experiments/model_6_dense_multivariate/assets\n",
            "Epoch 45/100\n",
            "18/18 [==============================] - 0s 3ms/step - loss: 107.8748 - val_loss: 593.8445\n",
            "Epoch 46/100\n",
            "18/18 [==============================] - 0s 3ms/step - loss: 109.8641 - val_loss: 586.4581\n",
            "Epoch 47/100\n",
            "18/18 [==============================] - 0s 4ms/step - loss: 112.3587 - val_loss: 655.4489\n",
            "Epoch 48/100\n",
            "18/18 [==============================] - 0s 4ms/step - loss: 109.1614 - val_loss: 598.7234\n",
            "Epoch 49/100\n",
            "18/18 [==============================] - 0s 3ms/step - loss: 109.3029 - val_loss: 589.2489\n",
            "Epoch 50/100\n",
            "18/18 [==============================] - 0s 3ms/step - loss: 111.1971 - val_loss: 649.3788\n",
            "Epoch 51/100\n",
            "18/18 [==============================] - 0s 3ms/step - loss: 110.8514 - val_loss: 602.7667\n",
            "Epoch 52/100\n",
            "18/18 [==============================] - 0s 3ms/step - loss: 111.8331 - val_loss: 599.2957\n",
            "Epoch 53/100\n",
            "18/18 [==============================] - 0s 3ms/step - loss: 110.8895 - val_loss: 652.1644\n",
            "Epoch 54/100\n",
            "18/18 [==============================] - 0s 3ms/step - loss: 113.8169 - val_loss: 600.8459\n",
            "Epoch 55/100\n",
            "18/18 [==============================] - 0s 3ms/step - loss: 110.4068 - val_loss: 575.7752\n",
            "INFO:tensorflow:Assets written to: model_experiments/model_6_dense_multivariate/assets\n",
            "Epoch 56/100\n",
            "18/18 [==============================] - 0s 4ms/step - loss: 108.6609 - val_loss: 785.9749\n",
            "Epoch 57/100\n",
            "18/18 [==============================] - 0s 3ms/step - loss: 124.9823 - val_loss: 670.3782\n",
            "Epoch 58/100\n",
            "18/18 [==============================] - 0s 3ms/step - loss: 112.8591 - val_loss: 580.2877\n",
            "Epoch 59/100\n",
            "18/18 [==============================] - 0s 3ms/step - loss: 107.2513 - val_loss: 597.5082\n",
            "Epoch 60/100\n",
            "18/18 [==============================] - 0s 3ms/step - loss: 109.2322 - val_loss: 632.2958\n",
            "Epoch 61/100\n",
            "18/18 [==============================] - 0s 3ms/step - loss: 109.3519 - val_loss: 591.5412\n",
            "Epoch 62/100\n",
            "18/18 [==============================] - 0s 3ms/step - loss: 108.4084 - val_loss: 617.5801\n",
            "Epoch 63/100\n",
            "18/18 [==============================] - 0s 3ms/step - loss: 113.5326 - val_loss: 613.1476\n",
            "Epoch 64/100\n",
            "18/18 [==============================] - 0s 4ms/step - loss: 110.6625 - val_loss: 689.1802\n",
            "Epoch 65/100\n",
            "18/18 [==============================] - 0s 3ms/step - loss: 112.0475 - val_loss: 575.5540\n",
            "INFO:tensorflow:Assets written to: model_experiments/model_6_dense_multivariate/assets\n",
            "Epoch 66/100\n",
            "18/18 [==============================] - 0s 3ms/step - loss: 111.2830 - val_loss: 590.7802\n",
            "Epoch 67/100\n",
            "18/18 [==============================] - 0s 3ms/step - loss: 106.7918 - val_loss: 586.8840\n",
            "Epoch 68/100\n",
            "18/18 [==============================] - 0s 3ms/step - loss: 112.2987 - val_loss: 696.5287\n",
            "Epoch 69/100\n",
            "18/18 [==============================] - 0s 3ms/step - loss: 124.7808 - val_loss: 698.5261\n",
            "Epoch 70/100\n",
            "18/18 [==============================] - 0s 3ms/step - loss: 119.3443 - val_loss: 581.2100\n",
            "Epoch 71/100\n",
            "18/18 [==============================] - 0s 3ms/step - loss: 109.9960 - val_loss: 607.6742\n",
            "Epoch 72/100\n",
            "18/18 [==============================] - 0s 3ms/step - loss: 106.7711 - val_loss: 573.6142\n",
            "INFO:tensorflow:Assets written to: model_experiments/model_6_dense_multivariate/assets\n",
            "Epoch 73/100\n",
            "18/18 [==============================] - 0s 3ms/step - loss: 110.2485 - val_loss: 618.8947\n",
            "Epoch 74/100\n",
            "18/18 [==============================] - 0s 3ms/step - loss: 105.5330 - val_loss: 574.9452\n",
            "Epoch 75/100\n",
            "18/18 [==============================] - 0s 4ms/step - loss: 107.3177 - val_loss: 606.1979\n",
            "Epoch 76/100\n",
            "18/18 [==============================] - 0s 3ms/step - loss: 107.8084 - val_loss: 582.2403\n",
            "Epoch 77/100\n",
            "18/18 [==============================] - 0s 3ms/step - loss: 107.2528 - val_loss: 571.8563\n",
            "INFO:tensorflow:Assets written to: model_experiments/model_6_dense_multivariate/assets\n",
            "Epoch 78/100\n",
            "18/18 [==============================] - 0s 3ms/step - loss: 106.2309 - val_loss: 572.2830\n",
            "Epoch 79/100\n",
            "18/18 [==============================] - 0s 4ms/step - loss: 105.8568 - val_loss: 596.5461\n",
            "Epoch 80/100\n",
            "18/18 [==============================] - 0s 3ms/step - loss: 107.8418 - val_loss: 577.2400\n",
            "Epoch 81/100\n",
            "18/18 [==============================] - 0s 3ms/step - loss: 105.1101 - val_loss: 568.4897\n",
            "INFO:tensorflow:Assets written to: model_experiments/model_6_dense_multivariate/assets\n",
            "Epoch 82/100\n",
            "18/18 [==============================] - 0s 4ms/step - loss: 114.1867 - val_loss: 592.5609\n",
            "Epoch 83/100\n",
            "18/18 [==============================] - 0s 3ms/step - loss: 107.9631 - val_loss: 651.6213\n",
            "Epoch 84/100\n",
            "18/18 [==============================] - 0s 3ms/step - loss: 109.6690 - val_loss: 568.9340\n",
            "Epoch 85/100\n",
            "18/18 [==============================] - 0s 3ms/step - loss: 105.8219 - val_loss: 571.5334\n",
            "Epoch 86/100\n",
            "18/18 [==============================] - 0s 4ms/step - loss: 104.8628 - val_loss: 579.3859\n",
            "Epoch 87/100\n",
            "18/18 [==============================] - 0s 3ms/step - loss: 104.7148 - val_loss: 582.9178\n",
            "Epoch 88/100\n",
            "18/18 [==============================] - 0s 4ms/step - loss: 106.8899 - val_loss: 569.0820\n",
            "Epoch 89/100\n",
            "18/18 [==============================] - 0s 4ms/step - loss: 105.4376 - val_loss: 569.3439\n",
            "Epoch 90/100\n",
            "18/18 [==============================] - 0s 3ms/step - loss: 105.1583 - val_loss: 600.5422\n",
            "Epoch 91/100\n",
            "18/18 [==============================] - 0s 3ms/step - loss: 111.8188 - val_loss: 632.4727\n",
            "Epoch 92/100\n",
            "18/18 [==============================] - 0s 3ms/step - loss: 106.8183 - val_loss: 601.6358\n",
            "Epoch 93/100\n",
            "18/18 [==============================] - 0s 4ms/step - loss: 114.4035 - val_loss: 647.1910\n",
            "Epoch 94/100\n",
            "18/18 [==============================] - 0s 3ms/step - loss: 110.5867 - val_loss: 571.2924\n",
            "Epoch 95/100\n",
            "18/18 [==============================] - 0s 3ms/step - loss: 105.7926 - val_loss: 584.9744\n",
            "Epoch 96/100\n",
            "18/18 [==============================] - 0s 3ms/step - loss: 112.4480 - val_loss: 624.2061\n",
            "Epoch 97/100\n",
            "18/18 [==============================] - 0s 3ms/step - loss: 108.2609 - val_loss: 581.7926\n",
            "Epoch 98/100\n",
            "18/18 [==============================] - 0s 3ms/step - loss: 108.0625 - val_loss: 573.6556\n",
            "Epoch 99/100\n",
            "18/18 [==============================] - 0s 3ms/step - loss: 107.7017 - val_loss: 567.8899\n",
            "INFO:tensorflow:Assets written to: model_experiments/model_6_dense_multivariate/assets\n",
            "Epoch 100/100\n",
            "18/18 [==============================] - 0s 4ms/step - loss: 107.9951 - val_loss: 626.7441\n"
          ],
          "name": "stdout"
        },
        {
          "output_type": "execute_result",
          "data": {
            "text/plain": [
              "<keras.callbacks.History at 0x7f8f20454c90>"
            ]
          },
          "metadata": {},
          "execution_count": 130
        }
      ]
    },
    {
      "cell_type": "code",
      "metadata": {
        "colab": {
          "base_uri": "https://localhost:8080/"
        },
        "id": "Xy70rEaCZTyE",
        "outputId": "0472d90d-76e9-45c2-e387-88e1c8610f49"
      },
      "source": [
        "model_6.evaluate(X_test, y_test)"
      ],
      "execution_count": 131,
      "outputs": [
        {
          "output_type": "stream",
          "text": [
            "18/18 [==============================] - 0s 2ms/step - loss: 626.7440\n"
          ],
          "name": "stdout"
        },
        {
          "output_type": "execute_result",
          "data": {
            "text/plain": [
              "626.7440185546875"
            ]
          },
          "metadata": {},
          "execution_count": 131
        }
      ]
    },
    {
      "cell_type": "code",
      "metadata": {
        "colab": {
          "base_uri": "https://localhost:8080/"
        },
        "id": "gnXf9YbKZcre",
        "outputId": "c601bab0-6996-4446-fd27-8a2ab492c601"
      },
      "source": [
        "# Load in best performing model\n",
        "model_6 = tf.keras.models.load_model(\"model_experiments/model_6_dense_multivariate/\")\n",
        "model_6.evaluate(X_test, y_test)"
      ],
      "execution_count": 132,
      "outputs": [
        {
          "output_type": "stream",
          "text": [
            "18/18 [==============================] - 0s 2ms/step - loss: 567.8899\n"
          ],
          "name": "stdout"
        },
        {
          "output_type": "execute_result",
          "data": {
            "text/plain": [
              "567.889892578125"
            ]
          },
          "metadata": {},
          "execution_count": 132
        }
      ]
    },
    {
      "cell_type": "code",
      "metadata": {
        "colab": {
          "base_uri": "https://localhost:8080/"
        },
        "id": "HR0kq3NPZoNT",
        "outputId": "1e00de1a-f26a-4b65-ac21-cfcd39147ea4"
      },
      "source": [
        "# Make predictions with multivariate model\n",
        "model_6_preds = tf.squeeze(model_6.predict(X_test))\n",
        "model_6_preds[:10]"
      ],
      "execution_count": 133,
      "outputs": [
        {
          "output_type": "execute_result",
          "data": {
            "text/plain": [
              "<tf.Tensor: shape=(10,), dtype=float32, numpy=\n",
              "array([8844.684, 8769.905, 9045.17 , 8747.686, 8728.429, 8772.757,\n",
              "       8667.292, 8503.437, 8470.313, 8527.244], dtype=float32)>"
            ]
          },
          "metadata": {},
          "execution_count": 133
        }
      ]
    },
    {
      "cell_type": "code",
      "metadata": {
        "colab": {
          "base_uri": "https://localhost:8080/"
        },
        "id": "0qlJO8JOuYM-",
        "outputId": "83f3013a-dbd8-4566-fa07-c64d0754877d"
      },
      "source": [
        "# Evaluate predictions to get eval metrics\n",
        "model_6_results = evaluate_preds(y_true = y_test,\n",
        "                                 y_pred = model_6_preds)\n",
        "model_6_results"
      ],
      "execution_count": 134,
      "outputs": [
        {
          "output_type": "execute_result",
          "data": {
            "text/plain": [
              "{'mae': 567.8899,\n",
              " 'mape': 2.5460758,\n",
              " 'mase': 0.99762523,\n",
              " 'mse': 1164816.4,\n",
              " 'rmse': 1079.2666}"
            ]
          },
          "metadata": {},
          "execution_count": 134
        }
      ]
    },
    {
      "cell_type": "code",
      "metadata": {
        "colab": {
          "base_uri": "https://localhost:8080/"
        },
        "id": "hG8C3-NwwH6P",
        "outputId": "9e3323f2-46e4-447e-dfdb-9f9aaed1f8ff"
      },
      "source": [
        "model_1_results"
      ],
      "execution_count": 135,
      "outputs": [
        {
          "output_type": "execute_result",
          "data": {
            "text/plain": [
              "{'mae': 568.9511,\n",
              " 'mape': 2.5448983,\n",
              " 'mase': 0.99948955,\n",
              " 'mse': 1171743.8,\n",
              " 'rmse': 1082.4712}"
            ]
          },
          "metadata": {},
          "execution_count": 135
        }
      ]
    },
    {
      "cell_type": "code",
      "metadata": {
        "colab": {
          "base_uri": "https://localhost:8080/"
        },
        "id": "WaMOOKpJwLdC",
        "outputId": "1155c40f-6dc6-4724-d784-ac1db41d09d4"
      },
      "source": [
        "naive_results"
      ],
      "execution_count": 136,
      "outputs": [
        {
          "output_type": "execute_result",
          "data": {
            "text/plain": [
              "{'mae': 567.9802,\n",
              " 'mape': 2.516525,\n",
              " 'mase': 0.99957,\n",
              " 'mse': 1147547.0,\n",
              " 'rmse': 1071.2362}"
            ]
          },
          "metadata": {},
          "execution_count": 136
        }
      ]
    },
    {
      "cell_type": "markdown",
      "metadata": {
        "id": "u5iEQCCKwVCQ"
      },
      "source": [
        "## Model 7 : N-BEATS algorithm\n",
        "\n",
        "Let's now build the biggest baddest (though maybe not the baddest, as in, it perform really well...) time series forecasting model we've built so far.\n",
        "\n",
        "More specifically, we're going to be replicating the algorithm in Figure 1 from the following paper : https://arxiv.org/pdf/1905.10437.pdf\n",
        "\n",
        "Why ?\n",
        "* This will allow us to practice replicating a paper with TensorFlow code\n",
        "* We will see how to use TensorFlow layer subclassing (to make our own custom layers)\n",
        "* Get experience using the Functional API to create a custom architecture.\n",
        "* Potentially get state of the art results for our problem"
      ]
    },
    {
      "cell_type": "markdown",
      "metadata": {
        "id": "JURJhyDMxWA0"
      },
      "source": [
        "### Building and testing the N-BEATS block layer\n",
        "\n",
        "\n",
        "Because the N-BEATS block layer doesn't exist in TensorFlow, we've got to create it.\n",
        "\n",
        "To create custom layers and models in TensorFlow, we  can  use subclassing :\n",
        "https://www.tensorflow.org/guide/keras/custom_layers_and_models"
      ]
    },
    {
      "cell_type": "code",
      "metadata": {
        "id": "ParsULj10lzA"
      },
      "source": [
        "# Create N-Beats Block custom layer\n",
        "class NBeatsBlock(tf.keras.layers.Layer) :\n",
        "  def __init__(self,\n",
        "               input_size : int,\n",
        "               theta_size : int,\n",
        "               horizon : int, \n",
        "               n_neurons : int, \n",
        "               n_layers : int,\n",
        "               **kwargs): # the **kwargs take care of all the arguments for the parent class (input_shape, trainable, name ...)\n",
        "    super().__init__(**kwargs)\n",
        "    self.input_size = input_size\n",
        "    self.theta_size = theta_size\n",
        "    self.horizon = horizon\n",
        "    self.n_neurons = n_neurons\n",
        "    self.n_layers = n_layers\n",
        "\n",
        "    # Block contains stack of 4 fully connected layers each has ReLU activation\n",
        "    self.hidden  = [tf.keras.layers.Dense(n_neurons, activation=\"relu\") for _ in range(n_layers)]\n",
        "    #Output of block is a theta layer with linerar activation\n",
        "    self.theta_layer = tf.keras.layers.Dense(theta_size, activation=\"linear\", name=\"theta\")\n",
        "\n",
        "  def call(self, inputs) :\n",
        "    x = inputs\n",
        "    for layer in self.hidden :\n",
        "      x = layer(x)\n",
        "    theta = self.theta_layer(x)\n",
        "    # Output the backcast and forecast from theta\n",
        "    backcast, forecast = theta[:, :self.input_size], theta[:, -self.horizon:]\n",
        "    return backcast, forecast\n",
        "\n"
      ],
      "execution_count": 137,
      "outputs": []
    },
    {
      "cell_type": "markdown",
      "metadata": {
        "id": "sXFG2C7iW2J6"
      },
      "source": [
        "Let's test our NBeatsBlock class.\n",
        "To do we'll make some dummay inputs and outputs."
      ]
    },
    {
      "cell_type": "code",
      "metadata": {
        "id": "ZU3n5RU_XCgB"
      },
      "source": [
        "# Set up dummy NBeatsBlock layer to represent inputs and outputs\n",
        "tf.random.set_seed(42)\n",
        "dummy_nbeasts_block_layer = NBeatsBlock(input_size=WINDOW_SIZE,\n",
        "                                        theta_size = WINDOW_SIZE + HORIZON, # backcast + forecast\n",
        "                                        horizon = HORIZON,\n",
        "                                        n_neurons = 128,\n",
        "                                        n_layers = 4)"
      ],
      "execution_count": 141,
      "outputs": []
    },
    {
      "cell_type": "code",
      "metadata": {
        "colab": {
          "base_uri": "https://localhost:8080/"
        },
        "id": "AzeRpItBY0fN",
        "outputId": "320eacc5-e999-4fcc-a4be-ab685391a0f6"
      },
      "source": [
        "# Create dummy inputs (have to be same size as input_size)\n",
        "dummy_inputs = tf.expand_dims(tf.range(WINDOW_SIZE) +1,  axis=0) # input shaep to the model has to reflect dense layer input requirments (ndim = 2)\n",
        "dummy_inputs"
      ],
      "execution_count": 142,
      "outputs": [
        {
          "output_type": "execute_result",
          "data": {
            "text/plain": [
              "<tf.Tensor: shape=(1, 7), dtype=int32, numpy=array([[1, 2, 3, 4, 5, 6, 7]], dtype=int32)>"
            ]
          },
          "metadata": {},
          "execution_count": 142
        }
      ]
    },
    {
      "cell_type": "code",
      "metadata": {
        "colab": {
          "base_uri": "https://localhost:8080/"
        },
        "id": "Xdxmlr_TZQKv",
        "outputId": "50c2d06c-c392-4268-f9d8-7b7ee429d53f"
      },
      "source": [
        "# Pass dummy inputs to dummy NBeatsBlock layer\n",
        "backcast, forecast = dummy_nbeasts_block_layer(dummy_inputs)\n",
        "\n",
        "# These are the activation outpts of the theta layer(they'll be random due to no training of the model)\n",
        "print(f\"Backcast : {tf.squeeze(backcast.numpy())}\")\n",
        "print(f\"Forecast : {tf.squeeze(forecast.numpy())}\")"
      ],
      "execution_count": 143,
      "outputs": [
        {
          "output_type": "stream",
          "text": [
            "Backcast : [ 0.07960171  0.32512033 -0.8428683  -0.6938985  -0.31720552 -0.5698734\n",
            " -0.6396662 ]\n",
            "Forecast : 1.0071648359298706\n"
          ],
          "name": "stdout"
        }
      ]
    },
    {
      "cell_type": "markdown",
      "metadata": {
        "id": "l5-1VOXUce-Y"
      },
      "source": [
        "### Preparing data for the N-Beats algorithm using `tf.data`\n",
        "\n",
        "To make our input data load as fast as possible we're going to be adhering to the performant data pipeline steps in the tf data guide :\n",
        "https://www.tensorflow.org/guide/data_performance\n",
        "\n"
      ]
    },
    {
      "cell_type": "code",
      "metadata": {
        "id": "-1Xg4Fw7fjAI"
      },
      "source": [
        "HORIZON = 1\n",
        "WINDOW_SIZE = 7"
      ],
      "execution_count": 144,
      "outputs": []
    },
    {
      "cell_type": "code",
      "metadata": {
        "colab": {
          "base_uri": "https://localhost:8080/",
          "height": 235
        },
        "id": "m2c8X2Zgfl3q",
        "outputId": "9599bacc-5452-46d0-dfeb-884e91703888"
      },
      "source": [
        "# Create N-Beats data inputs (N-Beats work with univariate time series)\n",
        "bitcoin_prices.head()"
      ],
      "execution_count": 145,
      "outputs": [
        {
          "output_type": "execute_result",
          "data": {
            "text/html": [
              "<div>\n",
              "<style scoped>\n",
              "    .dataframe tbody tr th:only-of-type {\n",
              "        vertical-align: middle;\n",
              "    }\n",
              "\n",
              "    .dataframe tbody tr th {\n",
              "        vertical-align: top;\n",
              "    }\n",
              "\n",
              "    .dataframe thead th {\n",
              "        text-align: right;\n",
              "    }\n",
              "</style>\n",
              "<table border=\"1\" class=\"dataframe\">\n",
              "  <thead>\n",
              "    <tr style=\"text-align: right;\">\n",
              "      <th></th>\n",
              "      <th>Price</th>\n",
              "    </tr>\n",
              "    <tr>\n",
              "      <th>Date</th>\n",
              "      <th></th>\n",
              "    </tr>\n",
              "  </thead>\n",
              "  <tbody>\n",
              "    <tr>\n",
              "      <th>2013-10-01</th>\n",
              "      <td>123.65499</td>\n",
              "    </tr>\n",
              "    <tr>\n",
              "      <th>2013-10-02</th>\n",
              "      <td>125.45500</td>\n",
              "    </tr>\n",
              "    <tr>\n",
              "      <th>2013-10-03</th>\n",
              "      <td>108.58483</td>\n",
              "    </tr>\n",
              "    <tr>\n",
              "      <th>2013-10-04</th>\n",
              "      <td>118.67466</td>\n",
              "    </tr>\n",
              "    <tr>\n",
              "      <th>2013-10-05</th>\n",
              "      <td>121.33866</td>\n",
              "    </tr>\n",
              "  </tbody>\n",
              "</table>\n",
              "</div>"
            ],
            "text/plain": [
              "                Price\n",
              "Date                 \n",
              "2013-10-01  123.65499\n",
              "2013-10-02  125.45500\n",
              "2013-10-03  108.58483\n",
              "2013-10-04  118.67466\n",
              "2013-10-05  121.33866"
            ]
          },
          "metadata": {},
          "execution_count": 145
        }
      ]
    },
    {
      "cell_type": "code",
      "metadata": {
        "colab": {
          "base_uri": "https://localhost:8080/",
          "height": 235
        },
        "id": "ikG-UEFGf4Bk",
        "outputId": "67007b9b-c83a-4a7a-d487-9638f3558c95"
      },
      "source": [
        "# Add windowed column\n",
        "bitcoin_prices_nbeats = bitcoin_prices.copy()\n",
        "for i in range(WINDOW_SIZE) :\n",
        "  bitcoin_prices_nbeats[f\"Prices+{i+1}\"] = bitcoin_prices_nbeats[\"Price\"].shift(periods = i + 1)\n",
        "\n",
        "bitcoin_prices_nbeats.head()"
      ],
      "execution_count": 146,
      "outputs": [
        {
          "output_type": "execute_result",
          "data": {
            "text/html": [
              "<div>\n",
              "<style scoped>\n",
              "    .dataframe tbody tr th:only-of-type {\n",
              "        vertical-align: middle;\n",
              "    }\n",
              "\n",
              "    .dataframe tbody tr th {\n",
              "        vertical-align: top;\n",
              "    }\n",
              "\n",
              "    .dataframe thead th {\n",
              "        text-align: right;\n",
              "    }\n",
              "</style>\n",
              "<table border=\"1\" class=\"dataframe\">\n",
              "  <thead>\n",
              "    <tr style=\"text-align: right;\">\n",
              "      <th></th>\n",
              "      <th>Price</th>\n",
              "      <th>Prices+1</th>\n",
              "      <th>Prices+2</th>\n",
              "      <th>Prices+3</th>\n",
              "      <th>Prices+4</th>\n",
              "      <th>Prices+5</th>\n",
              "      <th>Prices+6</th>\n",
              "      <th>Prices+7</th>\n",
              "    </tr>\n",
              "    <tr>\n",
              "      <th>Date</th>\n",
              "      <th></th>\n",
              "      <th></th>\n",
              "      <th></th>\n",
              "      <th></th>\n",
              "      <th></th>\n",
              "      <th></th>\n",
              "      <th></th>\n",
              "      <th></th>\n",
              "    </tr>\n",
              "  </thead>\n",
              "  <tbody>\n",
              "    <tr>\n",
              "      <th>2013-10-01</th>\n",
              "      <td>123.65499</td>\n",
              "      <td>NaN</td>\n",
              "      <td>NaN</td>\n",
              "      <td>NaN</td>\n",
              "      <td>NaN</td>\n",
              "      <td>NaN</td>\n",
              "      <td>NaN</td>\n",
              "      <td>NaN</td>\n",
              "    </tr>\n",
              "    <tr>\n",
              "      <th>2013-10-02</th>\n",
              "      <td>125.45500</td>\n",
              "      <td>123.65499</td>\n",
              "      <td>NaN</td>\n",
              "      <td>NaN</td>\n",
              "      <td>NaN</td>\n",
              "      <td>NaN</td>\n",
              "      <td>NaN</td>\n",
              "      <td>NaN</td>\n",
              "    </tr>\n",
              "    <tr>\n",
              "      <th>2013-10-03</th>\n",
              "      <td>108.58483</td>\n",
              "      <td>125.45500</td>\n",
              "      <td>123.65499</td>\n",
              "      <td>NaN</td>\n",
              "      <td>NaN</td>\n",
              "      <td>NaN</td>\n",
              "      <td>NaN</td>\n",
              "      <td>NaN</td>\n",
              "    </tr>\n",
              "    <tr>\n",
              "      <th>2013-10-04</th>\n",
              "      <td>118.67466</td>\n",
              "      <td>108.58483</td>\n",
              "      <td>125.45500</td>\n",
              "      <td>123.65499</td>\n",
              "      <td>NaN</td>\n",
              "      <td>NaN</td>\n",
              "      <td>NaN</td>\n",
              "      <td>NaN</td>\n",
              "    </tr>\n",
              "    <tr>\n",
              "      <th>2013-10-05</th>\n",
              "      <td>121.33866</td>\n",
              "      <td>118.67466</td>\n",
              "      <td>108.58483</td>\n",
              "      <td>125.45500</td>\n",
              "      <td>123.65499</td>\n",
              "      <td>NaN</td>\n",
              "      <td>NaN</td>\n",
              "      <td>NaN</td>\n",
              "    </tr>\n",
              "  </tbody>\n",
              "</table>\n",
              "</div>"
            ],
            "text/plain": [
              "                Price   Prices+1   Prices+2  ...  Prices+5  Prices+6  Prices+7\n",
              "Date                                         ...                              \n",
              "2013-10-01  123.65499        NaN        NaN  ...       NaN       NaN       NaN\n",
              "2013-10-02  125.45500  123.65499        NaN  ...       NaN       NaN       NaN\n",
              "2013-10-03  108.58483  125.45500  123.65499  ...       NaN       NaN       NaN\n",
              "2013-10-04  118.67466  108.58483  125.45500  ...       NaN       NaN       NaN\n",
              "2013-10-05  121.33866  118.67466  108.58483  ...       NaN       NaN       NaN\n",
              "\n",
              "[5 rows x 8 columns]"
            ]
          },
          "metadata": {},
          "execution_count": 146
        }
      ]
    },
    {
      "cell_type": "code",
      "metadata": {
        "colab": {
          "base_uri": "https://localhost:8080/"
        },
        "id": "jzsPT6LmgXr3",
        "outputId": "34dc5fc9-da13-4209-ba66-58fa038cbc9d"
      },
      "source": [
        "# Make features and labels\n",
        "X = bitcoin_prices_nbeats.dropna().drop(\"Price\", axis=1)\n",
        "y = bitcoin_prices_nbeats.dropna()[\"Price\"] \n",
        "\n",
        "# Make train and test sets\n",
        "split_size = int (len(X) * 0.8)\n",
        "X_train, y_train = X[:split_size], y[:split_size]\n",
        "X_test, y_test = X[split_size :], y[split_size : ]\n",
        "len(X_train), len(y_train), len(X_test), len(y_test)"
      ],
      "execution_count": 147,
      "outputs": [
        {
          "output_type": "execute_result",
          "data": {
            "text/plain": [
              "(2224, 2224, 556, 556)"
            ]
          },
          "metadata": {},
          "execution_count": 147
        }
      ]
    },
    {
      "cell_type": "code",
      "metadata": {
        "id": "qa4KnfhOhGYJ"
      },
      "source": [
        "# Time to make our dataset performant using tf.data API\n",
        "\n",
        "train_features_dataset = tf.data.Dataset.from_tensor_slices(X_train)\n",
        "train_labels_dataset = tf.data.Dataset.from_tensor_slices(y_train)\n",
        "\n",
        "test_features_dataset = tf.data.Dataset.from_tensor_slices(X_test)\n",
        "test_labels_dataset = tf.data.Dataset.from_tensor_slices(y_test)\n",
        "\n",
        "# Combine labels and features by zipping together -> (fetaures, labels)\n",
        "train_dataset = tf.data.Dataset.zip((train_features_dataset, train_labels_dataset))\n",
        "test_dataset = tf.data.Dataset.zip((test_features_dataset, test_labels_dataset))\n",
        "\n",
        "# Batch and prefetch\n",
        "BATCH_SIZE = 1024\n",
        "train_dataset = train_dataset.batch(BATCH_SIZE).prefetch(tf.data.AUTOTUNE)\n",
        "test_dataset = test_dataset.batch(BATCH_SIZE).prefetch(tf.data.AUTOTUNE)"
      ],
      "execution_count": 148,
      "outputs": []
    },
    {
      "cell_type": "code",
      "metadata": {
        "colab": {
          "base_uri": "https://localhost:8080/"
        },
        "id": "Sipva9CaiuQr",
        "outputId": "497c75fb-11c2-4368-fe99-d9c7e2586e9f"
      },
      "source": [
        "len(train_dataset), len(test_dataset)"
      ],
      "execution_count": 149,
      "outputs": [
        {
          "output_type": "execute_result",
          "data": {
            "text/plain": [
              "(3, 1)"
            ]
          },
          "metadata": {},
          "execution_count": 149
        }
      ]
    },
    {
      "cell_type": "code",
      "metadata": {
        "colab": {
          "base_uri": "https://localhost:8080/"
        },
        "id": "JmqhYVToi8E4",
        "outputId": "1e1cc402-8e8c-4876-cda0-29ac5271b6eb"
      },
      "source": [
        "train_dataset, test_dataset"
      ],
      "execution_count": 153,
      "outputs": [
        {
          "output_type": "execute_result",
          "data": {
            "text/plain": [
              "(<PrefetchDataset shapes: ((None, 7), (None,)), types: (tf.float64, tf.float64)>,\n",
              " <PrefetchDataset shapes: ((None, 7), (None,)), types: (tf.float64, tf.float64)>)"
            ]
          },
          "metadata": {},
          "execution_count": 153
        }
      ]
    },
    {
      "cell_type": "markdown",
      "metadata": {
        "id": "OXj50N4rkRHh"
      },
      "source": [
        "### Setting up hyperparameters for N-BEATS algorithm\n",
        "\n",
        "The N-Beats algorithm has a fair few numbers of parameters, many of them can be found in Table 18 : https://arxiv.org/pdf/1905.10437.pdf"
      ]
    },
    {
      "cell_type": "code",
      "metadata": {
        "colab": {
          "base_uri": "https://localhost:8080/"
        },
        "id": "dL1DLx4smZ-B",
        "outputId": "6fad7894-076d-42a9-d211-d7de2ad71067"
      },
      "source": [
        "# Values from N-BEATS paper\n",
        "N_EPOCHS = 5000\n",
        "N_NEURONS = 512\n",
        "N_LAYERS  = 4\n",
        "N_STACKS = 30\n",
        "\n",
        "INPUT_SIZE = WINDOW_SIZE * HORIZON\n",
        "THETA_SIZE = INPUT_SIZE + HORIZON  # total includes forecast (Horizon) and backcast(Input_size)\n",
        "\n",
        "INPUT_SIZE, THETA_SIZE"
      ],
      "execution_count": 158,
      "outputs": [
        {
          "output_type": "execute_result",
          "data": {
            "text/plain": [
              "(7, 8)"
            ]
          },
          "metadata": {},
          "execution_count": 158
        }
      ]
    },
    {
      "cell_type": "markdown",
      "metadata": {
        "id": "6YWIf3PMoxwq"
      },
      "source": [
        "### Getting ready for residual connection\n",
        "\n",
        "Before we can craft our N-BEATS model, we need two layers for the residual connection (substract and add)\n",
        "\n",
        "The N-Beats algorithm uses double residual stacking to help train its deeper architecture (section 3.2 of N-Beats paper)\n",
        "\n",
        "> **Resources** : For more on residual connection see :\n",
        "* https://en.wikipedia.org/wiki/Residual_neural_network\n",
        "* https://en.wikipedia.org/wiki/Vanishing_gradient_problem\n",
        "* https://arxiv.org/abs/1512.03385\n",
        "* https://paperswithcode.com/method/resnet"
      ]
    },
    {
      "cell_type": "code",
      "metadata": {
        "id": "Ha8X_IHjqZKp",
        "outputId": "99d3d1fb-6992-4a16-feab-e0937b2b9875",
        "colab": {
          "base_uri": "https://localhost:8080/"
        }
      },
      "source": [
        "# Make tensors\n",
        "tensor_1 = tf.range(10) + 10\n",
        "tensor_2  = tf.range(10)\n",
        "\n",
        "#Subtract\n",
        "subtracted = layers.subtract([tensor_1, tensor_2])\n",
        "\n",
        "#Add\n",
        "added  = layers.add([tensor_1, tensor_2])\n",
        "\n",
        "# Get outputs\n",
        "print(f\"Input tensors : {tensor_1.numpy()} & {tensor_2.numpy()}\")\n",
        "print(f\"Subtracted: {subtracted.numpy()}\")\n",
        "print(f\"Added : {added.numpy()}\")"
      ],
      "execution_count": 161,
      "outputs": [
        {
          "output_type": "stream",
          "text": [
            "Input tensors : [10 11 12 13 14 15 16 17 18 19] & [0 1 2 3 4 5 6 7 8 9]\n",
            "Subtracted: [10 10 10 10 10 10 10 10 10 10]\n",
            "Added : [10 12 14 16 18 20 22 24 26 28]\n"
          ],
          "name": "stdout"
        }
      ]
    },
    {
      "cell_type": "code",
      "metadata": {
        "id": "mQolrQhXwh2L"
      },
      "source": [
        ""
      ],
      "execution_count": null,
      "outputs": []
    }
  ]
}