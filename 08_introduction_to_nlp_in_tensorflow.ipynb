{
  "nbformat": 4,
  "nbformat_minor": 0,
  "metadata": {
    "colab": {
      "name": "08_introduction_to_nlp_in_tensorflow",
      "provenance": [],
      "include_colab_link": true
    },
    "kernelspec": {
      "name": "python3",
      "display_name": "Python 3"
    },
    "language_info": {
      "name": "python"
    },
    "accelerator": "GPU"
  },
  "cells": [
    {
      "cell_type": "markdown",
      "metadata": {
        "id": "view-in-github",
        "colab_type": "text"
      },
      "source": [
        "<a href=\"https://colab.research.google.com/github/prasann25/colab/blob/main/08_introduction_to_nlp_in_tensorflow.ipynb\" target=\"_parent\"><img src=\"https://colab.research.google.com/assets/colab-badge.svg\" alt=\"Open In Colab\"/></a>"
      ]
    },
    {
      "cell_type": "markdown",
      "metadata": {
        "id": "-8fbclEDHYdu"
      },
      "source": [
        "# Introduction to NLP Fundamentals in TensorFlow\n",
        "\n",
        "NLP has the goal of deriving information out of natural language(could be sequences text or speech).\n",
        "Another common term for NLP problems is sequence to sequence problems(seq2seq)."
      ]
    },
    {
      "cell_type": "markdown",
      "metadata": {
        "id": "iotl9tC7k8U7"
      },
      "source": [
        "## Check for GPU "
      ]
    },
    {
      "cell_type": "code",
      "metadata": {
        "id": "3FjVZH_blBRM",
        "colab": {
          "base_uri": "https://localhost:8080/"
        },
        "outputId": "c5719f26-10f2-4ea4-e94f-1ab28c7527a8"
      },
      "source": [
        "!nvidia-smi -L"
      ],
      "execution_count": 1,
      "outputs": [
        {
          "output_type": "stream",
          "text": [
            "GPU 0: Tesla T4 (UUID: GPU-ac288dce-214e-2b3c-6fa3-b466ad650643)\n"
          ],
          "name": "stdout"
        }
      ]
    },
    {
      "cell_type": "markdown",
      "metadata": {
        "id": "tJueI-mTlGvR"
      },
      "source": [
        "## Get helper functions"
      ]
    },
    {
      "cell_type": "code",
      "metadata": {
        "colab": {
          "base_uri": "https://localhost:8080/"
        },
        "id": "xY5LbWNzlPNN",
        "outputId": "da4dc920-1904-47af-9f4b-43b4aa80ed72"
      },
      "source": [
        "!wget https://raw.githubusercontent.com/mrdbourke/tensorflow-deep-learning/main/extras/helper_functions.py\n",
        "\n",
        "# Import series of helper functions for the notebook\n",
        "from helper_functions import unzip_data, create_tensorboard_callback, compare_historys, plot_loss_curves"
      ],
      "execution_count": 2,
      "outputs": [
        {
          "output_type": "stream",
          "text": [
            "--2021-08-07 02:05:19--  https://raw.githubusercontent.com/mrdbourke/tensorflow-deep-learning/main/extras/helper_functions.py\n",
            "Resolving raw.githubusercontent.com (raw.githubusercontent.com)... 185.199.109.133, 185.199.110.133, 185.199.108.133, ...\n",
            "Connecting to raw.githubusercontent.com (raw.githubusercontent.com)|185.199.109.133|:443... connected.\n",
            "HTTP request sent, awaiting response... 200 OK\n",
            "Length: 10246 (10K) [text/plain]\n",
            "Saving to: ‘helper_functions.py’\n",
            "\n",
            "\rhelper_functions.py   0%[                    ]       0  --.-KB/s               \rhelper_functions.py 100%[===================>]  10.01K  --.-KB/s    in 0s      \n",
            "\n",
            "2021-08-07 02:05:19 (83.9 MB/s) - ‘helper_functions.py’ saved [10246/10246]\n",
            "\n"
          ],
          "name": "stdout"
        }
      ]
    },
    {
      "cell_type": "markdown",
      "metadata": {
        "id": "p9d3U2Stlp7z"
      },
      "source": [
        "## Get a text dataset\n",
        "\n",
        "The dataset we're going to be using is Kaggle's introduction to NLP dataset(text samples of Tweets labelled as disaster or not disaster).\n",
        "\n",
        "See the original source here : https://www.kaggle.com/c/nlp-getting-started"
      ]
    },
    {
      "cell_type": "code",
      "metadata": {
        "colab": {
          "base_uri": "https://localhost:8080/"
        },
        "id": "jexI6M-Dl9p0",
        "outputId": "5b4020af-ab3b-4c9f-e0d4-44d2168acaa8"
      },
      "source": [
        "!wget https://storage.googleapis.com/ztm_tf_course/nlp_getting_started.zip"
      ],
      "execution_count": 3,
      "outputs": [
        {
          "output_type": "stream",
          "text": [
            "--2021-08-07 02:05:21--  https://storage.googleapis.com/ztm_tf_course/nlp_getting_started.zip\n",
            "Resolving storage.googleapis.com (storage.googleapis.com)... 142.250.141.128, 142.251.2.128, 2607:f8b0:4023:c0b::80, ...\n",
            "Connecting to storage.googleapis.com (storage.googleapis.com)|142.250.141.128|:443... connected.\n",
            "HTTP request sent, awaiting response... 200 OK\n",
            "Length: 607343 (593K) [application/zip]\n",
            "Saving to: ‘nlp_getting_started.zip’\n",
            "\n",
            "\rnlp_getting_started   0%[                    ]       0  --.-KB/s               \rnlp_getting_started 100%[===================>] 593.11K  --.-KB/s    in 0.005s  \n",
            "\n",
            "2021-08-07 02:05:21 (127 MB/s) - ‘nlp_getting_started.zip’ saved [607343/607343]\n",
            "\n"
          ],
          "name": "stdout"
        }
      ]
    },
    {
      "cell_type": "code",
      "metadata": {
        "id": "xw2RJ1PvmLVw"
      },
      "source": [
        "# Unzip data\n",
        "unzip_data(\"nlp_getting_started.zip\")"
      ],
      "execution_count": 4,
      "outputs": []
    },
    {
      "cell_type": "markdown",
      "metadata": {
        "id": "tV3ckHJJmaPj"
      },
      "source": [
        "## Visualizing a text dataset\n",
        "\n",
        "To visualize our text samples, we first have to read them in , one way to do sou would be to use Python : https://realpython.com/python-csv/\n",
        "\n",
        "But I prefer to get visual straight away.\n",
        "So another way to do is to use pandas...\n",
        "\n"
      ]
    },
    {
      "cell_type": "code",
      "metadata": {
        "colab": {
          "base_uri": "https://localhost:8080/",
          "height": 204
        },
        "id": "oAYMkJOemzy2",
        "outputId": "0116a3d7-1467-4613-8711-458161a02c7e"
      },
      "source": [
        "import pandas as pd\n",
        "\n",
        "train_df = pd.read_csv(\"train.csv\")\n",
        "test_df = pd.read_csv(\"test.csv\")\n",
        "train_df.head()"
      ],
      "execution_count": 5,
      "outputs": [
        {
          "output_type": "execute_result",
          "data": {
            "text/html": [
              "<div>\n",
              "<style scoped>\n",
              "    .dataframe tbody tr th:only-of-type {\n",
              "        vertical-align: middle;\n",
              "    }\n",
              "\n",
              "    .dataframe tbody tr th {\n",
              "        vertical-align: top;\n",
              "    }\n",
              "\n",
              "    .dataframe thead th {\n",
              "        text-align: right;\n",
              "    }\n",
              "</style>\n",
              "<table border=\"1\" class=\"dataframe\">\n",
              "  <thead>\n",
              "    <tr style=\"text-align: right;\">\n",
              "      <th></th>\n",
              "      <th>id</th>\n",
              "      <th>keyword</th>\n",
              "      <th>location</th>\n",
              "      <th>text</th>\n",
              "      <th>target</th>\n",
              "    </tr>\n",
              "  </thead>\n",
              "  <tbody>\n",
              "    <tr>\n",
              "      <th>0</th>\n",
              "      <td>1</td>\n",
              "      <td>NaN</td>\n",
              "      <td>NaN</td>\n",
              "      <td>Our Deeds are the Reason of this #earthquake M...</td>\n",
              "      <td>1</td>\n",
              "    </tr>\n",
              "    <tr>\n",
              "      <th>1</th>\n",
              "      <td>4</td>\n",
              "      <td>NaN</td>\n",
              "      <td>NaN</td>\n",
              "      <td>Forest fire near La Ronge Sask. Canada</td>\n",
              "      <td>1</td>\n",
              "    </tr>\n",
              "    <tr>\n",
              "      <th>2</th>\n",
              "      <td>5</td>\n",
              "      <td>NaN</td>\n",
              "      <td>NaN</td>\n",
              "      <td>All residents asked to 'shelter in place' are ...</td>\n",
              "      <td>1</td>\n",
              "    </tr>\n",
              "    <tr>\n",
              "      <th>3</th>\n",
              "      <td>6</td>\n",
              "      <td>NaN</td>\n",
              "      <td>NaN</td>\n",
              "      <td>13,000 people receive #wildfires evacuation or...</td>\n",
              "      <td>1</td>\n",
              "    </tr>\n",
              "    <tr>\n",
              "      <th>4</th>\n",
              "      <td>7</td>\n",
              "      <td>NaN</td>\n",
              "      <td>NaN</td>\n",
              "      <td>Just got sent this photo from Ruby #Alaska as ...</td>\n",
              "      <td>1</td>\n",
              "    </tr>\n",
              "  </tbody>\n",
              "</table>\n",
              "</div>"
            ],
            "text/plain": [
              "   id keyword  ...                                               text target\n",
              "0   1     NaN  ...  Our Deeds are the Reason of this #earthquake M...      1\n",
              "1   4     NaN  ...             Forest fire near La Ronge Sask. Canada      1\n",
              "2   5     NaN  ...  All residents asked to 'shelter in place' are ...      1\n",
              "3   6     NaN  ...  13,000 people receive #wildfires evacuation or...      1\n",
              "4   7     NaN  ...  Just got sent this photo from Ruby #Alaska as ...      1\n",
              "\n",
              "[5 rows x 5 columns]"
            ]
          },
          "metadata": {
            "tags": []
          },
          "execution_count": 5
        }
      ]
    },
    {
      "cell_type": "code",
      "metadata": {
        "colab": {
          "base_uri": "https://localhost:8080/",
          "height": 204
        },
        "id": "uLt6Z1v4qfQF",
        "outputId": "6cf8f021-e153-4c75-f801-1c71bdcef8ea"
      },
      "source": [
        "# Shuffle training dataframe\n",
        "\n",
        "train_df_shuffled = train_df.sample(frac=1, random_state=42)\n",
        "train_df_shuffled.head()"
      ],
      "execution_count": 6,
      "outputs": [
        {
          "output_type": "execute_result",
          "data": {
            "text/html": [
              "<div>\n",
              "<style scoped>\n",
              "    .dataframe tbody tr th:only-of-type {\n",
              "        vertical-align: middle;\n",
              "    }\n",
              "\n",
              "    .dataframe tbody tr th {\n",
              "        vertical-align: top;\n",
              "    }\n",
              "\n",
              "    .dataframe thead th {\n",
              "        text-align: right;\n",
              "    }\n",
              "</style>\n",
              "<table border=\"1\" class=\"dataframe\">\n",
              "  <thead>\n",
              "    <tr style=\"text-align: right;\">\n",
              "      <th></th>\n",
              "      <th>id</th>\n",
              "      <th>keyword</th>\n",
              "      <th>location</th>\n",
              "      <th>text</th>\n",
              "      <th>target</th>\n",
              "    </tr>\n",
              "  </thead>\n",
              "  <tbody>\n",
              "    <tr>\n",
              "      <th>2644</th>\n",
              "      <td>3796</td>\n",
              "      <td>destruction</td>\n",
              "      <td>NaN</td>\n",
              "      <td>So you have a new weapon that can cause un-ima...</td>\n",
              "      <td>1</td>\n",
              "    </tr>\n",
              "    <tr>\n",
              "      <th>2227</th>\n",
              "      <td>3185</td>\n",
              "      <td>deluge</td>\n",
              "      <td>NaN</td>\n",
              "      <td>The f$&amp;amp;@ing things I do for #GISHWHES Just...</td>\n",
              "      <td>0</td>\n",
              "    </tr>\n",
              "    <tr>\n",
              "      <th>5448</th>\n",
              "      <td>7769</td>\n",
              "      <td>police</td>\n",
              "      <td>UK</td>\n",
              "      <td>DT @georgegalloway: RT @Galloway4Mayor: ÛÏThe...</td>\n",
              "      <td>1</td>\n",
              "    </tr>\n",
              "    <tr>\n",
              "      <th>132</th>\n",
              "      <td>191</td>\n",
              "      <td>aftershock</td>\n",
              "      <td>NaN</td>\n",
              "      <td>Aftershock back to school kick off was great. ...</td>\n",
              "      <td>0</td>\n",
              "    </tr>\n",
              "    <tr>\n",
              "      <th>6845</th>\n",
              "      <td>9810</td>\n",
              "      <td>trauma</td>\n",
              "      <td>Montgomery County, MD</td>\n",
              "      <td>in response to trauma Children of Addicts deve...</td>\n",
              "      <td>0</td>\n",
              "    </tr>\n",
              "  </tbody>\n",
              "</table>\n",
              "</div>"
            ],
            "text/plain": [
              "        id  ... target\n",
              "2644  3796  ...      1\n",
              "2227  3185  ...      0\n",
              "5448  7769  ...      1\n",
              "132    191  ...      0\n",
              "6845  9810  ...      0\n",
              "\n",
              "[5 rows x 5 columns]"
            ]
          },
          "metadata": {
            "tags": []
          },
          "execution_count": 6
        }
      ]
    },
    {
      "cell_type": "code",
      "metadata": {
        "colab": {
          "base_uri": "https://localhost:8080/",
          "height": 204
        },
        "id": "bwy-5G_BqPvB",
        "outputId": "c23d5d98-3b42-4623-e959-41aa0587c837"
      },
      "source": [
        "# What does the test dataframe look like ?\n",
        "test_df.head()"
      ],
      "execution_count": 7,
      "outputs": [
        {
          "output_type": "execute_result",
          "data": {
            "text/html": [
              "<div>\n",
              "<style scoped>\n",
              "    .dataframe tbody tr th:only-of-type {\n",
              "        vertical-align: middle;\n",
              "    }\n",
              "\n",
              "    .dataframe tbody tr th {\n",
              "        vertical-align: top;\n",
              "    }\n",
              "\n",
              "    .dataframe thead th {\n",
              "        text-align: right;\n",
              "    }\n",
              "</style>\n",
              "<table border=\"1\" class=\"dataframe\">\n",
              "  <thead>\n",
              "    <tr style=\"text-align: right;\">\n",
              "      <th></th>\n",
              "      <th>id</th>\n",
              "      <th>keyword</th>\n",
              "      <th>location</th>\n",
              "      <th>text</th>\n",
              "    </tr>\n",
              "  </thead>\n",
              "  <tbody>\n",
              "    <tr>\n",
              "      <th>0</th>\n",
              "      <td>0</td>\n",
              "      <td>NaN</td>\n",
              "      <td>NaN</td>\n",
              "      <td>Just happened a terrible car crash</td>\n",
              "    </tr>\n",
              "    <tr>\n",
              "      <th>1</th>\n",
              "      <td>2</td>\n",
              "      <td>NaN</td>\n",
              "      <td>NaN</td>\n",
              "      <td>Heard about #earthquake is different cities, s...</td>\n",
              "    </tr>\n",
              "    <tr>\n",
              "      <th>2</th>\n",
              "      <td>3</td>\n",
              "      <td>NaN</td>\n",
              "      <td>NaN</td>\n",
              "      <td>there is a forest fire at spot pond, geese are...</td>\n",
              "    </tr>\n",
              "    <tr>\n",
              "      <th>3</th>\n",
              "      <td>9</td>\n",
              "      <td>NaN</td>\n",
              "      <td>NaN</td>\n",
              "      <td>Apocalypse lighting. #Spokane #wildfires</td>\n",
              "    </tr>\n",
              "    <tr>\n",
              "      <th>4</th>\n",
              "      <td>11</td>\n",
              "      <td>NaN</td>\n",
              "      <td>NaN</td>\n",
              "      <td>Typhoon Soudelor kills 28 in China and Taiwan</td>\n",
              "    </tr>\n",
              "  </tbody>\n",
              "</table>\n",
              "</div>"
            ],
            "text/plain": [
              "   id keyword location                                               text\n",
              "0   0     NaN      NaN                 Just happened a terrible car crash\n",
              "1   2     NaN      NaN  Heard about #earthquake is different cities, s...\n",
              "2   3     NaN      NaN  there is a forest fire at spot pond, geese are...\n",
              "3   9     NaN      NaN           Apocalypse lighting. #Spokane #wildfires\n",
              "4  11     NaN      NaN      Typhoon Soudelor kills 28 in China and Taiwan"
            ]
          },
          "metadata": {
            "tags": []
          },
          "execution_count": 7
        }
      ]
    },
    {
      "cell_type": "code",
      "metadata": {
        "colab": {
          "base_uri": "https://localhost:8080/"
        },
        "id": "hf61kpvLrsuW",
        "outputId": "28027146-c3ea-454b-ed36-049009fc3cb2"
      },
      "source": [
        "# How many examples of each class?\n",
        "\n",
        "train_df.target.value_counts()"
      ],
      "execution_count": 8,
      "outputs": [
        {
          "output_type": "execute_result",
          "data": {
            "text/plain": [
              "0    4342\n",
              "1    3271\n",
              "Name: target, dtype: int64"
            ]
          },
          "metadata": {
            "tags": []
          },
          "execution_count": 8
        }
      ]
    },
    {
      "cell_type": "markdown",
      "metadata": {
        "id": "kEtEltU5r_jJ"
      },
      "source": [
        " > **Note** : If your data is not balanced, there are some things you can do for imbalanced dataset\n",
        "https://www.tensorflow.org/tutorials/structured_data/imbalanced_data"
      ]
    },
    {
      "cell_type": "code",
      "metadata": {
        "colab": {
          "base_uri": "https://localhost:8080/"
        },
        "id": "Tur_lZTQshxw",
        "outputId": "5adf21d2-af86-4e2e-80d9-1fad142d86d6"
      },
      "source": [
        "# How many total samples ?\n",
        "len(train_df), len(test_df)"
      ],
      "execution_count": 9,
      "outputs": [
        {
          "output_type": "execute_result",
          "data": {
            "text/plain": [
              "(7613, 3263)"
            ]
          },
          "metadata": {
            "tags": []
          },
          "execution_count": 9
        }
      ]
    },
    {
      "cell_type": "code",
      "metadata": {
        "colab": {
          "base_uri": "https://localhost:8080/"
        },
        "id": "09eT8VFitX-d",
        "outputId": "b0234ef2-3077-47fe-e578-270bb13d36ae"
      },
      "source": [
        "import random\n",
        "random_index = random.randint(0, len(train_df)-5)\n",
        "random_index"
      ],
      "execution_count": 10,
      "outputs": [
        {
          "output_type": "execute_result",
          "data": {
            "text/plain": [
              "5877"
            ]
          },
          "metadata": {
            "tags": []
          },
          "execution_count": 10
        }
      ]
    },
    {
      "cell_type": "code",
      "metadata": {
        "colab": {
          "base_uri": "https://localhost:8080/"
        },
        "id": "U-ZQLTHQsnBs",
        "outputId": "dc2e6c5f-72a3-461d-8c07-4040988c73bc"
      },
      "source": [
        "# Let's visualize some random training examples\n",
        "import random\n",
        "random_index = random.randint(0, len(train_df)-5) # create random indexes not higher than total number of samples\n",
        "for row in train_df_shuffled[[\"text\", \"target\"]][random_index:random_index+5].itertuples() :\n",
        "  _,text,target = row\n",
        "  print(f\"Target: {target}\", \"(real disaster)\" if target > 0 else \"(not real disaster)\")\n",
        "  print(f\"Text:\\n{text}\\n\")\n",
        "  print(\"---\\n\")\n"
      ],
      "execution_count": 11,
      "outputs": [
        {
          "output_type": "stream",
          "text": [
            "Target: 0 (not real disaster)\n",
            "Text:\n",
            "Hero you can 't swim lonely guy help me my solution is not yours lifeguard i hated killing people how destroyed it http://t.co/pAztDblgYk\n",
            "\n",
            "---\n",
            "\n",
            "Target: 0 (not real disaster)\n",
            "Text:\n",
            "If Locke has to pitch in the playoffs it's not a disaster but they should absolutely positively never let him pitch the sixth inning.\n",
            "\n",
            "---\n",
            "\n",
            "Target: 0 (not real disaster)\n",
            "Text:\n",
            "PUT SANDSTORM DOWN!!!! https://t.co/EfKCoegJck\n",
            "\n",
            "---\n",
            "\n",
            "Target: 1 (real disaster)\n",
            "Text:\n",
            "Preacher faces UK terrorism charges http://t.co/daPlllFuqK\n",
            "\n",
            "---\n",
            "\n",
            "Target: 0 (not real disaster)\n",
            "Text:\n",
            "I added a video to a @YouTube playlist http://t.co/1vjAlJA1SX GTA 5 Funny Moments - 'OBLITERATION!' (GTA 5 Online Funny Moments)\n",
            "\n",
            "---\n",
            "\n"
          ],
          "name": "stdout"
        }
      ]
    },
    {
      "cell_type": "markdown",
      "metadata": {
        "id": "H934OlRdukg2"
      },
      "source": [
        "### Split data into training and validation sets"
      ]
    },
    {
      "cell_type": "code",
      "metadata": {
        "id": "TNMyMRMk0Dm1"
      },
      "source": [
        "from sklearn.model_selection import train_test_split"
      ],
      "execution_count": 12,
      "outputs": []
    },
    {
      "cell_type": "code",
      "metadata": {
        "id": "UzRBvWJ-0PNk"
      },
      "source": [
        "# Use train_test_split to split training data into training and validation sets\n",
        "train_sentences, val_sentences, train_labels, val_labels = train_test_split(train_df_shuffled[\"text\"].to_numpy(),\n",
        "                                                                              train_df_shuffled[\"target\"].to_numpy(),\n",
        "                                                                              test_size=0.1, #use 10% of training data for validaton\n",
        "                                                                              random_state=42)\n",
        "\n"
      ],
      "execution_count": 13,
      "outputs": []
    },
    {
      "cell_type": "code",
      "metadata": {
        "colab": {
          "base_uri": "https://localhost:8080/"
        },
        "id": "kYjqNdh9163z",
        "outputId": "9d477d81-bc22-4a0f-af3e-63186748d711"
      },
      "source": [
        "#Check the lengths\n",
        "len(train_sentences), len(train_labels), len(val_sentences), len(val_labels)"
      ],
      "execution_count": 14,
      "outputs": [
        {
          "output_type": "execute_result",
          "data": {
            "text/plain": [
              "(6851, 6851, 762, 762)"
            ]
          },
          "metadata": {
            "tags": []
          },
          "execution_count": 14
        }
      ]
    },
    {
      "cell_type": "code",
      "metadata": {
        "colab": {
          "base_uri": "https://localhost:8080/"
        },
        "id": "Kbg4re6y2rZR",
        "outputId": "7d108b38-e5a5-4878-8397-9e27e65222de"
      },
      "source": [
        "# Check the  first 10 samples\n",
        "train_sentences[:10], train_labels[:10]"
      ],
      "execution_count": 15,
      "outputs": [
        {
          "output_type": "execute_result",
          "data": {
            "text/plain": [
              "(array(['@mogacola @zamtriossu i screamed after hitting tweet',\n",
              "        'Imagine getting flattened by Kurt Zouma',\n",
              "        '@Gurmeetramrahim #MSGDoing111WelfareWorks Green S welfare force ke appx 65000 members har time disaster victim ki help ke liye tyar hai....',\n",
              "        \"@shakjn @C7 @Magnums im shaking in fear he's gonna hack the planet\",\n",
              "        'Somehow find you and I collide http://t.co/Ee8RpOahPk',\n",
              "        '@EvaHanderek @MarleyKnysh great times until the bus driver held us hostage in the mall parking lot lmfao',\n",
              "        'destroy the free fandom honestly',\n",
              "        'Weapons stolen from National Guard Armory in New Albany still missing #Gunsense http://t.co/lKNU8902JE',\n",
              "        '@wfaaweather Pete when will the heat wave pass? Is it really going to be mid month? Frisco Boy Scouts have a canoe trip in Okla.',\n",
              "        'Patient-reported outcomes in long-term survivors of metastatic colorectal cancer - British Journal of Surgery http://t.co/5Yl4DC1Tqt'],\n",
              "       dtype=object), array([0, 0, 1, 0, 0, 1, 1, 0, 1, 1]))"
            ]
          },
          "metadata": {
            "tags": []
          },
          "execution_count": 15
        }
      ]
    },
    {
      "cell_type": "markdown",
      "metadata": {
        "id": "KRWEIuie4Y0Z"
      },
      "source": [
        "## Tokenization vs Embedding"
      ]
    },
    {
      "cell_type": "markdown",
      "metadata": {
        "id": "TxNHci669izm"
      },
      "source": [
        "![image.png](data:image/png;base64,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)"
      ]
    },
    {
      "cell_type": "markdown",
      "metadata": {
        "id": "AJW0w-pq9iKu"
      },
      "source": [
        "## Converting text into numbers\n",
        "\n",
        "When dealing with a text problem, one of the first things you'll have to do  before you can build a model is to convert your text to numbers.\n",
        "\n",
        "There are a few ways to do this, namely :\n",
        "* Tokenization : direct mapping of token(a token could be a word or character) to number\n",
        "* Embedding : create a matrix of feature vector for each token(the size of the feature vector can be defined and this embedding can be learned)\n"
      ]
    },
    {
      "cell_type": "markdown",
      "metadata": {
        "id": "f3STaIhI_cSq"
      },
      "source": [
        "### Text vectorization (tokenization)"
      ]
    },
    {
      "cell_type": "code",
      "metadata": {
        "colab": {
          "base_uri": "https://localhost:8080/"
        },
        "id": "DJmE_GTf_iBJ",
        "outputId": "9099fb33-c198-41c5-9e73-b0b7eb0e962b"
      },
      "source": [
        "train_sentences[:5]"
      ],
      "execution_count": 16,
      "outputs": [
        {
          "output_type": "execute_result",
          "data": {
            "text/plain": [
              "array(['@mogacola @zamtriossu i screamed after hitting tweet',\n",
              "       'Imagine getting flattened by Kurt Zouma',\n",
              "       '@Gurmeetramrahim #MSGDoing111WelfareWorks Green S welfare force ke appx 65000 members har time disaster victim ki help ke liye tyar hai....',\n",
              "       \"@shakjn @C7 @Magnums im shaking in fear he's gonna hack the planet\",\n",
              "       'Somehow find you and I collide http://t.co/Ee8RpOahPk'],\n",
              "      dtype=object)"
            ]
          },
          "metadata": {
            "tags": []
          },
          "execution_count": 16
        }
      ]
    },
    {
      "cell_type": "code",
      "metadata": {
        "id": "O2mZ_tUz_kr6"
      },
      "source": [
        "import tensorflow as tf\n",
        "from tensorflow.keras.layers.experimental.preprocessing import TextVectorization\n",
        "# Link to TextVectorization : https://www.tensorflow.org/api_docs/python/tf/keras/layers/experimental/preprocessing/TextVectorization\n",
        "\n",
        "# Use the default TextVectorization parameters\n",
        "text_vectorizer = TextVectorization(max_tokens=None, # how many words in the vocabulary (automatically add <OOV>)\n",
        "                                    standardize=\"lower_and_strip_punctuation\",\n",
        "                                    split=\"whitespace\",\n",
        "                                    ngrams=None, # create group of n-words?\n",
        "                                    output_mode=\"int\", # how to map tokens to int\n",
        "                                    output_sequence_length=None, # how long do you want your sequence to be\n",
        "                                    pad_to_max_tokens = True)\n"
      ],
      "execution_count": 17,
      "outputs": []
    },
    {
      "cell_type": "code",
      "metadata": {
        "colab": {
          "base_uri": "https://localhost:8080/"
        },
        "id": "fDs8gSmEDEQ9",
        "outputId": "1f4f3d08-8fd9-4ce7-f5c9-3fd06b90e0b9"
      },
      "source": [
        "len(train_sentences[0].split())"
      ],
      "execution_count": 18,
      "outputs": [
        {
          "output_type": "execute_result",
          "data": {
            "text/plain": [
              "7"
            ]
          },
          "metadata": {
            "tags": []
          },
          "execution_count": 18
        }
      ]
    },
    {
      "cell_type": "code",
      "metadata": {
        "colab": {
          "base_uri": "https://localhost:8080/"
        },
        "id": "mM9ezln0Cy8P",
        "outputId": "8692f3e5-337c-4b64-ddca-54f74db1cbf1"
      },
      "source": [
        "# Find the average number of tokens(words) in the training tweets\n",
        "round(sum([len(i.split()) for i in train_sentences]) / len(train_sentences))"
      ],
      "execution_count": 19,
      "outputs": [
        {
          "output_type": "execute_result",
          "data": {
            "text/plain": [
              "15"
            ]
          },
          "metadata": {
            "tags": []
          },
          "execution_count": 19
        }
      ]
    },
    {
      "cell_type": "code",
      "metadata": {
        "id": "lGjCmik9DfkD"
      },
      "source": [
        "# Setup text vectorization variables\n",
        "max_vocab_length= 10000 # max number of words to have in our vocabulary\n",
        "max_length = 15 # max length  our sequences will be (e.g. how many words from a Tweet does a model see?)\n",
        "\n",
        "text_vectorizer = TextVectorization(max_tokens = max_vocab_length,\n",
        "                                    output_mode =\"int\",\n",
        "                                    output_sequence_length=max_length)"
      ],
      "execution_count": 20,
      "outputs": []
    },
    {
      "cell_type": "code",
      "metadata": {
        "id": "E3UgcLjCEJ_N"
      },
      "source": [
        "# Fit the text vectorizer to training text\n",
        "text_vectorizer.adapt(train_sentences)"
      ],
      "execution_count": 21,
      "outputs": []
    },
    {
      "cell_type": "code",
      "metadata": {
        "colab": {
          "base_uri": "https://localhost:8080/"
        },
        "id": "h6nyOOheFxcY",
        "outputId": "726c64ef-9da3-4234-9a7a-99a5959f55b3"
      },
      "source": [
        "# Create a sample sentence and tokenize it.\n",
        "sample_sentence = \"There's a flood in my street!\"\n",
        "text_vectorizer([sample_sentence])"
      ],
      "execution_count": 22,
      "outputs": [
        {
          "output_type": "execute_result",
          "data": {
            "text/plain": [
              "<tf.Tensor: shape=(1, 15), dtype=int64, numpy=\n",
              "array([[264,   3, 232,   4,  13, 698,   0,   0,   0,   0,   0,   0,   0,\n",
              "          0,   0]])>"
            ]
          },
          "metadata": {
            "tags": []
          },
          "execution_count": 22
        }
      ]
    },
    {
      "cell_type": "code",
      "metadata": {
        "colab": {
          "base_uri": "https://localhost:8080/"
        },
        "id": "xHrAyiUTGGYy",
        "outputId": "d60b28df-5fdb-45b0-c857-8e477f156a60"
      },
      "source": [
        "# Choose a random sentence from the training dataset and tokenize it\n",
        "random_sentence = random.choice(train_sentences)\n",
        "print(f\"Original text:\\n{random_sentence} \\\n",
        "        \\n\\nVectorized version:\")\n",
        "text_vectorizer([random_sentence])"
      ],
      "execution_count": 23,
      "outputs": [
        {
          "output_type": "stream",
          "text": [
            "Original text:\n",
            "news@@ Refugio oil spill may have been costlier bigger than projected http://t.co/jhpdSSVhvE         \n",
            "\n",
            "Vectorized version:\n"
          ],
          "name": "stdout"
        },
        {
          "output_type": "execute_result",
          "data": {
            "text/plain": [
              "<tf.Tensor: shape=(1, 15), dtype=int64, numpy=\n",
              "array([[  58,  877,  254,  385,  133,   24,   59,  903,  825,   76,  837,\n",
              "        5439,    0,    0,    0]])>"
            ]
          },
          "metadata": {
            "tags": []
          },
          "execution_count": 23
        }
      ]
    },
    {
      "cell_type": "code",
      "metadata": {
        "colab": {
          "base_uri": "https://localhost:8080/"
        },
        "id": "IoqGe8G8LUbq",
        "outputId": "701d8791-c2e3-44e6-ed2b-0fcaefce87a3"
      },
      "source": [
        "# Get the unique words in the vocabulary\n",
        "words_in_vocab = text_vectorizer.get_vocabulary() # get all of the unique words in the training data\n",
        "top_5_words = words_in_vocab[:5] # get the most common words\n",
        "bottom_5_words = words_in_vocab[-5:] # get the least common words\n",
        "print(f\"Number of words in vocab: {len(words_in_vocab)}\")\n",
        "print(f\"5 most commom words: {top_5_words}\" )\n",
        "print(f\"5 least commom words:{bottom_5_words}\")"
      ],
      "execution_count": 24,
      "outputs": [
        {
          "output_type": "stream",
          "text": [
            "Number of words in vocab: 10000\n",
            "5 most commom words: ['', '[UNK]', 'the', 'a', 'in']\n",
            "5 least commom words:['pages', 'paeds', 'pads', 'padres', 'paddytomlinson1']\n"
          ],
          "name": "stdout"
        }
      ]
    },
    {
      "cell_type": "markdown",
      "metadata": {
        "id": "__cTpzYbGkv5"
      },
      "source": [
        "### Creating an Embedding using an Embedding Layer\n",
        "\n",
        "To make our emebedding, we're going to use the TensorFlow's Embedding layer :https://keras.io/api/layers/core_layers/embedding/\n",
        "\n",
        "The parameters we care about for our embedding layer :\n",
        "* `input_dim` = the size of our vocabulary\n",
        "* `output_dim` = the size of the output embedding vector, for example, a value of 100 would mean each token gets represented by a vector of 100 long.\n",
        "* `input_length` = length of the sequences being passed to the embedding layer"
      ]
    },
    {
      "cell_type": "code",
      "metadata": {
        "colab": {
          "base_uri": "https://localhost:8080/"
        },
        "id": "GBwOfJo0fRE4",
        "outputId": "48f85f1c-4788-4dcb-c175-1f8c9acbe0ac"
      },
      "source": [
        "from tensorflow.keras import layers\n",
        "\n",
        "embedding = layers.Embedding(input_dim=max_vocab_length, # set input shape\n",
        "                             output_dim=128, #output shape\n",
        "                             embeddings_initializer=\"uniform\",\n",
        "                             input_length=max_length # how long is each input\n",
        "                             )\n",
        "embedding"
      ],
      "execution_count": 25,
      "outputs": [
        {
          "output_type": "execute_result",
          "data": {
            "text/plain": [
              "<tensorflow.python.keras.layers.embeddings.Embedding at 0x7f51e0391790>"
            ]
          },
          "metadata": {
            "tags": []
          },
          "execution_count": 25
        }
      ]
    },
    {
      "cell_type": "code",
      "metadata": {
        "colab": {
          "base_uri": "https://localhost:8080/"
        },
        "id": "Q-BizqSohbCe",
        "outputId": "f31f6f73-b561-4cee-f2fa-74ff60bf9a20"
      },
      "source": [
        "# Get a random sentence from the training set \n",
        "random_sentence = random.choice(train_sentences)\n",
        "print(f\"Original text :\\n {random_sentence}\\\n",
        "        \\n\\nEmbedded version:\")\n",
        "\n",
        "#Embed the random sentence (turn it into dense vectors of fixed size)\n",
        "sample_embed = embedding(text_vectorizer([random_sentence]))\n",
        "sample_embed"
      ],
      "execution_count": 26,
      "outputs": [
        {
          "output_type": "stream",
          "text": [
            "Original text :\n",
            " Free Ebay Sniping RT? http://t.co/RqIPGQslT6 Chevrolet : Avalanche Ltz Lifted 4x4 Truck ?Please Favorite &amp; Share        \n",
            "\n",
            "Embedded version:\n"
          ],
          "name": "stdout"
        },
        {
          "output_type": "execute_result",
          "data": {
            "text/plain": [
              "<tf.Tensor: shape=(1, 15, 128), dtype=float32, numpy=\n",
              "array([[[-0.0053209 ,  0.03003695, -0.01595216, ..., -0.01512256,\n",
              "          0.04333439, -0.0286806 ],\n",
              "        [ 0.00297137, -0.04294214,  0.00342194, ..., -0.00202643,\n",
              "          0.01206907, -0.04681056],\n",
              "        [-0.00641827,  0.02650574, -0.03368302, ...,  0.04750237,\n",
              "         -0.00497609, -0.02723236],\n",
              "        ...,\n",
              "        [-0.03638971,  0.04170842, -0.01429451, ...,  0.04948768,\n",
              "         -0.02401244,  0.04996468],\n",
              "        [-0.03884267, -0.04399663, -0.01274395, ...,  0.04637611,\n",
              "          0.0006646 , -0.04501568],\n",
              "        [-0.00988029,  0.01337491, -0.0251316 , ...,  0.02391399,\n",
              "          0.01850525, -0.01910255]]], dtype=float32)>"
            ]
          },
          "metadata": {
            "tags": []
          },
          "execution_count": 26
        }
      ]
    },
    {
      "cell_type": "code",
      "metadata": {
        "colab": {
          "base_uri": "https://localhost:8080/"
        },
        "id": "HmPF7ElAlAP6",
        "outputId": "010372dc-1478-4750-b0e4-ada2b8884829"
      },
      "source": [
        "# Check out a single token's embedding\n",
        "sample_embed[0][0], sample_embed[0][0].shape, random_sentence"
      ],
      "execution_count": 27,
      "outputs": [
        {
          "output_type": "execute_result",
          "data": {
            "text/plain": [
              "(<tf.Tensor: shape=(128,), dtype=float32, numpy=\n",
              " array([-5.3208955e-03,  3.0036952e-02, -1.5952159e-02, -5.7564266e-03,\n",
              "         3.6511008e-02,  4.7212426e-02, -3.3291355e-02, -2.4296820e-02,\n",
              "        -3.0510759e-02,  3.1113956e-02,  4.5288216e-02, -3.7372112e-05,\n",
              "        -5.0470605e-03, -3.9294790e-02, -3.7641905e-02, -1.5087388e-02,\n",
              "        -1.1095405e-03,  4.2817567e-02, -3.2369841e-02,  1.9106302e-02,\n",
              "         7.1329847e-03, -3.3040427e-02, -4.3378592e-02,  1.3447847e-02,\n",
              "         4.1044857e-02,  1.6565453e-02,  1.7847907e-02, -1.5161119e-02,\n",
              "         3.7759542e-04, -1.1094283e-02, -3.1960703e-02, -3.7991464e-02,\n",
              "        -1.1352550e-02,  3.0828487e-02, -3.9448224e-02,  3.1993065e-02,\n",
              "         4.7768284e-02, -6.4989924e-03, -1.9375874e-02, -1.1557795e-02,\n",
              "        -2.4964869e-02, -2.3487961e-02,  1.9483101e-02,  3.2989789e-02,\n",
              "        -3.9533090e-02, -3.4061097e-02, -1.9780552e-02,  4.7812250e-02,\n",
              "        -1.6726255e-03,  3.3512499e-02, -2.6128722e-02,  3.8514029e-02,\n",
              "         3.9197791e-02,  2.8861117e-02,  3.6152389e-02,  2.1625880e-02,\n",
              "         2.9226169e-03, -1.7294705e-02,  6.2793121e-03,  1.6994011e-02,\n",
              "         3.7159991e-02, -4.8551608e-02,  2.9771652e-02, -4.4659246e-02,\n",
              "        -2.2978306e-02, -2.2154678e-02,  3.1206038e-02,  3.1250607e-02,\n",
              "        -3.0275239e-02, -2.7016550e-04,  2.3415122e-02, -4.2004991e-02,\n",
              "        -1.5977301e-02,  1.5565045e-03, -4.8640717e-02, -2.5069166e-02,\n",
              "         3.7647691e-02,  1.3189618e-02,  4.2826641e-02, -2.7670015e-02,\n",
              "         1.4172804e-02, -2.0135157e-03, -6.4056292e-03,  1.2256950e-04,\n",
              "         2.3563299e-02, -1.3793290e-02,  1.7079387e-02,  4.7794465e-02,\n",
              "        -2.1550879e-03, -3.8771581e-02,  1.0832705e-02, -3.8285181e-04,\n",
              "        -3.6383890e-02,  4.7904562e-02,  9.3823075e-03, -2.4122406e-02,\n",
              "        -4.3525077e-02,  4.4677738e-02,  1.1434924e-02, -3.8710751e-02,\n",
              "        -7.1454421e-03, -1.0794640e-02, -1.0494482e-02, -1.9777585e-02,\n",
              "         5.0703771e-03, -3.6933981e-02,  1.7576780e-02,  4.6571422e-02,\n",
              "        -1.9601548e-02, -1.7646514e-02, -1.1017680e-02, -3.4206688e-02,\n",
              "        -4.8644390e-02,  3.9421927e-02,  4.2654816e-02,  1.2096979e-02,\n",
              "        -1.8952442e-02, -4.8681151e-02, -1.3924837e-03,  2.2141267e-02,\n",
              "         3.4873597e-03, -4.3130528e-02, -2.0295192e-02, -3.9565872e-02,\n",
              "        -2.0647610e-02, -1.5122555e-02,  4.3334391e-02, -2.8680598e-02],\n",
              "       dtype=float32)>,\n",
              " TensorShape([128]),\n",
              " 'Free Ebay Sniping RT? http://t.co/RqIPGQslT6 Chevrolet : Avalanche Ltz Lifted 4x4 Truck ?Please Favorite &amp; Share')"
            ]
          },
          "metadata": {
            "tags": []
          },
          "execution_count": 27
        }
      ]
    },
    {
      "cell_type": "markdown",
      "metadata": {
        "id": "0NWA15gGoRNJ"
      },
      "source": [
        "## Modelling a text dataset(running a series of experiments)\n",
        "\n",
        "Now we've got a way to turn our text sequence into numbers, it's time to start building a series of modelling experiments.\n",
        "\n",
        "We'll start with a baseline and move on from there.\n",
        "\n",
        "* Model 0 : Naive Bayes (baseline), this is from SkLearn ML https://scikit-learn.org/stable/tutorial/machine_learning_map/index.html\n",
        "* Model 1 : Feed-forward neural network(dense model)\n",
        "* Model 2 : LSTM model (RNN)\n",
        "* Model 3 : GRU model (RNN)\n",
        "* Model 4 : Bidirectional-LSTM model (RNN)\n",
        "* Model 5 : 1D Convolutional Neural Network (CNN)\n",
        "* Model 6 : TensorFlow Hub Pretrained Feature Extractor (using transfer learning for NLP)\n",
        "* Model 7 : Same as model 6 with 10% of the training data\n",
        "\n",
        "How we are going to approach all of these?\n",
        "Use the standard steps in modelling with tensorflow :\n",
        "\n",
        "* Create a model\n",
        "* Build a model\n",
        "* Fit a model\n",
        "* Evaluate our model\n",
        "\n"
      ]
    },
    {
      "cell_type": "markdown",
      "metadata": {
        "id": "7MW_Jqq8tXrU"
      },
      "source": [
        "### Model 0 : Getting a baseline\n",
        "\n",
        "As with all machine leanring modelling experiments, it's important to create a baseline so you've got a benchmark for future experiments to build upon.\n",
        "\n",
        "To create our baseline, we'll use Sklearn's Multinomial Naive Bayes using the TF-IDF formula to convert our words to numbers.\n",
        "\n",
        "> **Note** : It's common practice to use non-DL  (Deep Learning) algorithms as a baseline because of their speed and then later using DL to see if you can improve upon them."
      ]
    },
    {
      "cell_type": "code",
      "metadata": {
        "colab": {
          "base_uri": "https://localhost:8080/"
        },
        "id": "VflQt6WqoqPp",
        "outputId": "8843102f-7bb1-4b57-cf56-befa094dc2cd"
      },
      "source": [
        "from sklearn.feature_extraction.text import TfidfVectorizer\n",
        "from sklearn.naive_bayes import MultinomialNB\n",
        "from sklearn.pipeline import Pipeline\n",
        "\n",
        "# Create tokenization and modelling pipeline\n",
        "model_0 = Pipeline([\n",
        "                    (\"tfidf\", TfidfVectorizer()), # covert words to numbers using tfidf\n",
        "                    (\"clf\", MultinomialNB()) # model the text                    \n",
        "])\n",
        "\n",
        "# Fit the pipeline to the training data\n",
        "model_0.fit(train_sentences, train_labels)\n"
      ],
      "execution_count": 28,
      "outputs": [
        {
          "output_type": "execute_result",
          "data": {
            "text/plain": [
              "Pipeline(memory=None,\n",
              "         steps=[('tfidf',\n",
              "                 TfidfVectorizer(analyzer='word', binary=False,\n",
              "                                 decode_error='strict',\n",
              "                                 dtype=<class 'numpy.float64'>,\n",
              "                                 encoding='utf-8', input='content',\n",
              "                                 lowercase=True, max_df=1.0, max_features=None,\n",
              "                                 min_df=1, ngram_range=(1, 1), norm='l2',\n",
              "                                 preprocessor=None, smooth_idf=True,\n",
              "                                 stop_words=None, strip_accents=None,\n",
              "                                 sublinear_tf=False,\n",
              "                                 token_pattern='(?u)\\\\b\\\\w\\\\w+\\\\b',\n",
              "                                 tokenizer=None, use_idf=True,\n",
              "                                 vocabulary=None)),\n",
              "                ('clf',\n",
              "                 MultinomialNB(alpha=1.0, class_prior=None, fit_prior=True))],\n",
              "         verbose=False)"
            ]
          },
          "metadata": {
            "tags": []
          },
          "execution_count": 28
        }
      ]
    },
    {
      "cell_type": "code",
      "metadata": {
        "colab": {
          "base_uri": "https://localhost:8080/"
        },
        "id": "FTF8ziAjv2bM",
        "outputId": "343c062b-7d66-47b7-9b65-624a61bf5ee4"
      },
      "source": [
        "# Evaluate our baseline model\n",
        "baseline_score = model_0.score(val_sentences, val_labels)\n",
        "\n",
        "print(f\"Our baseline model achieves an accuracy of : {baseline_score *100 : .2f}%\")"
      ],
      "execution_count": 29,
      "outputs": [
        {
          "output_type": "stream",
          "text": [
            "Our baseline model achieves an accuracy of :  79.27%\n"
          ],
          "name": "stdout"
        }
      ]
    },
    {
      "cell_type": "code",
      "metadata": {
        "colab": {
          "base_uri": "https://localhost:8080/"
        },
        "id": "Pds9jVOKwspz",
        "outputId": "217dce09-4ad4-467b-99a1-37459455abac"
      },
      "source": [
        "# Make predictions\n",
        "baseline_preds = model_0.predict(val_sentences)\n",
        "baseline_preds[:20]"
      ],
      "execution_count": 30,
      "outputs": [
        {
          "output_type": "execute_result",
          "data": {
            "text/plain": [
              "array([1, 1, 1, 0, 0, 1, 1, 1, 1, 0, 0, 1, 0, 0, 0, 0, 0, 0, 0, 1])"
            ]
          },
          "metadata": {
            "tags": []
          },
          "execution_count": 30
        }
      ]
    },
    {
      "cell_type": "code",
      "metadata": {
        "colab": {
          "base_uri": "https://localhost:8080/"
        },
        "id": "6KJ1NVTTxGrz",
        "outputId": "c1e74113-bd40-4e84-fa94-14a8f32216df"
      },
      "source": [
        "train_labels"
      ],
      "execution_count": 31,
      "outputs": [
        {
          "output_type": "execute_result",
          "data": {
            "text/plain": [
              "array([0, 0, 1, ..., 1, 1, 0])"
            ]
          },
          "metadata": {
            "tags": []
          },
          "execution_count": 31
        }
      ]
    },
    {
      "cell_type": "markdown",
      "metadata": {
        "id": "fR1PH_7xxIVk"
      },
      "source": [
        "### Creating an evaluation function for our model experiments\n",
        "\n",
        "We could evaluate all of our model's predictions with different metrics every time,however, this will be cumbersome and could easily be fixed with a function\n",
        "\n",
        "Let's create one to compare our model's predictions with the truth labels using the following metrics:\n",
        "* Accuracy\n",
        "* Precision\n",
        "* Recall\n",
        "* F1-score\n",
        "\n",
        "For a deep overview of many evaluation methods, please refer the Sklearn documentation :\n",
        "https://scikit-learn.org/stable/modules/model_evaluation.html"
      ]
    },
    {
      "cell_type": "code",
      "metadata": {
        "id": "VYgMJbG-yQ0W"
      },
      "source": [
        "# Function to evaluate accuracy, precision, recall , f1-score\n",
        "\n",
        "from sklearn.metrics import accuracy_score, precision_recall_fscore_support\n",
        "\n",
        "def calculate_results(y_true, y_pred) :\n",
        "  \"\"\"\n",
        "  Calculate model accuracy, precision , recall ad f1-score of a binary classification model.\n",
        "  \"\"\"\n",
        "\n",
        "  # Calculate model accuracy\n",
        "  model_accuracy = accuracy_score(y_true, y_pred) * 100\n",
        "  # Calculate model precision, recall and f1-score using \"weighted average\"\n",
        "  model_precision, model_recall, model_f1, _ = precision_recall_fscore_support(y_true, y_pred, average=\"weighted\")\n",
        "  model_results = {\"accuracy\" : model_accuracy,\n",
        "                   \"precision\" : model_precision,\n",
        "                   \"recall\" : model_recall,\n",
        "                   \"f1\" : model_f1}\n",
        "  return model_results\n",
        "\n",
        "\n",
        "\n"
      ],
      "execution_count": 32,
      "outputs": []
    },
    {
      "cell_type": "code",
      "metadata": {
        "colab": {
          "base_uri": "https://localhost:8080/"
        },
        "id": "GSxhqbCz0GWY",
        "outputId": "075872dd-60e8-497d-a5e7-78db10c0f5b0"
      },
      "source": [
        "# Get baseline results\n",
        "baseline_results = calculate_results(y_true=val_labels, y_pred = baseline_preds)\n",
        "baseline_results"
      ],
      "execution_count": 33,
      "outputs": [
        {
          "output_type": "execute_result",
          "data": {
            "text/plain": [
              "{'accuracy': 79.26509186351706,\n",
              " 'f1': 0.7862189758049549,\n",
              " 'precision': 0.8111390004213173,\n",
              " 'recall': 0.7926509186351706}"
            ]
          },
          "metadata": {
            "tags": []
          },
          "execution_count": 33
        }
      ]
    },
    {
      "cell_type": "code",
      "metadata": {
        "id": "ato9a8-l02tm"
      },
      "source": [
        "# We already created the function to our helper function\n",
        "#from helper_functions import calculate_results\n"
      ],
      "execution_count": 34,
      "outputs": []
    },
    {
      "cell_type": "markdown",
      "metadata": {
        "id": "qjz80jyS09ZE"
      },
      "source": [
        "### Model 1 : A simple dense model"
      ]
    },
    {
      "cell_type": "code",
      "metadata": {
        "id": "h_lCXUSx1iQ0"
      },
      "source": [
        "# Create a tensorboard callback (need to create a new one for each model)\n",
        "from helper_functions import create_tensorboard_callback\n",
        "\n",
        "# Create a directory to save TensorBoard logs\n",
        "SAVE_DIR = \"model_logs\""
      ],
      "execution_count": 35,
      "outputs": []
    },
    {
      "cell_type": "code",
      "metadata": {
        "id": "l76LpXyI5U_l"
      },
      "source": [
        "# Build model with the Functional API\n",
        "from tensorflow.keras import layers\n",
        "\n",
        "inputs = layers.Input(shape=(1, ), dtype=tf.string) # inputs are 1-dimensional strings\n",
        "x = text_vectorizer(inputs) # turn input text into numbers\n",
        "x = embedding(x) # create an embedding of the numberized inputs\n",
        "x = layers.GlobalAveragePooling1D()(x) # condense the feature vector for each token to one vector \n",
        "#x = layers.GlobalMaxPool1D()(x)\n",
        "outputs = layers.Dense(1, activation=\"sigmoid\")(x) # Create the output layer, want binary ouputs so use sigmoid\n",
        "model_1 = tf.keras.Model(inputs, outputs, name=\"model_1_dense\")\n"
      ],
      "execution_count": 36,
      "outputs": []
    },
    {
      "cell_type": "code",
      "metadata": {
        "id": "5Wp9DJo47xum",
        "colab": {
          "base_uri": "https://localhost:8080/"
        },
        "outputId": "9f757fce-622e-4dcc-e993-85bdf2ea2559"
      },
      "source": [
        "model_1.summary()"
      ],
      "execution_count": 37,
      "outputs": [
        {
          "output_type": "stream",
          "text": [
            "Model: \"model_1_dense\"\n",
            "_________________________________________________________________\n",
            "Layer (type)                 Output Shape              Param #   \n",
            "=================================================================\n",
            "input_1 (InputLayer)         [(None, 1)]               0         \n",
            "_________________________________________________________________\n",
            "text_vectorization_1 (TextVe (None, 15)                0         \n",
            "_________________________________________________________________\n",
            "embedding (Embedding)        (None, 15, 128)           1280000   \n",
            "_________________________________________________________________\n",
            "global_average_pooling1d (Gl (None, 128)               0         \n",
            "_________________________________________________________________\n",
            "dense (Dense)                (None, 1)                 129       \n",
            "=================================================================\n",
            "Total params: 1,280,129\n",
            "Trainable params: 1,280,129\n",
            "Non-trainable params: 0\n",
            "_________________________________________________________________\n"
          ],
          "name": "stdout"
        }
      ]
    },
    {
      "cell_type": "code",
      "metadata": {
        "id": "jZnAmZbf77nc"
      },
      "source": [
        "# Compile the model\n",
        "model_1.compile(loss=\"binary_crossentropy\",\n",
        "                optimizer=tf.keras.optimizers.Adam(),\n",
        "                metrics=[\"accuracy\"]\n",
        "                )"
      ],
      "execution_count": 38,
      "outputs": []
    },
    {
      "cell_type": "code",
      "metadata": {
        "id": "vAgArDqy8Rt2",
        "colab": {
          "base_uri": "https://localhost:8080/"
        },
        "outputId": "5cab28f4-8fdc-4b55-dfd6-be204c402dd0"
      },
      "source": [
        "# Fit thr model\n",
        "model_1_history = model_1.fit(train_sentences, \n",
        "                              y = train_labels,\n",
        "                              epochs=5,\n",
        "                              validation_data=(val_sentences, val_labels),\n",
        "                              callbacks=[create_tensorboard_callback(dir_name=SAVE_DIR,\n",
        "                                                                     experiment_name=\"model_1_dense\")])"
      ],
      "execution_count": 39,
      "outputs": [
        {
          "output_type": "stream",
          "text": [
            "Saving TensorBoard log files to: model_logs/model_1_dense/20210807-020530\n",
            "Epoch 1/5\n",
            "215/215 [==============================] - 7s 17ms/step - loss: 0.6117 - accuracy: 0.6930 - val_loss: 0.5367 - val_accuracy: 0.7520\n",
            "Epoch 2/5\n",
            "215/215 [==============================] - 3s 14ms/step - loss: 0.4408 - accuracy: 0.8186 - val_loss: 0.4698 - val_accuracy: 0.7861\n",
            "Epoch 3/5\n",
            "215/215 [==============================] - 3s 15ms/step - loss: 0.3470 - accuracy: 0.8603 - val_loss: 0.4556 - val_accuracy: 0.7887\n",
            "Epoch 4/5\n",
            "215/215 [==============================] - 3s 15ms/step - loss: 0.2845 - accuracy: 0.8902 - val_loss: 0.4654 - val_accuracy: 0.7874\n",
            "Epoch 5/5\n",
            "215/215 [==============================] - 3s 15ms/step - loss: 0.2377 - accuracy: 0.9123 - val_loss: 0.4833 - val_accuracy: 0.7861\n"
          ],
          "name": "stdout"
        }
      ]
    },
    {
      "cell_type": "code",
      "metadata": {
        "id": "f4CbXujf9Lwy",
        "colab": {
          "base_uri": "https://localhost:8080/"
        },
        "outputId": "7e669c5d-cc17-46df-cfe6-bb6c15d768be"
      },
      "source": [
        "# Check the results \n",
        "results_model_1 = model_1.evaluate(val_sentences, val_labels)\n",
        "results_model_1"
      ],
      "execution_count": 40,
      "outputs": [
        {
          "output_type": "stream",
          "text": [
            "24/24 [==============================] - 0s 3ms/step - loss: 0.4833 - accuracy: 0.7861\n"
          ],
          "name": "stdout"
        },
        {
          "output_type": "execute_result",
          "data": {
            "text/plain": [
              "[0.4833150804042816, 0.7860892415046692]"
            ]
          },
          "metadata": {
            "tags": []
          },
          "execution_count": 40
        }
      ]
    },
    {
      "cell_type": "code",
      "metadata": {
        "id": "Km9FQN7U89uu",
        "colab": {
          "base_uri": "https://localhost:8080/"
        },
        "outputId": "403b11be-a86f-4b16-d38d-d770abc812da"
      },
      "source": [
        "# Make some predictions and evaluate those\n",
        "model_1_pred_probs = model_1.predict(val_sentences)\n",
        "model_1_pred_probs.shape"
      ],
      "execution_count": 41,
      "outputs": [
        {
          "output_type": "execute_result",
          "data": {
            "text/plain": [
              "(762, 1)"
            ]
          },
          "metadata": {
            "tags": []
          },
          "execution_count": 41
        }
      ]
    },
    {
      "cell_type": "code",
      "metadata": {
        "id": "IUaJn9OV-fTz",
        "colab": {
          "base_uri": "https://localhost:8080/"
        },
        "outputId": "d8539f09-7cdc-4f83-b4b8-3e8bfbb4887c"
      },
      "source": [
        "# look at a single prediction\n",
        "model_1_pred_probs[0]"
      ],
      "execution_count": 42,
      "outputs": [
        {
          "output_type": "execute_result",
          "data": {
            "text/plain": [
              "array([0.28053078], dtype=float32)"
            ]
          },
          "metadata": {
            "tags": []
          },
          "execution_count": 42
        }
      ]
    },
    {
      "cell_type": "code",
      "metadata": {
        "id": "ZpxDiTmdAPz4",
        "colab": {
          "base_uri": "https://localhost:8080/"
        },
        "outputId": "18f1ec30-5a93-417a-c815-d27e1992c95f"
      },
      "source": [
        "# Look at the first 10 predictions\n",
        "model_1_pred_probs[:10]"
      ],
      "execution_count": 43,
      "outputs": [
        {
          "output_type": "execute_result",
          "data": {
            "text/plain": [
              "array([[0.28053078],\n",
              "       [0.7745745 ],\n",
              "       [0.9977591 ],\n",
              "       [0.07919437],\n",
              "       [0.10901017],\n",
              "       [0.93544817],\n",
              "       [0.9187559 ],\n",
              "       [0.99316955],\n",
              "       [0.9622571 ],\n",
              "       [0.20094723]], dtype=float32)"
            ]
          },
          "metadata": {
            "tags": []
          },
          "execution_count": 43
        }
      ]
    },
    {
      "cell_type": "code",
      "metadata": {
        "id": "452xd0dxAf5L",
        "colab": {
          "base_uri": "https://localhost:8080/"
        },
        "outputId": "8ea310a6-c248-44f3-f2e0-705eab8ab0d8"
      },
      "source": [
        "# Convert model prediction probabilities to label format\n",
        "model_1_preds = tf.squeeze(tf.round(model_1_pred_probs))\n",
        "model_1_preds[:20]"
      ],
      "execution_count": 44,
      "outputs": [
        {
          "output_type": "execute_result",
          "data": {
            "text/plain": [
              "<tf.Tensor: shape=(20,), dtype=float32, numpy=\n",
              "array([0., 1., 1., 0., 0., 1., 1., 1., 1., 0., 0., 1., 0., 0., 0., 0., 0.,\n",
              "       0., 0., 0.], dtype=float32)>"
            ]
          },
          "metadata": {
            "tags": []
          },
          "execution_count": 44
        }
      ]
    },
    {
      "cell_type": "code",
      "metadata": {
        "id": "qdG9slKwAwvS",
        "colab": {
          "base_uri": "https://localhost:8080/"
        },
        "outputId": "3b3cd414-0c6d-4206-fcbd-8c6075ff6b95"
      },
      "source": [
        "# Calculate our model_1 results\n",
        "model_1_results = calculate_results(y_true=val_labels,\n",
        "                                    y_pred = model_1_preds)\n",
        "model_1_results"
      ],
      "execution_count": 45,
      "outputs": [
        {
          "output_type": "execute_result",
          "data": {
            "text/plain": [
              "{'accuracy': 78.60892388451444,\n",
              " 'f1': 0.7820552596075473,\n",
              " 'precision': 0.7941779811737785,\n",
              " 'recall': 0.7860892388451444}"
            ]
          },
          "metadata": {
            "tags": []
          },
          "execution_count": 45
        }
      ]
    },
    {
      "cell_type": "code",
      "metadata": {
        "id": "4SXoIYwtA623",
        "colab": {
          "base_uri": "https://localhost:8080/"
        },
        "outputId": "301bc5a6-39ef-4b87-a1d3-b42570683218"
      },
      "source": [
        "baseline_results"
      ],
      "execution_count": 46,
      "outputs": [
        {
          "output_type": "execute_result",
          "data": {
            "text/plain": [
              "{'accuracy': 79.26509186351706,\n",
              " 'f1': 0.7862189758049549,\n",
              " 'precision': 0.8111390004213173,\n",
              " 'recall': 0.7926509186351706}"
            ]
          },
          "metadata": {
            "tags": []
          },
          "execution_count": 46
        }
      ]
    },
    {
      "cell_type": "code",
      "metadata": {
        "id": "c5SnhFHdA9R2",
        "colab": {
          "base_uri": "https://localhost:8080/"
        },
        "outputId": "4d276476-1f1a-4024-e974-74ce24ff25af"
      },
      "source": [
        "import numpy as np\n",
        "np.array(list(model_1_results.values())) > np.array(list(baseline_results.values()))"
      ],
      "execution_count": 47,
      "outputs": [
        {
          "output_type": "execute_result",
          "data": {
            "text/plain": [
              "array([False, False, False, False])"
            ]
          },
          "metadata": {
            "tags": []
          },
          "execution_count": 47
        }
      ]
    },
    {
      "cell_type": "markdown",
      "metadata": {
        "id": "pRaqgBtOd9gP"
      },
      "source": [
        "## Visualizing learned embeddings"
      ]
    },
    {
      "cell_type": "code",
      "metadata": {
        "id": "qSZ29eneegnb",
        "colab": {
          "base_uri": "https://localhost:8080/"
        },
        "outputId": "8e178d8b-372e-4237-b2d0-eda5313ba7c0"
      },
      "source": [
        "# Get the vocabulary from the text vectorization layer\n",
        "words_in_vocab = text_vectorizer.get_vocabulary()\n",
        "len(words_in_vocab), words_in_vocab[:10]"
      ],
      "execution_count": 48,
      "outputs": [
        {
          "output_type": "execute_result",
          "data": {
            "text/plain": [
              "(10000, ['', '[UNK]', 'the', 'a', 'in', 'to', 'of', 'and', 'i', 'is'])"
            ]
          },
          "metadata": {
            "tags": []
          },
          "execution_count": 48
        }
      ]
    },
    {
      "cell_type": "code",
      "metadata": {
        "id": "CC37XVixe9YE",
        "colab": {
          "base_uri": "https://localhost:8080/"
        },
        "outputId": "83c94fc9-88bc-40c5-feaa-f59e9c7d1099"
      },
      "source": [
        "model_1.summary()"
      ],
      "execution_count": 49,
      "outputs": [
        {
          "output_type": "stream",
          "text": [
            "Model: \"model_1_dense\"\n",
            "_________________________________________________________________\n",
            "Layer (type)                 Output Shape              Param #   \n",
            "=================================================================\n",
            "input_1 (InputLayer)         [(None, 1)]               0         \n",
            "_________________________________________________________________\n",
            "text_vectorization_1 (TextVe (None, 15)                0         \n",
            "_________________________________________________________________\n",
            "embedding (Embedding)        (None, 15, 128)           1280000   \n",
            "_________________________________________________________________\n",
            "global_average_pooling1d (Gl (None, 128)               0         \n",
            "_________________________________________________________________\n",
            "dense (Dense)                (None, 1)                 129       \n",
            "=================================================================\n",
            "Total params: 1,280,129\n",
            "Trainable params: 1,280,129\n",
            "Non-trainable params: 0\n",
            "_________________________________________________________________\n"
          ],
          "name": "stdout"
        }
      ]
    },
    {
      "cell_type": "code",
      "metadata": {
        "id": "-m9fnINSfdqG",
        "colab": {
          "base_uri": "https://localhost:8080/"
        },
        "outputId": "13c45703-c0a3-4112-b024-de0b7f677ddd"
      },
      "source": [
        "# Get the weight matrix of embedding layer\n",
        "# (these are the numerical representations of each token in our training data, which have been learned for 5 epochs)\n",
        "embed_weights = model_1.get_layer(\"embedding\").get_weights()[0]\n",
        "print(embed_weights.shape)\n"
      ],
      "execution_count": 50,
      "outputs": [
        {
          "output_type": "stream",
          "text": [
            "(10000, 128)\n"
          ],
          "name": "stdout"
        }
      ]
    },
    {
      "cell_type": "markdown",
      "metadata": {
        "id": "HxNHwYUkgZNs"
      },
      "source": [
        "Now we've got the embedding matrix our model has learned ot represent our tokens, let's see how we can use visualize it.\n",
        "\n",
        "To do so, TensorFlow has a handy tool called projector : https://projector.tensorflow.org/\n",
        "\n",
        "And TensorFlow also has an incredible guide on word embeddings https://www.tensorflow.org/text/guide/word_embeddings"
      ]
    },
    {
      "cell_type": "code",
      "metadata": {
        "id": "6ydyGnTjg_UL"
      },
      "source": [
        "# Create embedding files (we got thie from TensorFlow's word embeddings documentation)\n",
        "import io\n",
        "out_v = io.open('vectors.tsv', 'w', encoding='utf-8')\n",
        "out_m = io.open('metadata.tsv', 'w', encoding='utf-8')\n",
        "\n",
        "for index, word in enumerate(words_in_vocab):\n",
        "  if index == 0:\n",
        "    continue  # skip 0, it's padding.\n",
        "  vec = embed_weights[index]\n",
        "  out_v.write('\\t'.join([str(x) for x in vec]) + \"\\n\")\n",
        "  out_m.write(word + \"\\n\")\n",
        "out_v.close()\n",
        "out_m.close()"
      ],
      "execution_count": 51,
      "outputs": []
    },
    {
      "cell_type": "code",
      "metadata": {
        "colab": {
          "base_uri": "https://localhost:8080/",
          "height": 51
        },
        "id": "wgqL7W_lJLui",
        "outputId": "58b815bf-9ae9-475e-b30a-04a8e21e351e"
      },
      "source": [
        "# Download the vectors locally\n",
        "try:\n",
        "  from google.colab import files\n",
        "  files.download('vectors.tsv')\n",
        "  files.download('metadata.tsv')\n",
        "except Exception:\n",
        "  pass"
      ],
      "execution_count": 52,
      "outputs": [
        {
          "output_type": "display_data",
          "data": {
            "application/javascript": [
              "\n",
              "    async function download(id, filename, size) {\n",
              "      if (!google.colab.kernel.accessAllowed) {\n",
              "        return;\n",
              "      }\n",
              "      const div = document.createElement('div');\n",
              "      const label = document.createElement('label');\n",
              "      label.textContent = `Downloading \"${filename}\": `;\n",
              "      div.appendChild(label);\n",
              "      const progress = document.createElement('progress');\n",
              "      progress.max = size;\n",
              "      div.appendChild(progress);\n",
              "      document.body.appendChild(div);\n",
              "\n",
              "      const buffers = [];\n",
              "      let downloaded = 0;\n",
              "\n",
              "      const channel = await google.colab.kernel.comms.open(id);\n",
              "      // Send a message to notify the kernel that we're ready.\n",
              "      channel.send({})\n",
              "\n",
              "      for await (const message of channel.messages) {\n",
              "        // Send a message to notify the kernel that we're ready.\n",
              "        channel.send({})\n",
              "        if (message.buffers) {\n",
              "          for (const buffer of message.buffers) {\n",
              "            buffers.push(buffer);\n",
              "            downloaded += buffer.byteLength;\n",
              "            progress.value = downloaded;\n",
              "          }\n",
              "        }\n",
              "      }\n",
              "      const blob = new Blob(buffers, {type: 'application/binary'});\n",
              "      const a = document.createElement('a');\n",
              "      a.href = window.URL.createObjectURL(blob);\n",
              "      a.download = filename;\n",
              "      div.appendChild(a);\n",
              "      a.click();\n",
              "      div.remove();\n",
              "    }\n",
              "  "
            ],
            "text/plain": [
              "<IPython.core.display.Javascript object>"
            ]
          },
          "metadata": {
            "tags": []
          }
        },
        {
          "output_type": "display_data",
          "data": {
            "application/javascript": [
              "download(\"download_24d529e5-777c-48cc-9b1e-e466ee3b25ef\", \"vectors.tsv\", 15382862)"
            ],
            "text/plain": [
              "<IPython.core.display.Javascript object>"
            ]
          },
          "metadata": {
            "tags": []
          }
        },
        {
          "output_type": "display_data",
          "data": {
            "application/javascript": [
              "\n",
              "    async function download(id, filename, size) {\n",
              "      if (!google.colab.kernel.accessAllowed) {\n",
              "        return;\n",
              "      }\n",
              "      const div = document.createElement('div');\n",
              "      const label = document.createElement('label');\n",
              "      label.textContent = `Downloading \"${filename}\": `;\n",
              "      div.appendChild(label);\n",
              "      const progress = document.createElement('progress');\n",
              "      progress.max = size;\n",
              "      div.appendChild(progress);\n",
              "      document.body.appendChild(div);\n",
              "\n",
              "      const buffers = [];\n",
              "      let downloaded = 0;\n",
              "\n",
              "      const channel = await google.colab.kernel.comms.open(id);\n",
              "      // Send a message to notify the kernel that we're ready.\n",
              "      channel.send({})\n",
              "\n",
              "      for await (const message of channel.messages) {\n",
              "        // Send a message to notify the kernel that we're ready.\n",
              "        channel.send({})\n",
              "        if (message.buffers) {\n",
              "          for (const buffer of message.buffers) {\n",
              "            buffers.push(buffer);\n",
              "            downloaded += buffer.byteLength;\n",
              "            progress.value = downloaded;\n",
              "          }\n",
              "        }\n",
              "      }\n",
              "      const blob = new Blob(buffers, {type: 'application/binary'});\n",
              "      const a = document.createElement('a');\n",
              "      a.href = window.URL.createObjectURL(blob);\n",
              "      a.download = filename;\n",
              "      div.appendChild(a);\n",
              "      a.click();\n",
              "      div.remove();\n",
              "    }\n",
              "  "
            ],
            "text/plain": [
              "<IPython.core.display.Javascript object>"
            ]
          },
          "metadata": {
            "tags": []
          }
        },
        {
          "output_type": "display_data",
          "data": {
            "application/javascript": [
              "download(\"download_8d91c44f-4738-453b-9ef2-0a6e01324e9d\", \"metadata.tsv\", 80388)"
            ],
            "text/plain": [
              "<IPython.core.display.Javascript object>"
            ]
          },
          "metadata": {
            "tags": []
          }
        }
      ]
    },
    {
      "cell_type": "markdown",
      "metadata": {
        "id": "NhguckfFYtfD"
      },
      "source": [
        "Downloading the files above can be visualize them using https://projector.tensorflow.org/ and clicking the \"load\" button on the left hand side.\n",
        "\n",
        "**Resources** If you'd like to know more about embeddings, I'd encourage you to check out:\n",
        " * Jay Alammar's visualized word2vec post : https://jalammar.github.io/illustrated-word2vec/\n",
        " * TensorFlow's Word Embeddings guide : https://www.tensorflow.org/text/guide/word_embeddings"
      ]
    },
    {
      "cell_type": "markdown",
      "metadata": {
        "id": "KfPsIs05ZSjs"
      },
      "source": [
        "## Recurrent Neural Networks (RNN's)\n",
        "\n",
        "RNN's are useful for sequence data.\n",
        "\n",
        "The premise of a recurrent neural network is to use the representation of a previous input to aid the representation of later input.\n",
        "\n",
        "\n",
        "**Resources** : If you want to learn the understanding of RNN , here are some of the useful links :\n",
        "* MIT's sequence modelling lecture https://www.youtube.com/watch?v=qjrad0V0uJE\n",
        "* Chris Olah's intro to LSTMs : https://colah.github.io/posts/2015-08-Understanding-LSTMs/\n",
        "* Andrej Karpathy's the unreasonable effectiveness of recurrent neural networks : http://karpathy.github.io/2015/05/21/rnn-effectiveness/"
      ]
    },
    {
      "cell_type": "markdown",
      "metadata": {
        "id": "-QIsbOLDaiH1"
      },
      "source": [
        "![image.png](data:image/png;base64,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)"
      ]
    },
    {
      "cell_type": "markdown",
      "metadata": {
        "id": "dDdM78fkZuJQ"
      },
      "source": [
        "![image.png](data:image/png;base64,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)"
      ]
    },
    {
      "cell_type": "markdown",
      "metadata": {
        "id": "-RhSSvH_cYT6"
      },
      "source": [
        "### Model 2 : LSTM\n",
        "\n",
        "LSTM - Long Short Term Memory ( one of the most popular LSTM cells)\n",
        "\n",
        "Our structure of an RNN typically looks like this :\n",
        "\n",
        "```\n",
        "Input(text) -> Tokenize -> Embedding -> Layers(RNNs/dense) -> Output (label probability)\n",
        "```\n",
        "\n",
        "Check documentation here : https://www.tensorflow.org/api_docs/python/tf/keras/layers/LSTM\n",
        "\n",
        "Tanh Activation functions : https://ml-cheatsheet.readthedocs.io/en/latest/activation_functions.html"
      ]
    },
    {
      "cell_type": "code",
      "metadata": {
        "id": "72uVdNfydzBr"
      },
      "source": [
        "# Create an LSTM model\n",
        "from tensorflow.keras import layers\n",
        "\n",
        "inputs = layers.Input(shape=(1, ), dtype=\"string\")\n",
        "x = text_vectorizer(inputs)\n",
        "x = embedding(x)\n",
        "#print(x.shape)\n",
        "x = layers.LSTM(units=64, return_sequences=True)(x) # when you're stacking RNN cells together, you need to set return_sequences=True \n",
        "#print(x.shape)\n",
        "x = layers.LSTM(64)(x)\n",
        "#print(x.shape)\n",
        "#x = layers.Dense(64, activation=\"relu\")(x)\n",
        "#print(x.shape)\n",
        "outputs = layers.Dense(1, activation=\"sigmoid\")(x)\n",
        "model_2 = tf.keras.Model(inputs, outputs, name=\"model_2_LSTM\")\n"
      ],
      "execution_count": 53,
      "outputs": []
    },
    {
      "cell_type": "code",
      "metadata": {
        "colab": {
          "base_uri": "https://localhost:8080/"
        },
        "id": "6Z8GuHDQdhqR",
        "outputId": "72f391ac-cd2d-4a5b-8770-4c06e293737a"
      },
      "source": [
        "# Check model summary\n",
        "model_2.summary()"
      ],
      "execution_count": 54,
      "outputs": [
        {
          "output_type": "stream",
          "text": [
            "Model: \"model_2_LSTM\"\n",
            "_________________________________________________________________\n",
            "Layer (type)                 Output Shape              Param #   \n",
            "=================================================================\n",
            "input_2 (InputLayer)         [(None, 1)]               0         \n",
            "_________________________________________________________________\n",
            "text_vectorization_1 (TextVe (None, 15)                0         \n",
            "_________________________________________________________________\n",
            "embedding (Embedding)        (None, 15, 128)           1280000   \n",
            "_________________________________________________________________\n",
            "lstm (LSTM)                  (None, 15, 64)            49408     \n",
            "_________________________________________________________________\n",
            "lstm_1 (LSTM)                (None, 64)                33024     \n",
            "_________________________________________________________________\n",
            "dense_1 (Dense)              (None, 1)                 65        \n",
            "=================================================================\n",
            "Total params: 1,362,497\n",
            "Trainable params: 1,362,497\n",
            "Non-trainable params: 0\n",
            "_________________________________________________________________\n"
          ],
          "name": "stdout"
        }
      ]
    },
    {
      "cell_type": "code",
      "metadata": {
        "id": "VmEIjSkjhp2F"
      },
      "source": [
        "# Compile the model_2\n",
        "model_2.compile(loss=\"binary_crossentropy\",\n",
        "                optimizer=tf.keras.optimizers.Adam(),\n",
        "                metrics=[\"accuracy\"])\n"
      ],
      "execution_count": 55,
      "outputs": []
    },
    {
      "cell_type": "code",
      "metadata": {
        "colab": {
          "base_uri": "https://localhost:8080/"
        },
        "id": "Da8tcYcXiQKJ",
        "outputId": "c1e2662b-67b6-4a17-d4de-3c8b52394747"
      },
      "source": [
        "# Fit the model\n",
        "model_2_history = model_2.fit(train_sentences,\n",
        "                              y = train_labels,\n",
        "                              epochs=5,\n",
        "                              validation_data=(val_sentences, val_labels),\n",
        "                              callbacks=[create_tensorboard_callback(dir_name=SAVE_DIR,\n",
        "                                                                     experiment_name=\"model_2_LSTM\")])"
      ],
      "execution_count": 56,
      "outputs": [
        {
          "output_type": "stream",
          "text": [
            "Saving TensorBoard log files to: model_logs/model_2_LSTM/20210807-020553\n",
            "Epoch 1/5\n",
            "215/215 [==============================] - 12s 27ms/step - loss: 0.2170 - accuracy: 0.9199 - val_loss: 0.6102 - val_accuracy: 0.7808\n",
            "Epoch 2/5\n",
            "215/215 [==============================] - 4s 20ms/step - loss: 0.1577 - accuracy: 0.9421 - val_loss: 0.6777 - val_accuracy: 0.7808\n",
            "Epoch 3/5\n",
            "215/215 [==============================] - 4s 20ms/step - loss: 0.1297 - accuracy: 0.9511 - val_loss: 0.7151 - val_accuracy: 0.7782\n",
            "Epoch 4/5\n",
            "215/215 [==============================] - 4s 20ms/step - loss: 0.1054 - accuracy: 0.9594 - val_loss: 0.7328 - val_accuracy: 0.7795\n",
            "Epoch 5/5\n",
            "215/215 [==============================] - 4s 21ms/step - loss: 0.0843 - accuracy: 0.9651 - val_loss: 0.9078 - val_accuracy: 0.7795\n"
          ],
          "name": "stdout"
        }
      ]
    },
    {
      "cell_type": "code",
      "metadata": {
        "id": "Jh-FPRvVjE66",
        "colab": {
          "base_uri": "https://localhost:8080/"
        },
        "outputId": "48b9d421-bdfe-4a55-e5ac-b54970910ab2"
      },
      "source": [
        "# Make predictions with LSTM model\n",
        "model_2_pred_probs = model_2.predict(val_sentences)\n",
        "model_2_pred_probs[:10]"
      ],
      "execution_count": 57,
      "outputs": [
        {
          "output_type": "execute_result",
          "data": {
            "text/plain": [
              "array([[2.4881173e-02],\n",
              "       [8.6917067e-01],\n",
              "       [9.9993801e-01],\n",
              "       [9.9710599e-02],\n",
              "       [1.6365247e-04],\n",
              "       [9.9976093e-01],\n",
              "       [9.5661867e-01],\n",
              "       [9.9995506e-01],\n",
              "       [9.9994326e-01],\n",
              "       [3.3701795e-01]], dtype=float32)"
            ]
          },
          "metadata": {
            "tags": []
          },
          "execution_count": 57
        }
      ]
    },
    {
      "cell_type": "code",
      "metadata": {
        "id": "MYhY0rlui64E",
        "colab": {
          "base_uri": "https://localhost:8080/"
        },
        "outputId": "ba00e9d0-7128-4e19-a2c5-a388cb34c411"
      },
      "source": [
        "# Convert model 2 pred probs to labels\n",
        "model_2_preds = tf.squeeze(tf.round(model_2_pred_probs))\n",
        "model_2_preds[:10]"
      ],
      "execution_count": 58,
      "outputs": [
        {
          "output_type": "execute_result",
          "data": {
            "text/plain": [
              "<tf.Tensor: shape=(10,), dtype=float32, numpy=array([0., 1., 1., 0., 0., 1., 1., 1., 1., 0.], dtype=float32)>"
            ]
          },
          "metadata": {
            "tags": []
          },
          "execution_count": 58
        }
      ]
    },
    {
      "cell_type": "code",
      "metadata": {
        "id": "fFjDUmg6jj2j",
        "colab": {
          "base_uri": "https://localhost:8080/"
        },
        "outputId": "1f30f902-daa1-4db8-95c7-df1615b056e3"
      },
      "source": [
        "# Calculate model 2 results\n",
        "model_2_results = calculate_results(y_true = val_labels,\n",
        "                                    y_pred = model_2_preds)\n",
        "model_2_results"
      ],
      "execution_count": 59,
      "outputs": [
        {
          "output_type": "execute_result",
          "data": {
            "text/plain": [
              "{'accuracy': 77.95275590551181,\n",
              " 'f1': 0.7782139444386276,\n",
              " 'precision': 0.7800661437025787,\n",
              " 'recall': 0.7795275590551181}"
            ]
          },
          "metadata": {
            "tags": []
          },
          "execution_count": 59
        }
      ]
    },
    {
      "cell_type": "code",
      "metadata": {
        "id": "sttis0-bj0VD",
        "colab": {
          "base_uri": "https://localhost:8080/"
        },
        "outputId": "ebd8299d-759b-43dd-e67d-4d650e9ace1d"
      },
      "source": [
        "baseline_results"
      ],
      "execution_count": 60,
      "outputs": [
        {
          "output_type": "execute_result",
          "data": {
            "text/plain": [
              "{'accuracy': 79.26509186351706,\n",
              " 'f1': 0.7862189758049549,\n",
              " 'precision': 0.8111390004213173,\n",
              " 'recall': 0.7926509186351706}"
            ]
          },
          "metadata": {
            "tags": []
          },
          "execution_count": 60
        }
      ]
    },
    {
      "cell_type": "markdown",
      "metadata": {
        "id": "HpwXm7qXkAO2"
      },
      "source": [
        "### Model 3 : GRU\n",
        "\n",
        "Gated Recurrent Unit\n",
        "Another popular and effective RNN component is the GRU or gated recurrent unit.\n",
        "\n",
        "The GRU cell has similar features to an LSTM cell but has less parameters.\n",
        "https://www.tensorflow.org/api_docs/python/tf/keras/layers/GRU\n"
      ]
    },
    {
      "cell_type": "code",
      "metadata": {
        "id": "y1uFhbbekRE4"
      },
      "source": [
        "# Build an RNN using the GRU cell\n",
        "from tensorflow.keras import layers\n",
        "\n",
        "inputs = layers.Input(shape=(1, ), dtype=\"string\")\n",
        "x = text_vectorizer(inputs)\n",
        "x = embedding(x)\n",
        "x = layers.GRU(64)(x)\n",
        "#print(x.shape)\n",
        "#x = layers.GRU(64, return_sequences=True)(x) # when you're stacking LSTM/GRU set return sequence = True\n",
        "#print(x.shape)\n",
        "#x = layers.LSTM(64, return_sequences=True)(x)\n",
        "#print(x.shape)\n",
        "#x = layers.GRU(64)(x)\n",
        "#print(x.shape)\n",
        "# Dense layer\n",
        "#x = layers.Dense(64, activation=\"relu\")(x)\n",
        "#print(x.shape)\n",
        "#x = layers.GlobalAveragePooling1D()(x)\n",
        "outputs = layers.Dense(1, activation=\"sigmoid\")(x)\n",
        "model_3 = tf.keras.Model(inputs, outputs, name=\"model_3_GRU\")"
      ],
      "execution_count": 61,
      "outputs": []
    },
    {
      "cell_type": "code",
      "metadata": {
        "id": "80LmHAbfmEV0",
        "colab": {
          "base_uri": "https://localhost:8080/"
        },
        "outputId": "cb7e9481-ea52-4d46-faf1-37f1d402cde9"
      },
      "source": [
        "# Model 3 Summary\n",
        "model_3.summary()"
      ],
      "execution_count": 62,
      "outputs": [
        {
          "output_type": "stream",
          "text": [
            "Model: \"model_3_GRU\"\n",
            "_________________________________________________________________\n",
            "Layer (type)                 Output Shape              Param #   \n",
            "=================================================================\n",
            "input_3 (InputLayer)         [(None, 1)]               0         \n",
            "_________________________________________________________________\n",
            "text_vectorization_1 (TextVe (None, 15)                0         \n",
            "_________________________________________________________________\n",
            "embedding (Embedding)        (None, 15, 128)           1280000   \n",
            "_________________________________________________________________\n",
            "gru (GRU)                    (None, 64)                37248     \n",
            "_________________________________________________________________\n",
            "dense_2 (Dense)              (None, 1)                 65        \n",
            "=================================================================\n",
            "Total params: 1,317,313\n",
            "Trainable params: 1,317,313\n",
            "Non-trainable params: 0\n",
            "_________________________________________________________________\n"
          ],
          "name": "stdout"
        }
      ]
    },
    {
      "cell_type": "code",
      "metadata": {
        "id": "V2uGFE0imKiI"
      },
      "source": [
        "# Compile the model\n",
        "model_3.compile(loss=\"binary_crossentropy\",\n",
        "                optimizer=tf.keras.optimizers.Adam(),\n",
        "                metrics=[\"accuracy\"])"
      ],
      "execution_count": 63,
      "outputs": []
    },
    {
      "cell_type": "code",
      "metadata": {
        "id": "lodsw05YmW50",
        "colab": {
          "base_uri": "https://localhost:8080/"
        },
        "outputId": "a29d21e8-70c2-4e5e-c8a8-b2c39d1b6e30"
      },
      "source": [
        "# Fit the model\n",
        "model_3_history = model_3.fit(train_sentences, \n",
        "                              y = train_labels,\n",
        "                              epochs=5,\n",
        "                              validation_data=(val_sentences, val_labels),\n",
        "                              callbacks=[create_tensorboard_callback(dir_name=SAVE_DIR,\n",
        "                                                                     experiment_name=\"model_3_GRU\")])"
      ],
      "execution_count": 64,
      "outputs": [
        {
          "output_type": "stream",
          "text": [
            "Saving TensorBoard log files to: model_logs/model_3_GRU/20210807-020638\n",
            "Epoch 1/5\n",
            "215/215 [==============================] - 6s 21ms/step - loss: 0.1549 - accuracy: 0.9369 - val_loss: 0.8292 - val_accuracy: 0.7743\n",
            "Epoch 2/5\n",
            "215/215 [==============================] - 4s 16ms/step - loss: 0.0837 - accuracy: 0.9704 - val_loss: 0.9327 - val_accuracy: 0.7782\n",
            "Epoch 3/5\n",
            "215/215 [==============================] - 4s 17ms/step - loss: 0.0677 - accuracy: 0.9724 - val_loss: 1.0852 - val_accuracy: 0.7795\n",
            "Epoch 4/5\n",
            "215/215 [==============================] - 4s 16ms/step - loss: 0.0580 - accuracy: 0.9766 - val_loss: 1.0052 - val_accuracy: 0.7703\n",
            "Epoch 5/5\n",
            "215/215 [==============================] - 4s 16ms/step - loss: 0.0550 - accuracy: 0.9755 - val_loss: 1.1124 - val_accuracy: 0.7756\n"
          ],
          "name": "stdout"
        }
      ]
    },
    {
      "cell_type": "code",
      "metadata": {
        "id": "W_Nv0Y4juCOy",
        "colab": {
          "base_uri": "https://localhost:8080/"
        },
        "outputId": "9985cbdb-828f-4149-e3d6-359911d7b7ca"
      },
      "source": [
        "# Make some predictions with our GRU model\n",
        "model_3_pred_probs = model_3.predict(val_sentences)\n",
        "model_3_pred_probs[:10]"
      ],
      "execution_count": 65,
      "outputs": [
        {
          "output_type": "execute_result",
          "data": {
            "text/plain": [
              "array([[2.2101270e-02],\n",
              "       [7.9189664e-01],\n",
              "       [9.9995458e-01],\n",
              "       [6.0436573e-02],\n",
              "       [1.2708169e-04],\n",
              "       [9.9982160e-01],\n",
              "       [9.8404455e-01],\n",
              "       [9.9996257e-01],\n",
              "       [9.9994862e-01],\n",
              "       [8.7722087e-01]], dtype=float32)"
            ]
          },
          "metadata": {
            "tags": []
          },
          "execution_count": 65
        }
      ]
    },
    {
      "cell_type": "code",
      "metadata": {
        "id": "Ce88OoJsuUs8",
        "colab": {
          "base_uri": "https://localhost:8080/"
        },
        "outputId": "db96d081-411c-441a-f23a-e744f6b525f6"
      },
      "source": [
        "# Convert model 3 pred probs to labels\n",
        "model_3_preds = tf.squeeze(tf.round(model_3_pred_probs))\n",
        "model_3_preds[:10]"
      ],
      "execution_count": 66,
      "outputs": [
        {
          "output_type": "execute_result",
          "data": {
            "text/plain": [
              "<tf.Tensor: shape=(10,), dtype=float32, numpy=array([0., 1., 1., 0., 0., 1., 1., 1., 1., 1.], dtype=float32)>"
            ]
          },
          "metadata": {
            "tags": []
          },
          "execution_count": 66
        }
      ]
    },
    {
      "cell_type": "code",
      "metadata": {
        "id": "F0E8i0V8ujJE",
        "colab": {
          "base_uri": "https://localhost:8080/"
        },
        "outputId": "0915d9ad-12d9-4f90-dab8-2acacdaba1e9"
      },
      "source": [
        "# Calculate model 3 results\n",
        "model_3_results = calculate_results(y_true=val_labels,\n",
        "                                    y_pred=model_3_preds)\n",
        "model_3_results"
      ],
      "execution_count": 67,
      "outputs": [
        {
          "output_type": "execute_result",
          "data": {
            "text/plain": [
              "{'accuracy': 77.55905511811024,\n",
              " 'f1': 0.7743062301518678,\n",
              " 'precision': 0.7759863909628747,\n",
              " 'recall': 0.7755905511811023}"
            ]
          },
          "metadata": {
            "tags": []
          },
          "execution_count": 67
        }
      ]
    },
    {
      "cell_type": "markdown",
      "metadata": {
        "id": "Ntez4h9ZuvwP"
      },
      "source": [
        "### Model 4 : Bidirectional RNN\n",
        "\n",
        "Normal RNN's go from left to right (just like you'd read an English sentence), however, a bidirectional RNN goes from right to left as well as left to right.\n",
        "\n",
        "Another popular and effective RNN component is the Bi-directional.\n",
        "https://www.tensorflow.org/api_docs/python/tf/keras/layers/Bidirectional"
      ]
    },
    {
      "cell_type": "code",
      "metadata": {
        "id": "13n1zzwhv73e"
      },
      "source": [
        "## Build a birectional RNN in TensorFlow\n",
        "from tensorflow.keras import layers\n",
        "\n",
        "inputs = layers.Input(shape=(1, ), dtype=\"string\")\n",
        "x = text_vectorizer(inputs)\n",
        "x = embedding(x)\n",
        "#x = layers.Bidirectional(layers.LSTM(64, return_sequences=True))(x)\n",
        "#print(x.shape)\n",
        "x = layers.Bidirectional(layers.LSTM(64))(x)\n",
        "outputs = layers.Dense(1, activation=\"sigmoid\")(x)\n",
        "model_4 = tf.keras.Model(inputs, outputs, name=\"model_4_bidirectional\")"
      ],
      "execution_count": 68,
      "outputs": []
    },
    {
      "cell_type": "code",
      "metadata": {
        "id": "sB23BJLM1Su4",
        "colab": {
          "base_uri": "https://localhost:8080/"
        },
        "outputId": "cc495cb1-8574-4bb5-ad7b-1bb2956c07d2"
      },
      "source": [
        "# Get a summary\n",
        "model_4.summary()"
      ],
      "execution_count": 69,
      "outputs": [
        {
          "output_type": "stream",
          "text": [
            "Model: \"model_4_bidirectional\"\n",
            "_________________________________________________________________\n",
            "Layer (type)                 Output Shape              Param #   \n",
            "=================================================================\n",
            "input_4 (InputLayer)         [(None, 1)]               0         \n",
            "_________________________________________________________________\n",
            "text_vectorization_1 (TextVe (None, 15)                0         \n",
            "_________________________________________________________________\n",
            "embedding (Embedding)        (None, 15, 128)           1280000   \n",
            "_________________________________________________________________\n",
            "bidirectional (Bidirectional (None, 128)               98816     \n",
            "_________________________________________________________________\n",
            "dense_3 (Dense)              (None, 1)                 129       \n",
            "=================================================================\n",
            "Total params: 1,378,945\n",
            "Trainable params: 1,378,945\n",
            "Non-trainable params: 0\n",
            "_________________________________________________________________\n"
          ],
          "name": "stdout"
        }
      ]
    },
    {
      "cell_type": "code",
      "metadata": {
        "id": "796azQh90iSm"
      },
      "source": [
        "# Compile the model\n",
        "model_4.compile(loss=\"binary_crossentropy\",\n",
        "                optimizer=tf.keras.optimizers.Adam(),\n",
        "                metrics=[\"accuracy\"])"
      ],
      "execution_count": 70,
      "outputs": []
    },
    {
      "cell_type": "code",
      "metadata": {
        "id": "tixVJ1EY2F9v",
        "colab": {
          "base_uri": "https://localhost:8080/"
        },
        "outputId": "a6120281-cdbf-461e-e3cf-8bef71d026bc"
      },
      "source": [
        "# Fit the model\n",
        "model_4.fit(train_sentences, \n",
        "            train_labels,\n",
        "            epochs=5,\n",
        "            validation_data=(val_sentences, val_labels),\n",
        "            callbacks=[create_tensorboard_callback(dir_name=SAVE_DIR,\n",
        "                                                   experiment_name=\"model_4_bidirectional\")])"
      ],
      "execution_count": 71,
      "outputs": [
        {
          "output_type": "stream",
          "text": [
            "Saving TensorBoard log files to: model_logs/model_4_bidirectional/20210807-020700\n",
            "Epoch 1/5\n",
            "215/215 [==============================] - 8s 27ms/step - loss: 0.1110 - accuracy: 0.9669 - val_loss: 0.9667 - val_accuracy: 0.7795\n",
            "Epoch 2/5\n",
            "215/215 [==============================] - 4s 20ms/step - loss: 0.0538 - accuracy: 0.9771 - val_loss: 0.9076 - val_accuracy: 0.7730\n",
            "Epoch 3/5\n",
            "215/215 [==============================] - 4s 20ms/step - loss: 0.0455 - accuracy: 0.9797 - val_loss: 1.1728 - val_accuracy: 0.7664\n",
            "Epoch 4/5\n",
            "215/215 [==============================] - 4s 20ms/step - loss: 0.0441 - accuracy: 0.9783 - val_loss: 1.2640 - val_accuracy: 0.7743\n",
            "Epoch 5/5\n",
            "215/215 [==============================] - 4s 20ms/step - loss: 0.0405 - accuracy: 0.9807 - val_loss: 1.4729 - val_accuracy: 0.7638\n"
          ],
          "name": "stdout"
        },
        {
          "output_type": "execute_result",
          "data": {
            "text/plain": [
              "<tensorflow.python.keras.callbacks.History at 0x7f51972db390>"
            ]
          },
          "metadata": {
            "tags": []
          },
          "execution_count": 71
        }
      ]
    },
    {
      "cell_type": "code",
      "metadata": {
        "id": "89_GrVLi2aJa",
        "colab": {
          "base_uri": "https://localhost:8080/"
        },
        "outputId": "b0098a8d-7b43-46a0-8123-32e0f8141072"
      },
      "source": [
        "# Check model predictions\n",
        "model_4_pred_probs = model_4.predict(val_sentences)\n",
        "model_4_pred_probs[:10]"
      ],
      "execution_count": 72,
      "outputs": [
        {
          "output_type": "execute_result",
          "data": {
            "text/plain": [
              "array([[4.2212806e-03],\n",
              "       [8.3777338e-01],\n",
              "       [9.9995208e-01],\n",
              "       [2.7390778e-01],\n",
              "       [1.0113524e-05],\n",
              "       [9.9948990e-01],\n",
              "       [9.7079092e-01],\n",
              "       [9.9997604e-01],\n",
              "       [9.9996126e-01],\n",
              "       [9.9840218e-01]], dtype=float32)"
            ]
          },
          "metadata": {
            "tags": []
          },
          "execution_count": 72
        }
      ]
    },
    {
      "cell_type": "code",
      "metadata": {
        "id": "AVhVnnK02pnB",
        "colab": {
          "base_uri": "https://localhost:8080/"
        },
        "outputId": "9bef9dcd-4feb-4eeb-8076-8ae55036c075"
      },
      "source": [
        "# Convert model 4 pred probs to labels\n",
        "model_4_preds = tf.squeeze(tf.round(model_4_pred_probs))\n",
        "model_4_preds[:10]"
      ],
      "execution_count": 73,
      "outputs": [
        {
          "output_type": "execute_result",
          "data": {
            "text/plain": [
              "<tf.Tensor: shape=(10,), dtype=float32, numpy=array([0., 1., 1., 0., 0., 1., 1., 1., 1., 1.], dtype=float32)>"
            ]
          },
          "metadata": {
            "tags": []
          },
          "execution_count": 73
        }
      ]
    },
    {
      "cell_type": "code",
      "metadata": {
        "id": "wZsMhZV-2xS2",
        "colab": {
          "base_uri": "https://localhost:8080/"
        },
        "outputId": "cc802b22-d5c3-467a-c1ab-1542b1f7a946"
      },
      "source": [
        "# Calculate results of our bidirectional model\n",
        "model_4_results = calculate_results(y_true=val_labels,\n",
        "                                    y_pred=model_4_preds)\n",
        "model_4_results"
      ],
      "execution_count": 74,
      "outputs": [
        {
          "output_type": "execute_result",
          "data": {
            "text/plain": [
              "{'accuracy': 76.37795275590551,\n",
              " 'f1': 0.7632395197882116,\n",
              " 'precision': 0.7633788771640306,\n",
              " 'recall': 0.7637795275590551}"
            ]
          },
          "metadata": {
            "tags": []
          },
          "execution_count": 74
        }
      ]
    },
    {
      "cell_type": "markdown",
      "metadata": {
        "id": "LcgFrN9E5ey3"
      },
      "source": [
        "## Convolution Neural Networks for Text(and other types of sequences)\n",
        "\n",
        "We've use CNNs for images but images are typically 2D (height x width)... howver our text data is 1D.\n",
        "\n",
        "Previously we've used Conv2D for our image data but we're going to use Conv1D.\n",
        "The typical structure of a Conv1D model for  sequences (in our case, text) :\n",
        "\n",
        "```\n",
        "Inputs(text) -> Tokenization -> Embedding -> Layer(s) (typically  Conv1D + pooling) -> Outputs (class probabilities)\n",
        "```"
      ]
    },
    {
      "cell_type": "markdown",
      "metadata": {
        "id": "UWiBUuyp3L2z"
      },
      "source": [
        "### Model 5 : Conv1D\n",
        "\n",
        "For different explanations of paramters see :\n",
        "* https://poloclub.github.io/cnn-explainer/ (this is for 2D but can related to 1D)\n",
        "\n",
        "* Difference between same and valid padding : https://stackoverflow.com/questions/37674306/what-is-the-difference-between-same-and-valid-padding-in-tf-nn-max-pool-of-t#:~:text=VALID%20%3A%20Don't%20apply%20any,filter%20and%20stride%20you%20specified.\n"
      ]
    },
    {
      "cell_type": "code",
      "metadata": {
        "id": "rEHuArl464ba",
        "colab": {
          "base_uri": "https://localhost:8080/"
        },
        "outputId": "bee556e7-27ac-4861-b1b1-bef700d526be"
      },
      "source": [
        "# Test out our embedding layer, Conv1D layer and max pooling\n",
        "from tensorflow.keras import layers\n",
        "embedding_test = embedding(text_vectorizer([\"this is a test sentence\"])) # turn target sequence into embedding\n",
        " \n",
        "conv_1d = layers.Conv1D(filters = 32,  # number of hidden units\n",
        "                        kernel_size=5, # this is also referred to as an ngram of 5 (meaning it looks to 5 words at at time)\n",
        "                        activation=\"relu\",\n",
        "                        strides=1, #default\n",
        "                        padding=\"same\") # default=\"valid\", the output is smaller than the input shape. \"same\" means output is same shape as input\n",
        "conv_1d_output = conv_1d(embedding_test) # pass test embedding through conv1D layer\n",
        "max_pool = layers.GlobalMaxPool1D()\n",
        "max_pool_output = max_pool(conv_1d_output) # Equivalent to \"get most important feature\" or \"get the feature with highest value\"\n",
        "\n",
        "embedding_test.shape, conv_1d_output.shape, max_pool_output.shape\n"
      ],
      "execution_count": 75,
      "outputs": [
        {
          "output_type": "execute_result",
          "data": {
            "text/plain": [
              "(TensorShape([1, 15, 128]), TensorShape([1, 15, 32]), TensorShape([1, 32]))"
            ]
          },
          "metadata": {
            "tags": []
          },
          "execution_count": 75
        }
      ]
    },
    {
      "cell_type": "code",
      "metadata": {
        "id": "CIBBUUQlijhJ",
        "colab": {
          "base_uri": "https://localhost:8080/"
        },
        "outputId": "df8559c0-3175-42e5-97ce-d21b644ccf0a"
      },
      "source": [
        "embedding_test"
      ],
      "execution_count": 76,
      "outputs": [
        {
          "output_type": "execute_result",
          "data": {
            "text/plain": [
              "<tf.Tensor: shape=(1, 15, 128), dtype=float32, numpy=\n",
              "array([[[ 0.00288088, -0.02894426,  0.02144892, ...,  0.02568233,\n",
              "          0.0520128 , -0.04309252],\n",
              "        [ 0.01158911, -0.03218063, -0.01019725, ..., -0.0166333 ,\n",
              "          0.04362177, -0.01331481],\n",
              "        [ 0.04607859, -0.04822852,  0.01291464, ..., -0.00540199,\n",
              "          0.04166798,  0.03600085],\n",
              "        ...,\n",
              "        [-0.01840484, -0.01374829, -0.01202649, ..., -0.04284095,\n",
              "          0.00016997,  0.00294751],\n",
              "        [-0.01840484, -0.01374829, -0.01202649, ..., -0.04284095,\n",
              "          0.00016997,  0.00294751],\n",
              "        [-0.01840484, -0.01374829, -0.01202649, ..., -0.04284095,\n",
              "          0.00016997,  0.00294751]]], dtype=float32)>"
            ]
          },
          "metadata": {
            "tags": []
          },
          "execution_count": 76
        }
      ]
    },
    {
      "cell_type": "code",
      "metadata": {
        "id": "mzihd4Eqili1"
      },
      "source": [
        "# Uncomment here to get some explanation\n",
        "#conv_1d_output"
      ],
      "execution_count": 77,
      "outputs": []
    },
    {
      "cell_type": "code",
      "metadata": {
        "id": "AqX9bJPQi8kb",
        "colab": {
          "base_uri": "https://localhost:8080/"
        },
        "outputId": "f4cf2c50-400f-42d8-8be5-68fb6b2bebaf"
      },
      "source": [
        "max_pool_output"
      ],
      "execution_count": 78,
      "outputs": [
        {
          "output_type": "execute_result",
          "data": {
            "text/plain": [
              "<tf.Tensor: shape=(1, 32), dtype=float32, numpy=\n",
              "array([[0.0316649 , 0.08462553, 0.04065392, 0.03392129, 0.01788498,\n",
              "        0.0905042 , 0.08108474, 0.00851698, 0.01576389, 0.0912873 ,\n",
              "        0.03347979, 0.02478206, 0.09794509, 0.04436603, 0.01749282,\n",
              "        0.04525109, 0.0410498 , 0.03144106, 0.04689078, 0.02894082,\n",
              "        0.02036255, 0.10341525, 0.00770821, 0.04152854, 0.05079519,\n",
              "        0.08258729, 0.08292805, 0.02062237, 0.05594284, 0.12605757,\n",
              "        0.01466934, 0.04793543]], dtype=float32)>"
            ]
          },
          "metadata": {
            "tags": []
          },
          "execution_count": 78
        }
      ]
    },
    {
      "cell_type": "code",
      "metadata": {
        "id": "9-8Md3iN5Tln"
      },
      "source": [
        "# Create the 1-dimensional convolutional layer to model sequences\n",
        "from tensorflow.keras import layers\n",
        "\n",
        "inputs = layers.Input(shape=(1, ), dtype=\"string\")\n",
        "x = text_vectorizer(inputs)\n",
        "x = embedding(x)\n",
        "x = layers.Conv1D(filters = 64, # number of hidden units\n",
        "                  kernel_size=5, # look at 5 words at a time n-gram =5\n",
        "                  padding=\"valid\", # default value\n",
        "                  strides=1, # default value\n",
        "                  activation=\"relu\")(x)\n",
        "x = layers.GlobalMaxPool1D()(x)\n",
        "# Pass dense layer if required\n",
        "#x = layers.Dense(64, activation=\"relu\")(x)\n",
        "outputs = layers.Dense(1, activation=\"sigmoid\")(x)\n",
        "model_5 = tf.keras.Model(inputs, outputs)\n"
      ],
      "execution_count": 79,
      "outputs": []
    },
    {
      "cell_type": "code",
      "metadata": {
        "id": "NDeW2_S2jcNg",
        "colab": {
          "base_uri": "https://localhost:8080/"
        },
        "outputId": "88bee625-c6cc-4286-bfe6-da38cd97e459"
      },
      "source": [
        "# Check model summary\n",
        "model_5.summary()"
      ],
      "execution_count": 80,
      "outputs": [
        {
          "output_type": "stream",
          "text": [
            "Model: \"model\"\n",
            "_________________________________________________________________\n",
            "Layer (type)                 Output Shape              Param #   \n",
            "=================================================================\n",
            "input_5 (InputLayer)         [(None, 1)]               0         \n",
            "_________________________________________________________________\n",
            "text_vectorization_1 (TextVe (None, 15)                0         \n",
            "_________________________________________________________________\n",
            "embedding (Embedding)        (None, 15, 128)           1280000   \n",
            "_________________________________________________________________\n",
            "conv1d_1 (Conv1D)            (None, 11, 64)            41024     \n",
            "_________________________________________________________________\n",
            "global_max_pooling1d_1 (Glob (None, 64)                0         \n",
            "_________________________________________________________________\n",
            "dense_4 (Dense)              (None, 1)                 65        \n",
            "=================================================================\n",
            "Total params: 1,321,089\n",
            "Trainable params: 1,321,089\n",
            "Non-trainable params: 0\n",
            "_________________________________________________________________\n"
          ],
          "name": "stdout"
        }
      ]
    },
    {
      "cell_type": "code",
      "metadata": {
        "id": "xmT2sSnEkwVg"
      },
      "source": [
        "# Compile the Conv1D model\n",
        "model_5.compile(loss=\"binary_crossentropy\",\n",
        "                optimizer=tf.keras.optimizers.Adam(),\n",
        "                metrics=[\"accuracy\"])\n"
      ],
      "execution_count": 81,
      "outputs": []
    },
    {
      "cell_type": "code",
      "metadata": {
        "id": "BClmoetYk84l",
        "colab": {
          "base_uri": "https://localhost:8080/"
        },
        "outputId": "13ea0099-e902-4fd4-a634-a8cb9706a116"
      },
      "source": [
        "# Fit the model\n",
        "model_5_history = model_5.fit(train_sentences,\n",
        "                              y=train_labels,\n",
        "                              epochs=5,\n",
        "                              validation_data=(val_sentences, val_labels),\n",
        "                              callbacks=[create_tensorboard_callback(dir_name=SAVE_DIR,\n",
        "                                                                     experiment_name=\"model_5_Conv1D\")])"
      ],
      "execution_count": 82,
      "outputs": [
        {
          "output_type": "stream",
          "text": [
            "Saving TensorBoard log files to: model_logs/model_5_Conv1D/20210807-020751\n",
            "Epoch 1/5\n",
            "215/215 [==============================] - 6s 21ms/step - loss: 0.1242 - accuracy: 0.9593 - val_loss: 0.8966 - val_accuracy: 0.7782\n",
            "Epoch 2/5\n",
            "215/215 [==============================] - 4s 17ms/step - loss: 0.0760 - accuracy: 0.9708 - val_loss: 1.0412 - val_accuracy: 0.7730\n",
            "Epoch 3/5\n",
            "215/215 [==============================] - 4s 17ms/step - loss: 0.0608 - accuracy: 0.9745 - val_loss: 1.1260 - val_accuracy: 0.7717\n",
            "Epoch 4/5\n",
            "215/215 [==============================] - 3s 16ms/step - loss: 0.0545 - accuracy: 0.9778 - val_loss: 1.1859 - val_accuracy: 0.7520\n",
            "Epoch 5/5\n",
            "215/215 [==============================] - 3s 16ms/step - loss: 0.0513 - accuracy: 0.9785 - val_loss: 1.1924 - val_accuracy: 0.7520\n"
          ],
          "name": "stdout"
        }
      ]
    },
    {
      "cell_type": "code",
      "metadata": {
        "id": "G7T_6XpXlOnz",
        "colab": {
          "base_uri": "https://localhost:8080/"
        },
        "outputId": "1e1957d7-3067-4a21-fc2f-dd03ec4b84da"
      },
      "source": [
        "# Make some predictions with our Conv1D model\n",
        "model_5_pred_probs = model_5.predict(val_sentences)\n",
        "model_5_pred_probs[:10]"
      ],
      "execution_count": 83,
      "outputs": [
        {
          "output_type": "execute_result",
          "data": {
            "text/plain": [
              "array([[8.9027412e-02],\n",
              "       [9.6944046e-01],\n",
              "       [9.9995613e-01],\n",
              "       [1.2337660e-01],\n",
              "       [4.9015696e-08],\n",
              "       [9.9786383e-01],\n",
              "       [9.6285784e-01],\n",
              "       [9.9998260e-01],\n",
              "       [9.9999940e-01],\n",
              "       [9.3260694e-01]], dtype=float32)"
            ]
          },
          "metadata": {
            "tags": []
          },
          "execution_count": 83
        }
      ]
    },
    {
      "cell_type": "code",
      "metadata": {
        "id": "G5kARGG0002_",
        "colab": {
          "base_uri": "https://localhost:8080/"
        },
        "outputId": "d3e84002-a421-4657-9645-fbf08fdcbb18"
      },
      "source": [
        "# Convert preds for model 5 into lables\n",
        "model_5_preds = tf.squeeze(tf.round(model_5_pred_probs))\n",
        "model_5_preds[:10]"
      ],
      "execution_count": 84,
      "outputs": [
        {
          "output_type": "execute_result",
          "data": {
            "text/plain": [
              "<tf.Tensor: shape=(10,), dtype=float32, numpy=array([0., 1., 1., 0., 0., 1., 1., 1., 1., 1.], dtype=float32)>"
            ]
          },
          "metadata": {
            "tags": []
          },
          "execution_count": 84
        }
      ]
    },
    {
      "cell_type": "code",
      "metadata": {
        "id": "B4VjFGrC1B8a",
        "colab": {
          "base_uri": "https://localhost:8080/"
        },
        "outputId": "ca819488-c99f-4408-e3f6-04a4ea525788"
      },
      "source": [
        "# Evaluate model 5 predictions\n",
        "model_5_results = calculate_results(y_true=val_labels,\n",
        "                                    y_pred = model_5_preds)\n",
        "model_5_results"
      ],
      "execution_count": 85,
      "outputs": [
        {
          "output_type": "execute_result",
          "data": {
            "text/plain": [
              "{'accuracy': 75.19685039370079,\n",
              " 'f1': 0.7505489912204856,\n",
              " 'precision': 0.7519989531509904,\n",
              " 'recall': 0.7519685039370079}"
            ]
          },
          "metadata": {
            "tags": []
          },
          "execution_count": 85
        }
      ]
    },
    {
      "cell_type": "code",
      "metadata": {
        "id": "tliUNtZA1X9R",
        "colab": {
          "base_uri": "https://localhost:8080/"
        },
        "outputId": "63643081-b153-490c-e6fa-7ba0fa72ed15"
      },
      "source": [
        "baseline_results"
      ],
      "execution_count": 86,
      "outputs": [
        {
          "output_type": "execute_result",
          "data": {
            "text/plain": [
              "{'accuracy': 79.26509186351706,\n",
              " 'f1': 0.7862189758049549,\n",
              " 'precision': 0.8111390004213173,\n",
              " 'recall': 0.7926509186351706}"
            ]
          },
          "metadata": {
            "tags": []
          },
          "execution_count": 86
        }
      ]
    },
    {
      "cell_type": "markdown",
      "metadata": {
        "id": "zUIN6ezw1jL7"
      },
      "source": [
        "## Model 6 : Tensorflow Hub Pretrained Sentence Encoder\n",
        "\n",
        "Now we've built a few of our models, let's try and use transfer learning for NLP, specifically using TensorFlow Hub's Universal Sentence Encoder :\n",
        "https://tfhub.dev/google/universal-sentence-encoder/4"
      ]
    },
    {
      "cell_type": "code",
      "metadata": {
        "id": "BV76D_LX2MVP",
        "colab": {
          "base_uri": "https://localhost:8080/"
        },
        "outputId": "6ab708c4-0635-45b5-826b-6b58739b2679"
      },
      "source": [
        "import tensorflow_hub as hub\n",
        "embed = hub.load(\"https://tfhub.dev/google/universal-sentence-encoder/4\")\n",
        "embed_samples=embed([ sample_sentence,  \n",
        "                     \"When you call the universal sentence encoder on a sentence, it turns it into numbers.\"])\n",
        "\n",
        "print(embed_samples[0][:50]) \n"
      ],
      "execution_count": 87,
      "outputs": [
        {
          "output_type": "stream",
          "text": [
            "tf.Tensor(\n",
            "[-0.01157027  0.0248591   0.02878048 -0.012715    0.03971538  0.0882776\n",
            "  0.02680985  0.05589838 -0.01068729 -0.00597292  0.00639323 -0.0181952\n",
            "  0.00030814  0.09105888  0.05874645 -0.03180628  0.01512474 -0.05162929\n",
            "  0.00991367 -0.06865346 -0.04209305  0.0267898   0.03011008  0.00321069\n",
            " -0.00337971 -0.04787356  0.02266719 -0.00985925 -0.04063613 -0.01292093\n",
            " -0.04666384  0.056303   -0.03949255  0.00517688  0.02495828 -0.07014441\n",
            "  0.02871508  0.04947684 -0.00633978 -0.08960193  0.02807117 -0.00808362\n",
            " -0.01360601  0.0599865  -0.10361787 -0.05195374  0.00232955 -0.0233253\n",
            " -0.03758105  0.03327729], shape=(50,), dtype=float32)\n"
          ],
          "name": "stdout"
        }
      ]
    },
    {
      "cell_type": "code",
      "metadata": {
        "id": "ES8mdLRg5N0v",
        "colab": {
          "base_uri": "https://localhost:8080/"
        },
        "outputId": "f05301aa-d172-4032-c653-95ee92f2edc2"
      },
      "source": [
        "embed_samples[0].shape  # 512 feature vector"
      ],
      "execution_count": 88,
      "outputs": [
        {
          "output_type": "execute_result",
          "data": {
            "text/plain": [
              "TensorShape([512])"
            ]
          },
          "metadata": {
            "tags": []
          },
          "execution_count": 88
        }
      ]
    },
    {
      "cell_type": "code",
      "metadata": {
        "id": "2L5T2P_S5tqG"
      },
      "source": [
        "# Create a Keras Layer using the USE pretrained layer from tensorflow hub\n",
        "\n",
        "sentence_encoder_layer = hub.KerasLayer(\"https://tfhub.dev/google/universal-sentence-encoder/4\", \n",
        "                                        input_shape=[],\n",
        "                                        dtype=\"string\",\n",
        "                                        trainable=False, # default value\n",
        "                                        name=\"USE\")\n"
      ],
      "execution_count": 89,
      "outputs": []
    },
    {
      "cell_type": "code",
      "metadata": {
        "id": "2q-Jua317GqY"
      },
      "source": [
        "# Create model using the Sequential API\n",
        "\n",
        "model_6 = tf.keras.Sequential([\n",
        "        sentence_encoder_layer,\n",
        "        layers.Dense(64, activation=\"relu\"),\n",
        "        layers.Dense(1, activation=\"sigmoid\", name=\"output_layer\")                                       \n",
        "], name=\"model_6_USE\")\n",
        "\n",
        "# Compile the model\n",
        "model_6.compile(loss=\"binary_crossentropy\",\n",
        "                optimizer=tf.keras.optimizers.Adam(),\n",
        "                metrics=[\"accuracy\"])"
      ],
      "execution_count": 90,
      "outputs": []
    },
    {
      "cell_type": "code",
      "metadata": {
        "id": "FvM57WHg7sHr",
        "colab": {
          "base_uri": "https://localhost:8080/"
        },
        "outputId": "19c37ade-89d2-4baf-cb02-0fa359ec5bbd"
      },
      "source": [
        "# Check model summary\n",
        "model_6.summary()"
      ],
      "execution_count": 91,
      "outputs": [
        {
          "output_type": "stream",
          "text": [
            "Model: \"model_6_USE\"\n",
            "_________________________________________________________________\n",
            "Layer (type)                 Output Shape              Param #   \n",
            "=================================================================\n",
            "USE (KerasLayer)             (None, 512)               256797824 \n",
            "_________________________________________________________________\n",
            "dense_5 (Dense)              (None, 64)                32832     \n",
            "_________________________________________________________________\n",
            "output_layer (Dense)         (None, 1)                 65        \n",
            "=================================================================\n",
            "Total params: 256,830,721\n",
            "Trainable params: 32,897\n",
            "Non-trainable params: 256,797,824\n",
            "_________________________________________________________________\n"
          ],
          "name": "stdout"
        }
      ]
    },
    {
      "cell_type": "code",
      "metadata": {
        "id": "Wog0ULzH7vr4",
        "colab": {
          "base_uri": "https://localhost:8080/"
        },
        "outputId": "22cc6b7c-c4ff-4dde-d0d8-fdc20272218a"
      },
      "source": [
        "# Train a classifer model on top of USE pretrained embeddings\n",
        "model_6_history = model_6.fit(train_sentences, \n",
        "                              y=train_labels,\n",
        "                              epochs=5,\n",
        "                              validation_data=(val_sentences, val_labels),\n",
        "                              callbacks=[create_tensorboard_callback(dir_name=SAVE_DIR,\n",
        "                                                                     experiment_name=\"tf_hub_sentence_encoder\")])\n"
      ],
      "execution_count": 92,
      "outputs": [
        {
          "output_type": "stream",
          "text": [
            "Saving TensorBoard log files to: model_logs/tf_hub_sentence_encoder/20210807-020832\n",
            "Epoch 1/5\n",
            "215/215 [==============================] - 7s 23ms/step - loss: 0.5076 - accuracy: 0.7806 - val_loss: 0.4482 - val_accuracy: 0.7992\n",
            "Epoch 2/5\n",
            "215/215 [==============================] - 2s 11ms/step - loss: 0.4155 - accuracy: 0.8173 - val_loss: 0.4433 - val_accuracy: 0.8031\n",
            "Epoch 3/5\n",
            "215/215 [==============================] - 2s 11ms/step - loss: 0.4012 - accuracy: 0.8221 - val_loss: 0.4347 - val_accuracy: 0.8084\n",
            "Epoch 4/5\n",
            "215/215 [==============================] - 2s 11ms/step - loss: 0.3930 - accuracy: 0.8289 - val_loss: 0.4302 - val_accuracy: 0.8123\n",
            "Epoch 5/5\n",
            "215/215 [==============================] - 2s 11ms/step - loss: 0.3856 - accuracy: 0.8321 - val_loss: 0.4256 - val_accuracy: 0.8150\n"
          ],
          "name": "stdout"
        }
      ]
    },
    {
      "cell_type": "code",
      "metadata": {
        "id": "dB3T5Z-j8YxA",
        "colab": {
          "base_uri": "https://localhost:8080/"
        },
        "outputId": "8c2c5ca0-e8d2-4bd3-811a-a9d3653a65a3"
      },
      "source": [
        "# Check the USE TF Hub Model predictions\n",
        "model_6_pred_probs = model_6.predict(val_sentences)\n",
        "model_6_pred_probs[:10]"
      ],
      "execution_count": 93,
      "outputs": [
        {
          "output_type": "execute_result",
          "data": {
            "text/plain": [
              "array([[0.20636   ],\n",
              "       [0.7948796 ],\n",
              "       [0.9911793 ],\n",
              "       [0.24564771],\n",
              "       [0.7744535 ],\n",
              "       [0.74314684],\n",
              "       [0.98497874],\n",
              "       [0.97999334],\n",
              "       [0.9609692 ],\n",
              "       [0.08277463]], dtype=float32)"
            ]
          },
          "metadata": {
            "tags": []
          },
          "execution_count": 93
        }
      ]
    },
    {
      "cell_type": "code",
      "metadata": {
        "id": "-LrGfl6z8i5h",
        "colab": {
          "base_uri": "https://localhost:8080/"
        },
        "outputId": "048859ad-1622-4b0a-869d-288fcdd4fe15"
      },
      "source": [
        "# Convert prediction probabilities to labels\n",
        "model_6_preds = tf.squeeze(tf.round(model_6_pred_probs))\n",
        "model_6_preds[:10]"
      ],
      "execution_count": 94,
      "outputs": [
        {
          "output_type": "execute_result",
          "data": {
            "text/plain": [
              "<tf.Tensor: shape=(10,), dtype=float32, numpy=array([0., 1., 1., 0., 1., 1., 1., 1., 1., 0.], dtype=float32)>"
            ]
          },
          "metadata": {
            "tags": []
          },
          "execution_count": 94
        }
      ]
    },
    {
      "cell_type": "code",
      "metadata": {
        "id": "CU-_n54N8vrJ",
        "colab": {
          "base_uri": "https://localhost:8080/"
        },
        "outputId": "37714c42-277e-4324-a5ce-90e18fbcb469"
      },
      "source": [
        "# Calculate the USE TF model performance\n",
        "model_6_results = calculate_results(y_true=val_labels,\n",
        "                                    y_pred=model_6_preds)\n",
        "model_6_results"
      ],
      "execution_count": 95,
      "outputs": [
        {
          "output_type": "execute_result",
          "data": {
            "text/plain": [
              "{'accuracy': 81.49606299212599,\n",
              " 'f1': 0.8138139523860313,\n",
              " 'precision': 0.8161852632862286,\n",
              " 'recall': 0.8149606299212598}"
            ]
          },
          "metadata": {
            "tags": []
          },
          "execution_count": 95
        }
      ]
    },
    {
      "cell_type": "code",
      "metadata": {
        "id": "sQK6M9jZ9CLd",
        "colab": {
          "base_uri": "https://localhost:8080/"
        },
        "outputId": "9eec8fc1-e38e-498b-d800-8b88b61065f7"
      },
      "source": [
        "baseline_results"
      ],
      "execution_count": 96,
      "outputs": [
        {
          "output_type": "execute_result",
          "data": {
            "text/plain": [
              "{'accuracy': 79.26509186351706,\n",
              " 'f1': 0.7862189758049549,\n",
              " 'precision': 0.8111390004213173,\n",
              " 'recall': 0.7926509186351706}"
            ]
          },
          "metadata": {
            "tags": []
          },
          "execution_count": 96
        }
      ]
    },
    {
      "cell_type": "code",
      "metadata": {
        "id": "tsitrrrU_Osf",
        "colab": {
          "base_uri": "https://localhost:8080/"
        },
        "outputId": "37dcf0c1-4c47-4c76-f4d3-964fc990ac6f"
      },
      "source": [
        "len(train_df_shuffled)"
      ],
      "execution_count": 97,
      "outputs": [
        {
          "output_type": "execute_result",
          "data": {
            "text/plain": [
              "7613"
            ]
          },
          "metadata": {
            "tags": []
          },
          "execution_count": 97
        }
      ]
    },
    {
      "cell_type": "markdown",
      "metadata": {
        "id": "YKpSBtn-_x9W"
      },
      "source": [
        "## Model 7 : TF HUb Pretrained USE but with 10% of training data\n",
        "\n",
        "Transfer learnig really helps when you don't have a large dataset.\n",
        "To see how our model performs on a smaller dataset, let's replicate `model_6` except we'll train it on 10% of the train data"
      ]
    },
    {
      "cell_type": "code",
      "metadata": {
        "id": "2nAx1TlbEHE7"
      },
      "source": [
        "## NOTE : Making data spits like below leads to data leakage (model_7 trained on 10% data, outperformsn model_6 trained on 100% )\n",
        "## DO NOT MAKE DATA SPLITS WHICH LEAK DATA FROM VALIDATION/TEST SETS INTO TRAINING_SET\n",
        "# Create subsets of 10% of the training data\n",
        "#train_10_percent = train_df_shuffled[[\"text\", \"target\"]].sample(frac=0.1, random_state=42)\n",
        "##train_10_percent.head(), len(train_10_percent)\n",
        "\n",
        "#train_sentences_10_percent = train_10_percent[\"text\"].to_list()\n",
        "#train_labels_10_percent = train_10_percent[\"target\"].to_list()\n"
      ],
      "execution_count": 98,
      "outputs": []
    },
    {
      "cell_type": "markdown",
      "metadata": {
        "id": "KAqqAIucwKi0"
      },
      "source": [
        "> **Note** : Be *very* careful when creating training/val test splits that you don't leak across the datasets, otherwise your model evaluation metrics will be wrong. If something looks too good to be true(a model trained on 10% of data outperforming the same model trained on 100% of data) trust your gut  and go back through to find where the error may lie."
      ]
    },
    {
      "cell_type": "code",
      "metadata": {
        "id": "X6sOfpKvsYE_",
        "colab": {
          "base_uri": "https://localhost:8080/"
        },
        "outputId": "f97cec6b-8a23-4794-fbb8-933037673e24"
      },
      "source": [
        "# Making a better dataset split (no data leakage)\n",
        "train_10_percent_split = int(.1 * len(train_sentences))\n",
        "\n",
        "train_sentences_10_percent = train_sentences[:train_10_percent_split]\n",
        "train_labels_10_percent = train_labels[:train_10_percent_split]\n",
        "len(train_sentences_10_percent), len(train_labels_10_percent)\n"
      ],
      "execution_count": 99,
      "outputs": [
        {
          "output_type": "execute_result",
          "data": {
            "text/plain": [
              "(685, 685)"
            ]
          },
          "metadata": {
            "tags": []
          },
          "execution_count": 99
        }
      ]
    },
    {
      "cell_type": "code",
      "metadata": {
        "id": "oFi64hgnslpS",
        "colab": {
          "base_uri": "https://localhost:8080/"
        },
        "outputId": "fa4d8960-5b9f-450e-db32-88f32f6fe734"
      },
      "source": [
        "# Check the number of each label in the udpated training data subset\n",
        "pd.Series(np.array(train_labels_10_percent)).value_counts()"
      ],
      "execution_count": 100,
      "outputs": [
        {
          "output_type": "execute_result",
          "data": {
            "text/plain": [
              "0    406\n",
              "1    279\n",
              "dtype: int64"
            ]
          },
          "metadata": {
            "tags": []
          },
          "execution_count": 100
        }
      ]
    },
    {
      "cell_type": "code",
      "metadata": {
        "id": "1w_vfLDLEwcD",
        "colab": {
          "base_uri": "https://localhost:8080/"
        },
        "outputId": "0dd637ce-e9e4-452f-e69d-56a1db8e1d54"
      },
      "source": [
        "len(train_sentences_10_percent), len(train_labels_10_percent)"
      ],
      "execution_count": 101,
      "outputs": [
        {
          "output_type": "execute_result",
          "data": {
            "text/plain": [
              "(685, 685)"
            ]
          },
          "metadata": {
            "tags": []
          },
          "execution_count": 101
        }
      ]
    },
    {
      "cell_type": "code",
      "metadata": {
        "id": "g5GrnbM2FOsq",
        "colab": {
          "base_uri": "https://localhost:8080/"
        },
        "outputId": "d6e21348-909d-42f5-988d-0e0555f6369d"
      },
      "source": [
        "train_df_shuffled[\"target\"].value_counts()"
      ],
      "execution_count": 102,
      "outputs": [
        {
          "output_type": "execute_result",
          "data": {
            "text/plain": [
              "0    4342\n",
              "1    3271\n",
              "Name: target, dtype: int64"
            ]
          },
          "metadata": {
            "tags": []
          },
          "execution_count": 102
        }
      ]
    },
    {
      "cell_type": "markdown",
      "metadata": {
        "id": "PF-0OduQGLXv"
      },
      "source": [
        "To recreate a model the same as previous model you've created, you can use the `tf.keras.model.clone_model()` method, see more here:\n",
        "\n",
        "https://www.tensorflow.org/api_docs/python/tf/keras/models/clone_model"
      ]
    },
    {
      "cell_type": "code",
      "metadata": {
        "id": "A689s78VG7uL"
      },
      "source": [
        "# Create the model 7 (clone from model 6)\n",
        "\n",
        "#model_7 = tf.keras.models.clone_model(model_6)\n",
        "\n",
        "# Compile the model\n",
        "#model_7.compile(loss=\"binary_crossentropy\",\n",
        "#                optimizer=tf.keras.optimizers.Adam(),\n",
        "#                metrics=[\"accuracy\"])"
      ],
      "execution_count": 103,
      "outputs": []
    },
    {
      "cell_type": "code",
      "metadata": {
        "id": "E7PYTE2oHyjV"
      },
      "source": [
        "# Create the model7  (same  as model 6) but fit with 10% training set\n",
        "\n",
        "model_7 = tf.keras.Sequential([\n",
        "       sentence_encoder_layer,\n",
        "       layers.Dense(64, activation=\"relu\"),\n",
        "       layers.Dense(1, activation=\"sigmoid\", name=\"output_layer\")                        \n",
        "], name=\"model_7_USE\")\n",
        "\n",
        "model_7.compile(loss=\"binary_crossentropy\",\n",
        "                optimizer=tf.keras.optimizers.Adam(),\n",
        "                metrics=[\"accuracy\"])\n"
      ],
      "execution_count": 104,
      "outputs": []
    },
    {
      "cell_type": "code",
      "metadata": {
        "id": "eMlQYtN_HY6p",
        "colab": {
          "base_uri": "https://localhost:8080/"
        },
        "outputId": "735450c7-6fd7-42b4-981f-eebb363c902c"
      },
      "source": [
        "# Get a summary(will be same as model _6)\n",
        "model_7.summary()"
      ],
      "execution_count": 105,
      "outputs": [
        {
          "output_type": "stream",
          "text": [
            "Model: \"model_7_USE\"\n",
            "_________________________________________________________________\n",
            "Layer (type)                 Output Shape              Param #   \n",
            "=================================================================\n",
            "USE (KerasLayer)             (None, 512)               256797824 \n",
            "_________________________________________________________________\n",
            "dense_6 (Dense)              (None, 64)                32832     \n",
            "_________________________________________________________________\n",
            "output_layer (Dense)         (None, 1)                 65        \n",
            "=================================================================\n",
            "Total params: 256,830,721\n",
            "Trainable params: 32,897\n",
            "Non-trainable params: 256,797,824\n",
            "_________________________________________________________________\n"
          ],
          "name": "stdout"
        }
      ]
    },
    {
      "cell_type": "code",
      "metadata": {
        "id": "KIHY5Pk8Hkr0",
        "colab": {
          "base_uri": "https://localhost:8080/"
        },
        "outputId": "211082e0-416b-4c32-bf89-9053821f94b5"
      },
      "source": [
        "# Fit the model (using the 10% percent train_data subsets)\n",
        "model_7_results = model_7.fit(train_sentences_10_percent,\n",
        "                              y = train_labels_10_percent,\n",
        "                              epochs=5,\n",
        "                              validation_data=(val_sentences, val_labels),\n",
        "                              callbacks=[create_tensorboard_callback(dir_name=SAVE_DIR,\n",
        "                                                                     experiment_name=\"tf_hub_sentence_encoder_10_percent_correct_split\")])"
      ],
      "execution_count": 106,
      "outputs": [
        {
          "output_type": "stream",
          "text": [
            "Saving TensorBoard log files to: model_logs/tf_hub_sentence_encoder_10_percent_correct_split/20210807-020849\n",
            "Epoch 1/5\n",
            "22/22 [==============================] - 3s 92ms/step - loss: 0.6669 - accuracy: 0.6847 - val_loss: 0.6432 - val_accuracy: 0.7454\n",
            "Epoch 2/5\n",
            "22/22 [==============================] - 1s 26ms/step - loss: 0.5929 - accuracy: 0.8073 - val_loss: 0.5813 - val_accuracy: 0.7730\n",
            "Epoch 3/5\n",
            "22/22 [==============================] - 1s 25ms/step - loss: 0.5162 - accuracy: 0.8204 - val_loss: 0.5276 - val_accuracy: 0.7769\n",
            "Epoch 4/5\n",
            "22/22 [==============================] - 1s 25ms/step - loss: 0.4555 - accuracy: 0.8234 - val_loss: 0.4986 - val_accuracy: 0.7743\n",
            "Epoch 5/5\n",
            "22/22 [==============================] - 0s 21ms/step - loss: 0.4167 - accuracy: 0.8365 - val_loss: 0.4873 - val_accuracy: 0.7874\n"
          ],
          "name": "stdout"
        }
      ]
    },
    {
      "cell_type": "code",
      "metadata": {
        "id": "fXlwru6BIhkv",
        "colab": {
          "base_uri": "https://localhost:8080/"
        },
        "outputId": "81d1ed4a-158e-470c-b9e8-4732429170b1"
      },
      "source": [
        "# Make predictions with the model trained on 10% of the data\n",
        "model_7_pred_probs = model_7.predict(val_sentences)\n",
        "model_7_pred_probs[:10]"
      ],
      "execution_count": 107,
      "outputs": [
        {
          "output_type": "execute_result",
          "data": {
            "text/plain": [
              "array([[0.22114834],\n",
              "       [0.6114091 ],\n",
              "       [0.9280373 ],\n",
              "       [0.33535025],\n",
              "       [0.55918974],\n",
              "       [0.7070435 ],\n",
              "       [0.90058607],\n",
              "       [0.81643605],\n",
              "       [0.85126674],\n",
              "       [0.1672143 ]], dtype=float32)"
            ]
          },
          "metadata": {
            "tags": []
          },
          "execution_count": 107
        }
      ]
    },
    {
      "cell_type": "code",
      "metadata": {
        "id": "6tSCf2pRIqcO",
        "colab": {
          "base_uri": "https://localhost:8080/"
        },
        "outputId": "911a5e7c-971d-4aae-bf38-85c57ee5e7f9"
      },
      "source": [
        "# Get the model preds\n",
        "model_7_preds = tf.squeeze(tf.round(model_7_pred_probs))\n",
        "model_7_preds[:10]"
      ],
      "execution_count": 108,
      "outputs": [
        {
          "output_type": "execute_result",
          "data": {
            "text/plain": [
              "<tf.Tensor: shape=(10,), dtype=float32, numpy=array([0., 1., 1., 0., 1., 1., 1., 1., 1., 0.], dtype=float32)>"
            ]
          },
          "metadata": {
            "tags": []
          },
          "execution_count": 108
        }
      ]
    },
    {
      "cell_type": "code",
      "metadata": {
        "id": "Dh2NOeVXIzEe",
        "colab": {
          "base_uri": "https://localhost:8080/"
        },
        "outputId": "4c50bc7d-4b6e-457b-dede-b3fba762b75e"
      },
      "source": [
        "# Calculate model 7 peformance\n",
        "model_7_results = calculate_results(y_true=val_labels,\n",
        "                                    y_pred=model_7_preds)\n",
        "model_7_results"
      ],
      "execution_count": 109,
      "outputs": [
        {
          "output_type": "execute_result",
          "data": {
            "text/plain": [
              "{'accuracy': 78.74015748031496,\n",
              " 'f1': 0.7855917300453952,\n",
              " 'precision': 0.7891807386119943,\n",
              " 'recall': 0.7874015748031497}"
            ]
          },
          "metadata": {
            "tags": []
          },
          "execution_count": 109
        }
      ]
    },
    {
      "cell_type": "code",
      "metadata": {
        "id": "eLP81aKgowFb",
        "colab": {
          "base_uri": "https://localhost:8080/"
        },
        "outputId": "4d723493-95a8-4092-e9b7-45f8385a589c"
      },
      "source": [
        "model_6_results"
      ],
      "execution_count": 110,
      "outputs": [
        {
          "output_type": "execute_result",
          "data": {
            "text/plain": [
              "{'accuracy': 81.49606299212599,\n",
              " 'f1': 0.8138139523860313,\n",
              " 'precision': 0.8161852632862286,\n",
              " 'recall': 0.8149606299212598}"
            ]
          },
          "metadata": {
            "tags": []
          },
          "execution_count": 110
        }
      ]
    },
    {
      "cell_type": "markdown",
      "metadata": {
        "id": "lZQ9hRiSwsvo"
      },
      "source": [
        "## Comparing the performance of each of our models "
      ]
    },
    {
      "cell_type": "code",
      "metadata": {
        "id": "x9ICXaoCw-tw",
        "colab": {
          "base_uri": "https://localhost:8080/",
          "height": 297
        },
        "outputId": "291a85b6-f8e3-444e-d90a-a5f595a90bda"
      },
      "source": [
        "# Combine model results into a DataFrame\n",
        "all_model_results = pd.DataFrame({\"0_baseline\" : baseline_results,\n",
        "                                  \"1_simple_dense\" : model_1_results,\n",
        "                                  \"2_lstm\" : model_2_results,\n",
        "                                  \"3_gru\" : model_3_results,\n",
        "                                  \"4_bidirectional\" : model_4_results,\n",
        "                                  \"5_conv1d\" : model_5_results,\n",
        "                                  \"6_tf_hub_use_encoder\" : model_6_results,\n",
        "                                  \"7_tf_use_encoder_10_percent\": model_7_results})\n",
        "all_model_results = all_model_results.transpose()\n",
        "all_model_results"
      ],
      "execution_count": 111,
      "outputs": [
        {
          "output_type": "execute_result",
          "data": {
            "text/html": [
              "<div>\n",
              "<style scoped>\n",
              "    .dataframe tbody tr th:only-of-type {\n",
              "        vertical-align: middle;\n",
              "    }\n",
              "\n",
              "    .dataframe tbody tr th {\n",
              "        vertical-align: top;\n",
              "    }\n",
              "\n",
              "    .dataframe thead th {\n",
              "        text-align: right;\n",
              "    }\n",
              "</style>\n",
              "<table border=\"1\" class=\"dataframe\">\n",
              "  <thead>\n",
              "    <tr style=\"text-align: right;\">\n",
              "      <th></th>\n",
              "      <th>accuracy</th>\n",
              "      <th>precision</th>\n",
              "      <th>recall</th>\n",
              "      <th>f1</th>\n",
              "    </tr>\n",
              "  </thead>\n",
              "  <tbody>\n",
              "    <tr>\n",
              "      <th>0_baseline</th>\n",
              "      <td>79.265092</td>\n",
              "      <td>0.811139</td>\n",
              "      <td>0.792651</td>\n",
              "      <td>0.786219</td>\n",
              "    </tr>\n",
              "    <tr>\n",
              "      <th>1_simple_dense</th>\n",
              "      <td>78.608924</td>\n",
              "      <td>0.794178</td>\n",
              "      <td>0.786089</td>\n",
              "      <td>0.782055</td>\n",
              "    </tr>\n",
              "    <tr>\n",
              "      <th>2_lstm</th>\n",
              "      <td>77.952756</td>\n",
              "      <td>0.780066</td>\n",
              "      <td>0.779528</td>\n",
              "      <td>0.778214</td>\n",
              "    </tr>\n",
              "    <tr>\n",
              "      <th>3_gru</th>\n",
              "      <td>77.559055</td>\n",
              "      <td>0.775986</td>\n",
              "      <td>0.775591</td>\n",
              "      <td>0.774306</td>\n",
              "    </tr>\n",
              "    <tr>\n",
              "      <th>4_bidirectional</th>\n",
              "      <td>76.377953</td>\n",
              "      <td>0.763379</td>\n",
              "      <td>0.763780</td>\n",
              "      <td>0.763240</td>\n",
              "    </tr>\n",
              "    <tr>\n",
              "      <th>5_conv1d</th>\n",
              "      <td>75.196850</td>\n",
              "      <td>0.751999</td>\n",
              "      <td>0.751969</td>\n",
              "      <td>0.750549</td>\n",
              "    </tr>\n",
              "    <tr>\n",
              "      <th>6_tf_hub_use_encoder</th>\n",
              "      <td>81.496063</td>\n",
              "      <td>0.816185</td>\n",
              "      <td>0.814961</td>\n",
              "      <td>0.813814</td>\n",
              "    </tr>\n",
              "    <tr>\n",
              "      <th>7_tf_use_encoder_10_percent</th>\n",
              "      <td>78.740157</td>\n",
              "      <td>0.789181</td>\n",
              "      <td>0.787402</td>\n",
              "      <td>0.785592</td>\n",
              "    </tr>\n",
              "  </tbody>\n",
              "</table>\n",
              "</div>"
            ],
            "text/plain": [
              "                              accuracy  precision    recall        f1\n",
              "0_baseline                   79.265092   0.811139  0.792651  0.786219\n",
              "1_simple_dense               78.608924   0.794178  0.786089  0.782055\n",
              "2_lstm                       77.952756   0.780066  0.779528  0.778214\n",
              "3_gru                        77.559055   0.775986  0.775591  0.774306\n",
              "4_bidirectional              76.377953   0.763379  0.763780  0.763240\n",
              "5_conv1d                     75.196850   0.751999  0.751969  0.750549\n",
              "6_tf_hub_use_encoder         81.496063   0.816185  0.814961  0.813814\n",
              "7_tf_use_encoder_10_percent  78.740157   0.789181  0.787402  0.785592"
            ]
          },
          "metadata": {
            "tags": []
          },
          "execution_count": 111
        }
      ]
    },
    {
      "cell_type": "code",
      "metadata": {
        "id": "vwAu2S7Wxyn8",
        "colab": {
          "base_uri": "https://localhost:8080/",
          "height": 297
        },
        "outputId": "43c3005f-c343-495d-acb1-6b116117bf3a"
      },
      "source": [
        "# Reduce the accuracy to the same scale as other metrics\n",
        "all_model_results[\"accuracy\"] = all_model_results[\"accuracy\"] /100\n",
        "all_model_results"
      ],
      "execution_count": 112,
      "outputs": [
        {
          "output_type": "execute_result",
          "data": {
            "text/html": [
              "<div>\n",
              "<style scoped>\n",
              "    .dataframe tbody tr th:only-of-type {\n",
              "        vertical-align: middle;\n",
              "    }\n",
              "\n",
              "    .dataframe tbody tr th {\n",
              "        vertical-align: top;\n",
              "    }\n",
              "\n",
              "    .dataframe thead th {\n",
              "        text-align: right;\n",
              "    }\n",
              "</style>\n",
              "<table border=\"1\" class=\"dataframe\">\n",
              "  <thead>\n",
              "    <tr style=\"text-align: right;\">\n",
              "      <th></th>\n",
              "      <th>accuracy</th>\n",
              "      <th>precision</th>\n",
              "      <th>recall</th>\n",
              "      <th>f1</th>\n",
              "    </tr>\n",
              "  </thead>\n",
              "  <tbody>\n",
              "    <tr>\n",
              "      <th>0_baseline</th>\n",
              "      <td>0.792651</td>\n",
              "      <td>0.811139</td>\n",
              "      <td>0.792651</td>\n",
              "      <td>0.786219</td>\n",
              "    </tr>\n",
              "    <tr>\n",
              "      <th>1_simple_dense</th>\n",
              "      <td>0.786089</td>\n",
              "      <td>0.794178</td>\n",
              "      <td>0.786089</td>\n",
              "      <td>0.782055</td>\n",
              "    </tr>\n",
              "    <tr>\n",
              "      <th>2_lstm</th>\n",
              "      <td>0.779528</td>\n",
              "      <td>0.780066</td>\n",
              "      <td>0.779528</td>\n",
              "      <td>0.778214</td>\n",
              "    </tr>\n",
              "    <tr>\n",
              "      <th>3_gru</th>\n",
              "      <td>0.775591</td>\n",
              "      <td>0.775986</td>\n",
              "      <td>0.775591</td>\n",
              "      <td>0.774306</td>\n",
              "    </tr>\n",
              "    <tr>\n",
              "      <th>4_bidirectional</th>\n",
              "      <td>0.763780</td>\n",
              "      <td>0.763379</td>\n",
              "      <td>0.763780</td>\n",
              "      <td>0.763240</td>\n",
              "    </tr>\n",
              "    <tr>\n",
              "      <th>5_conv1d</th>\n",
              "      <td>0.751969</td>\n",
              "      <td>0.751999</td>\n",
              "      <td>0.751969</td>\n",
              "      <td>0.750549</td>\n",
              "    </tr>\n",
              "    <tr>\n",
              "      <th>6_tf_hub_use_encoder</th>\n",
              "      <td>0.814961</td>\n",
              "      <td>0.816185</td>\n",
              "      <td>0.814961</td>\n",
              "      <td>0.813814</td>\n",
              "    </tr>\n",
              "    <tr>\n",
              "      <th>7_tf_use_encoder_10_percent</th>\n",
              "      <td>0.787402</td>\n",
              "      <td>0.789181</td>\n",
              "      <td>0.787402</td>\n",
              "      <td>0.785592</td>\n",
              "    </tr>\n",
              "  </tbody>\n",
              "</table>\n",
              "</div>"
            ],
            "text/plain": [
              "                             accuracy  precision    recall        f1\n",
              "0_baseline                   0.792651   0.811139  0.792651  0.786219\n",
              "1_simple_dense               0.786089   0.794178  0.786089  0.782055\n",
              "2_lstm                       0.779528   0.780066  0.779528  0.778214\n",
              "3_gru                        0.775591   0.775986  0.775591  0.774306\n",
              "4_bidirectional              0.763780   0.763379  0.763780  0.763240\n",
              "5_conv1d                     0.751969   0.751999  0.751969  0.750549\n",
              "6_tf_hub_use_encoder         0.814961   0.816185  0.814961  0.813814\n",
              "7_tf_use_encoder_10_percent  0.787402   0.789181  0.787402  0.785592"
            ]
          },
          "metadata": {
            "tags": []
          },
          "execution_count": 112
        }
      ]
    },
    {
      "cell_type": "code",
      "metadata": {
        "id": "8UGIWmMtynaI",
        "colab": {
          "base_uri": "https://localhost:8080/",
          "height": 566
        },
        "outputId": "374684d4-1109-4861-f285-4c628c396f18"
      },
      "source": [
        "# Plot and compare all of the model results\n",
        "all_model_results.plot(kind=\"bar\", figsize=(10, 7)).legend(bbox_to_anchor=(1.0, 1.0));"
      ],
      "execution_count": 113,
      "outputs": [
        {
          "output_type": "display_data",
          "data": {
            "image/png": "[encoded data removed]",
            "text/plain": [
              "<Figure size 720x504 with 1 Axes>"
            ]
          },
          "metadata": {
            "tags": [],
            "needs_background": "light"
          }
        }
      ]
    },
    {
      "cell_type": "code",
      "metadata": {
        "id": "-RVNfJnTzy_1",
        "colab": {
          "base_uri": "https://localhost:8080/",
          "height": 566
        },
        "outputId": "5fba9a02-7548-494d-fcbe-45d93c8e7245"
      },
      "source": [
        "# Sort model results by f1-scores\n",
        "all_model_results.sort_values(\"f1\", ascending=False)[\"f1\"].plot(kind=\"bar\", figsize=(10, 7));"
      ],
      "execution_count": 114,
      "outputs": [
        {
          "output_type": "display_data",
          "data": {
            "image/png": "[encoded data removed]",
            "text/plain": [
              "<Figure size 720x504 with 1 Axes>"
            ]
          },
          "metadata": {
            "tags": [],
            "needs_background": "light"
          }
        }
      ]
    },
    {
      "cell_type": "markdown",
      "metadata": {
        "id": "3-Pk2R_B0yGt"
      },
      "source": [
        "## Uploading our model training logs to TensorBoard.dev\n",
        "\n",
        "We can further inspect our model's performance using Tensorboard.dev : https://tensorboard.dev/"
      ]
    },
    {
      "cell_type": "code",
      "metadata": {
        "id": "LLDx3k8W1PzC",
        "colab": {
          "base_uri": "https://localhost:8080/"
        },
        "outputId": "f3019259-04de-4800-a8c4-63e536f9e774"
      },
      "source": [
        "# View TensorBoard logs of transfer learning modelling experiments(plus all of our other experiments)\n",
        "# Upload TensorBoard dev records\n",
        "! tensorboard dev upload --logdir ./model_logs/ \\\n",
        "  --name \"NLP Modelling Experiments ZTM TF Course Video\" \\\n",
        "  --description \"Comparing multiple different types of model architectures on the Kaggle Tweets text classification dataset \"\\\n",
        "  --one_shot # exit the uploader once uploading is finished."
      ],
      "execution_count": 116,
      "outputs": [
        {
          "output_type": "stream",
          "text": [
            "2021-08-07 02:09:04.193618: I tensorflow/stream_executor/platform/default/dso_loader.cc:53] Successfully opened dynamic library libcudart.so.11.0\n",
            "\n",
            "***** TensorBoard Uploader *****\n",
            "\n",
            "This will upload your TensorBoard logs to https://tensorboard.dev/ from\n",
            "the following directory:\n",
            "\n",
            "./model_logs/\n",
            "\n",
            "This TensorBoard will be visible to everyone. Do not upload sensitive\n",
            "data.\n",
            "\n",
            "Your use of this service is subject to Google's Terms of Service\n",
            "<https://policies.google.com/terms> and Privacy Policy\n",
            "<https://policies.google.com/privacy>, and TensorBoard.dev's Terms of Service\n",
            "<https://tensorboard.dev/policy/terms/>.\n",
            "\n",
            "This notice will not be shown again while you are logged into the uploader.\n",
            "To log out, run `tensorboard dev auth revoke`.\n",
            "\n",
            "Continue? (yes/NO) yes\n",
            "\n",
            "Please visit this URL to authorize this application: https://accounts.google.com/o/oauth2/auth?response_type=code&client_id=373649185512-8v619h5kft38l4456nm2dj4ubeqsrvh6.apps.googleusercontent.com&redirect_uri=urn%3Aietf%3Awg%3Aoauth%3A2.0%3Aoob&scope=openid+https%3A%2F%2Fwww.googleapis.com%2Fauth%2Fuserinfo.email&state=vgmhWp8kqPLBYYFC92AjL5Sd1d49cj&prompt=consent&access_type=offline\n",
            "Enter the authorization code: 4/1AX4XfWgd5WAvcJldjwiWhtq3C5jdqDEaUjVTLH2o_3Q2lESYaRi1VCJPBGo\n",
            "\n",
            "\n",
            "New experiment created. View your TensorBoard at: https://tensorboard.dev/experiment/EeYv3HwiQpyuG2gQipBGhA/\n",
            "\n",
            "\u001b[1m[2021-08-07T02:09:25]\u001b[0m Started scanning logdir.\n",
            "\u001b[1m[2021-08-07T02:09:32]\u001b[0m Total uploaded: 210 scalars, 0 tensors, 7 binary objects (3.2 MB)\n",
            "\u001b[1m[2021-08-07T02:09:32]\u001b[0m Done scanning logdir.\n",
            "\n",
            "\n",
            "Done. View your TensorBoard at https://tensorboard.dev/experiment/EeYv3HwiQpyuG2gQipBGhA/\n"
          ],
          "name": "stdout"
        }
      ]
    },
    {
      "cell_type": "markdown",
      "metadata": {
        "id": "iGneVESt1gxB"
      },
      "source": [
        "Now I've ran the cell above the modelling experiments are available at TensorBoard.dev\n",
        "https://tensorboard.dev/experiment/EeYv3HwiQpyuG2gQipBGhA/\n",
        "\n",
        ">**Resources** : TensorBoard is great for quickly tracking experiments, but for larger scale experiments and a whole bunch more tracking options, check out Weights & Biases : https://wandb.ai/site"
      ]
    },
    {
      "cell_type": "code",
      "metadata": {
        "colab": {
          "base_uri": "https://localhost:8080/"
        },
        "id": "p36_vcElX6j3",
        "outputId": "27ddc634-2e38-4858-95b2-d520c9934213"
      },
      "source": [
        "# If you need to delete an experiment from tensorboard, you can run the following\n",
        "#!tensorboard dev list"
      ],
      "execution_count": 117,
      "outputs": [
        {
          "output_type": "stream",
          "text": [
            "2021-08-07 02:14:22.518108: I tensorflow/stream_executor/platform/default/dso_loader.cc:53] Successfully opened dynamic library libcudart.so.11.0\n",
            "https://tensorboard.dev/experiment/EeYv3HwiQpyuG2gQipBGhA/\n",
            "\tName                 NLP Modelling Experiments ZTM TF Course Video\n",
            "\tDescription          Comparing multiple different types of model architectures on the Kaggle Tweets text classification dataset \n",
            "\tId                   EeYv3HwiQpyuG2gQipBGhA\n",
            "\tCreated              2021-08-07 02:09:25 (5 minutes ago)\n",
            "\tUpdated              2021-08-07 02:09:32 (4 minutes ago)\n",
            "\tRuns                 14\n",
            "\tTags                 5\n",
            "\tScalars              210\n",
            "\tTensor bytes         0\n",
            "\tBinary object bytes  3388961\n",
            "Total: 1 experiment(s)\n"
          ],
          "name": "stdout"
        }
      ]
    },
    {
      "cell_type": "code",
      "metadata": {
        "colab": {
          "base_uri": "https://localhost:8080/"
        },
        "id": "LQMNvesQY-EJ",
        "outputId": "224875db-cd72-45f0-c55b-4667b9956340"
      },
      "source": [
        "# If you need to delete an experiment from TensorBoard, you can run the following :-\n",
        "# !tensorboard dev delete --experiment_id EeYv3HwiQpyuG2gQipBGhA"
      ],
      "execution_count": 118,
      "outputs": [
        {
          "output_type": "stream",
          "text": [
            "2021-08-07 02:15:31.526506: I tensorflow/stream_executor/platform/default/dso_loader.cc:53] Successfully opened dynamic library libcudart.so.11.0\n",
            "Deleted experiment EeYv3HwiQpyuG2gQipBGhA.\n"
          ],
          "name": "stdout"
        }
      ]
    },
    {
      "cell_type": "code",
      "metadata": {
        "id": "c2uXt55RZvA_"
      },
      "source": [
        ""
      ],
      "execution_count": null,
      "outputs": []
    }
  ]
}