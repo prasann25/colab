{
  "nbformat": 4,
  "nbformat_minor": 0,
  "metadata": {
    "colab": {
      "name": "08_introduction_to_nlp_in_tensorflow",
      "provenance": [],
      "include_colab_link": true
    },
    "kernelspec": {
      "name": "python3",
      "display_name": "Python 3"
    },
    "language_info": {
      "name": "python"
    },
    "accelerator": "GPU"
  },
  "cells": [
    {
      "cell_type": "markdown",
      "metadata": {
        "id": "view-in-github",
        "colab_type": "text"
      },
      "source": [
        "<a href=\"https://colab.research.google.com/github/prasann25/colab/blob/main/08_introduction_to_nlp_in_tensorflow.ipynb\" target=\"_parent\"><img src=\"https://colab.research.google.com/assets/colab-badge.svg\" alt=\"Open In Colab\"/></a>"
      ]
    },
    {
      "cell_type": "markdown",
      "metadata": {
        "id": "-8fbclEDHYdu"
      },
      "source": [
        "# Introduction to NLP Fundamentals in TensorFlow\n",
        "\n",
        "NLP has the goal of deriving information out of natural language(could be sequences text or speech).\n",
        "Another common term for NLP problems is sequence to sequence problems(seq2seq)."
      ]
    },
    {
      "cell_type": "markdown",
      "metadata": {
        "id": "iotl9tC7k8U7"
      },
      "source": [
        "## Check for GPU "
      ]
    },
    {
      "cell_type": "code",
      "metadata": {
        "colab": {
          "base_uri": "https://localhost:8080/"
        },
        "id": "3FjVZH_blBRM",
        "outputId": "ef571252-fa81-46ac-9cbb-3d113a117fc0"
      },
      "source": [
        "!nvidia-smi -L"
      ],
      "execution_count": 1,
      "outputs": [
        {
          "output_type": "stream",
          "text": [
            "GPU 0: Tesla T4 (UUID: GPU-b470b110-2222-4c7d-cb00-cea7e71131d5)\n"
          ],
          "name": "stdout"
        }
      ]
    },
    {
      "cell_type": "markdown",
      "metadata": {
        "id": "tJueI-mTlGvR"
      },
      "source": [
        "## Get helper functions"
      ]
    },
    {
      "cell_type": "code",
      "metadata": {
        "colab": {
          "base_uri": "https://localhost:8080/"
        },
        "id": "xY5LbWNzlPNN",
        "outputId": "0c1164fb-7363-486c-e386-8e061831391f"
      },
      "source": [
        "!wget https://raw.githubusercontent.com/mrdbourke/tensorflow-deep-learning/main/extras/helper_functions.py\n",
        "\n",
        "# Import series of helper functions for the notebook\n",
        "from helper_functions import unzip_data, create_tensorboard_callback, compare_historys, plot_loss_curves"
      ],
      "execution_count": 3,
      "outputs": [
        {
          "output_type": "stream",
          "text": [
            "--2021-08-04 00:35:42--  https://raw.githubusercontent.com/mrdbourke/tensorflow-deep-learning/main/extras/helper_functions.py\n",
            "Resolving raw.githubusercontent.com (raw.githubusercontent.com)... 185.199.108.133, 185.199.109.133, 185.199.110.133, ...\n",
            "Connecting to raw.githubusercontent.com (raw.githubusercontent.com)|185.199.108.133|:443... connected.\n",
            "HTTP request sent, awaiting response... 200 OK\n",
            "Length: 10246 (10K) [text/plain]\n",
            "Saving to: ‘helper_functions.py.1’\n",
            "\n",
            "\rhelper_functions.py   0%[                    ]       0  --.-KB/s               \rhelper_functions.py 100%[===================>]  10.01K  --.-KB/s    in 0s      \n",
            "\n",
            "2021-08-04 00:35:43 (112 MB/s) - ‘helper_functions.py.1’ saved [10246/10246]\n",
            "\n"
          ],
          "name": "stdout"
        }
      ]
    },
    {
      "cell_type": "markdown",
      "metadata": {
        "id": "p9d3U2Stlp7z"
      },
      "source": [
        "## Get a text dataset\n",
        "\n",
        "The dataset we're going to be using is Kaggle's introduction to NLP dataset(text samples of Tweets labelled as disaster or not disaster).\n",
        "\n",
        "See the original source here : https://www.kaggle.com/c/nlp-getting-started"
      ]
    },
    {
      "cell_type": "code",
      "metadata": {
        "colab": {
          "base_uri": "https://localhost:8080/"
        },
        "id": "jexI6M-Dl9p0",
        "outputId": "7560db86-d451-40b6-dc53-dd95a2a8dc4c"
      },
      "source": [
        "!wget https://storage.googleapis.com/ztm_tf_course/nlp_getting_started.zip"
      ],
      "execution_count": 4,
      "outputs": [
        {
          "output_type": "stream",
          "text": [
            "--2021-08-04 00:38:04--  https://storage.googleapis.com/ztm_tf_course/nlp_getting_started.zip\n",
            "Resolving storage.googleapis.com (storage.googleapis.com)... 142.250.101.128, 142.250.141.128, 142.251.2.128, ...\n",
            "Connecting to storage.googleapis.com (storage.googleapis.com)|142.250.101.128|:443... connected.\n",
            "HTTP request sent, awaiting response... 200 OK\n",
            "Length: 607343 (593K) [application/zip]\n",
            "Saving to: ‘nlp_getting_started.zip’\n",
            "\n",
            "\rnlp_getting_started   0%[                    ]       0  --.-KB/s               \rnlp_getting_started 100%[===================>] 593.11K  --.-KB/s    in 0.004s  \n",
            "\n",
            "2021-08-04 00:38:05 (142 MB/s) - ‘nlp_getting_started.zip’ saved [607343/607343]\n",
            "\n"
          ],
          "name": "stdout"
        }
      ]
    },
    {
      "cell_type": "code",
      "metadata": {
        "id": "xw2RJ1PvmLVw"
      },
      "source": [
        "# Unzip data\n",
        "unzip_data(\"nlp_getting_started.zip\")"
      ],
      "execution_count": 7,
      "outputs": []
    },
    {
      "cell_type": "markdown",
      "metadata": {
        "id": "tV3ckHJJmaPj"
      },
      "source": [
        "## Visualizing a text dataset\n",
        "\n",
        "To visualize our text samples, we first have to read them in , one way to do sou would be to use Python : https://realpython.com/python-csv/\n",
        "\n",
        "But I prefer to get visual straight away.\n",
        "So another way to do is to use pandas...\n",
        "\n"
      ]
    },
    {
      "cell_type": "code",
      "metadata": {
        "colab": {
          "base_uri": "https://localhost:8080/",
          "height": 204
        },
        "id": "oAYMkJOemzy2",
        "outputId": "cf69f6d5-655d-4a53-a115-aef97a15e94a"
      },
      "source": [
        "import pandas as pd\n",
        "\n",
        "train_df = pd.read_csv(\"train.csv\")\n",
        "test_df = pd.read_csv(\"test.csv\")\n",
        "train_df.head()"
      ],
      "execution_count": 9,
      "outputs": [
        {
          "output_type": "execute_result",
          "data": {
            "text/html": [
              "<div>\n",
              "<style scoped>\n",
              "    .dataframe tbody tr th:only-of-type {\n",
              "        vertical-align: middle;\n",
              "    }\n",
              "\n",
              "    .dataframe tbody tr th {\n",
              "        vertical-align: top;\n",
              "    }\n",
              "\n",
              "    .dataframe thead th {\n",
              "        text-align: right;\n",
              "    }\n",
              "</style>\n",
              "<table border=\"1\" class=\"dataframe\">\n",
              "  <thead>\n",
              "    <tr style=\"text-align: right;\">\n",
              "      <th></th>\n",
              "      <th>id</th>\n",
              "      <th>keyword</th>\n",
              "      <th>location</th>\n",
              "      <th>text</th>\n",
              "      <th>target</th>\n",
              "    </tr>\n",
              "  </thead>\n",
              "  <tbody>\n",
              "    <tr>\n",
              "      <th>0</th>\n",
              "      <td>1</td>\n",
              "      <td>NaN</td>\n",
              "      <td>NaN</td>\n",
              "      <td>Our Deeds are the Reason of this #earthquake M...</td>\n",
              "      <td>1</td>\n",
              "    </tr>\n",
              "    <tr>\n",
              "      <th>1</th>\n",
              "      <td>4</td>\n",
              "      <td>NaN</td>\n",
              "      <td>NaN</td>\n",
              "      <td>Forest fire near La Ronge Sask. Canada</td>\n",
              "      <td>1</td>\n",
              "    </tr>\n",
              "    <tr>\n",
              "      <th>2</th>\n",
              "      <td>5</td>\n",
              "      <td>NaN</td>\n",
              "      <td>NaN</td>\n",
              "      <td>All residents asked to 'shelter in place' are ...</td>\n",
              "      <td>1</td>\n",
              "    </tr>\n",
              "    <tr>\n",
              "      <th>3</th>\n",
              "      <td>6</td>\n",
              "      <td>NaN</td>\n",
              "      <td>NaN</td>\n",
              "      <td>13,000 people receive #wildfires evacuation or...</td>\n",
              "      <td>1</td>\n",
              "    </tr>\n",
              "    <tr>\n",
              "      <th>4</th>\n",
              "      <td>7</td>\n",
              "      <td>NaN</td>\n",
              "      <td>NaN</td>\n",
              "      <td>Just got sent this photo from Ruby #Alaska as ...</td>\n",
              "      <td>1</td>\n",
              "    </tr>\n",
              "  </tbody>\n",
              "</table>\n",
              "</div>"
            ],
            "text/plain": [
              "   id keyword  ...                                               text target\n",
              "0   1     NaN  ...  Our Deeds are the Reason of this #earthquake M...      1\n",
              "1   4     NaN  ...             Forest fire near La Ronge Sask. Canada      1\n",
              "2   5     NaN  ...  All residents asked to 'shelter in place' are ...      1\n",
              "3   6     NaN  ...  13,000 people receive #wildfires evacuation or...      1\n",
              "4   7     NaN  ...  Just got sent this photo from Ruby #Alaska as ...      1\n",
              "\n",
              "[5 rows x 5 columns]"
            ]
          },
          "metadata": {
            "tags": []
          },
          "execution_count": 9
        }
      ]
    },
    {
      "cell_type": "code",
      "metadata": {
        "colab": {
          "base_uri": "https://localhost:8080/",
          "height": 204
        },
        "id": "uLt6Z1v4qfQF",
        "outputId": "52240891-b8ae-494a-82d0-21c5471f501d"
      },
      "source": [
        "# Shuffle training dataframe\n",
        "\n",
        "train_df_shuffled = train_df.sample(frac=1, random_state=42)\n",
        "train_df_shuffled.head()"
      ],
      "execution_count": 14,
      "outputs": [
        {
          "output_type": "execute_result",
          "data": {
            "text/html": [
              "<div>\n",
              "<style scoped>\n",
              "    .dataframe tbody tr th:only-of-type {\n",
              "        vertical-align: middle;\n",
              "    }\n",
              "\n",
              "    .dataframe tbody tr th {\n",
              "        vertical-align: top;\n",
              "    }\n",
              "\n",
              "    .dataframe thead th {\n",
              "        text-align: right;\n",
              "    }\n",
              "</style>\n",
              "<table border=\"1\" class=\"dataframe\">\n",
              "  <thead>\n",
              "    <tr style=\"text-align: right;\">\n",
              "      <th></th>\n",
              "      <th>id</th>\n",
              "      <th>keyword</th>\n",
              "      <th>location</th>\n",
              "      <th>text</th>\n",
              "      <th>target</th>\n",
              "    </tr>\n",
              "  </thead>\n",
              "  <tbody>\n",
              "    <tr>\n",
              "      <th>2644</th>\n",
              "      <td>3796</td>\n",
              "      <td>destruction</td>\n",
              "      <td>NaN</td>\n",
              "      <td>So you have a new weapon that can cause un-ima...</td>\n",
              "      <td>1</td>\n",
              "    </tr>\n",
              "    <tr>\n",
              "      <th>2227</th>\n",
              "      <td>3185</td>\n",
              "      <td>deluge</td>\n",
              "      <td>NaN</td>\n",
              "      <td>The f$&amp;amp;@ing things I do for #GISHWHES Just...</td>\n",
              "      <td>0</td>\n",
              "    </tr>\n",
              "    <tr>\n",
              "      <th>5448</th>\n",
              "      <td>7769</td>\n",
              "      <td>police</td>\n",
              "      <td>UK</td>\n",
              "      <td>DT @georgegalloway: RT @Galloway4Mayor: ÛÏThe...</td>\n",
              "      <td>1</td>\n",
              "    </tr>\n",
              "    <tr>\n",
              "      <th>132</th>\n",
              "      <td>191</td>\n",
              "      <td>aftershock</td>\n",
              "      <td>NaN</td>\n",
              "      <td>Aftershock back to school kick off was great. ...</td>\n",
              "      <td>0</td>\n",
              "    </tr>\n",
              "    <tr>\n",
              "      <th>6845</th>\n",
              "      <td>9810</td>\n",
              "      <td>trauma</td>\n",
              "      <td>Montgomery County, MD</td>\n",
              "      <td>in response to trauma Children of Addicts deve...</td>\n",
              "      <td>0</td>\n",
              "    </tr>\n",
              "  </tbody>\n",
              "</table>\n",
              "</div>"
            ],
            "text/plain": [
              "        id  ... target\n",
              "2644  3796  ...      1\n",
              "2227  3185  ...      0\n",
              "5448  7769  ...      1\n",
              "132    191  ...      0\n",
              "6845  9810  ...      0\n",
              "\n",
              "[5 rows x 5 columns]"
            ]
          },
          "metadata": {
            "tags": []
          },
          "execution_count": 14
        }
      ]
    },
    {
      "cell_type": "code",
      "metadata": {
        "colab": {
          "base_uri": "https://localhost:8080/",
          "height": 204
        },
        "id": "bwy-5G_BqPvB",
        "outputId": "5e1ba479-bfb9-4463-a4ed-3b3dbda403bc"
      },
      "source": [
        "# What does the test dataframe look like ?\n",
        "test_df.head()"
      ],
      "execution_count": 15,
      "outputs": [
        {
          "output_type": "execute_result",
          "data": {
            "text/html": [
              "<div>\n",
              "<style scoped>\n",
              "    .dataframe tbody tr th:only-of-type {\n",
              "        vertical-align: middle;\n",
              "    }\n",
              "\n",
              "    .dataframe tbody tr th {\n",
              "        vertical-align: top;\n",
              "    }\n",
              "\n",
              "    .dataframe thead th {\n",
              "        text-align: right;\n",
              "    }\n",
              "</style>\n",
              "<table border=\"1\" class=\"dataframe\">\n",
              "  <thead>\n",
              "    <tr style=\"text-align: right;\">\n",
              "      <th></th>\n",
              "      <th>id</th>\n",
              "      <th>keyword</th>\n",
              "      <th>location</th>\n",
              "      <th>text</th>\n",
              "    </tr>\n",
              "  </thead>\n",
              "  <tbody>\n",
              "    <tr>\n",
              "      <th>0</th>\n",
              "      <td>0</td>\n",
              "      <td>NaN</td>\n",
              "      <td>NaN</td>\n",
              "      <td>Just happened a terrible car crash</td>\n",
              "    </tr>\n",
              "    <tr>\n",
              "      <th>1</th>\n",
              "      <td>2</td>\n",
              "      <td>NaN</td>\n",
              "      <td>NaN</td>\n",
              "      <td>Heard about #earthquake is different cities, s...</td>\n",
              "    </tr>\n",
              "    <tr>\n",
              "      <th>2</th>\n",
              "      <td>3</td>\n",
              "      <td>NaN</td>\n",
              "      <td>NaN</td>\n",
              "      <td>there is a forest fire at spot pond, geese are...</td>\n",
              "    </tr>\n",
              "    <tr>\n",
              "      <th>3</th>\n",
              "      <td>9</td>\n",
              "      <td>NaN</td>\n",
              "      <td>NaN</td>\n",
              "      <td>Apocalypse lighting. #Spokane #wildfires</td>\n",
              "    </tr>\n",
              "    <tr>\n",
              "      <th>4</th>\n",
              "      <td>11</td>\n",
              "      <td>NaN</td>\n",
              "      <td>NaN</td>\n",
              "      <td>Typhoon Soudelor kills 28 in China and Taiwan</td>\n",
              "    </tr>\n",
              "  </tbody>\n",
              "</table>\n",
              "</div>"
            ],
            "text/plain": [
              "   id keyword location                                               text\n",
              "0   0     NaN      NaN                 Just happened a terrible car crash\n",
              "1   2     NaN      NaN  Heard about #earthquake is different cities, s...\n",
              "2   3     NaN      NaN  there is a forest fire at spot pond, geese are...\n",
              "3   9     NaN      NaN           Apocalypse lighting. #Spokane #wildfires\n",
              "4  11     NaN      NaN      Typhoon Soudelor kills 28 in China and Taiwan"
            ]
          },
          "metadata": {
            "tags": []
          },
          "execution_count": 15
        }
      ]
    },
    {
      "cell_type": "code",
      "metadata": {
        "colab": {
          "base_uri": "https://localhost:8080/"
        },
        "id": "hf61kpvLrsuW",
        "outputId": "8f1d3ad2-d70d-4185-98b3-4091da0eae98"
      },
      "source": [
        "# How many examples of each class?\n",
        "\n",
        "train_df.target.value_counts()"
      ],
      "execution_count": 24,
      "outputs": [
        {
          "output_type": "execute_result",
          "data": {
            "text/plain": [
              "0    4342\n",
              "1    3271\n",
              "Name: target, dtype: int64"
            ]
          },
          "metadata": {
            "tags": []
          },
          "execution_count": 24
        }
      ]
    },
    {
      "cell_type": "markdown",
      "metadata": {
        "id": "kEtEltU5r_jJ"
      },
      "source": [
        " > **Note** : If your data is not balanced, there are some things you can do for imbalanced dataset\n",
        "https://www.tensorflow.org/tutorials/structured_data/imbalanced_data"
      ]
    },
    {
      "cell_type": "code",
      "metadata": {
        "colab": {
          "base_uri": "https://localhost:8080/"
        },
        "id": "Tur_lZTQshxw",
        "outputId": "44b4543b-6da0-4f58-d2b1-76cda4745310"
      },
      "source": [
        "# How many total samples ?\n",
        "len(train_df), len(test_df)"
      ],
      "execution_count": 17,
      "outputs": [
        {
          "output_type": "execute_result",
          "data": {
            "text/plain": [
              "(7613, 3263)"
            ]
          },
          "metadata": {
            "tags": []
          },
          "execution_count": 17
        }
      ]
    },
    {
      "cell_type": "code",
      "metadata": {
        "colab": {
          "base_uri": "https://localhost:8080/"
        },
        "id": "09eT8VFitX-d",
        "outputId": "4e02bfc0-3e90-4b6f-bfdc-de72a3d7de69"
      },
      "source": [
        "import random\n",
        "random_index = random.randint(0, len(train_df)-5)\n",
        "random_index"
      ],
      "execution_count": 19,
      "outputs": [
        {
          "output_type": "execute_result",
          "data": {
            "text/plain": [
              "6921"
            ]
          },
          "metadata": {
            "tags": []
          },
          "execution_count": 19
        }
      ]
    },
    {
      "cell_type": "code",
      "metadata": {
        "colab": {
          "base_uri": "https://localhost:8080/"
        },
        "id": "U-ZQLTHQsnBs",
        "outputId": "99f4e613-ef8e-430a-f617-3e95773de9bd"
      },
      "source": [
        "# Let's visualize some random training examples\n",
        "import random\n",
        "random_index = random.randint(0, len(train_df)-5) # create random indexes not higher than total number of samples\n",
        "for row in train_df_shuffled[[\"text\", \"target\"]][random_index:random_index+5].itertuples() :\n",
        "  _,text,target = row\n",
        "  print(f\"Target: {target}\", \"(real disaster)\" if target > 0 else \"(not real disaster)\")\n",
        "  print(f\"Text:\\n{text}\\n\")\n",
        "  print(\"---\\n\")\n"
      ],
      "execution_count": 25,
      "outputs": [
        {
          "output_type": "stream",
          "text": [
            "Target: 1 (real disaster)\n",
            "Text:\n",
            "SEVERE WEATHER BULLETIN #6\n",
            "TROPICAL CYCLONE WARNING: TYPHOON 'HANNA' \n",
            "Issued at 11:00 p.m. Thursday 06 August... http://t.co/FQV47OB8gE\n",
            "\n",
            "---\n",
            "\n",
            "Target: 0 (not real disaster)\n",
            "Text:\n",
            "@Furiosoxv stuns also probably won't be anything like AW stuns. And you can't detonate them\n",
            "\n",
            "---\n",
            "\n",
            "Target: 1 (real disaster)\n",
            "Text:\n",
            "Udhampur terror attack: Militants attack police post 2 SPOs injured: Suspected militants tonight attacked a p... http://t.co/Cwm0ULqu3E\n",
            "\n",
            "---\n",
            "\n",
            "Target: 0 (not real disaster)\n",
            "Text:\n",
            "#hot  Funtenna: hijacking computers to send data as sound waves [Black Hat 2015] http://t.co/cx6auPneMu #prebreak #best\n",
            "\n",
            "---\n",
            "\n",
            "Target: 0 (not real disaster)\n",
            "Text:\n",
            "That usually NEVER happens\n",
            "\n",
            "---\n",
            "\n"
          ],
          "name": "stdout"
        }
      ]
    },
    {
      "cell_type": "markdown",
      "metadata": {
        "id": "H934OlRdukg2"
      },
      "source": [
        "### Split data into training and validation sets"
      ]
    },
    {
      "cell_type": "code",
      "metadata": {
        "id": "TNMyMRMk0Dm1"
      },
      "source": [
        "from sklearn.model_selection import train_test_split"
      ],
      "execution_count": 26,
      "outputs": []
    },
    {
      "cell_type": "code",
      "metadata": {
        "id": "UzRBvWJ-0PNk"
      },
      "source": [
        "# Use train_test_split to split training data into training and validation sets\n",
        "train_sentences, val_sentenences, train_labels, val_labels = train_test_split(train_df_shuffled[\"text\"].to_numpy(),\n",
        "                                                                              train_df_shuffled[\"target\"].to_numpy(),\n",
        "                                                                              test_size=0.1, #use 10% of training data for validaton\n",
        "                                                                              random_state=42)\n",
        "\n"
      ],
      "execution_count": 29,
      "outputs": []
    },
    {
      "cell_type": "code",
      "metadata": {
        "colab": {
          "base_uri": "https://localhost:8080/"
        },
        "id": "kYjqNdh9163z",
        "outputId": "8596cb50-a8b6-4f6e-f585-fe3a8b0cf1d0"
      },
      "source": [
        "#Check the lengths\n",
        "len(train_sentences), len(train_labels), len(val_sentenences), len(val_labels)"
      ],
      "execution_count": 33,
      "outputs": [
        {
          "output_type": "execute_result",
          "data": {
            "text/plain": [
              "(6851, 6851, 762, 762)"
            ]
          },
          "metadata": {
            "tags": []
          },
          "execution_count": 33
        }
      ]
    },
    {
      "cell_type": "code",
      "metadata": {
        "colab": {
          "base_uri": "https://localhost:8080/"
        },
        "id": "Kbg4re6y2rZR",
        "outputId": "57c70644-5660-49a4-f05e-5a116de7f031"
      },
      "source": [
        "# Check the  first 10 samples\n",
        "train_sentences[:10], train_labels[:10]"
      ],
      "execution_count": 35,
      "outputs": [
        {
          "output_type": "execute_result",
          "data": {
            "text/plain": [
              "(array(['@mogacola @zamtriossu i screamed after hitting tweet',\n",
              "        'Imagine getting flattened by Kurt Zouma',\n",
              "        '@Gurmeetramrahim #MSGDoing111WelfareWorks Green S welfare force ke appx 65000 members har time disaster victim ki help ke liye tyar hai....',\n",
              "        \"@shakjn @C7 @Magnums im shaking in fear he's gonna hack the planet\",\n",
              "        'Somehow find you and I collide http://t.co/Ee8RpOahPk',\n",
              "        '@EvaHanderek @MarleyKnysh great times until the bus driver held us hostage in the mall parking lot lmfao',\n",
              "        'destroy the free fandom honestly',\n",
              "        'Weapons stolen from National Guard Armory in New Albany still missing #Gunsense http://t.co/lKNU8902JE',\n",
              "        '@wfaaweather Pete when will the heat wave pass? Is it really going to be mid month? Frisco Boy Scouts have a canoe trip in Okla.',\n",
              "        'Patient-reported outcomes in long-term survivors of metastatic colorectal cancer - British Journal of Surgery http://t.co/5Yl4DC1Tqt'],\n",
              "       dtype=object), array([0, 0, 1, 0, 0, 1, 1, 0, 1, 1]))"
            ]
          },
          "metadata": {
            "tags": []
          },
          "execution_count": 35
        }
      ]
    },
    {
      "cell_type": "markdown",
      "metadata": {
        "id": "KRWEIuie4Y0Z"
      },
      "source": [
        "## Tokenization vs Embedding"
      ]
    },
    {
      "cell_type": "markdown",
      "metadata": {
        "id": "TxNHci669izm"
      },
      "source": [
        "![image.png](data:image/png;base64,iVBORw0KGgoAAAANSUhEUgAAAl8AAAEoCAYAAABmcJT5AAAgAElEQVR4AeydBZhdxdnH965nJZtsNtls3N1dN64QkpAAAQIJEgJEIALBKQ5Fi7cULaW4SynurglOcGuLFmnhK/1/z+8ss8xOzpXd3PWZ57l7zt47Z87MO++8839lZlJSUlLkP54Gngc8D3ge8DzgecDzgOeBGuOBGnuRB3ke6Hoe8DzgecDzgOcBzwOeBzzK9eDT84DnAc8Dngc8D3ge8DxQozxQoy/zaNdrPJ4HPA94HvA84HnA80Bj5wEPvjza9zzgecDzgOeB+DwQiUQa+4Tp2+9BY7J4IP6A80Kp+mjUrFkzHXvssbr44ot14YUXBtd9991XGRkZyergelFO9+7dtffee2vPPfdUx44d60Wdkzku2rVrp9133z2gQZ8+fRpd+5NJS1/W1smr1NRU7bzzzvrjH/+o3//+94FMOuGEE9SpU6cGzZdpaWlasWJF0G4jiw8//HAVFRUlpd1ZWVlavnx5BVl/xBFHqLCwsEL5LVu21OLFi4O8Q4YMqfCb5+2t4+06Rr8G1ZhgoOy2227ab7/9tNdeewWTGZN6VT8AoT322EMMiOrouDZt2uidd96RnW666SZlZ2dXy/uqow1bW+bkyZP17rvvlpPg+eef1/Dhw+td+5s0aSL6EyDFp23btsrJyYnbjgEDBujRRx8tb//HH3+sefPmyVsZ6qZsKigo0Pz58wMZUxW5gkzZddddq02mbO14BHydf/755fzIDeNzxIgRcXl5a99dm8+np6frrrvuqtDuF154IWmgE1lw/fXXVyj/5ZdfVocOHcrp2qVLFz3yyCPleT7//HPttNNO5b/XJn38u5Muj5JeYK0yytChQ/XJJ5+UM28ybr755huNHDmyWtrVunVrbdq0qUI1r7jiCqElNQZmb9GihW6++eYK7ecfLIH1zfo3Z86cAEgjMPl89tlnQhGI1Y8I/DPPPHOL9j/wwAN1dnKO1Z7G8FuPHj305JNPbtFnlfkCGYWsqov0AvSfccYZFZqDjGroVhjG4o033lih3QAhGxxtTX+hUCPb7QQfoaiZck8++WT75+D+2WefVUlJSXkek9df6z12qfcNqMCUWBFsK8oWnFyFL5hEq0vwhIGvP/3pT40GfNF+gIabrrvuOuXm5lbo27oubHbYYQd9//33FZqyzz77xGwDIPvSSy+t8Az/PPPMM4EVra63uTHWr2vXrhUslVt0XgJfYN2sLpmytX3iwdevHVjT4As3r5tee+01de7cOaYc2do+98/XCg6qlZdWGyOhTf7jH/9w+XeL///3v/9t8V20L5hQa9Ly1ZjAF9ombph///vf5eT/17/+pV122aXaeKS6BM3222+vL7/8srwd//nPf4IYtnjvw2L2z3/+s/y5//u//9NBBx2kzMzMekeDeG1tCL8Dvh5++OHy/qqMLDEPYRkdNmxYnexfD75MLylwAdak5WvChAkCmNvpuOOO8yEIDTPIv2GBL4K1zzvvPF199dW6/PLLK3wuu+wy/eUvfwlcQjZzf/3117rmmmsCC4T7zJ///Gf94Q9/EL746pg4GrvlC5riXtxxxx2FtevKK6/UzJkz66WwqSr4ggYTJ04M+I+YEOKBPPCqu3LJBV/Ikrfeeku//e1vRYD2UUcdFfPDAps1a9bUWVeSB1+/zg41bflCFowePToI+r/llluE5bwxxf9Wxxxbh8usu0KuOoiGKwuXjp1ef/31Wouv8eCr4fDf1oCv6uB1X2b18FYY+LrzzjtrTYYku589+Pp1dqgN8JXs/vTlVY8cSAJd62zFqsXSxNYOrKazE1prVbc3IGYHf/zAgQMDNwJXlmTjTkukc5IJvlgqjeCM9V6CO4mLw+UxaNCgoO6JWFnilcs7oQVbRuD6JZ6lW7ducWPXEik3VnuS+RtLyvv27Vte/549eyo/Pz8mPe33T5s2rYJVFVfqokWLoj4fr+3xfjfvhqepKzSH9rQBvjK/J+MK38Av8A3lu8vjk/GOeGXEoke031hhRoC8TZut3TogDHzdc889SQvMjkYH+hna0wfIGVbWRstrvkfZNO0fPHhwYMFnNaP5PewKLRMJuG/evHn5eKFs5F68ssPe535H/7DdipEj8HbTpk1j1tktI+x/FvcY+oXRYmsD7hkTlG/qjbfEpkciAfdh9ba/i8bndh7aAY8anu/Vq9dWx8/Ca2begPfsRQK8O1q9on1v17cR3zcu8MUACQNfld3Dpn///mLvm/vvv18ffPCBvvvuO/30009BwPV7770nhPFvfvObQPDFYq6qgK/x48frkksuCdxUF110kYgRw53K92HvQkguW7ZMmLHffPNNffvttyKuiFi2999/X/fee6+OPvromHVlELEPFe/i3VzZgoP3QdN169YFtPj000/1448/Bh9WdEGfAw88UEwcYXXju3HjxgmXsGkTy9ztZe2jRo0KXL/kYe+hynxYXbR27dqopnsA6zbbbBOsQnrxxReDmC36kXitv//973r88cd16qmnBpOdW38mhCOPPDKgBXX+61//GjxngP1///tfPfjggzr33HPL60xw/QUXXBC02ZSHwGbFIy5vaEA7Z8+eHZVePIeAJQ/9//TTTwd1pc7Q/quvvtIrr7wSLGtn37RYtKcs4hmpP++lDsSYmK1Vtttuu6AcFBT4BdpQ/nPPPaezzz5bTGKmHYle2UaEPuRdhn/Xr18vtnCIVwZ52BsJ/qMMrrj72NbDfpbJm5VjWC5YMANtqDsxeWwfwHsnTZpU4Rn7+Vj30cBXVRU43oXrnT2mzPiCNmxnwW+878QTTwz6GdrTDuQNgdjwU9i45xnkj91+lAFkFXzK2I2mdDHWXfAFPzHpUh/A3znnnCNW4UFP6vPDDz8IuUfZq1evVnFxcaVoyzsZh7SH/vniiy+CcuFnxuETTzwR8BsuuVh9E/bblClTgv3KkPuGfjYtcO2ZxT1VWe0IHxGawpgw9IDfPvzww4Ae+++/v/Ly8oJ6x1vtyDzEuKL/WfFNfsMHpm0LFiwIxiq/wy8rV64Mykb5JX6Wueejjz4KeB76EU8KHxx22GGV6hf4g/3eCIWA14jFNfMG8whbIhEuYgAmsob6UC/CR+Kt9DbtacRXD76YWBIFX61atdJpp50WDDIzyca6AkCYoKNpbpUFX9tuu+0WAZm8//TTTw+dZMnvulmj1RfBTCxKmFBmgLmCAwGBNgTAipcIUCZv2EBj40E3LVmypDwv91uTHnvssdCJHY0QwYJAiZeYAA499FCxl5dpA9ogQqkqyV4FOWvWrAAQ2+XAM+Y97pXJ77bbbkuo3pRJ/yOw3XLM/4BqO2ic8UDg7ymnnBL3HUy4CNnKaLgAo1dffdVubjApst+bqVO0K/zsrihlqxID3AClKBpMfPES5QB6UU6ivS/s++oAX/AVrks7odwBsNkLKlYieB/AYyZBFqswOcZLN9xwg9q3b79F28PAFwAfhfOAAw5IaEETQAfgHkY/9zvKpS6JjEMAAMAvEcsu1hnAnL2YJxpN7r77bvXu3TtQfuw8sdyOAH5APEArXkJGonQArOzkbjWB0gmYtRNA2KaZuzUNMgwaIhPipaeeekoos3Z5YfdY76BJvITcIF4aa+VVV11VITu0Dyvbf1eOucpvGgWhtsbyxWSNJaMqiYERtldLZcAXWxmgudkJKxbaThhDo3Hxe1j6+eefw74OvsMKYoMMykYgs+uzSQw6BLJrRTS/h13RDMNALpO/ndAe7Y0Fmdy3Jj300EPlk7Oh09ixY/X2229XulgEnwGngK+NGzdWugxoz+acpi5o5gBfk6AtlkTzu31FC3ZXQ5nnYl0BGhs2bAh1h6O9YmkwiU1/2f7DBmTmt7Ar/UUZdj3j3QNkXR7EomUARLTnmYjsejEZA8hMfoB8IpOt3Q60dAPeTDmxrmHgi4nKtb7FKsP9DZcU1muToA2WJZsvzG9hVwAASgrjhn0JE01YepCJdn3CwBd8ziImLCmJJqxztpJhv8PcA7g3b94cWqTdz26Gv/3tbzG3X8CajLWsMglF6qWXXqrAXy74MkoGCoS9MXIi76F8+tROLvjCVYj3wE4s0DD04nr88cfbPwtAlaiCzYMoPv369atQJuWatjGeKrtXJv0BreyExd+ut7/fAmtt8UWDJlhVwRfLjaMNZlx3t956q1gZifaKlSQs3XHHHVsIukTBF5OKq/HznoULF4b2F4IYVwDJCDEEOlYCzNQEh2MhwHoVBtBwPWFFMAMmDHzZbURrhT5oPwj0aHut4XLD1WfK5RoPfBFLhTsDQIAGGfaB7nzv0og60hYDmHgfsWhhwgqLD5M77h/AD6sv3fJwJUI3ysGdByAFkCN8cFvaWit5cddQd1Nn2gAf2G7FRMHX3LlzK8SU2fTn3ddee20wQdIPdj1MPiZo2uXS3wZfhlfMM1yxomCZABwAuMMSkwqxOXa/xrpnknGtM4DkMAXFlEPsEhONnaAl1mjyMKG4ZQIAcKfSZ0uXLg1clFjr3HTMMcckvKlvGPgyYAA+I84s2gf3FoqNCzJd8OX2A+AYPkLG3HfffeVj224HFjB7yxJ4AKsvzyCfwuQSPEpYgKExVxd8URe3PsgM+J7xjuXFtWSaeqEsRrO64u52T/fgOfj3kEMOEcomK39x+yNj3YQsc4Ej9UcpcoGAeRbFBZ6BJijEuOfcZLfVBV+m/LC9CSkH4ET5APpo5dvv21rwZdfVlItsY6wiv6JZ5uk342q1+760tDRw05uy7CtjC9kO7XBtuoYAOy/3HnzFxVZxM1QYmHZH1cf7qoAvBGXY5ndo3biHbGsOeZmEzjrrrFAzOkDAplsi4It4GNckjzAClNhlmXu0PldjxjqBFuoKfZ5hUneFG9ozoMCU6YIve6Ax8VOG7VqFJljQXOsGoMw9OigW+OK9gAUmLCYo4hrCPgBF+sJ1ASAEXSFz8MEH29UP7gEXTKqmveZK3YgZshMWPOOuYbKlbsTsMMnYFiQsMFi4qJupM23gYwPbRMAXVlfoTLIFLt8Bnuwgcvph6tSpASC06809E7Tdr7STSc6ut3kGHsAaZVt0AJy0yaUJdYJPDd3iXaEXLhs7UQdcsNGe5bw7u3+xwqxatao8P6DZ/h2AgJvMLW/MmDEVLJbwKJarRDeyDANfyAKsQ1iCsZ5E++BCJCbGpin1iwW+mMwBKgY0w0vTp08PYqMM/Wye4Dt2pMdKamKNeAfgFD53E4qB7cZzwZebH7BF7JVtHed55EuYFQsetWUkdSGm0D3Kh37ALRcWo0i8WRigcvsXGrluOeoPX+BGZ0EQ7TM8QVA87l1AelhywRfPAgbdBNA15dsylvKxXEWzxm4t+LLrAZAFrNpudJQZ4gVdiyXtJbTA0IEri4vs/etM2QBKvCg2zyL34CfiLqMlD77iYqu4GSp0kN1Z9fG+KuALkINwtROoP56rhTgMrE+2YCQWBZO1oV0Y+AIw8DsDHbDmJrQZOyDdlGWuv/vd7yo8AnCjLub3sCuD1hVAxHgZixF1sd2O5gVMJqyCCysT4ezGAVAXe8LkuVjgK6zcsO84x9O1UmEhMCDJPEM7EBpYQojdIw8LEWIFSwPqsBCYxKROIKop01wBoIBckxD4duyayede44EvgFoYHzAxEKfilmf+Z4IjANZNaMT2pBwGvgBesVxGWE9dfsHyFmaJMPVxr+znZtOLcYLlkT5y8wKgWYxgJwAO1jCTl0nUHmuMk2iAiuBuaMOeXLhZmCQNr5vyol1d8GW/065ftHssO269XPBlngUURrMGQj/XRcVzTMIAzLD6Mx5YRGInrEGAdZMf+tMPdqKNfFCobN4xz5grcglrr514DjezycOVMe9aZ+kPLIZ2PvueOCQX3GEJtUEBip3rlkd2225+u0xzT31cGU8bXPBF+a6iioznLGFTVtiV0Amb1w19kgW+aHOsWK4w2Y110R5ryNAwJT9sQYfdRuSj+xzt8+ArLraKmyEmU9mdUB/uKwu+0KRcMIMwwU0Rr70wtsv0PMvKQvNsGPjCygZwARy4CWGDZcs8716xurmmZlxyWBrcvO7/TJ52wkplXElhbWHAxRNq7N7uxqBgFbQH/daCLyZS1xLD3m3RAvztdhtLlP2de4+LzI6BQEMn7sLNV9V9vuKBrzB3G+4S14Ll1of/AZVY6uzEs2zqavKHgS+CaGNNhEx4riUCl2SY9dC8x72y9N8NEoa/sU64eQHMboweAMG2MjCubEsrkyLjtDLbhbjvDfvfBV82bRO5x7qQCPjCEmjHs7l1wQJmx4nxbuQLgNLNa/+PhdKmE1YRwIHJw9h0wRdlo6jYFjKT372ilLpABjedAZHINvc8VwBjLEXCvINNbO2EIgT/mt9dAE5eLGG2vDF53SurZqGfnVzwhSXYTWzq7ZYV9j91c1MywBd1dsGt+37AuOt2Buwi/8gLL2HRtBPyHVe9W5b7P8ohCp2bPPiKi63iZohLfLcz6vL/lQVfrJhxNUU0O+KGEmkn7gLXpXP77beXm+xd8MVAYhCEmXOJK3EtOW4dsMjYrhcGBMIB6xQDMNqHFXSuwLXjNcLAF+CM59w62P8zabqrtXA32WBwa8AXmqgb54MWiFvGrke8e1wduPboLz5MBMaKQ7wfy9/tBIB0y6wu8AWAda1MLG23XZduXez/mWzthMWB44tMHhd8IXTdOCCT11x5N+4zO+HqgoYmTyJXFovY/Apggh/cZ6mPnY8jxGwASX4sj5xW4Sbink466aQAYGCZAfS55Vfm/zDwRd1QAADpWKPCPvyG9YP4K/fImjDLFzwXyyJLnbGI2oABPpkxY0bM9hEnasskgBguW0ODMPBF+8zWMiZftCuLF1xwRdvNalZkgjtmiWdjyxmsN9FkFJavMIsrW2pQF5QFXLR2QhbwXLS62t+zbYpbLxt8hbWL8hPd/oKx4ca4JQN8odzGsnrRRnjelWHQyigmKDyMXzsx7yW6ZQgKsOt58OArLraKmyEhxrWZuC7fVxZ8YWVyl62z6icRTQo6wLzso2UnLAQmBiIMfNlaqXkO15jRUmLRF1Oym4g3QENkcET7mN9tQY7AtWMqXCseoApBGqs+TFQIGDsxadttqSr4Ahi71hcmH8znsepkfgNwodlh8UMoAjZ5ng+TOIHZBJgSy+FaXdCmTTnmWl3giwnH7hfqxwIM8954VyY9OxCbvmC5vuFhF3xhCYln0QR8ucvmCbq2Xerx6sXvCH138QP8YSYF8tBProUMBcWNDSLWhWDgWAnaoTSgqbMvkR0rl0h9yRMGvrDsMHnj6o31YbxTTxO/Zd4ZBr4Aje5mlia/uRK/aMfzENMXz03ERAloMAnessMSwsAXi1FQSsx7411xRdlyDFliwjSI67Mtyby/MjLKDgGgDcgl6oPr2OUlgC79Ea++/I71x+UzG3wBhHF124l4uURXyuKuda1LyQBfWLTiWflx27uykpg7M85QSlwXNgpeInQjD+PYdTd78BUXW8XNkHAHJNpRtZmvsuALger66ivDVAw41zVgL/UNA19mojVXBjtBq4loWGj4yUy2i9QFXwQYxxv00cAXgs7wQVXAF/3ouklpN1qwARWm/LArVhPXohmPbnZ/1CT4wqVgvxurD0AvrF1h32EdfOONNyo0z47nCwNfZkVnWHl8B/hy3fHwdSKuI7dMeNaeqJnobb7CvWorQACoaFYYxhMxk4kmXLKxgvzduvJ/GPjCcsO7w/In8l0Y+CI2LJ6lGwsmwMYkwJcbSO2+n5W29io/eCse+EJhNCEIbnlh/8M/WDFNon+NCwt+o57JSrjIGfMogq71Biu7vTAgrK72d67HwQZfeDtcJQyw7wJpuzz7njqi9NgpGeALeRAt7ta8Pwx8EY5iwBdWR9saSh3DZJwpz72iJLgrkSszT7rlNZL/PfhC2BtLlNvpMLVrNSAmy80X7X9Wnrn+cECLsRCEgS9AhRuozmBg4LM/VbR38b27BwxCD1M6QAOtMNEPWwfwsSdhF3wh6OxJMqxe1QG+EHZsKusmNvVzVzaG1QngZWv+phzcbQAIQys3sNYGQGGCqbosX1g37Hczcdn7oIW10f4O0O66OwheN27LMPAVK9iesqNZvqoCvnAz2WAAtyirq3gPExZWFDthEYoFSuAPNhrFvc/EFC/hLsRladMs1n0Y+GLpfTwXYawyqwq+wixfiYAvm/8TAV+A1Fixpm7b6D/bIsfYYrUq+Rgndr/wfsYaQCRR+WTysboU1yuxf2HgK1GZYOrvbiRtgy/6nbnCTsh2O4TClBN2hS/ZasdONQW+MAK4+5LZ4AvLl22NpI5sQ2THVIa1yXwHb7jA1IOvuNgqboaEhZLpiLp8razlC23PHXAwbaLaFLEdbsAzg8D40l3wBdOzoojv3fgFfsO0GyvOCg3WToAvBCGgBHdHvA+uHJMHWhn3IJNgXQFfuOFsSwntZfIzAb2x+A+6u0vccWPgSmbSogy0QWhAUDSrwABa7p42NQm+cKPa7QWcsGFqrHbav7HTOG5lO+FKNXlqG3xBb1fZwM3O6kNcRvaeStDBxPiY+se6AgaZ7AnUxkqB4uO6raALk2yi4Kkxgi87ZisWvc1v7mIhAvDNjve4wW1LJvQnLhUXsC1/jBxyr3YeYpmMwoXbETBjJ/aOs1dDmvqFXXkPbkQ72eALwO/Kcqw9icgd3kf5yCk71RXwhVXPjc1FuY5mlHDph7LjjisPvuJiq7gZyoW0S/D6+H9lwReDG5eCnfCxo60n0n4Ejq0BUg6TgNEowsCX2WqCzQLDdtTHOmPOWXPrQHC2G3SM6d3NV9n/6wr4Yu8i12UBPTheI5E24XJx6YN2HGv5PJOy685IFHxFc4/ZdY232pHJyl2pBDBHmNvlhN2jbbM4wE647WyLZm2DL+rNVid2wC7xdowxaGO7/YnXSjSAOoweTNS8y1WoAKeJWr8aI/iCf+KtqDP0BqS4IAil0bjGwmKncGsahdSUU9kriiLnDdoJ0BdvAYJ5D1sK2RY5yrHBF7yDkmYngt0NqDTlRLvi2nNlV10BX4SBhIVxcB5ktPaY7/HuhO0P5sFXXGwVN0Nc4ptOqA/XyoIv2uS6PRh8DEI7bims7bwLzctOADECfU3+MPDFEmCz5xCWN2I/3ISWYlyXpiyuaGGu7x1ffrwgXJ7F0sNGoWEunboAvjCNu/v8sJksE7RNg1j3uNPsBBADfMR6hgBld+l8GPgCGNpxE7ha4gWu89544AsewdpqJ+JpEgm6B7jZLj3KAKzaLqS6AL6wTthWB2Ph4nBs2+qH9TXWFhjQE3ox0ccKhGYM2lug4PpKpK8oPxr4clcwxuIp97e67naEb3ArJQJ8iRN1rSAonMZbgMvaja1KZIUtNMM6hss92kIfFhxRlp1wP7uLM1z6Y30N24DWBl88s3bt2gohALwH5Tzewg36N6z8ugK+aBuxt66hALkXawETdOUEibDkwVdcbBU3Q8yJyWXiuv5/VcAXE1XYkSSY1o1AcdvNkScmfsCO1yGOyhyHwjPRwJcN7ABZruUFZo8WBItLyk1oJrG2x2AZtAGKWAUIDAV0YDmhnrUNvjB/uzELaKmVCTynHQT92v1BsHKsndkBomzx4aYw8AW93P3G2L7D5Q33/3jgi/xsyeBuSgmoina8FM+w/Dzs7E341vQr+eoC+KIeaNl2G5ns7bg7gDIAl7zuB6sJ2yUwyTNWAKfEArn5zP/sa2VbQJl0Fi1aFDW/eY5rGPgCHNvj2s6fyH19AF+MAeLtYlmZ4VPXxU1fuAoO1iib/pSNazPW4ges06zAI2EJxlVNHJm9dQir7tjjz06Md56LBpAAEG5IhXneBV/suRcmi5H10crHMsTiFBeQ8o66BL6gry3rjJxERhKrRuwoeTAMMG8Bgl0Lp6EbVw++tpRTjiyImyEhgeQUWmefqQr4om3sMxSW8OEzIQBecBMC1Jjgw5iSicXdGT0R8MX70TjdoGnqQ3A4AsemP2W6QIW8LJNmx3WADMIeCwITCdYgrCFuQmM07rjaBF9Mau6iBQQZApOJgBWpbIQa9oFuxMhBE2hEXJe7pJpJHhBjXMGGlri93BgNQ6Mw8IW1xV1uDUDExYdgRgjjLsYVSZ3NexIBX7gY3b2TqAsuRGIEOZMNyyXWFyyExEW5LhTys9ePvSs8dagr4Av6uUG7ht5cATjRtg0Ic3Ux6XO0ir1dA1YXJnhWD9uJ1aDwj+mTWNcw8IVFlgmWBS+s3oz1wZrHhp72rvL1BXxBM9pKoD/0grbQA5cd4RK2ldLQl8Bts6rO0JX2hgEeXMzE56FwIntQQpGruPbCxiL95noA3AUqph4AKcAa+SmTeEAAhFE6TT776oIv6s/5qGEJWYxL2y4fQM/mtNFSXQJftI0+dQPvTd2RNSzeYh5xrenkcfveg6+42CpuhoQEkhlUdf1aVfAF2ic2KFqCYdlZ3o3NsfNjjndXxiQKvqArq/RsS4ApG3eNGyyM1cPdMNDkR3hiCQOghZVHPqxfTOKmP2sLfPFed1dr6odrAXBBDAXuo2gfzOZ8EMi0hbgN3LpuYqJmcic+CmAF0HHjM4wmyLNh4AsrKBONmxBKTPZYKs3KWfuEhETAF3UHaGI5DUvQA3BOv9GWsERfh8W/1BXwBf3c8x5NO7BM2XvOGb60r7jMbVeieZYJmngWxi8TeFgerGTG1W+XGXYfBr7MuypztbdxqcvgC74nHs/mf9oJHaFtmFfA0AF+jbZFBSESHJ8UlpCjhFsAjNwTO0x+6gR4QkbY/QTQc7f3Mc9wxTpNma4Sxl5jjB97644w8IXSGms7E8pHmXXLp1zKt117dQ18QUdCFdzwDpt+7j3tYgcA1yLowVdcbBU3QwXGtpm8Pt4DvlytF0ZLZFUHlgsYyhVCLjO6/yOkzOTv0gzw5QoXXNhU5SwAACAASURBVCe229F+hqDgMIsG2hXanJ2XbSncXY3duoX9j8AkONQuCwFnTP7mGQRMtMB/8ywTFaDDTkyCdvuwxtkJd4RxAfFeLDtbm+zAUbbHcFctxSqfTXLdjXLDdrinzVjLwiyUbvmAX7MKCwuIq0lGc4ViMbNX/7nlRvsfi1y0g9jZ/NJ2AWFVjBdPhgXJ3bMId09VtpowvMIVK7IbX0ebGCPxysZyievRDtCPRg/7e4BZZVyG8HSYZdkuM949MsResQr4Yr8qOxG7GRZ/adOLMmx3Fqty3Z3/7fzc4x53gYENbBlz7iINVp+iMNjAxK5r2D00MkH2bh3M/yiNrlU7rCz3O8YLMUqmHPfK2AqLsXLLsf9HRiCn7TbiZg2L5QM4xgJ4drnmnvKhs20hQjballks9a58d93n7jFFxJnalnSXFvyPFRHLnJ2IVXMtkuZZ+o1xYfOW/ay5R9bhwiekxQ1xQD6Y8vw1FGeFftlgiUZ8gBsTgObGMuVEGATBhIsKjcWOTzHMaF8x0yK0YglDBjHao53YBRlhHK0+WCqMBcV+jgnddSkByNhWwBW29nPmnuXfp556aujSaSY21yoBaI3nqqE+LgC0zxSjjQQ62wnLjTlrLlngi0UTNj0J2MW6ZWuhdh24p/9YAg9vcLUTLhO7PPsekBPNQmXKoK9M7AzWKNdiSuCwXaZ9jwsTt2Ii2ilaOBOpaxm1y3MPVQcYmH227Hz2PeDLBeOMI9MmO29l7nErhrlXcdO5VuNo5XK0FLEr8cYnEzh0RKmKVlbY97j53UUtpl8rc7V5EqsfssJOuHfiKYWc42gnxo7tzgyr/7x58yosDOF5G+wz1l1gTXwVZcErYSEKdh3guWhyJKw+yDpAs6sU22Wae4A18iOe0sd7sHKzCW28cYKHAGWDOMhVq1ZVUK7ZTyxaH1A+AfhYs2IlAIo5eJuQFDsBWGxwh7fBtczC+zbd3G08iLGLtxACkOXKYayK8Xh/0qRJwZ6KgFDawRzBfMVqa9puaMO4d70oLmi02+DvA9zVuMAXFheED3E4aE6s5ADMRNMAojEJwhINkoGA0MQ8DSBjawhWQiJYXetRWFmUY+qDBQggAsPbAdFhzxHjg8DgGT7EEbHHVzShhLaOAGBzTSYmTPpoQmg/TKLQwwyksPcBggi4NO80dMOSGJbffMfgdttH3JXdPrQmVp/RBj60xwbDuFCJS0NwmfYmeuUZyg7bDJY6zJw5MwAnxLchYKAJR5IQswONTTvoS/qG8rjGO20AUA2AYdKCJ6A31jOsftAOUAxNKR8tnVhAvo9VX1MXc8UqQl3oP/qRups+5Yge+juay8eUwRVaMxZMH1CHeFYm6o6Vz6YJSkki21/Y7w67h4cNLeAH6hbPAuSWwzhnfLLggfFp+hbexzXMWHEVFbeMaP/D08Qg0fZE+dDOB31pnz1W4UXGPeOQvFx5BxN8tHrwPXxNvxm+ARyZ+MZozzHZE/tknoPGdtwUfctRQqYPqIsty7DUwNu43rDCGrkHrwN2Knu+p6knq1OxwuJd4JgfLGeUTVgF72KrC5tm5rl4V9rLWCAo3q4vHgb2DLQtT4wXaMmHdnOweVgfmLHLuxm/LDSgfOoKMAfYUD6WLluuIocpG5pTPp4Mu3yMA+yZBe3hA+Seu68j//Msv5OPPrcXHYTRA2WJtsCzjCfKRfYlqtAAyFmYgHJk19e8C4u1rciiwBnAafL46xZYa4svYg52T8At6QVjAt4QHmGMWddoxsREXZlEEo1zqWttSHZ9EE7Qg48NDJPxHngCeseyZm7te+hHU3/fpxXHqBmf0Md2d28tzf3zZYdZV4fcYwwamYqCmixaE69VHfU19aN8QEp9mAdMncOuyCoUTFsJDsvHdwBRgLediJeNp6BGK68RfV9RUDWihidtQHuaeR7yPOB5wPOA54H6zAMobXgl8NpgpWcRD/tJhnkN7HbiMnZd/Cxe8kpg3PEQN4MHKSH7CtnM5+89D3ke8DzgecDzQH3mASx27sIirFnEtOHetONGsYwR58X2Ku6mtqwaDVtVXZ9pU0119wOmmgjrQasHrZ4HPA94HvA8UG94gNg+N3DeuBPZg49zcTnCiZg2+zQPk4crW6gkO3Sjgc7RHnw10I6tNwPe09+PQc8Dngc8D9QNHmChkbtZtA2uot3jemSTYQ+8Eu7HhDP6ydxrcJ4HPA94HvA84HmggfMALkbO33S3vYgGvNgyI9ZRZx5Yh+Ks0C/94Grgg8sPBs/3ngc8D3ge8DwQiwfYP+zYY48Ntv7YuHGj3n333cAtyV5fuB7Z75DtQSq7VVOsdzai3zzzNaLO9qDag2rPA54HPA94HqgUD7BdC6dAsGcaVjH2Kazv22nUgXnfg6860AmVGgi+vp5nPQ94HvA84HnA80C95oF6XXkPWrwG53nA84DnAc8Dngc8D9Q3HvDgy2sPngc8D3ge8DzgecDzgOeBGuQBT+waJHZ9Q+a+vl6b9DzgecDzgOcBzwPJ5wEPvjz48jzgecDzgOcBzwOeBzwP1CAPeGLXILG99pB87cHT1NPU84DnAc8DngfqGw948OXBl+cBzwOeBzwPeB7wPOB5oAZ5wBO7Bold35C5r6/XJj0PeB7wPOB5wPNA8nnAgy8PvjwPeB7wPOB5wPOA5wHPAzXIA57YNUhsrz0kX3vwNPU09TzgecDzgOeB+sYDHnx58OV5wPOA5wHPA54HPA94HqhBHvDErkFi1zdk7uvrtUnPA54HPA94HvA8kHwe8ODLgy/PA54HPA94HvA84HnA80AN8oAndg0S22sPydcePE09TT0PeB7wPOB5oL7xgAdfHnx5HvA84HnA84DnAc8DngdqkAc8sWuQ2PUNmfv6em3S84DnAc8Dngc8DySfBzz48uDL84DnAc8Dngc8D3ge8DxQgzzgiV2DxPbaQ/K1B09TT1PPA54HPA94HqhvPODBlwdfngc8D3ge8DzgecDzgOeBGuQBT+waJHZ9Q+a+vl6b9DzgecDzgOcBzwPJ5wEPvjz48jzgecDzgOcBzwOeBzwP1CAPeGLXILG99pB87cHT1NO0TvJApB70S6OpY6S657lI9fJgovWPxKhHrN8S5dVYZcT6LdHyG1e+6mZKX74Hd54HPA80PB7IaNJEbYcPVrthg5SWka4upWM07tA1Kj3yIA3aab7S83PVcdwoTV2/Ws26dVZOSbGmrNpP/bedoUh2lvptt40mrViunKJCFfXoqmlrV6vzqOHKyMnWmN121vili5WZ20QdRwzRjPWrVNK7h7KbNVXpvntr8PbbKTUzQ32mTdaMA1eoWbu2KujQVtPXrlLPSROC8ocsWqBxy/ZUZvMCFQ/ur5kb1qjt4AFKb1agccv31JBF2ys1p4m6TirVlLUr1bRjO+W2aa0pB6xQ7xlTlNIkS4MWzNWkFcuU1bxArfr01PT1B6r9kIHKyGmicXvspnG776L0rCx1GTNSM9YdoJbduiinRaEmrtxXA7abrUh6mgbMnqFpq/dXfutWKuzUXjPWH6Bu48cokp2pkYsXaexeS5Sen6c2QwZo9sFrVNK/j9ILm2nCyn00eIf5ijTJVo/pkzVt7Srlti1Rfvt2mr5utbpNLg1+G7LTAo3fdy+lF+SpuH9fTT94jdoM7KeM/DyV7r2HRu+yo1Iz0tV9wnjNXHeACju2U16rlpp24Er1nz1DKampGjR3G01dta9yWzRXUffOmnnwGnUcNTyo45ilizVmj92UlpujdiOGaNaGNWrVq0dQx8kH7qcB8+coJStTvbeZEdQrt6SVmnbqoNkb1qrLhDFKyc7SiF0XqXT5nkrNbaI2gwdq1iHr1Kp3D2UU5GvCfntrxKIFSklPVY8pEzR9/Wo1LSkOPtPXHaA+06coJZKi4TvM19SV+yq7ab6Ke3bXNoeuV4fhQxTJTFfpsj00evddlZKZoc5jRmibDWvVomsXpRcWaNq6Veq33SylZKSrz3azNHXtCmUVFSq/U3ttc+hadRk3Kqjj6CW7adyyPYJ+bztssLY97GC16NFVmc2aBrQZunBuUI9e06eKeuW0LFRB+7aauWGtek4uDcDniEU7aOqK5crMyVFRl44asvNCtejepXqBaf0FbA1PKPqJzvep5wHPA9XBA7alKL9bJ+391H1adO2lymiWp8HrV2rhZ69o4ZdvafafL1RacZEGrFuhfd9+QSVTS9V0YF/t+8JjmnnWiUpplqcp55+mZc89qIIendV+5hStePN5DVuxpzILC7TrrVdr6V3Xq0mL5hq0bIlWvfmces6ZqfyObbXH4/do24vOVlpeE0054Qit3viUSoYPVvGYIVr1xjMae8Q6pTTP13ZXX6zdH7pT2Z3aqdtuC3Xg+y+r564Lld6pnXZ77C7NufoiRYqaaegRB2n5G8+oaOwwFQwdoH03PamJJx6hlGb5mnXJedrnmfuV27mdOs+brVWbX9bApYuUWdRcu999s5bcerUy8/M0/IDlWv3W8+o8pVTNunXRsucf0czzTlVqk0zNOuNErXrhMRX16632E0bpgLdf0IiDVinSPF873XKVdrv3VmWUtFKvpYu0/v1N6r5wrtK7tNfezz+gba+4QCnNm2r0SUdq5VvPqNnQASocPVwr33hOo45Yp0hhgba76mItffxuZbZrrS6L5mvVe5vUe+ftlVXSSksfvFM7X3e50ppkacyha7T6rRfUZtRQtejbU6tefUYzTj9RKelpmnP+6Vr5wqMq6NZJnWdM0IHvvqwB+++lSLN87XL3DdrlrzcorWULDVi+u9a9v1Gd58xUZrcO2m/jo5p24RlKaZqriWedpNVvPqv8Ab1UNH601n/wqoYfvCqg44Ibr9TSR+5UaqtC9Vy6s9Z8+Lq6zp2p7HYl2uvJB7Tj1RcrJStN436zQavefl6tBvZRy8H9tOqtFzXp+CMC0LPwit9r5fOPKLekWN22maqDPn5d/fbaTZGmOdrr4Tu1863XKCUvRyMO2EcbPnxd7adMUFa3Dlr9xjOafPYpAaiafP6pWvn608rp2UUtSkdpw6evaeja/QJ+3OXO67XkwduD+vbae3cd8tnb6jBzkrI6ttX+Lz6u7S89TympKSo96WiteusFFfTsolYjh+iAD17RhCPWBwBrh2su0/7PPKjMpvnqu3A7Hfv9Jxqy927Bbxl5uR6EVQSKXkhXh5D2ZXq+8jzQAHkgNTWwcIxdtUzZHdqo2fiRyh8+QCmZaYo0y1NKlxKldG2j1OLCwNIQKcxXWsdiRXKzlZKdqfT2rZRWVBBYOVJbNVN6+5aKZGUqktdE6Z2KlUoZGWlKa1Ok9JIWSslIVaQgV+kdi5Wa10QpWelKa9dSaa2aBWVQVnqHYkWaZCqSk6H0Dq2UWphfVkZxodLaFiklK6O8DCbqlMz04PvU4uZBPurIcylNMoNPUMcWTcvqWNxc6e1alZWR30TpHVsrtSCnrPy2v9QxPVWpzcvqSDsjWRll7TR1bFkQlIGlK5KbVdaW5mV1pI20FatMakGuMjq2DmhBO6FNWqvmATiKFDUN2hnUMSc7uE8tpI5pSm1dGNCEdkWa5iq9U4lS83+pY7uWSm9dWNYW2klfNMkKLFrcm77gPenti8vamZtdlu+XvkhvU6S0NvRFWlDHoIxf+oI6prZsVvYb7YSO2ZlKyclSBn1GGempSispVDp9kUEdc5TeqbUi+U3K+qJdK6UFdYwotYWpY2ZQz4De9EVaqtLoi/b0RboiedllZZg6tm2ptJKiMno0yyujIzyXlaEM6lgEv6QprSU8V9afKblZyoB3gjJSldamULSVdkaa5Sqjc0kZ32amB+0K+iItVan0BXTMgl+ygnoEfUEdWxeW8UtaROktmil39BBF8nPUf9ECrX36EbWfOM4DsF8BWAMUkL82zne0p4XnAc8DSeMB3GPbXnG+9nn+fjXv1yNp5Xqg7uchXIt1ng+qWMfOc2Zo/i1Xq6h0RN1vY83Jy3rQ4TVHDM8YntaeBzwPxOaBZnlK7dousPDU+cnS92XsvvT0qX76GMCWmqLUprnKyG0SuFH92PHMV/3M52nsaex5oEHwQNdpkzR2+V4qaN2qQbTHT4De+FBTPNB25CAd8fITGrbHrn7slM0Hnvlqivn8ezyveR6o3zww7LjDtMdLj6nd+FF+AvEKheeBSvBA8z7dNOPC09RhxkRPNw++6vdE4Cdy33+eB2qQB9jHqHmeUkqalwVVG3dKJSYg31812F++X+oOyHH3AHP/b5x95QeDF4ieBzwPeB6IywORFLUd1E/9Zk9TfsuiujOxNc6JK6n0HzlypCZNmqSMjIyklmvzVG5ubvCOzp07V9s77PfVtfuiQX20+M4b1Xe3nRpl+0P6wwvdEKJ45vAC3fOA54EteKD0tOO04o3n1GH86C1+83Kkfs4lBQUFevLJJ3XHHXeoadOmW/RrWlqahg4dqjlz5mj27NlbfObOnasRI0YoNTV1i2cNTyxcuFCbNm3Sm2++qTfeeCMow/zWWK7Nh/TV3AduVrc9FkWlU2OhxS/trJ8DppF1kmdWDwQ8D9Q2D0Qiyu7YTgWD+iq9IN+v2Krt/kjS+9u2bau33npLf/rTnwTQcueWJk2a6He/+502b94cAKiNGzfK/nzwwQe68MILlZWVtcWzlLXDDjvoyy+/1Pnnn6+BAwdq/fr1ev311zVqVOOJG4zYbsZIilLt/5PUj26/1YP/PfiqB50UOqh9vT3veh6oQR6IRJTfvq1a9usd7OpeL/ZlarwTW8Iys3nz5oHl64QTTgh9pgJwiEHPsHytWrXSc889p9NOO61C2VdffbWOOuoohT3TUMd0Uc+uWnTemeq77awKtGio7U2gXTUovGIwbgIV9R3m6ed5wPNArfLA2NOP1z5vPK923u1Yq/2QzPmiffv2evTRR3XggQeGtgmL1iGHHKK77rpLN9100xafe++9NwBSmZmZWzy/bt06PfDAAyoq+jVGMD09PXBxHnvssY0KfLUaPVj7vPa0Bq7aZws6JbM/61FZHnzVo87yTOvBh+eB2uKBSIqaDumvttvNUHZxS98PtdUPSX5v165d9dBDD2nJkiWhfQqo2nnnnXXiiSfqmGOO0W9+85sKn9/+9rdavHjxFsH6uDCvv/76ClYvgN7ll1+uZ555Rn379g19X4Odj1JTlJIRUUpapFGBzhj96cFXDOI0rsGRZKHm6erHVoPigUhEWblNlNesQGnVuCquQdGsHsiU4uLiwO0IqEom7QnAv+iii3T//fdrwYIFQVzYSy+9pNtvv129e/dO6ruSWe/qKqtZh7aaddAB6jp2lFJ8zBf97ycITwPPA54HPA8kwgPjTj5a+7z4uNqNHdnoJs9E6FNf8+y2225avnx5zBWLVWlbhw4ddOqppwaAi4D7mTNnNlq+aTduuI769E2NO2hVo6WBw0Ne6DoE8YzhAbnnAc8DW/JAJEXNZk1WhwP2UXan9lv+7mlW72lSXQHwxHk19nkmkpmm9KKmSs3JbvS0+IUXPPhq7IPCt9+PAc8DCfAArhJ2tQ8+ET+BeLDpeaASPJBbXKTBO85X6/59PN3K6JaA0KkEgb0Q9/T0POB5oKHywMTD12nFfXeo/fAhfgLx84LngUrwQJuJo7Th64806vB1nm4efPlJsqFOkr5dnrergwc6Ld5Bo08/Xs16dfcTSCUm3uroC19mPRrjbKyan6O8Ab2U0bqlIjFOA2hE/Vr1DmQ1R2FhoVq0aOGXjjZwQUQsBPvdtGzZUvn5+X7iaeD93YgEYOK8HHGOj6nkiq3Ro0fr5JNP1pVXXhnsmE7wddiO6smgPbunH3zwwdpxxx2VnZ28GBvOPhw7dqwOO+wwXXzxxWKzUHZ/5/icZL4nGTTwZVR9bk867TgdIj9P3YcNUYt2bTxeiGX5GjZsWLC3SceOHaMKJ4AXG889/vjjAQBLeodVwwTHURGcz7Vo0aJAMCGcOP4B4cGV//nstNNOwf8cPVEf2lXVOvbo0WOLtts04J4VO5Q/ceJEvfDCC8HqneqaNKraDv9cHRK01TBu60r/DjtgX+143eVqPahfwnIBxeWAAw7Qf/7zH5E4jub//u//gvszzjhDeXl5CZcViw4AIwAegOjnn38Oyn/kkUcqbPAZ6/lEfmvTpo0efPDBoOzPPvtM7777rv73v/8F/1933XXi90TK8Xka33htP2G0jv/qY03wbkczRsKZ4I9//GMwoKJtPMfgwQrCGVX//Oc/xTEK9WFAAaY++eSToG2J/AGE1Yd2VbWOa9eujUuGPfbYI6DBrFmz9OOPP+raa6+tNo29qu3wz4WPY0+X5NKl+4q9NOmqP6pwUOIbZHIg83fffadXX31VpaWlwXYG7PN09913B2OPndWTscpuwIABeu+99/T111/r1ltvDeQyyjFKcrL4AOvW1KlTA+tXbm5uUO7gwYN1zz33BG1hI9K6YgHDM7Pffvtpn3322WID1GTRw5eT4PiKRJTZqoXaz99G+X16eLdjLMsXe5KQdt1116gDlyMTsISg/djHJ9RlhkQwTJ8+Pdj0bv78+QJQHH/88UFbOdUeq9i8efPEb3wauuULjZwEoHLbvv322wc0aNeuXcAD0O2rr76KegBtXe53X7cEhWQDtlptNQ9U0s3I+3DRs8v5Dz/8IMaTXQcDll588UV16tSpwm92vkTvu3XrFhza3K9fv2ATzzfffFN/+9vfkgq+otUFN+cXX3yhp556SuziHi1fTX7PzvTItb/85S/C41GVd1MG4BUgV5Xnq/IM4R1YEBuUdyGSovTMDBW2aqkmebkefMUCX+edd14wKe+yyy5RmS5R8AUThTFvMrQ9mDus7MowPQCMdOaZZ0Ztq11eVd6X6D4vlF2Z8mMN0EToa8DX4YcfHrftiYKvWHWy6RirfvZv9j3Pu//bZfp7D7Kqkwf67rJAs047XkU9u8UdL9QDq9D777+vp59+WuykbtcNNyEuQqxiKHz2b1t7z3uxgtUU+OrVq5c++ugjASQ7d+6c1LZUlRbI3D/84Q9BmAS0tstp1qyZqLM5jzFMPiOHOX+R+DaeHTRokC655JIgTCNMRmMJnDZtWhCuwo727gcvCoDbrocrywYOHKjbbrtNuIsbmgu349jhOuWjtzTpoNUVaGDTo5HdhwvrrQVfMDOaHu5LDi3lcFHOwBozZkwFws+YMUNHH3200JzCCM+J8wSOAhKMmZt8xKIdeuihAaM+/PDDwaDgfWgNYeXE+o54LxLWPncwmOcol5iwSy+9VLyPAUK9XI2VfOyWvPvuuwembgYc2teTTz4pYiJ4Vxg4QVslGJczxqAXQazRaIJmibvwlltu0RNPPKEbb7xRq1ev3sJKh8DB5YFbo2nTpkF5p512WiCQTNk8R8JdYNoa7RoLfDGxrFy5MtDyiQGkbuvXr69AH/qPXaQ5bNZ1UyPMJk+eHNC0e/ctV5Ih+I444ojA5RGtfv778LHs6ZI8uvQ/Yr22feB2tRwxOO54ge5Yk7F6MfaZ6OFzLMlGBpxwwgnB+It2qHNV+27o0KE1Cr622WYbff/997r55puFzK5qvZP5HF4O5DXnMRp6U37//v2DuDXA6QUXXCAshpy3uNdee1Wo97hx48RxQBMmTAhANICIZzZv3hw849a1devWOuecc3TnnXcGB2fjSbE/uICRf+5zxNQih6nra6+9FvADfGGAoZu/vv6f27Gthq1fodZjR2xBg/rapq2sd7hg2hrwxUSMsCGh1QE8cE+adOSRR5Zbd3BrkgBnYaZh4o1IrBAy2gsC7cMPPwy+f/bZZwMG//jjj4P/0SRdDTMegeKBr5KSkvL2oN0xoDgYlUQ97CMjcDPQXoJRAV3ESL3yyivBdybgFhBqa05oS8TNkTgHjA+J/Pvuu295u2kHbcfNS+IKUCOAl7Rp06YAwJj25uTkBHRDKALmiAUh/fvf/y53Jxvwlci5ZtHAF4AaIUWCPoAvhJT5H/ctdUIY/ulPfwq+X7p0aYUBiBWV50iAUNMGrvDFZZddFvwWyxJrP+Pvw8e1p8tW0AW3Y1a6UnIylZKeltD5dMi3n376KVB44PFTTjlFuAMvvPDCwJ1lLM+EPiSzb2oafNEe0t57753UdmwNTQBDxL6tWLGivE7EKWMNJN6O+DvmHZR/5B8xecYyxVyD/Ka/CD0BeBHfzPWmm24SZdt1Q2nng9EB0MTV/aCYI/ddBZ/5CsVyzZo1WrZsmd55551gcZNdfkO4j6RGlBaJKDXVb1D8S3+GC6Oqgi+sG9dcc00wEP/85z+LE+NhOBiR1XIbN24MfsNyQwUACFh7ACloGDaTMQAYJGiOI0eWnaWGOf3zzz8PYo9sKxKDAZMwiWtlLGCxwBftueqqq4Jy0ZKMxQZNCiAAoPn0008DkzR1Z+USGg4JYLbtttsG4In81B0g9t///ldz584N2kr59913XwCIjOuBwTllypQAVDHYzUAfMWJE8C4ALYGkPAttMaFjZULIo5VhJaIugJ1zzz03WI0EfbHsYdbGamhWWBnhf/rppwegFUGDZs4HjcwO1rXBlwGPaJFvvPFGsHoLS6CJj8DSRh2hD7Eg9D11AqgCKonDsLXRSZMmlQNQLIt2DGHPnj0DgQSoRXjaPOLvw8evp0vV6YIygdIXpsR1mzFZ41cvV/MOicU1UQ4rG40lm/FJQqYxnhkjJM7/S2af1ST4Qnn89ttvg/ML64rVC1ri/kSRxRNhaIsMw7oE8OI7lFtkEau+WTSAPOR7lEMMBpTRt2/fYM5Bwb/iiivKV3+bMs0V2XTSSScF5WEssD/MhcyLsRawUQ5zAKtJkXmm3IZybTNqsNZvelojV+7T4NpWxT4KF1KVBV/s9UUFsHKQ7r333goWG1M5GPkf//hHsOKwS5cuwTOYYsMEOdQOtgAAIABJREFUEPvJIKQw4wLemPCN5SSaBQRNBnBjwJp5b6xrLPAFWCBhTg8rg5U0JIQrvwOIGMQs9Q5brIAgIJ199tlB/oKCggC8AOD69Kl47AJACLcmIIVyjfUHa1VYXYjbIgES+R2amYUTmNXDnlm1alVAL6xhgNovv/wyALYE1gOceKcBSTb4oixAIuCOhPYYVr7pW7RFykFAASiJg7Hdi1i70CzpXywDBohSJgKLCQzt1NUaw94Z9h1AHrfC73//+yC2j/g+//E0cHkAq7RZuYfyxCRs81zpiUdq+YuPqP3o4aH87vIecgql6KKLLgoUE2KIsFQTi4TShLuRdNxxxyVUnlt+tP9rCnwRl4T3AYs3il20+tTG9wAqFDmUepRm+pJ5DVBklEcUdXiA/7E8IedxN7788svC9Ue9d95554An2H6J/1FqjRJutwtZTmgKgA65534A2sxp9jPuPaEzt99+e8Ab7m/1/f/83l015vzTVDJnekwa1Pd2VqL+yQFfRuPB502CCaNVAsFDMts4ADIYvAg7O8gQLYJkgBZaCKZhQAHxRXwPmFm8eHHwoTwGD4nfo73f/T4a+ELoYnYmMUjZ88q8iyuDEnMxCesdVjwsbgDAv//970FsgfsutF0TAwI4ApBgdSKhkR1yyCHBCkyzwtA8jyaE1kz7o1l/EDbQkXKwQFF/wAbAxbj+THnmCpADKOKyRKvDyocmyAcXLpODEVQGfJGP5xFAuF+ZTADVpkz7Snzac889F1iuCHDlN2IwqJNxURhABkBDgAPMDJiFPmiNWM9cy6j9nnj3lEPZgGmsiv7jaRDGA/AYQAieRf4YQBFJ4VzHiFKa5yulpKVSsrMScjuymAe3PyseTdgEYQyMfXiWWEv2yYqmUMXj62i/1wT4AmzQLsYmsaXR6lJb32M9x+2IJwI5hWKHHEfxRTlnHsJIYJRePAYsGEAJJbTEWN+RU8h05BdhHyye2H///Su01wbo8drr5kU2AQyZB5hHCFlBbjMXYDk1ho145dbp352Vwrgg63R9a2bVd3LBF35yktESwgiMhkHC6mJ+N0CLQHW+A4RhAQFI4MLiOwYHEzMutLfeeiuIeWLi58P3xBnxAcRVRphFA18MCoIgSewN9vbbbwfvst9J3BWA54YbbggCTfH3M1D5jiB60z5zhS4mMNXEuCHE0LKot0lYnhAUuG15FmHKd7hhjRA3ZZorQh2rEoOX5xjkCBisWrj1TD77atyOxOHZ34fdu+ALYYTLkaD/aIAQQIomh0Vt/PjxwTvQLBFwgCrqCCCCvtQF+hlhSZkAbvoaa4TfWT98rIb1lf+u6rRiPIZOeJEUNR8yUG3nzFRWq6K444U+ALwhIwBzjE+7X1DUkJfffPNNEJ5g/7a199UNvqg7VnFCIMIs/Ftb/2Q9j2xBkQRAAXjZo4zwBT7IdoLt7XdhrcIyhtwx3xN+AchEDjG/nHXWWeH8UcUJG+UW+UudcE0CDlGCAYC8C+OEqUt9vpYM6qvVf7tFw5dE30GhPrevCnUPF1KVdTsay5dxjaFVRquMWeEDqjd5EBZYtNBEAD1YmUigf5MHDQWAAggiMBKAgbXH/jBo+FAfV8Mw5bjXaOCLQWECSQGKuADtd3HP4OV7LFXkJ5YK8EV8APFQ7ruGDx8egC9WKBrwZfJgSQLgYG0ikJ4EmEJoY/nCNck+OrggzTP2FSFBTBlAFPBqg69o/WHAVyIBvy744n2Y57HG2cLKrhMWOGIYAFcGkEOjv/71r4ElDxodddRRgSvaaKDUiQmJuAyWaxNPkuzVYHYd/X24DPB02ZIu4884Qfu+/aLal44OHYMuzVA+mFCJc+RUDft3ZAFjGkuKbfG381T1HsUISzkTeDRlraplUx4eDsJHkJ1VLae2nkNu8anM++lHgJuJp63Msz5v2ThqPqiP5t92jbovju4Va2S02lLAQIDKgi+jKZoAUmKNwgiJVsmEjTACcJk8ABdWSPI9pn80QlYA2oGHWD6wgJAnGpgw5VXmGg18UQYAkYQZOJEyqwq+AJx2+QAstmsgAUAAagBTNE1AkJ3X3BvAiusVAUmZxvIVjV4GfJn4BlNW2NWAL8z3/I6VijriNsEFG+0ZQDUAzAB08hEXgQUQcE1Mnw1GmZQA2MTfEFMGmDQuy7B3+O/Cx7CnS5LpEklRWocSZQzoqdSm4QpQGM3NuCGmkQU4LKAh/AAljUTcaNhzlfkORQvZyhYyWJaJk8QCDrAjIB5FhjFk3J2VKdvOixeC7WoY81hlUKhYoMCHd+DO8xbqJPNdFS1qdr/V+v0Wbsea27S21tsevf/CGaUy4IulscY/jgUISwgJ4GJbnwgwNccWcXU1MuIGAFZYff71r38FeQFlNvGI6yKxtYEdsE0e3o15GG3PjZmyy3DvY4EvTL5mGwX88vaz1A0XKi4FE79WGfBF+6kncQmYmW3t1wAbFg9gOue9JlifVTiuVQ2hi1mc/MQlkB/XQHWBL9OvrNrEDQwPuMGkaIkE45L23HPPCrQjRgyXJQAbEIa539AWAQ/AgwcAbhzg6/KKyeuv4ePX06Ua6BJJUX6XTioZPlRZBWWhEInSGdmBpYj4SkISkHOMVeIfGeuJlhMrH5YZ3PkE+FO+SdzzXtz89urlWGVF+43QASzRJN7FPeUT2kB7aCPnS0Z73n9fDXwZfXKvU/3Qqlc37XHJ+Ro4f5s6Va9a5MlwZiDeiOQCDruiuMmY8BmE9uoPLFeY00kAIbZBYDUcwYwk9lkJO4IC0y5+bxIDOsxagzWHgFgSmh1BiljbCFwFAJAAMraVxa5z2D3uABJtNqDCzocmifWFRFA41iI2CsViQ+I3E1OF1kcMFKAhzEQNSCIR14TQRVslJooEfaAVViFoRCLo3cS80XbaSQK0YBUC/GGVw02HNnrQQQeVMzbWMoLjSdGsZWwPQUpkqTsbKSLYsUoaDRpQtGHDhuDdWOVY1cU2IoB34rxIxPOxQsimKXUjLwlX8pAhQyr8zoIJkwywtZ/39+Hj1tOleuky8YwTtXLzRnVI0O1o9wcxoKxIRiFiTJgYSDvP1tyjvKGgsVcUii/3xNByj3UNGbW1QA85j7ykTBQq+0NcFQuR7Llga9rjn61eXq5p+rYeMVCrnn1Yw/atqIjXdD3q0PvCO5jd4wl2Zwf6aJUFOOAqJH6HezsfB8cS0GgmYFa3EXiK8IkFjHBfEbcEsHBdcXb5rKZkGTErB0lYX7BAIQwqK2DQGHGFUrcw8MV7sbIhNAGaaJF8AH8ER9rxAwBItnrARegGc1IOcU2AM1bzmXryDCAIEAedKBvwykpL4841bad+gBHKQNskAXrYzwZwZPJxpXy2Z8D1gCvP/s3cEyyLJQ3AZ76LdkWjfeyxx4IjN2yLJHXCamncotSJfsHVSF2j9SMrwbCM0U7XsoVljPJwRzaUgNNodPXfh8ugOkeXSEQ5g3qr+axSZbRM3mHVda6d9cSS4ulWT8YN/ITbkRWOmWkJb1DcCPo3vAOZUI11IxYRmITtidjNizuSFT+AMUCG+T0ayOH3aJO1eda+AnzYvBSgY9c3Vvn289yTl3cm8gzAEZcfWmw0EGloEq083hVGM6xmgA7oZZcdVg5lEOSOdS3MimjayHtitc203eSPdTV5w+pu6Eh/UCcWIUTLZ78jVp6wdtvP+vvwsevpUk10iUSUXVSogo7tlJ7TJKGtJnxfVFNfeIBYPpfWFx4r6NhWkw5bq46lFY8YrC/1r4Z6+sFRDUStdwOjodMAAIrVkd39G3pbffuqT6ZNP/kYHfzyU+o8puzEDU/r6qN1faEtSjMekLq411ldomHrccO0+qPXNXR94ntw1qX6V0Nd/OCpBqL6Cb6OaaZYRYl/Yc8fttUg/sXd6sPzgZcFMXkgElHJxNHqu9cuymtXcc+umM/VsbFQF+rK2MN7wGp2wgo4fowYX6z+rAQlNpaVlOQx4Rmm3jVtEcfDQFwx292wLQ5Aiw/hEqzWJhyDkBc73tbUtTLXZLQrVhm0g9W2LOAyR9ZVpn5blRe3Y3aGUtq0VErT3IS8TFv1vvox5rzAbQSd7MHgL4ORoGRORiAujwUWBPabw3Q9H3hZEJMHmECaZColr4lSMhI7WDtmefVjgqgW2cEqbzYzBbQQc8oCIjaRfvzxx4PthFiQxDY2bIFDCAMLi9jiorKWa4AbihaLAQB3NpBjZTogz6wABbgQ7mEvDiIsglha4pVJrHwnvpZFR6weBYCxZRJxz2GL0wi3AVDCB2wfxCILVv1HA0mAI7YGccMxAKuAJrYTYnW+++F7dwU878TiD7Bl4RsbxLJvJLHSbOXDxq52KFB182peqyKN3GWh2gwIPw2lut9fB8v3ArcOdkq1CDzfzoq8Tmwa2iwgjE0jAWXuLuSeZhVp1tjpMeo3h2jJo/eozciyc/4aOz2q2n7ABRYvYlwBL1ikAQYoQoAhVngDDLBYsxIbgMbG1az25jeOdQNU8H4AFCvc2fbGrg9xwGxwy2pqwBMAyazERAnjVBIWTXGkD7KARWNsawOQ4b1YsgCBgB7Omt24cWPwLvsd3FMWi4vMMXjmdxYzcRoKoIeyaCf/m8O1AXqsnLcXZhnQ6S5AwlLF4iNWxLPRtvuhbitWrKjQfuoB4GPlPAu02IKId0JfVr+zUwELskx9q/vafvwoHf/NJ5p4+Poae2d1t2kry/fCdSsJ6BmpnmvwaMBom2jZHEDO3kuTJ08O9knzvOHlQzkPRFLUZdEcjTnpMDXr3sWP+ySOezZUvu2227Y4UBqLFXuJsfKZFemscgdAcPQcgAYLGkCELXBQomzQwory++67r3w1OlYvLE5Yg3AbYv1hb0JWsQN6KIuthHiOfSh551577RW46rCUA/4AZ4cddliw3REHcrNCnh0BeN5sNwS/EF8K6EKmsJqePQ3ZLJv3sj0Secz+kgAw/sctyMp0d0/EaFaycr60+sHNC8gFuIVZuAC70CysnGr5rmmu0gb3U6RNsV+sUtZnXrhWC6NZA8KXX394DAHMdidYwhC07OdG3Ikr1Hyf1p8+TVpf4XaMNMJ2V7MsY2xhuQLAAKzs/gKosOcjFh+z3x9uO1x/uCJx/bGXIce/4cbkebO4hv3OAGaAKaxkKFmUjXUbS5EBPShaABGOq8PKxtY9bKFkNg7H6gXwY9NnztblCD2AF247rEmAKk5eYdW9qTu/UUfTHurAXpdsJs2m2sgUroBIQCdbCrE3ItYtU09TFlfOuQUQ8h72l7Q/0A2gyN5r9jPR7rHUcQoK2wbZJ8hEy5+s77ObN1W3CWPVvFMHD748+PKCNFkDq6GVw4SAgOSAdjRjNFZAWY0HqlbzxNfQ+q262zP8wP21yw1XqWTIgIQmuuquT0MoH7AEgABI2bFOuAgBKAS7m3aiHHFMkrGEAa44Yxf3Ja5J4rPYqBowBchgf0MAFWAF1xvWJqxnbGxdXFwclMuelgAgVi0CknANEvRv3skV0AQADNvWB3cnrj3exzFLxH7h4qRcnkVmEMvG5rS4GGkr9WZzbNpCbBv12bRpU6hbkzKoG+XSNkCj+2GfSPeEEWQYp5xQP+qC/MKqBihEptX0/okdS0fq1G8/0ZTD11WgrU3nRnbvAUgj63DP+JUENGiiuBQ4WQGtl7gTtGUEouedRiQ/Iinqsd9STb78PBUO6O37vpLjKNpYMeALy4+dBwsVIIsVhbjxsPxw7BhxYcQrYYkycV8EyQMoCNrnlBRimQgyxzpGSAGrFEmEFaBQAeoAWIxpQI85TYXj6QBOdtA9deIUD8CdAWx2PQmoZ+EA4I6yWE0N2MM9iWWM+uDeMxYtrE4cqWYsZVjoSMgVu9xk3OPyxF0Kvb744gt98sknwekruEOx2PHhRBrbXZuM94aVkd6imVrMnKgm3TslvZ1h76sH3zUi4ZkkYVEPOtUzdzX1Ndo4gbVMFAhUhDtat62xe/5ooDIFt6PNV+7/9m/+viKt4tCD2KmwA8axFgEeiPvCesRRb8Ru4WZ0j0zDTciRSoxH3HQE5eOKJI4L1yQxYmwCTWwVAIvTSli1aJ/+AWg744wzttiGhu9xjRLAXoEHfmkXMoHVmAAZfqd+gB3clVir7OcAegT1AzrJi8uRYHk78D7sHZX9DssXABarF8Buu+22C1yrxKidfPLJAQDFCgfNagJ8peVkq6BbF2W18KdD/NKXDVRQxhnslWVkn9/zicsDuCUx/+M+OOusswJQhlvEzef/bzi8M3jJLtr+nNNU3Ken7+ckyliACAAAwOCOF7aaGDlyZJUtzWGKEXFjlGu/y7jp2NaBe7suuDb52N/Zz7r35APomZgv83uiz5v81XmFLjUBukwb2o4foUP++Z5GbTiwAt3N743w2nAEYyPsPM/ESZwAqso/uCjQZlkliVsSV4Z3SzZMuTL84NXa9c7rVDJskB97dWDsVXXM+udqfnxmtStWl/13V7ORAxXxvIP8qPlO8O/0NK9JHkDbJN6C/YGq+72Y+QlsxRJGDArxJSa2o7rf7cuv5nHFwcBGXgYrH63/zff++iuNPC08LQwPRCJKzUhXTmEzZeSUWRbLx5LJ0/iu1SywGh9B/YCrg31OHAgrFjkKpKYGvVktSaAwq6iIC6npFUY11dbG8p5O283SiA0HqmmXii6rxtJ+304/X1aVB9qNGqKj33xZ4w/cv8ZkcFXrWkPPeWaqIUJ7hqtFUEZMCcvQ2fHa3gyxJvqeGBICcXFLmk1cWYXE9zXxfv+O5Mm4wSccrh2ffVDFoytuReBpnDwae1o2TFrmde+kMacfq7YzJ3u5VzYXNsyO9gPY92sYD5SWlgYrnObMmVMrAoB9grCAGbckxxthIQurq/+ujvEwrsYmWYrk5yolI933WS0qU35s1LGxEY8XAjd9ilJSyz51aeFBLfJSPevEeJ3sf/eTQhweGDZsWLBsnGXstTjwyjdxZbUkbknOgvObuNZheRSJqN2IoRq0cJ7yW7eqVd6pTb71767DPBpH9tVm37Ue0k+rHrhLw/Zc7MdOWT95RqpNhvTvrh3+IwaMHbXZ4LC2+4DFAGwWyV5C7B3GJo2sngw7j62269rY3z/89GO1+LVn1GbcqFrnm8beF779tSM7q0r3wv49teCGS9Vzp/l+7HjwVb+Yt6pM758L7+eOHTvqoosu0tq1a+uMMMDyhUUOtyR1YxPX/v37l2/I6PsyvC9rhC64Ttq0UqRHZ6Xk5fjz6eqwlaVG+MG3P3G5ydix6eX+b//WeO5rUZg1HiJXZDzf7jpDD8DO+eefHxw/UpcC4ImJ4EgVNnHlgG/quHjxYvlNXGtRXkUiKurSUZ2GD1aTgurftqTCZOVlRp2RGb5fqjYGi/r11C5XXaI+O87zfVk2nqtGSM+Anm4NhQcKCgqCw3c5gLcuntcIKDRnS3K2Heey8X9N7FvWUPo4We2YfMYJWvPmC+o0foyfQDwg9DxQCR4oGjFQOz9zn3rvt8TTzYMvD6CSNSnV93KIr+LwXfYC4/zGutoe2y3J/mFYxgYN8rut10x/RZTXt5daTRmvzCJ/Pl3N0NzL6AZD58gvfRlJSfiYpgbT9nCQ6pm7gXdwnQUSdY3u7AXGIbjEWtWHzVDZooKtKi699FKde+652mmnncRWFnWNrg2mPpGIsgqbKbdtsdKaZHk6h08oni6eLqE8UNilo7Y/7ij1mjLRgy9v+fLAs8FMjEkSeMRaLV++PDijsXfv3qFCpK7RLCsrq3y1JGdLnnjiiZoxY4bfxDVJPGH395jTjtNerz2ntuNr7qQE+/3+3svs+soDrccM04GbX9bwNX6H+1/6sHaYOWJMkNUgIOsrc/p61w4vhtGdPbf+8pe/1LtzGbHYsVoSSxiB+uvWrat3bQjrj7ryXdPSUWq7ZJGy25bUC2BeV+jm61F3ZFut9AWrG9NTlZKTpZTMDEVSU/3h2gl3RCQSECs1ElEan9TU8g/f8Ym3a21euxL1mj1Nrfr0VHWAr/xOHdRl8nhl5OdtnWCMpATtoU0pZklsJKLmnTuo65TxymCZeT0BjfH6JJF2UAaf1NTUoN3xyiR+CqsRgeyJlF9X82y33Xa6+uqrxa74dbWOserFXmb77rtvcMA3qyWXLFniV0tuzbglViUrQ5HcbKWkpdVLnojFL/63Rg6QtmZsJPBsQZtiTVq2NFgt7Hkt4LXEGa7TttO14N6bVXrnXzTuhks15uo/aNxNl2vK3ddp4W1Xq92wwTEFUselO2qf/3yqUacdEzNflTomK10zrvmjDtb36rfnLltVflbLQm17wemad+m5KmjXOigrPT9Ps268Quv1rXrusfNWlV+l9iXA3NHK7dSpU3Cu4dZspTBz5kzddttt6tq1a9y29+rVS7fffrs4vzCsTrm5udp2220TKivs+Zr8bvLkycF5kLNmzQptS03Wparvgt6cLXncccfpiiuuCNyS06ZNE99XtczG+lzpcYdrv6cfVPvRwz3ttkImNVb+acztblc6Usf8812NP2SNHztlYydx8NVh5/ma+86zGvrKQ+r98fPq9s1r6vv+0xr3+qNa8PIjaj8+9q7PrZYu0OQf31O3U4/ckvjGwhQyoCN8F+P3gKHT01S0eJ56XPBb5Q3pu2X5VrmRFGfDN+u3oKzCfM147RHN+vgFZbcvA18p6Wlqvfv26nHBKcobFDsWiPoGdXbLraX/sdzccMMNSk+v+nl0nTt31vz589W8efOYtIV+WL3uvPPOqBYjQOBNN90kG9DEs6bVptAaMWJEcBzRDjvsELfttVnPRN5dXFysBQsW6Mwzzwzi2g4++GANHDhwq3gjkfc2lDwt585Q10MOUE6XjpXmBSzHjB9cwx06dFBRUVG5NdmlD1uelJSUBJZKrpmZmVHfR1koWBkZGVHzuOUn4/+ePXtq9uzZYnxkZ2fX6Lux6iI/OCosjDbEQbZp0yagH/SGnnVZxiSjP+p0GXhOcrLVpEtHpRc2iz+f19JcWcM0TBx8pWRnKlKYr5TmuSq54AQN/eldtT50P0Xys5RaWOZiat63l4b85iBNuPICjTjrBHW0TjAvXrpA077frJ6nHBEM1PSWLdR//QqNOu5QFfXtFXxX2K+3Rp5wmKZee7FGnHGsSkYNDb5PTc9Qj90Wqs+65SqcMUGjzjhOEy49Wz12XajUX0BF2xkTNOjg/ZXfpb3y+vbQ0OM2qNdv1qvnEWvUbcMK9TlijdpMGlf27uYF6rV8d0284jyNv+Rsdd9tB6Wlpyu/pFgDTzlcfd56RF3feli9zzlOA/bfQzklrVQydZwGHbyv8nt2CcqIpKWpw3YzNPqckzT+8vM04PA1KuzdPfiNg3e77jhX/dfupxbTSzXipCM08bJz1GvJTkrNaVIt4IyVboceeqh++9vfBucEYtnACkX8z7PPPhvsls5GnUzAbFnAarmRI0dqw4YNGjWqDDgDnI488kiddNJJwSRtBFaLFi00YMCA8iBuBB5lnXLKKTriiCOCsrp16xZMKljHrrvuOi1dulT7779/eVkwNuWsXLlSL7zwgs455xztvffeQbk1zPRlfVSJAY6wv/zyy7XHHntU+tm62Db6Fd5YtWpVsLqTvqA//WrJGPIQBTCN2JWIUlKtkIQE+YgtTFCC/vWvf4mEJRkAFsYfhx9+uL744gv99NNPeu+994JxavKZMTl69OhgpevXX3+thx9+WF26lMklk6+6ri1bttR5552nf//73/ruu+/0888/64EHHqiR2ELefeGFF+rHH3/Ut99+q//973+65557AgXCbi/Hdb3//vtBvm+++SaQUyZsws7n72Pwe4J8nSgNmzQvUO9J44ONilN8zDfjvmrE73jW0Zrw3w/UZfWvk1HrKeM1+51nNEWfasKHz2jKD+9o3vfvaehhqwVQabV4vqZ/v1mdj1qjzIJcld58mRbrXxp63knKbpqv1pPHaf47z2n2Z5s0/L7rNe2j57Tw4xfVec6MIMZiwl1/0bT/fqDxn7ygaR89r3H/fkdzv31HvZftFsSQjb7sbO2uL9Rx3iy1nlmq3T99STPfekzj33hYQ759Q3P0Tw08eKUymhdo5s1/0iJ9pXGbHlTp249pwQ/vafBhB6r9uBFa8MYT6v7Z8yp59zFN/ewl7XT/TWo+oLcGXHKWluifKtl5nlJSUzXwNwdr2x/e08Tv3taEj5/TjJ8/0bavPqL2E0YrJTNdo6+7SDN+/ljjPn1J0z95XqXfv605327WgDXLy4R3FWkf1meAqRtvvDGYSJlE77jjjuCsQKwaBF6//PLLwZmBbE2ARrjNNtto8+bNgdBEkKK94pp6/vnngw1HAUUPPvigjj766EA7R8NFwKJlE9PFqrr7779f++yzT5DnoYce0osvvqiFCxcGE8rdd9+tV155JXBxcUTOk08+GWyLgPAErL366qtBGYcccojGjKkfG1YyuXH24urVqxuUFo3VAusoZ0sCMAHUuCWbNWsWCgzC+K+xfDd2wwFa9teb1G5o5fdWY4wyvh5//PHAajNkyBBhoXFpB7g644wz9Pe//z1QTsaOHbuFxXnHHXfU559/ro8//liffPJJML5Qftyykv0/ShfKHKDnmGOOEW1ggcenn36qJ554IrDAJfudpjxoxTYwpGOPPTZ4N7IOOqBcYiE0eQsLCwO5Qt2g45VXXhnVymie8deqYYFE6dZ24mgd9s3HGnP4uvJ+SvTZBpqvCgRPi6jj2ceq9P/eV5c1eweEzGxZqLEP3qixP72vgqMOUEq7IjXZfrqGvP+05n7xmlqPGqzCuVNU+tVrannhCRp2xe8089u3VXT0mmAVRCQvV2PvuUYjv9+sJkvnKSUjRZk7TNWIb9/Q5IduVnaXDup+5Tka+uO7KjnraKV0aq2CtXtp9PebVXrTpUrLSlf33x24DoZDAAAgAElEQVSnif96W212nF2mnbZrpZTiZmpx4noN/el99bn1EmUUFym7aZ56L9tVbdfsoZSW+Urp3Vndn/+rZr79lHL691CkZ3sNfPEeDXjzEWWNG6wUrH0Feep8yWma9NUbyp83XYUTx2j656+q96sPKG32BKV0LlHRSRs07od3NOmWy5XZtkhd/3ByUN8OFx6vlB7tlbP/bhr21Wsac991Si9pGdANQYtQ4XDlyn5sN8O4ceMEAOrRo0dQLq69wYPLYvAQ3uyMbrsGCCYHLNnAh8060aYNoyNYAVEccwMwI46L423YigFwZwfUT58+XW+++aZwzWFZQxtdsWJFeVmAvcceeyywrFBvhCHPmHcZbd78X1evuDAIXj/ssMNCJ866Wu9E64Ulhgnrd7/7XQA0WS0JX9SX/km0nVXN12PPXTTpgjNV2LdnOe8mWhbj4rnnngsOdI/1DLQ+/fTTAwUFfnPz8jtjh3FIOABxfACfmgBfyBIscuwtZ9cLEPTDDz8E++TZ3yfzHlmFpe33v/99BSC111576fvvvw8s++77cDei6EEjb/mqwlyfLAMBi/RaNFPBtFJlduvo5UkZXavQISHgq2jYIE36+0YNfOwWpTT9dTVg5zOO0gx9qg577qDCbcZryGcvquNnz2vozx+qyw1/UEpq2fvzB/XTsNcfUacPn9boJ27R/Kfv0MSn79TQf7ysOZufVpvSUep6+Zma9MWryi4dEQz8nD5dNe7D5zX6nmuUmpOhnmcdqyn/2qy2O80pFwwlO83VjK/e0LCn71RW9w5l37NycfwIjbnkDO340C2afMdV6vLiPRr5xmPKGzFIaQW5GvX0nRrz2kPK7dSm7JmcbHW99AxN/uJ15c6Zpm4HLNOU/7yndsf+GjyYVlyoPk/eqomvPqicYb3U88ITNeGr11U0a2JZGb26auCrDwVlZ3UtqwsCAUsQ2tlHH32U0Adt9/XXXw+sE0bYYI1CG0QII2iI6zG/sefTtddeW8HFwe9YxFzNmy0WyEsZ/A6gGz58uAB3xGnhfmNiQPCb8rni4gRQ7b777gFAu/nmmzV+/PjyPDzH80zkgEzcknPnzi3/3S6rrt+jVUMDjvmB7nW9vlWtH25JXMRYG7B2NHq3pB13itvE/j+BSQrwhYXm+uuvr6AIuf0DuDrttNMCZQbFJ+x38x3jl7GEZbkmwBduakAWFm5TB64oZW+99VZQF1sps/Ns7T2uWFystmyjTCzSKH7IF3c8Ui9+8+CrCvN8AjxdmT7NaJKt4k7tlde8fq+Cr0yb4+StQqeEgK+mA/po7EfPa9SL9wZWKvPSfpedqWk/f6w2u2ynwm0naMwXryr3+vPU5ZHrNPHzTeq2ssxtmd2zq4a99pB6vf+kWhy4p1rPnqLiedNUvMsctZs+UTnt2qjXNRdo6j9eVt6kMjdV7qBeGvv+Mxpx99W/gq9vsXxtEwiGtpPHaZuPX9LAZ+9Sap9fV+kVTxuvOf94RSM23q9Oq5eo0/o91eXV+zXizcfUZNgApbcu1Ohn/6rRrz6k7PbFZUKmSZa6XnZmAL7y5kxV2+W7a/J/3lXPc48rF0KAwREb71PpS/eqycBu6vn7kzTly9dUMmdakCfSr6eGbLxfI5+8Q5mdy3YiR9ASd0VsFBpcIp9ly5YF8VS4AA2dzRWghMWJgHcmTCxgrDq85pprKrguEGBor0ZYIcQ5Xueuu+7SnDlzgjoBsHA92uALyxpuKWLLzDu5InBxe+62225BQDHga8qUKeV5+vfvH8S74AblTEIAHtYwu4z6dI9Gffzxx+uss86qAGrrUxsSrSu8QQwNsYAAckAnlhdAdKJlNJR8vZbtrikXna3CX2JUK9OuZIEv+53wYU2BLxRF+B3lD5mAlZRFOIA+xvS9994bWLfD5JJd56rew3vvvvtuIJuIHZ03b15g+YMGuHKfeuqpICzCLt+DryrM70kGXaY/COk5/rN3NGHDrwYL81sjvVahc9Ii6nTu8Zqoj9R13T5lAjgvRz3/fK6m6h8aeN0fVTyzVD2PO0hTv9us0lceUk6X9mq5w2zN+M97an/0GmUP668R7z6pbb97Wz0Wl1lpel5yuqb+7yP1PPNoFfbuoU6L5mrBPddpxKplSmmar743XqRpX76qvKllQfN5g3tr/EcvaOQvlq9eZx+vqd+/o9Zzp6tp726a8coj6v/tmyo86SAVjx+hDnNnqlW/XuqwbJGm/e9jdbrqXGV1KFGr7SZrwHtPaeTmJ5UzfKDSC3I1+vHbNeLzTeqwdpk6lo5Sdvs26nTRqZr27dsqmD9T6X27a9Sbj2n856+o05EHqPXcqRp62+Wa9t+P1O/cE5VamKfeV5ylaV+/qTZzZwQ0Sh3QS8NffVijnrmzAvhKBuPhfuCwZVMWgIuYK9wWuApuueWWCuAL9yCuSLPdAPE9f/vb3wIQaMrAcvXMM88EgpZ73I7Ei7FNBLErJkgfAHnQQQcFVjusWQRtE0xsbzUB6KIOXHknZdX31YPEvxCzdsEFFwSuVkO3hnwFQNBvTMJYxIjnwz3dkNtst63P+hWaecfVKho6oNJtru/gCxBOzCNWd2QK56CSTMA7lidCGarDAgfwY7HCpk2bAvAFECPdd999weIhlL2XXnpJrMC0+8uDryrM79UEvrLatla35UvUbPjgSluN7T5tQPdV6JzUiLqfe5zm/fipeq/bt5zZszq3Vd+bL9bY/7yn8fpU4376UMOevUvNZ0wI8rRdskA7/vCBBv32qOD/ZnMmq5SA9k83qsesqcpoU6x+N1ykid9v1qQf3tXEHz/Q+NcfVYed5iqSk62hN16sBV+9roIpY4Pnmw7qpW0+elET77lWqU3SNeDsEzT3+/fUds4Mtd97V03/97vq9sGTGvXhs5r++Wva6YcPNfvy85XTq4v63nKpJny/WdM/2aQJmx5Wr1fu08TXH1XTUUwkkQB0jfrqVY3XZ9rl/RfVunSEup55jLb/7h213GHb4P0ttp+poa88qNKfP9LYnz/S6G/eUN8/na2stq3EasfBfz5P879+Sx3mzQzyZ/TvqcmvPazJz9ylrC7JPYMP9wSCCNcfFhksVgTEEl+Fhspu7QgoJk0EJ1YnBJgBX5xriFvp0UcfDdyXBNojVAmyx1VIQDZWsY4dy5bYs3kn2iYA7v/ZOw/wOKpz789q1bWrVe+9Wd2yZUmWZMu9UWwgdGNjmukGm2oDppjQS2jGEEJCTElouSGNNBJCSHKBkNBCKAESCC2E3C83Xz6Se5P/9/xGPvZ4WUm7klbSyqPn0TOzM2fOec972v+87dx777329dFHHxWGwEx4wXG+8JRkcmahBqyRPx5aeC4R/DNWBxR8Q2rJolRbu8PTNUqT10TjEX2OfgD4xFsST9BoST0mRN1RM8Zbu7wdI2znWAdfbDaYMwBf2F9hF2jAF+Ob+SWa4At1LeAL5yBjeI+0DUcGNnZ4UBubV9NfXPA1jPU9wn5teD3U1RPvVULAJ29ykgu++nk8jMbxeJTQVKuUveYp0YAIY/+QkqSkvefJd+JqJR2yj+KKdrlSxxfnybdkjhLrd6kA42c0K23FImV17vAeSk5U4l5zlXbSkUo8fD9ZJs6WN04J7S3yLZ4lb06m3XhxAZ9SFvQqubNNnoS4fpqWzLWN2ePKCpW4eLbiF3QrgW8Wz1LCsjlKntZsL/Se3Eylr9xfWSevUfyMJnkaKpW6oFdxmcQgsWQlepW6aJb8J65W8l7z5An4lNhYY9PvLdqhirQseStLlHLE/kpZe7jiF/TIStkRayfeq6S2BqUt7lNCQa6dp8efpuQ5XUqeNUOetJRRBxxM7qgcsf0KVukhjSKm04YNG+wFErE9oSYAD85Bw6SKegmPPmx+sKcgNhH/GPCjpjSGq0jVsP1AAma8LflNPDHSUobJG9WAUTnyDHUoKko87FC7mnSxej366KNtABrKRidW6xQu3bQlDhmorVmcAf8E5TXAPtx8YiFdzYq91HfeWcqsroi4z8Y6+GLcEx8OtSPxtfBcxjkDaRNqRzZ/bN6iBcDvuOMOO+wG4Ms4hrDhYW7B1hW7t+BQKS74Gsb6HiXwVTJzui56/Xn1nX5ixGMnFuaGYdA4cRonIuIN2ItGR4lGDJJo5BmNuoeRJ8CKRRZDflQRTMLYl7HzjZaxbUR9I4w6RCM/7Og4jsjpQRqNciZynoBwADihEugjZ555ph3HzQD2iUx7OLR1btmolU//UAU74g+G841JE+vgi3rggIFnYbDJAIDrjTfesG1LAWKmzqN5xc6UmF3BBveoOTH2D+XI4IKvibO+p1WXqWvLeSpcsMsRazT7RwzmNXEaJwaZF5VJZqLzgZAVxAFDDUkoClSTGO9Hw9ZjovMimD7ioaHiddrfBafZU34jEWGxJjQA9kF4woYKnRAz/GAD5UuWleWz4/hFSnc0wBcq/HvuuUdPPPGELX0ejCYklGyWBksz1Duk3H/605/sGH3OtARUxguSOILO5+aecp2hcczzSK6UTYDa22+/faf0ne9xDCIEBX0tOL9IwBcSe6RowXm4v0cBIyAsYfwQ3YD/aApPxmnzPYx+MgqMjZ3KugNrFNuKHS6qRBd07T6GsKkDgOEJNowBOem+QVUNT1BLEpz3iiuusL0lY1FKWtrXo2lrViq9eEcImgjG02iCL6TPhIVB3Y3zC1HwTzvtNB1++OHCsxhQ5ux72EJhw4lqEHMD57tI7gEoSDUJsnrZZZfZzjiAagKdAgCD1X7kzfyAbRYbNUwZIinPmRbwhoSdP8pG9Yl3OJHusT+Fv8703IcLvuij5E1MsGDJWnCe7u/d57tw+VEwo1Xrnv6xOo5f86l2CjePSZZueIycZExwO0MEi4jb9kOPmfb2dtv5gQXS5dcufnHEDk4ZLOAYTRPEFSeMkZw7Opb8nXfFhTr1hZ+rvKc/1mAkZRvwhWp6sO8ATsT5wrB9oCODUOcSG5B/wi+g8nv//fdtEEQsrmDwRZw9jOH5A7ANVv5Q77D/5AgzVIAcf/Q///M/dtBlQF+ob5GAcsIGfwC1UGnCfYYdKX2HeF+ffPKJfbQRAZ+pX6g8iMkHH4eK80XYFJxm+OMaKi/32a5xPBxe+FvqNPue21Vy0HKXv/3r7cgYOpxGcL9xeb4n9AF2+Uz6eATuCfWNtI5IY0wQVzwm8Xo13rSR5jUm6T2WvDkBJZQVyJMSufoO8IWUihh8GIpjHxfs8EI9AE4ADM4mJJ4a0hvn6RSkQVIDkOUfQMI/tpeUwbtgfiA1IkgpsbDYGAS/H85vwtsQfBngM5BKkboArHHiAYAhsRtOWcHfcJA40tRQTkOkxdmDM2Y5sePtt9+2N0JD2R0Sl/Dll18eMTgNptX9vUPN6LB79njiRqUfxDhvJwcQCN7pjVajsHNikmFCi1YZo0Ur+TCZ4xIOrbFA72jWfSLmBZhAwoOkYqjJfyLSPxY0sXDjLYnnK2pJVEp4S07EsyUDLQ0qXDhXSTlZES8egC3sI5EYEXWdfuH0CDa8ZtwSyJaDq5Fq4UGIis28H86VjQC8JTAp34/l3EDZ2IRiDzlW5RKXEFUk59ciISOkTSiga3gJWCN0BseGMX+a5+519PBBftMUHf/Q3Zp+6AEuf2Nd8oURJ67Oy5Yti0pjcv4hLszEozrssMOiUsZggxsDWaQDiMTDnbSIPM2uGVfswfIeyTtoYSEBlIZL10jKi/Vv4RUG59g8hZJKxHr9RpN+JDnY3KB2I7QAakn69GiWMZK8uq+9VEe/+isV9+06AzXc/JivCJNAIGK8BZEahTKAZ0yhqiOYMbzgxImRjmcARbD0LFy6R5KOulA2c9lI8on0W6SAHA5PyB2uAMDBNj8As8kYGiVSvkUzfc70Fh3xxHfVdMyqMe0L0azTCPMePWQ7QkIibhAWMuLOEL9qtMvGcBQDUgxY2Z2OdPIbDn2FhYV26IJIIogjOifYKZHoh1NmuN9g6Hr11VdHtYxwaYmFdDgncCwTtjKuR1V4cw4L5oknnmiDMNSSxIVD3TRu7e3xKLmqRIHOFsUHXK+4cWsH1z51/MbAcHmPAwhejglxsrxx7qY9UskXOxgWEXZrqAXw5jK7BRNwL5SLPd+Qlh2cSc+OCG8n8mJXhJSJ+EDsfM2gpjzjEYWtABHYneJ3kwd5sqsJThsq4jhp2HkecMABtlqDHQ/qDfIy5WJQius0Ui/qQz7sGpFAYb8AsGHXas62o2xAD9IxdqwmH/KmPN7jJs1742pPneEHtATvfqGFOsFjpG4AQGwbnCoKbDvYFaNGQDVqykR9wzEcADfzDKNdUy7PqA9Gz9hDmDTQSjuhAiJQKLTiyWjemyu0UX9UQ5wXSfR7pHO0lUkDWIRmdvnmmXvtt9NB+kU0eKRhLk/CA2H0Lex7sBu66667bNDP2DHjb8z46PEovaRQ+Y1TlOhLc9tvuAux+90e2Xeyait0wOeuUv1ei/fI+oeYp8KbAPkQNRMLLuf2scA/9thj9tEyAACkLfw/9dRTdlwfAygQ+xJ5mKNl+I5AnCY0AQdEM5liD4ARKu85FgdAQnmk4/3WrVttN2m+ffzxx22VhFHfcEwN3juAAlyFOWaC+FPk98wzz+x2dA2HA+NuzTvS4XWEagNDVCf4AsCQ7t1337UD9xFXpqGhwY5hQ72hk4B+2PMQXJCjdHCj5mBpAJs5dBrAhh0B3jiUx9mJ5AvwwQaBe1yweQ9vnY2D5xAH5kID5RGwkiN+oBPgCO95zrfw3ZyjCO3QAaBk0cKGAfoAUoBAjsIB0JE3fII+0gIqAQakpY7wCF6THmBmaAOcYRiN5xReRMQY4hgjQCZtwvFF5A8N2LfgOeQEjSafPfUKLzllgPYcVylOjC6AgFY2cvQz+hZSbzZk9O2x6FPzr7lUp7/8S5XN3rVxGYty3TLCX6dcXk1MXhV2T9fpr/1Knae5Dkg7+mj4DQVAwFCUxZaPWUhQB/CHfQLPmBzxqDE2Uuecc44tBTEDghg/eIDxm6NwMD51uh/zHd+jciAvXKgBBEbthzoQsGFUjQAzDnUmP8AMoAQpHL8BKeSFpIZ/gB1lGloAhu+8886n1GcAHHbalINUh9/8A1QwgDVqQCROgFHseYxNA6AJ0IfkDP5AD8DLSOVQo2BIyy4eOgAz999/vw0oDV1cKQ9+A1qRUPGb5yw0gBsAnElPkMEnn3zSXsyxjyHGFEf23HLLLTY4gpekPeSQQ2wAaCSCgEPaD+Ne6ABkomo1Hmfz58+38wXQmbK4Qgt85FsWPX4D9ADCgFBzvAg8N/xxSsacee2J9/CLjQcG0ID6PZEHo1FnpMx4ktJv2cygCg8VZ2o0yrLz8HiU2TlVZQcsVTJHhsUogHXpDn/Nc3k1Srxi/YqPk5WeIis5oT/gqjt+wmcuiziLvHPBQFXIgs3ibTrqli1bbFss8xvPE8ASIAEpE9IaFm2MaZF6mXTmyqLOQg4IAAAFx4/hWBvKZHHHjsZEVQZ0OEEJ4AJpGSALexHemzLMlXPoKM/8NlfUhAAJI6UDSGFfhiTJpEElCRAKViEhLQJQIVECPFG2+QbgAwh0BjqEZgAp9Jp0XJGMQD+0mOd4hAGqzG+u0IYkBWAHr5A+csjs+vXrd0qtDLiC94Aw2gK6kBYCEFm0UIcRqNHkDWAEPLGomWfmSh2dfMMdHske6mOThitH7SDdA8Q6n7v3lu0swqHkE8mgPBbbhY0PZgDMGUYtiRMOavRRrQ+bDH+qUrIzFIea3WGqMKrluIvS6Laby88JwU9/SaF6TzlBpTNH5rk7icZaZOALVZTTFgi7o0ceeWQ3I2LA17XXXmsv/IAbwACqFhZ2Fn9UWjDw3HPP/ZTUiedI1pAmsWADXrBvcjKcxYo8eY/tEeALaQILGfSYtNiEoP5CjYmkhh2yeWeugMJQzwENgAkjJQK8IPkC0JhvkfYB0ABZ5hlXJG6oNKEb8OIEXwBXeNDa2rrzG8DQ9u3bP+UJR5wapGYGfAGy4As8dZbHPdIr1IbYYAGQkfgZUMp7jLxZmOARh2ajGuWfdiGWEKpBgJjzG2zfUO0cddRRnyqPQI5IG+A7+UMrvEA16qQNkInk0mmr53y/p98DVukjwXzb0/ky3PojIWf8MU7Y2BHiA0m1c3M43Lz5bv6l5+u0Z36i0mEEWWXDyVyBXStzA+OLMR1MD7QyjjGTGCjIavA3o/mb8tn4MieY8T2a+Q+UF9Jx6s2m1kjfg9NiCwvv4CFt7UrULVuQEaofBfNuvH8X9XXq7L/8Xl2bdq2h403TOJcfGfhC0sMAMUTjMo3tkHOXCfgCFGG4TVBBpz0TUhTyYFATYJEYNkxCJj9AAkdgEEICiRIgCxsj854rgAnJEgMRl3Qn+HJKvsjLSL4AjAASJ+2oJ6EllNdeKPCFnYlRcUIHAIpYMkySTvoAMfxjA4VtlZN+eII0z0kHqlYkX0Z1afIC0ABUnYEJAUKAN6fHHFIrpFdI+AA5ACzoJ0+kUwYcXn755bZ0y+Rvrkxi8JK0gDHzHLUqqjFUqOaZuQKknRI4pGTYigGoTRqutDd1cDpSON+795bdf5DK0n4uP8Kfj4biFWpJpMHE02KjgHmDcy4a6vtQ78uXzlfH6ccrvaI04rZivmEzyHE4//u//2uPY2NOYcpinkJS/I9//MM2yeAQazZ9xmzBpIvGlc0qmgzmX2hkMzdaoHUoepnj2NhjkoEpCudEMrcH15v5hYj6xO7CZMQdM5YNktnsB2sdBuM56y922awdwevOYN+N6F1qkqyqIllZfldq3C+NDX+yQ4rx4osv7ibFQKqDQb1zkKCeYyEHkCH1QAqGOgygxtlZgCAan8OZ//KXv9g7fwzG8RgEyN199912x0CtaAy7kVwBWFAt8L2RBqFuQxVIfkjgnFImysfo2wAyVJ7PPfecLfFB+gOAI6IxoCS4UwGonn766Z0qVnZYGOczIZm07DYAkBjZUy7efdQdtSLqSsAXE5kzwjmADfqdkiDADZOycSIw+QN+AFosHKhaqTNACgkWdcUmC/UKtm4sMAwi6KbOfEtavgX80HbsoqENOzmkh0juAKcASlSeSN/OP//8nfVjYUDyyAJmaDJXpGUAZ47PIXgiQJn24xkSNeqH1IHf7hmHQ48x+g7OC0hBDY/d69B8C4dHAAjUkvRtxjDjnUU7YkcQpLwmSncc97s8pMOhgzHCZpQNJXMh49kpucFWknccXM2mBbtTQpNwjiLzijNtOOVFkobxz2YK0EdgUsAP9rljAb6Yl+ALxyOxuaTemJPwx9V59BTaDkAGfOFoI2NbHEldo52WtYi2Bexj3sH8F03nGvoF8zoH2EciAWNNYI0jDlq0eUL+aTmZmrrPMuXX10Y8dsaCvnEoI/wJjp0bQAJQZAgFTDBgjHcjzwEKxgAftR2dAtUKOzhUgAweOgmLPs8YQEhrSAOQMiAEFR2SI/JC6sQ9KkKnjQwd2xiEE97AqRKFJkCR89wvRNqoJAhEiqoHw3doMPUxVwYL4NDsTFEZQDuAx6QxV+gHuEAf+Ro7MSY0wmM4j/NAZI53ppOH0MyiG2qiQ2WCBAv+4F5PmYAqFhL4xY4HVaiZmJnIqLORREIDQNOAUnY6TFx8S57YbiH1on54rWKfZ+pFO7BIOOk37yiPBQIAi+TQqAlwDqCN8AYFEMJv8417HXysIRWlH8FXl1eD82q4/GGTiFoSMINUl42Ccz4ZKt+OTWfosO8/ooKO6RG3EWP/l7/8pb25DC6HBRupM5Ku4PZHffrHP/5xt7EZ/P1IfzPWmSfgDWMYAAbwCTUnjbSs4O9pAyRZZo4y75mfqLdzo2reARg43xENiXk2Ea6sOawn/L3++uv2/IxAgXowZzPPhqKT9g/1nHZBk8TGzKkBCU7LnI6JCOsq/2yEmetJZ/IGbLFeGq0JUmCOXopEYhZcbiS/y/u6dNV/v6/55/c7yEXy7SRNG51JDmaZRufeCc4MI5EiOY22nelJY1R0Bqg4d0DB+Tu/dd6bsph0kVKRp3mGAwFSu0hF16HyJ89g+kw50boORMdA5TnTB++QnO8G+j6S52PNi0hom8hpUTUjnUGtO9BEPZHpjyXaUEsimWCzwDzEJtKoJZEcs3EJrk/l6oPVe8MVymyM3IEE8IUnNBuT4LyRWhM65oUXXtgpbTdlAzA++uij3UwezLvRujrHP5vBP/zhD2MCvpiXke5z7qMzNiH1YlMLKGMTHFxPbHtRT040STFA8l//+pftWGbAD23Nxpm2Xbt2rR2fDpWqWXcQAmCnyztnO6AGBshh2vLaa6/ZNowDzQk4YpGWjTlgHcklmwsjyEAgAhgkWgEbdsArNs1ID1966SXbXhfTh2g6RsVn+JQ5a4aSy4t2q2dw2+5Bv6MHvoZiImEokEINlA5whMG5kSQNlC6c50xulIeKkDLZ+dKpeQZQcHb6cPJz04xfv5nsvGezgc0gavJQm5bJXv+xrh/SHSS+SN1R0yPxwZsax5/dQBKqxhF4zg0GvlBJYmKBCQH3AENMCpBSIIl677337HlroMV3JHQFf4uke6zAFxoGTEEwT6GuaDuoN/M16kekW9gPB28WJyL4QrKExBBgFcxTfgMiATxoM+hfbLDQGKByNeY3RmNBesAnfwgI4BG/6avwxvyjgWDtQjMEAMPxirzpw4B5NhGo15G4IkmE39CAhgZJK4e3Y4bCxgMNEvmGon00niX401TUPlX+4kJ3vY3U5ms0GsCZByq94N2O8z0LD51lNBcgJjViLGFD5lRROst1711gNd59gEmTSZzJFLXweNOzp5SPaQULk/kjHI5T9dZxwtE67K7bVNjSFHGbDAa+2GCaoMXYtmKLgwQFuyt+E+8QSUY0F0fTxmMJvpC0AFioG05C2MNSbwzrDR3YoijXRgEAACAASURBVO0Ggi3L9mqfaJIvbFyRbhmJl+EnVwA1droAIKSrACM8xlEnIunGdhanKUL2AKaI0wgo+vjjj227WePFj9kL+WA2gjkKJifkTb4IEwgxhCkQki7SIVkEzCI5M1of6GSTAe9x/jJxGZ30RuO+tK9LWz76g+acu8upKxrlxFCe7kIbQ40V8YTv1i12+zdqB6Qv7GoBBW5bjk1bIsFAnYW9I9IXY08J/xtPO17LHrhLOW0tEbdHJOALaQh/2FOySZzM4At1GOALpwikf/xhi4utFzZJgK/gDfhElHyh9gNAOYEiXt7Y8L3yyiu2NyebfyRROCLhrYm6FTCGBIx7bIRRXQKikFZhKmPGPRIzbHoBpfQJbJkBTkjLCPPDn3EeQ52OsxQCDqRgxHAkH2jDCQx7a0wccKCjj/OOI+iC+WzKHo1rUn62qg7cWxlNkavsR6P8CZjH2ExoE7DiOzu1S5vbByZqH2DhRwqATZKxfZyotE56uoKNpY3nY5iqyMHAF9ILFlzCTHDP4goAJAwPakeOGcNcIlj9Fg2eG4nTWBjcAzqM2hEpDQADGzcABZKwWFI74hiGNz82fYxXPMmxscLUBZUg9aO96Aek+/DDD3cLU4QNNN6mvMNgHq9/JFRIu5By4cXuPKPXtD2ACqkXEkQ0RTxHxYn0FIBGv8GRhzAigEO83wGAzC1I3XgGzfxH7AEcZt/HM9iblCB/Yb6S0n2ut+N4qx1N5xnvKxMaO4poov7xruNole/axo09UKV/Eu4DQ9poGsSOVh+ZzPk0HryfFl92gbLrqiLevA0GvlAnoiZC+oGtq5OH2PoQfgIVqPN5tO7HEnwBSLD3AoAFm6DgvQ4YCfb+pN4TUfIFXYBmNktIoIg/ifoPI3hnWwF6AEKAaudzjOMxhDcACjtEpF94SgK8CEfjTG/umR8AWybCAM+ZJwBsqCABtIQwAdQRI9NJDyAXOpG2IZUzeUbjWjirQ2e884o6zzw1quVEg/Yo5Tn2i0m4FWHnQ4yuaC/42NUglh0Lewrsd9DvD+Y2HC5/xiodg5u4XsHBZEOVj5idnStXJhEWDrPjC5V+sGdIABDDmzAWJi2/6RfO4LzmXThX+pPzP5xvJkKa1atX2ztYJtSJQM+eSMOMC87UYT/+tgo72yNug8HAF/0RWxyCm9LOhrc8J4QAC3DwKQi8Ix2Ltrk3343kitH7W2+9ZUtrhsrHeNMNlW6w9zg6EFw12HMRyQ/1DhUKJBLwxbzutNsbjJaJ9g5wBJCKRDAQqi/Ag7FY3wbjX2pViVouOF0587p3xcsLV3I2OdNNXPCFJyK7omh6+DCIEdmOldEhoAQxL27Fg3XUifSOiQt7hlDHGgXTib0MruPsABGXY4tg3PeD0w71G4DKji8Y9PEbKQE2C0PlEeo93q3ENyPeWqj3E/kZcZgwrjVBhicyrZOONsBOgrf/YOB4b8Sqk8HAF7xiU4GKCnUUUh9URnj6DRZklbhNqCtDRYOPhP9IY1B10b+QggACUZuxySG+oYl36MyTsrHRYl4YycJugqyiWqU85hDy5I/4VaHC1oQLvgAuqHJZR1yp8fit9QBC/r3xHnm9nqiu6c4+OsHvh9cgDDZQuamcE22be3MljfMeMOUUffKeHZQJ/mbyJOgfhpj8Rq/tlKA48wv1ffB7BjASHJM3V/TbAAWkK87n3FM3p5eZMz/eOScb5zvzbagJg3dMYkSzZ5LhN3VyGmjyzPlPWeHuesjLSQsT6kBtRBm8G2znSnsYHmCz4Ix+z/fk72wTnrFrJl4MCwdicwLPBnv/kC/fOutp7k3f4IoHGLzCENe858pvbBhYzGhT+pKz3s60oZ7Tdni0EbzQ9ItQ6Zz5TKR7pJDwmOtEomvS0+LxqHhBn1rWHilf6a5A0+HW24Av4iwN9A0eadjkcPwQ/3j00VeD50vzPXMXUiOMtwEt5nmkV/InrA/xxJA2vfnmm3a4CdSdwaeamLwJispRP6izRgpsUI0RAgFPR+r917/+1QaUA9WbGFnYgwVLywxt5gpPjBG/mXPNO/e6+1oTbX4UdkzV2b/8qbpPdINI7+B1+A2AsR+icTwliNqL1wQBCs0CzBFBvHM2Ih0ezwuecYwOdgu41+Liatxuec65Xkg58O4x+SGdYJGlTOLfMDgBY+yUTBl4hOEZw3smLaLpo67iPQOab9HBEysl2HYA/TrlMima/PAqo07slniHt5nZ9SFpQQUAHbwnTooBTuwCqRsGktSNf1x8yde5sJMX9WdnRywn+MjREMEu7YAXdPbs2MgLHoYCdOwAkRByzBJSJlyQUUuxW4UnSNnwFnJ6y6Hbh/e8pw1RuzonOWwvkHRBF/RhCEq7mLaFDtoMuqAP9YA5qxJ7lYHAF2l4xzeAXkJ+OEEYxxTxjnYEtFEevAq2jUAdTZl4AhFhHxr5jv4Hv+kT8MucfMAzgDbPUGFgP4UhLPYU9C9cvk07mn4w0a8AUHiJpGKi0zqZ6Jt+5UU65PlfKH9WV8R8Z56hz9H3mcOQggdvCOEVYwKpL/13qBiHjGsMpekLzjEeKc/Z7DA3oQFgnmcOxcGD31xDbQCpD3MOx50x5iItMzg9Y5A5G8l2qHozjxKCBd4xljkNYKgI9/CXTSOBRM0cFVyu+zt8DDASXmU01mjZnTepar+9I5Yaj6TcCfxt+IzHhgePCkASkz/nNbJbwmOCCgKWGIzOyhKnhgWOZwAndmi4cLNTYtEnyBvvsWdgcDAxIZEgPTsrgs8xuDE2RKqCBw5lIE1hYCGW5nveMWnglg84AkyQ55///Gd7cgKMBKu/WHQBJoZeJh/yhk52TLjgsqgDbph8AGXEXqFsjFJZ9Kkz32NgyS6QhR1wgwEkwe6CbbsAlkyUuFAzgXD8EkfwAJJQMZAXz+ADwJEJjpgv8BnDSEOruRIslt0qQfIAPhhUMtFAG+ASIMZOm6N++IaJi8PEUVOwy0Z9BT3UGSkXfAPwADKZCFEfwlN2wEgiyQO6AV7wB/oIFkjcGsApPCY/I/kCHJGGsgBzAFYmdgAUUi3irZEn7UOUZ+pBPkSEJuYPEcHpZ6a+XKGL3Tb9EOkP/CIfjEoBYEzi1MepVmQRgS6O0iB/gC1AmTrAt1CLoLPMiXjPeKHvO22EJiKdk4YmvBuzA7JKCmQlJ+3WJ8OpI/2esfe3v/3NjrvEvDlS7zLAB/NjtI2lQ9UPe07mibEsmzmI0BQffPCBLfHDcD0UbeYZ8x9zkNkIm+eT8Wo2+axPtAmAesLUM+j4JI9nAtEWpG0aQ56FD77YjeC+6jSAZPFmN8eijQgcyYuTeHYd5gghFjzsCcx7dlSIt5F4mGdLly61pUrs/pCMEO8mWCpB/BIGIYsogQmR/rC4s0gDVFi0kUSh9mLBN5IwU4a5okozgIdnnFuJ1MXZaSmbHSodG3UVOy8kMYAL7LaoEws30iEDcEz+SOGc9eU5RuLYUpDepOMKSEOaBuhDkge44R7wQ90AOIjPgwEkEilAhMkLAAX4dB7mDb3YSAGeiZqOlMyk58pgNWCNNgSAOtWR5AkYRBIFLwGV3ANaoI8JDnoBoLQJ4M2AL4AftizwgXtAMt9wpZ7Eu+E9vAKYOenCBgVA5uxvvKeNkdoF24IBTgFd1AcHCudZcQBzFikzCSPRRCLqLC8W75lk8YIEfDr7bSzWZcLT7LGU11KvmsVzlZqdFXHfYQPHpgNpJcAFyVbw3BYpDwZT4UeaVyTpmQ8pO5RELJJ8Ik1Lf2ejhtqRjRYbu8HyYM42phODpYvVd7QBfDBrHBtR1j82106twkSoX/7UJh337Yc0bdUhg7bZRKB1jGgIH3yxYAJmnJIIdt88A6AceeSR9i7DSTieLCysPAOoGEkHv1kkWbQBSeYbpEAs/nQqJCzBgIZ0qOguueQSWxqGVw6LPbsbVFUs8FyReiEVAXQMNMGx+AJeTNks2KjbzG+zk+A3CxvAhLoisTERhVnsjWjbSOzM9yZCufnNFdUA3wfv2JjEoB01LdI47CyQaqBSoD58A8giArIzPySLTgCJ+B9+OPMH7CD1AeCx20ai5syDe+xKUOMBzpw84B18ADwBbpj8iOIMGIMH0AbvAcRIYJBoOsEX5dJvqBOTgqkT3wBCr732Wrs/QRegykkXEwn5B9t80V/ge7CaBeBOnkglkdaxwJn8UKUCUgzQh2/BANikjbUrfYINDoDYBWDhz2fDaec5131WJ7/6K5X27R4mYDh5ud9Et63Gir/Mj8zfAD0z/pxrRzTpYD7G4YK1iTKZB9hcGzAWzbIjzTtnerNWfv8/1LRm17wcaR6TLH34AwBJB3ZQTt05KiAACQshxo+on5wMAoAYtSQLJhIc8x5VEBIMAJd5hrQD6RMgAskX5Zl35soCjnoNEIiqCVUaAAivPGenZ3cEPQPZIyCyB9yY3RtAEbBgyjFX8gbAIHlClcdvBhl2T9geYQOFhI8F3XzDlboDEp3PkJwBEJx84D1AA+kTAIR8jDqUvEPZepk8SYsq1vzGiB4Q57SFoI2QSCJBw9YMVaVJz5W2AzyxowTwcu/kIzso+ALoRfKGnRhSJ9LAczPhkBdAi7RG8sU9ElNUzPzDu+A6ITUlHe3tpAupKmUFx7fhOe0KyHKmpz0AhEjSsKdD9WveI/mCL6avAbpRJ5v3sX5l8wPgRKLnlFrGer0mFP14bFWXK35GqzwZu5yNJhSN46dCmTRjabD2ZM5jI4egAUk/8w1zEdoANpdsFoNtVAfLb6TvjCYCExrmYea5keYZle+D1I4EXY1KObHV/8MHXyyooGznogdYQO2ICpGGpwOyiLKg8g41pfEyoWOyOzdMRw1GegCNeYb0AlUUIILFFO8XAAwdHuBCJ8Mdm0UeUIA0DekY7wFRgDckHNCCigm7oIHAF2CEMBNGrYXUhroA7CiLPJDMIPGh7oZWOjlgCdAJeOM3NAaDGgAUNmmmblzhC3Zk2LpRb2zAUNUxiJFsAU7gL3Wk/kgA+YZ6o6YzQNHkSfRic3QEz8gPcOe0A6J+TBCUA3DGjgq1pKkjdCNZoxz4iOQRKR4iff6REGKnAlihrhdeeKGdBp5ADyAYaRnSRvhCXqgiAWiUS57YVtGugELag7LJl7yoM7ZeAG3ajzqQNyCcM8mC7eYAY/APkEgbkh4pJ21J/kyQ9DPKIx/AJaAToG92hPCSzQBtzP9A0lHD51i4MmaQggL64Uks0BxTNHo8SisrVlZroxL8Izcwj6m6x9aiFtW+j93oJ598YocEYd5jI40dM3MX4XWYY9iUMq+ZNuZ+oDmGeZN1z2yazMaXDRXPmbdNPlyZz9EuoNVhHmfeJDQJ79joAv6MypG8uDd5koZyBtrQs7mmTqwpaE844sn5rZOOSO9z6qt12G03qGlFvyNapN9PwvThgy8aBrCDBMwwgsUPo0uzqNFZsNMBmLAbMBIeOh+SD9NJ+J5FGRGpU7KBVAM1JXp6jK6R7ABKMFQ18VqwmzDlkwcgh/IwSqcjAlQojwUfcGI6tfnGXOlULFYY0ptn0EI5GMBTJp0c2yves9sBzCF5Q4rCd0jL6NwYdxuDdJMXNkzGIN88w+YL6QTlonoDEEAzUgvjVUlaBjJ0oJblH6DBwA4eCBysikTK5A/f4LOxbeI57YV0DDUvvwEq1MPUkzZwehch5QPAUX+AGO0B8CI4LN/DT+oA2IHnSKfYBWI8jAqMupEfQI9yTd9AEol0D1BFvSkDuxfqxGTAREKfwWYNgEo9AIHQY+rHFWAHqOUdvCE93zljpwE+KBvwD38pk4nE5ANPKAObQvoXmwfzLpavtD/AksnT8D2W6zPRaF943WXa8PpzKp/tqh0nWtuMFT2sOS+//LJttsC8xaaHjStzCBtF5kHmfkw4oIk5ETMNNnvB9meANuKb/fOf/7TnK1SXfMOGkDmNsB+c62mi1zOn4mzEph/BADbPOJUZkw0k+syxADfyoTzmAiMAAZgxb7NuBPMLcw6cGZibsY9lTWXuHG4w6+D8c3qm68jfPKXmdbET4zK4DqP8O3zwhdSDzhGM6J26bohDqoH0xiz2PGOBBfk7UbjJz4nCzQ6Bdwa98z0gj45nOmcwE5BaUabTDoh8SR8MWJzfQiOdDS9FyuQd0hzKQroW/C2DgkWcAUhao3bjG/5Neq78dtaX9JTBc+4ZtKgEncCH5+YfkAPwAPw5eWHeUwbPg8ulzk4VLDwlL2e78Zs6OoG0yZcr3yPRgu/mubMcnsE7eI762KRxlmX4b/hKGqRe1AmJlPO5+R7AAE8MGCIPZ/8gHb9NXaCB9M52N3lxZddIeaH6DRMTdaSsULQ484mle+qCtBZQjUo+lmif6LT621tVsO9SJeW5B51P9LaKFn2YLhAIF9CE2QvaEjaqSKIAWGzg2dABuJgzGYdoDvBCZ94zdAHYOFYJkIa9LVoCA3TIh3A4zNFoVdBWMMfhJMZm1+Tx0EMP6f333985zjG3AJihMSEN8zwbULQMrFlob4ihxsaX9cfkg6kGgBKgZuZWAOTHH3+8E9iZtMO6omb0emTF9189E8kT07HmDqtuw/9+12I/xgXvbPjxLpfdClKT4F3JeNPllu/2zeH2AYA5Nm9Iqo3kdrh5ud/t6Icey7b18hTkDivUBKCYBQ8JN/9IZ0OBfjYXbAqQCrMojiX/WXjpL8Flm01ltGmBH2zm2MCHKgswAQiBf0iYQm1KQ303ms/YcBLqAvU+2ggcgtAKIQAAeFEHpFKALoAVgAdtDVoCpP/Qwm9jCsGGHr7zPZojJPtInNAEkBYABnDjnEhMOowtK9oIwhvxzmxWAVXG1AXeAPDQDgCkkGYB6pCiYZJhNs2UieYCOklPmahCMfkggK/TcWkkfMwoLdKy009WTU+XG+erH7C5C5zpUKEmQvPOvbr9JBb7AGoNVOdO1X4s1mOi0Nxz5SU6+qWnVNS7u2duOPQBGpBKIE3gwGgWyuA4X4AuFksCiBLjECkFC7mRZIRTznDTsOhjiuAsm0V5IJvZ4ZYT6js2vthSYUKAGg3Veah0AI6///3vNl+IlWjATKi00XpGmwF4sFc1ZaANwUQDeymkXVxR4WGbasALkjFMOBiTmDsgkQIMkQfgFnMZ0lB3zEKM3SZtgGMXQA8JGGUBwPA6xywHyRsCBPJAVYg3OyYimFoArGhTpGg4jKFlQSXJb8AdEjHsuKHHgDoiEhACCsBGH8XExNRzJNfiWZ3a9O5r6jlrl9PdSPKbBN+6i+okaMRRGRwuHybnWCC8Bg4dwXHR3PaOsL09lrIW9an85KOVXBa5VxkqdRY5/nGmQbrAQm3aAdsgTuIgoDELI+otnGH4Q8qCKYBJO9pX1Peo0FBhoQWgbAAER/1gO+mkc7TLBjQQIgFACmDhzxkCyFkeZhB41cMXpD4G2DjTRPueTTpmKvAKoIyNFSo7QIoByagdoQ91oqEHByuClPMdDkZIzFA7YvaCHRbhhegT9I3nn3/ejl+JtAqQhTSSNsLeC4kUtmDUHUBPuwHikHTh1Pbee+/ZdmLYIeMwBbiiTPKGFviNWQKqU8qhrVE3QgO0UIYJVUS7BIdQMvWJ6IraMTlRnpJ8WQGf3CCr9twT4QQ0fP3mzk4YUaO55bl8c/vAiPsAEy8ADCcWd/wNc84jwn1ivKyUJFneyCN0sxAipUCKEaoNMIJG6hQccgXVMSeD4EAU6rvReIZECbskQIHJD1UYUlNUbNhVmuejfQU04J1MsGxUbNhSATaDywE0mGcEFg3nbEeTPhpX6KUtAYpILJ1lMN5473zGPdJFp90XwcBxvAK4GRUzIB1nLlSPgDjj7Uj9CRyN8xVOUyZvVMRssHiPwxrxC/E6N++RtDljafKctsX4HkDHb8om1iPOUkYdyXNAndOhy+Q5nGtqTpZaVyxTfkOtPO6cDt+HORG53+3s3JOFhwzegdyhJ0sd9+R6GBd1Zwy4PZkfw6n7rPPP0tofP6qSzsjBCOALtRGqx+Bxxm8MrpF+4OjjpA0PcVRxoYIjO9MN9x5pDdIbyg520GCx53BvJCXDzX+o75ygCvUZEplQ4MuZD8AG8GW8+JzvxvveWZ/h0oLdn7G/Gm4efBcJLcHSTQz0kcSOlmq3ZO5Mbf7LO5q1aZd3/kjqNgm+HVvwRWcYqkOAytkBsQMITovoHYNHJrLgd5OgMSKe4OAVOyl2LoPxY7B3hm+I0xHpswuLporDlOdex3bswW8WduLgOcNyuO0QZjt4LFWsPECd11yoQF3kXqSDgS/mOmxysM/hHskF0g3srTDORpWEGjAadqlIVlBNoXICiBE1nbIxbkdVjYqLssein2DPFOvgayz4NNpl0OewMyP8DpI01I7m92g5osVl+JTWNU0Jpf2RAka7DjGYX5gTzyhIuhDNold2xukKxTAGPbtAE1fKmQYvGDrFWO94EOfut99+EU9AgBi+Y1Jx1mO07hkYeNUMJhomPhmiaib/ocpF5IxXjonPNlR69/3YjZ/R4jXBjVFrYFAbHMZjtMqYlPmg9oqzdvx7IvbYGgx8YQhNzCbUfKim8DzDZohYd2xEifUEaA6WmI0GnymPslGhsZEjTiNlY1DOQoyNEYGsowH8gul3wdf4zCeoflmn8IJkjcYZAOcAEy8suJ2G8zvRn6ri9lb5i4Zeh4aTfwx+M3qNPZR0hYZEhI5r7WBpAV+AhVDGlIAvdofGIHA0GD4YLSZ/7DDMMUnmWbhXjBadthThlBdu3gZ8hQqaZ/JgQsW2IFyvJcAxnjvOGF8mL/c6euNlPHnJTpfAvhyLFY0FfTzrFs2yO049Xod95S4VTt3dxiecMgcDX0ifDAACbGGIzR+ejvzGUBv7m1Dx6sIpe7A0gC8MxgkezVyBBI4/POmQfLnga3KM+cH6gPMd6/RoSbuc+RbP6dIF/+eP6t20YUghgPO7SXwfeccynjCAEdyDiXFijujBsM8ZVwjJDy6y7LZRkbGzMR4hMBW0jVEhkejJl2fonvHaQAVmGE864pwQJ4fgdej8MUANjn6OxxBGxaEmKUTpeHVQHnRDEypMUwaqO+KysMsDzJhYMxhPYqfBkT9IhJDIARDZCSKBgw+4AwcbXdKBkTqhN2dHi+cLvDDlQT+2DUiuUAMFgyP4SCwYThCAnlCSK74hwj9uyvAHiQaLqvFsoSwWWvhkQB+2BLgTky8B/KCbf2PwCe8AjNG08zA8cK+Rj7/R4hn9AGNhjGydY3K08p+M+bSedJSW33Ob8lp2BR8Ot56DgS/sawA9qP5Ih+0T8wxBN5G6Y4TOHMkcGm554aZD6kbZhHlgPmFOpGz6B5IvjP1RO5r5I9x8h5POlXyN33wwnPaK5BtvQY4CBy9XYsuUiKXGkZQTQ2kja2wWbWKcsDADGAAV7JrMQdDEBSEKr2EAsUpQEzKYjVssEwvvSYeIk3xQm+Eyy8HOgBo8QDD0A+Qw8NFFE6sIQEP8EsATgANXX9KQH98BZnDPDbZZArwgygc8Ec8EETs7OsAY37L7Q6KGxweACUAEyAPMAZIAg4jjAVAYLLNYcZwQhqpItXDHRVXqBJ7QyhmLgDZ2lbgnG3d/TqGHno0bN+qYY46xVX1EKzZHDAGkmBBZGHkPUCKyMfYYhrdckVrgdo17MPWGl5xNSZnwkjRIEOEfKiakjgBJjkeCD3g5ERsGXjiPJOJbdtrBRpjOst37yMbOROQXiy3qJfoQ43Mi0jhhaHJ421l4Pjp/h2GWMRj4YsPDGMX1P3iMM98QfiJaBvdsaAF9hDRgI+3kN/M2hu2DSdad6Ud6b8AXEr/B8mLzjSOAc4M+WHr33fjPVXFJiUotLlBCuj/isTNJ2y/8RgE0AbScNluAKxZ6o5IDjBG4zTCLgU3gONxdARYMciL5sqNCr+w8WocdF6ADQIF7Ne7HAAokOcbzg50ggAtghmQKAMM3lEeUX9xznQd185x4KqRjYBu6AE+APYAd+m4kRk7QSDrKNpMAkxBHN5jvoREQA23mGZKjUAsYC5vzTEsAGnQ63f7Jj8kX3sFTgGDwuZDsfJHaOYEl4AgpFTwxR1NAD0AKiRsG1kQ0vu+++2zgihsywNNp64NUkd2tk2+odZ1g0NTRvYY/XmKFV/QnADt9C3AeK3SPB521Kw/SnKs/q8wpu1z5w6VjMPCFVIk2INwDc40zTyTxGL07pdm8N5KoUFJ+5/fh3KN+Bsw45ym+YxNKqImBgvSORtlO+gCexKQaKrZUJOCLOdI53znLc+/Hbj4r652hLe++pjlnrtutf+/BbRA+8wnahgQomFlIb5DM8JyFHdBk0gBykIahngN8YUuEOzMSFyQrJp3zymJATCKMPlG7Od8Z8IUNE8/ZtZOWeyRQAKLggYa0Cxqc+XCPFIsAggAmgAqSq61bt9pAkoUIiR1Gh6RFomQApsmHOClI4QBNSMwAlbwzkyL3gCrycsbuYXIFLAXr1QmuhwQRKRyA1RlvhbwAmXxnpGM8Iw9oRCLJb/OPFBB6aTNAHmAWXT4SRRPJ2KQlYjNAc8WKFTu/Z3IDfIUCk+Y797qL37HOC9RZSGZZbJ0xgmK9XqNN//TzNuigH31d+R1tO8dKuGUMBr7IA6kTG1JUjGx+2JhiFkCgUzaJoaTQaADYWGL2YCKih0uPMx0bR6RueFUy9ukDzK2UzeYxVNnMF4TOgEbmOWd+kdyTNxoBNoFoQDjShvkPOpi7nPOdyTdc8EU9mKOxIXZu9E0+7nXs5rCU8iI1nnWqcmZFfjrEJG2n8JmPqgxVXDAjGHx44vAcCYsTfLEzQjWH6JxF3oAvBhlALTgvfjOQAQOAFsCG07PRgK8DDjjA/hbAgzoOCQ/SK6dhu8kbtd1jjz22m8SIdwA7bF4AJRyMCijByBz7NaRwgERjhwW4MUDM5MsVqRmSJdSDbhTEBQAAIABJREFUnEJv7NZMGurPdwAr84z6INlCKmiecaUMwBd1od4muJ5Jw0QLL50SLlSu5B9snwVd8BegB32oPeE/kkl22CZPrqhWAZ6kM8/hBYBttHe2Jn/3Gv64G0teEdeJfmNMA8ay7AlfFp6O8ZasBDwedwX8DJduA75Q+Q/0DbaZaAf+9a9/2UbvHC+ExNvYnwZ/h1kDkeGRjDlNHoLThfObeQ8TBGfZgL6BNmDMaf/+979tbYjZeIZTTnAa5iU2eqhWAX9I4anPRx99ZJu4GHti53fMVeGoHdnIok7lD+2LMw/3fgznIFT08XGy/Kn9ke4jVNlP0rYKvwHYOdCRAWGGGfX19XrllVd2AhMM1gFoSF5Ig6oPLx4iJKMWBATxDQMKjx5n1GZUiRyrAfhCgoWBPO85csIABiRpwd6OgD/UeACLUBMFEiQmNPIwKjtUbIjTkVhBK4eRAt5MvbiiujMqViRXRsLGO2hkV+YESOywgs/BYleHBMoJjjD0x7jVKa1i54n0DQkbgIqdH1I5Qw+AC6kVgNHwlneALEAqcXqcEyA2W7gNA6wAbUgsSQvwY4LFiJfvAYCUw8S3YMEC+xnpmPANzw0N7jX8sRLLvGJjA0BAXR/L9YgG7bVLFmj2uhOVWd4fGTySMgBfRLhno8N4B3SEMqBnw8P45Fy+oTyOkQoBXJgbyD8SekKlNWUz9+H5GCqNecamlXkVsM68bJ5HemU+w+EAKRUbXnjDHMlv7o3UDY0C5ifM52yoUdEOFTAY/rImmTUoUtrc9KM35xV1TdM5v31G3aeuHXZfmWTtERlzGZTYfQFUEEcjzgVQcQ9jmABQ1/GcZ9hVGUkY4I13xkMRmyaMykmHuo+JCUkNg9EZaoIdHeJ4gAeee0iFnKEmkBRx2OpgYAF3bQAP+SJVA9wxaZgzxACGgCsmRsAIUh9AHqpF6gVg5DcADxE/ExNxkgBM5EF6JsBQom2kCYjnqSNGs0wi2LxhwI/EELsyHA9wFjDgkB0bz8iT50i8KCNYBA9QA0Ai/ePEe0ATqiOAl7HhYsdHPoAqeAvog25UxUzc2JTwrYlkjNSPurrSj8jGxmSaGOg7SLFNH5pMdRtJXeZcvlknPfuESns6Il5AABiMedRqbCjZlAHARkIPmykTImIk+QznW4APpiNDAcTh5D3QNzg5EXaDQKyYpQwlzcKLm7mNDehAebrPx2aeS6+vUt8t16h0n11HI+3hvI+c8ew8GASAKnYn3LPgG0YCCBCHY8RpJEe8Q1oEiHHaOgEyAE3kYaRIAATydQINJikkM1wBOE4xPL9RG5KXocF5ZffDP8AGMEU4DHZ4gD4DvkjPDotByqnyqC9N+caGC5pQl+I9SB35Bsmc8VgcaCLle0JMkA6jWerHtxg3I6HCyN7JJ0M70i7DR87uCrVLxr6N87nYeQIwKQPbHSReJh/DM8o14I6FABUpBq78A0yhgZ0loJS2M9+718jHyGTgGX2bDQn2NZOhPiOuQ5xHHn+qPNnpspIiP+Sa+Y/xD2BiQ8acwLOR0MV4HQ/TACOFMvPgSOoQybdstOmP2IchCGAzPtj3rDUjsYUbLG/3XQTzImpG20MYL+HIPYUnKa8jYKDDoNvJDKIwI0lyPhuLewYWwAMVidPrMLhs0iERQvyMmg07LtSbqOqcHpDB3431byY0A8yiVXZXV5fNL4AsEydifSQcgGcWAiSKAFInQI4WLW6+Ix970eYhgB4wTviVaJcVC/kXd0xX8/7L5SsYuYovFurr0jjxx2istFF+W6OO//43NP3Iw925pB9LjbxzYQOG9+JYdwKkQag8AQ5OSVgwHYAabCgAaagsMfrH+xHVX3Dasf6NJArROPZtSOQAR0ilokUHgAvJGPZp8AKJF2DLSO2QoIWSsEWLHjffkY+/aPMQySgqavpNtDcH0a7LSPNfePUWbfjNMyqf1W8zOdL83O8nfv9322h02ihrWqP2f/QB1a12HR929KnRYexYd1AAFUAi0rhEuHM7DdPHmu7g8gA6SBdQu2L7hX0X4SGcasPgb0bjN6oKRPjRBHqjQaebx8QYn4wz4smxyQoO5bLHtJHHo5T8XAVqKhSf1m92sMfUfQCth1v/iTE+J3w7oHbEWxiVY5wlzw7TmwlPd3T7vdt5xrMDIPnCoQAbBhwK8HJERYpdSHC06fGk0y3bHSd4t2EnSQBME4Jlj+oXHo8CVRUqnDFNSYGAG6U7ugtT1KT/e1SfnUBtlFtfo1V3bFXzir3dtu1vF3dRGc/BCPjCUYAggwRRJco+0i8CwKLOReUznvS5Zbvjw9kHAF2AL/roYKp+5zeT6b7vust04qu/Usnsfi/oyVQ3ty7uWI9mHyjobNO6F3+ujpOPddc0F3yN/2Az4AsDeGy+8ODhvDLi2BAbDENnJGOuHdb4t1U0J6ZYyhvHjE2bNtmhUwjREku0j4hWj0f+5gblL5qjxJysPafeE0h6MqL2c+sxfn0WtaPXIys5XlaCd7dTYPbgNnUXtfFsfAO+Fi5caId+wP2c0BnEEcP2CwBGtHlib+2xtjbupDl+k+YAvMfwnnhxxKoyIWLGcxyNSdnYfAXSlZGfq/ikxAnXJmPCgwH6g1u2u44O1Qcyqsq05OLzVL2gzx07/ePI7TRDdZpovg8GX3g9Et0ZhwIM4jnCAwBGhH1ilJloz9Gkyc3bHRPh9gE2CAQtxmM33G9iOd38yy/U6b/+mcp63fPpYrkdXdrHfo4r6m3X2b9/UTM3nLRHzBVh9LGxb4QwiNpjGseAL9SOBD0FfDklCQR2JSAjAIzYZARpHOvAhm57uWNksD5AlHFOfjCnQQyWNtbfFcybpfpjVymtdA9St7rSrj1mPYrq+Ez0ysryyUp1pcY7+OwuLFHtcENMXEOBL2jDzZ+ozqh5AGCAtD3S22wIXo5nO+7pZRNzj2C9qM0nLS88Hnm8cYrjgGDXVX7ytrM7z0SlbX0Feeo68nAVTwt9Es2knTcG7k8u+BrPRg8GX9h+oXaEJozsOY+RNETyX7FihQ2+OJIISRlHi4wn7W7Z7thx9gEO4iYaPv3U+Xwy3fdtPlsn/ORRlXRNn7R1nEzt5dZl4sxRRXO6dM7Hb2rmxtPdsdMPyCZO4+yJA8UJvoi4j7cj51/CC47+4bgfzlkkOv+zzz6r3/72t/ah2du2bbNjgRF7CfuwPZF3bp0n3tidPn26fdDzypUrJ2WfrDpwuXov3qjM2qpJWT93TE28MTVZ2iTOn6KkxnJ58wLyxLlrljVZGjZW6wH4wliZOF/77LOPNm/erPXr19u/CbSKqhGjZg4xJwYYoScIyEp6vsvNzd3jj3yJ1bafrHRzggRHfqEin1QbA6JzGxWC8948c6+7+OPywuVFUB9IyQyoYV6fcqr6Hcp2jqWgdHvQc8eEsucyYdwGCuEjiOOF0fIFF1xgnznJ2ZOf//zndeGFF+qkk06y1TgY2iMZy893D/TdgwbnuPXLkfIYqS3HEeEoMplCpExff7IOfPhe5U/bM7w7R9oP3O/d9dX0gbI5Xbrsv97V3E1nxOy8ZuoySle3c4wSI4fVoczZjqeeeqquvPJKoU68//777cOuUTni6UiYib333lvLly+3JV4cfj2eNLtlu2MmnD6ASpyjslCbE5g1nG8meprKE45S7xe3KqOlcVLUZ6Lz26Vv8sw1iTkZKlk6R/7aSlsi7nGFPZOncWNxoKJ2bGxstG29AFeoGg844AD7N55jqCIJsso7jOw5gsg989Hts7HS1zMzM+1NxeWXX6709PTYBizDsK1kfDvrTZgYZ6gY3uFUE6o9B3oeKq37zJ0TJnQf8HjkTUlSoLxESRmByWWOMHwQ6Xba8ey02MQwGTMJc1ZeTk6OHUaC8x4BXoSYOPfcc3X22WfbwOzwww+3Q004J/DxpN8t2x0/Q/WBtLQ0W4V+ww03CGnYUOkn8vvWww/W8s9drtyG2iHrgYR669attqMMjjRVVVV66KGH9Nhjj9lONb29vfr1r39tOyg4zQmQEp533nl6/PHHbfvOSWU3N/yFakh+T+R+49JmqaivU2e99zt1nL3Obcv+ceAuHhNxYBQWFtp2YFdddZW+973v2RMxKkmM8bH/YkGbiHS7NLnjKVQfQAJ05pln2nZgJSUlMdt3W88+TSu+87By2qcOWQc2Uz/96U/FH44yOMi8+eab+uSTT+yAtGyu+HvmmWdUVla2Mz9AGzaf/OHlPJls5kL1DffZnjFnJBfmqvnko5Xb076zr+/hbb9nNHysNTKLFV5jqB5RQ+K6D+jCu9E9ZNvts7HWn6GX8yBPPPFEfelLX9KUKVNibwJG7ZicKCspfkjajbQKE4Gurq6dqkbObJ02bZoNqJBwdXZ27jzRwnwDr3p6evTcc8/ZXs7O57HY7i7N7nxFH/CmJSs5dYftp+stzBzidgyXB24fcPvA2PUBpEDbt2/X1KlDS48mWrskZwY0f9MG9aw7QQlpqUOCsOHQn5KSoksvvdS2lQsEAlEpYzh0ud+M3RiZdLz2eLT01ut12q+fVKC20u3TrtrRHUyTbpC7m4mYmNj2339/W6U2e/bsmKDXjJOk/Bwtf+Re7Xff55UYiNzrOFwPLyTcpsxoXMOlIxplh5tnrNM4UegPl47B0nmsQYKiDuWIwpFccR7VrTxQMzafKW/AF9W+HW7/mgDpxg+AfLqxB2ngCBbVYDF98O9+pg9c1qfpGj8eTYAO4g6UCPqe217hjxWO0uI8SM6FjBm+eSzF52YpPjNdBTPbtfiaS1Qya6a8qSmq7etRZWe74pITlTulVs1LFiotN1tIy5oWzVdRc4M8SQkqa59mB5tEchYoLtTUZYuVW1kub3KSamd1q6a70+ZHdmW5WpYsUHperpL8aWpcMFfl06bK4/WqtLVZTQvnKiWQLl9utlqXLlTBlBrFJcSrurtTdbN7FJ+arMzKUrUsW6SM4kLF+9JUP3+OKma0yZOYqILGejUtnq+UrAylZmepcfEC5TfUKS4pURUd7ZoyZ5a8KcnKKC1W67LFyiwtUXxKiv28uqtDcV6vCurr1LJkoXzZWTYtzYvnq6SlyaYRWqE5yZem9PxcO4+8mirFJSaotnemanpn2nXOqiq33wUKCxTvT7N5VT59qjwJ8SpsaRR5JmcElJqXo5Zli5VXV2PTaOoJvZnlpWrda4nNz4TUFNXP61Nlx3T7LM6ipgZNXbpIqeSRmamWJYtU3NQgj9ejyhnT1Dh/jhJSUpRRVKC2vRYrp6LMpnHKnF7VdHfZ9zm1VWpdtki+/DzFp/vUvHiBSttabBpLprXYNCb6fUrLz9XUvZcoh3rSnrN77H8rKcEOLtq291L5C/OUkJamxoVzVd7eJivOo8LmJjUvWaBkf5pSszPtPlHUMEWWxyN43TC/T/GJicooKRZ5ZJeVyJsQr4a5s1U9s0NWfJzd/rQTbZmQ7lfL0kUqbmm0eVDW3mbzlT6XWpCnafsuU3ZVhazERNX19dptAb+zqyo1fd9lSsvLVYIvza5X2bRWOyJ9SVuL3daJaany5ebYdOTX1fTT2NOphnmzFRfvVVZ5qdqW76X0/Dwl5Wbq0Ae/rPmXbIydMT528334k2V8Uppyq2cop65PmTWzlVk7W1m1fcqt6VJ8MuLxgQFNqMk1LjFFVctPUfuJN8hX2jx6jeOJU3HfoZqxbptyWuaGzNebnKn6gzZq+nHXKCWrXP6qGWo/5RYVdO4bcT1C1S3az7AJw16EMBWhweWudl26dKkOPfTQkHyINp1u/rvaweXFp3nR3d2te+65xz5GK9b4U3vEgVr93BOqOfxAJdZW6chfPq79Hv6yPHlZmnHRRq3/4yvKX9CrjJnTdfqbL2jhdZ+VlR3QPl++TSf9+qfyVZdqyqH7a9P7v1PXSUcpqSBHa378bR316MNKCqRr5lnrdObvf6PqRfOU1VCnU15+RvvedoO8viTttfVqnf7bXypvapPKF8zSue++qlmbzpA3069V33tYRz/xXSWUFKj5pCN1zodvqObA5Uqsr9aJLz2t/e+9Q1ZOQLOu3qLT/vCiMmdOU05ft9a9/bJ6P7vJpn//B+/WcU//SEllBao74mCd+8Hv1LrqYKWUFuqE//yRVn/jK/L6ktV30Uad/YffqKynU3ltLTrjjRe19IYrbXC0/51bdeoLTymjrko1yxdr4wdvqGv9yfLmBLTmR9/Uqh98Q/H52Zp++rHa9OGbql6xt1Iaa+08Vty5VVbAp3k3XaX1b76owLRm5S3q07kfvqmu8zbIk5etQ7/zsI7+6aPy5mer/phVOvejt1R/6H5KqSjRCc8+qUO++kVZyQmad8VFOvedV1Q0vVWFXe06+51XtPjKS2zgdOh9d+q05/9TvpJCNRy4ry746C1NW7tGCbkZOvGpx7T6Ow8rLjugrnNOtdupbOkCpbbU6cy3f6Nlt14vy5+iZXfeojPeeElpjXUqWLZAF/zXO5pxxsny5Gdr9U++qzU//Y6snAxNPXWtNv/lbVUsX6zU2kqt++0vtf/222wbwrnXX64zfv+SshtqVDS7S5s+eEMLLt4oK96rVY98Raf8+kklZWWqaeWBOv8vb6tl1SFKzPRp3XNP6rBHvmLXc+5FZ9l8LOjrkX9qvTZ++DstvO5yWcnxtqT29NeeU1J1uYr2XaQtf/+Tpp5ynKycTB39ix/pyMe/KSs9VW0bTtIlf/9AJUvmKLmuSme8+aJW3HmTrASPFt32OZ39zstKry5V2cI5Ov+/3tGsc06T5bW08rsP66RnfiKAb/Nxq7Tpv99TPX0uI6Dl37pPHRefrbgBQqrE2rgfRXo/PSEOlLm/uFndN7yo5rv+r6be/Ymm3fcPzXjgn1p61ztKr+mOeHH3pGaq6sIfquv+/1Xa1L0j/n4gOnlefvwd6ntEylu6PmS+Xn+ZWq95SR3b/1tppT0qWrxOi78lNR57S0yALw7VJhjrxRdfHLJ+Tt5s2bLFtrFxPnPvw+/3Lq+iyytOeMAIn2O0YoXX9oYnzrIXVY8vVZY/TRm905U+rVFWUqKS6yqUO2+m4rMzFZeVbt/7G6qFBMTfVq+c2TPkTUtRUlGe8hb0KK28SJ6UJGV2tymro9WWtqRWlSp3freScjLl9aUpe06n/C1T5EnwKr25VrlzOhUf8CkxN1N5C7qVVlMuT1K8MjtalTmzTZ7UJKWUFylvYY8SC3Pl8acpe3aH0tsabDpSG6qUM7dLcRl+xeUElDN/ptLqyu2FPL29Sdm90xWXmqTEknzlLehVSnG+PKnJyu5tV9aMZpuOtLpK5c3vVkJWui0Ryp0/U/6mGhs0BFrrlTu7Q15/qpIKsm06UqtK5ElOUNbMqcrsnGo7MKRWFit/QY8SC3IUl56mvLmdSm+ZIisxXr7GGuXO7VRcwK+4vCw7XWp1mf1doKNVWdQzOVGJZYXKW9ir5KJcedJSlD17hjLbGmUleOVrqFb+gm4lZPhsiWXe/B7566tkeeOUOa3RpjEuNVnJRTnKX9SrlPJCm8acnuk2L2mztOpS5c/vUUJe1g4aqWedrESv0lunKG9OlzzpPnnzslSwsFcplaWyUhKV0T3NppE8kqnnollKzM+Wx5+inDmdyphab0ut0qjnvJny+tOUkB1Q3qJe+bCNgsYZzTaNHvpVcZ7yF89ScnGBPInxyp3VrowZLTa/fbVlNtiPz85QXCBN+fO77bojFQtMrVduX6csX4ri87NURB7lxTYfM3umK6trql2XpKoSFS6ZrcTcLHn8qTZNAdrCGydfyxS7rTGcT8jNtOmALzaNXa3K6W23AW1SWaFyF89WchFhZTx2O8bKuB5jOsOfWJOLpqv8pveUu+0TpR52m3z7Xiz/iitUsNdGJWSWKy4hWYmBHMV5EuVNCSizvF6J6Tk7JlSP/AWVChRXy4rbEVQwNUvZZz+qmjv+qriaxUr0ZSujol4J/uyQk3BqTokyKxqVmB46VlByXqkCZVMUl5Sp9ENvUtM9UmD+qTvz8ngS5C+qVmp+hTz+WpVvfkp12/6ktPJeWWnlSug9WXGFnfLEJSjRlyVvEjYdCfIXVslfiJFg3M68TCOl5ZUrUFKnuIQ0WXFJSkzPtvkwlDTKfD+cKwa5eDwShBEJmDMP4oWVlpbu9ow4Yddff739jBAWA4Wp8Pl8Ki4u3u1bZ964vOOhFc26Octz78Mfm7HOq5qaGt1xxx065ZRTYi60QrCZQvBvZ9uE+y7cdM68g++Hm0fY3w1m6zPYuzDVOmHTEZSf87vB5qrB3gXzcqDfzrKC0zjfOe8/lW4QXjlp9AziITiYTdagZTt4F5zO+dtJx6D0D0Jj8Hfubwfzh2JGctE0Vd70rqqu+p2slN0XeL5FZTfrmp+q8qS7NfWzT6jv7g80bcuP5Z95lGpXf07ztr+nrtvfUtPJdyghUCQrIU05Z31bxbf/XdknPKiO63+lmds/0LQrnlRh30pbl0y+Xn+B6tdco57bX1fXlz9Q143PqXTv02V5+91W49OyVL3qCrXf+qpmbn9fDRc/If+5T6n6zn8qcwf4Si1sVPP6e9X5hbfVc+cfVH3W95R7xVuquekdJRd1Kbd1L826/EeqXLRW8b5KdW98QE0bv6Ha076q3i+9o/Ztr6nmyCvlTesHhon+Qk1Zc706b/udere/r+bzvqvKU+7WrMu+q9zmBQMCmKF4HOo9IOuoo47SGWecoS9/+cu6++67bU8xnu27L2pSywZhxFEiJtg3vvENPfDAA8KYmUFz2mmn6ZFHHrGPLvra176mH/3oRzrmmGN20gio4gy+Rx99VLx/8MEH7ThE5FtdXW27uwPgvv3tb2vTpk1uqIsIxkyo9nSfhQaVRUVFdlDSjRs3xhwAc9s0dJu6fHH54vaBAfvAgC92Ls6GeYCvsut/r4Jb/6qi0+5X6Ynb1LD+i6pa2r+QZ84+WtX3SCXbpZIzH1feGU+o5C6p4kv/VO0Nf1D+cV9TwbXvqvlBqeKAzbISAsra8HVlbZfK7/i7Ck5/VNnrvq+K7dLUOz5U1tS95IlLVv2Jd6jrASnj2PsVP+cM5W9+Rh33faLChcfbkqnKI65W68NS4Q0fKPuY+1X22ReUt10quu0fyppzvOLT89S46buqfVDKveRF5R/7oKpvfl/Z26XS695SSmGXsuecrM6vSWWHXi1vRqtqr3tdpV+VKq5+XbnHf135N/1Fzff8j4oWnSQryafKo25U00NS3jV/UPaae1V52csq+YpU+YX/o8wZh3yKd4aHw7ki3frCF76gd9991z5om1hBRAr/4he/aAeuJM+zzjpL3/nOd2zQhKcU5+kBpLKzs3XCCSfoj3/8o9atW2dH0Aew/eIXv9DixYttcEbg1m9+85s74w+tXbtW3//+9217MuIUvfTSS/rZz35mH3nEgcmD7YKGUz/3m/DH4GTnFSc8XHPNNUJVjmp9stfXrZ/b990+sMf2gfArDvgqvfZNpX9BKt32V1Xd+he13fU3NRy/zZ4k/d2rNeVeKefMH8mKy5KVXKaiLc+r4j7J14P6z6PE2Sdrylek8g1fl5VZpewNX1fxPf9W6j6X2EDKslKVcdANmnK/VHbUHUqqXKjm299T3g0fyr/kAgXaD1HgiDtV9aDUdP5j8pbNU/3nXlPlrX9WUsMKmw6Pf4ryLnhK1dv/LX/PccruOERN9/6v8s57SlZmg53G27BCxVs/UtXN79ngK7P3BLXe+y8VfeZyeQMtqrr6VZVu/bMSKpfZ6saUvS5S/X1S0VG3KrV6lhpufkNlN74rT82S/gUip12FW160wVf69IP6nyENLCjQ6tWr7QjXXMP5Jw4SR4+YQZmUlKTbb79dnI9nnqH+u/XWW21gBUD6+c9/bku6zHuuHFmC1AypFTY1znfXXXedrrjiCqGGfPLJJ23JF7Y306dPt/+//vWv2/Zk9fX1+ta3vrVTEubMw70Pf+y4vAqfVxydhS0jqnLA2GTknVOl8+n6Rea49Onvw+f1YN8Opsra3bkquvSOCq8GUe3tXpfh8W4wXjnpd94H836wPPB6DE4f6vdgeYT7blAaB6Njt3cD0zvY5j18GoeX/+B83JWnx/NpEyPD78Hoj7Avhd/ZbLXjje+o5Pr3ZFXtKytQJyurWVZqvt0xArOP1tT7/q3Co+/s7yieFJWc9ajq7/p/Sp+y1H6W2LJMzXd9ouIN35KVVavcMx5R7Z2fKK5m/s7OldS2v2q3/48KTv26ktrXqmrbx/Lf8GeVXP6saq7/lQov+bkyNj2pymM+r8T2Naq9/c8qv/hZWUlZO/PIOOIWtdz7b6XMPEG5c9er8atS/hG37Xxvxeeq9OJnVXvbhzb4yuo9QVMd4Kv22ldVefUrSsyos79J7jlSTdv/qfw1n5e/aW81bHtXlZf8SlZq0Y48U1Wy/pua8sW/ygm+iG79yiuv6He/+51effXVIf9fe+01vfXWW/bO3zQ2QIujhTZs2LCTfhYowNdxxx1nA6Mf//jHn7L1Mt+jxrnxxht3fkvnYXEDfOEtyfEmgDPSUA7n0d1yyy322ZKAMdSQMRmR3FUP7mxz0xdi5cqGA2kufTHYhnEi1SE5I1+Ni1apsmsfeZLSlT91qaYdeaWq5x0pb0qGClvnq/2Qc+UvqldydpmmH7hBlTP3kyfBp6rez2j6/uuVnF6ojLJGdR56rgob+uRNSlfzsqPVsmyt4hMzVFg/S52HnKvsshYl+fLUtt861fYdrLj4NFV07qMZB5+ltNwK+fJq7XSl0xbLk5iuKQtWq3WfkxTvy1VWTZc6DjtP2dUzFO/L09R9T1Xd3CPkSQqoZPoSzTj4HKXlVSslp0LTDzxLZTP2kSfRr7q5h2v6fuuVkJanrMqp6jrsPOXXdis+KaDWfY5X89Jj5I33qbhpjjoP3agM6hmZ1MhxAAAgAElEQVQoVPtnNqimZ395vCmq6t7f/p2SWaz0gnp1HbpJxa3zbBqblhyt1r1PkDclS9l13Xb+WZVt8vryNW3/Daqdc7jN17LOfdRx8Dk2fal5NWo/+BwVty2WJ8mv+vmrNHX5OtskJLu6XV2Hn6ecqg7Fp2aqdfnJaly0Rh5vqsraFqrrsE3y51UrNbNYXYecrZru5fJ4klU76yCbxqT0PGUWN2vmYeepoHGWTWPLXmvVvOw4xSWlK69hlk1jRlmzvP58tX/mDFXPOsg2oans3k+dB5+t5MwSpRbU2XQUtc6XlehT4+KjNXXfU+RJDii3rkvdKzcrs2yq4lOz1bb/6WpYsMq2GS5rX2rzMTWrTGnZpXafqOhAAJCo+vkrbRoTUzOVVdqi7iMuVN6UmfIk+NW2/CQ1LztWVnyaCpvmaubKC5RePEXx/kJ1HHSOKnsOkBWfqoreA9Vx8FlKDBTYNHavPF+FzXNlJfrVsux4te59ok1vbkO3ulddqEBxk+J9OWo/8AxNmXO4LSAp79hXnYeep+RAsdLyKtS18nyVT2N9T1DDgtVqP+B0eRP9yqmYpt4jL1FuzQx5vGmatt86NS4+SpYnUaWtC9V9xGb586uV4CtU12Hnq6JrhSxPkmrmHKaOg85Ugi9XvsJ69a66UPkNvf007nOyWvY6wa5LXtNs9a6+WGn5tXYf7zj0XNX14dUfr8qez9jtlJiaI19BlbpXX6ySVsyB4tW07Di17XeaPHEpyqnuUM+aS5VT0WbT2H7gmWpcuEaW5VXp9GXqXnWx0nLKleAvVO8RF6qiYx87j7oFR4i0cSmZ8hc3qnflZuVP6Yl0vo0MfFXc+K6qrnlTcfmt8sQn2Mbl8UmpsuK8yph1lNru+7eKjvtyv5dDQrqKz/meGu76f8poWm4Tlty2vB98rf+mrKwaZa3/D1Xc/W8VHXKVrHifrMSAitdsU8MDUuHKW5VQNF9TbvvAljIlVJFHQIllfSrqWauMkkZ5i9pVd+MfVPf5j5U1A4mTV0n5rar67K9VfReSr7Xytx+qunv+pfJLf6XEkjY7TWrXYaq47S+quOndneALyVfhDslX7TWvqurq15SU0x8CI6XvGLVs/6eKjr5D3vw2VV76jOru/qcKD7hEaSUNyl+6XuWf/1il2z5SYIfkix0EhvGoTzIzM+0r90P9cyac07CdexYhbLrMwmPAFypFjiHiDLm2Nuq2qz0xoEfydc4559jfG8TO9ZJLLtFll11mnynHQb8LFoS2U+MoFNSXSMWcebv3u/js8iJ6vDjppJNsQ3wM8icGnz2y4lOU09CrQHGDkgqaNP+qJzRj3Rfk8Reo+IDN6tn+ZzWddp+8gRKVrThTc295SYHmpUqp7FDf9U+rcc3n5EktVNPxN2vO1T9XSkGLcqbvpYXbnlfF0nWK95Wo8/yHNXPzN5SQVqHyRado0dbnVdC+Qik5Deq76nFNPfFWxSXlq37lFZp74y/lr+5WoG6hFt38gmo/s0lWWqGmn3Gfei/5vuJza5XXd7Tm3/qa8mevUnxuvXov/YnaTrtblr9Q1YdcpHk3vShf7Ryl1PRo9g2/Vu1hl8tKLVDbqXdq7pVPKim7XvkzD9Ci236j0r5jbRpnXvwtdW16WPHJhareZ4MWb31BOc2LlVY4VfOu/4Vajv2c4hJy1XT0DZpz/X8qrbRNWQ3LtOTW36hq+QZ50oo0c9PX1HPRd+TNqFDBvLVadNvryu0+SN78Js29+ilNPflOWWkFql11pRbc9IJSK2cqbUqf5t78oio+c74sX76mb7hHsz77uOIzq5Q/e6UW3f6KCntXKT6jQt2f/YFmnPVVxSVkqe4zG7X41heVUTtH/tJ2LbrlWbWsuUqeuAy1nnCr5lz/c6XkNyhv6n5asu0VlS050aax58JvqeuCRxTnK1bx4lO16LbXlNO+XPH5LZp/3bNqXrtVVkqOGo75nBbd/JySS6fJ17hQi25/TeXLz7aFE53nPqRZW34oj79EhfOP0pI7XlfejAOVkF2l3qufVPuGu2V5A5py6EVauPUl+cs65a/s0KJtL6rhsC2yrHRNP/0uzb3+Z0rMrFD+tM9o2Z2/U/HCY+RJKVTfZT/UzE0Py0rMVsXeZ2rx519XZstiJRS0avGNL6jx6BtlJWapYe1WLbzx10oqbFRa40ItveMNle+93qaxe/O31Hvx92Sl5Ktw8Vrt9aW3lN26jxJyajT3c0+r7RSEKmmqX3W5TWNKQZvSa3u06I5XNeXAzfa79rPu05xrnlR8SoEKZx6uve96W4Wzj1BcYp76rnxCHec8IMvjU+1+m7TszjcUqO9TYsFULdv2uupXXSMrzqfWU+7UwhueVUJunfwty7TXnb9XCeY+qfnq2fKYejZ/165L8V6nap8vv61A/ULF59Zp/i0vqO2kL8iyUtR47I1aeutvlJRZa5ex5K7fq3rfc+x3nRf8h2Zf+YTi4rNVNOso7bX9XRXOPEhxiTmad8Mz6jjrXllWkmoP2aIlX/y9fFVdSiqcpn2/+Hs1HE5bJGnahru14HPPKi5Qpsy2FTr0ng9VMvtYJQYKNXv9VlUvXGU77g0xZ4U/caaWtKvu1g9Vvl1qvOYFTbvi55p2zTOae/WPlVXXrYxZq9XziFR+yld2gq+azT9RxwNSdsv+9uSZOmN/dT0oVW/8gS35Kj7n2yp9UKr70j9Ue+FPVHXhT9Vwv1Rz8x+VUj3Prmj+6q2a+pDUdMXzqjhym5qu/JWW3v9XNS4/xUbbOYdcoykPSQ23faTaM7+l5utfVcndUvXdUu7CU+2Jrvjs76v2Ianu+ldVe9Z31Hj7n1R0jzTl1j8prahbuXNOUffXpfLDrrVtvtpueUct0JDbatPtm3+COh+WKk+5V5YnRb6ZR6ryto9s9Wj79o/V8oX/Uvotf1PJ1g+V0X7wqC4UeDdiaL95Mx28v73wWLzrrrtsQAbA4wBuDOJRE2Lzdfzxx9ugCe9FjORJ6wRf1157rW6++WbbsPm8887TD37wA7W3t4vjTGbMmGHbmCG1A3TxLhaPgjG8cq/hj/GJyKs1a9bY/b+1tX8sjjeNGVN6tfz25zXzlG3yJOcoLrdOnqxqW8pjpRXLyp0mK51QBik2cLCy6+3FAhtXK6telq9MljdNlr9cVmadrIR0WclZsrLrbMBjeX2yAtX9/16/rJQCWVlTZCVny4pPl5VZIyu9TFZcmixfaf+7xAxZCVn9+acVyvKmykqvkJVB2Ae/rOQ8WVkNspJzZZFnRq2s9EpbImSlFfXnkUAeGf3p0kr68/BXyMqs3ZFHtuy6JOfLppG8A1X2gmmlFvbngfaB+mTVyvKX9tPINYt6+vv5QF1SC/p5EKiUlQGv0uxF38qGRlPPOptHSK0sX8mOegZkUVfqAt1xKY56+vrrB7/tevr6aU+v7E8HX+B/YuaOetb15+uBV2X9NMKrxJz+dCn5/XWDPupJu9AW5E897baARtqTcCOmnun9ZVAX+EI/oD/AL7ueueqvZ06/wCFzit0Wdl3oP3Z/oS0CsrKnyPIVy7JprOinETqScvrTpeT100WfgJdxqf1l2nlk9tMIv+knvINW2sKuJ30OGmmL1P7+ZmhEm5XTYIM5WyhCHunlsuKSZdE3+A76aAvuaQsP9azs79P0Tdogp6m/71Fv+pHdX1L6NUbZjf3fw0d7XEAjeZTvohE+kz98h0a7z1X330O3TSNt4e/vE4wp8rDrSRgP2jOjPx1twTvGFuMOftCXbRpz+n/Dm539pVhWDjQGZMXTFg2yfEXyxCXtopF6JWXLk0e4jwwlFbZo1tU/U8uqq3eu1YPMV+FPzMk5dao+7SEVnf+0ys5/WhWbf6mKi36lps2Py1czS+lNi9Ry6c9UuN8F/eDLm6by1Teq9cLHlV7Rb8OUUjdbLRc+rvLDr1VcerFKDrtCpWf9UKn7b1XpFb9R8bY/qfCcHyupCfutHTrY5Hxlr/isKq5+VZW3f6zSy19Wxr5b5KVDAUaS8pX1mStVfO3rqtz2ofJO+JpSVtygugt+osyOfvur+Lxm5Z/wVRXd/EdV3PD2/2/vTqD1rKr78d/3zjfzTEhCQmbCDBrmeR4DAhFEwAEUEVGLValKQYWCgC0I/BRB1FonrLW/1g7231ZtHalD1f5bVwetrS5bh6rtauv617r/6/NcdnLy8t4puWQ8WSvree/znHGfffb57uGcE7MufShmXfnuWPeq343BeQfGrIMvjINv+0wsOvX66J66Mtbe8MFY99LfjAHM0tUV0w7bEAe8/lOx+MKbw5EV2tZaeX5Mv/jXYt4ld0ffES+N+Tc9Hvs9+uOYeciF4yH8uNNwwbBeXXHFFZvyAGR2P15yySXD7Zs2rbkL7s/+7M+CC9LORd8AM5dyc+GU4As4E4CvbxkXJp/dkixhN998c3Mkhd2O3JMrVgzTYRRG2tS2mmb8c6rSany02rhxY7zvfe+Lo446asfzWe/0mLt+Y0xdfWJ0tTZfst0eK9P+90hjPd50I+Uf6/1o5Y/2rSx3vOnKPGP9Hm+Z4003Vn35fbLLy3J3hufO2rfxtmu86bae1pvjukYvY+R0uY52zt87DBT7FsTspfvH0GygdMSyxif8moqADiiVZtBX/p/V+KsbVNygxKnRJWCt1TOMPGlTrYHhRkDOEDMXo/O+PJXZ1R9dU55Amr3Du5yeNBCNVnnAcLpN7rXsWOsJNLo2urrcHdU/jHi7nUuVfRwa1p4gW9+7pgyjWkgWItZ26FpbIWYanD4jnnZD0L53D8Sa06+J41730djrnJujf/7RMfec18WB7/7vWHn7l6Nn3nCcWOfBybaM/2mwgaju7s1BgPnO+7Kefffdt7FScVXme2n8T6bJvMrLd9LaQcnNKFA/80qTecu0+b0+xz+OlVbbRivXELmOyLVEO4qW8/c/KtaccVX0T1u4w9qwo/pe6902/q3023PoN2v5kXHZ+/8x9r/0NaPJiT2HIJPJ/PMO3hAHvflv4qDHIg5+7/8XB70/Yt87vhZTD7h4NGLXb5tAc+W7yeTHPaWs4447rrmOyMXc27/PrVh9yU1x3kN/FQsP3YXuo6xzbgfwSpVv239+7jw075+9LFZecFPMPeD0SbJ81Um85SSevioGj3xRDJx9WwweeV10z2J123kYoLaljsXuyAOss2IgSzf8dulnqyd6pi6KvnkHRLcYrTrXKw0qD1Qe6MQDrZ7o7hmK3t7BYS9gpzRVgNQFuvJA5YFdjQdWr17dbApx1Mr2a3srZu6zNhYedHQMTJ89oXpLl335W9vb//ZOnOfW9KtTWWU5brNov5Isv4v9LOsdq6zMN56nspSfaSdSdnveLCOf2lyWV/7ONPkc7VumGe1Z5tefMhRktHy+tect/+6U1/dMk0/pxPuWf2fZ7e86lVnfbR9Z3zd77zjnro/GCS+9rzmaYgS6b5/GjFD5pslYv9dxqDxQeWAiPCC+8aGHHmo2ngAVE8m7dWl74qBr7opzH/lyzD9g9DN9bFBxbt7nP//5eNWrXtUsmGWdl19+ebOL2AHGdhnnNxtcWPW++c1vNhtnRjoCJtN3eroBQ2yca8Uy9tPTTRZ/8zd/E1//+tcbmiXQcpCtQ5fdZOE8QteXAbedyt6ad5dddlk8/vjjTdn33Xdfc+vGWOUAEv5fdNFFTV5nH95///1bxKOKUXUuIVr9xV/8RXBFJwBxs4c+2UTkvxs9JstS6iggbdGmv/zLv4xnPvOZm+odq1+OHNIudP7Sl74UaFPmcYOIXe1uHDnmmC15zIHYbjXRX0cLnXyy0wCGZYY4Xd/w26233trsWs9v9bn95Wr3tAWx3xV3xcqzX/ZEfHnHNnR8uWlQ68DtuvRJQVTHcNcdwzp2o4+dBdiCbsFy9t1TSq9WTwzufWhMX3Na9E6zKSU3+zy5je5VtTBbaI8++ugn3VX58MMPx5e//OVmJ7JbMLTbAupeVjuVL7744ga8KUP+8faLVeQDH/hA+Ofg5KSJnc2Al+c111wT3/jGN5od0MoFJuyIBiIuvfTS5ioxN1y4a3O89Y6U7oILLmjAgkOdlf/nf/7nzeHQM2bYZPVkupXvzjjjjOaA6ttvvz2e9axnxRe/+MVAN5a7PGoHsLIT9rbbbot//ud/jrPOGj7MG3gEbhwW7agSV6Y5qmRbZSKQ76q3BE52hTtE+9xzzx2zPwCwg7EBJKDLFXCujEMj/Xb+ox29ytOXMq7RuDpKCIgFSN3+8LWvfa05Fkhe9HBtHOCOJo4YKmlZf4/Oa5NPH8qgDXI2xG25Ka6oa3s3avetz8Rmik5tsyDydpkIhPj111/f/GcV2FZBs73bX+vbfefGUzm2Fq03velNzX/n1D1ldbW6Y8rMvWL2whXRN2hH9cjgy8aAP/mTP2mu6urUHhY7QKL8BnB99atfjSOOOKJ5D2S4Y1XfxmvZcygtAPfe9763OViZdcthy0CPI2OyPkfPOL+v0+G15513XnMTx0knnbQpfeabyBNgAAYeeeSRTeWcffbZjdUHfUYrS39/67d+q7HCZTpWwK985SsNfeRnATrhhBM2lQO4uIZNXv0CVtzQkfk9t1Umqvev/uqvNoE8ZTpD8Xd+53fGlPva4o5dICnb9OijjzY0Ap78d64iS6hxv/DCzUcWAeAslsYm8xo/lr/82xMQZU2t4GvHytK+mQvitNe9K45+vkNZR7TK79hGloyzo38zS5eTeaz2rF+/Pq688spNgtHEZuonWFPjHKuMyfrOdfDBD34waKy0wIloy5PVhlpOnUs7igcs9A4L5urjnnlq2tEThz/v9njm2z4XC9eNft6YRfrjH/94nHLK5mvTyjaxgAAmZfzVLbfcEh/60IeC25DLaenSpcHqA0iN547Lgw46qLnjFYhjkQFEgC+LurP7WMIyRunEE09sLCfAUNkuv1/ykpeE8wJdPdb+bSJ/UwDdG8vq5P5ZhzcDFlxm7q8drSxuQ5ZB/ZDXIc9csn/9138dz3ve8xq5C1DafIFWrIbcu+pDK3lYpxwkzZo3WVdUOR9RG9wqQv7jNde3uaKNFXa0PnE1c4+iA/nMssgKySWqvZl33bp1Df1L8IVuXJVljCM3I4APXGfe5z//+Q3orOBrx8rinpl7xfob3xEHX35LcxB8jk/bc8c2sq0xm5hoR7wXJ8FyNN66mdHFR2R64MvEOvPMMzcBsvzW/txWDay9PGcg/fZv//YWmt1k19FeZ/27zp2diQdYPFzBBXQALpPftp6Ytfb4WHLcZTE4e3S3zkTBF1DElQSUXXfddfHTn/407r777gZQPPbYY2NaMpzFx5J27733NoCOlYtVJIPcWURYirgk3/CGNzSurx/96EdbWFLQC3ABGsUNJVDbWjq6bQMo0R+WoZ/85CeN+9BdsSx0o5Ur9gm44iZlyfn3f//3BnB99rOfbcpzrRrZC9j9/Oc/b6xrxp5rEtCaPn16QwtpWIi4XAHO0eoczzf366LP1VdfHT/72c+ae2+tGZ/85Ce3AFCdytJn1jzrhvEFvgFJ7kO0yjxANPBbgi+8jTe+/e1vNxZMrvYf/vCHTTo3mmTeCr52FplcWLucd9rZxT7+xtJG+OEhfoKClUehrDwYC6PzsZenULMkMbcytfruP591AgNC8vTTT28sTpiLb1+ZAhNpMrS+e+65ZwstjGuBRmQSv/GNb9xC0NJEaJDyubuQtqQ8mjEtVCyG+IMPf/jDTfm0wjIYFYDxPTVCk/jlL395I7QwfN6f6KBHQZG0K23Qf2lpMK7lSWKrn/ZKgKJZXtOj/+jItE+b8Z3gLDWgLCOf8krDwkWALlmypKlHv7RFfAirl/aWEzLz1+f4eb3SateklXllQWblYUGY1HFsdUdP31D0DUyPVo+de6O7HSdi+dJugIkLSyA1i404ItY8830sa55FF/AgT1iB3AVL1pKvCaLIZZZB/8lIAfYZI4VOABzgyno+lhVnPHQVdyVGSduADGCSrBLTVlpwOpWlv4CbNUBasXPHHnts43Y0vsAPUGbtsOYAKoARyxLgVpZpfSJfufKsK+W3if4GBtEZkENjng/1iuNKeTxSmegACBojYwAQi0dj4Ss3OHQCX8oEpFnPGAnwhT6hpXUn66zga+eQW33T58XR190Vh1788slxO/KjYxQMDti4vka8BY0LIwgitKMGak+/tgknuJNQYbKlJdBoTH4Mw/zqe2pb/PrMscoT2EhLEJhIs2BepgG85z3vaRhQkChhAUgBVwQNP7/JqG2ACLMsZsa4gNW3vvWthnFNaFoIF6EJedVVVzVAStwAUElzNWnFK5jkJhnAJ5gRaCLIALzPfOYzDdgBGqU3OWk0+gYs6ZeJxswOpNHcCAzfTaAf//jHzXftAT6ZoDvFYRCS6kJ3ZZn4/hZEqi3abVxof74Los0JWZ87x4Ss47D9xoFsMD/LnYTbTv+eOPiKX47z7/t4zN9vOC5rpDInavlSDvlINpZXeZF15jrZMlJdZCI5+IMf/KABOxTC733ve421iEzpFAcHwLhKLBd9AI21i/zsBCJSWR6pDZ3eU9bFnyk3v4tnGy1APeshz9EC6Mq8wHQCRsD07/7u7xoXbX6npFsLOsk+Mv1v//ZvO/Yt84/nKQhe7JU1JdO7J5e7M0FQ9iG/59PaJpC+VM4p+mhUupWNiXUjDQCZv/1prIx7+b6Cr+0nY0q6t//unb0ojrv9D+Jp1z0wObsd+fAFPAIiWZlJDJCUfmdaCZDBokSbo/2UE0JQIVMrJsTEgkzLWCsgxSQqmRgAY+kClGge6sg2MDOLnQByyuBO34E/AAv4kr8UBJgcmMz4KOnKWATxEoAWjTC1R4COVqpswY/tzH/DDTc0IErffRMsm+30ZIKnWeqHoNePfOQjm1yU+sstoIwyDyH2B3/wBw3IK9+7TFvApnfaAuCW3+vvnWMi1nHYMePAGkIpKWXLto1Fb+x1xEWxduMvxdSFjmKYPMuXdpGLZKGdm3YDCiUAMMojEgAtljFxXeViz9JNnokXo/TpNznjb/KLDKGcktNAADcc5Y/MYf0nX4EdFh3ylPWofeMQ4KRNpawfi54sV9YMcpTMAwYp0mUMlraz6AjZKMujyAOS5DMlX96PfexjTV8AROsK4INW0ojF4oHQJ2CG1wGIA9r0TYxU2Xb93rBhwyZvRln3SL9ZFTPQHagVc8bjUN6dKy9aMUaU6x5rIoXZGqU/FGfjQGHWZmPL8EA51zfxYPppbfPd+KlfXuMFBKJr2dbRwBcAT4nXZuWV+ervSZZRzZ2v7oB2PWHhgtzS/Tj+SvmlBUua0DlY3GDMw56AgDgDEz8nCVdbucsm83Hh0UZYbTAzhvKNoGBWNVmkUaZJB4yxhhE4gAZNA1ABQEw0+Zhg1VvmI4C0yU5A5RJa2Qb5uOtymzDwYvLmd0+TmgbN9A+cAZpAnm+0a1aujKvwjmUPODPhAaZ0M2aZACzhY0Fgrqb55DdPFsG0CuZ7E5mVrt31QIgqS3ClfqHHaBpyllef4+f5Sqtdm1aAinmfc3ybxrNZsGwf959gHXkBY/kabbcjmdS+21HbzGOKKcsHCxFZAEBkuwEGsujv//7vN1mt8lv5pCSSyRnQr1wLOlkrcJtSmkCEEgwEKJN8A3jI1/ZzpshycWJiWsu6RvsNcOmrPvGIeLbvogT4HLlQWrmUSdaz+gFv2qX9ZV7tsPMQrQAvcj/XEaEtDADWBGkoue0WPbJYDJU1IGkxWl/yG7rwUKiXJc4a1X50Bu8LK1cq9pnXegeskdtojgcSoGkfGa693/3udxtLnfFKT4gx0ye0UG8eUZFle/L4jLTb0ToB3DNe1HXiqZVrvVNmxeHPeHGsO+mSJ+RFx/o6vuw4uYAvTFMCChMGowE3NA2MAiSwGkHXDqNLsFIyCaAD2QMWfPEZYwD9i1VgoaIFKNN/iF+ZWYbJQkMwsQEsmhpwRlvCZJmPVkUAYfB0jWYZ6mTyTfMuEz9LXn6niRFC2knrUCbtCRiUhkZq4qVVzLsEX2K3lE0IZ3medhDZecQdQuO54447Nn1HL1Y/7s0yD+ugstau3fL6IlooAQ9EmnQVfI2fl0v61t+7N92ACwqUXW/bNtbdccDGl8eZb3ws5q0+dNSyKFes6izfZBy5VtbN+mERFFZBtpWWCIswsMgyUubxWzqyiCxIYNUpDUsXuZCyCWgjz5TbHgtnISY/Wc7IJ/+laQck5B0QUyrf7XV3+ptijAbAkja1pyHXlYkO7d/8bfzI6FwjyjTekYMsQNlX3wFWchNAAYC0ocznN2BI5pO3pQLdnq7T39YVbVJ2OXaZ1hqIjp3KBRDlBcTKdklrjbHOAobG2P9c99QJfIq7bqeF8RXqY10FztqBpnYBs9YvgDbLzPbW5+TKwN45S+LM+z8bJ/7iuyZnt6MJCfGXZ6cYcNpMuVuDZpABlTQwWk2psRCC8mA0zMvKVU48O1m8y8MHMQZzKUFFUABDqS2YzACSyc2SBvWnOV4+k4/AkQ9IK034yqcZmbzS2uZt27DfJjJTuEDKnNTM8Pzsgnml8Z3WlBNMOjFfBKtJJT6LJS5jLuSX1395uBdY7pTlv0ksT7vly8SyeHBjZl0AJmuYMuQTs8Y6qJ9ZXn1O7oSq9Nx16WkhNO9SLm3dWPbG3qddHQdc90BM3Wez9b9TWWQbCzj58epXv3oL65X0QjcoYeTV5MalPTVjRLaxUGWsUyfA0YkOO/M7aw7Zn9aynbmtY7VNXwAra6H1o1OfAHJrYadvY5Vfv09wXnUPRNeUhdE1OC+6WqzkHfN3fNkxMYAFFOWOvywQ6GFKFfDI0sU8nBYklhzmZluNMyZL2gzI5xZgvSmRPOAiH6AHjAAzfgt2pEEy1XJ/Ah4EGCFHCwRumJ7VJz8LmvbSuAmE8HEAACAASURBVHwDrnI3pbZjWJpc7vgBzLhQuRdvuummBjQBPNyH/gaAlJfWKoGxLIHKZf3zN6GaljHAUB4TQj8EuKqP5qp+MRd2QiYdCTQWP+/zXT5ZFAE9baFNq5cGQ3uTRtu5Vyr4Gj8/J23rc8+gGUBEdpBXI1mNRuWFVroc0Ysla2S3Y5YDtPhfgpXyN1lX/p35drbnrtDGnY1m27M9xif/b896a12dZWfPwPRYcfSGWHLwSdE1GUdNMFVyp5UxCEl8ZmMWKVuKS/cYMMasywwrGFBAe4IPeVl1mFjbzfK+sWbZAQTQZJ4UAo564OJL4JTt8HSchMB2QCutZ8oX5JlWKOkIYOZ2lrIs13Zm7UzrHtAG9Dl4kJmYKZ75N+vjGtU+cWj6wvfvXZZHuDITs+YBnEk73wFOdMm0ntrrfb7LejzlZclDE6BV2d5LS5thaiboyzz1d+fJUemyZ9LF/KKsUXAm7nrpjv3OeG6cesN9MW/Zth1AWvlvz+S/Ou57xrj3zV0SFzz85TjttR+YnN2OW8M4TKHtOwK3ppxtydMJyGxLeZORt2xT/s6n8svfk1FfLWPPmPR1nMceZ+4X7n5W51IZG5t2PbHqwpfHSa97LOasOKwqOZ1dKZUulS57OA+0oqt3KHoXHxh981dNzm7HsYXTkwUfK015LMTWlFHzPJmulSaVJpUHtp4HuOftNLZhqFMQeEfaNm5H7kYW5/G5HTuWUxfnPXxx3nq+rfy0a9Cuu29KzF2zPmYtO2By3I514HeNga/jVMep8sDYPMDt6HwmsZPluVMj0647lh19QRz2rJti+t4rRgUQwhyAOiEVwgjKcABWbUH2dkKXm4NGrnezJVyogZCI0fLaJSnUwQap3KCTZctrJ2b70Qj5fWufQjGEQrTvpBytPHQQs2rTlZPvM0Qk8wgLEeuqL3bYl94Av1kthYLIW4aCZP5tfdpcYKNYxtVOpDx5hcaUscyZX6yxPpXhOWXf7EpFS2EsmcdTaIm4RZuthMOU3+rvsef79qRR39x94sJ3fCVOvfmxHed23J4drnXtXAxYx6OOx67AA+I53aaR5ymN3OaeWHf5LXH6PR+PuWtHP+EeWLDl37lKAF7GelrIHQfgLCebiOy2Lo/uGbnurmaHd56ZJa+NPOVOSYDKZh87yW1EcoSPYxqUCajYbOCbgz61rf2AztHqHu0bIOHYDJuRHAprs1P2d7R8dqzbFKUf/juB3sGkGf8LYHpvQ5Yzz2xeAjyUCTg790pfbD6S147vjIMdrd6xvgE9NjU5SyvPJgOkxsrnu7xiCp3hhcY2l5XncYlRznLRyk7Y7K8xMn7OLLOhzE5ZB+9mvWKY9deNMHba5/v63PnkbKt/Wkw79JyYuuaEyTlqog7yzjfIdUzqmFQe2HYesBHIgcntO7m3oC23Y9/06BqcE109LA8j73a06ceBmBZMgItlw39xZnZUAz42yDj+xrVnY8WeyWsndJ4WL6/DVu2AFsOmnXZhu2JM3cpjJQHIWN1e85rXNPXaUGSTD9Bj5zUrzBZ9nKBLlMXQoax2mbM+Ob8KqLD5aqxyASjgwgYl7bA5S960ngFnfusDkAmwOtEeLfRpzZo1DRjTfy5koMYmrbHqHeu7tmtHnktmJzsgNNq9u1mmo0y0A1gz7tpr978+ojvwqzxtdjbjd77znU0HfwNiDmZ1VBN64AvgPI9VYiVlLcNX7u/NOutz2+f/ZNOw1dMXQ3MXx8BMm/NG3AT31DXcJDFx2g/rm+yObkt5Yj8IKm3dlnLGm5cp3aSkoW2vOsfbth2dDj2MB56ptHnq5uWOHuedtX6nogMl3GCd29iKBQccHStPvSymzF00QprhcWO1YX0qT4kHTvIYnCyf1chimve95vv2p4Ub0AKi8psbLoAx7WURUo6LmvN7Pi30wIOjefIdkALMOPcp323NE7hkhXOOWuZn2XN46XhdqpkP2Pmnf/qnjvTnPkVPIK+TbHAGJCsTN2SWtzVP8sc1dE7zz/xA3j/+4z9ucUxRfmt/uiGFdSoPOXWLiXZxqeKJf/u3f9uijWiVh54C/44tyjJZLYFA56vlO3Rg0Wy/gi6/1+fOITf75y6Ji//PZ+OMV0/SIatbM7DOtyrvUxypDOges5Xmav52ky01u5Hybst7x0TYkdlp2zlGd4dWJ4G2tXXSrJ1b5oiLrS1DXhpjJyG0tWU+FfnEvHCpdKLtSPU5r8y1KBPJM1JZ9f3OIYh2pXEAhtwUkW4mc2zzPOuJ/Z93e5zx4Odj7n6jL/IWWtfPiEfK/pv7rothHXEkj9s4WKIAMsfbZLpOT/OIK4q7yX+3Yyjboc8sKICL+pxHSGayuKQVz/mDTtt3/A7XnIOkyVagYFs3Q7E4OV9QnJLfQCTA4UYO8W6d+jLSO7IWLcr4OxYjFiHWQofklpY648LSlm5cAKyMrRupntHeK5/1ELhxN6i1y7pk3F7xileM2R8uRO7QdDu6sskxROoE4r71rW811+0xSFjXtB2o9rcDyYE8Vj4xXY4m4k4t7xtmKABCK/jauWVba3B2zDvp+THnaRfuuJgvx0zwgY/G8L5hOMKlDJwUGAq8PZXgi6bCtLtZwG4eVODLxbCT6V+npZrI4zFhj0QzB9gCcCN931nec38QzBM5UdkCIbajBpRu5sOdZTz3lHZYbAEYc8wilzE5zWGJM5ZE14K10TUwY1S3YyfwpVwn2lPmACULMcAgpsmu8NHoy00p/glIIz/+5V/+pYmPYqUhnyzUrEZcXBZ/FhTxZqxjYtmAGuciev7kJz9pwJ8YrbHqHa1NvomNQid9+tnPfta4DslUh2pze46VP79TJsWNtYNBbXd4t/so9bUEdIAWYIKm3/zmN5s+bdXhuYWrlYUR0OPWc2PIz3/+89i4cWNDT8C20zqRffBkgWQ9tZaJ31IWmYaH5KXsA1jiwfzndrT+8IbIq07fvQOY//Vf/3ULYL67ga+x6FnSdmt/Zx3Wc2B+MuICx2xLd1+0hmZGa3B6dDW7pDvK844vO04aVim7N1glaE60nWyEyUOroi0w3eZ7fnxaWP7NHEtYCKzE6N4jCGaniTFjM7NyPWFY1pMknrS0OROdtlcCNUyJgZWpfFcYKUOezE97pHG6UiInKSBjstAO5eN6yPbLp0zlmOhMx9rkQFl9dfhqu2mdVYr1Rvs6gQ5mcYJROv3Ul9I1kXTCILRZ9ZSmdOZ9YJZmSUt3Qz0aOYS2ZCrjVNJHfwG+bC8Nj+DX505WOFqai8P1Q/lJR/SgpYk90DYBpKW1MttPe6WdW1iUQcM3RvndriuCEw2Vme/FWwh+TvDlaeFJAG4caPyEWOkewpPSGCtWC23Dk1mup37os/EptesyTf09fnmwO9PKgu8f11wGeYvxmrl0/1h08EkxOP3JdxSW9OgEvsxdVguLMdlJOeH+A4Lwc5m//TeZY7GWjgwkO+Q3vzZs2NDMCW7HvCpNfgCI+49sA2xsLDAnzEXKrsDu0qrSXud4/mZFAxi0jyxwPyQLlniydL2NVQ45BYwCvCmX2/OQvej0vve970k7OKU1p8VLpZWpPf94/9YWdHQLAhnIkodm3rk6brRyrBforS8p09CE67BsF3nL3Ut2c29SNnOtIsfwjnqNJfBmfLPe3QF8kdP4ePO8mrjMsQ6YT7k2JX3KpzUKtvDO2MAiQHHSukw72b97Zy+Os371E3H8LzCSTML1QjQZE9rCb4cJTUCjTWpMcueddzbAAvOZhL7pMEHmN2BGM2MNY24liAghiyukTwtgKbGjB5ggYEzi3HJrMRdfYJK6JFt+jKpsjMpczAwvv2BFvvE8GR/YI7xohTQlk9gEufjiixshJJ9ASCZg/01CA+yd3UqADd+8AFk0MGn8JvxykWep0w8aD9eFq4DKOy+104RDO98FzDpniFBx6GPGxmEY3+RHU9qqHUTaAKyJ8yA4xQhom23J+pT3rgGPTPTcqQnICFx9pDkCe8ZIGm3FkECn9vlvYqCV66AAU/mMkW80ZTENaGBsaeHKSHCUZdC4jY+dOcZUP/EP4eJ0cWUYR4JbGRkoyyWTVj2LBqCK7gkmATP3ZdK40R5v0Wh8J/jQ1tjiAbxGKGuTwF3tIOjwn/4RjNne+py4ANwdaUZI4ycA35wzrzYvnD1x8NV3x4aHvhoL9h+WOyPRoBP4oviYE6UngPJjLiT/j1QeWWUupCyVjkVGcLd5bxHKeySzDHzOWkQhJUtKJZi7jhwhszL91jzJXUpzqQiRF65oQ8exytRucoxcLtMah/Jvv5WJfp0WTzLTHcJloH+nMtrLbP8b+Hv00UebNuU3a9S3v/3tMePjyFq0QPfMa9y+/vWvN2Au3+WTvDcGZHintlpXjS85mHlGA1/tZbT/nWXs6CcjgPWLgry1bcFbNi/kXcydyjFfMnaPxVidDBad0k72u+6pc2PfS385lpz2wskBXxC7Lb8mcQIFkxjwKrdpcxW69Bkzit/JiUXj2yzIuhqms2DqOOuOxRQ4SKZRtoWWZQU4oH2U27LFTAAmFn4LKRNtBpACTgAeUKMdgBgXorpMMFadtIQwaWdshm8An/gFaQEB1yP5rU8AXlqKWMHsXgJETApgx39p/WfVSUCU75zB84Mf/KChCSDiPWYEaMVKqB99CZrMAwgCdekiYNYHLtKUbSzUS1uTh0aALgRVmv4F6iqXxQdoLBmfywIABFAIGsKztMalCZ4lj/bHnQFEqot2687KvMsz2+yJpsAb4W9MjYl6S8DqHU1Z/40jsATU0fyMGdqnFUxMhDFNQClOEHjjTjGWgBcgmHS1sCnDeEmj3mwfwOp//l2fFXx14gGACd+3WujTHT17rYnBVUdHz5Q5o/JOgq92HqNcWHDzujEWKcpFCVRYtigKZF7KQm3jkhNDhJfJUXNW3rQ8m6cWa3WYZ+KF0lXGoyAOiRuVXAXUzJW08iufpcfco5DmHOtEk/KdOQugkhkszuarekrFhpxSLxmVyrAyABNKpjWFUskqDVCmvAAMeTDQUNwXC5I1RF7KlvnNOwAAUpgpceU6JJ00FuCU2WXbR/qt7cAW2lmsrUEWcjIm85DZFDkAiQzL9xRLINDaRIbpn/G2DhhLBgXyNtc2MjotQGhjzMlNclY5KfOz/ATwI8V8oYW1oV3pz/wTeWovi6M1Fc9ZxykODAcUXGPdrnSPp3zziVx+wxve0NANuOwEqMcqCz8kuOqUVjvNI994WqyjndI9Je+4Glv90cX92EGReKLO8Qtdk5PlKS09CrC92UTGDBZ4KN4EJlQMDItHqXGxfrHmYFJPkwbgYAZnjShN1SYWoEBAAGkJiJJYAI8FVToThgBIQSQNLQhgMjkAFu00WBlMKw0hCGxlmZ76gLkIIALKJPSbFgm0lWkJEPWaaJhUHQQiV1sK1JL4LEidhIRylQMAAVq0JwGeaOoJ4GiLuk1I38tyCS/MBniYuGjLOuS3CctSaGJyF3Ol2PkEjOqbSSSeBFgkNIArddIqpDHGvrOeGee8WDzpADyxEuTf+UQTbTKBvTNewBiBlWk8CVL0lh5/iHlQH0GV6fAFgEZL1sakC5qhN2GYfcw8zM6AsXYTfuiuPfgit29n2vocvxzYc2nViinz9olZ+x4YfUPTN/FmJ3pwCVpY2y1agAhFhYXE4kE2ti9gFFHKkxCJco7La+472iEXnjIveUPOWeyBtFtuuWWTkkzGAmXqpWyyaue8zPYDLsAbOVfK0fw+0tPcI5/VaX0wh8u02k12k2ulFcf8lM+8JPvFOAGUqfgBXuSpvrIO8l5kuQALRQzQAzJZxLUjv+cTWKPstrcpv4/0BAJZztGKh6AEjfJouzaTowm+jBVFkRJsDMShAaZi/eRJRZMlTJuB0bLNFFrrmW/GmEs4QXDygb+BQXK9U9sBZ//GcmN3ytvpnf75993vfreR3dZzHijrpvaRo/pQgqeUrdlm/bYu5d88WTxT1jwuVWWnMSHbwHNCnpeWKuDXemUdBMjxMh7PPHAC/rc2ygccK9d34wKQJl9nW3wrf2dZ7U99wBMAI8WKgpRj057W372zFsZJt/xmHPmCu564DaOjfO34clOHyoI1nnWhtD4BWhY0g21ACAcmPou8Cc+1BASYgFAzd5d0BAumxpzSYVDfSiZP8MWyo4607GSbEBK4MoDSWmhLJlAHjUXd8iAaYQfwGVjACWhhPUnrinQsUBZ5xE3wpY3Kap/E8qkX2JLXpGQNkxaDsUJlez0JVmCPdle+p8lyDaADQAEQ0XTRyn+CJ8uihbCMlYOPbgAMwcVVih7AIJrTIPUHHbUTnZVtEVA2MEIboxmYbAQAzdlY5nfACL1MvLRkaj+mBIRYpcr++A0QG7fsq4UCXUrXgHTAoQMggT/Cw6TiCi13gAH+eAVtvU+60GzRhQBQl35kO/Cr+tL6IM4NmAQALYyldp556nP88mDPo1VPHHL1XbHh4a/Egv2P3cRnnegA8FNyyABzLq2xmZbswvf5dz5zISCz8nd+yyeZ0ylvfld2hmrku3yOlpd1iLwzD0eqO8vp9CR7yclO38iJUl5Jo458r7/53/usH91YSlKGt5eNDumFaf/mb3KTDEwZ1CnNSO+A2XI9aU831hhpd3se/TI2I7VZnZTUTnQkg3livve97z1Jgc16yDTragly89vWPBkqeJTKuDPlaCd5TnEGqtMiCRwBU6UHCv2tZzn+6GLd5iEDYK1NwlNSTstr7gCpXItohaetWwAxwM5A8N///d+bwkp8914+oIuX7Ec/+lFjLNBe66uyeJ6SDjCL9d/fxhloA67aaW88rCM2yAC+2qys9CpleeWzZ8ZeccAN74jVz7x1cnY7WsxoZFBfVgRpAg35dz7LmC9EhlppMAkgpHPyr7w6C5RYcC3wWUYCKgLDAg+U5DdPg2WALMwGDKhCqEwDYABZmL00O5sABhKShb6BIXVkPgCjBF/pVzYA4gEynadBtZBb/Ln0ksF8A4aAzzI92olta9dMMCiUjgmAg2TmzIvRU1Nl+Sndm9IQBBgHEATMlGNi6Id2J3DlVtTeEkDLz91L0KEHKxtmzro9gTvjBLyUlkz9NbFGAl8mWTkm2khjTeGqbIDJeNC81a98kwTQ57Y20dVN8Ki/bJeJrJ/Gl4m/FBKsiLR4fAJYlu1g3WSSbu9nWXb9XYHYljzQE0Mrj4nZRz4z+mYNn7S+5ffN9CLvuNHwK9mEh0dKu7O8Z7EodxPuLO3alnboTycQtC1l7qi8rKg8EpTXXF/b26K/aXlq/7Y1f/NS/PSnP23ADtBhjeYypFRYZ8Ta+c0SR3azXgrNSW+Sd/5ZvwFtbaAEKwt4SrehdUtd1gA4AcgCoKxfZD9DCsCVIJqB4b/+67+2AGzctGS+OtDJv1wPgHAxXyX+4DHhTdEu64x/vC7ttAXKSuzCLayu0TeriFnU3+5oTcZuRztaEMACngMJLFlMWY80hlUiF01pLJiAhYUdEIJKARZWFyZuiy5zIWEFFDCHGwQ+Wn5xYA94Uo8BUs9VV13VuJ7EmrECqccgM1mX4A0wBNgsuhjFYisd6w7QZ6CZ4ll6ykUYmMA8gAUglC41/WRaBw70lWDFjBnUDVgoC6PoA3N6aYnRTu5Vpmz5uOvkRSM0S20FWEALgIbpnYsWQ2dZGbOBodExd3Qw1f7P//xPw3jqwlTcjw72M3beYWQTBd1zwgBy6ISxfceIABja6CeaGxfjAIiWgBKNuBTUo/zyP7BuoppgwCTGJxzQHjA1jmI5tAVQlhfdgEW/uRa4nY0b2hA+tCyWNzEs8nJH0NSlVS5AnW3gHpcePQF99eAJ4wMU4p0UCJmnPrccw0qPgh6tVvRNnRGDs+dHT9/oJ9xXuhV0a5MLlTYTp02prCb92t+1/53ptuVJabeL1FrEE0Lusury0DB6UPLJa+uD9ZyctV5ShKVhLbImlXLZegVH/Od//mezHmofjKAuZf/v//5vA4K8Swuv9QlYktY69+Mf/7ixyKUhyJpApvsOgDl2Rb3K847BIg09/vZfHmudPnER86IAWbx2vrNs8cT88Ic/bHYWe8dIA2z6x6iUZbU/e2fMi2Ovf3M8baObCHpGSjd+RoCogQXItawMcLGosTL4byFNSxJTKWJJTwMxiNLYtaOTzKQWdd8RkuvIwAFfLEmlyd5AWPwtyEAcy1i2w0JvgLNe71l3MIPfLB9ADMKxMGUgvDoRuDRrW+RpqxZmdbDKMX2qk9YBlCiHFayMS8KIwBAmANSy3+WkABK8Vz/0DlBypbHeZF88gSWgBQiEvDMOwjftQheWPnTMvEAmsFa6brlBSxpmHQBcgmYHCSaA8x1QBlCAZRMLSEntEW2SOaXVN/RJJs/y85tdUIAWgJexgqx4AC4ael/G4BkPtM/xAMzFmWUaWgmgh8ZclUl/tAfCCIRsg3q8w0csD34bQ/0y0QDNTFuf45cDey6tuuPg594a5z345zFv3XAcz55Li8ove8LYk/U8NeVuVsYXISDWCOsqQwGgw4iAJtYzSjfDCYBC/gvlsT4BQcoEcqzjSUNlCCVRpve5hsEcZD5jACVa3cCgGD/xgGIrrUHyk+/WMfFyMIR3uf5bZ6yjvlu3xT8zorCu2Vxh3dYWCrq1SWw26xwDCuubb8CYOrXP2pNgL/tQPntnLY7jb/29WP/Ct0yO27EsfE/4XYImljkmSuBmT+h77WNdXCoPtPFAqzdmHb4hFp//izEwf/P2/0qnNjpVS9dus0YwjAA+NjZQehlHWJUAFIoxpdw34T9pBGCI8Y8nitECAGIV46VgTBAiQgFmbWJMYYzxm6EASAPsgC4WKRv3PBkaADqbJxglGCAAJ8o0YxCQxOukHerQbl4rG7co5owUDia2s1Z9gBRvmH9ORMg5bH3nKRK3xrPEGqdcRiOgj8GCIg8oamfme9KzJc5c6M5gtJrfHedIx5cjF7qHTizMAD23B9w/ieh7KH0qHeo82u15wJZxF2r3DkXLFvJRLtbe7WlR5dx2XSNLQ8D25i3ghstPaAyLT4awaAcQxBvGxZjtEs4jJCRPLhCaIuaKByXDexgzACK7Y5Wb3hSeCyBLTJX4K+CMJ0aICiAm1CdpIQwHOPLd7kahOQBixleyivF2+ZtnTPgKy1q2k8dLO7M87/1Wbob4AJdAmjbxIGVe7VBe/t3+7Jk6Ow67/FWx/1nPmRy3Y3sFe9LfGEhMFNdnOVh7Eg1qXyvA2rN5oDsO3PjKOPf2/xsLVh0+ouBFI7GnBDg3i9CFXBB8E7/I1S/ehMt+PDQlfywwAoktOM70on1ztVAMyzJYGywUdnen+953C6XwBYtlbt4p823Lb6ECdkpqH3e/ssYjJ3NhtqiLKcrFOdtiAWdlUXYZZqIvFldxO8I3LKSTGUbAnWaBVa8QjWzPWE9hL0JphEoYI/QwDiUtrCFiWy3q4o9z1xxeYPmRz39xskCLUBX5ucJsFAIgyiMqxmrTzvzdOLa3Dz/jJ4Cp/Vunv0vadvre6d3W5CnLYQE0f8t35e/eOUvijHs/FcfdaIPeiJtt6oJSEq3+rvxQeaDyQGce6InFJz4nDnn+r8aMxVseIdOe3kLqrCdxJ2UMrJhG7hjxJOI9uWy4Vdrzt/8NvGVcLZeNOBQbjmzeyVjKzJNnM7HUA2LeA1tiXv7jP/6jieEpY0gz30SfFjDgzu5wZ1PZmGOXmliYtHqMViawxPrB5SQuyPZ9xwVkmwVO25iEXhY7wdsAEcAmr2MN1Mn1JIZIDA8X02h1juebeCOxP9xaaG2Tlc1JJZAdqRx5WWjEO+kTFxewm+mNg3HPIxPEveZZVoCW9OJsubdYhASlA5nyA4Ha4+iH9t3wWX59Tr7s4pYU8I8fWeacLWbe2Tw3Ir1bfdHVNzu6ep2+MAkB9yNWVE3QIw9CpU2lTeWB3YMHmpOqCdL8P7Kgt2ACWHktF9kJMIhDETuaC7kzEKUrj8IZr5wVdOycRbE3mceZfhZ+LhhWm9wtZuFgKQNegMLcqJL5tvbpSBgAMgOWuajsZGPZG8u6YMu+WKAEnxYzeROsAJFok5t9uIj0S2yQ9iYN/XakAACYm5y2tj/abHEFvPJYAzv4lV3u8h+pfFYssU2Cw9vTsPJwi4lDyrKl8b4TrdDQDj0uurIsLjDWz/Jd/T3yXNxW2gjOx5eC7Y2d+ZNuyZHK7hmaHmtPf1YsP5LVdBLBF6an2ZXnJo3UiPr+qWOKSttK28oD25MHumPtuS+Mk1/9SMxZvuWl7e3jwNXEelIuwgAWKw4AlOntIrNYl3er5rfRnqwgdnWV5QMprE4sUYALt1a7JciuZBamjLEZrY7xfGOBEeycrjN5uGNYb9pBQ3t5jrFhJSpjiFh8MpYGTYAvQFFZdqkDr+3livmxqw69289oaq9zrL+taQLM0S/TcvEJ5M7jcPJ9pyc6WKQByBIUS2v8Ldx2Wvu7E+DKMllY1Nm+wct4sqZya2ba+nzqZECOEcXJCQWUGJbXsWjeN3dpnPP2r8SJr/lgdHUNXyPYIc/EG87c6xTd1Ko6FDpm48abh1ZgkhI2TO/M5Xke1njLkA7xCLr0I/PNb037+d9ptWkan0gbdoW0GIsmWp7Lsiu0u7Zx4vO40myiNOuJ5ee+LI581ftj5vLhu01HomGCL9adTMMK5tw58sxZebbDiw8CMBxfk+nGelJ+5SWDS+sPUMc9wvXlCjBb/9tlHBeXU8AnC3wBPQCTsxu5CLnnxDNxrY0lpwEMrlOuN8o865WDMO1sywWOpej73/9+cwK6b3lEUNII0OSGcxZTp+NuMt14n9yCACHLEguYnW5oxlpZguaRypOfZSoPCTUG3knPPewkd2VJ4yYPZyR2WkvEsjlNPa1+WR9wWMHXROftDkjfMxS9c/aLnhnLo4sLsrP3pC45OgAAIABJREFUY2INY9a2Q2FbNYwRGvOkRgJfNDiBhqmVmODjzZ/p5DXJBW96J1C1PCw00431BEoIyzR9j5V+V/sOpHJliJ/Y1dpe2zuxuVzpNUF6NSdV20LuP4H65GDhpGkn8OWMPODIlSZie7jQ8oaMdNtl/tGeAs+BFsAt0wF2LD8ZlA602KHGKpRpPCcbfAF5zk0S4O88KBYjsWnjAV/aQyEGtuxsA3RY5cRxAV/OiGQpVAeaASPuFiw3GAC3DrfmJiTP28+gLPs+nt/cgcAXyxL6OVYBKLR2cHuOVgYrifXK2uCMSePDJctaJx/FH430V3wXwC1WzViVGw1Y2lg1bUBor6+CrwnO2c6g50l0bafztv7d0z8U+xx8TCxcdchocmL8nbEwC27sBH4wzEiAzKnmpVk6mTQ7iFlLH3i+95TWpKLh+Nvkos1h8kzn4DRaVP7tqS1l0Kf0duEw25rYtDMaiF1JNI+yvLIcbXNIZ75jStYGGifrGc3EhPCfoFN2mirl0TZllO+yrG150m7b+5zlMW/b7pt/q7us31iw4OX38qlfhJ0tut7TXkfbWaMs41uWUX+Pf05VWu1KtOqOFSdeFEc+/+aYuXjlqDzfCXyZS+Kx7IAjw8geW/RZjMZraTY/gQLB3Hk4NZkjUP0nP/lJ802sF/cWtxULTun+AmhYviYr5gtIEZdEDtghyDshQBm4zHOfxuJx7Sf/tZMVLU82F1+jL5mfe1KgM+CS7/LJquTOQ1bFfLc1T/KcZckRB+Q7FydZKjZtIgA567Z7kYULbchs50zZmZnfraWAdBnzx0DgnTyZLp8VfO0a8qJ/3j5x0SNfiTNe+4EnFLWO7e748kmDbvCheRpGCbJMsDwDxO4Mu3Dy/iSLth02mJlWw2efDCVgzU4Xk4sliYbTCdQBDcAXJtYGT65HgMnBZyY6H70yxBo4Gd8hbMrzLvMBjgQRzU8AHe3GLhsHsrH0tMcRmCj6xTxM42JeVyefLw2I4OS7B+DsQCE0pOOS1c5sn/y0XdrPqLsjnqBvGaCbE658oje6oan/dgHRqNEJvdEKPbTFbqcERtwMTNn6ii4WAYfIlW4L9fibKdzWbxqZcaNRGyc0ybbgAeXT4tDA9RKAZn6vz/HPq0qrXYVWvbH60pvjhDv/OGavPmJUXu8EvihnQAmXYY65hRb4KpUlAIaCV4KmTA+suT+P5T7fmbNkGu8A0OA/4ML1BagAEZmW5wIwK08sz29AEOWUrMx3Yz3JK7sB3WMprbpY9MhL5WV+YJPFaiQlVzp9ABgFzWuDtYZczTKEe9jx2B4H5btvTipvB2ZonnFvpQKaZbY/tY/yKY6NDPedVY+7sHRrSmctSwAsXafybYrQj6QrK6H1IC2S6iLH0zUJhLL+dVoL1TEW+Cr72963+vd2lDN902P6ypNj2pL1k+N2dFKto/XTREo4MBEDXKxDGAcAsoMHc9KKmIkBFVYnAIRWgwkEav7sZz9rTK8YD6AiLHISJ6Mk+HLuiXfAkgmmbpMeIwMCFn7aILOuXSLaQjAIZgWSlEPoAWMYmPapLNooK1AJQggN7dYvQoNWB7jY7UJ40fSUT0uS32+Hr9IonU9CeAJIAkcBFmWgBSCTMWfZv/LJuod25bvyN7oDsLRcwhrdgE/vfENT9RLc+ggwAUj6RmC5yBQ4TNoAqOWhc+pCJ64Dh9wR5tICcM7SYXrXZ2Np3IFfQoUQAni3VxxgSZP6ezsKlB1kwt9pxrgFTLgKbUZ0tUa/2xH4sqgCBWX7vQeegAoAhUWl/dgACqITttPan/nJFTKU3CJT832np/looU8AREa6c0/MmYuSuQVzfmd+8o2VRrpSHub3Tk9toqTZDQZIUsYod6WcUxa5r6+U1ywHUAAUyRFlADhciFk30ONUcd4WlnjAS//JIDJJmdLLzz1IsfQty/fUJnJZTFn5frTf2ii0xuYF+SnpFFJ9zXwMEYCiOktACaBR2o0d2ctSpx+ZT8wacGotIuud2M79mMBNPQwDpSUs83oCt4Ch9aR8n7/xUnk/Yb6vz+0rJ7t7B2L2olUxY/7S6GrkRsf6O77sOLBMuhb+HEhAwwKemkW+Z50xgUwui7d7+YArIAgAoS3wZwMxmceTFkBglO/awZeJyGyrTtadMnBUvIN3gEeWYVKzBvmbFpIXcduNUvYl03uaTKxbNFJm+jLGwO4iwAPAyTzAB6FjS7J3TOB89i7xPuywwxrLlP7bBQP0Zb6sSxo0IkwAPi4B1qzUjjK9/rGktVuYCGL0Jhy4WrVRfTRJbZXeziE7kBI4KxMtBISmsPOOsEYzFsus1xPgIvQJEuNIsyZoAFzWRuCTRi2GpcxXf49/flVa7ey0asWSw0+JQzZcEzMWbA5F6DRulDSykYykKJJjucA660tMJeuy7/k+y6HQARuAWr7zZIm56qqrxjzyQHnqZ0FKwEAJpMCSa0IuKGF276UnQvmUUBZxcrK0lpVt6PRb2iuvvLIBG4CQ9pfpyBSKO7BXuiK9pxRSHimKZFRa3ZImLHQUYWCV2y9lu6c60VBMsDUh+1rWTVZx9WUsXPlttN/6ABxTKMnxdllM/qOheLBsq/KAQmNnnaKwd/JkUJyVjc7kZgJk6w56GLv2tqkDHxlH61IaI9rT2Zhmg8JEd8+2l1P/3jZZ1Dd3SVzwyBfjtNe9b3LcjuISmM1zscYAGGikgeJapAXRDly2SRPkwsLIJhIGLbUGu0nay8N0wFMyW4IvGg7trbzWAIDRPpambBPNKoPHAY0EXyw+LGXJ+Jk+n9pISHEpAk20QcxvYpTgS35AhYDIvIJA+exNPtqNb35rR3usBYGhTbQl9GGpo7USVO2gFmAFoJL+WV8+AR/gkzAjBNEHWGMhI5z0vxSqLgmnnZXvCD/gC92y3HwCx8aB+5aGbEz1i7VNH9EoXc6Zpz63bRJX+u1M9OuJg656Y2y4/7OxYL/RLSlCDMgNrjDWk1LpGW1My4W8TDfS+zLNtv4GCgCK3WUOoxn3LDlXyrhtpdNIYzHS+22tL/NT7lnSRoptUz/w5VaF9rUjy6jP7SRPBmfEXsdeGvMPPXNywBctBOrOQHbgiqZU+r0NLq3ARGaKLgNJWWKAMemBL/FKJfgx8WkyJYNgqJHAF2tT6YdnrmedKU3Pr3vd6zqCL6Ze4KusK38DhCUoZIbWT4CIUAW+MkaMG5MJuRSuNFsgEw2yzHwqt5yk5W+TBvDJtO1PE4vJubS6ScMy513upMp8rGfowSUMfNHiAMj8bgwAslKr0z4gy/tM58nyxeVMmNEElVuOXaYt6Zbv6nM7Tfg93S34VPe/1R2tgTnRM3VhtHrNo9YWc6Tkc3PK/GeB9uw0V8r0O8NvbR5JsdsZ2jfRNpCtpbybaP6dKb2+8GDgJ65L4KpcO7R1d+rvzkT7rWmLu1/7B2ZG38D06Gp2SXdcAzq+7ChUWJTc5J2Ayt8AEGsUQAYAAEqsOOKkWHL4poEtO/Ok5c82yVlQlFUKJf77PGAvO2wxZ1nKbb4WfTFfXG0ATmlJAu5Yfsp4CNYZ7VEesJduvzyXBlAiHEvzu/axwjEfM/Xzv4uVYAkTOwDkSM+0y9XGzSfY3W4cZmdATOwboOQEaP3nXmBFG+2UZGAIwMu+tz+VgxZM8MziACDzNVct65YYBWBTOvRXnzg64+LsLn/7luUK6kSTUis0gQFAO6do7NwE6gLcxHyhLbBnnPSRQMAHtpeLCyvdCllPfY5/jlVa7cS0arVi3oqDY/kRp8fQTDvRRgZfdRx34nF8qkF6LX/TGrOnzoP+OYvj3Hs/HifeyJg04gaWiU0SsVKASC7iQAgrCWCVQCxPLGYpAwjshhMoKZAbuJAXUAJuSksJUMX6Uw4YMAD0JOCTJw855VrLuuRhlRJsn23zDujIAwwBPj567wEs7QGQgEcgKetVJ1+9mDCuO7Fp3HBchLQOh+/pN4DmO8CJBsoBWIAZ7jvlA5joIp12lG3L+vIpX2lBy/flE5Divkx6s97lbkdPbkkWKu/RgmUOSOMuZVnU7yzPGPhexkoAw2gGmHElajewCcACeJk3g/B9N77qZXncnTTn7Gt9TkxG7L706olDnn9nbHjoizF//2M2zYXdt7913OvYVh7YGh7onjo3VlxyU+xzqjjwzRs12sqaGHEtroCGhTmDIxXIApLuyLIC6e20KV2BwE2Zpv33SN9Het+ev9PfI+W1IaC0lLXnFeBYWsXav/sboMn/aFLWpd+sUCXo6VTGRN+xMJXnj2V+YFZ9o/Up0+azbG++y6cg3BJ05ft8AoOAWP5dnxObT5VeuxC9Wj3RP3dVTFm6PnqG5lTLV7XwVLlXeWAEHshzSGGd/P0kWfekFyMUtjmdxZiLLOOe6gKymTaVFpUWlQd2Ux5otWL6vMUxf+l+0T9kU8/oSmTlg92UDyrgGBMj7Om83z9rYZz3hsfipGvFcG8+766NLnWCtBGkMlYVLpUHKg904IGeOOyaO+IZj/xFLDjg6A7fqyytsrTyQOWBruieviAOve6B2P8Sh65PUsxXJWydXJUHKg/smTzQE1NWHBlz1l8YfbP2ruCrAvTKA5UHRuAB979aJ1rR1V0tXyMQqS6ke+ZCWse9jvsEeaDVHX2Ds2Jw2l7R3TtU5UldeCsPVB7oyAN9M+fHyTc+GEc+23mZCcSeJG+e9KJjYbuyoBZQPtouw125b7Xtuz//1jHeWca4Jw5/zutj44OfioXrRj9ktY7ZzjJmtR2VF7c/D/TMWhhH3fzBOOxq1wVOwm5HVzq4smIiO+l25MBrpys6nNXl/Ks8K2xHtqnWvf0nQqV5pfnk8EBPzDnk9Fh+9nUxZf6y3U5JnRwaVV6rdNzTeaD1xH2O3I09k3O3ozO1XCsz2kGhOxPjaae7JB0X4bgLh77Wuwf39IlR+78zzdFdqy2Ean909QxGV2tEV0IFZdUVVXlgD+eB3mlz4unPfk0ccLZzvkaUFeNfjNxU77JYp8JvrdAc7UyprS1zpHzAokNO8xwqF4O767C8+3GkvPX9+Pmi0qrSas/gge445Fmvjg13/V7MX/O0rZaBewat6pyo47zn8kDfnCVxyj0fj6Ne5oT7SXA7Al/uOEzw5eBQ1we57sYFzW5oT4YDslx07eobp61z+eXp7SxRTpo//fTT49d//debewe9c1ekK3tcZeO+RDfSKy8Bm4NcXRckjxPXsx1Zpwth3/rWtzYnzbvk2YnrynH1jzTckE5kd7J75qnPPXeC1LGvYz8xHuiJvY6/PPZ77h0xbfF+T5Ih7hF0/+qRRx4ZDie+4IILYu3atc1F1e5EdSBx1uc2DvfSlrdL5Lf6rHxZeWAX54Hu3uganBNd/bNGs5KPv5MJvlzF4+T6t7zlLc31QcDMlVdeGV/+8pebq4AwDnD1ta99La699to466yzmnSu4QGkCB43s3/yk58MIMl9ia4i+s53vtO8c3u7q3i4OFmrlOc0d3cLqvOkk05qrspxr2Le7ejC0S996Utxzz33NK5FV+v4+9Of/vQWJ7T77g7JytzjH/dKq0qrygNdT1yQ62DVjOnY8pBV99d+/etfb5RNl8+TZ65Dcw3a97///QaMoSMZ+PDDD8c3v/nNBoBV2tb5VXlg9+KBnqHpsd+pz4rl68+cnBPuE3y5iJqV6gtf+EJjVWLRcq0OEAbwuIgZWHJ1D83OFTvyAEI0QeDtW9/6VgO4kukExn/1q1+NAw88cBMwAsK4CQG9u+++O37zN3+zcRnSML17/etfHx/+8Iebeli03L+Y5Xm6y1GZ2pHv3cd4//33b/o739fn7sX8dTzreE4+D3THuguui1Nf886Yu3yznMp6yLrDDjts03Vq7lplrfefgplXrAFf119/fXMn6rp166os2sPjg5J/6nP3kVl9c/aJ8+7/fJzyyl+fnENWASfWKuDKBdj/8A//EA888MAmtyP34x/90R81l09zSbpYmrXKpdr+f/GLX4xDDjmksXwJfi/N8KecckqTt3x35plnNgLKbkUXdH/uc5+LBx98sKnvHe94RwO8uBkJOcCO4CsZmCaqfu3N9y6XZj3Lv+tz92H4OpZ1LJ9aHuiNxedcHwe/4t0xbdkhWy1DKKo2/hx++OFbXcZT28/KR5W+lQe2ngdaw5ty5q6KrlnLoqs1CSfcs3wBX2KoWJU++tGPNhYu4MZlzi7WZgVzufNDDz0UH/rQhxpLl/cnnHBCPP744w1AInSAL3ER2UHg64//+I+3eCd+AngCvj7wgQ/EnXfe2dSnLv8BNRYw7VG2OrI8T7EXyly2bPO28HvvvTduvvnmLdKVeervOukqD1Qe6MgDLRfkEqT5f0u3Y8c81apTZW3lgT2OB7oHpsbCw0+LefsdNTkxX0zkn//858PzoIMOan4DTSl0WJ5e9KIXNQAMSHO2Vn675JJL4hvf+EaTzxEQn/3sZxsgld8F53/qU59qAFy+49r82Mc+FoODg/Hc5z63OTYidy5KI8B/48aNjWvzrrvuaqxkedn3/Pnz47HHHmusc2lN8/z93//9KNucddVnXXArD1QeGJ0HWrHihEvi2BfcGXP22X+TbBs9T6VppU/lgT2NB/rnL43zH/lKnHDT+ybH7eisLGAI8EJMOxPtfrSbkcsRoLrxxhsby5edjMDU29/+9mZn4u/+7u82eR3/wPXoCAixEDkorFYsaeU7ZditKMZLOvFa3ItcjuK/PvGJT2zaYSmewntt0Bbls77ZbcnyJj9g+JGPfKSedl81sU18l/xXn3WBGJsHWrHmwhvj1Ft/N2avqEdNjE2vylOVRnsoD7T6o2fZETGw79Mnx+0ojosLL4+MwFiAzWWXXRZXXHFFcEuWzMYdedVVVzVHSThbC0DiQmTJcrSE2IdM7/qf9nfSck329Gy+mBJwyzLTypVleJ588smNlYzL0d/SqIe1zRlluTuyzFN/76ETpILQTfOvzoFxzAFux4Hp0dU3c7SzeypN67yqPLCH88Dc5YfGssNOjVbvlOhqjRieMA6hs4sTEnhzztgLX/jCOil28bGsIGH3n6879xi3Yt+Tnh3HvfyRmL1qWMHbudtb+aWOT+WB7c0DR7zs4bj8178RUxeNujFn9x8Y4Ku0sm3vgaj17f48Vsd4zxjjVndPLDv9+jjmjX8as/Y/LfqmzY/B+cuj1TcUrZ6+GJwyI/r6h6LV3Rv9g1Ojf2ha87unbzAGp86Int6BaHX3xcDQjOgbmNp86xsYavK1evqju6e/+d07MBRd3T3RPzitSStPT99ADE6Z2Txbrd4YGJre1NHV6onePmXMbMrvznYMTomu7t7oG5gSg1Omh/fdvf0xOHVm9G5q47SmDu3t7R9s6pamaaO+DEyNbn0ZmBIDU2ZE08be4X6qEz22bKN+DrdDmcNtnNbcb6dObezuGdjUT23TfvU0bezuje7egeE2NuUro2zjUENHdGr19DZtGqbjcBlNG7uLfvYNRtIKzYfp2NbGKZvpODwW2tg/TKtmPIW96OfUGJgyfXg8t2ij8RwuY5iOT7QRHXMs+nOss4y+6HliLPBGq9XzRBnTm/Y2YzF1ZkMLZeIr9Q/TynjOGm5jT18MTZ3Z8Jxv0gwOKaMnenqH+9nbO9i0GW18960Zi6kzmjKaNk6dEb39U5pvw/1Eq96G15Q/zLftbdTPYVoNt3Fm9A9oY/cT4zmzoTdaKkOdvhlP9MI7+j40dVbT1uEy0HHaEzSYMjxnevoavhvmW23sjb4nxgJ/a9umMsyLpp/DNBju56ymHU35aNXwXHdTD35seKIZi1nNHNjURmONjpvaaO72Nm1KOvb1a6MyeqJnytxY+LQzY9qCFTF1xVEx64hLo6tnWrScC9jZ6LFnCM0ROj8SUer7zsxS6VLpUnmgNTB8enXfrDjwhffHyW/5QgyteHrM2P/kOPPNn401574sWtMXBe33xJs+GL1zlsWSk54dG+79dOy9/sLo32t1nPr6/xtHvPD+6JqyINZd+uo4754/jZnL1sfsNUfGeb/6J3HgBa+InoE5sf7F98Vpv/zbMTR7VSw56hmx4S2fiuXHXxb90/eJk1/zgTjuZW+N3sG5sebsl8R5b/5kzF93YkxfcmhT3qFX3Rpdg3Pj8OfcGWfe9nsxddG6mHPIWXHevZ+LlWdcG62Zi+PYV703jvnF90ZrxuJYetrVcd69n4kFh54V/YvWxSlv/IM47Ln3RNfQvDjo2TfH2W/605i2+NCYs//xcf69n4z9zrkhugfnxjEvf1uc9toPx8DUfWLfEy6NC+7/dOyz/hkxOGvfOO31H46jX3xfdPfNif0veEWce88nYu6qo2PG0qfHeW/+RBx86S9F18CcOPJF98bZt/1ODO21KuY/bUNccN/nY/lJz2naeNLNH45jX/6uaE3dK1aec31suO9zMXv/k2Nwn4PjrDv/NA66/I7oGpwXBz/39jjzjj+OoYX7x7yDT43z3/LpWHXqC6J7yrw4/lXvipNveix6BxbEilOeHRc+8NlYdMjZMWXu8jj7Vz4aR73wzdHqmR4HX/raOO/uT8SMpYfF7BVHx4Z7PxUHXHRj42o++sUPxGm3fDj65yyNvY/cGBc98IVYdtxl0TVzSZz6+t+Jo294W3QNzY1VF9wYF77l8Zi59tgYXHZYnPvmT8UBz7wlugZmx+EveHOc8Sv/T/TNXRl7Pe3suODBz8eyE66M7qkL4oTXvD9OeuX7G1qtPOvqeMZbH48F+58aQ9r4pj+M9VffEV1dQ/G0K98QG978iZi217qYu+q4uOjBz8d+57+4WeiP/4V3xCk3fyh6pi+MJcdcHhc98MVYvP4Z0T1zaZz1K38YR774gejqnxFrL351POP+x2P6yvXRv/Sw2HDf47Huol+Krr4Zsf76B+OsX/mjaM1cEguP2BAb3/7FWHz0M6M1bUGcfMtH4oQb3xNdPTNi9XnXxYb/83jMXnlMTFm4Os79tU/E4Vfe1rjkn371m+K8u/80hmbtG/P2Oz4ufvsXYvU51zbtP+Wm98bJr/1AtPpnxb4nPCc2PvSVWHjY2dEzY0mcf8/HGxrp5wEbXxfPeMvjMW3ZYU3s1DMe+HKs3fDKpp9HvvTtceZtfxitaQtj4VEXxWWPfDUWrr+gmU+nvfH34kRtbE2Jtc94WVz89i/GjKWHx9RF+8WG+z8Th1z2y83Bp0+/7r44/+5PxMDUxbHggBPi4ke+EitPe150dQ3EaTd/KE67+bHoag3F8pOvjo0P/7+x4KDTonfaorjo/s/E017wq00g/UGXvyEufOAvYnDvtTHtgNPimb/1w1hz2S3jlZEVfFVgVnmg8kDlgQnzQM9ATD/8wlhwzsuje86y6F92VKx4waMx54jLo2vqwtj7gl+OfZ75puiaviSmHXxurH7hozF19SnRmr08ll7x5lhy9quia3B+zD7h+bHqmodicK9Don/xobHqmrfGgqOujFb/3Fh43iti+eX3RN+05TF9v9Nj1YveETMPPDd6puwTyy69M5Zs+KVoDcyLOesvjdXXPBRTlh4R/fMPiFXXvC0WnPqi6BqYGwtPf1msuPK+6J27KgZXHNu0Y9bhl0TX1EWx5JLbY/HFt0XX1L1j+mEXxcoXvDOmrDguWvNWxdKr7ouFp/9CdCn/5Gtj5fMfiv55+8fAsqfHyhc+HPOefnl09c+LRRe8JlZcdlf0Di2JmQeeE2uue2fMWHN69ExdFsuefXcsOveV0dU3P+YedWWsvvqtMWXR4TGw4OBY/YKHY/4JVzdlLD7nlbHiil+Nntn7xpTVJ8Waax+NWYecH13TFsWyZ90diy64NbqGFsTMIy6NVde+MwaWHhndC/aL5c97ayw46SVNP+edfkOseN7bonfOmhhYcVSsuvYdMfvQixsaL77k1th34x3R3b9XzDzkvFh93bti2soTonfGslj5nPti77N+Ibq6Z8eCE6+J1Ve/LQbmHxCDex8ea659JOYdc2V09c2OJefeFMuedVd0z1gS09adGftd9+6YccBZ0TV1SSy/4tdi0fmvbdox6+irYvW174z+JYdF9177x+pr3h7zj39BU8aCs14Ry5/zYHTPXBZDa46PVWh14PlN3xZfenvse/Ht0eqbFzOfdlGsuf7dMWXZUdEzc1ksf/4DsfCMl0ZXa0bsdep1sfaat0X/nNUxtHh9rH3xu2P2kZdGV/esWHrhLbHPZW+K1pSFMf2Ac5o2Tl97arSmLY2Vz7k/Fp77qgZIzj32ebH22ndG794HRfdeB8baax+Necc+L7r6ZsXC82+KFc+5v+GJwbUnx34v+Y2Yvt+ZDbDZ59l3x74XvSG6emYNj8WL3xODi54WvXNWxMoXvD0WnPzi6GpNjYVnvizWXP3W6J2+NKYsWR9rb/iNmL1+Y9P+fTfeFvs881eiq29uzDx4Q6y74T0xddXx0Zq6uKH9gjNvbMpYcPwLYs2174yeBftHz8KDm77gIcBv0QU3x8qr7o+uob1iyrrT4sCXvi+mrT4luobmx75X3RvLn3FrdLWmxexjroh1N/xGDCw4MHrnrY5VL3pnzD/h2gZU7XXuK2PN1W+L3sFFMWXZEbHfSz8Qsw+7sMm3/Fl3xb6X3hFd3dNj1qEXxbqXvT+mLD86uqcsjnUvemcsOOsXmzLmn3RdrH7Ru6Jn/prombU45h39rBiYbyf05jj1UeRKFbqjEGe8CLamqxahygN7PA84B4w89SR8091Q/s5v0vneW1w/Il0K7bzCKOVzma57y7ODWmX5ncoo29Hexixfvk7fsq5OZfQ80Q7fOvVFm58ov+V3luF39jPLz3a09XNTOt/LMsp+KsPfWX57X+STH03L8qUrv9kAlmV473uZr/xW0irLcAVVWb40mU5e37KMkdrYqYyyHSO1sRMdsy5tyDYmDfKbsjcoCHNwAAABMElEQVSX32oOBC2/ZfvLMlyR1d7PzWUMHyqaZbSla/I9MdZblCH/+Nq4RflblIEGmzfxbTkWW/Zz+Fu2sfzWRsctym9PV46Fb0/0a/zPCWfYmkpqnvEPSKVVpVXlgcoDlQcqD1Qe2L15oIKvrUCsdVLs3pOijm8d38oDlQcqD1QeeCp5oIKvCr4qD1QeqDxQeaDyQOWBygPbkQcqsbcjsZ9KFF3Lrlpa5YHKA5UHKg9UHtg1eKCCrwq+Kg9UHqg8UHmg8kDlgcoD25EHKrG3I7GrRrJraCR1nOo4VR6oPFB5oPLAU8kDFXxV8FV5oPJA5YHKA5UHKg9UHtiOPFCJvR2J/VSi6Fp21dIqD1QeqDxQeaDywK7BAxV8VfBVeaDyQOWBygOVByoPVB7YXjzw/wMsWNF+98P6JwAAAABJRU5ErkJggg==)"
      ]
    },
    {
      "cell_type": "markdown",
      "metadata": {
        "id": "AJW0w-pq9iKu"
      },
      "source": [
        "## Converting text into numbers\n",
        "\n",
        "When dealing with a text problem, one of the first things you'll have to do  before you can build a model is to convert your text to numbers.\n",
        "\n",
        "There are a few ways to do this, namely :\n",
        "* Tokenization : direct mapping of token(a token could be a word or character) to number\n",
        "* Embedding : create a matrix of feature vector for each token(the size of the feature vector can be defined and this embedding can be learned)\n"
      ]
    },
    {
      "cell_type": "markdown",
      "metadata": {
        "id": "f3STaIhI_cSq"
      },
      "source": [
        "### Text vectorization (tokenization)"
      ]
    },
    {
      "cell_type": "code",
      "metadata": {
        "colab": {
          "base_uri": "https://localhost:8080/"
        },
        "id": "DJmE_GTf_iBJ",
        "outputId": "29de281c-a757-465c-c841-7f9bb68db0d7"
      },
      "source": [
        "train_sentences[:5]"
      ],
      "execution_count": 38,
      "outputs": [
        {
          "output_type": "execute_result",
          "data": {
            "text/plain": [
              "array(['@mogacola @zamtriossu i screamed after hitting tweet',\n",
              "       'Imagine getting flattened by Kurt Zouma',\n",
              "       '@Gurmeetramrahim #MSGDoing111WelfareWorks Green S welfare force ke appx 65000 members har time disaster victim ki help ke liye tyar hai....',\n",
              "       \"@shakjn @C7 @Magnums im shaking in fear he's gonna hack the planet\",\n",
              "       'Somehow find you and I collide http://t.co/Ee8RpOahPk'],\n",
              "      dtype=object)"
            ]
          },
          "metadata": {
            "tags": []
          },
          "execution_count": 38
        }
      ]
    },
    {
      "cell_type": "code",
      "metadata": {
        "id": "O2mZ_tUz_kr6"
      },
      "source": [
        "import tensorflow as tf\n",
        "from tensorflow.keras.layers.experimental.preprocessing import TextVectorization\n",
        "# Link to TextVectorization : https://www.tensorflow.org/api_docs/python/tf/keras/layers/experimental/preprocessing/TextVectorization\n",
        "\n",
        "# Use the default TextVectorization parameters\n",
        "text_vectorizer = TextVectorization(max_tokens=None, # how many words in the vocabulary (automatically add <OOV>)\n",
        "                                    standardize=\"lower_and_strip_punctuation\",\n",
        "                                    split=\"whitespace\",\n",
        "                                    ngrams=None, # create group of n-words?\n",
        "                                    output_mode=\"int\", # how to map tokens to int\n",
        "                                    output_sequence_length=None, # how long do you want your sequence to be\n",
        "                                    pad_to_max_tokens = True)\n"
      ],
      "execution_count": 42,
      "outputs": []
    },
    {
      "cell_type": "code",
      "metadata": {
        "colab": {
          "base_uri": "https://localhost:8080/"
        },
        "id": "fDs8gSmEDEQ9",
        "outputId": "b54a1371-6051-46b2-c0bb-97ee81d01900"
      },
      "source": [
        "len(train_sentences[0].split())"
      ],
      "execution_count": 45,
      "outputs": [
        {
          "output_type": "execute_result",
          "data": {
            "text/plain": [
              "7"
            ]
          },
          "metadata": {
            "tags": []
          },
          "execution_count": 45
        }
      ]
    },
    {
      "cell_type": "code",
      "metadata": {
        "colab": {
          "base_uri": "https://localhost:8080/"
        },
        "id": "mM9ezln0Cy8P",
        "outputId": "9e46bfae-93aa-4867-cce2-ea27632d0306"
      },
      "source": [
        "# Find the average number of tokens(words) in the training tweets\n",
        "round(sum([len(i.split()) for i in train_sentences]) / len(train_sentences))"
      ],
      "execution_count": 48,
      "outputs": [
        {
          "output_type": "execute_result",
          "data": {
            "text/plain": [
              "15"
            ]
          },
          "metadata": {
            "tags": []
          },
          "execution_count": 48
        }
      ]
    },
    {
      "cell_type": "code",
      "metadata": {
        "id": "lGjCmik9DfkD"
      },
      "source": [
        "# Setup text vectorization variables\n",
        "max_vocab_length= 10000 # max number of words to have in our vocabulary\n",
        "max_length = 15 # max length  our sequences will be (e.g. how many words from a Tweet does a model see?)\n",
        "\n",
        "text_vectorizer = TextVectorization(max_tokens = max_vocab_length,\n",
        "                                    output_mode =\"int\",\n",
        "                                    output_sequence_length=max_length)"
      ],
      "execution_count": 49,
      "outputs": []
    },
    {
      "cell_type": "code",
      "metadata": {
        "id": "E3UgcLjCEJ_N"
      },
      "source": [
        "# Fit the text vectorizer to training text\n",
        "text_vectorizer.adapt(train_sentences)"
      ],
      "execution_count": 50,
      "outputs": []
    },
    {
      "cell_type": "code",
      "metadata": {
        "id": "h6nyOOheFxcY",
        "outputId": "938870ce-fbeb-4db2-862e-3fc8d6f93482",
        "colab": {
          "base_uri": "https://localhost:8080/"
        }
      },
      "source": [
        "# Create a sample sentence and tokenize it.\n",
        "sample_sentence = \"There's a flood in my street!\"\n",
        "text_vectorizer([sample_sentence])"
      ],
      "execution_count": 51,
      "outputs": [
        {
          "output_type": "execute_result",
          "data": {
            "text/plain": [
              "<tf.Tensor: shape=(1, 15), dtype=int64, numpy=\n",
              "array([[264,   3, 232,   4,  13, 698,   0,   0,   0,   0,   0,   0,   0,\n",
              "          0,   0]])>"
            ]
          },
          "metadata": {
            "tags": []
          },
          "execution_count": 51
        }
      ]
    },
    {
      "cell_type": "code",
      "metadata": {
        "id": "xHrAyiUTGGYy",
        "outputId": "caf522d9-c068-4797-9e45-1c1627451f0f",
        "colab": {
          "base_uri": "https://localhost:8080/"
        }
      },
      "source": [
        "# Choose a random sentence from the training dataset and tokenize it\n",
        "random_sentence = random.choice(train_sentences)\n",
        "print(f\"Original text:\\n{random_sentence} \\\n",
        "        \\n\\nVectorized version:\")\n",
        "text_vectorizer([random_sentence])"
      ],
      "execution_count": 56,
      "outputs": [
        {
          "output_type": "stream",
          "text": [
            "Original text:\n",
            "Fire in Pisgah National Forest grows to 375 acres http://t.co/d7zxZ42QW1         \n",
            "\n",
            "Vectorized version:\n"
          ],
          "name": "stdout"
        },
        {
          "output_type": "execute_result",
          "data": {
            "text/plain": [
              "<tf.Tensor: shape=(1, 15), dtype=int64, numpy=\n",
              "array([[  42,    4, 3534,  372,  188, 1403,    5, 4178, 1722,    1,    0,\n",
              "           0,    0,    0,    0]])>"
            ]
          },
          "metadata": {
            "tags": []
          },
          "execution_count": 56
        }
      ]
    },
    {
      "cell_type": "code",
      "metadata": {
        "id": "IoqGe8G8LUbq",
        "outputId": "4d59f312-5d48-4295-f85d-69ee55b9c3e0",
        "colab": {
          "base_uri": "https://localhost:8080/"
        }
      },
      "source": [
        "# Get the unique words in the vocabulary\n",
        "words_in_vocab = text_vectorizer.get_vocabulary() # get all of the unique words in the training data\n",
        "top_5_words = words_in_vocab[:5] # get the most common words\n",
        "bottom_5_words = words_in_vocab[-5:] # get the least common words\n",
        "print(f\"Number of words in vocab: {len(words_in_vocab)}\")\n",
        "print(f\"5 most commom words: {top_5_words}\" )\n",
        "print(f\"5 least commom words:{bottom_5_words}\")"
      ],
      "execution_count": 58,
      "outputs": [
        {
          "output_type": "stream",
          "text": [
            "Number of words in vocab: 10000\n",
            "5 most commom words: ['', '[UNK]', 'the', 'a', 'in']\n",
            "5 least commom words:['pages', 'paeds', 'pads', 'padres', 'paddytomlinson1']\n"
          ],
          "name": "stdout"
        }
      ]
    },
    {
      "cell_type": "code",
      "metadata": {
        "id": "__cTpzYbGkv5"
      },
      "source": [
        ""
      ],
      "execution_count": null,
      "outputs": []
    }
  ]
}