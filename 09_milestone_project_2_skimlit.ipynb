{
  "nbformat": 4,
  "nbformat_minor": 0,
  "metadata": {
    "colab": {
      "name": "09_milestone_project_2_skimlit",
      "provenance": [],
      "include_colab_link": true
    },
    "kernelspec": {
      "name": "python3",
      "display_name": "Python 3"
    },
    "language_info": {
      "name": "python"
    },
    "accelerator": "GPU"
  },
  "cells": [
    {
      "cell_type": "markdown",
      "metadata": {
        "id": "view-in-github",
        "colab_type": "text"
      },
      "source": [
        "<a href=\"https://colab.research.google.com/github/prasann25/colab/blob/main/09_milestone_project_2_skimlit.ipynb\" target=\"_parent\"><img src=\"https://colab.research.google.com/assets/colab-badge.svg\" alt=\"Open In Colab\"/></a>"
      ]
    },
    {
      "cell_type": "markdown",
      "metadata": {
        "id": "-8fbclEDHYdu"
      },
      "source": [
        "# Milestone Project 2: SkimLit\n",
        "\n",
        "The purpose of this notebook is to build an NL P model to to make reading medical abstracts easier.\n",
        "The paper we're replicating (the source of the dataset that we'll be using) is available here : https://arxiv.org/abs/1710.06071\n",
        "\n",
        "And reading through the paper above, we see that the model architecture that they use to achieve their best results is available here:\n",
        "https://arxiv.org/abs/1612.05251\n",
        "\n",
        "**Resources** If you want to find the ground truth for this notebook(with lots of diagrams and text annotations) see the GitHub :\n",
        "https://github.com/mrdbourke/tensorflow-deep-learning/blob/main/09_SkimLit_nlp_milestone_project_2.ipynb"
      ]
    },
    {
      "cell_type": "markdown",
      "metadata": {
        "id": "fDkf0lO-BKzH"
      },
      "source": [
        "## Confirm access to GPU\n"
      ]
    },
    {
      "cell_type": "code",
      "metadata": {
        "colab": {
          "base_uri": "https://localhost:8080/"
        },
        "id": "e15lhSphBQBM",
        "outputId": "e37ca65a-c95a-4175-e993-0b7a1fbce949"
      },
      "source": [
        "!nvidia-smi -L"
      ],
      "execution_count": 33,
      "outputs": [
        {
          "output_type": "stream",
          "text": [
            "GPU 0: Tesla T4 (UUID: GPU-9bdf1f4e-df9b-a4eb-2b5a-cc2c8d30ec22)\n"
          ],
          "name": "stdout"
        }
      ]
    },
    {
      "cell_type": "markdown",
      "metadata": {
        "id": "1xj7UyXGBiwb"
      },
      "source": [
        "## Get data\n",
        "Since we'll be replicating the paper above(PubMed 200K RCT), let's download the dataset they use.\n",
        "We can do so from the authors GitHub :\n",
        "https://github.com/Franck-Dernoncourt/pubmed-rct\n"
      ]
    },
    {
      "cell_type": "code",
      "metadata": {
        "colab": {
          "base_uri": "https://localhost:8080/"
        },
        "id": "YYhWiiA8Cju9",
        "outputId": "83949cfe-53f7-4b55-e736-d9f292926301"
      },
      "source": [
        "!git clone https://github.com/Franck-Dernoncourt/pubmed-rct\n",
        "!ls pubmed-rct"
      ],
      "execution_count": 34,
      "outputs": [
        {
          "output_type": "stream",
          "text": [
            "fatal: destination path 'pubmed-rct' already exists and is not an empty directory.\n",
            "PubMed_200k_RCT\n",
            "PubMed_200k_RCT_numbers_replaced_with_at_sign\n",
            "PubMed_20k_RCT\n",
            "PubMed_20k_RCT_numbers_replaced_with_at_sign\n",
            "README.md\n"
          ],
          "name": "stdout"
        }
      ]
    },
    {
      "cell_type": "code",
      "metadata": {
        "colab": {
          "base_uri": "https://localhost:8080/"
        },
        "id": "_JevalUXDYYj",
        "outputId": "f2353f04-e6ff-4f9a-a763-c6b93a722f14"
      },
      "source": [
        "# Check what files are in the PubMed_20K dataset\n",
        "! ls pubmed-rct/PubMed_20k_RCT_numbers_replaced_with_at_sign/\n",
        "#! ls pubmed-rct/PubMed_20k_RCT/"
      ],
      "execution_count": 35,
      "outputs": [
        {
          "output_type": "stream",
          "text": [
            "dev.txt  test.txt  train.txt\n"
          ],
          "name": "stdout"
        }
      ]
    },
    {
      "cell_type": "code",
      "metadata": {
        "id": "TmHKHut_Dzda"
      },
      "source": [
        "# Start our experiments using the 20K dataset with numbers replaced by \"@\" sign\n",
        "data_dir = \"/content/pubmed-rct/PubMed_20k_RCT_numbers_replaced_with_at_sign/\"\n"
      ],
      "execution_count": 36,
      "outputs": []
    },
    {
      "cell_type": "code",
      "metadata": {
        "colab": {
          "base_uri": "https://localhost:8080/"
        },
        "id": "kDLjWWDBE1fo",
        "outputId": "ca255902-c109-4182-e03f-9f16929c4a27"
      },
      "source": [
        "# Check all of the filenames in the target directory \n",
        "import os\n",
        "filenames = [data_dir + filename for filename in os.listdir(data_dir)]\n",
        "filenames"
      ],
      "execution_count": 37,
      "outputs": [
        {
          "output_type": "execute_result",
          "data": {
            "text/plain": [
              "['/content/pubmed-rct/PubMed_20k_RCT_numbers_replaced_with_at_sign/train.txt',\n",
              " '/content/pubmed-rct/PubMed_20k_RCT_numbers_replaced_with_at_sign/dev.txt',\n",
              " '/content/pubmed-rct/PubMed_20k_RCT_numbers_replaced_with_at_sign/test.txt']"
            ]
          },
          "metadata": {
            "tags": []
          },
          "execution_count": 37
        }
      ]
    },
    {
      "cell_type": "markdown",
      "metadata": {
        "id": "EMePMwG_FCFx"
      },
      "source": [
        "## Preprocess data\n",
        "Now we've got some text data, it's time to become one with it.\n",
        "And one of the best ways to become one with the data is to....\n",
        "\n",
        "> Visualize, Visualize, Visualize\n",
        "\n",
        "So with that in mind, let's write a function to read all the lines of a target text file."
      ]
    },
    {
      "cell_type": "code",
      "metadata": {
        "id": "MKMCirHlFOtF"
      },
      "source": [
        "# Create function to read the lines of a document\n",
        "\n",
        "def get_lines(filename) :\n",
        "  \"\"\"\n",
        "  Reads filename(a text filename) and returns the lines of text as a list.\n",
        "  \n",
        "  Args:\n",
        "    filename: a string containing the target filepath.\n",
        "\n",
        "  Returns :\n",
        "  A list of strings with one string per line from the target filename.\n",
        "  \"\"\"\n",
        "  with open(filename, \"r\") as f :\n",
        "    return f.readlines()\n"
      ],
      "execution_count": 38,
      "outputs": []
    },
    {
      "cell_type": "code",
      "metadata": {
        "id": "FHmJfFAJGfHu",
        "colab": {
          "base_uri": "https://localhost:8080/"
        },
        "outputId": "8b863106-b78e-447d-9034-353dc2ba1c89"
      },
      "source": [
        "# Let's read in the training lines\n",
        "train_lines = get_lines(data_dir  + \"train.txt\")\n",
        "train_lines[:28]"
      ],
      "execution_count": 39,
      "outputs": [
        {
          "output_type": "execute_result",
          "data": {
            "text/plain": [
              "['###24293578\\n',\n",
              " 'OBJECTIVE\\tTo investigate the efficacy of @ weeks of daily low-dose oral prednisolone in improving pain , mobility , and systemic low-grade inflammation in the short term and whether the effect would be sustained at @ weeks in older adults with moderate to severe knee osteoarthritis ( OA ) .\\n',\n",
              " 'METHODS\\tA total of @ patients with primary knee OA were randomized @:@ ; @ received @ mg/day of prednisolone and @ received placebo for @ weeks .\\n',\n",
              " 'METHODS\\tOutcome measures included pain reduction and improvement in function scores and systemic inflammation markers .\\n',\n",
              " 'METHODS\\tPain was assessed using the visual analog pain scale ( @-@ mm ) .\\n',\n",
              " 'METHODS\\tSecondary outcome measures included the Western Ontario and McMaster Universities Osteoarthritis Index scores , patient global assessment ( PGA ) of the severity of knee OA , and @-min walk distance ( @MWD ) .\\n',\n",
              " 'METHODS\\tSerum levels of interleukin @ ( IL-@ ) , IL-@ , tumor necrosis factor ( TNF ) - , and high-sensitivity C-reactive protein ( hsCRP ) were measured .\\n',\n",
              " 'RESULTS\\tThere was a clinically relevant reduction in the intervention group compared to the placebo group for knee pain , physical function , PGA , and @MWD at @ weeks .\\n',\n",
              " 'RESULTS\\tThe mean difference between treatment arms ( @ % CI ) was @ ( @-@ @ ) , p < @ ; @ ( @-@ @ ) , p < @ ; @ ( @-@ @ ) , p < @ ; and @ ( @-@ @ ) , p < @ , respectively .\\n',\n",
              " 'RESULTS\\tFurther , there was a clinically relevant reduction in the serum levels of IL-@ , IL-@ , TNF - , and hsCRP at @ weeks in the intervention group when compared to the placebo group .\\n',\n",
              " 'RESULTS\\tThese differences remained significant at @ weeks .\\n',\n",
              " 'RESULTS\\tThe Outcome Measures in Rheumatology Clinical Trials-Osteoarthritis Research Society International responder rate was @ % in the intervention group and @ % in the placebo group ( p < @ ) .\\n',\n",
              " 'CONCLUSIONS\\tLow-dose oral prednisolone had both a short-term and a longer sustained effect resulting in less knee pain , better physical function , and attenuation of systemic inflammation in older patients with knee OA ( ClinicalTrials.gov identifier NCT@ ) .\\n',\n",
              " '\\n',\n",
              " '###24854809\\n',\n",
              " 'BACKGROUND\\tEmotional eating is associated with overeating and the development of obesity .\\n',\n",
              " 'BACKGROUND\\tYet , empirical evidence for individual ( trait ) differences in emotional eating and cognitive mechanisms that contribute to eating during sad mood remain equivocal .\\n',\n",
              " 'OBJECTIVE\\tThe aim of this study was to test if attention bias for food moderates the effect of self-reported emotional eating during sad mood ( vs neutral mood ) on actual food intake .\\n',\n",
              " 'OBJECTIVE\\tIt was expected that emotional eating is predictive of elevated attention for food and higher food intake after an experimentally induced sad mood and that attentional maintenance on food predicts food intake during a sad versus a neutral mood .\\n',\n",
              " 'METHODS\\tParticipants ( N = @ ) were randomly assigned to one of the two experimental mood induction conditions ( sad/neutral ) .\\n',\n",
              " 'METHODS\\tAttentional biases for high caloric foods were measured by eye tracking during a visual probe task with pictorial food and neutral stimuli .\\n',\n",
              " 'METHODS\\tSelf-reported emotional eating was assessed with the Dutch Eating Behavior Questionnaire ( DEBQ ) and ad libitum food intake was tested by a disguised food offer .\\n',\n",
              " 'RESULTS\\tHierarchical multivariate regression modeling showed that self-reported emotional eating did not account for changes in attention allocation for food or food intake in either condition .\\n',\n",
              " 'RESULTS\\tYet , attention maintenance on food cues was significantly related to increased intake specifically in the neutral condition , but not in the sad mood condition .\\n',\n",
              " 'CONCLUSIONS\\tThe current findings show that self-reported emotional eating ( based on the DEBQ ) might not validly predict who overeats when sad , at least not in a laboratory setting with healthy women .\\n',\n",
              " 'CONCLUSIONS\\tResults further suggest that attention maintenance on food relates to eating motivation when in a neutral affective state , and might therefore be a cognitive mechanism contributing to increased food intake in general , but maybe not during sad mood .\\n',\n",
              " '\\n',\n",
              " '###25165090\\n']"
            ]
          },
          "metadata": {
            "tags": []
          },
          "execution_count": 39
        }
      ]
    },
    {
      "cell_type": "code",
      "metadata": {
        "id": "qY5AEnCPIGvg",
        "colab": {
          "base_uri": "https://localhost:8080/"
        },
        "outputId": "1eed8dcd-ad03-49ce-e0ed-e001fd5892ad"
      },
      "source": [
        "len(train_lines)"
      ],
      "execution_count": 40,
      "outputs": [
        {
          "output_type": "execute_result",
          "data": {
            "text/plain": [
              "210040"
            ]
          },
          "metadata": {
            "tags": []
          },
          "execution_count": 40
        }
      ]
    },
    {
      "cell_type": "markdown",
      "metadata": {
        "id": "N9g9e-KvIP3Z"
      },
      "source": [
        "Let's think about how we want our data to look...\n",
        "\n",
        "How I think our data would be best represented ...\n",
        "\n",
        "```\n",
        "[{'line_number' : 0,\n",
        "   'target' : 'BACKGROUND',\n",
        "   'text' : \"Emotional eating is associated with overeating and the development of obesity .\\n\",\n",
        "   'total_lines' : 11},\n",
        "   ...]   \n",
        "```\n",
        "\n",
        "Let's write a function which turns each of our datasets into the above format, so we can continue to prepare our data for modelling.\n"
      ]
    },
    {
      "cell_type": "code",
      "metadata": {
        "id": "It6ojyGTJm9S"
      },
      "source": [
        "def preprocess_text_with_line_numbers(filename) :\n",
        "  \"\"\"\n",
        "  Returns list of dictionary of abstract line data.\n",
        "\n",
        "  Takes in filename, reads it contents and sort through each line, \n",
        "  extracting things like the target label, text of the sentence,\n",
        "  how many sentences are in the current abstract and what sentence number\n",
        "  the target line is\n",
        "  \"\"\"\n",
        "  input_lines = get_lines(filename) # get all lines from filename\n",
        "  abstract_lines = \"\" # create an empty abstract\n",
        "  abstract_samples = [] # create an empty list of abstracts\n",
        "\n",
        "  # Loop through each line in the target line\n",
        "  for line in input_lines :\n",
        "\n",
        "    if line.startswith(\"###\") : # check to see if the line is an ID line\n",
        "      abstract_id = line\n",
        "      abstract_lines= \"\" # reset the abstract string if the line is an ID line\n",
        "\n",
        "    elif line.isspace() : # check to see if the line is a new line\n",
        "      abstract_line_split = abstract_lines.splitlines() # split abstract lines into separate lines     \n",
        "      # Iterate through each line in a single abstract and count at same time\n",
        "      for abstract_line_number, abstract_line in enumerate(abstract_line_split) :\n",
        "        target_text_split = abstract_line.split(\"\\t\") # split target label from text\n",
        "        line_data ={} # create an empty dictionar for each line\n",
        "        line_data[\"target\"] = target_text_split[0]\n",
        "        line_data[\"text\"] = target_text_split[1].lower() # get target text and lower it\n",
        "        line_data[\"line_number\"] = abstract_line_number # what number line does the line appear on the abstract\n",
        "        line_data[\"total_lines\"] = len(abstract_line_split) -1 # how many total lines are there in the target abstract? (start from 0) \n",
        "        abstract_samples.append(line_data) # add line data to abstract samples list\n",
        "\n",
        "    else : # if the above conditions aren't fulfilled, the line contains a labelled sentence\n",
        "      abstract_lines += line\n",
        "\n",
        "  return abstract_samples\n",
        "\n"
      ],
      "execution_count": 41,
      "outputs": []
    },
    {
      "cell_type": "code",
      "metadata": {
        "colab": {
          "base_uri": "https://localhost:8080/"
        },
        "id": "wWk8FwfEbhme",
        "outputId": "e4eda3a8-c07b-464d-9afa-4e544202ee22"
      },
      "source": [
        "# Get data from file and preprocess it\n",
        "%%time\n",
        "train_samples = preprocess_text_with_line_numbers(data_dir + \"train.txt\")\n",
        "val_samples = preprocess_text_with_line_numbers(data_dir + \"dev.txt\") # dev is another name for val\n",
        "test_samples = preprocess_text_with_line_numbers(data_dir + \"test.txt\")\n",
        "print(len(train_samples), len(val_samples), len(test_samples))"
      ],
      "execution_count": 42,
      "outputs": [
        {
          "output_type": "stream",
          "text": [
            "180040 30212 30135\n",
            "CPU times: user 473 ms, sys: 74.5 ms, total: 548 ms\n",
            "Wall time: 546 ms\n"
          ],
          "name": "stdout"
        }
      ]
    },
    {
      "cell_type": "code",
      "metadata": {
        "colab": {
          "base_uri": "https://localhost:8080/"
        },
        "id": "ApFKvvNocl2h",
        "outputId": "36328b6f-f960-48bd-a979-c4fce3e0a1c1"
      },
      "source": [
        "# Check the first abstract of our training  data\n",
        "train_samples[:14]"
      ],
      "execution_count": 43,
      "outputs": [
        {
          "output_type": "execute_result",
          "data": {
            "text/plain": [
              "[{'line_number': 0,\n",
              "  'target': 'OBJECTIVE',\n",
              "  'text': 'to investigate the efficacy of @ weeks of daily low-dose oral prednisolone in improving pain , mobility , and systemic low-grade inflammation in the short term and whether the effect would be sustained at @ weeks in older adults with moderate to severe knee osteoarthritis ( oa ) .',\n",
              "  'total_lines': 11},\n",
              " {'line_number': 1,\n",
              "  'target': 'METHODS',\n",
              "  'text': 'a total of @ patients with primary knee oa were randomized @:@ ; @ received @ mg/day of prednisolone and @ received placebo for @ weeks .',\n",
              "  'total_lines': 11},\n",
              " {'line_number': 2,\n",
              "  'target': 'METHODS',\n",
              "  'text': 'outcome measures included pain reduction and improvement in function scores and systemic inflammation markers .',\n",
              "  'total_lines': 11},\n",
              " {'line_number': 3,\n",
              "  'target': 'METHODS',\n",
              "  'text': 'pain was assessed using the visual analog pain scale ( @-@ mm ) .',\n",
              "  'total_lines': 11},\n",
              " {'line_number': 4,\n",
              "  'target': 'METHODS',\n",
              "  'text': 'secondary outcome measures included the western ontario and mcmaster universities osteoarthritis index scores , patient global assessment ( pga ) of the severity of knee oa , and @-min walk distance ( @mwd ) .',\n",
              "  'total_lines': 11},\n",
              " {'line_number': 5,\n",
              "  'target': 'METHODS',\n",
              "  'text': 'serum levels of interleukin @ ( il-@ ) , il-@ , tumor necrosis factor ( tnf ) - , and high-sensitivity c-reactive protein ( hscrp ) were measured .',\n",
              "  'total_lines': 11},\n",
              " {'line_number': 6,\n",
              "  'target': 'RESULTS',\n",
              "  'text': 'there was a clinically relevant reduction in the intervention group compared to the placebo group for knee pain , physical function , pga , and @mwd at @ weeks .',\n",
              "  'total_lines': 11},\n",
              " {'line_number': 7,\n",
              "  'target': 'RESULTS',\n",
              "  'text': 'the mean difference between treatment arms ( @ % ci ) was @ ( @-@ @ ) , p < @ ; @ ( @-@ @ ) , p < @ ; @ ( @-@ @ ) , p < @ ; and @ ( @-@ @ ) , p < @ , respectively .',\n",
              "  'total_lines': 11},\n",
              " {'line_number': 8,\n",
              "  'target': 'RESULTS',\n",
              "  'text': 'further , there was a clinically relevant reduction in the serum levels of il-@ , il-@ , tnf - , and hscrp at @ weeks in the intervention group when compared to the placebo group .',\n",
              "  'total_lines': 11},\n",
              " {'line_number': 9,\n",
              "  'target': 'RESULTS',\n",
              "  'text': 'these differences remained significant at @ weeks .',\n",
              "  'total_lines': 11},\n",
              " {'line_number': 10,\n",
              "  'target': 'RESULTS',\n",
              "  'text': 'the outcome measures in rheumatology clinical trials-osteoarthritis research society international responder rate was @ % in the intervention group and @ % in the placebo group ( p < @ ) .',\n",
              "  'total_lines': 11},\n",
              " {'line_number': 11,\n",
              "  'target': 'CONCLUSIONS',\n",
              "  'text': 'low-dose oral prednisolone had both a short-term and a longer sustained effect resulting in less knee pain , better physical function , and attenuation of systemic inflammation in older patients with knee oa ( clinicaltrials.gov identifier nct@ ) .',\n",
              "  'total_lines': 11},\n",
              " {'line_number': 0,\n",
              "  'target': 'BACKGROUND',\n",
              "  'text': 'emotional eating is associated with overeating and the development of obesity .',\n",
              "  'total_lines': 10},\n",
              " {'line_number': 1,\n",
              "  'target': 'BACKGROUND',\n",
              "  'text': 'yet , empirical evidence for individual ( trait ) differences in emotional eating and cognitive mechanisms that contribute to eating during sad mood remain equivocal .',\n",
              "  'total_lines': 10}]"
            ]
          },
          "metadata": {
            "tags": []
          },
          "execution_count": 43
        }
      ]
    },
    {
      "cell_type": "markdown",
      "metadata": {
        "id": "TeB7GFw51uAa"
      },
      "source": [
        "Now that our data is the format of a list of dictionaries, how about we turn it into a DataFrame to further visualize it"
      ]
    },
    {
      "cell_type": "code",
      "metadata": {
        "colab": {
          "base_uri": "https://localhost:8080/",
          "height": 483
        },
        "id": "efTctER8c7ga",
        "outputId": "68f3380e-ff11-49ff-a452-e0ab0ee77b61"
      },
      "source": [
        "import pandas as pd\n",
        "train_df = pd.DataFrame(train_samples)\n",
        "val_df = pd.DataFrame(val_samples)\n",
        "test_df = pd.DataFrame(test_samples)\n",
        "train_df.head(14)"
      ],
      "execution_count": 44,
      "outputs": [
        {
          "output_type": "execute_result",
          "data": {
            "text/html": [
              "<div>\n",
              "<style scoped>\n",
              "    .dataframe tbody tr th:only-of-type {\n",
              "        vertical-align: middle;\n",
              "    }\n",
              "\n",
              "    .dataframe tbody tr th {\n",
              "        vertical-align: top;\n",
              "    }\n",
              "\n",
              "    .dataframe thead th {\n",
              "        text-align: right;\n",
              "    }\n",
              "</style>\n",
              "<table border=\"1\" class=\"dataframe\">\n",
              "  <thead>\n",
              "    <tr style=\"text-align: right;\">\n",
              "      <th></th>\n",
              "      <th>target</th>\n",
              "      <th>text</th>\n",
              "      <th>line_number</th>\n",
              "      <th>total_lines</th>\n",
              "    </tr>\n",
              "  </thead>\n",
              "  <tbody>\n",
              "    <tr>\n",
              "      <th>0</th>\n",
              "      <td>OBJECTIVE</td>\n",
              "      <td>to investigate the efficacy of @ weeks of dail...</td>\n",
              "      <td>0</td>\n",
              "      <td>11</td>\n",
              "    </tr>\n",
              "    <tr>\n",
              "      <th>1</th>\n",
              "      <td>METHODS</td>\n",
              "      <td>a total of @ patients with primary knee oa wer...</td>\n",
              "      <td>1</td>\n",
              "      <td>11</td>\n",
              "    </tr>\n",
              "    <tr>\n",
              "      <th>2</th>\n",
              "      <td>METHODS</td>\n",
              "      <td>outcome measures included pain reduction and i...</td>\n",
              "      <td>2</td>\n",
              "      <td>11</td>\n",
              "    </tr>\n",
              "    <tr>\n",
              "      <th>3</th>\n",
              "      <td>METHODS</td>\n",
              "      <td>pain was assessed using the visual analog pain...</td>\n",
              "      <td>3</td>\n",
              "      <td>11</td>\n",
              "    </tr>\n",
              "    <tr>\n",
              "      <th>4</th>\n",
              "      <td>METHODS</td>\n",
              "      <td>secondary outcome measures included the wester...</td>\n",
              "      <td>4</td>\n",
              "      <td>11</td>\n",
              "    </tr>\n",
              "    <tr>\n",
              "      <th>5</th>\n",
              "      <td>METHODS</td>\n",
              "      <td>serum levels of interleukin @ ( il-@ ) , il-@ ...</td>\n",
              "      <td>5</td>\n",
              "      <td>11</td>\n",
              "    </tr>\n",
              "    <tr>\n",
              "      <th>6</th>\n",
              "      <td>RESULTS</td>\n",
              "      <td>there was a clinically relevant reduction in t...</td>\n",
              "      <td>6</td>\n",
              "      <td>11</td>\n",
              "    </tr>\n",
              "    <tr>\n",
              "      <th>7</th>\n",
              "      <td>RESULTS</td>\n",
              "      <td>the mean difference between treatment arms ( @...</td>\n",
              "      <td>7</td>\n",
              "      <td>11</td>\n",
              "    </tr>\n",
              "    <tr>\n",
              "      <th>8</th>\n",
              "      <td>RESULTS</td>\n",
              "      <td>further , there was a clinically relevant redu...</td>\n",
              "      <td>8</td>\n",
              "      <td>11</td>\n",
              "    </tr>\n",
              "    <tr>\n",
              "      <th>9</th>\n",
              "      <td>RESULTS</td>\n",
              "      <td>these differences remained significant at @ we...</td>\n",
              "      <td>9</td>\n",
              "      <td>11</td>\n",
              "    </tr>\n",
              "    <tr>\n",
              "      <th>10</th>\n",
              "      <td>RESULTS</td>\n",
              "      <td>the outcome measures in rheumatology clinical ...</td>\n",
              "      <td>10</td>\n",
              "      <td>11</td>\n",
              "    </tr>\n",
              "    <tr>\n",
              "      <th>11</th>\n",
              "      <td>CONCLUSIONS</td>\n",
              "      <td>low-dose oral prednisolone had both a short-te...</td>\n",
              "      <td>11</td>\n",
              "      <td>11</td>\n",
              "    </tr>\n",
              "    <tr>\n",
              "      <th>12</th>\n",
              "      <td>BACKGROUND</td>\n",
              "      <td>emotional eating is associated with overeating...</td>\n",
              "      <td>0</td>\n",
              "      <td>10</td>\n",
              "    </tr>\n",
              "    <tr>\n",
              "      <th>13</th>\n",
              "      <td>BACKGROUND</td>\n",
              "      <td>yet , empirical evidence for individual ( trai...</td>\n",
              "      <td>1</td>\n",
              "      <td>10</td>\n",
              "    </tr>\n",
              "  </tbody>\n",
              "</table>\n",
              "</div>"
            ],
            "text/plain": [
              "         target  ... total_lines\n",
              "0     OBJECTIVE  ...          11\n",
              "1       METHODS  ...          11\n",
              "2       METHODS  ...          11\n",
              "3       METHODS  ...          11\n",
              "4       METHODS  ...          11\n",
              "5       METHODS  ...          11\n",
              "6       RESULTS  ...          11\n",
              "7       RESULTS  ...          11\n",
              "8       RESULTS  ...          11\n",
              "9       RESULTS  ...          11\n",
              "10      RESULTS  ...          11\n",
              "11  CONCLUSIONS  ...          11\n",
              "12   BACKGROUND  ...          10\n",
              "13   BACKGROUND  ...          10\n",
              "\n",
              "[14 rows x 4 columns]"
            ]
          },
          "metadata": {
            "tags": []
          },
          "execution_count": 44
        }
      ]
    },
    {
      "cell_type": "code",
      "metadata": {
        "colab": {
          "base_uri": "https://localhost:8080/"
        },
        "id": "B7UIQop8939p",
        "outputId": "bedde56d-090d-46f0-d658-02b605bfc509"
      },
      "source": [
        "# Distribution of labels in training data\n",
        "train_df.target.value_counts()"
      ],
      "execution_count": 45,
      "outputs": [
        {
          "output_type": "execute_result",
          "data": {
            "text/plain": [
              "METHODS        59353\n",
              "RESULTS        57953\n",
              "CONCLUSIONS    27168\n",
              "BACKGROUND     21727\n",
              "OBJECTIVE      13839\n",
              "Name: target, dtype: int64"
            ]
          },
          "metadata": {
            "tags": []
          },
          "execution_count": 45
        }
      ]
    },
    {
      "cell_type": "code",
      "metadata": {
        "colab": {
          "base_uri": "https://localhost:8080/",
          "height": 267
        },
        "id": "kRFmpmQ8-H_K",
        "outputId": "07ef9a2b-3426-48b4-d854-54677c0a1b2a"
      },
      "source": [
        "# Let's check the length of different lines\n",
        "train_df.total_lines.plot.hist();"
      ],
      "execution_count": 46,
      "outputs": [
        {
          "output_type": "display_data",
          "data": {
            "image/png": "[encoded data removed]",
            "text/plain": [
              "<Figure size 432x288 with 1 Axes>"
            ]
          },
          "metadata": {
            "tags": [],
            "needs_background": "light"
          }
        }
      ]
    },
    {
      "cell_type": "markdown",
      "metadata": {
        "id": "23_B3iMb-WFX"
      },
      "source": [
        "### Get list of sentences"
      ]
    },
    {
      "cell_type": "code",
      "metadata": {
        "colab": {
          "base_uri": "https://localhost:8080/"
        },
        "id": "nJzqUxaD-8lR",
        "outputId": "a5ace832-4357-425d-f83c-89b49491c706"
      },
      "source": [
        "# Convert abstract text lines into lists\n",
        "train_sentences = train_df[\"text\"].to_list()\n",
        "val_sentences = val_df[\"text\"].to_list()\n",
        "test_sentences = test_df[\"text\"].to_list()\n",
        "len(train_sentences), len(val_sentences), len(test_sentences)\n"
      ],
      "execution_count": 47,
      "outputs": [
        {
          "output_type": "execute_result",
          "data": {
            "text/plain": [
              "(180040, 30212, 30135)"
            ]
          },
          "metadata": {
            "tags": []
          },
          "execution_count": 47
        }
      ]
    },
    {
      "cell_type": "code",
      "metadata": {
        "colab": {
          "base_uri": "https://localhost:8080/"
        },
        "id": "tfhz2zfOABQW",
        "outputId": "d5057097-0cd3-4cfd-a36e-ca1ef267b327"
      },
      "source": [
        "# View the 10 lines of training sentences\n",
        "train_sentences[:10]"
      ],
      "execution_count": 48,
      "outputs": [
        {
          "output_type": "execute_result",
          "data": {
            "text/plain": [
              "['to investigate the efficacy of @ weeks of daily low-dose oral prednisolone in improving pain , mobility , and systemic low-grade inflammation in the short term and whether the effect would be sustained at @ weeks in older adults with moderate to severe knee osteoarthritis ( oa ) .',\n",
              " 'a total of @ patients with primary knee oa were randomized @:@ ; @ received @ mg/day of prednisolone and @ received placebo for @ weeks .',\n",
              " 'outcome measures included pain reduction and improvement in function scores and systemic inflammation markers .',\n",
              " 'pain was assessed using the visual analog pain scale ( @-@ mm ) .',\n",
              " 'secondary outcome measures included the western ontario and mcmaster universities osteoarthritis index scores , patient global assessment ( pga ) of the severity of knee oa , and @-min walk distance ( @mwd ) .',\n",
              " 'serum levels of interleukin @ ( il-@ ) , il-@ , tumor necrosis factor ( tnf ) - , and high-sensitivity c-reactive protein ( hscrp ) were measured .',\n",
              " 'there was a clinically relevant reduction in the intervention group compared to the placebo group for knee pain , physical function , pga , and @mwd at @ weeks .',\n",
              " 'the mean difference between treatment arms ( @ % ci ) was @ ( @-@ @ ) , p < @ ; @ ( @-@ @ ) , p < @ ; @ ( @-@ @ ) , p < @ ; and @ ( @-@ @ ) , p < @ , respectively .',\n",
              " 'further , there was a clinically relevant reduction in the serum levels of il-@ , il-@ , tnf - , and hscrp at @ weeks in the intervention group when compared to the placebo group .',\n",
              " 'these differences remained significant at @ weeks .']"
            ]
          },
          "metadata": {
            "tags": []
          },
          "execution_count": 48
        }
      ]
    },
    {
      "cell_type": "markdown",
      "metadata": {
        "id": "uLxxzJwnBWxO"
      },
      "source": [
        "## Make numeric labels (ML model requires numeric labels)"
      ]
    },
    {
      "cell_type": "code",
      "metadata": {
        "colab": {
          "base_uri": "https://localhost:8080/"
        },
        "id": "MnCl-CDyAIbu",
        "outputId": "06e37659-eb30-499a-f566-84c84ae69540"
      },
      "source": [
        "# One hot encode labels\n",
        "# Sparse Matrix not applicable here , read more https://machinelearningmastery.com/sparse-matrices-for-machine-learning/\n",
        "from sklearn.preprocessing import OneHotEncoder\n",
        "one_hot_encoder = OneHotEncoder(sparse=False) # we want a non-sparse matrix\n",
        "train_labels_one_hot = one_hot_encoder.fit_transform(train_df[\"target\"].to_numpy().reshape(-1, 1))\n",
        "val_labels_one_hot = one_hot_encoder.transform(val_df[\"target\"].to_numpy().reshape(-1, 1))\n",
        "test_labels_one_hot = one_hot_encoder.transform(test_df[\"target\"].to_numpy().reshape(-1, 1))\n",
        "# Check what one hot encoded labels look like\n",
        "train_labels_one_hot"
      ],
      "execution_count": 49,
      "outputs": [
        {
          "output_type": "execute_result",
          "data": {
            "text/plain": [
              "array([[0., 0., 0., 1., 0.],\n",
              "       [0., 0., 1., 0., 0.],\n",
              "       [0., 0., 1., 0., 0.],\n",
              "       ...,\n",
              "       [0., 0., 0., 0., 1.],\n",
              "       [0., 1., 0., 0., 0.],\n",
              "       [0., 1., 0., 0., 0.]])"
            ]
          },
          "metadata": {
            "tags": []
          },
          "execution_count": 49
        }
      ]
    },
    {
      "cell_type": "code",
      "metadata": {
        "colab": {
          "base_uri": "https://localhost:8080/"
        },
        "id": "NQfrfJgsDfQi",
        "outputId": "9c7cfaba-ccae-43fa-d1d5-5305f252bccb"
      },
      "source": [
        "## Label encode labels\n",
        "# Extract labels (\"target\" columns) and encode them into integers\n",
        "from sklearn.preprocessing import LabelEncoder\n",
        "label_encoder = LabelEncoder()\n",
        "train_labels_encoded = label_encoder.fit_transform(train_df[\"target\"].to_numpy())\n",
        "val_labels_encoded = label_encoder.transform(val_df[\"target\"].to_numpy())\n",
        "test_labels_encoded = label_encoder.transform(test_df[\"target\"].to_numpy())\n",
        "\n",
        "# check what training labels look like\n",
        "\n",
        "train_labels_encoded"
      ],
      "execution_count": 50,
      "outputs": [
        {
          "output_type": "execute_result",
          "data": {
            "text/plain": [
              "array([3, 2, 2, ..., 4, 1, 1])"
            ]
          },
          "metadata": {
            "tags": []
          },
          "execution_count": 50
        }
      ]
    },
    {
      "cell_type": "code",
      "metadata": {
        "colab": {
          "base_uri": "https://localhost:8080/"
        },
        "id": "cSFEakNYEI30",
        "outputId": "eb9d535b-05a7-4adf-a338-3559d363ea12"
      },
      "source": [
        "# Get class names and number of classes from LabelEncoder instance\n",
        "num_classes = len(label_encoder.classes_)\n",
        "class_names = label_encoder.classes_\n",
        "num_classes, class_names"
      ],
      "execution_count": 51,
      "outputs": [
        {
          "output_type": "execute_result",
          "data": {
            "text/plain": [
              "(5, array(['BACKGROUND', 'CONCLUSIONS', 'METHODS', 'OBJECTIVE', 'RESULTS'],\n",
              "       dtype=object))"
            ]
          },
          "metadata": {
            "tags": []
          },
          "execution_count": 51
        }
      ]
    },
    {
      "cell_type": "markdown",
      "metadata": {
        "id": "iBgg8NT0bu8S"
      },
      "source": [
        "## Starting  a series of modelling experiments...\n",
        "As usual, we're going to be trying out a bunch of different models and seeing which one works best.\n",
        "And as always, we're going to start with a baseline model (TF-IDF Multinomial Naive Bayes classifier).\n",
        "\n",
        "Refer to the blog here for understanding ML concepts\n",
        "https://chrisalbon.com/\n"
      ]
    },
    {
      "cell_type": "markdown",
      "metadata": {
        "id": "UA4oWHkvXRL9"
      },
      "source": [
        "## Model 0 : Getting a baseline model\n",
        "\n",
        "We will learn machine learning experiments, we'll use SkLearn's Multinomial Naive Bayes using TF-IDF formula to convert words to numbers."
      ]
    },
    {
      "cell_type": "code",
      "metadata": {
        "id": "5MfCSfqkYXo3",
        "colab": {
          "base_uri": "https://localhost:8080/"
        },
        "outputId": "041d0324-f861-4771-94e0-8829057d7484"
      },
      "source": [
        "from sklearn.feature_extraction.text import TfidfVectorizer\n",
        "from sklearn.naive_bayes import MultinomialNB\n",
        "from sklearn.pipeline import Pipeline\n",
        "\n",
        "model_0 = Pipeline([\n",
        "                    (\"tf-idf\", TfidfVectorizer()), # Convert words to numbers using tdidf\n",
        "                    (\"clf\", MultinomialNB()) # model the text\n",
        "])\n",
        "\n",
        "# Fit the pipeline to the training data\n",
        "model_0.fit(X= train_sentences, \n",
        "            y = train_labels_encoded)"
      ],
      "execution_count": 52,
      "outputs": [
        {
          "output_type": "execute_result",
          "data": {
            "text/plain": [
              "Pipeline(memory=None,\n",
              "         steps=[('tf-idf',\n",
              "                 TfidfVectorizer(analyzer='word', binary=False,\n",
              "                                 decode_error='strict',\n",
              "                                 dtype=<class 'numpy.float64'>,\n",
              "                                 encoding='utf-8', input='content',\n",
              "                                 lowercase=True, max_df=1.0, max_features=None,\n",
              "                                 min_df=1, ngram_range=(1, 1), norm='l2',\n",
              "                                 preprocessor=None, smooth_idf=True,\n",
              "                                 stop_words=None, strip_accents=None,\n",
              "                                 sublinear_tf=False,\n",
              "                                 token_pattern='(?u)\\\\b\\\\w\\\\w+\\\\b',\n",
              "                                 tokenizer=None, use_idf=True,\n",
              "                                 vocabulary=None)),\n",
              "                ('clf',\n",
              "                 MultinomialNB(alpha=1.0, class_prior=None, fit_prior=True))],\n",
              "         verbose=False)"
            ]
          },
          "metadata": {
            "tags": []
          },
          "execution_count": 52
        }
      ]
    },
    {
      "cell_type": "code",
      "metadata": {
        "id": "6hC2x5MDcFIk",
        "colab": {
          "base_uri": "https://localhost:8080/"
        },
        "outputId": "21c7950a-b776-42f8-d6c3-7d881a91742e"
      },
      "source": [
        "# EValuate baseline mdoel on validation dataset\n",
        "model_0.score(X = val_sentences,\n",
        "              y = val_labels_encoded)"
      ],
      "execution_count": 53,
      "outputs": [
        {
          "output_type": "execute_result",
          "data": {
            "text/plain": [
              "0.7218323844829869"
            ]
          },
          "metadata": {
            "tags": []
          },
          "execution_count": 53
        }
      ]
    },
    {
      "cell_type": "code",
      "metadata": {
        "id": "laSLZraadxy6",
        "colab": {
          "base_uri": "https://localhost:8080/"
        },
        "outputId": "a1435927-d0a1-416b-94bf-0e5827d89e33"
      },
      "source": [
        "# Make prediction using our baseline model\n",
        "baseline_preds = model_0.predict(val_sentences)\n",
        "baseline_preds"
      ],
      "execution_count": 54,
      "outputs": [
        {
          "output_type": "execute_result",
          "data": {
            "text/plain": [
              "array([4, 1, 3, ..., 4, 4, 1])"
            ]
          },
          "metadata": {
            "tags": []
          },
          "execution_count": 54
        }
      ]
    },
    {
      "cell_type": "markdown",
      "metadata": {
        "id": "kLGF2nvhd-IU"
      },
      "source": [
        "### Download helper function script\n",
        "In the previous modules, we wrote a function to compare predictions across different metrics(accuracy, precision, recall and f1)\n",
        "and rather than rewriting it here, let's download from our helper function script : https://raw.githubusercontent.com/mrdbourke/tensorflow-deep-learning/main/extras/helper_functions.py"
      ]
    },
    {
      "cell_type": "code",
      "metadata": {
        "id": "-bDlsNSqeO4s",
        "colab": {
          "base_uri": "https://localhost:8080/"
        },
        "outputId": "cd8dbdbb-d71b-4387-a86a-f9f132c2b562"
      },
      "source": [
        "!wget https://raw.githubusercontent.com/mrdbourke/tensorflow-deep-learning/main/extras/helper_functions.py"
      ],
      "execution_count": 55,
      "outputs": [
        {
          "output_type": "stream",
          "text": [
            "--2021-08-13 02:14:32--  https://raw.githubusercontent.com/mrdbourke/tensorflow-deep-learning/main/extras/helper_functions.py\n",
            "Resolving raw.githubusercontent.com (raw.githubusercontent.com)... 185.199.108.133, 185.199.109.133, 185.199.110.133, ...\n",
            "Connecting to raw.githubusercontent.com (raw.githubusercontent.com)|185.199.108.133|:443... connected.\n",
            "HTTP request sent, awaiting response... 200 OK\n",
            "Length: 10246 (10K) [text/plain]\n",
            "Saving to: ‘helper_functions.py.1’\n",
            "\n",
            "\rhelper_functions.py   0%[                    ]       0  --.-KB/s               \rhelper_functions.py 100%[===================>]  10.01K  --.-KB/s    in 0s      \n",
            "\n",
            "2021-08-13 02:14:32 (71.3 MB/s) - ‘helper_functions.py.1’ saved [10246/10246]\n",
            "\n"
          ],
          "name": "stdout"
        }
      ]
    },
    {
      "cell_type": "code",
      "metadata": {
        "id": "aoVx-K4VeRcx"
      },
      "source": [
        "from helper_functions import calculate_results"
      ],
      "execution_count": 56,
      "outputs": []
    },
    {
      "cell_type": "code",
      "metadata": {
        "id": "4KTSQV5Aep2Z",
        "colab": {
          "base_uri": "https://localhost:8080/"
        },
        "outputId": "e9d23955-4097-47b7-e365-420f853556ef"
      },
      "source": [
        "# Calculate baseline results\n",
        "baseline_results = calculate_results(y_true=val_labels_encoded,\n",
        "                                     y_pred = baseline_preds)\n",
        "baseline_results"
      ],
      "execution_count": 57,
      "outputs": [
        {
          "output_type": "execute_result",
          "data": {
            "text/plain": [
              "{'accuracy': 72.1832384482987,\n",
              " 'f1': 0.6989250353450294,\n",
              " 'precision': 0.7186466952323352,\n",
              " 'recall': 0.7218323844829869}"
            ]
          },
          "metadata": {
            "tags": []
          },
          "execution_count": 57
        }
      ]
    },
    {
      "cell_type": "markdown",
      "metadata": {
        "id": "SRVNt-vWe2b2"
      },
      "source": [
        "## Preparing our data (the text) for deep sequence models\n",
        "\n",
        "Before we start building deeper models, we'got to create vectorization and embedding layers."
      ]
    },
    {
      "cell_type": "code",
      "metadata": {
        "id": "tYa_hYo2BV7I"
      },
      "source": [
        "import tensorflow as tf\n",
        "import numpy as np\n",
        "from tensorflow.keras import layers"
      ],
      "execution_count": 58,
      "outputs": []
    },
    {
      "cell_type": "code",
      "metadata": {
        "colab": {
          "base_uri": "https://localhost:8080/"
        },
        "id": "421A3Z52E5jc",
        "outputId": "854105c9-cbae-45ce-9864-c0ab52637412"
      },
      "source": [
        "train_sentences[:10]"
      ],
      "execution_count": 59,
      "outputs": [
        {
          "output_type": "execute_result",
          "data": {
            "text/plain": [
              "['to investigate the efficacy of @ weeks of daily low-dose oral prednisolone in improving pain , mobility , and systemic low-grade inflammation in the short term and whether the effect would be sustained at @ weeks in older adults with moderate to severe knee osteoarthritis ( oa ) .',\n",
              " 'a total of @ patients with primary knee oa were randomized @:@ ; @ received @ mg/day of prednisolone and @ received placebo for @ weeks .',\n",
              " 'outcome measures included pain reduction and improvement in function scores and systemic inflammation markers .',\n",
              " 'pain was assessed using the visual analog pain scale ( @-@ mm ) .',\n",
              " 'secondary outcome measures included the western ontario and mcmaster universities osteoarthritis index scores , patient global assessment ( pga ) of the severity of knee oa , and @-min walk distance ( @mwd ) .',\n",
              " 'serum levels of interleukin @ ( il-@ ) , il-@ , tumor necrosis factor ( tnf ) - , and high-sensitivity c-reactive protein ( hscrp ) were measured .',\n",
              " 'there was a clinically relevant reduction in the intervention group compared to the placebo group for knee pain , physical function , pga , and @mwd at @ weeks .',\n",
              " 'the mean difference between treatment arms ( @ % ci ) was @ ( @-@ @ ) , p < @ ; @ ( @-@ @ ) , p < @ ; @ ( @-@ @ ) , p < @ ; and @ ( @-@ @ ) , p < @ , respectively .',\n",
              " 'further , there was a clinically relevant reduction in the serum levels of il-@ , il-@ , tnf - , and hscrp at @ weeks in the intervention group when compared to the placebo group .',\n",
              " 'these differences remained significant at @ weeks .']"
            ]
          },
          "metadata": {
            "tags": []
          },
          "execution_count": 59
        }
      ]
    },
    {
      "cell_type": "code",
      "metadata": {
        "colab": {
          "base_uri": "https://localhost:8080/"
        },
        "id": "gTZOvk2eCPtC",
        "outputId": "6e673445-362c-4b1d-d89a-30aeebb0c739"
      },
      "source": [
        "# How long is each sentence on average?\n",
        "sent_lens = [len(sentence.split()) for sentence in train_sentences]\n",
        "avg_sent_len = np.mean(sent_lens)\n",
        "avg_sent_len"
      ],
      "execution_count": 60,
      "outputs": [
        {
          "output_type": "execute_result",
          "data": {
            "text/plain": [
              "26.338269273494777"
            ]
          },
          "metadata": {
            "tags": []
          },
          "execution_count": 60
        }
      ]
    },
    {
      "cell_type": "code",
      "metadata": {
        "colab": {
          "base_uri": "https://localhost:8080/",
          "height": 265
        },
        "id": "ecfw5-PRFkHm",
        "outputId": "a712b99d-1b47-40f0-d033-3dd78412901f"
      },
      "source": [
        "# What's the distribution look like ?\n",
        "import matplotlib.pyplot as plt\n",
        "plt.hist(sent_lens, bins=20);"
      ],
      "execution_count": 61,
      "outputs": [
        {
          "output_type": "display_data",
          "data": {
            "image/png": "[encoded data removed]",
            "text/plain": [
              "<Figure size 432x288 with 1 Axes>"
            ]
          },
          "metadata": {
            "tags": [],
            "needs_background": "light"
          }
        }
      ]
    },
    {
      "cell_type": "code",
      "metadata": {
        "colab": {
          "base_uri": "https://localhost:8080/"
        },
        "id": "B4m_m1O4F9jp",
        "outputId": "13407661-bcb3-437f-a94e-af68dab7de92"
      },
      "source": [
        "# What percentile covers 95% of the sentence length\n",
        "output_seq_len = int(np.percentile(sent_lens, 95))\n",
        "output_seq_len"
      ],
      "execution_count": 62,
      "outputs": [
        {
          "output_type": "execute_result",
          "data": {
            "text/plain": [
              "55"
            ]
          },
          "metadata": {
            "tags": []
          },
          "execution_count": 62
        }
      ]
    },
    {
      "cell_type": "code",
      "metadata": {
        "colab": {
          "base_uri": "https://localhost:8080/"
        },
        "id": "87jFb2NHGeH5",
        "outputId": "92d2ed0c-c623-498a-d11d-f7214978ab0f"
      },
      "source": [
        "# Max sequence length in the training set\n",
        "max(sent_lens)"
      ],
      "execution_count": 63,
      "outputs": [
        {
          "output_type": "execute_result",
          "data": {
            "text/plain": [
              "296"
            ]
          },
          "metadata": {
            "tags": []
          },
          "execution_count": 63
        }
      ]
    },
    {
      "cell_type": "markdown",
      "metadata": {
        "id": "UyNaa7UaGmG7"
      },
      "source": [
        "### Create the TextVectorizer (tokenization)\n",
        "\n",
        "We want to make a layer which maps our texts from words into numbers"
      ]
    },
    {
      "cell_type": "code",
      "metadata": {
        "id": "VvTMCq_qKgin"
      },
      "source": [
        "# How many words are in our voab? (taken from table 2 in https://arxiv.org/pdf/1710.06071.pdf )\n",
        "max_tokens = 68000"
      ],
      "execution_count": 64,
      "outputs": []
    },
    {
      "cell_type": "code",
      "metadata": {
        "id": "PHvT4VMVCNKG"
      },
      "source": [
        "import tensorflow as tf\n",
        "from tensorflow.keras.layers.experimental.preprocessing import TextVectorization\n",
        "# Link to TextVectorization : https://www.tensorflow.org/api_docs/python/tf/keras/layers/experimental/preprocessing/TextVectorization\n",
        "\n",
        "text_vectorizer = TextVectorization(max_tokens=max_tokens, # number of words in vocabulary\n",
        "                                    output_sequence_length = output_seq_len, # desired output length of vectorized sequence\n",
        "                                    standardize=\"lower_and_strip_punctuation\", # default value\n",
        "                                    split=\"whitespace\", # default value\n",
        "                                    ngrams=None, # create groups of n-words?\n",
        "                                    output_mode=\"int\", # default  value                               \n",
        "                                    pad_to_max_tokens = True) # default value\n",
        "                                    "
      ],
      "execution_count": 65,
      "outputs": []
    },
    {
      "cell_type": "code",
      "metadata": {
        "id": "XFOqL42SMeZ1"
      },
      "source": [
        "# Adapt text vectorizer to training sentences\n",
        "text_vectorizer.adapt(train_sentences)"
      ],
      "execution_count": 66,
      "outputs": []
    },
    {
      "cell_type": "code",
      "metadata": {
        "colab": {
          "base_uri": "https://localhost:8080/"
        },
        "id": "ZJdl5aYeMcun",
        "outputId": "08ff2f76-9070-45cf-8bea-aa18c9580bc8"
      },
      "source": [
        "# Test out text vectorizer on random sentences\n",
        "import random\n",
        "target_sentence = random.choice(train_sentences)\n",
        "print(f\"Text:\\n{target_sentence}\")\n",
        "print(f\"\\nLength of text: {len(target_sentence.split())}\")\n",
        "print(f\"\\nVectorized text:{text_vectorizer([target_sentence])}\")"
      ],
      "execution_count": 67,
      "outputs": [
        {
          "output_type": "stream",
          "text": [
            "Text:\n",
            "open and laparoscopic orchiopexy procedures for peeping testes are fairly comparable .\n",
            "\n",
            "Length of text: 12\n",
            "\n",
            "Vectorized text:[[  655     3   723 13820   705    11 29425 28162    58 12127   550     0\n",
            "      0     0     0     0     0     0     0     0     0     0     0     0\n",
            "      0     0     0     0     0     0     0     0     0     0     0     0\n",
            "      0     0     0     0     0     0     0     0     0     0     0     0\n",
            "      0     0     0     0     0     0     0]]\n"
          ],
          "name": "stdout"
        }
      ]
    },
    {
      "cell_type": "code",
      "metadata": {
        "colab": {
          "base_uri": "https://localhost:8080/"
        },
        "id": "Bfn3hJHHN9GS",
        "outputId": "91c51fe6-fe32-438a-dc78-adb0c782d737"
      },
      "source": [
        "# How many words in our training vocabulary ?\n",
        "rct_20k_text_vocab = text_vectorizer.get_vocabulary()\n",
        "print(f\"Number of words in vocab : {len(rct_20k_text_vocab)}\")\n",
        "print(f\"Most common words in the vocab : {rct_20k_text_vocab[:5]}\")\n",
        "print(f\"Least common words in the vocab :v{rct_20k_text_vocab[-5:]}\")"
      ],
      "execution_count": 68,
      "outputs": [
        {
          "output_type": "stream",
          "text": [
            "Number of words in vocab : 64841\n",
            "Most common words in the vocab : ['', '[UNK]', 'the', 'and', 'of']\n",
            "Least common words in the vocab :v['aainduced', 'aaigroup', 'aachener', 'aachen', 'aaacp']\n"
          ],
          "name": "stdout"
        }
      ]
    },
    {
      "cell_type": "code",
      "metadata": {
        "colab": {
          "base_uri": "https://localhost:8080/"
        },
        "id": "nMQvZh2LUyeb",
        "outputId": "bc7d91c1-d047-4618-9432-0af47d56f3e9"
      },
      "source": [
        "# Get the config of our text vectorizer\n",
        "text_vectorizer.get_config()"
      ],
      "execution_count": 69,
      "outputs": [
        {
          "output_type": "execute_result",
          "data": {
            "text/plain": [
              "{'dtype': 'string',\n",
              " 'max_tokens': 68000,\n",
              " 'name': 'text_vectorization',\n",
              " 'ngrams': None,\n",
              " 'output_mode': 'int',\n",
              " 'output_sequence_length': 55,\n",
              " 'pad_to_max_tokens': True,\n",
              " 'split': 'whitespace',\n",
              " 'standardize': 'lower_and_strip_punctuation',\n",
              " 'trainable': True,\n",
              " 'vocabulary_size': 64841}"
            ]
          },
          "metadata": {
            "tags": []
          },
          "execution_count": 69
        }
      ]
    },
    {
      "cell_type": "markdown",
      "metadata": {
        "id": "2PrEpj-UN0pQ"
      },
      "source": [
        "### Create custom text embedding"
      ]
    },
    {
      "cell_type": "code",
      "metadata": {
        "colab": {
          "base_uri": "https://localhost:8080/"
        },
        "id": "Hr9bxe2GNpQE",
        "outputId": "40a6a518-91d3-4cb8-ca8e-c0183194bf07"
      },
      "source": [
        "# Create token embedding layer\n",
        "token_embed = layers.Embedding(input_dim = len(rct_20k_text_vocab), # length of vocabulary\n",
        "                             output_dim = 128, # Note: different embedding sizes result in drastically differnt number of params to train\n",
        "                             mask_zero=True, # use masking to handle  variable sequence lengths(save space)\n",
        "                             name=\"token_embedding\")\n",
        "token_embed"
      ],
      "execution_count": 70,
      "outputs": [
        {
          "output_type": "execute_result",
          "data": {
            "text/plain": [
              "<tensorflow.python.keras.layers.embeddings.Embedding at 0x7f2e9d0ff1d0>"
            ]
          },
          "metadata": {
            "tags": []
          },
          "execution_count": 70
        }
      ]
    },
    {
      "cell_type": "code",
      "metadata": {
        "colab": {
          "base_uri": "https://localhost:8080/"
        },
        "id": "b7gVJcftsz0u",
        "outputId": "95bb64f1-c7de-4170-bf1c-b6e8d518b1a9"
      },
      "source": [
        "# Show example embedding\n",
        "print(f\"Sentence before vectorization:\\n {target_sentence}\\n\")\n",
        "vectorized_sentence = text_vectorizer([target_sentence])\n",
        "print(f\"Sentence after vectorization(before embedding):\\n {vectorized_sentence}\\n\")\n",
        "embedded_sentence = token_embed(vectorized_sentence)\n",
        "print(f\"Sentence after embedding:\\n {embedded_sentence}\\n\")\n",
        "print(f\"Embedded sentence shape: {embedded_sentence.shape}\")"
      ],
      "execution_count": 71,
      "outputs": [
        {
          "output_type": "stream",
          "text": [
            "Sentence before vectorization:\n",
            " open and laparoscopic orchiopexy procedures for peeping testes are fairly comparable .\n",
            "\n",
            "Sentence after vectorization(before embedding):\n",
            " [[  655     3   723 13820   705    11 29425 28162    58 12127   550     0\n",
            "      0     0     0     0     0     0     0     0     0     0     0     0\n",
            "      0     0     0     0     0     0     0     0     0     0     0     0\n",
            "      0     0     0     0     0     0     0     0     0     0     0     0\n",
            "      0     0     0     0     0     0     0]]\n",
            "\n",
            "Sentence after embedding:\n",
            " [[[ 4.8406806e-02 -4.4142641e-02  2.6266146e-02 ...  4.1564669e-02\n",
            "   -4.8838593e-02  4.3223586e-02]\n",
            "  [-4.6922445e-02  2.6820127e-02  1.0869157e-02 ...  1.4196407e-02\n",
            "    4.5572195e-02  3.9002184e-02]\n",
            "  [ 3.8568024e-02  2.2709370e-05 -2.5227165e-02 ... -1.8361438e-02\n",
            "    2.9373657e-02 -8.9365132e-03]\n",
            "  ...\n",
            "  [-1.1114873e-02 -1.4827110e-02  2.9570747e-02 ...  2.0543423e-02\n",
            "    3.7467409e-02 -3.4601022e-02]\n",
            "  [-1.1114873e-02 -1.4827110e-02  2.9570747e-02 ...  2.0543423e-02\n",
            "    3.7467409e-02 -3.4601022e-02]\n",
            "  [-1.1114873e-02 -1.4827110e-02  2.9570747e-02 ...  2.0543423e-02\n",
            "    3.7467409e-02 -3.4601022e-02]]]\n",
            "\n",
            "Embedded sentence shape: (1, 55, 128)\n"
          ],
          "name": "stdout"
        }
      ]
    },
    {
      "cell_type": "markdown",
      "metadata": {
        "id": "dWv2gvF3tq4k"
      },
      "source": [
        "## Creating datasets(making sure our data loads as fast as possible)\n",
        "We're going to setup our data to run as fast as possible with the TensorFlow tf.data API, many of the steps are discussed at length in these 2 resources :\n",
        "\n",
        "* https://www.tensorflow.org/guide/data_performance\n",
        "* https://www.tensorflow.org/guide/data"
      ]
    },
    {
      "cell_type": "code",
      "metadata": {
        "colab": {
          "base_uri": "https://localhost:8080/"
        },
        "id": "KNJiS3CUrqcw",
        "outputId": "3f60e7ed-04d2-4469-a93c-f106ce58346b"
      },
      "source": [
        "# Turn our data into TensorFlow Datasets\n",
        "train_dataset = tf.data.Dataset.from_tensor_slices((train_sentences, train_labels_one_hot))\n",
        "valid_dataset = tf.data.Dataset.from_tensor_slices((val_sentences, val_labels_one_hot))\n",
        "test_dataset = tf.data.Dataset.from_tensor_slices((test_sentences, test_labels_one_hot))\n",
        "train_dataset"
      ],
      "execution_count": 72,
      "outputs": [
        {
          "output_type": "execute_result",
          "data": {
            "text/plain": [
              "<TensorSliceDataset shapes: ((), (5,)), types: (tf.string, tf.float64)>"
            ]
          },
          "metadata": {
            "tags": []
          },
          "execution_count": 72
        }
      ]
    },
    {
      "cell_type": "code",
      "metadata": {
        "colab": {
          "base_uri": "https://localhost:8080/"
        },
        "id": "Qk49qJJ0pPpK",
        "outputId": "bbe8d2ea-e3e2-44cb-83e2-2a5a5ad4748e"
      },
      "source": [
        "train_labels_one_hot.shape, train_labels_one_hot[0]"
      ],
      "execution_count": 73,
      "outputs": [
        {
          "output_type": "execute_result",
          "data": {
            "text/plain": [
              "((180040, 5), array([0., 0., 0., 1., 0.]))"
            ]
          },
          "metadata": {
            "tags": []
          },
          "execution_count": 73
        }
      ]
    },
    {
      "cell_type": "code",
      "metadata": {
        "colab": {
          "base_uri": "https://localhost:8080/"
        },
        "id": "rGWneWL9pBBn",
        "outputId": "727b7917-089f-4248-a1b0-f4a9bb662018"
      },
      "source": [
        "# Take the TensorSliceDataset's and turn them into prefetch dataset\n",
        "# https://www.tensorflow.org/guide/data_performance#prefetching\n",
        "# tf.data.AUTOTUNE - automatically prefetch as many samples as you can\n",
        "# Dont run it more than once\n",
        "train_dataset = train_dataset.batch(32).prefetch(tf.data.AUTOTUNE) \n",
        "valid_dataset = valid_dataset.batch(32).prefetch(tf.data.AUTOTUNE)\n",
        "test_dataset = test_dataset.batch(32).prefetch(tf.data.AUTOTUNE)\n",
        "train_dataset\n"
      ],
      "execution_count": 74,
      "outputs": [
        {
          "output_type": "execute_result",
          "data": {
            "text/plain": [
              "<PrefetchDataset shapes: ((None,), (None, 5)), types: (tf.string, tf.float64)>"
            ]
          },
          "metadata": {
            "tags": []
          },
          "execution_count": 74
        }
      ]
    },
    {
      "cell_type": "markdown",
      "metadata": {
        "id": "GDDGepFwtDYB"
      },
      "source": [
        "## Model 1 : Conv1D with token embeddings"
      ]
    },
    {
      "cell_type": "code",
      "metadata": {
        "id": "FSYD2Symrjui"
      },
      "source": [
        "# Create 1D conv model to process sequences\n",
        "from tensorflow.keras import layers\n",
        "\n",
        "inputs = layers.Input(shape=(1, ), dtype=\"string\")\n",
        "text_vectors = text_vectorizer(inputs) # vectorize text inputs\n",
        "token_embeddings = token_embed(text_vectors)  # create embeddings\n",
        "x = layers.Conv1D(filters = 64, # number of hidden units\n",
        "                  kernel_size = 5, # take 5 words at a time n-gram = 5\n",
        "                  strides=1, # default value\n",
        "                  padding=\"same\", # default value\n",
        "                  activation=\"relu\" \n",
        "                  )(token_embeddings)\n",
        "x = layers.GlobalAveragePooling1D()(x)\n",
        "outputs = layers.Dense(num_classes, activation=\"softmax\")(x)\n",
        "model_1 = tf.keras.Model(inputs, outputs)\n"
      ],
      "execution_count": 75,
      "outputs": []
    },
    {
      "cell_type": "code",
      "metadata": {
        "id": "AbQ_r1pLtq_n"
      },
      "source": [
        "# Compile model 1\n",
        "model_1.compile(loss=\"categorical_crossentropy\",\n",
        "                optimizer = tf.keras.optimizers.Adam(),\n",
        "                metrics=[\"accuracy\"])\n"
      ],
      "execution_count": 76,
      "outputs": []
    },
    {
      "cell_type": "code",
      "metadata": {
        "id": "_VGJfT6DujQz",
        "colab": {
          "base_uri": "https://localhost:8080/"
        },
        "outputId": "a1467c8e-4e03-4558-cf99-e57a9e62ca3b"
      },
      "source": [
        "model_1.summary()"
      ],
      "execution_count": 77,
      "outputs": [
        {
          "output_type": "stream",
          "text": [
            "Model: \"model\"\n",
            "_________________________________________________________________\n",
            "Layer (type)                 Output Shape              Param #   \n",
            "=================================================================\n",
            "input_1 (InputLayer)         [(None, 1)]               0         \n",
            "_________________________________________________________________\n",
            "text_vectorization (TextVect (None, 55)                0         \n",
            "_________________________________________________________________\n",
            "token_embedding (Embedding)  (None, 55, 128)           8299648   \n",
            "_________________________________________________________________\n",
            "conv1d (Conv1D)              (None, 55, 64)            41024     \n",
            "_________________________________________________________________\n",
            "global_average_pooling1d (Gl (None, 64)                0         \n",
            "_________________________________________________________________\n",
            "dense (Dense)                (None, 5)                 325       \n",
            "=================================================================\n",
            "Total params: 8,340,997\n",
            "Trainable params: 8,340,997\n",
            "Non-trainable params: 0\n",
            "_________________________________________________________________\n"
          ],
          "name": "stdout"
        }
      ]
    },
    {
      "cell_type": "code",
      "metadata": {
        "id": "1j1ldhQtu5JO"
      },
      "source": [
        "from helper_functions import create_tensorboard_callback\n",
        "SAVE_DIR = \"milestone_project_experiments\""
      ],
      "execution_count": 78,
      "outputs": []
    },
    {
      "cell_type": "code",
      "metadata": {
        "id": "HX0UUHfJvghj",
        "colab": {
          "base_uri": "https://localhost:8080/"
        },
        "outputId": "59d7dfbf-470e-4155-9356-418d366cea94"
      },
      "source": [
        "train_dataset"
      ],
      "execution_count": 79,
      "outputs": [
        {
          "output_type": "execute_result",
          "data": {
            "text/plain": [
              "<PrefetchDataset shapes: ((None,), (None, 5)), types: (tf.string, tf.float64)>"
            ]
          },
          "metadata": {
            "tags": []
          },
          "execution_count": 79
        }
      ]
    },
    {
      "cell_type": "code",
      "metadata": {
        "id": "oYZQvNj6viW4",
        "colab": {
          "base_uri": "https://localhost:8080/"
        },
        "outputId": "bf164b2b-c9ea-49f3-961b-b91577bcaf4f"
      },
      "source": [
        "len(train_dataset)  * 32 #(batch size)"
      ],
      "execution_count": 80,
      "outputs": [
        {
          "output_type": "execute_result",
          "data": {
            "text/plain": [
              "180064"
            ]
          },
          "metadata": {
            "tags": []
          },
          "execution_count": 80
        }
      ]
    },
    {
      "cell_type": "code",
      "metadata": {
        "id": "qGq_Xh3vubxX",
        "colab": {
          "base_uri": "https://localhost:8080/"
        },
        "outputId": "9dc88ff2-43fb-41ce-d683-f68908e39985"
      },
      "source": [
        "# Fit the model\n",
        "history_model_1 = model_1.fit(train_dataset,\n",
        "                              steps_per_epoch= int(0.1 * len(train_dataset)), # only train on 10% of the total training batchs\n",
        "                              epochs=3,\n",
        "                              validation_data = valid_dataset,\n",
        "                              validation_steps =int(0.1 * len(valid_dataset))) # only validate on 10% of the batches\n"
      ],
      "execution_count": null,
      "outputs": [
        {
          "output_type": "stream",
          "text": [
            "Epoch 1/3\n",
            "562/562 [==============================] - 78s 83ms/step - loss: 0.9039 - accuracy: 0.6447 - val_loss: 0.6826 - val_accuracy: 0.7394\n",
            "Epoch 2/3\n",
            "562/562 [==============================] - 47s 83ms/step - loss: 0.6597 - accuracy: 0.7553 - val_loss: 0.6320 - val_accuracy: 0.7713\n",
            "Epoch 3/3\n",
            "562/562 [==============================] - 47s 83ms/step - loss: 0.6216 - accuracy: 0.7727 - val_loss: 0.6027 - val_accuracy: 0.7846\n"
          ],
          "name": "stdout"
        }
      ]
    },
    {
      "cell_type": "code",
      "metadata": {
        "id": "4MokEZAKw-sx",
        "colab": {
          "base_uri": "https://localhost:8080/"
        },
        "outputId": "0d8f4d63-d949-48aa-bec1-33a55df132be"
      },
      "source": [
        "# Evaluate on whole dataset\n",
        "results_model_1 = model_1.evaluate(valid_dataset)\n",
        "results_model_1"
      ],
      "execution_count": null,
      "outputs": [
        {
          "output_type": "stream",
          "text": [
            "945/945 [==============================] - 3s 4ms/step - loss: 0.6058 - accuracy: 0.7829\n"
          ],
          "name": "stdout"
        },
        {
          "output_type": "execute_result",
          "data": {
            "text/plain": [
              "[0.6057936549186707, 0.7829008102416992]"
            ]
          },
          "metadata": {
            "tags": []
          },
          "execution_count": 51
        }
      ]
    },
    {
      "cell_type": "code",
      "metadata": {
        "id": "5-YRmRV6xJW2",
        "colab": {
          "base_uri": "https://localhost:8080/"
        },
        "outputId": "cef7e24f-2224-46b0-8a0e-2c6d2d3dc6e3"
      },
      "source": [
        "# Make predictions (our model predicts predictions probabilities for each class)\n",
        "model_1_pred_probs = model_1.predict(valid_dataset)\n",
        "model_1_pred_probs, model_1_pred_probs.shape"
      ],
      "execution_count": null,
      "outputs": [
        {
          "output_type": "execute_result",
          "data": {
            "text/plain": [
              "(array([[4.3589103e-01, 1.5533425e-01, 9.2460781e-02, 2.8638116e-01,\n",
              "         2.9932717e-02],\n",
              "        [4.6889606e-01, 2.5484717e-01, 1.3450994e-02, 2.5581038e-01,\n",
              "         6.9954079e-03],\n",
              "        [1.2550519e-01, 9.1707353e-03, 1.6029907e-03, 8.6369008e-01,\n",
              "         3.0952571e-05],\n",
              "        ...,\n",
              "        [4.0291666e-06, 6.9902965e-04, 6.8368018e-04, 2.5411318e-06,\n",
              "         9.9861073e-01],\n",
              "        [6.8810597e-02, 4.6016484e-01, 1.0318732e-01, 8.0313191e-02,\n",
              "         2.8752398e-01],\n",
              "        [1.4817370e-01, 6.5447325e-01, 3.3147585e-02, 4.7062654e-02,\n",
              "         1.1714286e-01]], dtype=float32), (30212, 5))"
            ]
          },
          "metadata": {
            "tags": []
          },
          "execution_count": 52
        }
      ]
    },
    {
      "cell_type": "code",
      "metadata": {
        "id": "Ag47js0q0kxO",
        "colab": {
          "base_uri": "https://localhost:8080/"
        },
        "outputId": "f36bd87f-5902-4593-9d09-7ff1b9834c99"
      },
      "source": [
        "# Convert pred probs to classes\n",
        "model_1_preds = tf.argmax(model_1_pred_probs, axis=1)\n",
        "model_1_preds"
      ],
      "execution_count": null,
      "outputs": [
        {
          "output_type": "execute_result",
          "data": {
            "text/plain": [
              "<tf.Tensor: shape=(30212,), dtype=int64, numpy=array([0, 0, 3, ..., 4, 1, 1])>"
            ]
          },
          "metadata": {
            "tags": []
          },
          "execution_count": 53
        }
      ]
    },
    {
      "cell_type": "code",
      "metadata": {
        "id": "sva-7qO302WQ",
        "colab": {
          "base_uri": "https://localhost:8080/"
        },
        "outputId": "07c0ed84-d9a6-4ef5-db57-ef6002a270ac"
      },
      "source": [
        "class_names"
      ],
      "execution_count": null,
      "outputs": [
        {
          "output_type": "execute_result",
          "data": {
            "text/plain": [
              "array(['BACKGROUND', 'CONCLUSIONS', 'METHODS', 'OBJECTIVE', 'RESULTS'],\n",
              "      dtype=object)"
            ]
          },
          "metadata": {
            "tags": []
          },
          "execution_count": 54
        }
      ]
    },
    {
      "cell_type": "code",
      "metadata": {
        "id": "seGAlvhj07ko",
        "colab": {
          "base_uri": "https://localhost:8080/"
        },
        "outputId": "fec28482-7bbf-4051-9f8e-eafc974d148b"
      },
      "source": [
        "# Calculate model_1_results = \n",
        "model_1_results = calculate_results(y_true = val_labels_encoded,\n",
        "                                    y_pred = model_1_preds)\n",
        "model_1_results"
      ],
      "execution_count": null,
      "outputs": [
        {
          "output_type": "execute_result",
          "data": {
            "text/plain": [
              "{'accuracy': 78.29008341056533,\n",
              " 'f1': 0.7805026337373832,\n",
              " 'precision': 0.7797897039350686,\n",
              " 'recall': 0.7829008341056534}"
            ]
          },
          "metadata": {
            "tags": []
          },
          "execution_count": 55
        }
      ]
    },
    {
      "cell_type": "code",
      "metadata": {
        "id": "aJLA-wQY1KBX",
        "colab": {
          "base_uri": "https://localhost:8080/"
        },
        "outputId": "fc3532a6-03c3-41e1-fe27-e45b91507902"
      },
      "source": [
        "baseline_results"
      ],
      "execution_count": null,
      "outputs": [
        {
          "output_type": "execute_result",
          "data": {
            "text/plain": [
              "{'accuracy': 72.1832384482987,\n",
              " 'f1': 0.6989250353450294,\n",
              " 'precision': 0.7186466952323352,\n",
              " 'recall': 0.7218323844829869}"
            ]
          },
          "metadata": {
            "tags": []
          },
          "execution_count": 56
        }
      ]
    },
    {
      "cell_type": "markdown",
      "metadata": {
        "id": "qXGQ19gh9r9h"
      },
      "source": [
        "## Model 2: Feature extraction with pretrained token embeddings\n",
        "\n",
        "Now lets use pretrained word embeddings from TensorFlow Hub, more specifically the universal sentence encoder\n",
        "https://tfhub.dev/google/universal-sentence-encoder/4\n",
        "\n",
        "The paper originally used GloVe embeddings, however, we're going to stick with later created USE pretrained embeddings.\n",
        "\n",
        "More pretrained training models for all domains here \n",
        "https://huggingface.co/"
      ]
    },
    {
      "cell_type": "code",
      "metadata": {
        "id": "2UlB2Am99zkN"
      },
      "source": [
        "# Download pretrained TensorFlow Hub USE\n",
        "import tensorflow_hub as hub\n",
        "\n",
        "tf_hub_embedding_layer = hub.KerasLayer(\"https://tfhub.dev/google/universal-sentence-encoder/4\",\n",
        "                                        trainable=False,\n",
        "                                        name=\"universal_sentence_encoder\")"
      ],
      "execution_count": 81,
      "outputs": []
    },
    {
      "cell_type": "code",
      "metadata": {
        "colab": {
          "base_uri": "https://localhost:8080/"
        },
        "id": "hD2elk77_-R-",
        "outputId": "7085de51-142e-45b7-c04d-a82575484c88"
      },
      "source": [
        "# Test out the pretrained embedding on a random sentence\n",
        "random_train_sentence = random.choice(train_sentences)\n",
        "print(f\"Random sentence :\\n {random_train_sentence}\")\n",
        "use_embedded_sentence = tf_hub_embedding_layer([random_train_sentence])\n",
        "print(f\"Sentence after embedding:\\n{use_embedded_sentence[0][:30]}\\n\")\n",
        "print(f\"Length of sentence embedding: {len(use_embedded_sentence[0])}\")\n"
      ],
      "execution_count": 82,
      "outputs": [
        {
          "output_type": "stream",
          "text": [
            "Random sentence :\n",
            " for short-term outcomes , the prednisolone group had less cough , rhinitis , noisy breathing , severe breathing difficulties , and nocturnal respiratory symptoms at home within @ weeks ( all p < @ ) .\n",
            "Sentence after embedding:\n",
            "[ 0.00192321  0.00853989 -0.02360833  0.04866291  0.01088349 -0.01190146\n",
            "  0.03905206 -0.06812462  0.02005574  0.06486358  0.07820264  0.07789983\n",
            "  0.05894526 -0.05436101  0.06056722 -0.00632172 -0.07828968 -0.02238804\n",
            " -0.00403198  0.04422234  0.00602562  0.00771883 -0.04830147  0.00095153\n",
            " -0.07730733 -0.06477278  0.06217211  0.02229512 -0.07308281 -0.05604868]\n",
            "\n",
            "Length of sentence embedding: 512\n"
          ],
          "name": "stdout"
        }
      ]
    },
    {
      "cell_type": "code",
      "metadata": {
        "colab": {
          "base_uri": "https://localhost:8080/"
        },
        "id": "qJO4wzJ-EDe_",
        "outputId": "15334b45-7cee-499a-f7db-75abe679af87"
      },
      "source": [
        "use_embedded_sentence.shape"
      ],
      "execution_count": 83,
      "outputs": [
        {
          "output_type": "execute_result",
          "data": {
            "text/plain": [
              "TensorShape([1, 512])"
            ]
          },
          "metadata": {
            "tags": []
          },
          "execution_count": 83
        }
      ]
    },
    {
      "cell_type": "markdown",
      "metadata": {
        "id": "w2bgCtQaInN3"
      },
      "source": [
        "### Building and fitting an NLP extraction mdoel using pretrained embeddings from Tensorflow Hub"
      ]
    },
    {
      "cell_type": "code",
      "metadata": {
        "id": "WpOQKeoGEeUO"
      },
      "source": [
        "# Define feature extraction model using TF Hub layer\n",
        "from tensorflow.keras import layers\n",
        "\n",
        "inputs = layers.Input(shape=[], dtype=\"string\") # required empty list for pretrained layer\n",
        "pretrained_embedding  = tf_hub_embedding_layer(inputs) # tokenize and embeddings of each sequence(512 long vectors)\n",
        "x = layers.Dense(128, activation=\"relu\")(pretrained_embedding)\n",
        "# Note : you could add more layes here if you wanted to \n",
        "outputs = layers.Dense(num_classes, activation=\"softmax\")(x) # create the output layer\n",
        "model_2 = tf.keras.Model(inputs = inputs,\n",
        "                         outputs = outputs,\n",
        "                         name=\"model_2_USE_feature_extractor\")\n",
        "\n",
        "model_2.compile(loss=\"categorical_crossentropy\",\n",
        "                optimizer=tf.keras.optimizers.Adam(),\n",
        "                metrics=[\"accuracy\"])\n"
      ],
      "execution_count": 84,
      "outputs": []
    },
    {
      "cell_type": "code",
      "metadata": {
        "colab": {
          "base_uri": "https://localhost:8080/"
        },
        "id": "6t2cqGHlK8WR",
        "outputId": "3adb5aef-a95f-4265-934a-b81eb9865715"
      },
      "source": [
        "# Model summary\n",
        "model_2.summary()"
      ],
      "execution_count": 85,
      "outputs": [
        {
          "output_type": "stream",
          "text": [
            "Model: \"model_2_USE_feature_extractor\"\n",
            "_________________________________________________________________\n",
            "Layer (type)                 Output Shape              Param #   \n",
            "=================================================================\n",
            "input_2 (InputLayer)         [(None,)]                 0         \n",
            "_________________________________________________________________\n",
            "universal_sentence_encoder ( (None, 512)               256797824 \n",
            "_________________________________________________________________\n",
            "dense_1 (Dense)              (None, 128)               65664     \n",
            "_________________________________________________________________\n",
            "dense_2 (Dense)              (None, 5)                 645       \n",
            "=================================================================\n",
            "Total params: 256,864,133\n",
            "Trainable params: 66,309\n",
            "Non-trainable params: 256,797,824\n",
            "_________________________________________________________________\n"
          ],
          "name": "stdout"
        }
      ]
    },
    {
      "cell_type": "code",
      "metadata": {
        "colab": {
          "base_uri": "https://localhost:8080/"
        },
        "id": "x9QV1xzKH8cO",
        "outputId": "c9208f12-abf0-46a0-a831-6b6728c8f54d"
      },
      "source": [
        "history_model_2 = model_2.fit(train_dataset,\n",
        "                              epochs=3,\n",
        "                              steps_per_epoch=int(0.1 * len(train_dataset)),\n",
        "                              validation_data = valid_dataset,\n",
        "                              validation_steps = int(0.1 * len(valid_dataset))\n",
        "                              )"
      ],
      "execution_count": 86,
      "outputs": [
        {
          "output_type": "stream",
          "text": [
            "Epoch 1/3\n",
            "562/562 [==============================] - 9s 12ms/step - loss: 0.9164 - accuracy: 0.6520 - val_loss: 0.7960 - val_accuracy: 0.6888\n",
            "Epoch 2/3\n",
            "562/562 [==============================] - 6s 11ms/step - loss: 0.7708 - accuracy: 0.7006 - val_loss: 0.7580 - val_accuracy: 0.7048\n",
            "Epoch 3/3\n",
            "562/562 [==============================] - 6s 11ms/step - loss: 0.7570 - accuracy: 0.7098 - val_loss: 0.7429 - val_accuracy: 0.7104\n"
          ],
          "name": "stdout"
        }
      ]
    },
    {
      "cell_type": "code",
      "metadata": {
        "colab": {
          "base_uri": "https://localhost:8080/"
        },
        "id": "CP21HofiM88O",
        "outputId": "e1590f13-3356-4fa1-fff4-044fa962de61"
      },
      "source": [
        "# Evaluate the model\n",
        "results_model_2 = model_2.evaluate(valid_dataset)\n",
        "results_model_2"
      ],
      "execution_count": 87,
      "outputs": [
        {
          "output_type": "stream",
          "text": [
            "945/945 [==============================] - 9s 9ms/step - loss: 0.7457 - accuracy: 0.7115\n"
          ],
          "name": "stdout"
        },
        {
          "output_type": "execute_result",
          "data": {
            "text/plain": [
              "[0.7456743717193604, 0.7115053534507751]"
            ]
          },
          "metadata": {
            "tags": []
          },
          "execution_count": 87
        }
      ]
    },
    {
      "cell_type": "code",
      "metadata": {
        "colab": {
          "base_uri": "https://localhost:8080/"
        },
        "id": "PTVUxRFlOJSq",
        "outputId": "629c4f9b-5eea-40e9-f9d4-6638145e1d90"
      },
      "source": [
        "# Make predictions with feature extraction mdoel\n",
        "model_2_pred_probs = model_2.predict(valid_dataset)\n",
        "model_2_pred_probs[:10]"
      ],
      "execution_count": 88,
      "outputs": [
        {
          "output_type": "execute_result",
          "data": {
            "text/plain": [
              "array([[3.86243016e-01, 3.71584594e-01, 2.77641928e-03, 2.31231108e-01,\n",
              "        8.16483051e-03],\n",
              "       [3.58895212e-01, 4.91534591e-01, 3.37623851e-03, 1.42819300e-01,\n",
              "        3.37458379e-03],\n",
              "       [2.18943760e-01, 1.59275860e-01, 1.90387499e-02, 5.65042555e-01,\n",
              "        3.76990810e-02],\n",
              "       [1.22525282e-02, 4.48933095e-02, 8.13385308e-01, 8.64230469e-03,\n",
              "        1.20826453e-01],\n",
              "       [3.04552764e-02, 2.18211889e-01, 2.24815041e-01, 1.35250455e-02,\n",
              "        5.12992740e-01],\n",
              "       [8.76467733e-04, 2.31415289e-03, 7.13332951e-01, 1.33838344e-04,\n",
              "        2.83342570e-01],\n",
              "       [2.03648186e-03, 3.43205640e-03, 6.58268631e-01, 1.15057488e-03,\n",
              "        3.35112244e-01],\n",
              "       [3.89291765e-03, 2.22676937e-02, 4.36216027e-01, 9.57799261e-04,\n",
              "        5.36665499e-01],\n",
              "       [7.14735477e-04, 6.98619243e-03, 2.22979076e-02, 9.71283647e-04,\n",
              "        9.69029903e-01],\n",
              "       [1.15270562e-01, 7.14622080e-01, 2.51664426e-02, 7.70978928e-02,\n",
              "        6.78430051e-02]], dtype=float32)"
            ]
          },
          "metadata": {
            "tags": []
          },
          "execution_count": 88
        }
      ]
    },
    {
      "cell_type": "code",
      "metadata": {
        "colab": {
          "base_uri": "https://localhost:8080/"
        },
        "id": "_0S9jKuFP-9N",
        "outputId": "96efc4e5-79c5-4c9a-a14b-920e803709e2"
      },
      "source": [
        "# Convert the predictions probabilities found with feature extraction model to labels\n",
        "model_2_preds = tf.argmax(model_2_pred_probs, axis=1)\n",
        "model_2_preds"
      ],
      "execution_count": 89,
      "outputs": [
        {
          "output_type": "execute_result",
          "data": {
            "text/plain": [
              "<tf.Tensor: shape=(30212,), dtype=int64, numpy=array([0, 1, 3, ..., 4, 4, 2])>"
            ]
          },
          "metadata": {
            "tags": []
          },
          "execution_count": 89
        }
      ]
    },
    {
      "cell_type": "code",
      "metadata": {
        "id": "0oUyWhhGPsEX"
      },
      "source": [
        "# Calculate results from TF Hub pretrained embeddings results on val set\n",
        "model_2_results = calculate_results(y_true = val_labels_encoded,\n",
        "                                    y_pred = model_2_preds)\n"
      ],
      "execution_count": 90,
      "outputs": []
    },
    {
      "cell_type": "code",
      "metadata": {
        "colab": {
          "base_uri": "https://localhost:8080/"
        },
        "id": "musM_yfgQ0r1",
        "outputId": "8a12aad4-c8c6-4988-f64e-e029d7669cf1"
      },
      "source": [
        "model_2_results"
      ],
      "execution_count": 91,
      "outputs": [
        {
          "output_type": "execute_result",
          "data": {
            "text/plain": [
              "{'accuracy': 71.15053621077718,\n",
              " 'f1': 0.708740947446808,\n",
              " 'precision': 0.7122885090740001,\n",
              " 'recall': 0.7115053621077717}"
            ]
          },
          "metadata": {
            "tags": []
          },
          "execution_count": 91
        }
      ]
    },
    {
      "cell_type": "code",
      "metadata": {
        "colab": {
          "base_uri": "https://localhost:8080/"
        },
        "id": "_zRXM0stQ2Il",
        "outputId": "c9150a0f-f9e5-453e-ed24-e1db58a498ad"
      },
      "source": [
        "baseline_results"
      ],
      "execution_count": 92,
      "outputs": [
        {
          "output_type": "execute_result",
          "data": {
            "text/plain": [
              "{'accuracy': 72.1832384482987,\n",
              " 'f1': 0.6989250353450294,\n",
              " 'precision': 0.7186466952323352,\n",
              " 'recall': 0.7218323844829869}"
            ]
          },
          "metadata": {
            "tags": []
          },
          "execution_count": 92
        }
      ]
    },
    {
      "cell_type": "markdown",
      "metadata": {
        "id": "ZVR0pVk6RGtC"
      },
      "source": [
        "\n",
        "## Model 3 : Conv1D with character embeddings\n",
        "\n",
        "The paper which we're replicating states they used a combination of token and character-level embeddings.\n",
        "Previously, we've token-level embeddings but we'll need to do similar steps for characters if we want to use char-level embeddings.\n"
      ]
    },
    {
      "cell_type": "markdown",
      "metadata": {
        "id": "fkSt1l3UpRCV"
      },
      "source": [
        "![TokenVsCharacter.jpg](data:image/jpeg;base64,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)"
      ]
    },
    {
      "cell_type": "markdown",
      "metadata": {
        "id": "lnksxTDxpUD-"
      },
      "source": [
        "## Creating a character-level tokenizer"
      ]
    },
    {
      "cell_type": "code",
      "metadata": {
        "id": "1BL86T6Kt_5g",
        "colab": {
          "base_uri": "https://localhost:8080/"
        },
        "outputId": "eda82b14-668d-4c2d-b2a9-f3b3d1cd53db"
      },
      "source": [
        "train_sentences[:5]"
      ],
      "execution_count": 93,
      "outputs": [
        {
          "output_type": "execute_result",
          "data": {
            "text/plain": [
              "['to investigate the efficacy of @ weeks of daily low-dose oral prednisolone in improving pain , mobility , and systemic low-grade inflammation in the short term and whether the effect would be sustained at @ weeks in older adults with moderate to severe knee osteoarthritis ( oa ) .',\n",
              " 'a total of @ patients with primary knee oa were randomized @:@ ; @ received @ mg/day of prednisolone and @ received placebo for @ weeks .',\n",
              " 'outcome measures included pain reduction and improvement in function scores and systemic inflammation markers .',\n",
              " 'pain was assessed using the visual analog pain scale ( @-@ mm ) .',\n",
              " 'secondary outcome measures included the western ontario and mcmaster universities osteoarthritis index scores , patient global assessment ( pga ) of the severity of knee oa , and @-min walk distance ( @mwd ) .']"
            ]
          },
          "metadata": {
            "tags": []
          },
          "execution_count": 93
        }
      ]
    },
    {
      "cell_type": "code",
      "metadata": {
        "id": "6D10HNVluCc-",
        "colab": {
          "base_uri": "https://localhost:8080/",
          "height": 86
        },
        "outputId": "da84b9c8-d2c3-4878-adb6-c0c5f0fcf909"
      },
      "source": [
        "# Make function to split sentences into characters\n",
        "def split_chars(text) :\n",
        "  return \" \".join(list(text))\n",
        "\n",
        "\n",
        "# Text splitting non-character level sequence into characters\n",
        "split_chars(random_train_sentence)"
      ],
      "execution_count": 94,
      "outputs": [
        {
          "output_type": "execute_result",
          "data": {
            "application/vnd.google.colaboratory.intrinsic+json": {
              "type": "string"
            },
            "text/plain": [
              "'f o r   s h o r t - t e r m   o u t c o m e s   ,   t h e   p r e d n i s o l o n e   g r o u p   h a d   l e s s   c o u g h   ,   r h i n i t i s   ,   n o i s y   b r e a t h i n g   ,   s e v e r e   b r e a t h i n g   d i f f i c u l t i e s   ,   a n d   n o c t u r n a l   r e s p i r a t o r y   s y m p t o m s   a t   h o m e   w i t h i n   @   w e e k s   (   a l l   p   <   @   )   .'"
            ]
          },
          "metadata": {
            "tags": []
          },
          "execution_count": 94
        }
      ]
    },
    {
      "cell_type": "code",
      "metadata": {
        "id": "rCMySnFxueec",
        "colab": {
          "base_uri": "https://localhost:8080/"
        },
        "outputId": "81fdad6a-e626-4444-caf3-96b66c43f5cd"
      },
      "source": [
        "# Split sequence-level data splits into character-level data splits\n",
        "\n",
        "train_chars = [split_chars(sentence) for sentence in train_sentences]\n",
        "val_chars = [split_chars(sentence) for sentence in val_sentences]\n",
        "test_chars = [split_chars(sentence) for sentence in test_sentences]\n",
        "train_chars[:5]"
      ],
      "execution_count": 95,
      "outputs": [
        {
          "output_type": "execute_result",
          "data": {
            "text/plain": [
              "['t o   i n v e s t i g a t e   t h e   e f f i c a c y   o f   @   w e e k s   o f   d a i l y   l o w - d o s e   o r a l   p r e d n i s o l o n e   i n   i m p r o v i n g   p a i n   ,   m o b i l i t y   ,   a n d   s y s t e m i c   l o w - g r a d e   i n f l a m m a t i o n   i n   t h e   s h o r t   t e r m   a n d   w h e t h e r   t h e   e f f e c t   w o u l d   b e   s u s t a i n e d   a t   @   w e e k s   i n   o l d e r   a d u l t s   w i t h   m o d e r a t e   t o   s e v e r e   k n e e   o s t e o a r t h r i t i s   (   o a   )   .',\n",
              " 'a   t o t a l   o f   @   p a t i e n t s   w i t h   p r i m a r y   k n e e   o a   w e r e   r a n d o m i z e d   @ : @   ;   @   r e c e i v e d   @   m g / d a y   o f   p r e d n i s o l o n e   a n d   @   r e c e i v e d   p l a c e b o   f o r   @   w e e k s   .',\n",
              " 'o u t c o m e   m e a s u r e s   i n c l u d e d   p a i n   r e d u c t i o n   a n d   i m p r o v e m e n t   i n   f u n c t i o n   s c o r e s   a n d   s y s t e m i c   i n f l a m m a t i o n   m a r k e r s   .',\n",
              " 'p a i n   w a s   a s s e s s e d   u s i n g   t h e   v i s u a l   a n a l o g   p a i n   s c a l e   (   @ - @   m m   )   .',\n",
              " 's e c o n d a r y   o u t c o m e   m e a s u r e s   i n c l u d e d   t h e   w e s t e r n   o n t a r i o   a n d   m c m a s t e r   u n i v e r s i t i e s   o s t e o a r t h r i t i s   i n d e x   s c o r e s   ,   p a t i e n t   g l o b a l   a s s e s s m e n t   (   p g a   )   o f   t h e   s e v e r i t y   o f   k n e e   o a   ,   a n d   @ - m i n   w a l k   d i s t a n c e   (   @ m w d   )   .']"
            ]
          },
          "metadata": {
            "tags": []
          },
          "execution_count": 95
        }
      ]
    },
    {
      "cell_type": "code",
      "metadata": {
        "id": "IDWCLz9MvVwD",
        "colab": {
          "base_uri": "https://localhost:8080/"
        },
        "outputId": "e1d2e8fe-029b-415e-906b-e8d5096ad566"
      },
      "source": [
        "# What's average character length ?\n",
        "char_lens = [len(sentence) for sentence in train_sentences]\n",
        "mean_char_len = np.mean(char_lens)\n",
        "mean_char_len"
      ],
      "execution_count": 96,
      "outputs": [
        {
          "output_type": "execute_result",
          "data": {
            "text/plain": [
              "149.3662574983337"
            ]
          },
          "metadata": {
            "tags": []
          },
          "execution_count": 96
        }
      ]
    },
    {
      "cell_type": "code",
      "metadata": {
        "id": "A1CUUtzxv1m0",
        "colab": {
          "base_uri": "https://localhost:8080/",
          "height": 265
        },
        "outputId": "4842e5be-5fa2-441e-86ce-8425a282f178"
      },
      "source": [
        "# Check the distribution of our sequence at a character-level\n",
        "import matplotlib.pyplot as plt\n",
        "plt.hist(char_lens, bins=7);"
      ],
      "execution_count": 97,
      "outputs": [
        {
          "output_type": "display_data",
          "data": {
            "image/png": "[encoded data removed]",
            "text/plain": [
              "<Figure size 432x288 with 1 Axes>"
            ]
          },
          "metadata": {
            "tags": [],
            "needs_background": "light"
          }
        }
      ]
    },
    {
      "cell_type": "code",
      "metadata": {
        "id": "QxRHyqCjwOH_",
        "colab": {
          "base_uri": "https://localhost:8080/"
        },
        "outputId": "e6a9ac43-e50c-4b55-eb0a-ab1ffe22bcc7"
      },
      "source": [
        "# Find what character length covers 95% of sequences\n",
        "output_seq_char_len = int(np.percentile(char_lens, 95))\n",
        "output_seq_char_len"
      ],
      "execution_count": 98,
      "outputs": [
        {
          "output_type": "execute_result",
          "data": {
            "text/plain": [
              "290"
            ]
          },
          "metadata": {
            "tags": []
          },
          "execution_count": 98
        }
      ]
    },
    {
      "cell_type": "markdown",
      "metadata": {
        "id": "zWtz8gHCw3aM"
      },
      "source": [
        "> Note: Max token for a character level vectorization is how many different characters is used in your dataset. \n",
        "Which is generally ur alphanumeric characters"
      ]
    },
    {
      "cell_type": "code",
      "metadata": {
        "id": "OSZJ5ppTwlI6",
        "colab": {
          "base_uri": "https://localhost:8080/",
          "height": 35
        },
        "outputId": "a2adf524-2722-4369-cf04-7f86fca2c1b9"
      },
      "source": [
        "# Get all keyboard character\n",
        "import string\n",
        "alphabet = string.ascii_lowercase + string.digits + string.punctuation\n",
        "alphabet\n"
      ],
      "execution_count": 99,
      "outputs": [
        {
          "output_type": "execute_result",
          "data": {
            "application/vnd.google.colaboratory.intrinsic+json": {
              "type": "string"
            },
            "text/plain": [
              "'abcdefghijklmnopqrstuvwxyz0123456789!\"#$%&\\'()*+,-./:;<=>?@[\\\\]^_`{|}~'"
            ]
          },
          "metadata": {
            "tags": []
          },
          "execution_count": 99
        }
      ]
    },
    {
      "cell_type": "code",
      "metadata": {
        "id": "MDBIZSW-x1co"
      },
      "source": [
        "# Create char-level token vectorizer instance\n",
        "from tensorflow.keras.layers.experimental.preprocessing import TextVectorization\n",
        "NUM_CHAR_TOKENS = len(alphabet) + 2 # add 2 for space and OOV tone (OOV = out of vocab, '[UNK]')\n",
        "char_vectorizer = TextVectorization(max_tokens = NUM_CHAR_TOKENS,                                    \n",
        "                                    output_mode=\"int\",\n",
        "                                    output_sequence_length = output_seq_char_len,\n",
        "                                    # standardize=None, # set standardization to \"None\" if uou want to get punctuations in\n",
        "                                    name=\"char_vectorizer\")"
      ],
      "execution_count": 100,
      "outputs": []
    },
    {
      "cell_type": "code",
      "metadata": {
        "id": "XrywmROhzWl_"
      },
      "source": [
        "# Adapt character vectorizer to training character\n",
        "char_vectorizer.adapt(train_chars)"
      ],
      "execution_count": 101,
      "outputs": []
    },
    {
      "cell_type": "code",
      "metadata": {
        "colab": {
          "base_uri": "https://localhost:8080/"
        },
        "id": "55fagHz6zggF",
        "outputId": "8e9a0227-6f05-485a-cf46-e3a532323cf2"
      },
      "source": [
        "# Check character vocab stats\n",
        "char_vocab = char_vectorizer.get_vocabulary()\n",
        "print(f\"Numer of different characters in character vocab: {len(char_vocab)}\")\n",
        "print(f\"5 most common characters : {char_vocab[:5]}\")\n",
        "print(f\"5 least common characters: {char_vocab[-5:]}\")"
      ],
      "execution_count": 102,
      "outputs": [
        {
          "output_type": "stream",
          "text": [
            "Numer of different characters in character vocab: 28\n",
            "5 most common characters : ['', '[UNK]', 'e', 't', 'i']\n",
            "5 least common characters: ['k', 'x', 'z', 'q', 'j']\n"
          ],
          "name": "stdout"
        }
      ]
    },
    {
      "cell_type": "code",
      "metadata": {
        "colab": {
          "base_uri": "https://localhost:8080/"
        },
        "id": "i4VU2F51008_",
        "outputId": "fa854982-3a79-4ad1-c6e8-56e24227281d"
      },
      "source": [
        "# Test our character vectorizer\n",
        "random_train_chars = random.choice(train_chars)\n",
        "print(f\"Charified text : \\n {random_train_chars}\")\n",
        "print(f\"\\nLength of random_train chars: {len(random_train_chars.split())}\")\n",
        "vectorized_chars = char_vectorizer([random_train_chars])\n",
        "print(f\"\\nVectorized chars :\\n {vectorized_chars}\")\n",
        "print(f\"\\nLength of vectorized chars : {len(vectorized_chars[0])}\")"
      ],
      "execution_count": 103,
      "outputs": [
        {
          "output_type": "stream",
          "text": [
            "Charified text : \n",
            " a   m u l t i v a r i a b l e   r e g r e s s i o n   a n a l y s i s   ,   i n v o l v i n g   p r e s p e c i f i e d   b a s e l i n e   c h a r a c t e r i s t i c s   a n d   o n - t r e a t m e n t   r e s p o n s e   p a r a m e t e r s   ,   w a s   p e r f o r m e d   ;   a   s t e p w i s e   p r o c e d u r e   i d e n t i f i e d   i n d e p e n d e n t   p r e d i c t o r s   o f   h b s a g   l o s s   .\n",
            "\n",
            "Length of random_train chars: 185\n",
            "\n",
            "Vectorized chars :\n",
            " [[ 5 15 16 12  3  4 21  5  8  4  5 22 12  2  8  2 18  8  2  9  9  4  7  6\n",
            "   5  6  5 12 19  9  4  9  4  6 21  7 12 21  4  6 18 14  8  2  9 14  2 11\n",
            "   4 17  4  2 10 22  5  9  2 12  4  6  2 11 13  5  8  5 11  3  2  8  4  9\n",
            "   3  4 11  9  5  6 10  7  6  3  8  2  5  3 15  2  6  3  8  2  9 14  7  6\n",
            "   9  2 14  5  8  5 15  2  3  2  8  9 20  5  9 14  2  8 17  7  8 15  2 10\n",
            "   5  9  3  2 14 20  4  9  2 14  8  7 11  2 10 16  8  2  4 10  2  6  3  4\n",
            "  17  4  2 10  4  6 10  2 14  2  6 10  2  6  3 14  8  2 10  4 11  3  7  8\n",
            "   9  7 17 13 22  9  5 18 12  7  9  9  0  0  0  0  0  0  0  0  0  0  0  0\n",
            "   0  0  0  0  0  0  0  0  0  0  0  0  0  0  0  0  0  0  0  0  0  0  0  0\n",
            "   0  0  0  0  0  0  0  0  0  0  0  0  0  0  0  0  0  0  0  0  0  0  0  0\n",
            "   0  0  0  0  0  0  0  0  0  0  0  0  0  0  0  0  0  0  0  0  0  0  0  0\n",
            "   0  0  0  0  0  0  0  0  0  0  0  0  0  0  0  0  0  0  0  0  0  0  0  0\n",
            "   0  0]]\n",
            "\n",
            "Length of vectorized chars : 290\n"
          ],
          "name": "stdout"
        }
      ]
    },
    {
      "cell_type": "markdown",
      "metadata": {
        "id": "TB3QhXvZ1S72"
      },
      "source": [
        "## Creating a character-level embedding"
      ]
    },
    {
      "cell_type": "code",
      "metadata": {
        "id": "Y9_xIGl02Yp5"
      },
      "source": [
        "# Create char embedding layer\n",
        "from tensorflow.keras import layers\n",
        "\n",
        "char_embed = layers.Embedding(input_dim = len(char_vocab), #number of different characters\n",
        "                                  output_dim = 25, # this is the size of the char embedding in the paper.  https://arxiv.org/pdf/1612.05251.pdf\n",
        "                                  mask_zero=True,\n",
        "                                  name = \"char_embed\")"
      ],
      "execution_count": 104,
      "outputs": []
    },
    {
      "cell_type": "code",
      "metadata": {
        "colab": {
          "base_uri": "https://localhost:8080/"
        },
        "id": "nHby8ehi7o8Z",
        "outputId": "4a3a68ae-a1bb-4b16-b5d8-9e5d7f28ffa4"
      },
      "source": [
        "# Test our character embedding layer\n",
        "print(f\"Charified text:\\n {random_train_chars}\\n\")\n",
        "char_embed_example = char_embed(char_vectorizer([random_train_chars]))\n",
        "print(f\"Embedded chars. (after vectorization and embedding):\\n{char_embed_example}\\n\")\n",
        "print(f\"Character embedding shape:{char_embed_example.shape}\")"
      ],
      "execution_count": 105,
      "outputs": [
        {
          "output_type": "stream",
          "text": [
            "Charified text:\n",
            " a   m u l t i v a r i a b l e   r e g r e s s i o n   a n a l y s i s   ,   i n v o l v i n g   p r e s p e c i f i e d   b a s e l i n e   c h a r a c t e r i s t i c s   a n d   o n - t r e a t m e n t   r e s p o n s e   p a r a m e t e r s   ,   w a s   p e r f o r m e d   ;   a   s t e p w i s e   p r o c e d u r e   i d e n t i f i e d   i n d e p e n d e n t   p r e d i c t o r s   o f   h b s a g   l o s s   .\n",
            "\n",
            "Embedded chars. (after vectorization and embedding):\n",
            "[[[ 0.03357284  0.03189366 -0.02591087 ...  0.02427434 -0.01938589\n",
            "    0.04369185]\n",
            "  [-0.03863838  0.045107   -0.01269207 ... -0.01037294  0.04801876\n",
            "    0.03555261]\n",
            "  [-0.00965335  0.02054849 -0.00880731 ... -0.0361758  -0.02759482\n",
            "    0.00886367]\n",
            "  ...\n",
            "  [-0.0087795  -0.02049236 -0.03567379 ...  0.02479808 -0.02965114\n",
            "   -0.01449526]\n",
            "  [-0.0087795  -0.02049236 -0.03567379 ...  0.02479808 -0.02965114\n",
            "   -0.01449526]\n",
            "  [-0.0087795  -0.02049236 -0.03567379 ...  0.02479808 -0.02965114\n",
            "   -0.01449526]]]\n",
            "\n",
            "Character embedding shape:(1, 290, 25)\n"
          ],
          "name": "stdout"
        }
      ]
    },
    {
      "cell_type": "markdown",
      "metadata": {
        "id": "nsSZSQJN8bo5"
      },
      "source": [
        "### Building a Conv1D model to fit on the character embeddings\n"
      ]
    },
    {
      "cell_type": "code",
      "metadata": {
        "id": "yZpBklxk_K2D"
      },
      "source": [
        "from tensorflow.keras import layers\n",
        "\n",
        "# Make Conv1D on chars only\n",
        "inputs = layers.Input(shape=(1, ), dtype=\"string\")\n",
        "char_vectors = char_vectorizer(inputs)\n",
        "char_embeddings = char_embed(char_vectors)\n",
        "x = layers.Conv1D(filters = 64,                  \n",
        "                  kernel_size=5,\n",
        "                  padding=\"same\",\n",
        "                  activation=\"relu\")(char_embeddings)\n",
        "x = layers.GlobalMaxPool1D()(x)\n",
        "outputs = layers.Dense(num_classes, activation=\"softmax\")(x)\n",
        "model_3 = tf.keras.Model(inputs= inputs, \n",
        "                         outputs=outputs,\n",
        "                         name=\"model_3_conv1d_char_embeddings\")\n",
        "\n",
        "# Compile the model\n",
        "model_3.compile(loss=\"categorical_crossentropy\",\n",
        "                optimizer=tf.keras.optimizers.Adam(),\n",
        "                metrics=[\"accuracy\"])\n",
        "\n"
      ],
      "execution_count": 106,
      "outputs": []
    },
    {
      "cell_type": "code",
      "metadata": {
        "colab": {
          "base_uri": "https://localhost:8080/"
        },
        "id": "G5wxDUpdAqYb",
        "outputId": "f744a4f6-173c-412a-efc3-8ce05b505d45"
      },
      "source": [
        "# Get model 3 summary\n",
        "model_3.summary()"
      ],
      "execution_count": 107,
      "outputs": [
        {
          "output_type": "stream",
          "text": [
            "Model: \"model_3_conv1d_char_embeddings\"\n",
            "_________________________________________________________________\n",
            "Layer (type)                 Output Shape              Param #   \n",
            "=================================================================\n",
            "input_3 (InputLayer)         [(None, 1)]               0         \n",
            "_________________________________________________________________\n",
            "char_vectorizer (TextVectori (None, 290)               0         \n",
            "_________________________________________________________________\n",
            "char_embed (Embedding)       (None, 290, 25)           700       \n",
            "_________________________________________________________________\n",
            "conv1d_1 (Conv1D)            (None, 290, 64)           8064      \n",
            "_________________________________________________________________\n",
            "global_max_pooling1d (Global (None, 64)                0         \n",
            "_________________________________________________________________\n",
            "dense_3 (Dense)              (None, 5)                 325       \n",
            "=================================================================\n",
            "Total params: 9,089\n",
            "Trainable params: 9,089\n",
            "Non-trainable params: 0\n",
            "_________________________________________________________________\n"
          ],
          "name": "stdout"
        }
      ]
    },
    {
      "cell_type": "code",
      "metadata": {
        "colab": {
          "base_uri": "https://localhost:8080/"
        },
        "id": "99o4lPv0COwt",
        "outputId": "ee3b54e4-8866-4dca-8a5f-2b168ccd89bf"
      },
      "source": [
        "# Create char level datasets\n",
        "train_char_dataset = tf.data.Dataset.from_tensor_slices((train_chars, train_labels_one_hot)).batch(32).prefetch(tf.data.AUTOTUNE)\n",
        "val_char_dataset =   tf.data.Dataset.from_tensor_slices((val_chars, val_labels_one_hot)).batch(32).prefetch(tf.data.AUTOTUNE)\n",
        "test_char_dataset =  tf.data.Dataset.from_tensor_slices((test_chars, test_labels_one_hot)).batch(32).prefetch(tf.data.AUTOTUNE)\n",
        "\n",
        "train_char_dataset"
      ],
      "execution_count": 108,
      "outputs": [
        {
          "output_type": "execute_result",
          "data": {
            "text/plain": [
              "<PrefetchDataset shapes: ((None,), (None, 5)), types: (tf.string, tf.float64)>"
            ]
          },
          "metadata": {
            "tags": []
          },
          "execution_count": 108
        }
      ]
    },
    {
      "cell_type": "code",
      "metadata": {
        "colab": {
          "base_uri": "https://localhost:8080/"
        },
        "id": "r6iLx111Aubg",
        "outputId": "cc26530f-39dc-40c7-e6ae-d4b39dd506ed"
      },
      "source": [
        "# Fit the model on chars only\n",
        "history_model_3 = model_3.fit(train_char_dataset,\n",
        "                              epochs=3, \n",
        "                              steps_per_epoch=int(0.1 * len(train_char_dataset)),\n",
        "                              validation_data = val_char_dataset,\n",
        "                              validation_steps = int(0.1 * len(val_char_dataset)))\n"
      ],
      "execution_count": 109,
      "outputs": [
        {
          "output_type": "stream",
          "text": [
            "Epoch 1/3\n",
            "562/562 [==============================] - 32s 7ms/step - loss: 1.2771 - accuracy: 0.4859 - val_loss: 1.0675 - val_accuracy: 0.5708\n",
            "Epoch 2/3\n",
            "562/562 [==============================] - 5s 9ms/step - loss: 1.0174 - accuracy: 0.5935 - val_loss: 0.9455 - val_accuracy: 0.6293\n",
            "Epoch 3/3\n",
            "562/562 [==============================] - 5s 9ms/step - loss: 0.9235 - accuracy: 0.6351 - val_loss: 0.8654 - val_accuracy: 0.6626\n"
          ],
          "name": "stdout"
        }
      ]
    },
    {
      "cell_type": "code",
      "metadata": {
        "colab": {
          "base_uri": "https://localhost:8080/"
        },
        "id": "yTjPVUtNGGfz",
        "outputId": "0977fcd0-826b-4f3f-87c4-c2b963881dbe"
      },
      "source": [
        "# Evaluate the model 3\n",
        "model_3_results = model_3.evaluate(val_char_dataset)"
      ],
      "execution_count": 110,
      "outputs": [
        {
          "output_type": "stream",
          "text": [
            "945/945 [==============================] - 4s 4ms/step - loss: 0.8851 - accuracy: 0.6562\n"
          ],
          "name": "stdout"
        }
      ]
    },
    {
      "cell_type": "code",
      "metadata": {
        "colab": {
          "base_uri": "https://localhost:8080/"
        },
        "id": "3-BN0uV2Ghbh",
        "outputId": "62700190-befc-42c9-e1d9-4ee63a556367"
      },
      "source": [
        "# Check model 3 prediction probabilities\n",
        "model_3_pred_probs = model_3.predict(val_char_dataset)\n",
        "model_3_pred_probs"
      ],
      "execution_count": 111,
      "outputs": [
        {
          "output_type": "execute_result",
          "data": {
            "text/plain": [
              "array([[0.11321384, 0.1343583 , 0.29514435, 0.39558968, 0.06169383],\n",
              "       [0.10744646, 0.7523894 , 0.00268607, 0.11711424, 0.02036391],\n",
              "       [0.07392555, 0.38954997, 0.07901844, 0.3663867 , 0.09111929],\n",
              "       ...,\n",
              "       [0.01008356, 0.02635228, 0.11508747, 0.04619493, 0.8022818 ],\n",
              "       [0.04989976, 0.26089492, 0.1616005 , 0.07331406, 0.45429072],\n",
              "       [0.37949207, 0.3978392 , 0.10304019, 0.10733858, 0.01228991]],\n",
              "      dtype=float32)"
            ]
          },
          "metadata": {
            "tags": []
          },
          "execution_count": 111
        }
      ]
    },
    {
      "cell_type": "code",
      "metadata": {
        "colab": {
          "base_uri": "https://localhost:8080/"
        },
        "id": "FBGoV3U8GpI9",
        "outputId": "bda85019-748d-4acc-fbc0-47d8bcdcbd38"
      },
      "source": [
        "# Turn prediction probabilites to class labels\n",
        "model_3_preds = tf.argmax(model_3_pred_probs, axis=1)\n",
        "model_3_preds"
      ],
      "execution_count": 112,
      "outputs": [
        {
          "output_type": "execute_result",
          "data": {
            "text/plain": [
              "<tf.Tensor: shape=(30212,), dtype=int64, numpy=array([3, 1, 1, ..., 4, 4, 1])>"
            ]
          },
          "metadata": {
            "tags": []
          },
          "execution_count": 112
        }
      ]
    },
    {
      "cell_type": "code",
      "metadata": {
        "colab": {
          "base_uri": "https://localhost:8080/"
        },
        "id": "9P_G8TdlGxlq",
        "outputId": "b04c66e5-f293-4975-bf83-4ce675f0fdcd"
      },
      "source": [
        "# Calculate results for Conv1D model chars only\n",
        "model_3_results = calculate_results(y_true = val_labels_encoded,\n",
        "                                    y_pred = model_3_preds)\n",
        "model_3_results"
      ],
      "execution_count": 113,
      "outputs": [
        {
          "output_type": "execute_result",
          "data": {
            "text/plain": [
              "{'accuracy': 65.61962134251291,\n",
              " 'f1': 0.6443529730902243,\n",
              " 'precision': 0.6460793433876052,\n",
              " 'recall': 0.6561962134251291}"
            ]
          },
          "metadata": {
            "tags": []
          },
          "execution_count": 113
        }
      ]
    },
    {
      "cell_type": "code",
      "metadata": {
        "colab": {
          "base_uri": "https://localhost:8080/"
        },
        "id": "tlLeERKRG-wG",
        "outputId": "744b8820-b4d5-4d38-ad87-e7bf1a0405b9"
      },
      "source": [
        "baseline_results"
      ],
      "execution_count": 116,
      "outputs": [
        {
          "output_type": "execute_result",
          "data": {
            "text/plain": [
              "{'accuracy': 72.1832384482987,\n",
              " 'f1': 0.6989250353450294,\n",
              " 'precision': 0.7186466952323352,\n",
              " 'recall': 0.7218323844829869}"
            ]
          },
          "metadata": {
            "tags": []
          },
          "execution_count": 116
        }
      ]
    },
    {
      "cell_type": "markdown",
      "metadata": {
        "id": "zzvWCnc1HIJk"
      },
      "source": [
        "## Model 4 : Combining pretrained token embeddings + character embeddings (hybrid embedding layer)\n",
        "\n",
        "1. Create a token-level embedding model (similar `model_1`)\n",
        "2. Create a character-level model (similar to `model_3` with a slight modification)\n",
        "3. Combine 1 & 2 with a concatenate(`layers.Concatenate`)\n",
        "4. Build a seris of output layers on top of 3 similar to Figure 1 and section 4.2 of https://arxiv.org/pdf/1612.05251.pdf\n",
        "5. Construct a model which takes token and character-level sequences as input and produces sequence label probabilities as output."
      ]
    },
    {
      "cell_type": "code",
      "metadata": {
        "id": "wkYzITlyINa-"
      },
      "source": [
        "# 1. Setup token inputs/model\n",
        "token_inputs = layers.Input(shape=[], dtype=\"string\", name=\"token_input\")\n",
        "token_embeddings = tf_hub_embedding_layer(token_inputs)\n",
        "token_outputs = layers.Dense(128, activation=\"relu\")(token_embeddings)\n",
        "token_model = tf.keras.Model(inputs=token_inputs, \n",
        "                             outputs=token_outputs)\n",
        "\n",
        "# 2. Create a character-level model\n",
        "char_inputs = layers.Input(shape=(1, ), dtype=tf.string, name=\"char_input\")\n",
        "char_vectors = char_vectorizer(char_inputs)\n",
        "char_embeddings = char_embed(char_vectors)\n",
        "char_bi_lstm = layers.Bidirectional(layers.LSTM(24))(char_embeddings) # bi-LSTM shown in Figure 1 of https://arxiv.org/pdf/1612.05251.pdf\n",
        "# hidden units of BiDirectional doubles, so 25 becomes 50, but we will use 24 (multiples of 8)\n",
        "char_model = tf.keras.Model(char_inputs, char_bi_lstm)\n",
        "\n",
        "# 3. Concatenatate token and char inputs(create hybrid token embedding)\n",
        "token_char_concat = layers.Concatenate(name=\"token_char_hybrid\")([token_model.output, \n",
        "                                                                  char_model.output])\n",
        "\n",
        "# 4. Create output layer - adding in Dropout, discussed in section 4.2 of the paper.\n",
        "combined_dropout = layers.Dropout(0.5)(token_char_concat) # randomly set input units to 0 with a rate , here it is 50%\n",
        "combined_dense = layers.Dense(128, activation=\"relu\")(combined_dropout)\n",
        "final_dropout = layers.Dropout(0.5)(combined_dense)\n",
        "output_layer = layers.Dense(num_classes, activation=\"softmax\")(final_dropout)\n",
        "\n",
        "# 5. Construct model with char and token inputs\n",
        "model_4 = tf.keras.Model(inputs=[token_model.input, char_model.input],\n",
        "                         outputs = output_layer,\n",
        "                         name=\"model_4_token_and_char_embeddings\")\n",
        "\n",
        "\n",
        "\n",
        "\n"
      ],
      "execution_count": 119,
      "outputs": []
    },
    {
      "cell_type": "code",
      "metadata": {
        "colab": {
          "base_uri": "https://localhost:8080/"
        },
        "id": "XqPtrE5ZfDDj",
        "outputId": "02e782a0-4cae-4cda-9890-10a8980d98c4"
      },
      "source": [
        "# Get a summary for our model\n",
        "model_4.summary()"
      ],
      "execution_count": 120,
      "outputs": [
        {
          "output_type": "stream",
          "text": [
            "Model: \"model_4_token_and_char_embeddings\"\n",
            "__________________________________________________________________________________________________\n",
            "Layer (type)                    Output Shape         Param #     Connected to                     \n",
            "==================================================================================================\n",
            "char_input (InputLayer)         [(None, 1)]          0                                            \n",
            "__________________________________________________________________________________________________\n",
            "token_input (InputLayer)        [(None,)]            0                                            \n",
            "__________________________________________________________________________________________________\n",
            "char_vectorizer (TextVectorizat (None, 290)          0           char_input[0][0]                 \n",
            "__________________________________________________________________________________________________\n",
            "universal_sentence_encoder (Ker (None, 512)          256797824   token_input[0][0]                \n",
            "__________________________________________________________________________________________________\n",
            "char_embed (Embedding)          (None, 290, 25)      700         char_vectorizer[2][0]            \n",
            "__________________________________________________________________________________________________\n",
            "dense_5 (Dense)                 (None, 128)          65664       universal_sentence_encoder[2][0] \n",
            "__________________________________________________________________________________________________\n",
            "bidirectional_1 (Bidirectional) (None, 48)           9600        char_embed[2][0]                 \n",
            "__________________________________________________________________________________________________\n",
            "token_char_hybrid (Concatenate) (None, 176)          0           dense_5[0][0]                    \n",
            "                                                                 bidirectional_1[0][0]            \n",
            "__________________________________________________________________________________________________\n",
            "dropout (Dropout)               (None, 176)          0           token_char_hybrid[0][0]          \n",
            "__________________________________________________________________________________________________\n",
            "dense_6 (Dense)                 (None, 128)          22656       dropout[0][0]                    \n",
            "__________________________________________________________________________________________________\n",
            "dropout_1 (Dropout)             (None, 128)          0           dense_6[0][0]                    \n",
            "__________________________________________________________________________________________________\n",
            "dense_7 (Dense)                 (None, 5)            645         dropout_1[0][0]                  \n",
            "==================================================================================================\n",
            "Total params: 256,897,089\n",
            "Trainable params: 99,265\n",
            "Non-trainable params: 256,797,824\n",
            "__________________________________________________________________________________________________\n"
          ],
          "name": "stdout"
        }
      ]
    },
    {
      "cell_type": "code",
      "metadata": {
        "id": "PhKT8usKfVms",
        "outputId": "1b60de74-900b-4c00-90df-11832145ac00",
        "colab": {
          "base_uri": "https://localhost:8080/",
          "height": 754
        }
      },
      "source": [
        "# Plot hybrid token and character model\n",
        "from tensorflow.keras.utils import plot_model\n",
        "plot_model(model_4, show_shapes=True)"
      ],
      "execution_count": 124,
      "outputs": [
        {
          "output_type": "execute_result",
          "data": {
            "image/png": "[encoded data removed]",
            "text/plain": [
              "<IPython.core.display.Image object>"
            ]
          },
          "metadata": {
            "tags": []
          },
          "execution_count": 124
        }
      ]
    },
    {
      "cell_type": "code",
      "metadata": {
        "id": "kcpAy79teyw0"
      },
      "source": [
        "# Compile the model\n",
        "mdoel_4.compile(loss=\"categorical_crossentropy\",\n",
        "                optimizer=tf.keras.optimizers.Adam(),\n",
        "                metrics=[\"accuracy\"])"
      ],
      "execution_count": null,
      "outputs": []
    },
    {
      "cell_type": "code",
      "metadata": {
        "id": "61HcK-3YYnrF"
      },
      "source": [
        "\n",
        "\n",
        "\n"
      ],
      "execution_count": 118,
      "outputs": []
    }
  ]
}