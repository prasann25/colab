{
  "nbformat": 4,
  "nbformat_minor": 0,
  "metadata": {
    "colab": {
      "name": "09_milestone_project_2_skimlit",
      "provenance": [],
      "include_colab_link": true
    },
    "kernelspec": {
      "name": "python3",
      "display_name": "Python 3"
    },
    "language_info": {
      "name": "python"
    },
    "accelerator": "GPU"
  },
  "cells": [
    {
      "cell_type": "markdown",
      "metadata": {
        "id": "view-in-github",
        "colab_type": "text"
      },
      "source": [
        "<a href=\"https://colab.research.google.com/github/prasann25/colab/blob/main/09_milestone_project_2_skimlit.ipynb\" target=\"_parent\"><img src=\"https://colab.research.google.com/assets/colab-badge.svg\" alt=\"Open In Colab\"/></a>"
      ]
    },
    {
      "cell_type": "markdown",
      "metadata": {
        "id": "-8fbclEDHYdu"
      },
      "source": [
        "# Milestone Project 2: SkimLit\n",
        "\n",
        "The purpose of this notebook is to build an NL P model to to make reading medical abstracts easier.\n",
        "The paper we're replicating (the source of the dataset that we'll be using) is available here : https://arxiv.org/abs/1710.06071\n",
        "\n",
        "And reading through the paper above, we see that the model architecture that they use to achieve their best results is available here:\n",
        "https://arxiv.org/abs/1612.05251\n",
        "\n",
        "**Resources** If you want to find the ground truth for this notebook(with lots of diagrams and text annotations) see the GitHub :\n",
        "https://github.com/mrdbourke/tensorflow-deep-learning/blob/main/09_SkimLit_nlp_milestone_project_2.ipynb"
      ]
    },
    {
      "cell_type": "markdown",
      "metadata": {
        "id": "fDkf0lO-BKzH"
      },
      "source": [
        "## Confirm access to GPU\n"
      ]
    },
    {
      "cell_type": "code",
      "metadata": {
        "colab": {
          "base_uri": "https://localhost:8080/"
        },
        "id": "e15lhSphBQBM",
        "outputId": "91dbbf43-d129-448b-c1ae-19c510e0a686"
      },
      "source": [
        "!nvidia-smi -L"
      ],
      "execution_count": 73,
      "outputs": [
        {
          "output_type": "stream",
          "text": [
            "GPU 0: Tesla T4 (UUID: GPU-abc9aab0-524f-ac57-e636-45003b61771f)\n"
          ],
          "name": "stdout"
        }
      ]
    },
    {
      "cell_type": "markdown",
      "metadata": {
        "id": "1xj7UyXGBiwb"
      },
      "source": [
        "## Get data\n",
        "Since we'll be replicating the paper above(PubMed 200K RCT), let's download the dataset they use.\n",
        "We can do so from the authors GitHub :\n",
        "https://github.com/Franck-Dernoncourt/pubmed-rct\n"
      ]
    },
    {
      "cell_type": "code",
      "metadata": {
        "colab": {
          "base_uri": "https://localhost:8080/"
        },
        "id": "YYhWiiA8Cju9",
        "outputId": "b88bf803-8be2-4d59-de73-b3cd2db609bc"
      },
      "source": [
        "!git clone https://github.com/Franck-Dernoncourt/pubmed-rct\n",
        "!ls pubmed-rct"
      ],
      "execution_count": 74,
      "outputs": [
        {
          "output_type": "stream",
          "text": [
            "fatal: destination path 'pubmed-rct' already exists and is not an empty directory.\n",
            "PubMed_200k_RCT\n",
            "PubMed_200k_RCT_numbers_replaced_with_at_sign\n",
            "PubMed_20k_RCT\n",
            "PubMed_20k_RCT_numbers_replaced_with_at_sign\n",
            "README.md\n"
          ],
          "name": "stdout"
        }
      ]
    },
    {
      "cell_type": "code",
      "metadata": {
        "colab": {
          "base_uri": "https://localhost:8080/"
        },
        "id": "_JevalUXDYYj",
        "outputId": "04c8a55c-091e-4302-a1ec-296811679e40"
      },
      "source": [
        "# Check what files are in the PubMed_20K dataset\n",
        "! ls pubmed-rct/PubMed_20k_RCT_numbers_replaced_with_at_sign/\n",
        "#! ls pubmed-rct/PubMed_20k_RCT/"
      ],
      "execution_count": 75,
      "outputs": [
        {
          "output_type": "stream",
          "text": [
            "dev.txt  test.txt  train.txt\n"
          ],
          "name": "stdout"
        }
      ]
    },
    {
      "cell_type": "code",
      "metadata": {
        "id": "TmHKHut_Dzda"
      },
      "source": [
        "# Start our experiments using the 20K dataset with numbers replaced by \"@\" sign\n",
        "data_dir = \"/content/pubmed-rct/PubMed_20k_RCT_numbers_replaced_with_at_sign/\"\n"
      ],
      "execution_count": 76,
      "outputs": []
    },
    {
      "cell_type": "code",
      "metadata": {
        "colab": {
          "base_uri": "https://localhost:8080/"
        },
        "id": "kDLjWWDBE1fo",
        "outputId": "29612986-0537-4f9f-bba8-985445dcafc8"
      },
      "source": [
        "# Check all of the filenames in the target directory \n",
        "import os\n",
        "filenames = [data_dir + filename for filename in os.listdir(data_dir)]\n",
        "filenames"
      ],
      "execution_count": 77,
      "outputs": [
        {
          "output_type": "execute_result",
          "data": {
            "text/plain": [
              "['/content/pubmed-rct/PubMed_20k_RCT_numbers_replaced_with_at_sign/train.txt',\n",
              " '/content/pubmed-rct/PubMed_20k_RCT_numbers_replaced_with_at_sign/dev.txt',\n",
              " '/content/pubmed-rct/PubMed_20k_RCT_numbers_replaced_with_at_sign/test.txt']"
            ]
          },
          "metadata": {
            "tags": []
          },
          "execution_count": 77
        }
      ]
    },
    {
      "cell_type": "markdown",
      "metadata": {
        "id": "EMePMwG_FCFx"
      },
      "source": [
        "## Preprocess data\n",
        "Now we've got some text data, it's time to become one with it.\n",
        "And one of the best ways to become one with the data is to....\n",
        "\n",
        "> Visualize, Visualize, Visualize\n",
        "\n",
        "So with that in mind, let's write a function to read all the lines of a target text file."
      ]
    },
    {
      "cell_type": "code",
      "metadata": {
        "id": "MKMCirHlFOtF"
      },
      "source": [
        "# Create function to read the lines of a document\n",
        "\n",
        "def get_lines(filename) :\n",
        "  \"\"\"\n",
        "  Reads filename(a text filename) and returns the lines of text as a list.\n",
        "  \n",
        "  Args:\n",
        "    filename: a string containing the target filepath.\n",
        "\n",
        "  Returns :\n",
        "  A list of strings with one string per line from the target filename.\n",
        "  \"\"\"\n",
        "  with open(filename, \"r\") as f :\n",
        "    return f.readlines()\n"
      ],
      "execution_count": 78,
      "outputs": []
    },
    {
      "cell_type": "code",
      "metadata": {
        "id": "FHmJfFAJGfHu",
        "colab": {
          "base_uri": "https://localhost:8080/"
        },
        "outputId": "e5fc4ef9-cc62-4119-e1eb-2ea5ebbc2380"
      },
      "source": [
        "# Let's read in the training lines\n",
        "train_lines = get_lines(data_dir  + \"train.txt\")\n",
        "train_lines[:28]"
      ],
      "execution_count": 79,
      "outputs": [
        {
          "output_type": "execute_result",
          "data": {
            "text/plain": [
              "['###24293578\\n',\n",
              " 'OBJECTIVE\\tTo investigate the efficacy of @ weeks of daily low-dose oral prednisolone in improving pain , mobility , and systemic low-grade inflammation in the short term and whether the effect would be sustained at @ weeks in older adults with moderate to severe knee osteoarthritis ( OA ) .\\n',\n",
              " 'METHODS\\tA total of @ patients with primary knee OA were randomized @:@ ; @ received @ mg/day of prednisolone and @ received placebo for @ weeks .\\n',\n",
              " 'METHODS\\tOutcome measures included pain reduction and improvement in function scores and systemic inflammation markers .\\n',\n",
              " 'METHODS\\tPain was assessed using the visual analog pain scale ( @-@ mm ) .\\n',\n",
              " 'METHODS\\tSecondary outcome measures included the Western Ontario and McMaster Universities Osteoarthritis Index scores , patient global assessment ( PGA ) of the severity of knee OA , and @-min walk distance ( @MWD ) .\\n',\n",
              " 'METHODS\\tSerum levels of interleukin @ ( IL-@ ) , IL-@ , tumor necrosis factor ( TNF ) - , and high-sensitivity C-reactive protein ( hsCRP ) were measured .\\n',\n",
              " 'RESULTS\\tThere was a clinically relevant reduction in the intervention group compared to the placebo group for knee pain , physical function , PGA , and @MWD at @ weeks .\\n',\n",
              " 'RESULTS\\tThe mean difference between treatment arms ( @ % CI ) was @ ( @-@ @ ) , p < @ ; @ ( @-@ @ ) , p < @ ; @ ( @-@ @ ) , p < @ ; and @ ( @-@ @ ) , p < @ , respectively .\\n',\n",
              " 'RESULTS\\tFurther , there was a clinically relevant reduction in the serum levels of IL-@ , IL-@ , TNF - , and hsCRP at @ weeks in the intervention group when compared to the placebo group .\\n',\n",
              " 'RESULTS\\tThese differences remained significant at @ weeks .\\n',\n",
              " 'RESULTS\\tThe Outcome Measures in Rheumatology Clinical Trials-Osteoarthritis Research Society International responder rate was @ % in the intervention group and @ % in the placebo group ( p < @ ) .\\n',\n",
              " 'CONCLUSIONS\\tLow-dose oral prednisolone had both a short-term and a longer sustained effect resulting in less knee pain , better physical function , and attenuation of systemic inflammation in older patients with knee OA ( ClinicalTrials.gov identifier NCT@ ) .\\n',\n",
              " '\\n',\n",
              " '###24854809\\n',\n",
              " 'BACKGROUND\\tEmotional eating is associated with overeating and the development of obesity .\\n',\n",
              " 'BACKGROUND\\tYet , empirical evidence for individual ( trait ) differences in emotional eating and cognitive mechanisms that contribute to eating during sad mood remain equivocal .\\n',\n",
              " 'OBJECTIVE\\tThe aim of this study was to test if attention bias for food moderates the effect of self-reported emotional eating during sad mood ( vs neutral mood ) on actual food intake .\\n',\n",
              " 'OBJECTIVE\\tIt was expected that emotional eating is predictive of elevated attention for food and higher food intake after an experimentally induced sad mood and that attentional maintenance on food predicts food intake during a sad versus a neutral mood .\\n',\n",
              " 'METHODS\\tParticipants ( N = @ ) were randomly assigned to one of the two experimental mood induction conditions ( sad/neutral ) .\\n',\n",
              " 'METHODS\\tAttentional biases for high caloric foods were measured by eye tracking during a visual probe task with pictorial food and neutral stimuli .\\n',\n",
              " 'METHODS\\tSelf-reported emotional eating was assessed with the Dutch Eating Behavior Questionnaire ( DEBQ ) and ad libitum food intake was tested by a disguised food offer .\\n',\n",
              " 'RESULTS\\tHierarchical multivariate regression modeling showed that self-reported emotional eating did not account for changes in attention allocation for food or food intake in either condition .\\n',\n",
              " 'RESULTS\\tYet , attention maintenance on food cues was significantly related to increased intake specifically in the neutral condition , but not in the sad mood condition .\\n',\n",
              " 'CONCLUSIONS\\tThe current findings show that self-reported emotional eating ( based on the DEBQ ) might not validly predict who overeats when sad , at least not in a laboratory setting with healthy women .\\n',\n",
              " 'CONCLUSIONS\\tResults further suggest that attention maintenance on food relates to eating motivation when in a neutral affective state , and might therefore be a cognitive mechanism contributing to increased food intake in general , but maybe not during sad mood .\\n',\n",
              " '\\n',\n",
              " '###25165090\\n']"
            ]
          },
          "metadata": {
            "tags": []
          },
          "execution_count": 79
        }
      ]
    },
    {
      "cell_type": "code",
      "metadata": {
        "id": "qY5AEnCPIGvg",
        "colab": {
          "base_uri": "https://localhost:8080/"
        },
        "outputId": "e518a6b6-c4b8-445d-ffd6-bfacf1cf9ed1"
      },
      "source": [
        "len(train_lines)"
      ],
      "execution_count": 80,
      "outputs": [
        {
          "output_type": "execute_result",
          "data": {
            "text/plain": [
              "210040"
            ]
          },
          "metadata": {
            "tags": []
          },
          "execution_count": 80
        }
      ]
    },
    {
      "cell_type": "markdown",
      "metadata": {
        "id": "N9g9e-KvIP3Z"
      },
      "source": [
        "Let's think about how we want our data to look...\n",
        "\n",
        "How I think our data would be best represented ...\n",
        "\n",
        "```\n",
        "[{'line_number' : 0,\n",
        "   'target' : 'BACKGROUND',\n",
        "   'text' : \"Emotional eating is associated with overeating and the development of obesity .\\n\",\n",
        "   'total_lines' : 11},\n",
        "   ...]   \n",
        "```\n",
        "\n",
        "Let's write a function which turns each of our datasets into the above format, so we can continue to prepare our data for modelling.\n"
      ]
    },
    {
      "cell_type": "code",
      "metadata": {
        "id": "It6ojyGTJm9S"
      },
      "source": [
        "def preprocess_text_with_line_numbers(filename) :\n",
        "  \"\"\"\n",
        "  Returns list of dictionary of abstract line data.\n",
        "\n",
        "  Takes in filename, reads it contents and sort through each line, \n",
        "  extracting things like the target label, text of the sentence,\n",
        "  how many sentences are in the current abstract and what sentence number\n",
        "  the target line is\n",
        "  \"\"\"\n",
        "  input_lines = get_lines(filename) # get all lines from filename\n",
        "  abstract_lines = \"\" # create an empty abstract\n",
        "  abstract_samples = [] # create an empty list of abstracts\n",
        "\n",
        "  # Loop through each line in the target line\n",
        "  for line in input_lines :\n",
        "\n",
        "    if line.startswith(\"###\") : # check to see if the line is an ID line\n",
        "      abstract_id = line\n",
        "      abstract_lines= \"\" # reset the abstract string if the line is an ID line\n",
        "\n",
        "    elif line.isspace() : # check to see if the line is a new line\n",
        "      abstract_line_split = abstract_lines.splitlines() # split abstract lines into separate lines     \n",
        "      # Iterate through each line in a single abstract and count at same time\n",
        "      for abstract_line_number, abstract_line in enumerate(abstract_line_split) :\n",
        "        target_text_split = abstract_line.split(\"\\t\") # split target label from text\n",
        "        line_data ={} # create an empty dictionar for each line\n",
        "        line_data[\"target\"] = target_text_split[0]\n",
        "        line_data[\"text\"] = target_text_split[1].lower() # get target text and lower it\n",
        "        line_data[\"line_number\"] = abstract_line_number # what number line does the line appear on the abstract\n",
        "        line_data[\"total_lines\"] = len(abstract_line_split) -1 # how many total lines are there in the target abstract? (start from 0) \n",
        "        abstract_samples.append(line_data) # add line data to abstract samples list\n",
        "\n",
        "    else : # if the above conditions aren't fulfilled, the line contains a labelled sentence\n",
        "      abstract_lines += line\n",
        "\n",
        "  return abstract_samples\n",
        "\n"
      ],
      "execution_count": 81,
      "outputs": []
    },
    {
      "cell_type": "code",
      "metadata": {
        "colab": {
          "base_uri": "https://localhost:8080/"
        },
        "id": "wWk8FwfEbhme",
        "outputId": "78a853d0-d5fb-4a19-b8ea-58cd2df60560"
      },
      "source": [
        "# Get data from file and preprocess it\n",
        "%%time\n",
        "train_samples = preprocess_text_with_line_numbers(data_dir + \"train.txt\")\n",
        "val_samples = preprocess_text_with_line_numbers(data_dir + \"dev.txt\") # dev is another name for val\n",
        "test_samples = preprocess_text_with_line_numbers(data_dir + \"test.txt\")\n",
        "print(len(train_samples), len(val_samples), len(test_samples))"
      ],
      "execution_count": 82,
      "outputs": [
        {
          "output_type": "stream",
          "text": [
            "180040 30212 30135\n",
            "CPU times: user 501 ms, sys: 87.3 ms, total: 589 ms\n",
            "Wall time: 595 ms\n"
          ],
          "name": "stdout"
        }
      ]
    },
    {
      "cell_type": "code",
      "metadata": {
        "colab": {
          "base_uri": "https://localhost:8080/"
        },
        "id": "ApFKvvNocl2h",
        "outputId": "0d28de7c-08b8-4376-9d5a-c0e748fb0c02"
      },
      "source": [
        "# Check the first abstract of our training  data\n",
        "train_samples[:14]"
      ],
      "execution_count": 83,
      "outputs": [
        {
          "output_type": "execute_result",
          "data": {
            "text/plain": [
              "[{'line_number': 0,\n",
              "  'target': 'OBJECTIVE',\n",
              "  'text': 'to investigate the efficacy of @ weeks of daily low-dose oral prednisolone in improving pain , mobility , and systemic low-grade inflammation in the short term and whether the effect would be sustained at @ weeks in older adults with moderate to severe knee osteoarthritis ( oa ) .',\n",
              "  'total_lines': 11},\n",
              " {'line_number': 1,\n",
              "  'target': 'METHODS',\n",
              "  'text': 'a total of @ patients with primary knee oa were randomized @:@ ; @ received @ mg/day of prednisolone and @ received placebo for @ weeks .',\n",
              "  'total_lines': 11},\n",
              " {'line_number': 2,\n",
              "  'target': 'METHODS',\n",
              "  'text': 'outcome measures included pain reduction and improvement in function scores and systemic inflammation markers .',\n",
              "  'total_lines': 11},\n",
              " {'line_number': 3,\n",
              "  'target': 'METHODS',\n",
              "  'text': 'pain was assessed using the visual analog pain scale ( @-@ mm ) .',\n",
              "  'total_lines': 11},\n",
              " {'line_number': 4,\n",
              "  'target': 'METHODS',\n",
              "  'text': 'secondary outcome measures included the western ontario and mcmaster universities osteoarthritis index scores , patient global assessment ( pga ) of the severity of knee oa , and @-min walk distance ( @mwd ) .',\n",
              "  'total_lines': 11},\n",
              " {'line_number': 5,\n",
              "  'target': 'METHODS',\n",
              "  'text': 'serum levels of interleukin @ ( il-@ ) , il-@ , tumor necrosis factor ( tnf ) - , and high-sensitivity c-reactive protein ( hscrp ) were measured .',\n",
              "  'total_lines': 11},\n",
              " {'line_number': 6,\n",
              "  'target': 'RESULTS',\n",
              "  'text': 'there was a clinically relevant reduction in the intervention group compared to the placebo group for knee pain , physical function , pga , and @mwd at @ weeks .',\n",
              "  'total_lines': 11},\n",
              " {'line_number': 7,\n",
              "  'target': 'RESULTS',\n",
              "  'text': 'the mean difference between treatment arms ( @ % ci ) was @ ( @-@ @ ) , p < @ ; @ ( @-@ @ ) , p < @ ; @ ( @-@ @ ) , p < @ ; and @ ( @-@ @ ) , p < @ , respectively .',\n",
              "  'total_lines': 11},\n",
              " {'line_number': 8,\n",
              "  'target': 'RESULTS',\n",
              "  'text': 'further , there was a clinically relevant reduction in the serum levels of il-@ , il-@ , tnf - , and hscrp at @ weeks in the intervention group when compared to the placebo group .',\n",
              "  'total_lines': 11},\n",
              " {'line_number': 9,\n",
              "  'target': 'RESULTS',\n",
              "  'text': 'these differences remained significant at @ weeks .',\n",
              "  'total_lines': 11},\n",
              " {'line_number': 10,\n",
              "  'target': 'RESULTS',\n",
              "  'text': 'the outcome measures in rheumatology clinical trials-osteoarthritis research society international responder rate was @ % in the intervention group and @ % in the placebo group ( p < @ ) .',\n",
              "  'total_lines': 11},\n",
              " {'line_number': 11,\n",
              "  'target': 'CONCLUSIONS',\n",
              "  'text': 'low-dose oral prednisolone had both a short-term and a longer sustained effect resulting in less knee pain , better physical function , and attenuation of systemic inflammation in older patients with knee oa ( clinicaltrials.gov identifier nct@ ) .',\n",
              "  'total_lines': 11},\n",
              " {'line_number': 0,\n",
              "  'target': 'BACKGROUND',\n",
              "  'text': 'emotional eating is associated with overeating and the development of obesity .',\n",
              "  'total_lines': 10},\n",
              " {'line_number': 1,\n",
              "  'target': 'BACKGROUND',\n",
              "  'text': 'yet , empirical evidence for individual ( trait ) differences in emotional eating and cognitive mechanisms that contribute to eating during sad mood remain equivocal .',\n",
              "  'total_lines': 10}]"
            ]
          },
          "metadata": {
            "tags": []
          },
          "execution_count": 83
        }
      ]
    },
    {
      "cell_type": "markdown",
      "metadata": {
        "id": "TeB7GFw51uAa"
      },
      "source": [
        "Now that our data is the format of a list of dictionaries, how about we turn it into a DataFrame to further visualize it"
      ]
    },
    {
      "cell_type": "code",
      "metadata": {
        "colab": {
          "base_uri": "https://localhost:8080/",
          "height": 483
        },
        "id": "efTctER8c7ga",
        "outputId": "7c9927a6-e191-4f89-e81e-d36e8a08c086"
      },
      "source": [
        "import pandas as pd\n",
        "train_df = pd.DataFrame(train_samples)\n",
        "val_df = pd.DataFrame(val_samples)\n",
        "test_df = pd.DataFrame(test_samples)\n",
        "train_df.head(14)"
      ],
      "execution_count": 84,
      "outputs": [
        {
          "output_type": "execute_result",
          "data": {
            "text/html": [
              "<div>\n",
              "<style scoped>\n",
              "    .dataframe tbody tr th:only-of-type {\n",
              "        vertical-align: middle;\n",
              "    }\n",
              "\n",
              "    .dataframe tbody tr th {\n",
              "        vertical-align: top;\n",
              "    }\n",
              "\n",
              "    .dataframe thead th {\n",
              "        text-align: right;\n",
              "    }\n",
              "</style>\n",
              "<table border=\"1\" class=\"dataframe\">\n",
              "  <thead>\n",
              "    <tr style=\"text-align: right;\">\n",
              "      <th></th>\n",
              "      <th>target</th>\n",
              "      <th>text</th>\n",
              "      <th>line_number</th>\n",
              "      <th>total_lines</th>\n",
              "    </tr>\n",
              "  </thead>\n",
              "  <tbody>\n",
              "    <tr>\n",
              "      <th>0</th>\n",
              "      <td>OBJECTIVE</td>\n",
              "      <td>to investigate the efficacy of @ weeks of dail...</td>\n",
              "      <td>0</td>\n",
              "      <td>11</td>\n",
              "    </tr>\n",
              "    <tr>\n",
              "      <th>1</th>\n",
              "      <td>METHODS</td>\n",
              "      <td>a total of @ patients with primary knee oa wer...</td>\n",
              "      <td>1</td>\n",
              "      <td>11</td>\n",
              "    </tr>\n",
              "    <tr>\n",
              "      <th>2</th>\n",
              "      <td>METHODS</td>\n",
              "      <td>outcome measures included pain reduction and i...</td>\n",
              "      <td>2</td>\n",
              "      <td>11</td>\n",
              "    </tr>\n",
              "    <tr>\n",
              "      <th>3</th>\n",
              "      <td>METHODS</td>\n",
              "      <td>pain was assessed using the visual analog pain...</td>\n",
              "      <td>3</td>\n",
              "      <td>11</td>\n",
              "    </tr>\n",
              "    <tr>\n",
              "      <th>4</th>\n",
              "      <td>METHODS</td>\n",
              "      <td>secondary outcome measures included the wester...</td>\n",
              "      <td>4</td>\n",
              "      <td>11</td>\n",
              "    </tr>\n",
              "    <tr>\n",
              "      <th>5</th>\n",
              "      <td>METHODS</td>\n",
              "      <td>serum levels of interleukin @ ( il-@ ) , il-@ ...</td>\n",
              "      <td>5</td>\n",
              "      <td>11</td>\n",
              "    </tr>\n",
              "    <tr>\n",
              "      <th>6</th>\n",
              "      <td>RESULTS</td>\n",
              "      <td>there was a clinically relevant reduction in t...</td>\n",
              "      <td>6</td>\n",
              "      <td>11</td>\n",
              "    </tr>\n",
              "    <tr>\n",
              "      <th>7</th>\n",
              "      <td>RESULTS</td>\n",
              "      <td>the mean difference between treatment arms ( @...</td>\n",
              "      <td>7</td>\n",
              "      <td>11</td>\n",
              "    </tr>\n",
              "    <tr>\n",
              "      <th>8</th>\n",
              "      <td>RESULTS</td>\n",
              "      <td>further , there was a clinically relevant redu...</td>\n",
              "      <td>8</td>\n",
              "      <td>11</td>\n",
              "    </tr>\n",
              "    <tr>\n",
              "      <th>9</th>\n",
              "      <td>RESULTS</td>\n",
              "      <td>these differences remained significant at @ we...</td>\n",
              "      <td>9</td>\n",
              "      <td>11</td>\n",
              "    </tr>\n",
              "    <tr>\n",
              "      <th>10</th>\n",
              "      <td>RESULTS</td>\n",
              "      <td>the outcome measures in rheumatology clinical ...</td>\n",
              "      <td>10</td>\n",
              "      <td>11</td>\n",
              "    </tr>\n",
              "    <tr>\n",
              "      <th>11</th>\n",
              "      <td>CONCLUSIONS</td>\n",
              "      <td>low-dose oral prednisolone had both a short-te...</td>\n",
              "      <td>11</td>\n",
              "      <td>11</td>\n",
              "    </tr>\n",
              "    <tr>\n",
              "      <th>12</th>\n",
              "      <td>BACKGROUND</td>\n",
              "      <td>emotional eating is associated with overeating...</td>\n",
              "      <td>0</td>\n",
              "      <td>10</td>\n",
              "    </tr>\n",
              "    <tr>\n",
              "      <th>13</th>\n",
              "      <td>BACKGROUND</td>\n",
              "      <td>yet , empirical evidence for individual ( trai...</td>\n",
              "      <td>1</td>\n",
              "      <td>10</td>\n",
              "    </tr>\n",
              "  </tbody>\n",
              "</table>\n",
              "</div>"
            ],
            "text/plain": [
              "         target  ... total_lines\n",
              "0     OBJECTIVE  ...          11\n",
              "1       METHODS  ...          11\n",
              "2       METHODS  ...          11\n",
              "3       METHODS  ...          11\n",
              "4       METHODS  ...          11\n",
              "5       METHODS  ...          11\n",
              "6       RESULTS  ...          11\n",
              "7       RESULTS  ...          11\n",
              "8       RESULTS  ...          11\n",
              "9       RESULTS  ...          11\n",
              "10      RESULTS  ...          11\n",
              "11  CONCLUSIONS  ...          11\n",
              "12   BACKGROUND  ...          10\n",
              "13   BACKGROUND  ...          10\n",
              "\n",
              "[14 rows x 4 columns]"
            ]
          },
          "metadata": {
            "tags": []
          },
          "execution_count": 84
        }
      ]
    },
    {
      "cell_type": "code",
      "metadata": {
        "colab": {
          "base_uri": "https://localhost:8080/"
        },
        "id": "B7UIQop8939p",
        "outputId": "af887129-9fc4-4bae-958f-4dfdea35ef12"
      },
      "source": [
        "# Distribution of labels in training data\n",
        "train_df.target.value_counts()"
      ],
      "execution_count": 85,
      "outputs": [
        {
          "output_type": "execute_result",
          "data": {
            "text/plain": [
              "METHODS        59353\n",
              "RESULTS        57953\n",
              "CONCLUSIONS    27168\n",
              "BACKGROUND     21727\n",
              "OBJECTIVE      13839\n",
              "Name: target, dtype: int64"
            ]
          },
          "metadata": {
            "tags": []
          },
          "execution_count": 85
        }
      ]
    },
    {
      "cell_type": "code",
      "metadata": {
        "colab": {
          "base_uri": "https://localhost:8080/",
          "height": 267
        },
        "id": "kRFmpmQ8-H_K",
        "outputId": "a6c5b40a-c4e2-4ebf-8b00-bbe09d5df7cd"
      },
      "source": [
        "# Let's check the length of different lines\n",
        "train_df.total_lines.plot.hist();"
      ],
      "execution_count": 86,
      "outputs": [
        {
          "output_type": "display_data",
          "data": {
            "image/png": "[encoded data removed]",
            "text/plain": [
              "<Figure size 432x288 with 1 Axes>"
            ]
          },
          "metadata": {
            "tags": [],
            "needs_background": "light"
          }
        }
      ]
    },
    {
      "cell_type": "markdown",
      "metadata": {
        "id": "23_B3iMb-WFX"
      },
      "source": [
        "### Get list of sentences"
      ]
    },
    {
      "cell_type": "code",
      "metadata": {
        "colab": {
          "base_uri": "https://localhost:8080/"
        },
        "id": "nJzqUxaD-8lR",
        "outputId": "4ea068e5-f531-4b56-eb15-8cb8d2a2c0d1"
      },
      "source": [
        "# Convert abstract text lines into lists\n",
        "train_sentences = train_df[\"text\"].to_list()\n",
        "val_sentences = val_df[\"text\"].to_list()\n",
        "test_sentences = test_df[\"text\"].to_list()\n",
        "len(train_sentences), len(val_sentences), len(test_sentences)\n"
      ],
      "execution_count": 87,
      "outputs": [
        {
          "output_type": "execute_result",
          "data": {
            "text/plain": [
              "(180040, 30212, 30135)"
            ]
          },
          "metadata": {
            "tags": []
          },
          "execution_count": 87
        }
      ]
    },
    {
      "cell_type": "code",
      "metadata": {
        "colab": {
          "base_uri": "https://localhost:8080/"
        },
        "id": "tfhz2zfOABQW",
        "outputId": "1917ae07-6067-471f-cd60-359bedf6aef3"
      },
      "source": [
        "# View the 10 lines of training sentences\n",
        "train_sentences[:10]"
      ],
      "execution_count": 88,
      "outputs": [
        {
          "output_type": "execute_result",
          "data": {
            "text/plain": [
              "['to investigate the efficacy of @ weeks of daily low-dose oral prednisolone in improving pain , mobility , and systemic low-grade inflammation in the short term and whether the effect would be sustained at @ weeks in older adults with moderate to severe knee osteoarthritis ( oa ) .',\n",
              " 'a total of @ patients with primary knee oa were randomized @:@ ; @ received @ mg/day of prednisolone and @ received placebo for @ weeks .',\n",
              " 'outcome measures included pain reduction and improvement in function scores and systemic inflammation markers .',\n",
              " 'pain was assessed using the visual analog pain scale ( @-@ mm ) .',\n",
              " 'secondary outcome measures included the western ontario and mcmaster universities osteoarthritis index scores , patient global assessment ( pga ) of the severity of knee oa , and @-min walk distance ( @mwd ) .',\n",
              " 'serum levels of interleukin @ ( il-@ ) , il-@ , tumor necrosis factor ( tnf ) - , and high-sensitivity c-reactive protein ( hscrp ) were measured .',\n",
              " 'there was a clinically relevant reduction in the intervention group compared to the placebo group for knee pain , physical function , pga , and @mwd at @ weeks .',\n",
              " 'the mean difference between treatment arms ( @ % ci ) was @ ( @-@ @ ) , p < @ ; @ ( @-@ @ ) , p < @ ; @ ( @-@ @ ) , p < @ ; and @ ( @-@ @ ) , p < @ , respectively .',\n",
              " 'further , there was a clinically relevant reduction in the serum levels of il-@ , il-@ , tnf - , and hscrp at @ weeks in the intervention group when compared to the placebo group .',\n",
              " 'these differences remained significant at @ weeks .']"
            ]
          },
          "metadata": {
            "tags": []
          },
          "execution_count": 88
        }
      ]
    },
    {
      "cell_type": "markdown",
      "metadata": {
        "id": "uLxxzJwnBWxO"
      },
      "source": [
        "## Make numeric labels (ML model requires numeric labels)"
      ]
    },
    {
      "cell_type": "code",
      "metadata": {
        "colab": {
          "base_uri": "https://localhost:8080/"
        },
        "id": "MnCl-CDyAIbu",
        "outputId": "da1ed7fe-6c9e-4ede-d14f-23e0910c1014"
      },
      "source": [
        "# One hot encode labels\n",
        "# Sparse Matrix not applicable here , read more https://machinelearningmastery.com/sparse-matrices-for-machine-learning/\n",
        "from sklearn.preprocessing import OneHotEncoder\n",
        "one_hot_encoder = OneHotEncoder(sparse=False) # we want a non-sparse matrix\n",
        "train_labels_one_hot = one_hot_encoder.fit_transform(train_df[\"target\"].to_numpy().reshape(-1, 1))\n",
        "val_labels_one_hot = one_hot_encoder.transform(val_df[\"target\"].to_numpy().reshape(-1, 1))\n",
        "test_labels_one_hot = one_hot_encoder.transform(test_df[\"target\"].to_numpy().reshape(-1, 1))\n",
        "# Check what one hot encoded labels look like\n",
        "train_labels_one_hot"
      ],
      "execution_count": 89,
      "outputs": [
        {
          "output_type": "execute_result",
          "data": {
            "text/plain": [
              "array([[0., 0., 0., 1., 0.],\n",
              "       [0., 0., 1., 0., 0.],\n",
              "       [0., 0., 1., 0., 0.],\n",
              "       ...,\n",
              "       [0., 0., 0., 0., 1.],\n",
              "       [0., 1., 0., 0., 0.],\n",
              "       [0., 1., 0., 0., 0.]])"
            ]
          },
          "metadata": {
            "tags": []
          },
          "execution_count": 89
        }
      ]
    },
    {
      "cell_type": "code",
      "metadata": {
        "colab": {
          "base_uri": "https://localhost:8080/"
        },
        "id": "NQfrfJgsDfQi",
        "outputId": "5e4eebbb-8e6f-4755-dae8-78669b112bf7"
      },
      "source": [
        "## Label encode labels\n",
        "# Extract labels (\"target\" columns) and encode them into integers\n",
        "from sklearn.preprocessing import LabelEncoder\n",
        "label_encoder = LabelEncoder()\n",
        "train_labels_encoded = label_encoder.fit_transform(train_df[\"target\"].to_numpy())\n",
        "val_labels_encoded = label_encoder.transform(val_df[\"target\"].to_numpy())\n",
        "test_labels_encoded = label_encoder.transform(test_df[\"target\"].to_numpy())\n",
        "\n",
        "# check what training labels look like\n",
        "\n",
        "train_labels_encoded"
      ],
      "execution_count": 90,
      "outputs": [
        {
          "output_type": "execute_result",
          "data": {
            "text/plain": [
              "array([3, 2, 2, ..., 4, 1, 1])"
            ]
          },
          "metadata": {
            "tags": []
          },
          "execution_count": 90
        }
      ]
    },
    {
      "cell_type": "code",
      "metadata": {
        "colab": {
          "base_uri": "https://localhost:8080/"
        },
        "id": "cSFEakNYEI30",
        "outputId": "923bfe8e-11d9-47fd-833a-43eba4f23bb7"
      },
      "source": [
        "# Get class names and number of classes from LabelEncoder instance\n",
        "num_classes = len(label_encoder.classes_)\n",
        "class_names = label_encoder.classes_\n",
        "num_classes, class_names"
      ],
      "execution_count": 91,
      "outputs": [
        {
          "output_type": "execute_result",
          "data": {
            "text/plain": [
              "(5, array(['BACKGROUND', 'CONCLUSIONS', 'METHODS', 'OBJECTIVE', 'RESULTS'],\n",
              "       dtype=object))"
            ]
          },
          "metadata": {
            "tags": []
          },
          "execution_count": 91
        }
      ]
    },
    {
      "cell_type": "markdown",
      "metadata": {
        "id": "iBgg8NT0bu8S"
      },
      "source": [
        "## Starting  a series of modelling experiments...\n",
        "As usual, we're going to be trying out a bunch of different models and seeing which one works best.\n",
        "And as always, we're going to start with a baseline model (TF-IDF Multinomial Naive Bayes classifier).\n",
        "\n",
        "Refer to the blog here for understanding ML concepts\n",
        "https://chrisalbon.com/\n"
      ]
    },
    {
      "cell_type": "markdown",
      "metadata": {
        "id": "UA4oWHkvXRL9"
      },
      "source": [
        "## Model 0 : Getting a baseline model\n",
        "\n",
        "We will learn machine learning experiments, we'll use SkLearn's Multinomial Naive Bayes using TF-IDF formula to convert words to numbers."
      ]
    },
    {
      "cell_type": "code",
      "metadata": {
        "id": "5MfCSfqkYXo3",
        "colab": {
          "base_uri": "https://localhost:8080/"
        },
        "outputId": "1b3f5724-06a2-48c5-f37a-729b65da1629"
      },
      "source": [
        "from sklearn.feature_extraction.text import TfidfVectorizer\n",
        "from sklearn.naive_bayes import MultinomialNB\n",
        "from sklearn.pipeline import Pipeline\n",
        "\n",
        "model_0 = Pipeline([\n",
        "                    (\"tf-idf\", TfidfVectorizer()), # Convert words to numbers using tdidf\n",
        "                    (\"clf\", MultinomialNB()) # model the text\n",
        "])\n",
        "\n",
        "# Fit the pipeline to the training data\n",
        "model_0.fit(X= train_sentences, \n",
        "            y = train_labels_encoded)"
      ],
      "execution_count": 92,
      "outputs": [
        {
          "output_type": "execute_result",
          "data": {
            "text/plain": [
              "Pipeline(memory=None,\n",
              "         steps=[('tf-idf',\n",
              "                 TfidfVectorizer(analyzer='word', binary=False,\n",
              "                                 decode_error='strict',\n",
              "                                 dtype=<class 'numpy.float64'>,\n",
              "                                 encoding='utf-8', input='content',\n",
              "                                 lowercase=True, max_df=1.0, max_features=None,\n",
              "                                 min_df=1, ngram_range=(1, 1), norm='l2',\n",
              "                                 preprocessor=None, smooth_idf=True,\n",
              "                                 stop_words=None, strip_accents=None,\n",
              "                                 sublinear_tf=False,\n",
              "                                 token_pattern='(?u)\\\\b\\\\w\\\\w+\\\\b',\n",
              "                                 tokenizer=None, use_idf=True,\n",
              "                                 vocabulary=None)),\n",
              "                ('clf',\n",
              "                 MultinomialNB(alpha=1.0, class_prior=None, fit_prior=True))],\n",
              "         verbose=False)"
            ]
          },
          "metadata": {
            "tags": []
          },
          "execution_count": 92
        }
      ]
    },
    {
      "cell_type": "code",
      "metadata": {
        "id": "6hC2x5MDcFIk",
        "colab": {
          "base_uri": "https://localhost:8080/"
        },
        "outputId": "e652ee3e-b37d-4d46-88f3-6ac153af3a6c"
      },
      "source": [
        "# EValuate baseline mdoel on validation dataset\n",
        "model_0.score(X = val_sentences,\n",
        "              y = val_labels_encoded)"
      ],
      "execution_count": 93,
      "outputs": [
        {
          "output_type": "execute_result",
          "data": {
            "text/plain": [
              "0.7218323844829869"
            ]
          },
          "metadata": {
            "tags": []
          },
          "execution_count": 93
        }
      ]
    },
    {
      "cell_type": "code",
      "metadata": {
        "id": "laSLZraadxy6",
        "colab": {
          "base_uri": "https://localhost:8080/"
        },
        "outputId": "0287d723-01dd-48eb-e6e2-8723f1e53eb7"
      },
      "source": [
        "# Make prediction using our baseline model\n",
        "baseline_preds = model_0.predict(val_sentences)\n",
        "baseline_preds"
      ],
      "execution_count": 94,
      "outputs": [
        {
          "output_type": "execute_result",
          "data": {
            "text/plain": [
              "array([4, 1, 3, ..., 4, 4, 1])"
            ]
          },
          "metadata": {
            "tags": []
          },
          "execution_count": 94
        }
      ]
    },
    {
      "cell_type": "markdown",
      "metadata": {
        "id": "kLGF2nvhd-IU"
      },
      "source": [
        "### Download helper function script\n",
        "In the previous modules, we wrote a function to compare predictions across different metrics(accuracy, precision, recall and f1)\n",
        "and rather than rewriting it here, let's download from our helper function script : https://raw.githubusercontent.com/mrdbourke/tensorflow-deep-learning/main/extras/helper_functions.py"
      ]
    },
    {
      "cell_type": "code",
      "metadata": {
        "id": "-bDlsNSqeO4s",
        "colab": {
          "base_uri": "https://localhost:8080/"
        },
        "outputId": "d31a3aa4-42d1-4820-d608-5156789a9e93"
      },
      "source": [
        "!wget https://raw.githubusercontent.com/mrdbourke/tensorflow-deep-learning/main/extras/helper_functions.py"
      ],
      "execution_count": 95,
      "outputs": [
        {
          "output_type": "stream",
          "text": [
            "--2021-08-14 17:32:32--  https://raw.githubusercontent.com/mrdbourke/tensorflow-deep-learning/main/extras/helper_functions.py\n",
            "Resolving raw.githubusercontent.com (raw.githubusercontent.com)... 185.199.110.133, 185.199.109.133, 185.199.111.133, ...\n",
            "Connecting to raw.githubusercontent.com (raw.githubusercontent.com)|185.199.110.133|:443... connected.\n",
            "HTTP request sent, awaiting response... 200 OK\n",
            "Length: 10246 (10K) [text/plain]\n",
            "Saving to: ‘helper_functions.py.1’\n",
            "\n",
            "\rhelper_functions.py   0%[                    ]       0  --.-KB/s               \rhelper_functions.py 100%[===================>]  10.01K  --.-KB/s    in 0s      \n",
            "\n",
            "2021-08-14 17:32:33 (79.5 MB/s) - ‘helper_functions.py.1’ saved [10246/10246]\n",
            "\n"
          ],
          "name": "stdout"
        }
      ]
    },
    {
      "cell_type": "code",
      "metadata": {
        "id": "aoVx-K4VeRcx"
      },
      "source": [
        "from helper_functions import calculate_results"
      ],
      "execution_count": 96,
      "outputs": []
    },
    {
      "cell_type": "code",
      "metadata": {
        "id": "4KTSQV5Aep2Z",
        "colab": {
          "base_uri": "https://localhost:8080/"
        },
        "outputId": "a31f6791-0b94-4138-e7fa-16a894954d9d"
      },
      "source": [
        "# Calculate baseline results\n",
        "baseline_results = calculate_results(y_true=val_labels_encoded,\n",
        "                                     y_pred = baseline_preds)\n",
        "baseline_results"
      ],
      "execution_count": 97,
      "outputs": [
        {
          "output_type": "execute_result",
          "data": {
            "text/plain": [
              "{'accuracy': 72.1832384482987,\n",
              " 'f1': 0.6989250353450294,\n",
              " 'precision': 0.7186466952323352,\n",
              " 'recall': 0.7218323844829869}"
            ]
          },
          "metadata": {
            "tags": []
          },
          "execution_count": 97
        }
      ]
    },
    {
      "cell_type": "markdown",
      "metadata": {
        "id": "SRVNt-vWe2b2"
      },
      "source": [
        "## Preparing our data (the text) for deep sequence models\n",
        "\n",
        "Before we start building deeper models, we'got to create vectorization and embedding layers."
      ]
    },
    {
      "cell_type": "code",
      "metadata": {
        "id": "tYa_hYo2BV7I"
      },
      "source": [
        "import tensorflow as tf\n",
        "import numpy as np\n",
        "from tensorflow.keras import layers"
      ],
      "execution_count": 98,
      "outputs": []
    },
    {
      "cell_type": "code",
      "metadata": {
        "colab": {
          "base_uri": "https://localhost:8080/"
        },
        "id": "421A3Z52E5jc",
        "outputId": "f05c17a7-fd08-4652-8bc6-19df2a60a56e"
      },
      "source": [
        "train_sentences[:10]"
      ],
      "execution_count": 99,
      "outputs": [
        {
          "output_type": "execute_result",
          "data": {
            "text/plain": [
              "['to investigate the efficacy of @ weeks of daily low-dose oral prednisolone in improving pain , mobility , and systemic low-grade inflammation in the short term and whether the effect would be sustained at @ weeks in older adults with moderate to severe knee osteoarthritis ( oa ) .',\n",
              " 'a total of @ patients with primary knee oa were randomized @:@ ; @ received @ mg/day of prednisolone and @ received placebo for @ weeks .',\n",
              " 'outcome measures included pain reduction and improvement in function scores and systemic inflammation markers .',\n",
              " 'pain was assessed using the visual analog pain scale ( @-@ mm ) .',\n",
              " 'secondary outcome measures included the western ontario and mcmaster universities osteoarthritis index scores , patient global assessment ( pga ) of the severity of knee oa , and @-min walk distance ( @mwd ) .',\n",
              " 'serum levels of interleukin @ ( il-@ ) , il-@ , tumor necrosis factor ( tnf ) - , and high-sensitivity c-reactive protein ( hscrp ) were measured .',\n",
              " 'there was a clinically relevant reduction in the intervention group compared to the placebo group for knee pain , physical function , pga , and @mwd at @ weeks .',\n",
              " 'the mean difference between treatment arms ( @ % ci ) was @ ( @-@ @ ) , p < @ ; @ ( @-@ @ ) , p < @ ; @ ( @-@ @ ) , p < @ ; and @ ( @-@ @ ) , p < @ , respectively .',\n",
              " 'further , there was a clinically relevant reduction in the serum levels of il-@ , il-@ , tnf - , and hscrp at @ weeks in the intervention group when compared to the placebo group .',\n",
              " 'these differences remained significant at @ weeks .']"
            ]
          },
          "metadata": {
            "tags": []
          },
          "execution_count": 99
        }
      ]
    },
    {
      "cell_type": "code",
      "metadata": {
        "colab": {
          "base_uri": "https://localhost:8080/"
        },
        "id": "gTZOvk2eCPtC",
        "outputId": "f1697c96-c8f6-4487-f96e-0c81fcf3a294"
      },
      "source": [
        "# How long is each sentence on average?\n",
        "sent_lens = [len(sentence.split()) for sentence in train_sentences]\n",
        "avg_sent_len = np.mean(sent_lens)\n",
        "avg_sent_len"
      ],
      "execution_count": 100,
      "outputs": [
        {
          "output_type": "execute_result",
          "data": {
            "text/plain": [
              "26.338269273494777"
            ]
          },
          "metadata": {
            "tags": []
          },
          "execution_count": 100
        }
      ]
    },
    {
      "cell_type": "code",
      "metadata": {
        "colab": {
          "base_uri": "https://localhost:8080/",
          "height": 265
        },
        "id": "ecfw5-PRFkHm",
        "outputId": "6cac8785-dffb-4897-cb76-751d486dd21b"
      },
      "source": [
        "# What's the distribution look like ?\n",
        "import matplotlib.pyplot as plt\n",
        "plt.hist(sent_lens, bins=20);"
      ],
      "execution_count": 101,
      "outputs": [
        {
          "output_type": "display_data",
          "data": {
            "image/png": "[encoded data removed]",
            "text/plain": [
              "<Figure size 432x288 with 1 Axes>"
            ]
          },
          "metadata": {
            "tags": [],
            "needs_background": "light"
          }
        }
      ]
    },
    {
      "cell_type": "code",
      "metadata": {
        "colab": {
          "base_uri": "https://localhost:8080/"
        },
        "id": "B4m_m1O4F9jp",
        "outputId": "dc015e58-b838-42cc-bdb4-abea74c3ae1a"
      },
      "source": [
        "# What percentile covers 95% of the sentence length\n",
        "output_seq_len = int(np.percentile(sent_lens, 95))\n",
        "output_seq_len"
      ],
      "execution_count": 102,
      "outputs": [
        {
          "output_type": "execute_result",
          "data": {
            "text/plain": [
              "55"
            ]
          },
          "metadata": {
            "tags": []
          },
          "execution_count": 102
        }
      ]
    },
    {
      "cell_type": "code",
      "metadata": {
        "colab": {
          "base_uri": "https://localhost:8080/"
        },
        "id": "87jFb2NHGeH5",
        "outputId": "c6258180-ccb2-4cdf-a1c9-87a6c1bd0b26"
      },
      "source": [
        "# Max sequence length in the training set\n",
        "max(sent_lens)"
      ],
      "execution_count": 103,
      "outputs": [
        {
          "output_type": "execute_result",
          "data": {
            "text/plain": [
              "296"
            ]
          },
          "metadata": {
            "tags": []
          },
          "execution_count": 103
        }
      ]
    },
    {
      "cell_type": "markdown",
      "metadata": {
        "id": "UyNaa7UaGmG7"
      },
      "source": [
        "### Create the TextVectorizer (tokenization)\n",
        "\n",
        "We want to make a layer which maps our texts from words into numbers"
      ]
    },
    {
      "cell_type": "code",
      "metadata": {
        "id": "VvTMCq_qKgin"
      },
      "source": [
        "# How many words are in our voab? (taken from table 2 in https://arxiv.org/pdf/1710.06071.pdf )\n",
        "max_tokens = 68000"
      ],
      "execution_count": 104,
      "outputs": []
    },
    {
      "cell_type": "code",
      "metadata": {
        "id": "PHvT4VMVCNKG"
      },
      "source": [
        "import tensorflow as tf\n",
        "from tensorflow.keras.layers.experimental.preprocessing import TextVectorization\n",
        "# Link to TextVectorization : https://www.tensorflow.org/api_docs/python/tf/keras/layers/experimental/preprocessing/TextVectorization\n",
        "\n",
        "text_vectorizer = TextVectorization(max_tokens=max_tokens, # number of words in vocabulary\n",
        "                                    output_sequence_length = output_seq_len, # desired output length of vectorized sequence\n",
        "                                    standardize=\"lower_and_strip_punctuation\", # default value\n",
        "                                    split=\"whitespace\", # default value\n",
        "                                    ngrams=None, # create groups of n-words?\n",
        "                                    output_mode=\"int\", # default  value                               \n",
        "                                    pad_to_max_tokens = True) # default value\n",
        "                                    "
      ],
      "execution_count": 105,
      "outputs": []
    },
    {
      "cell_type": "code",
      "metadata": {
        "id": "XFOqL42SMeZ1"
      },
      "source": [
        "# Adapt text vectorizer to training sentences\n",
        "text_vectorizer.adapt(train_sentences)"
      ],
      "execution_count": 106,
      "outputs": []
    },
    {
      "cell_type": "code",
      "metadata": {
        "colab": {
          "base_uri": "https://localhost:8080/"
        },
        "id": "ZJdl5aYeMcun",
        "outputId": "49263c6f-d24f-4a13-adeb-c217e9f7ca0b"
      },
      "source": [
        "# Test out text vectorizer on random sentences\n",
        "import random\n",
        "target_sentence = random.choice(train_sentences)\n",
        "print(f\"Text:\\n{target_sentence}\")\n",
        "print(f\"\\nLength of text: {len(target_sentence.split())}\")\n",
        "print(f\"\\nVectorized text:{text_vectorizer([target_sentence])}\")"
      ],
      "execution_count": 107,
      "outputs": [
        {
          "output_type": "stream",
          "text": [
            "Text:\n",
            "blood pressure and heart rate were documented every @ minutes .\n",
            "\n",
            "Length of text: 11\n",
            "\n",
            "Vectorized text:[[ 107  200    3  260   78    9 1899  418  340    0    0    0    0    0\n",
            "     0    0    0    0    0    0    0    0    0    0    0    0    0    0\n",
            "     0    0    0    0    0    0    0    0    0    0    0    0    0    0\n",
            "     0    0    0    0    0    0    0    0    0    0    0    0    0]]\n"
          ],
          "name": "stdout"
        }
      ]
    },
    {
      "cell_type": "code",
      "metadata": {
        "colab": {
          "base_uri": "https://localhost:8080/"
        },
        "id": "Bfn3hJHHN9GS",
        "outputId": "70b76c09-f428-4433-df09-ccfb4bb9ffc4"
      },
      "source": [
        "# How many words in our training vocabulary ?\n",
        "rct_20k_text_vocab = text_vectorizer.get_vocabulary()\n",
        "print(f\"Number of words in vocab : {len(rct_20k_text_vocab)}\")\n",
        "print(f\"Most common words in the vocab : {rct_20k_text_vocab[:5]}\")\n",
        "print(f\"Least common words in the vocab :v{rct_20k_text_vocab[-5:]}\")"
      ],
      "execution_count": 108,
      "outputs": [
        {
          "output_type": "stream",
          "text": [
            "Number of words in vocab : 64841\n",
            "Most common words in the vocab : ['', '[UNK]', 'the', 'and', 'of']\n",
            "Least common words in the vocab :v['aainduced', 'aaigroup', 'aachener', 'aachen', 'aaacp']\n"
          ],
          "name": "stdout"
        }
      ]
    },
    {
      "cell_type": "code",
      "metadata": {
        "colab": {
          "base_uri": "https://localhost:8080/"
        },
        "id": "nMQvZh2LUyeb",
        "outputId": "d301c5d4-3d68-445b-f748-0c14af8c2b71"
      },
      "source": [
        "# Get the config of our text vectorizer\n",
        "text_vectorizer.get_config()"
      ],
      "execution_count": 109,
      "outputs": [
        {
          "output_type": "execute_result",
          "data": {
            "text/plain": [
              "{'dtype': 'string',\n",
              " 'max_tokens': 68000,\n",
              " 'name': 'text_vectorization_1',\n",
              " 'ngrams': None,\n",
              " 'output_mode': 'int',\n",
              " 'output_sequence_length': 55,\n",
              " 'pad_to_max_tokens': True,\n",
              " 'split': 'whitespace',\n",
              " 'standardize': 'lower_and_strip_punctuation',\n",
              " 'trainable': True,\n",
              " 'vocabulary_size': 64841}"
            ]
          },
          "metadata": {
            "tags": []
          },
          "execution_count": 109
        }
      ]
    },
    {
      "cell_type": "markdown",
      "metadata": {
        "id": "2PrEpj-UN0pQ"
      },
      "source": [
        "### Create custom text embedding"
      ]
    },
    {
      "cell_type": "code",
      "metadata": {
        "colab": {
          "base_uri": "https://localhost:8080/"
        },
        "id": "Hr9bxe2GNpQE",
        "outputId": "137f0965-a6b1-4194-a022-f62589fac978"
      },
      "source": [
        "# Create token embedding layer\n",
        "token_embed = layers.Embedding(input_dim = len(rct_20k_text_vocab), # length of vocabulary\n",
        "                             output_dim = 128, # Note: different embedding sizes result in drastically differnt number of params to train\n",
        "                             mask_zero=True, # use masking to handle  variable sequence lengths(save space)\n",
        "                             name=\"token_embedding\")\n",
        "token_embed"
      ],
      "execution_count": 110,
      "outputs": [
        {
          "output_type": "execute_result",
          "data": {
            "text/plain": [
              "<tensorflow.python.keras.layers.embeddings.Embedding at 0x7fb9dee99090>"
            ]
          },
          "metadata": {
            "tags": []
          },
          "execution_count": 110
        }
      ]
    },
    {
      "cell_type": "code",
      "metadata": {
        "colab": {
          "base_uri": "https://localhost:8080/"
        },
        "id": "b7gVJcftsz0u",
        "outputId": "5d565907-f739-43a1-a8a7-e7909fb5e94a"
      },
      "source": [
        "# Show example embedding\n",
        "print(f\"Sentence before vectorization:\\n {target_sentence}\\n\")\n",
        "vectorized_sentence = text_vectorizer([target_sentence])\n",
        "print(f\"Sentence after vectorization(before embedding):\\n {vectorized_sentence}\\n\")\n",
        "embedded_sentence = token_embed(vectorized_sentence)\n",
        "print(f\"Sentence after embedding:\\n {embedded_sentence}\\n\")\n",
        "print(f\"Embedded sentence shape: {embedded_sentence.shape}\")"
      ],
      "execution_count": 111,
      "outputs": [
        {
          "output_type": "stream",
          "text": [
            "Sentence before vectorization:\n",
            " blood pressure and heart rate were documented every @ minutes .\n",
            "\n",
            "Sentence after vectorization(before embedding):\n",
            " [[ 107  200    3  260   78    9 1899  418  340    0    0    0    0    0\n",
            "     0    0    0    0    0    0    0    0    0    0    0    0    0    0\n",
            "     0    0    0    0    0    0    0    0    0    0    0    0    0    0\n",
            "     0    0    0    0    0    0    0    0    0    0    0    0    0]]\n",
            "\n",
            "Sentence after embedding:\n",
            " [[[ 0.02783183 -0.01470805 -0.0271597  ... -0.0307879   0.0025808\n",
            "   -0.01623756]\n",
            "  [ 0.04646349 -0.00568985  0.0380892  ... -0.00522733 -0.04895559\n",
            "   -0.03798204]\n",
            "  [ 0.04376078  0.04253007 -0.04114183 ...  0.03443455 -0.04758523\n",
            "   -0.03256788]\n",
            "  ...\n",
            "  [-0.04185325 -0.01195786  0.01091157 ... -0.00829224 -0.01563445\n",
            "    0.04604776]\n",
            "  [-0.04185325 -0.01195786  0.01091157 ... -0.00829224 -0.01563445\n",
            "    0.04604776]\n",
            "  [-0.04185325 -0.01195786  0.01091157 ... -0.00829224 -0.01563445\n",
            "    0.04604776]]]\n",
            "\n",
            "Embedded sentence shape: (1, 55, 128)\n"
          ],
          "name": "stdout"
        }
      ]
    },
    {
      "cell_type": "markdown",
      "metadata": {
        "id": "dWv2gvF3tq4k"
      },
      "source": [
        "## Creating datasets(making sure our data loads as fast as possible)\n",
        "We're going to setup our data to run as fast as possible with the TensorFlow tf.data API, many of the steps are discussed at length in these 2 resources :\n",
        "\n",
        "* https://www.tensorflow.org/guide/data_performance\n",
        "* https://www.tensorflow.org/guide/data"
      ]
    },
    {
      "cell_type": "code",
      "metadata": {
        "colab": {
          "base_uri": "https://localhost:8080/"
        },
        "id": "KNJiS3CUrqcw",
        "outputId": "cba3464c-006d-4bd8-a505-5bcfa09dd7dc"
      },
      "source": [
        "# Turn our data into TensorFlow Datasets\n",
        "train_dataset = tf.data.Dataset.from_tensor_slices((train_sentences, train_labels_one_hot))\n",
        "valid_dataset = tf.data.Dataset.from_tensor_slices((val_sentences, val_labels_one_hot))\n",
        "test_dataset = tf.data.Dataset.from_tensor_slices((test_sentences, test_labels_one_hot))\n",
        "train_dataset"
      ],
      "execution_count": 112,
      "outputs": [
        {
          "output_type": "execute_result",
          "data": {
            "text/plain": [
              "<TensorSliceDataset shapes: ((), (5,)), types: (tf.string, tf.float64)>"
            ]
          },
          "metadata": {
            "tags": []
          },
          "execution_count": 112
        }
      ]
    },
    {
      "cell_type": "code",
      "metadata": {
        "colab": {
          "base_uri": "https://localhost:8080/"
        },
        "id": "Qk49qJJ0pPpK",
        "outputId": "9a914891-4f8c-4c25-a68c-b1f57921b9b2"
      },
      "source": [
        "train_labels_one_hot.shape, train_labels_one_hot[0]"
      ],
      "execution_count": 113,
      "outputs": [
        {
          "output_type": "execute_result",
          "data": {
            "text/plain": [
              "((180040, 5), array([0., 0., 0., 1., 0.]))"
            ]
          },
          "metadata": {
            "tags": []
          },
          "execution_count": 113
        }
      ]
    },
    {
      "cell_type": "code",
      "metadata": {
        "colab": {
          "base_uri": "https://localhost:8080/"
        },
        "id": "rGWneWL9pBBn",
        "outputId": "981d474f-0abc-4696-84a8-480ee5759771"
      },
      "source": [
        "# Take the TensorSliceDataset's and turn them into prefetch dataset\n",
        "# https://www.tensorflow.org/guide/data_performance#prefetching\n",
        "# tf.data.AUTOTUNE - automatically prefetch as many samples as you can\n",
        "# Dont run it more than once\n",
        "train_dataset = train_dataset.batch(32).prefetch(tf.data.AUTOTUNE) \n",
        "valid_dataset = valid_dataset.batch(32).prefetch(tf.data.AUTOTUNE)\n",
        "test_dataset = test_dataset.batch(32).prefetch(tf.data.AUTOTUNE)\n",
        "train_dataset\n"
      ],
      "execution_count": 114,
      "outputs": [
        {
          "output_type": "execute_result",
          "data": {
            "text/plain": [
              "<PrefetchDataset shapes: ((None,), (None, 5)), types: (tf.string, tf.float64)>"
            ]
          },
          "metadata": {
            "tags": []
          },
          "execution_count": 114
        }
      ]
    },
    {
      "cell_type": "markdown",
      "metadata": {
        "id": "GDDGepFwtDYB"
      },
      "source": [
        "## Model 1 : Conv1D with token embeddings"
      ]
    },
    {
      "cell_type": "code",
      "metadata": {
        "id": "FSYD2Symrjui"
      },
      "source": [
        "# Create 1D conv model to process sequences\n",
        "from tensorflow.keras import layers\n",
        "\n",
        "inputs = layers.Input(shape=(1, ), dtype=\"string\")\n",
        "text_vectors = text_vectorizer(inputs) # vectorize text inputs\n",
        "token_embeddings = token_embed(text_vectors)  # create embeddings\n",
        "x = layers.Conv1D(filters = 64, # number of hidden units\n",
        "                  kernel_size = 5, # take 5 words at a time n-gram = 5\n",
        "                  strides=1, # default value\n",
        "                  padding=\"same\", # default value\n",
        "                  activation=\"relu\" \n",
        "                  )(token_embeddings)\n",
        "x = layers.GlobalAveragePooling1D()(x)\n",
        "outputs = layers.Dense(num_classes, activation=\"softmax\")(x)\n",
        "model_1 = tf.keras.Model(inputs, outputs)\n"
      ],
      "execution_count": 115,
      "outputs": []
    },
    {
      "cell_type": "code",
      "metadata": {
        "id": "AbQ_r1pLtq_n"
      },
      "source": [
        "# Compile model 1\n",
        "model_1.compile(loss=\"categorical_crossentropy\",\n",
        "                optimizer = tf.keras.optimizers.Adam(),\n",
        "                metrics=[\"accuracy\"])\n"
      ],
      "execution_count": 116,
      "outputs": []
    },
    {
      "cell_type": "code",
      "metadata": {
        "id": "_VGJfT6DujQz",
        "colab": {
          "base_uri": "https://localhost:8080/"
        },
        "outputId": "8bc4c4a9-340c-4007-c67b-d5e9bee733a5"
      },
      "source": [
        "model_1.summary()"
      ],
      "execution_count": 117,
      "outputs": [
        {
          "output_type": "stream",
          "text": [
            "Model: \"model_1\"\n",
            "_________________________________________________________________\n",
            "Layer (type)                 Output Shape              Param #   \n",
            "=================================================================\n",
            "input_2 (InputLayer)         [(None, 1)]               0         \n",
            "_________________________________________________________________\n",
            "text_vectorization_1 (TextVe (None, 55)                0         \n",
            "_________________________________________________________________\n",
            "token_embedding (Embedding)  (None, 55, 128)           8299648   \n",
            "_________________________________________________________________\n",
            "conv1d_1 (Conv1D)            (None, 55, 64)            41024     \n",
            "_________________________________________________________________\n",
            "global_average_pooling1d_1 ( (None, 64)                0         \n",
            "_________________________________________________________________\n",
            "dense_1 (Dense)              (None, 5)                 325       \n",
            "=================================================================\n",
            "Total params: 8,340,997\n",
            "Trainable params: 8,340,997\n",
            "Non-trainable params: 0\n",
            "_________________________________________________________________\n"
          ],
          "name": "stdout"
        }
      ]
    },
    {
      "cell_type": "code",
      "metadata": {
        "id": "1j1ldhQtu5JO"
      },
      "source": [
        "from helper_functions import create_tensorboard_callback\n",
        "SAVE_DIR = \"milestone_project_experiments\""
      ],
      "execution_count": 118,
      "outputs": []
    },
    {
      "cell_type": "code",
      "metadata": {
        "id": "HX0UUHfJvghj",
        "colab": {
          "base_uri": "https://localhost:8080/"
        },
        "outputId": "ba0b22ef-2d62-4d9b-c2d0-693672ba4560"
      },
      "source": [
        "train_dataset"
      ],
      "execution_count": 119,
      "outputs": [
        {
          "output_type": "execute_result",
          "data": {
            "text/plain": [
              "<PrefetchDataset shapes: ((None,), (None, 5)), types: (tf.string, tf.float64)>"
            ]
          },
          "metadata": {
            "tags": []
          },
          "execution_count": 119
        }
      ]
    },
    {
      "cell_type": "code",
      "metadata": {
        "id": "oYZQvNj6viW4",
        "colab": {
          "base_uri": "https://localhost:8080/"
        },
        "outputId": "ca328254-05c5-4dd0-818a-d22ec45eca63"
      },
      "source": [
        "len(train_dataset)  * 32 #(batch size)"
      ],
      "execution_count": 120,
      "outputs": [
        {
          "output_type": "execute_result",
          "data": {
            "text/plain": [
              "180064"
            ]
          },
          "metadata": {
            "tags": []
          },
          "execution_count": 120
        }
      ]
    },
    {
      "cell_type": "code",
      "metadata": {
        "id": "qGq_Xh3vubxX",
        "colab": {
          "base_uri": "https://localhost:8080/"
        },
        "outputId": "0a3f0e17-1ab1-44e5-927e-9f6c3fa37e3f"
      },
      "source": [
        "# Fit the model\n",
        "history_model_1 = model_1.fit(train_dataset,\n",
        "                              steps_per_epoch= int(0.1 * len(train_dataset)), # only train on 10% of the total training batchs\n",
        "                              epochs=3,\n",
        "                              validation_data = valid_dataset,\n",
        "                              validation_steps =int(0.1 * len(valid_dataset))) # only validate on 10% of the batches\n"
      ],
      "execution_count": 121,
      "outputs": [
        {
          "output_type": "stream",
          "text": [
            "Epoch 1/3\n",
            "562/562 [==============================] - 79s 85ms/step - loss: 0.9220 - accuracy: 0.6352 - val_loss: 0.6850 - val_accuracy: 0.7410\n",
            "Epoch 2/3\n",
            "562/562 [==============================] - 47s 83ms/step - loss: 0.6605 - accuracy: 0.7553 - val_loss: 0.6363 - val_accuracy: 0.7719\n",
            "Epoch 3/3\n",
            "562/562 [==============================] - 48s 85ms/step - loss: 0.6184 - accuracy: 0.7751 - val_loss: 0.5970 - val_accuracy: 0.7842\n"
          ],
          "name": "stdout"
        }
      ]
    },
    {
      "cell_type": "code",
      "metadata": {
        "id": "4MokEZAKw-sx",
        "colab": {
          "base_uri": "https://localhost:8080/"
        },
        "outputId": "e6b4c1fb-cee9-4c9f-8212-b15ca63899b6"
      },
      "source": [
        "# Evaluate on whole dataset\n",
        "results_model_1 = model_1.evaluate(valid_dataset)\n",
        "results_model_1"
      ],
      "execution_count": 122,
      "outputs": [
        {
          "output_type": "stream",
          "text": [
            "945/945 [==============================] - 3s 4ms/step - loss: 0.5991 - accuracy: 0.7870\n"
          ],
          "name": "stdout"
        },
        {
          "output_type": "execute_result",
          "data": {
            "text/plain": [
              "[0.5990913510322571, 0.787038266658783]"
            ]
          },
          "metadata": {
            "tags": []
          },
          "execution_count": 122
        }
      ]
    },
    {
      "cell_type": "code",
      "metadata": {
        "id": "5-YRmRV6xJW2",
        "colab": {
          "base_uri": "https://localhost:8080/"
        },
        "outputId": "ca8e3158-d12e-4c93-f0ba-aba3afda710d"
      },
      "source": [
        "# Make predictions (our model predicts predictions probabilities for each class)\n",
        "model_1_pred_probs = model_1.predict(valid_dataset)\n",
        "model_1_pred_probs, model_1_pred_probs.shape"
      ],
      "execution_count": 123,
      "outputs": [
        {
          "output_type": "execute_result",
          "data": {
            "text/plain": [
              "(array([[4.4372252e-01, 1.5892896e-01, 7.9995275e-02, 2.7878937e-01,\n",
              "         3.8563874e-02],\n",
              "        [3.8518855e-01, 3.4493861e-01, 1.1727505e-02, 2.4903402e-01,\n",
              "         9.1113755e-03],\n",
              "        [1.7256926e-01, 1.0288682e-02, 2.6243946e-03, 8.1447524e-01,\n",
              "         4.2434480e-05],\n",
              "        ...,\n",
              "        [8.0350947e-06, 6.6672202e-04, 9.2672941e-04, 3.5573189e-06,\n",
              "         9.9839491e-01],\n",
              "        [6.7829624e-02, 5.0610596e-01, 7.7870131e-02, 8.1278957e-02,\n",
              "         2.6691538e-01],\n",
              "        [1.6227998e-01, 6.5435296e-01, 5.3023219e-02, 6.5583922e-02,\n",
              "         6.4759910e-02]], dtype=float32), (30212, 5))"
            ]
          },
          "metadata": {
            "tags": []
          },
          "execution_count": 123
        }
      ]
    },
    {
      "cell_type": "code",
      "metadata": {
        "id": "Ag47js0q0kxO",
        "colab": {
          "base_uri": "https://localhost:8080/"
        },
        "outputId": "60a598d0-027d-4f17-8a1c-170803d46687"
      },
      "source": [
        "# Convert pred probs to classes\n",
        "model_1_preds = tf.argmax(model_1_pred_probs, axis=1)\n",
        "model_1_preds"
      ],
      "execution_count": 124,
      "outputs": [
        {
          "output_type": "execute_result",
          "data": {
            "text/plain": [
              "<tf.Tensor: shape=(30212,), dtype=int64, numpy=array([0, 0, 3, ..., 4, 1, 1])>"
            ]
          },
          "metadata": {
            "tags": []
          },
          "execution_count": 124
        }
      ]
    },
    {
      "cell_type": "code",
      "metadata": {
        "id": "sva-7qO302WQ",
        "colab": {
          "base_uri": "https://localhost:8080/"
        },
        "outputId": "3740f4ff-9c77-481e-fc47-a4290852f663"
      },
      "source": [
        "class_names"
      ],
      "execution_count": 125,
      "outputs": [
        {
          "output_type": "execute_result",
          "data": {
            "text/plain": [
              "array(['BACKGROUND', 'CONCLUSIONS', 'METHODS', 'OBJECTIVE', 'RESULTS'],\n",
              "      dtype=object)"
            ]
          },
          "metadata": {
            "tags": []
          },
          "execution_count": 125
        }
      ]
    },
    {
      "cell_type": "code",
      "metadata": {
        "id": "seGAlvhj07ko",
        "colab": {
          "base_uri": "https://localhost:8080/"
        },
        "outputId": "129181b5-0421-428c-e3f3-7c74962f8195"
      },
      "source": [
        "# Calculate model_1_results = \n",
        "model_1_results = calculate_results(y_true = val_labels_encoded,\n",
        "                                    y_pred = model_1_preds)\n",
        "model_1_results"
      ],
      "execution_count": 126,
      "outputs": [
        {
          "output_type": "execute_result",
          "data": {
            "text/plain": [
              "{'accuracy': 78.70382629418773,\n",
              " 'f1': 0.7846587242159004,\n",
              " 'precision': 0.7841551868467432,\n",
              " 'recall': 0.7870382629418774}"
            ]
          },
          "metadata": {
            "tags": []
          },
          "execution_count": 126
        }
      ]
    },
    {
      "cell_type": "code",
      "metadata": {
        "id": "aJLA-wQY1KBX",
        "colab": {
          "base_uri": "https://localhost:8080/"
        },
        "outputId": "1a7c56f9-c758-46f5-9ec8-bc096f049030"
      },
      "source": [
        "baseline_results"
      ],
      "execution_count": 127,
      "outputs": [
        {
          "output_type": "execute_result",
          "data": {
            "text/plain": [
              "{'accuracy': 72.1832384482987,\n",
              " 'f1': 0.6989250353450294,\n",
              " 'precision': 0.7186466952323352,\n",
              " 'recall': 0.7218323844829869}"
            ]
          },
          "metadata": {
            "tags": []
          },
          "execution_count": 127
        }
      ]
    },
    {
      "cell_type": "markdown",
      "metadata": {
        "id": "qXGQ19gh9r9h"
      },
      "source": [
        "## Model 2: Feature extraction with pretrained token embeddings\n",
        "\n",
        "Now lets use pretrained word embeddings from TensorFlow Hub, more specifically the universal sentence encoder\n",
        "https://tfhub.dev/google/universal-sentence-encoder/4\n",
        "\n",
        "The paper originally used GloVe embeddings, however, we're going to stick with later created USE pretrained embeddings.\n",
        "\n",
        "More pretrained training models for all domains here \n",
        "https://huggingface.co/"
      ]
    },
    {
      "cell_type": "code",
      "metadata": {
        "id": "2UlB2Am99zkN"
      },
      "source": [
        "# Download pretrained TensorFlow Hub USE\n",
        "import tensorflow_hub as hub\n",
        "\n",
        "tf_hub_embedding_layer = hub.KerasLayer(\"https://tfhub.dev/google/universal-sentence-encoder/4\",\n",
        "                                        trainable=False,\n",
        "                                        name=\"universal_sentence_encoder\")"
      ],
      "execution_count": 128,
      "outputs": []
    },
    {
      "cell_type": "code",
      "metadata": {
        "colab": {
          "base_uri": "https://localhost:8080/"
        },
        "id": "hD2elk77_-R-",
        "outputId": "3cc9c115-d63f-4700-d5e1-78afb8d0ac19"
      },
      "source": [
        "# Test out the pretrained embedding on a random sentence\n",
        "random_train_sentence = random.choice(train_sentences)\n",
        "print(f\"Random sentence :\\n {random_train_sentence}\")\n",
        "use_embedded_sentence = tf_hub_embedding_layer([random_train_sentence])\n",
        "print(f\"Sentence after embedding:\\n{use_embedded_sentence[0][:30]}\\n\")\n",
        "print(f\"Length of sentence embedding: {len(use_embedded_sentence[0])}\")\n"
      ],
      "execution_count": 129,
      "outputs": [
        {
          "output_type": "stream",
          "text": [
            "Random sentence :\n",
            " subjects were randomized into @ groups ( n = @ ) to evaluate superiority to placebo ( visits @ to @ ) and @ groups ( n = @ ) to evaluate noninferiority to olopatadine ( visit @ ) .\n",
            "Sentence after embedding:\n",
            "[ 0.02499036 -0.06802253 -0.01146875 -0.06458484 -0.04471185  0.02743505\n",
            " -0.01264824 -0.07530107 -0.07338442  0.05170598  0.07000187  0.05250169\n",
            "  0.06624097  0.02772662 -0.0639934  -0.06871744 -0.04610502 -0.00251478\n",
            "  0.00559184 -0.04394891  0.07980164  0.07690874 -0.07877067  0.03454126\n",
            "  0.00038298  0.0566417  -0.06255049 -0.01961011  0.05315802 -0.06381531]\n",
            "\n",
            "Length of sentence embedding: 512\n"
          ],
          "name": "stdout"
        }
      ]
    },
    {
      "cell_type": "code",
      "metadata": {
        "colab": {
          "base_uri": "https://localhost:8080/"
        },
        "id": "qJO4wzJ-EDe_",
        "outputId": "ae1916c1-822d-4e89-fe6e-9dc7859050d7"
      },
      "source": [
        "use_embedded_sentence.shape"
      ],
      "execution_count": 130,
      "outputs": [
        {
          "output_type": "execute_result",
          "data": {
            "text/plain": [
              "TensorShape([1, 512])"
            ]
          },
          "metadata": {
            "tags": []
          },
          "execution_count": 130
        }
      ]
    },
    {
      "cell_type": "markdown",
      "metadata": {
        "id": "w2bgCtQaInN3"
      },
      "source": [
        "### Building and fitting an NLP extraction mdoel using pretrained embeddings from Tensorflow Hub"
      ]
    },
    {
      "cell_type": "code",
      "metadata": {
        "id": "WpOQKeoGEeUO"
      },
      "source": [
        "# Define feature extraction model using TF Hub layer\n",
        "from tensorflow.keras import layers\n",
        "\n",
        "inputs = layers.Input(shape=[], dtype=\"string\") # required empty list for pretrained layer\n",
        "pretrained_embedding  = tf_hub_embedding_layer(inputs) # tokenize and embeddings of each sequence(512 long vectors)\n",
        "x = layers.Dense(128, activation=\"relu\")(pretrained_embedding)\n",
        "# Note : you could add more layes here if you wanted to \n",
        "outputs = layers.Dense(num_classes, activation=\"softmax\")(x) # create the output layer\n",
        "model_2 = tf.keras.Model(inputs = inputs,\n",
        "                         outputs = outputs,\n",
        "                         name=\"model_2_USE_feature_extractor\")\n",
        "\n",
        "model_2.compile(loss=\"categorical_crossentropy\",\n",
        "                optimizer=tf.keras.optimizers.Adam(),\n",
        "                metrics=[\"accuracy\"])\n"
      ],
      "execution_count": 131,
      "outputs": []
    },
    {
      "cell_type": "code",
      "metadata": {
        "colab": {
          "base_uri": "https://localhost:8080/"
        },
        "id": "6t2cqGHlK8WR",
        "outputId": "8f629990-4624-40ab-d8c6-37d3aa5ac54a"
      },
      "source": [
        "# Model summary\n",
        "model_2.summary()"
      ],
      "execution_count": 132,
      "outputs": [
        {
          "output_type": "stream",
          "text": [
            "Model: \"model_2_USE_feature_extractor\"\n",
            "_________________________________________________________________\n",
            "Layer (type)                 Output Shape              Param #   \n",
            "=================================================================\n",
            "input_3 (InputLayer)         [(None,)]                 0         \n",
            "_________________________________________________________________\n",
            "universal_sentence_encoder ( (None, 512)               256797824 \n",
            "_________________________________________________________________\n",
            "dense_2 (Dense)              (None, 128)               65664     \n",
            "_________________________________________________________________\n",
            "dense_3 (Dense)              (None, 5)                 645       \n",
            "=================================================================\n",
            "Total params: 256,864,133\n",
            "Trainable params: 66,309\n",
            "Non-trainable params: 256,797,824\n",
            "_________________________________________________________________\n"
          ],
          "name": "stdout"
        }
      ]
    },
    {
      "cell_type": "code",
      "metadata": {
        "colab": {
          "base_uri": "https://localhost:8080/"
        },
        "id": "x9QV1xzKH8cO",
        "outputId": "7efda323-7138-40de-8d65-cd41cad5af9d"
      },
      "source": [
        "history_model_2 = model_2.fit(train_dataset,\n",
        "                              epochs=3,\n",
        "                              steps_per_epoch=int(0.1 * len(train_dataset)),\n",
        "                              validation_data = valid_dataset,\n",
        "                              validation_steps = int(0.1 * len(valid_dataset))\n",
        "                              )"
      ],
      "execution_count": 133,
      "outputs": [
        {
          "output_type": "stream",
          "text": [
            "Epoch 1/3\n",
            "562/562 [==============================] - 9s 12ms/step - loss: 0.9158 - accuracy: 0.6479 - val_loss: 0.7959 - val_accuracy: 0.6875\n",
            "Epoch 2/3\n",
            "562/562 [==============================] - 6s 11ms/step - loss: 0.7676 - accuracy: 0.7014 - val_loss: 0.7553 - val_accuracy: 0.7064\n",
            "Epoch 3/3\n",
            "562/562 [==============================] - 6s 11ms/step - loss: 0.7512 - accuracy: 0.7134 - val_loss: 0.7388 - val_accuracy: 0.7104\n"
          ],
          "name": "stdout"
        }
      ]
    },
    {
      "cell_type": "code",
      "metadata": {
        "colab": {
          "base_uri": "https://localhost:8080/"
        },
        "id": "CP21HofiM88O",
        "outputId": "7da5da16-f5c3-48b2-a73a-6b5a995ed27b"
      },
      "source": [
        "# Evaluate the model\n",
        "results_model_2 = model_2.evaluate(valid_dataset)\n",
        "results_model_2"
      ],
      "execution_count": 134,
      "outputs": [
        {
          "output_type": "stream",
          "text": [
            "945/945 [==============================] - 10s 10ms/step - loss: 0.7401 - accuracy: 0.7143\n"
          ],
          "name": "stdout"
        },
        {
          "output_type": "execute_result",
          "data": {
            "text/plain": [
              "[0.7400808334350586, 0.7142525911331177]"
            ]
          },
          "metadata": {
            "tags": []
          },
          "execution_count": 134
        }
      ]
    },
    {
      "cell_type": "code",
      "metadata": {
        "colab": {
          "base_uri": "https://localhost:8080/"
        },
        "id": "PTVUxRFlOJSq",
        "outputId": "ee88bccd-e5cd-490e-98a5-441968a17183"
      },
      "source": [
        "# Make predictions with feature extraction mdoel\n",
        "model_2_pred_probs = model_2.predict(valid_dataset)\n",
        "model_2_pred_probs[:10]"
      ],
      "execution_count": 135,
      "outputs": [
        {
          "output_type": "execute_result",
          "data": {
            "text/plain": [
              "array([[4.11515146e-01, 3.69059026e-01, 2.11920985e-03, 2.09327921e-01,\n",
              "        7.97872711e-03],\n",
              "       [3.34544122e-01, 5.09054065e-01, 4.01086686e-03, 1.48819163e-01,\n",
              "        3.57182557e-03],\n",
              "       [2.30362669e-01, 1.66247651e-01, 1.84638835e-02, 5.48509657e-01,\n",
              "        3.64160724e-02],\n",
              "       [1.35076009e-02, 4.40119356e-02, 8.19415331e-01, 7.69838458e-03,\n",
              "        1.15366735e-01],\n",
              "       [3.06004714e-02, 2.17922002e-01, 2.35681206e-01, 1.28830774e-02,\n",
              "        5.02913237e-01],\n",
              "       [9.96426563e-04, 2.33958033e-03, 6.90319479e-01, 1.41723925e-04,\n",
              "        3.06202888e-01],\n",
              "       [1.97679736e-03, 3.32751335e-03, 6.31452918e-01, 1.26601139e-03,\n",
              "        3.61976832e-01],\n",
              "       [4.06833366e-03, 2.69407947e-02, 4.98565793e-01, 1.29875401e-03,\n",
              "        4.69126314e-01],\n",
              "       [7.10212742e-04, 6.71348721e-03, 2.03201249e-02, 1.25431397e-03,\n",
              "        9.71001804e-01],\n",
              "       [1.37054190e-01, 6.93545640e-01, 2.58994028e-02, 8.17476660e-02,\n",
              "        6.17530905e-02]], dtype=float32)"
            ]
          },
          "metadata": {
            "tags": []
          },
          "execution_count": 135
        }
      ]
    },
    {
      "cell_type": "code",
      "metadata": {
        "colab": {
          "base_uri": "https://localhost:8080/"
        },
        "id": "_0S9jKuFP-9N",
        "outputId": "68a17ec8-e05f-4121-d942-458220b3fbf9"
      },
      "source": [
        "# Convert the predictions probabilities found with feature extraction model to labels\n",
        "model_2_preds = tf.argmax(model_2_pred_probs, axis=1)\n",
        "model_2_preds"
      ],
      "execution_count": 136,
      "outputs": [
        {
          "output_type": "execute_result",
          "data": {
            "text/plain": [
              "<tf.Tensor: shape=(30212,), dtype=int64, numpy=array([0, 1, 3, ..., 4, 4, 2])>"
            ]
          },
          "metadata": {
            "tags": []
          },
          "execution_count": 136
        }
      ]
    },
    {
      "cell_type": "code",
      "metadata": {
        "id": "0oUyWhhGPsEX"
      },
      "source": [
        "# Calculate results from TF Hub pretrained embeddings results on val set\n",
        "model_2_results = calculate_results(y_true = val_labels_encoded,\n",
        "                                    y_pred = model_2_preds)\n"
      ],
      "execution_count": 137,
      "outputs": []
    },
    {
      "cell_type": "code",
      "metadata": {
        "colab": {
          "base_uri": "https://localhost:8080/"
        },
        "id": "musM_yfgQ0r1",
        "outputId": "9ca5c507-9791-4973-809c-2f5832a91f2d"
      },
      "source": [
        "model_2_results"
      ],
      "execution_count": 138,
      "outputs": [
        {
          "output_type": "execute_result",
          "data": {
            "text/plain": [
              "{'accuracy': 71.42195154243348,\n",
              " 'f1': 0.7111586095231073,\n",
              " 'precision': 0.7144110898066165,\n",
              " 'recall': 0.7142195154243347}"
            ]
          },
          "metadata": {
            "tags": []
          },
          "execution_count": 138
        }
      ]
    },
    {
      "cell_type": "code",
      "metadata": {
        "colab": {
          "base_uri": "https://localhost:8080/"
        },
        "id": "_zRXM0stQ2Il",
        "outputId": "0996b2a8-6968-490a-ab1b-e7d7f725b069"
      },
      "source": [
        "baseline_results"
      ],
      "execution_count": 139,
      "outputs": [
        {
          "output_type": "execute_result",
          "data": {
            "text/plain": [
              "{'accuracy': 72.1832384482987,\n",
              " 'f1': 0.6989250353450294,\n",
              " 'precision': 0.7186466952323352,\n",
              " 'recall': 0.7218323844829869}"
            ]
          },
          "metadata": {
            "tags": []
          },
          "execution_count": 139
        }
      ]
    },
    {
      "cell_type": "markdown",
      "metadata": {
        "id": "ZVR0pVk6RGtC"
      },
      "source": [
        "\n",
        "## Model 3 : Conv1D with character embeddings\n",
        "\n",
        "The paper which we're replicating states they used a combination of token and character-level embeddings.\n",
        "Previously, we've token-level embeddings but we'll need to do similar steps for characters if we want to use char-level embeddings.\n"
      ]
    },
    {
      "cell_type": "markdown",
      "metadata": {
        "id": "fkSt1l3UpRCV"
      },
      "source": [
        "![TokenVsCharacter.jpg](data:image/jpeg;base64,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)"
      ]
    },
    {
      "cell_type": "markdown",
      "metadata": {
        "id": "lnksxTDxpUD-"
      },
      "source": [
        "### Creating a character-level tokenizer"
      ]
    },
    {
      "cell_type": "code",
      "metadata": {
        "id": "1BL86T6Kt_5g",
        "colab": {
          "base_uri": "https://localhost:8080/"
        },
        "outputId": "a23dd331-502d-49e2-95ff-50ac87c3614f"
      },
      "source": [
        "train_sentences[:5]"
      ],
      "execution_count": 140,
      "outputs": [
        {
          "output_type": "execute_result",
          "data": {
            "text/plain": [
              "['to investigate the efficacy of @ weeks of daily low-dose oral prednisolone in improving pain , mobility , and systemic low-grade inflammation in the short term and whether the effect would be sustained at @ weeks in older adults with moderate to severe knee osteoarthritis ( oa ) .',\n",
              " 'a total of @ patients with primary knee oa were randomized @:@ ; @ received @ mg/day of prednisolone and @ received placebo for @ weeks .',\n",
              " 'outcome measures included pain reduction and improvement in function scores and systemic inflammation markers .',\n",
              " 'pain was assessed using the visual analog pain scale ( @-@ mm ) .',\n",
              " 'secondary outcome measures included the western ontario and mcmaster universities osteoarthritis index scores , patient global assessment ( pga ) of the severity of knee oa , and @-min walk distance ( @mwd ) .']"
            ]
          },
          "metadata": {
            "tags": []
          },
          "execution_count": 140
        }
      ]
    },
    {
      "cell_type": "code",
      "metadata": {
        "id": "6D10HNVluCc-",
        "colab": {
          "base_uri": "https://localhost:8080/",
          "height": 86
        },
        "outputId": "00e409bf-8fdf-4718-eb7b-995df97e6d21"
      },
      "source": [
        "# Make function to split sentences into characters\n",
        "def split_chars(text) :\n",
        "  return \" \".join(list(text))\n",
        "\n",
        "\n",
        "# Text splitting non-character level sequence into characters\n",
        "split_chars(random_train_sentence)"
      ],
      "execution_count": 141,
      "outputs": [
        {
          "output_type": "execute_result",
          "data": {
            "application/vnd.google.colaboratory.intrinsic+json": {
              "type": "string"
            },
            "text/plain": [
              "'s u b j e c t s   w e r e   r a n d o m i z e d   i n t o   @   g r o u p s   (   n   =   @   )   t o   e v a l u a t e   s u p e r i o r i t y   t o   p l a c e b o   (   v i s i t s   @   t o   @   )   a n d   @   g r o u p s   (   n   =   @   )   t o   e v a l u a t e   n o n i n f e r i o r i t y   t o   o l o p a t a d i n e   (   v i s i t   @   )   .'"
            ]
          },
          "metadata": {
            "tags": []
          },
          "execution_count": 141
        }
      ]
    },
    {
      "cell_type": "code",
      "metadata": {
        "id": "rCMySnFxueec",
        "colab": {
          "base_uri": "https://localhost:8080/"
        },
        "outputId": "93c941bb-dc91-43e3-a2b5-a18c0b47df73"
      },
      "source": [
        "# Split sequence-level data splits into character-level data splits\n",
        "\n",
        "train_chars = [split_chars(sentence) for sentence in train_sentences]\n",
        "val_chars = [split_chars(sentence) for sentence in val_sentences]\n",
        "test_chars = [split_chars(sentence) for sentence in test_sentences]\n",
        "train_chars[:5]"
      ],
      "execution_count": 142,
      "outputs": [
        {
          "output_type": "execute_result",
          "data": {
            "text/plain": [
              "['t o   i n v e s t i g a t e   t h e   e f f i c a c y   o f   @   w e e k s   o f   d a i l y   l o w - d o s e   o r a l   p r e d n i s o l o n e   i n   i m p r o v i n g   p a i n   ,   m o b i l i t y   ,   a n d   s y s t e m i c   l o w - g r a d e   i n f l a m m a t i o n   i n   t h e   s h o r t   t e r m   a n d   w h e t h e r   t h e   e f f e c t   w o u l d   b e   s u s t a i n e d   a t   @   w e e k s   i n   o l d e r   a d u l t s   w i t h   m o d e r a t e   t o   s e v e r e   k n e e   o s t e o a r t h r i t i s   (   o a   )   .',\n",
              " 'a   t o t a l   o f   @   p a t i e n t s   w i t h   p r i m a r y   k n e e   o a   w e r e   r a n d o m i z e d   @ : @   ;   @   r e c e i v e d   @   m g / d a y   o f   p r e d n i s o l o n e   a n d   @   r e c e i v e d   p l a c e b o   f o r   @   w e e k s   .',\n",
              " 'o u t c o m e   m e a s u r e s   i n c l u d e d   p a i n   r e d u c t i o n   a n d   i m p r o v e m e n t   i n   f u n c t i o n   s c o r e s   a n d   s y s t e m i c   i n f l a m m a t i o n   m a r k e r s   .',\n",
              " 'p a i n   w a s   a s s e s s e d   u s i n g   t h e   v i s u a l   a n a l o g   p a i n   s c a l e   (   @ - @   m m   )   .',\n",
              " 's e c o n d a r y   o u t c o m e   m e a s u r e s   i n c l u d e d   t h e   w e s t e r n   o n t a r i o   a n d   m c m a s t e r   u n i v e r s i t i e s   o s t e o a r t h r i t i s   i n d e x   s c o r e s   ,   p a t i e n t   g l o b a l   a s s e s s m e n t   (   p g a   )   o f   t h e   s e v e r i t y   o f   k n e e   o a   ,   a n d   @ - m i n   w a l k   d i s t a n c e   (   @ m w d   )   .']"
            ]
          },
          "metadata": {
            "tags": []
          },
          "execution_count": 142
        }
      ]
    },
    {
      "cell_type": "code",
      "metadata": {
        "id": "IDWCLz9MvVwD",
        "colab": {
          "base_uri": "https://localhost:8080/"
        },
        "outputId": "f1f29b0f-bf95-4e53-d266-3c5693027028"
      },
      "source": [
        "# What's average character length ?\n",
        "char_lens = [len(sentence) for sentence in train_sentences]\n",
        "mean_char_len = np.mean(char_lens)\n",
        "mean_char_len"
      ],
      "execution_count": 143,
      "outputs": [
        {
          "output_type": "execute_result",
          "data": {
            "text/plain": [
              "149.3662574983337"
            ]
          },
          "metadata": {
            "tags": []
          },
          "execution_count": 143
        }
      ]
    },
    {
      "cell_type": "code",
      "metadata": {
        "id": "A1CUUtzxv1m0",
        "colab": {
          "base_uri": "https://localhost:8080/",
          "height": 265
        },
        "outputId": "82de32f0-89b0-465b-bbd9-922172a0bd3d"
      },
      "source": [
        "# Check the distribution of our sequence at a character-level\n",
        "import matplotlib.pyplot as plt\n",
        "plt.hist(char_lens, bins=7);"
      ],
      "execution_count": 144,
      "outputs": [
        {
          "output_type": "display_data",
          "data": {
            "image/png": "[encoded data removed]",
            "text/plain": [
              "<Figure size 432x288 with 1 Axes>"
            ]
          },
          "metadata": {
            "tags": [],
            "needs_background": "light"
          }
        }
      ]
    },
    {
      "cell_type": "code",
      "metadata": {
        "id": "QxRHyqCjwOH_",
        "colab": {
          "base_uri": "https://localhost:8080/"
        },
        "outputId": "a42daf17-9e83-4a56-a999-fa439f48cc74"
      },
      "source": [
        "# Find what character length covers 95% of sequences\n",
        "output_seq_char_len = int(np.percentile(char_lens, 95))\n",
        "output_seq_char_len"
      ],
      "execution_count": 145,
      "outputs": [
        {
          "output_type": "execute_result",
          "data": {
            "text/plain": [
              "290"
            ]
          },
          "metadata": {
            "tags": []
          },
          "execution_count": 145
        }
      ]
    },
    {
      "cell_type": "markdown",
      "metadata": {
        "id": "zWtz8gHCw3aM"
      },
      "source": [
        "> Note: Max token for a character level vectorization is how many different characters is used in your dataset. \n",
        "Which is generally ur alphanumeric characters"
      ]
    },
    {
      "cell_type": "code",
      "metadata": {
        "id": "OSZJ5ppTwlI6",
        "colab": {
          "base_uri": "https://localhost:8080/",
          "height": 35
        },
        "outputId": "d9012590-d331-4f28-943f-e12ef7152077"
      },
      "source": [
        "# Get all keyboard character\n",
        "import string\n",
        "alphabet = string.ascii_lowercase + string.digits + string.punctuation\n",
        "alphabet\n"
      ],
      "execution_count": 146,
      "outputs": [
        {
          "output_type": "execute_result",
          "data": {
            "application/vnd.google.colaboratory.intrinsic+json": {
              "type": "string"
            },
            "text/plain": [
              "'abcdefghijklmnopqrstuvwxyz0123456789!\"#$%&\\'()*+,-./:;<=>?@[\\\\]^_`{|}~'"
            ]
          },
          "metadata": {
            "tags": []
          },
          "execution_count": 146
        }
      ]
    },
    {
      "cell_type": "code",
      "metadata": {
        "id": "MDBIZSW-x1co"
      },
      "source": [
        "# Create char-level token vectorizer instance\n",
        "from tensorflow.keras.layers.experimental.preprocessing import TextVectorization\n",
        "NUM_CHAR_TOKENS = len(alphabet) + 2 # add 2 for space and OOV tone (OOV = out of vocab, '[UNK]')\n",
        "char_vectorizer = TextVectorization(max_tokens = NUM_CHAR_TOKENS,                                    \n",
        "                                    output_mode=\"int\",\n",
        "                                    output_sequence_length = output_seq_char_len,\n",
        "                                    # standardize=None, # set standardization to \"None\" if uou want to get punctuations in\n",
        "                                    name=\"char_vectorizer\")"
      ],
      "execution_count": 147,
      "outputs": []
    },
    {
      "cell_type": "code",
      "metadata": {
        "id": "XrywmROhzWl_"
      },
      "source": [
        "# Adapt character vectorizer to training character\n",
        "char_vectorizer.adapt(train_chars)"
      ],
      "execution_count": 148,
      "outputs": []
    },
    {
      "cell_type": "code",
      "metadata": {
        "colab": {
          "base_uri": "https://localhost:8080/"
        },
        "id": "55fagHz6zggF",
        "outputId": "71ae3a7d-aceb-412c-d15f-3628cb2aa4a3"
      },
      "source": [
        "# Check character vocab stats\n",
        "char_vocab = char_vectorizer.get_vocabulary()\n",
        "print(f\"Numer of different characters in character vocab: {len(char_vocab)}\")\n",
        "print(f\"5 most common characters : {char_vocab[:5]}\")\n",
        "print(f\"5 least common characters: {char_vocab[-5:]}\")"
      ],
      "execution_count": 149,
      "outputs": [
        {
          "output_type": "stream",
          "text": [
            "Numer of different characters in character vocab: 28\n",
            "5 most common characters : ['', '[UNK]', 'e', 't', 'i']\n",
            "5 least common characters: ['k', 'x', 'z', 'q', 'j']\n"
          ],
          "name": "stdout"
        }
      ]
    },
    {
      "cell_type": "code",
      "metadata": {
        "colab": {
          "base_uri": "https://localhost:8080/"
        },
        "id": "i4VU2F51008_",
        "outputId": "73d3f0a0-8609-43e3-f50c-420b6316d3cf"
      },
      "source": [
        "# Test our character vectorizer\n",
        "random_train_chars = random.choice(train_chars)\n",
        "print(f\"Charified text : \\n {random_train_chars}\")\n",
        "print(f\"\\nLength of random_train chars: {len(random_train_chars.split())}\")\n",
        "vectorized_chars = char_vectorizer([random_train_chars])\n",
        "print(f\"\\nVectorized chars :\\n {vectorized_chars}\")\n",
        "print(f\"\\nLength of vectorized chars : {len(vectorized_chars[0])}\")"
      ],
      "execution_count": 150,
      "outputs": [
        {
          "output_type": "stream",
          "text": [
            "Charified text : \n",
            " t h e   i n t e r v e n t i o n   w a s   a d m i n i s t e r e d   f o r   @ w e e k s   .\n",
            "\n",
            "Length of random_train chars: 40\n",
            "\n",
            "Vectorized chars :\n",
            " [[ 3 13  2  4  6  3  2  8 21  2  6  3  4  7  6 20  5  9  5 10 15  4  6  4\n",
            "   9  3  2  8  2 10 17  7  8 20  2  2 23  9  0  0  0  0  0  0  0  0  0  0\n",
            "   0  0  0  0  0  0  0  0  0  0  0  0  0  0  0  0  0  0  0  0  0  0  0  0\n",
            "   0  0  0  0  0  0  0  0  0  0  0  0  0  0  0  0  0  0  0  0  0  0  0  0\n",
            "   0  0  0  0  0  0  0  0  0  0  0  0  0  0  0  0  0  0  0  0  0  0  0  0\n",
            "   0  0  0  0  0  0  0  0  0  0  0  0  0  0  0  0  0  0  0  0  0  0  0  0\n",
            "   0  0  0  0  0  0  0  0  0  0  0  0  0  0  0  0  0  0  0  0  0  0  0  0\n",
            "   0  0  0  0  0  0  0  0  0  0  0  0  0  0  0  0  0  0  0  0  0  0  0  0\n",
            "   0  0  0  0  0  0  0  0  0  0  0  0  0  0  0  0  0  0  0  0  0  0  0  0\n",
            "   0  0  0  0  0  0  0  0  0  0  0  0  0  0  0  0  0  0  0  0  0  0  0  0\n",
            "   0  0  0  0  0  0  0  0  0  0  0  0  0  0  0  0  0  0  0  0  0  0  0  0\n",
            "   0  0  0  0  0  0  0  0  0  0  0  0  0  0  0  0  0  0  0  0  0  0  0  0\n",
            "   0  0]]\n",
            "\n",
            "Length of vectorized chars : 290\n"
          ],
          "name": "stdout"
        }
      ]
    },
    {
      "cell_type": "markdown",
      "metadata": {
        "id": "TB3QhXvZ1S72"
      },
      "source": [
        "### Creating a character-level embedding"
      ]
    },
    {
      "cell_type": "code",
      "metadata": {
        "id": "Y9_xIGl02Yp5"
      },
      "source": [
        "# Create char embedding layer\n",
        "from tensorflow.keras import layers\n",
        "\n",
        "char_embed = layers.Embedding(input_dim = len(char_vocab), #number of different characters\n",
        "                                  output_dim = 25, # this is the size of the char embedding in the paper.  https://arxiv.org/pdf/1612.05251.pdf\n",
        "                                  mask_zero=True,\n",
        "                                  name = \"char_embed\")"
      ],
      "execution_count": 179,
      "outputs": []
    },
    {
      "cell_type": "code",
      "metadata": {
        "colab": {
          "base_uri": "https://localhost:8080/"
        },
        "id": "nHby8ehi7o8Z",
        "outputId": "85bb7eaa-be95-4a9f-c18f-bc6345eaedeb"
      },
      "source": [
        "# Test our character embedding layer\n",
        "print(f\"Charified text:\\n {random_train_chars}\\n\")\n",
        "char_embed_example = char_embed(char_vectorizer([random_train_chars]))\n",
        "print(f\"Embedded chars. (after vectorization and embedding):\\n{char_embed_example}\\n\")\n",
        "print(f\"Character embedding shape:{char_embed_example.shape}\")"
      ],
      "execution_count": 180,
      "outputs": [
        {
          "output_type": "stream",
          "text": [
            "Charified text:\n",
            " t h e   i n t e r v e n t i o n   w a s   a d m i n i s t e r e d   f o r   @ w e e k s   .\n",
            "\n",
            "Embedded chars. (after vectorization and embedding):\n",
            "[[[-0.02610075 -0.01859367  0.00389814 ... -0.04879228 -0.04128861\n",
            "    0.00506892]\n",
            "  [-0.00923496 -0.0316779  -0.03528572 ...  0.0228057   0.02562729\n",
            "    0.03101948]\n",
            "  [ 0.01789792 -0.04392526  0.04309919 ...  0.00375453 -0.04830233\n",
            "   -0.02299598]\n",
            "  ...\n",
            "  [ 0.00965852  0.02220419  0.01144873 ... -0.0173154   0.03608027\n",
            "    0.02906943]\n",
            "  [ 0.00965852  0.02220419  0.01144873 ... -0.0173154   0.03608027\n",
            "    0.02906943]\n",
            "  [ 0.00965852  0.02220419  0.01144873 ... -0.0173154   0.03608027\n",
            "    0.02906943]]]\n",
            "\n",
            "Character embedding shape:(1, 290, 25)\n"
          ],
          "name": "stdout"
        }
      ]
    },
    {
      "cell_type": "markdown",
      "metadata": {
        "id": "nsSZSQJN8bo5"
      },
      "source": [
        "### Building a Conv1D model to fit on the character embeddings\n"
      ]
    },
    {
      "cell_type": "code",
      "metadata": {
        "id": "yZpBklxk_K2D"
      },
      "source": [
        "from tensorflow.keras import layers\n",
        "\n",
        "# Make Conv1D on chars only\n",
        "inputs = layers.Input(shape=(1, ), dtype=\"string\")\n",
        "char_vectors = char_vectorizer(inputs)\n",
        "char_embeddings = char_embed(char_vectors)\n",
        "x = layers.Conv1D(filters = 64,                  \n",
        "                  kernel_size=5,\n",
        "                  padding=\"same\",\n",
        "                  activation=\"relu\")(char_embeddings)\n",
        "x = layers.GlobalMaxPool1D()(x)\n",
        "outputs = layers.Dense(num_classes, activation=\"softmax\")(x)\n",
        "model_3 = tf.keras.Model(inputs= inputs, \n",
        "                         outputs=outputs,\n",
        "                         name=\"model_3_conv1d_char_embeddings\")\n",
        "\n",
        "# Compile the model\n",
        "model_3.compile(loss=\"categorical_crossentropy\",\n",
        "                optimizer=tf.keras.optimizers.Adam(),\n",
        "                metrics=[\"accuracy\"])\n",
        "\n"
      ],
      "execution_count": 181,
      "outputs": []
    },
    {
      "cell_type": "code",
      "metadata": {
        "colab": {
          "base_uri": "https://localhost:8080/"
        },
        "id": "G5wxDUpdAqYb",
        "outputId": "f2eaaa4f-cfd0-4be5-8ac2-cdf501401482"
      },
      "source": [
        "# Get model 3 summary\n",
        "model_3.summary()"
      ],
      "execution_count": 182,
      "outputs": [
        {
          "output_type": "stream",
          "text": [
            "Model: \"model_3_conv1d_char_embeddings\"\n",
            "_________________________________________________________________\n",
            "Layer (type)                 Output Shape              Param #   \n",
            "=================================================================\n",
            "input_5 (InputLayer)         [(None, 1)]               0         \n",
            "_________________________________________________________________\n",
            "char_vectorizer (TextVectori (None, 290)               0         \n",
            "_________________________________________________________________\n",
            "char_embed (Embedding)       (None, 290, 25)           700       \n",
            "_________________________________________________________________\n",
            "conv1d_3 (Conv1D)            (None, 290, 64)           8064      \n",
            "_________________________________________________________________\n",
            "global_max_pooling1d_1 (Glob (None, 64)                0         \n",
            "_________________________________________________________________\n",
            "dense_12 (Dense)             (None, 5)                 325       \n",
            "=================================================================\n",
            "Total params: 9,089\n",
            "Trainable params: 9,089\n",
            "Non-trainable params: 0\n",
            "_________________________________________________________________\n"
          ],
          "name": "stdout"
        }
      ]
    },
    {
      "cell_type": "code",
      "metadata": {
        "colab": {
          "base_uri": "https://localhost:8080/"
        },
        "id": "99o4lPv0COwt",
        "outputId": "32237239-c347-415e-f9ce-aa1a86bb8a67"
      },
      "source": [
        "# Create char level datasets\n",
        "train_char_dataset = tf.data.Dataset.from_tensor_slices((train_chars, train_labels_one_hot)).batch(32).prefetch(tf.data.AUTOTUNE)\n",
        "val_char_dataset =   tf.data.Dataset.from_tensor_slices((val_chars, val_labels_one_hot)).batch(32).prefetch(tf.data.AUTOTUNE)\n",
        "test_char_dataset =  tf.data.Dataset.from_tensor_slices((test_chars, test_labels_one_hot)).batch(32).prefetch(tf.data.AUTOTUNE)\n",
        "\n",
        "train_char_dataset"
      ],
      "execution_count": 183,
      "outputs": [
        {
          "output_type": "execute_result",
          "data": {
            "text/plain": [
              "<PrefetchDataset shapes: ((None,), (None, 5)), types: (tf.string, tf.float64)>"
            ]
          },
          "metadata": {
            "tags": []
          },
          "execution_count": 183
        }
      ]
    },
    {
      "cell_type": "code",
      "metadata": {
        "colab": {
          "base_uri": "https://localhost:8080/"
        },
        "id": "r6iLx111Aubg",
        "outputId": "f5521d9c-c743-4356-ded1-b12e46a5e011"
      },
      "source": [
        "# Fit the model on chars only\n",
        "history_model_3 = model_3.fit(train_char_dataset,\n",
        "                              epochs=3, \n",
        "                              steps_per_epoch=int(0.1 * len(train_char_dataset)),\n",
        "                              validation_data = val_char_dataset,\n",
        "                              validation_steps = int(0.1 * len(val_char_dataset)))\n"
      ],
      "execution_count": 184,
      "outputs": [
        {
          "output_type": "stream",
          "text": [
            "Epoch 1/3\n",
            "562/562 [==============================] - 4s 6ms/step - loss: 1.2571 - accuracy: 0.4873 - val_loss: 1.0586 - val_accuracy: 0.5781\n",
            "Epoch 2/3\n",
            "562/562 [==============================] - 3s 6ms/step - loss: 1.0198 - accuracy: 0.5944 - val_loss: 0.9534 - val_accuracy: 0.6263\n",
            "Epoch 3/3\n",
            "562/562 [==============================] - 3s 6ms/step - loss: 0.9414 - accuracy: 0.6325 - val_loss: 0.8836 - val_accuracy: 0.6619\n"
          ],
          "name": "stdout"
        }
      ]
    },
    {
      "cell_type": "code",
      "metadata": {
        "colab": {
          "base_uri": "https://localhost:8080/"
        },
        "id": "yTjPVUtNGGfz",
        "outputId": "57df9710-1a60-4b17-f474-9ac052a0158e"
      },
      "source": [
        "# Evaluate the model 3\n",
        "model_3_results = model_3.evaluate(val_char_dataset)"
      ],
      "execution_count": 185,
      "outputs": [
        {
          "output_type": "stream",
          "text": [
            "945/945 [==============================] - 4s 4ms/step - loss: 0.9025 - accuracy: 0.6530\n"
          ],
          "name": "stdout"
        }
      ]
    },
    {
      "cell_type": "code",
      "metadata": {
        "colab": {
          "base_uri": "https://localhost:8080/"
        },
        "id": "3-BN0uV2Ghbh",
        "outputId": "3f0066a5-39a2-433a-9d36-d693998ca308"
      },
      "source": [
        "# Check model 3 prediction probabilities\n",
        "model_3_pred_probs = model_3.predict(val_char_dataset)\n",
        "model_3_pred_probs"
      ],
      "execution_count": 186,
      "outputs": [
        {
          "output_type": "execute_result",
          "data": {
            "text/plain": [
              "array([[0.11119837, 0.2886006 , 0.17747605, 0.35972735, 0.0629976 ],\n",
              "       [0.12954584, 0.47030666, 0.07142752, 0.04288761, 0.28583232],\n",
              "       [0.10587165, 0.19348043, 0.34043348, 0.16448091, 0.1957335 ],\n",
              "       ...,\n",
              "       [0.01080021, 0.04633739, 0.10323143, 0.03500132, 0.8046296 ],\n",
              "       [0.01245307, 0.07097237, 0.14273478, 0.02081442, 0.7530254 ],\n",
              "       [0.44827577, 0.35905477, 0.08789165, 0.08998884, 0.01478901]],\n",
              "      dtype=float32)"
            ]
          },
          "metadata": {
            "tags": []
          },
          "execution_count": 186
        }
      ]
    },
    {
      "cell_type": "code",
      "metadata": {
        "colab": {
          "base_uri": "https://localhost:8080/"
        },
        "id": "FBGoV3U8GpI9",
        "outputId": "14dd2a8a-fbae-4428-bd59-97a6f1449e04"
      },
      "source": [
        "# Turn prediction probabilites to class labels\n",
        "model_3_preds = tf.argmax(model_3_pred_probs, axis=1)\n",
        "model_3_preds"
      ],
      "execution_count": 187,
      "outputs": [
        {
          "output_type": "execute_result",
          "data": {
            "text/plain": [
              "<tf.Tensor: shape=(30212,), dtype=int64, numpy=array([3, 1, 2, ..., 4, 4, 0])>"
            ]
          },
          "metadata": {
            "tags": []
          },
          "execution_count": 187
        }
      ]
    },
    {
      "cell_type": "code",
      "metadata": {
        "colab": {
          "base_uri": "https://localhost:8080/"
        },
        "id": "9P_G8TdlGxlq",
        "outputId": "7748177a-3d2e-4647-ff31-8564c3c1a662"
      },
      "source": [
        "# Calculate results for Conv1D model chars only\n",
        "model_3_results = calculate_results(y_true = val_labels_encoded,\n",
        "                                    y_pred = model_3_preds)\n",
        "model_3_results"
      ],
      "execution_count": 188,
      "outputs": [
        {
          "output_type": "execute_result",
          "data": {
            "text/plain": [
              "{'accuracy': 65.29524692175295,\n",
              " 'f1': 0.6436172516545147,\n",
              " 'precision': 0.6451737125110378,\n",
              " 'recall': 0.6529524692175295}"
            ]
          },
          "metadata": {
            "tags": []
          },
          "execution_count": 188
        }
      ]
    },
    {
      "cell_type": "code",
      "metadata": {
        "colab": {
          "base_uri": "https://localhost:8080/"
        },
        "id": "tlLeERKRG-wG",
        "outputId": "68b7527b-7c30-4a8d-dc35-bf18bc8ebe87"
      },
      "source": [
        "baseline_results"
      ],
      "execution_count": 189,
      "outputs": [
        {
          "output_type": "execute_result",
          "data": {
            "text/plain": [
              "{'accuracy': 72.1832384482987,\n",
              " 'f1': 0.6989250353450294,\n",
              " 'precision': 0.7186466952323352,\n",
              " 'recall': 0.7218323844829869}"
            ]
          },
          "metadata": {
            "tags": []
          },
          "execution_count": 189
        }
      ]
    },
    {
      "cell_type": "markdown",
      "metadata": {
        "id": "zzvWCnc1HIJk"
      },
      "source": [
        "## Model 4 : Combining pretrained token embeddings + character embeddings (hybrid embedding layer)\n",
        "\n",
        "1. Create a token-level embedding model (similar `model_1`)\n",
        "2. Create a character-level model (similar to `model_3` with a slight modification)\n",
        "3. Combine 1 & 2 with a concatenate(`layers.Concatenate`)\n",
        "4. Build a seris of output layers on top of 3 similar to Figure 1 and section 4.2 of https://arxiv.org/pdf/1612.05251.pdf\n",
        "5. Construct a model which takes token and character-level sequences as input and produces sequence label probabilities as output."
      ]
    },
    {
      "cell_type": "code",
      "metadata": {
        "id": "wkYzITlyINa-"
      },
      "source": [
        "# 1. Setup token inputs/model\n",
        "token_inputs = layers.Input(shape=[], dtype=\"string\", name=\"token_input\")\n",
        "token_embeddings = tf_hub_embedding_layer(token_inputs)\n",
        "token_outputs = layers.Dense(128, activation=\"relu\")(token_embeddings)\n",
        "token_model = tf.keras.Model(inputs=token_inputs, \n",
        "                             outputs=token_outputs)\n",
        "\n",
        "# 2. Create a character-level model\n",
        "char_inputs = layers.Input(shape=(1, ), dtype=tf.string, name=\"char_input\")\n",
        "char_vectors = char_vectorizer(char_inputs)\n",
        "char_embeddings = char_embed(char_vectors)\n",
        "char_bi_lstm = layers.Bidirectional(layers.LSTM(24))(char_embeddings) # bi-LSTM shown in Figure 1 of https://arxiv.org/pdf/1612.05251.pdf\n",
        "# hidden units of BiDirectional doubles, so 25 becomes 50, but we will use 24 (multiples of 8)\n",
        "char_model = tf.keras.Model(char_inputs, char_bi_lstm)\n",
        "\n",
        "# 3. Concatenatate token and char inputs(create hybrid token embedding)\n",
        "token_char_concat = layers.Concatenate(name=\"token_char_hybrid\")([token_model.output, \n",
        "                                                                  char_model.output])\n",
        "\n",
        "# 4. Create output layer - adding in Dropout, discussed in section 4.2 of the paper.\n",
        "combined_dropout = layers.Dropout(0.5)(token_char_concat) # randomly set input units to 0 with a rate , here it is 50%\n",
        "combined_dense = layers.Dense(128, activation=\"relu\")(combined_dropout)\n",
        "final_dropout = layers.Dropout(0.5)(combined_dense)\n",
        "output_layer = layers.Dense(num_classes, activation=\"softmax\")(final_dropout)\n",
        "\n",
        "# 5. Construct model with char and token inputs\n",
        "model_4 = tf.keras.Model(inputs=[token_model.input, char_model.input],\n",
        "                         outputs = output_layer,\n",
        "                         name=\"model_4_token_and_char_embeddings\")\n",
        "\n",
        "\n",
        "\n",
        "\n"
      ],
      "execution_count": 190,
      "outputs": []
    },
    {
      "cell_type": "code",
      "metadata": {
        "colab": {
          "base_uri": "https://localhost:8080/"
        },
        "id": "XqPtrE5ZfDDj",
        "outputId": "459bf034-2548-4929-9281-48b1afc8e97e"
      },
      "source": [
        "# Get a summary for our model\n",
        "model_4.summary()"
      ],
      "execution_count": 191,
      "outputs": [
        {
          "output_type": "stream",
          "text": [
            "Model: \"model_4_token_and_char_embeddings\"\n",
            "__________________________________________________________________________________________________\n",
            "Layer (type)                    Output Shape         Param #     Connected to                     \n",
            "==================================================================================================\n",
            "char_input (InputLayer)         [(None, 1)]          0                                            \n",
            "__________________________________________________________________________________________________\n",
            "token_input (InputLayer)        [(None,)]            0                                            \n",
            "__________________________________________________________________________________________________\n",
            "char_vectorizer (TextVectorizat (None, 290)          0           char_input[0][0]                 \n",
            "__________________________________________________________________________________________________\n",
            "universal_sentence_encoder (Ker (None, 512)          256797824   token_input[0][0]                \n",
            "__________________________________________________________________________________________________\n",
            "char_embed (Embedding)          (None, 290, 25)      700         char_vectorizer[4][0]            \n",
            "__________________________________________________________________________________________________\n",
            "dense_13 (Dense)                (None, 128)          65664       universal_sentence_encoder[3][0] \n",
            "__________________________________________________________________________________________________\n",
            "bidirectional_2 (Bidirectional) (None, 48)           9600        char_embed[1][0]                 \n",
            "__________________________________________________________________________________________________\n",
            "token_char_hybrid (Concatenate) (None, 176)          0           dense_13[0][0]                   \n",
            "                                                                 bidirectional_2[0][0]            \n",
            "__________________________________________________________________________________________________\n",
            "dropout_3 (Dropout)             (None, 176)          0           token_char_hybrid[0][0]          \n",
            "__________________________________________________________________________________________________\n",
            "dense_14 (Dense)                (None, 128)          22656       dropout_3[0][0]                  \n",
            "__________________________________________________________________________________________________\n",
            "dropout_4 (Dropout)             (None, 128)          0           dense_14[0][0]                   \n",
            "__________________________________________________________________________________________________\n",
            "dense_15 (Dense)                (None, 5)            645         dropout_4[0][0]                  \n",
            "==================================================================================================\n",
            "Total params: 256,897,089\n",
            "Trainable params: 99,265\n",
            "Non-trainable params: 256,797,824\n",
            "__________________________________________________________________________________________________\n"
          ],
          "name": "stdout"
        }
      ]
    },
    {
      "cell_type": "code",
      "metadata": {
        "colab": {
          "base_uri": "https://localhost:8080/",
          "height": 756
        },
        "id": "PhKT8usKfVms",
        "outputId": "1b1f0dd5-4f21-42dd-f4b4-c6fec2a07af4"
      },
      "source": [
        "# Plot hybrid token and character model\n",
        "from tensorflow.keras.utils import plot_model\n",
        "plot_model(model_4, show_shapes=True)"
      ],
      "execution_count": 192,
      "outputs": [
        {
          "output_type": "execute_result",
          "data": {
            "image/png": "[encoded data removed]",
            "text/plain": [
              "<IPython.core.display.Image object>"
            ]
          },
          "metadata": {
            "tags": []
          },
          "execution_count": 192
        }
      ]
    },
    {
      "cell_type": "markdown",
      "metadata": {
        "id": "khMPysryygXL"
      },
      "source": [
        "> Note : For understanding a better use of multi-modal, refer to the AirBnB multi-modal reference here\n",
        "https://medium.com/airbnb-engineering/widetext-a-multimodal-deep-learning-framework-31ce2565880c"
      ]
    },
    {
      "cell_type": "code",
      "metadata": {
        "id": "V082rEyBy9U6"
      },
      "source": [
        "# Compile token char model\n",
        "model_4.compile(loss=\"categorical_crossentropy\",\n",
        "                optimizer=tf.keras.optimizers.Adam(), # section 4.2 of the paper says they use SGD, you may want to try it\n",
        "                metrics=[\"accuracy\"])"
      ],
      "execution_count": 193,
      "outputs": []
    },
    {
      "cell_type": "markdown",
      "metadata": {
        "id": "9mLUGvQZzmp6"
      },
      "source": [
        "### Combining token and character data into a tf.data.Dataset"
      ]
    },
    {
      "cell_type": "code",
      "metadata": {
        "id": "LrKEyXqLz-p2"
      },
      "source": [
        "# Combine chars and tokens into a dataset\n",
        "# Order of tuples here should match the order of inputs to the model inputs we passed above (model_4)\n",
        "train_char_token_data = tf.data.Dataset.from_tensor_slices((train_sentences, train_chars)) # make data\n",
        "train_char_token_labels = tf.data.Dataset.from_tensor_slices((train_labels_one_hot)) # make labels\n",
        "train_char_token_dataset = tf.data.Dataset.zip((train_char_token_data, train_char_token_labels)) # combine data and labels\n",
        "\n",
        "# Prefetch and batch train data\n",
        "train_char_token_dataset = train_char_token_dataset.batch(32).prefetch(tf.data.AUTOTUNE)\n"
      ],
      "execution_count": 194,
      "outputs": []
    },
    {
      "cell_type": "code",
      "metadata": {
        "id": "JcgJP7mE2Jnw"
      },
      "source": [
        "# Repeat the above steps for our validation data\n",
        "val_char_token_data = tf.data.Dataset.from_tensor_slices((val_sentences, val_chars)) # make data\n",
        "val_char_token_labels = tf.data.Dataset.from_tensor_slices((val_labels_one_hot)) # make labels\n",
        "val_char_token_dataset = tf.data.Dataset.zip((val_char_token_data, val_char_token_labels)) # combine data and labels\n",
        "\n",
        "# Prefetch and batch train data\n",
        "val_char_token_dataset = val_char_token_dataset.batch(32).prefetch(tf.data.AUTOTUNE)\n"
      ],
      "execution_count": 195,
      "outputs": []
    },
    {
      "cell_type": "code",
      "metadata": {
        "colab": {
          "base_uri": "https://localhost:8080/"
        },
        "id": "X4-yJSc72eDZ",
        "outputId": "1ed09641-f313-4479-c849-f62faa626e20"
      },
      "source": [
        "# Check up our training char and token embedding dataset\n",
        "train_char_token_dataset, val_char_token_dataset"
      ],
      "execution_count": 196,
      "outputs": [
        {
          "output_type": "execute_result",
          "data": {
            "text/plain": [
              "(<PrefetchDataset shapes: (((None,), (None,)), (None, 5)), types: ((tf.string, tf.string), tf.float64)>,\n",
              " <PrefetchDataset shapes: (((None,), (None,)), (None, 5)), types: ((tf.string, tf.string), tf.float64)>)"
            ]
          },
          "metadata": {
            "tags": []
          },
          "execution_count": 196
        }
      ]
    },
    {
      "cell_type": "code",
      "metadata": {
        "colab": {
          "base_uri": "https://localhost:8080/"
        },
        "id": "Kae91GQB2mqj",
        "outputId": "f0c48846-95ac-4c62-bd8f-9f40ab5a9520"
      },
      "source": [
        "# Fit the combined model_4\n",
        "\n",
        "history_model_4 = model_4.fit(train_char_token_dataset,\n",
        "                              epochs=3, \n",
        "                              steps_per_epoch = int(0.1 * len(train_char_token_dataset)),\n",
        "                              validation_data = val_char_token_dataset,\n",
        "                              validation_steps = int(0.1 * len(val_char_token_dataset)))\n",
        "\n"
      ],
      "execution_count": 197,
      "outputs": [
        {
          "output_type": "stream",
          "text": [
            "Epoch 1/3\n",
            "562/562 [==============================] - 37s 51ms/step - loss: 0.9907 - accuracy: 0.6074 - val_loss: 0.7766 - val_accuracy: 0.6991\n",
            "Epoch 2/3\n",
            "562/562 [==============================] - 27s 48ms/step - loss: 0.7992 - accuracy: 0.6922 - val_loss: 0.7161 - val_accuracy: 0.7291\n",
            "Epoch 3/3\n",
            "562/562 [==============================] - 25s 44ms/step - loss: 0.7734 - accuracy: 0.7071 - val_loss: 0.6864 - val_accuracy: 0.7384\n"
          ],
          "name": "stdout"
        }
      ]
    },
    {
      "cell_type": "code",
      "metadata": {
        "colab": {
          "base_uri": "https://localhost:8080/"
        },
        "id": "IYszRp0x5xmU",
        "outputId": "c0fdfbc1-9cd5-4288-c09d-b84e881c5700"
      },
      "source": [
        "# Evaluate our model 4\n",
        "\n",
        "model_4.evaluate(val_char_token_dataset)"
      ],
      "execution_count": 198,
      "outputs": [
        {
          "output_type": "stream",
          "text": [
            "945/945 [==============================] - 21s 22ms/step - loss: 0.6907 - accuracy: 0.7363\n"
          ],
          "name": "stdout"
        },
        {
          "output_type": "execute_result",
          "data": {
            "text/plain": [
              "[0.6907264590263367, 0.7362637519836426]"
            ]
          },
          "metadata": {
            "tags": []
          },
          "execution_count": 198
        }
      ]
    },
    {
      "cell_type": "code",
      "metadata": {
        "colab": {
          "base_uri": "https://localhost:8080/"
        },
        "id": "RyOXfUXB548F",
        "outputId": "ca439bba-66f8-4362-d371-d7b574c67a8c"
      },
      "source": [
        "# Make prediction probabilities for token-character model hybrid 4\n",
        "model_4_pred_probs = model_4.predict(val_char_token_dataset)\n",
        "model_4_pred_probs"
      ],
      "execution_count": 199,
      "outputs": [
        {
          "output_type": "execute_result",
          "data": {
            "text/plain": [
              "array([[3.9443430e-01, 3.8643530e-01, 4.9036066e-03, 2.0534329e-01,\n",
              "        8.8834642e-03],\n",
              "       [3.3641502e-01, 4.6715313e-01, 4.6351459e-03, 1.8906963e-01,\n",
              "        2.7270610e-03],\n",
              "       [3.0966377e-01, 1.3268141e-01, 3.0406376e-02, 5.0144899e-01,\n",
              "        2.5799418e-02],\n",
              "       ...,\n",
              "       [5.2470074e-04, 8.9422194e-03, 5.8520902e-02, 3.1816636e-04,\n",
              "        9.3169403e-01],\n",
              "       [4.7014551e-03, 5.3454578e-02, 1.8382084e-01, 2.4707953e-03,\n",
              "        7.5555229e-01],\n",
              "       [1.9589069e-01, 3.6032775e-01, 3.2421541e-01, 1.9882333e-02,\n",
              "        9.9683784e-02]], dtype=float32)"
            ]
          },
          "metadata": {
            "tags": []
          },
          "execution_count": 199
        }
      ]
    },
    {
      "cell_type": "code",
      "metadata": {
        "colab": {
          "base_uri": "https://localhost:8080/"
        },
        "id": "LnvVjSXI6R2q",
        "outputId": "7d465421-4698-4363-8898-b77c7e6f0bc1"
      },
      "source": [
        "# Format pred probs into pred labels\n",
        "model_4_preds = tf.argmax(model_4_pred_probs, axis=1)\n",
        "model_4_preds"
      ],
      "execution_count": 200,
      "outputs": [
        {
          "output_type": "execute_result",
          "data": {
            "text/plain": [
              "<tf.Tensor: shape=(30212,), dtype=int64, numpy=array([0, 1, 3, ..., 4, 4, 1])>"
            ]
          },
          "metadata": {
            "tags": []
          },
          "execution_count": 200
        }
      ]
    },
    {
      "cell_type": "code",
      "metadata": {
        "colab": {
          "base_uri": "https://localhost:8080/"
        },
        "id": "sUPCAfU16ac3",
        "outputId": "dd74d82a-c8ac-4080-ac7c-7fbab0a69066"
      },
      "source": [
        "# Calculate model_4 performance (token-char hybrid model)\n",
        "model_4_results = calculate_results(y_true = val_labels_encoded,\n",
        "                                    y_pred = model_4_preds)\n",
        "model_4_results"
      ],
      "execution_count": 201,
      "outputs": [
        {
          "output_type": "execute_result",
          "data": {
            "text/plain": [
              "{'accuracy': 73.62637362637363,\n",
              " 'f1': 0.732468870964755,\n",
              " 'precision': 0.7351750853279722,\n",
              " 'recall': 0.7362637362637363}"
            ]
          },
          "metadata": {
            "tags": []
          },
          "execution_count": 201
        }
      ]
    },
    {
      "cell_type": "code",
      "metadata": {
        "colab": {
          "base_uri": "https://localhost:8080/"
        },
        "id": "3UhKsUlH7wqn",
        "outputId": "72ba4582-817e-45af-cfa7-729ac6103bbe"
      },
      "source": [
        "model_1_results"
      ],
      "execution_count": 202,
      "outputs": [
        {
          "output_type": "execute_result",
          "data": {
            "text/plain": [
              "{'accuracy': 78.70382629418773,\n",
              " 'f1': 0.7846587242159004,\n",
              " 'precision': 0.7841551868467432,\n",
              " 'recall': 0.7870382629418774}"
            ]
          },
          "metadata": {
            "tags": []
          },
          "execution_count": 202
        }
      ]
    },
    {
      "cell_type": "markdown",
      "metadata": {
        "id": "WkxH91F37zK0"
      },
      "source": [
        "## Feature Engineering"
      ]
    },
    {
      "cell_type": "markdown",
      "metadata": {
        "id": "O_22tBb2A4g2"
      },
      "source": [
        "![image.png](data:image/png;base64,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)"
      ]
    },
    {
      "cell_type": "markdown",
      "metadata": {
        "id": "PhbZteczA_Xk"
      },
      "source": [
        "## Model 5 : Transfer learning with pretrained token embeddings + character embeddings + positional embeddings"
      ]
    },
    {
      "cell_type": "code",
      "metadata": {
        "colab": {
          "base_uri": "https://localhost:8080/",
          "height": 204
        },
        "id": "ePHZhj-kBiER",
        "outputId": "ee419bb8-d21a-4e55-fbf2-d5a8a61c7342"
      },
      "source": [
        "train_df.head()"
      ],
      "execution_count": 203,
      "outputs": [
        {
          "output_type": "execute_result",
          "data": {
            "text/html": [
              "<div>\n",
              "<style scoped>\n",
              "    .dataframe tbody tr th:only-of-type {\n",
              "        vertical-align: middle;\n",
              "    }\n",
              "\n",
              "    .dataframe tbody tr th {\n",
              "        vertical-align: top;\n",
              "    }\n",
              "\n",
              "    .dataframe thead th {\n",
              "        text-align: right;\n",
              "    }\n",
              "</style>\n",
              "<table border=\"1\" class=\"dataframe\">\n",
              "  <thead>\n",
              "    <tr style=\"text-align: right;\">\n",
              "      <th></th>\n",
              "      <th>target</th>\n",
              "      <th>text</th>\n",
              "      <th>line_number</th>\n",
              "      <th>total_lines</th>\n",
              "    </tr>\n",
              "  </thead>\n",
              "  <tbody>\n",
              "    <tr>\n",
              "      <th>0</th>\n",
              "      <td>OBJECTIVE</td>\n",
              "      <td>to investigate the efficacy of @ weeks of dail...</td>\n",
              "      <td>0</td>\n",
              "      <td>11</td>\n",
              "    </tr>\n",
              "    <tr>\n",
              "      <th>1</th>\n",
              "      <td>METHODS</td>\n",
              "      <td>a total of @ patients with primary knee oa wer...</td>\n",
              "      <td>1</td>\n",
              "      <td>11</td>\n",
              "    </tr>\n",
              "    <tr>\n",
              "      <th>2</th>\n",
              "      <td>METHODS</td>\n",
              "      <td>outcome measures included pain reduction and i...</td>\n",
              "      <td>2</td>\n",
              "      <td>11</td>\n",
              "    </tr>\n",
              "    <tr>\n",
              "      <th>3</th>\n",
              "      <td>METHODS</td>\n",
              "      <td>pain was assessed using the visual analog pain...</td>\n",
              "      <td>3</td>\n",
              "      <td>11</td>\n",
              "    </tr>\n",
              "    <tr>\n",
              "      <th>4</th>\n",
              "      <td>METHODS</td>\n",
              "      <td>secondary outcome measures included the wester...</td>\n",
              "      <td>4</td>\n",
              "      <td>11</td>\n",
              "    </tr>\n",
              "  </tbody>\n",
              "</table>\n",
              "</div>"
            ],
            "text/plain": [
              "      target  ... total_lines\n",
              "0  OBJECTIVE  ...          11\n",
              "1    METHODS  ...          11\n",
              "2    METHODS  ...          11\n",
              "3    METHODS  ...          11\n",
              "4    METHODS  ...          11\n",
              "\n",
              "[5 rows x 4 columns]"
            ]
          },
          "metadata": {
            "tags": []
          },
          "execution_count": 203
        }
      ]
    },
    {
      "cell_type": "markdown",
      "metadata": {
        "id": "whLkm1VwB-5J"
      },
      "source": [
        "> **Note** : Any engineered feature used to train a model need to be available at the run time.\n",
        "In our case, line numbers and total lines are available"
      ]
    },
    {
      "cell_type": "markdown",
      "metadata": {
        "id": "Q0cdyTPnJmmF"
      },
      "source": [
        "### Create positional embeddings\n"
      ]
    },
    {
      "cell_type": "code",
      "metadata": {
        "colab": {
          "base_uri": "https://localhost:8080/"
        },
        "id": "XfwuwCVlJxrX",
        "outputId": "cbb23090-9f8b-4a65-e6ca-7a2b2b0682bd"
      },
      "source": [
        "# How many different line numbers are there\n",
        "\n",
        "train_df[\"line_number\"].value_counts()"
      ],
      "execution_count": 204,
      "outputs": [
        {
          "output_type": "execute_result",
          "data": {
            "text/plain": [
              "0     15000\n",
              "1     15000\n",
              "2     15000\n",
              "3     15000\n",
              "4     14992\n",
              "5     14949\n",
              "6     14758\n",
              "7     14279\n",
              "8     13346\n",
              "9     11981\n",
              "10    10041\n",
              "11     7892\n",
              "12     5853\n",
              "13     4152\n",
              "14     2835\n",
              "15     1861\n",
              "16     1188\n",
              "17      751\n",
              "18      462\n",
              "19      286\n",
              "20      162\n",
              "21      101\n",
              "22       66\n",
              "23       33\n",
              "24       22\n",
              "25       14\n",
              "26        7\n",
              "27        4\n",
              "28        3\n",
              "29        1\n",
              "30        1\n",
              "Name: line_number, dtype: int64"
            ]
          },
          "metadata": {
            "tags": []
          },
          "execution_count": 204
        }
      ]
    },
    {
      "cell_type": "code",
      "metadata": {
        "colab": {
          "base_uri": "https://localhost:8080/",
          "height": 282
        },
        "id": "MxoE9yNQJ-fj",
        "outputId": "45299d9d-270a-4f7d-a4ec-9f2aca8f4ed7"
      },
      "source": [
        "# Check the distribution of \"line_number\" column\n",
        "train_df.line_number.plot.hist()"
      ],
      "execution_count": 205,
      "outputs": [
        {
          "output_type": "execute_result",
          "data": {
            "text/plain": [
              "<matplotlib.axes._subplots.AxesSubplot at 0x7fb8ac3bfc10>"
            ]
          },
          "metadata": {
            "tags": []
          },
          "execution_count": 205
        },
        {
          "output_type": "display_data",
          "data": {
            "image/png": "[encoded data removed]",
            "text/plain": [
              "<Figure size 432x288 with 1 Axes>"
            ]
          },
          "metadata": {
            "tags": [],
            "needs_background": "light"
          }
        }
      ]
    },
    {
      "cell_type": "code",
      "metadata": {
        "colab": {
          "base_uri": "https://localhost:8080/"
        },
        "id": "YX1DHJ-JKa8v",
        "outputId": "0bcdc2b8-84d4-4e86-8bab-517056a80788"
      },
      "source": [
        "# Use tensorflow to create one-hot-encoded tensors of our \"line_number\" column\n",
        "train_line_numbers_one_hot =tf.one_hot(train_df[\"line_number\"].to_numpy(), depth=15)\n",
        "val_line_numbers_one_hot = tf.one_hot(val_df[\"line_number\"].to_numpy(), depth=15)\n",
        "test_line_numbers_one_hot = tf.one_hot(test_df[\"line_number\"].to_numpy(), depth=15)\n",
        "train_line_numbers_one_hot[:15], train_line_numbers_one_hot.shape"
      ],
      "execution_count": 206,
      "outputs": [
        {
          "output_type": "execute_result",
          "data": {
            "text/plain": [
              "(<tf.Tensor: shape=(15, 15), dtype=float32, numpy=\n",
              " array([[1., 0., 0., 0., 0., 0., 0., 0., 0., 0., 0., 0., 0., 0., 0.],\n",
              "        [0., 1., 0., 0., 0., 0., 0., 0., 0., 0., 0., 0., 0., 0., 0.],\n",
              "        [0., 0., 1., 0., 0., 0., 0., 0., 0., 0., 0., 0., 0., 0., 0.],\n",
              "        [0., 0., 0., 1., 0., 0., 0., 0., 0., 0., 0., 0., 0., 0., 0.],\n",
              "        [0., 0., 0., 0., 1., 0., 0., 0., 0., 0., 0., 0., 0., 0., 0.],\n",
              "        [0., 0., 0., 0., 0., 1., 0., 0., 0., 0., 0., 0., 0., 0., 0.],\n",
              "        [0., 0., 0., 0., 0., 0., 1., 0., 0., 0., 0., 0., 0., 0., 0.],\n",
              "        [0., 0., 0., 0., 0., 0., 0., 1., 0., 0., 0., 0., 0., 0., 0.],\n",
              "        [0., 0., 0., 0., 0., 0., 0., 0., 1., 0., 0., 0., 0., 0., 0.],\n",
              "        [0., 0., 0., 0., 0., 0., 0., 0., 0., 1., 0., 0., 0., 0., 0.],\n",
              "        [0., 0., 0., 0., 0., 0., 0., 0., 0., 0., 1., 0., 0., 0., 0.],\n",
              "        [0., 0., 0., 0., 0., 0., 0., 0., 0., 0., 0., 1., 0., 0., 0.],\n",
              "        [1., 0., 0., 0., 0., 0., 0., 0., 0., 0., 0., 0., 0., 0., 0.],\n",
              "        [0., 1., 0., 0., 0., 0., 0., 0., 0., 0., 0., 0., 0., 0., 0.],\n",
              "        [0., 0., 1., 0., 0., 0., 0., 0., 0., 0., 0., 0., 0., 0., 0.]],\n",
              "       dtype=float32)>, TensorShape([180040, 15]))"
            ]
          },
          "metadata": {
            "tags": []
          },
          "execution_count": 206
        }
      ]
    },
    {
      "cell_type": "markdown",
      "metadata": {
        "id": "DbfBWKa5NRrZ"
      },
      "source": [
        "Now we've encoded our line numbers feature, let's one-hot encode the total lines feature..."
      ]
    },
    {
      "cell_type": "code",
      "metadata": {
        "colab": {
          "base_uri": "https://localhost:8080/"
        },
        "id": "LVfiZX1eKvUs",
        "outputId": "a56a7102-20a5-4791-fc07-ca76515db20a"
      },
      "source": [
        "# How many \"total_lines\" are there\n",
        "train_df[\"total_lines\"].value_counts()"
      ],
      "execution_count": 207,
      "outputs": [
        {
          "output_type": "execute_result",
          "data": {
            "text/plain": [
              "11    24468\n",
              "10    23639\n",
              "12    22113\n",
              "9     19400\n",
              "13    18438\n",
              "14    14610\n",
              "8     12285\n",
              "15    10768\n",
              "7      7464\n",
              "16     7429\n",
              "17     5202\n",
              "6      3353\n",
              "18     3344\n",
              "19     2480\n",
              "20     1281\n",
              "5      1146\n",
              "21      770\n",
              "22      759\n",
              "23      264\n",
              "4       215\n",
              "24      200\n",
              "25      182\n",
              "26       81\n",
              "28       58\n",
              "3        32\n",
              "30       31\n",
              "27       28\n",
              "Name: total_lines, dtype: int64"
            ]
          },
          "metadata": {
            "tags": []
          },
          "execution_count": 207
        }
      ]
    },
    {
      "cell_type": "code",
      "metadata": {
        "colab": {
          "base_uri": "https://localhost:8080/",
          "height": 284
        },
        "id": "xpnlwXEpMQBJ",
        "outputId": "95260f69-bf46-4c5b-9a8e-a693fc567218"
      },
      "source": [
        "# Check the distribution of \"total_lines\" column\n",
        "train_df.total_lines.plot.hist()"
      ],
      "execution_count": 208,
      "outputs": [
        {
          "output_type": "execute_result",
          "data": {
            "text/plain": [
              "<matplotlib.axes._subplots.AxesSubplot at 0x7fb9e6713f10>"
            ]
          },
          "metadata": {
            "tags": []
          },
          "execution_count": 208
        },
        {
          "output_type": "display_data",
          "data": {
            "image/png": "[encoded data removed]",
            "text/plain": [
              "<Figure size 432x288 with 1 Axes>"
            ]
          },
          "metadata": {
            "tags": [],
            "needs_background": "light"
          }
        }
      ]
    },
    {
      "cell_type": "code",
      "metadata": {
        "colab": {
          "base_uri": "https://localhost:8080/"
        },
        "id": "LPBl_tpNMasi",
        "outputId": "6b3484f5-4c03-4fc0-c41f-9fef17514c14"
      },
      "source": [
        "# Check the coverage of a \"total_lines\" value of 20\n",
        "np.percentile(train_df.total_lines, 98)"
      ],
      "execution_count": 209,
      "outputs": [
        {
          "output_type": "execute_result",
          "data": {
            "text/plain": [
              "20.0"
            ]
          },
          "metadata": {
            "tags": []
          },
          "execution_count": 209
        }
      ]
    },
    {
      "cell_type": "code",
      "metadata": {
        "colab": {
          "base_uri": "https://localhost:8080/"
        },
        "id": "VUiaGYOcMnKI",
        "outputId": "6d6acf99-35f6-428f-a9c1-c8f37970e11b"
      },
      "source": [
        "# Use TensorFlow to one-hot encode \"total_lines\" column\n",
        "train_total_lines_one_hot  = tf.one_hot(train_df[\"total_lines\"].to_numpy(), depth=20)\n",
        "val_total_lines_one_hot  = tf.one_hot(val_df[\"total_lines\"].to_numpy(), depth=20)\n",
        "test_total_lines_one_hot  = tf.one_hot(test_df[\"total_lines\"].to_numpy(), depth=20)\n",
        "\n",
        "train_total_lines_one_hot[:15], train_total_lines_one_hot.shape\n"
      ],
      "execution_count": 210,
      "outputs": [
        {
          "output_type": "execute_result",
          "data": {
            "text/plain": [
              "(<tf.Tensor: shape=(15, 20), dtype=float32, numpy=\n",
              " array([[0., 0., 0., 0., 0., 0., 0., 0., 0., 0., 0., 1., 0., 0., 0., 0.,\n",
              "         0., 0., 0., 0.],\n",
              "        [0., 0., 0., 0., 0., 0., 0., 0., 0., 0., 0., 1., 0., 0., 0., 0.,\n",
              "         0., 0., 0., 0.],\n",
              "        [0., 0., 0., 0., 0., 0., 0., 0., 0., 0., 0., 1., 0., 0., 0., 0.,\n",
              "         0., 0., 0., 0.],\n",
              "        [0., 0., 0., 0., 0., 0., 0., 0., 0., 0., 0., 1., 0., 0., 0., 0.,\n",
              "         0., 0., 0., 0.],\n",
              "        [0., 0., 0., 0., 0., 0., 0., 0., 0., 0., 0., 1., 0., 0., 0., 0.,\n",
              "         0., 0., 0., 0.],\n",
              "        [0., 0., 0., 0., 0., 0., 0., 0., 0., 0., 0., 1., 0., 0., 0., 0.,\n",
              "         0., 0., 0., 0.],\n",
              "        [0., 0., 0., 0., 0., 0., 0., 0., 0., 0., 0., 1., 0., 0., 0., 0.,\n",
              "         0., 0., 0., 0.],\n",
              "        [0., 0., 0., 0., 0., 0., 0., 0., 0., 0., 0., 1., 0., 0., 0., 0.,\n",
              "         0., 0., 0., 0.],\n",
              "        [0., 0., 0., 0., 0., 0., 0., 0., 0., 0., 0., 1., 0., 0., 0., 0.,\n",
              "         0., 0., 0., 0.],\n",
              "        [0., 0., 0., 0., 0., 0., 0., 0., 0., 0., 0., 1., 0., 0., 0., 0.,\n",
              "         0., 0., 0., 0.],\n",
              "        [0., 0., 0., 0., 0., 0., 0., 0., 0., 0., 0., 1., 0., 0., 0., 0.,\n",
              "         0., 0., 0., 0.],\n",
              "        [0., 0., 0., 0., 0., 0., 0., 0., 0., 0., 0., 1., 0., 0., 0., 0.,\n",
              "         0., 0., 0., 0.],\n",
              "        [0., 0., 0., 0., 0., 0., 0., 0., 0., 0., 1., 0., 0., 0., 0., 0.,\n",
              "         0., 0., 0., 0.],\n",
              "        [0., 0., 0., 0., 0., 0., 0., 0., 0., 0., 1., 0., 0., 0., 0., 0.,\n",
              "         0., 0., 0., 0.],\n",
              "        [0., 0., 0., 0., 0., 0., 0., 0., 0., 0., 1., 0., 0., 0., 0., 0.,\n",
              "         0., 0., 0., 0.]], dtype=float32)>, TensorShape([180040, 20]))"
            ]
          },
          "metadata": {
            "tags": []
          },
          "execution_count": 210
        }
      ]
    },
    {
      "cell_type": "markdown",
      "metadata": {
        "id": "4hXov9SaOZNw"
      },
      "source": [
        "###  Building a tribrid embedding model\n",
        "\n",
        "1. Create a token-level model\n",
        "2. Create a char-level model\n",
        "3. Create a model for the \"line_number\" feature\n",
        "4. Create a model for the \"total_lines\" feature\n",
        "5. Combined the outputs of 1 & 2 using `tf.keras.layers.Concatentate`\n",
        "6. Combine the outputs of 3, 4 , 5 using `tf.keras.layers.Concatenate`\n",
        "7. Create an output layer to accept the tribried embedding and output label probabilities\n",
        "8. Combine the inputs of 1 , 2 , 3, 4 and outputs of 7 into a `tf.keras.Model`\n"
      ]
    },
    {
      "cell_type": "code",
      "metadata": {
        "id": "XePN71iQTxhO"
      },
      "source": [
        "#1. Token inputs\n",
        "token_inputs = layers.Input(shape=[], dtype=\"string\", name=\"token_inputs\")\n",
        "token_embeddings = tf_hub_embedding_layer(token_inputs)\n",
        "token_outputs = layers.Dense(128, activation=\"relu\")(token_embeddings)\n",
        "token_model = tf.keras.Model(inputs = token_inputs, \n",
        "                             outputs = token_outputs)\n",
        "\n",
        "# 2. Char level model\n",
        "char_inputs = layers.Input(shape=(1, ), dtype=\"string\", name=\"char_inputs\")\n",
        "char_vectors = char_vectorizer(char_inputs)\n",
        "char_embeddings = char_embed(char_vectors)\n",
        "char_bi_lstm = layers.Bidirectional(layers.LSTM(24))(char_embeddings)\n",
        "char_model = tf.keras.Model(inputs = char_inputs, \n",
        "                           outputs = char_bi_lstm)\n",
        "\n",
        "# 3. Line numbers model\n",
        "line_number_inputs = layers.Input(shape=(15,), dtype=tf.float32, name=\"line_number_input\")\n",
        "x = layers.Dense(32, activation=\"relu\")(line_number_inputs)\n",
        "line_number_model = tf.keras.Model(inputs = line_number_inputs, \n",
        "                                   outputs = x)\n",
        "\n",
        "#4. Total Lines model\n",
        "total_lines_inputs = layers.Input(shape=(20,), dtype=tf.float32, name=\"total_line_input\")\n",
        "y = layers.Dense(32, activation=\"relu\")(total_lines_inputs)\n",
        "total_lines_model = tf.keras.Model(inputs=total_lines_inputs,\n",
        "                                  outputs=y)\n",
        "\n",
        "#5. Combine token and char embeddings into a hybrid embedding 1 & 2\n",
        "combined_embeddings = layers.Concatenate(name=\"char_token_hybrid_embedding\")([token_model.output, \n",
        "                                                                             char_model.output])\n",
        "z = layers.Dense(256, activation=\"relu\")(combined_embeddings)\n",
        "z = layers.Dropout(0.5)(z)\n",
        "\n",
        "\n",
        "# 6. Combined positional embedding with combined token and char embeddings\n",
        "tribrid_embeddings = layers.Concatenate(name=\"char_token_positional_embedding\")([line_number_model.output,\n",
        "                                                                                 total_lines_model.output,\n",
        "                                                                                 z])\n",
        "# 7. Create output layer\n",
        "output_layer = layers.Dense(num_classes, activation=\"softmax\", name=\"output_layer\")(tribrid_embeddings)\n",
        "\n",
        "# 8. Put together model with all kinds of inputs\n",
        "model_5 = tf.keras.Model(inputs = [line_number_model.input, \n",
        "                                   total_lines_model.input, \n",
        "                                   token_model.input, \n",
        "                                   char_model.input], \n",
        "                         outputs =output_layer,\n",
        "                         name=\"model_5_tribrid_embedding_model\")\n"
      ],
      "execution_count": 211,
      "outputs": []
    },
    {
      "cell_type": "code",
      "metadata": {
        "colab": {
          "base_uri": "https://localhost:8080/"
        },
        "id": "tUEAOyGZb1iS",
        "outputId": "4b492895-8d5e-46c2-fbc1-9607334809c1"
      },
      "source": [
        "# Get a sumamary for our tribrid embedding model\n",
        "model_5.summary()"
      ],
      "execution_count": 212,
      "outputs": [
        {
          "output_type": "stream",
          "text": [
            "Model: \"model_5_tribrid_embedding_model\"\n",
            "__________________________________________________________________________________________________\n",
            "Layer (type)                    Output Shape         Param #     Connected to                     \n",
            "==================================================================================================\n",
            "char_inputs (InputLayer)        [(None, 1)]          0                                            \n",
            "__________________________________________________________________________________________________\n",
            "token_inputs (InputLayer)       [(None,)]            0                                            \n",
            "__________________________________________________________________________________________________\n",
            "char_vectorizer (TextVectorizat (None, 290)          0           char_inputs[0][0]                \n",
            "__________________________________________________________________________________________________\n",
            "universal_sentence_encoder (Ker (None, 512)          256797824   token_inputs[0][0]               \n",
            "__________________________________________________________________________________________________\n",
            "char_embed (Embedding)          (None, 290, 25)      700         char_vectorizer[5][0]            \n",
            "__________________________________________________________________________________________________\n",
            "dense_16 (Dense)                (None, 128)          65664       universal_sentence_encoder[4][0] \n",
            "__________________________________________________________________________________________________\n",
            "bidirectional_3 (Bidirectional) (None, 48)           9600        char_embed[2][0]                 \n",
            "__________________________________________________________________________________________________\n",
            "char_token_hybrid_embedding (Co (None, 176)          0           dense_16[0][0]                   \n",
            "                                                                 bidirectional_3[0][0]            \n",
            "__________________________________________________________________________________________________\n",
            "line_number_input (InputLayer)  [(None, 15)]         0                                            \n",
            "__________________________________________________________________________________________________\n",
            "total_line_input (InputLayer)   [(None, 20)]         0                                            \n",
            "__________________________________________________________________________________________________\n",
            "dense_19 (Dense)                (None, 256)          45312       char_token_hybrid_embedding[0][0]\n",
            "__________________________________________________________________________________________________\n",
            "dense_17 (Dense)                (None, 32)           512         line_number_input[0][0]          \n",
            "__________________________________________________________________________________________________\n",
            "dense_18 (Dense)                (None, 32)           672         total_line_input[0][0]           \n",
            "__________________________________________________________________________________________________\n",
            "dropout_5 (Dropout)             (None, 256)          0           dense_19[0][0]                   \n",
            "__________________________________________________________________________________________________\n",
            "char_token_positional_embedding (None, 320)          0           dense_17[0][0]                   \n",
            "                                                                 dense_18[0][0]                   \n",
            "                                                                 dropout_5[0][0]                  \n",
            "__________________________________________________________________________________________________\n",
            "output_layer (Dense)            (None, 5)            1605        char_token_positional_embedding[0\n",
            "==================================================================================================\n",
            "Total params: 256,921,889\n",
            "Trainable params: 124,065\n",
            "Non-trainable params: 256,797,824\n",
            "__________________________________________________________________________________________________\n"
          ],
          "name": "stdout"
        }
      ]
    },
    {
      "cell_type": "code",
      "metadata": {
        "colab": {
          "base_uri": "https://localhost:8080/",
          "height": 996
        },
        "id": "dF1FowpCTs5M",
        "outputId": "c1ac4f57-33ff-4208-ee40-f7450fb311e5"
      },
      "source": [
        "# Plot model 5 to explore it visually\n",
        "from tensorflow.keras.utils import plot_model\n",
        "plot_model(model_5, show_shapes=True)"
      ],
      "execution_count": 215,
      "outputs": [
        {
          "output_type": "execute_result",
          "data": {
            "image/png": "[encoded data removed]",
            "text/plain": [
              "<IPython.core.display.Image object>"
            ]
          },
          "metadata": {
            "tags": []
          },
          "execution_count": 215
        }
      ]
    },
    {
      "cell_type": "markdown",
      "metadata": {
        "id": "bvIglFc3xZZj"
      },
      "source": [
        "What is label smoothing ?\n",
        "\n",
        "For example if our model gets too confident on a single class (e.g. its prediction probability is really high), it may get stuck on that class and  not consider other classes...\n",
        "\n",
        "Really confident : `[0.0, 0.0, 1.0, 0.0, 0.0]`\n",
        "\n",
        "What label smoothing does is it assigns some of the value from the highest pred prob to other classes, in turn, hopefully improving generalization : `[0.01, 0.01, 0.96, 0.01, 0.01]`  \n",
        "\n",
        "If label_smoothing is 0.2 ( it adds 0.2 / num_classes for other non-target labels)\n",
        "\n",
        "> **Resources:**  for more on label smoothing, see this blog post from PyImageSearch : https://www.pyimagesearch.com/2019/12/30/label-smoothing-with-keras-tensorflow-and-deep-learning/\n"
      ]
    },
    {
      "cell_type": "code",
      "metadata": {
        "id": "MPQ1uh71w8S7"
      },
      "source": [
        "# Compile token, char and positional embedding model\n",
        "model_5.compile(loss=tf.keras.losses.CategoricalCrossentropy(label_smoothing=0.2), # helps to prevent overfitting\n",
        "                optimizer=tf.keras.optimizers.Adam(),\n",
        "                metrics=[\"accuracy\"])\n"
      ],
      "execution_count": 216,
      "outputs": []
    },
    {
      "cell_type": "markdown",
      "metadata": {
        "id": "6N1f1SuMy4YG"
      },
      "source": [
        "### Create tribrid embedding datasets using tf.data"
      ]
    },
    {
      "cell_type": "code",
      "metadata": {
        "id": "O4GHPqc72xdW"
      },
      "source": [
        "# Create training and validation datasets (with all four kinds of input data)\n",
        "train_char_token_pos_data = tf.data.Dataset.from_tensor_slices((train_line_numbers_one_hot, \n",
        "                                                                 train_total_lines_one_hot, \n",
        "                                                                 train_sentences, \n",
        "                                                                 train_chars))\n",
        "train_char_token_pos_labels = tf.data.Dataset.from_tensor_slices(train_labels_one_hot)# make train labels\n",
        "train_char_token_pos_dataset = tf.data.Dataset.zip((train_char_token_pos_data, \n",
        "                                                    train_char_token_pos_labels))\n",
        "train_char_token_pos_dataset = train_char_token_pos_dataset.batch(32).prefetch(tf.data.AUTOTUNE)\n",
        "\n",
        "\n",
        "# Do the same as above but for the validation dataset\n",
        "val_char_token_pos_data = tf.data.Dataset.from_tensor_slices((val_line_numbers_one_hot, \n",
        "                                                              val_total_lines_one_hot,\n",
        "                                                              val_sentences,\n",
        "                                                              val_chars))\n",
        "val_char_token_pos_labels = tf.data.Dataset.from_tensor_slices(val_labels_one_hot)# make train labels\n",
        "val_char_token_pos_dataset = tf.data.Dataset.zip((val_char_token_pos_data, \n",
        "                                                  val_char_token_pos_labels))\n",
        "val_char_token_pos_dataset = val_char_token_pos_dataset.batch(32).prefetch(tf.data.AUTOTUNE)\n"
      ],
      "execution_count": 224,
      "outputs": []
    },
    {
      "cell_type": "code",
      "metadata": {
        "colab": {
          "base_uri": "https://localhost:8080/"
        },
        "id": "xrkE5DYb2dzn",
        "outputId": "584e37c0-ad41-440c-8c20-1688aa4ffa72"
      },
      "source": [
        "# Check input shape\n",
        "train_char_token_pos_dataset, val_char_token_pos_dataset"
      ],
      "execution_count": 225,
      "outputs": [
        {
          "output_type": "execute_result",
          "data": {
            "text/plain": [
              "(<PrefetchDataset shapes: (((None, 15), (None, 20), (None,), (None,)), (None, 5)), types: ((tf.float32, tf.float32, tf.string, tf.string), tf.float64)>,\n",
              " <PrefetchDataset shapes: (((None, 15), (None, 20), (None,), (None,)), (None, 5)), types: ((tf.float32, tf.float32, tf.string, tf.string), tf.float64)>)"
            ]
          },
          "metadata": {
            "tags": []
          },
          "execution_count": 225
        }
      ]
    },
    {
      "cell_type": "code",
      "metadata": {
        "colab": {
          "base_uri": "https://localhost:8080/"
        },
        "id": "WGP9NIF25RvT",
        "outputId": "39ef4e36-8aeb-4fa8-e23c-3b21c8032e62"
      },
      "source": [
        "len(train_char_token_pos_dataset), len(val_char_token_pos_dataset)"
      ],
      "execution_count": 226,
      "outputs": [
        {
          "output_type": "execute_result",
          "data": {
            "text/plain": [
              "(5627, 945)"
            ]
          },
          "metadata": {
            "tags": []
          },
          "execution_count": 226
        }
      ]
    },
    {
      "cell_type": "code",
      "metadata": {
        "colab": {
          "base_uri": "https://localhost:8080/"
        },
        "id": "n4nhv7Xd5dwP",
        "outputId": "f86e0402-2457-47ab-9b9a-5ac4bd250437"
      },
      "source": [
        "### Fitting, evaluating and making predictions with our tribrid model\n",
        "\n",
        "history_model_5 = model_5.fit(train_char_token_pos_dataset, \n",
        "                              epochs=3, \n",
        "                              steps_per_epoch=int(0.1 * len(train_char_token_pos_dataset)),\n",
        "                              validation_data = val_char_token_pos_dataset,\n",
        "                              validation_steps = int(0.1 * len(val_char_token_pos_dataset))\n",
        "                              )"
      ],
      "execution_count": 227,
      "outputs": [
        {
          "output_type": "stream",
          "text": [
            "Epoch 1/3\n",
            "562/562 [==============================] - 36s 52ms/step - loss: 1.1003 - accuracy: 0.7204 - val_loss: 0.9791 - val_accuracy: 0.8115\n",
            "Epoch 2/3\n",
            "562/562 [==============================] - 28s 50ms/step - loss: 0.9668 - accuracy: 0.8169 - val_loss: 0.9499 - val_accuracy: 0.8235\n",
            "Epoch 3/3\n",
            "562/562 [==============================] - 26s 46ms/step - loss: 0.9502 - accuracy: 0.8236 - val_loss: 0.9384 - val_accuracy: 0.8291\n"
          ],
          "name": "stdout"
        }
      ]
    },
    {
      "cell_type": "code",
      "metadata": {
        "colab": {
          "base_uri": "https://localhost:8080/"
        },
        "id": "lFx23Tvr7AKF",
        "outputId": "0a9e364e-2925-4be3-ad58-ec26e4fbb566"
      },
      "source": [
        "# Make prediction probablities\n",
        "\n",
        "model_5_pred_probs = model_5.predict(val_char_token_pos_dataset)\n",
        "model_5_pred_probs"
      ],
      "execution_count": 230,
      "outputs": [
        {
          "output_type": "execute_result",
          "data": {
            "text/plain": [
              "array([[0.49440733, 0.10503859, 0.01022063, 0.37439698, 0.01593648],\n",
              "       [0.57329863, 0.10411488, 0.03837654, 0.2780033 , 0.00620663],\n",
              "       [0.26591134, 0.10874117, 0.10750038, 0.45516863, 0.06267847],\n",
              "       ...,\n",
              "       [0.04237326, 0.0954745 , 0.04226072, 0.03355821, 0.7863333 ],\n",
              "       [0.03028538, 0.26828235, 0.06872488, 0.02699731, 0.60571015],\n",
              "       [0.20043729, 0.55992776, 0.12855582, 0.0415173 , 0.06956194]],\n",
              "      dtype=float32)"
            ]
          },
          "metadata": {
            "tags": []
          },
          "execution_count": 230
        }
      ]
    },
    {
      "cell_type": "code",
      "metadata": {
        "colab": {
          "base_uri": "https://localhost:8080/"
        },
        "id": "itgRdRr27LFs",
        "outputId": "65545015-9c96-4fbd-bdad-9db43f19a65b"
      },
      "source": [
        "# Turn prediciton probabilities into pred\n",
        "\n",
        "model_5_preds = tf.argmax(model_5_pred_probs, axis=1)\n",
        "model_5_preds"
      ],
      "execution_count": 231,
      "outputs": [
        {
          "output_type": "execute_result",
          "data": {
            "text/plain": [
              "<tf.Tensor: shape=(30212,), dtype=int64, numpy=array([0, 0, 3, ..., 4, 4, 1])>"
            ]
          },
          "metadata": {
            "tags": []
          },
          "execution_count": 231
        }
      ]
    },
    {
      "cell_type": "code",
      "metadata": {
        "colab": {
          "base_uri": "https://localhost:8080/"
        },
        "id": "LrCpG1Dm7bJz",
        "outputId": "f2b8a286-baf8-44bf-e5bd-356baa3d4080"
      },
      "source": [
        "# Calculate model 5 results\n",
        "model_5_results = calculate_results(y_true = val_labels_encoded, \n",
        "                                    y_pred = model_5_preds)\n",
        "model_5_results"
      ],
      "execution_count": 233,
      "outputs": [
        {
          "output_type": "execute_result",
          "data": {
            "text/plain": [
              "{'accuracy': 83.38739573679332,\n",
              " 'f1': 0.8328280846183697,\n",
              " 'precision': 0.8326422542471428,\n",
              " 'recall': 0.8338739573679332}"
            ]
          },
          "metadata": {
            "tags": []
          },
          "execution_count": 233
        }
      ]
    },
    {
      "cell_type": "markdown",
      "metadata": {
        "id": "gql3PbJu86GH"
      },
      "source": [
        "## Compare model results"
      ]
    },
    {
      "cell_type": "code",
      "metadata": {
        "colab": {
          "base_uri": "https://localhost:8080/",
          "height": 235
        },
        "id": "EDPi88KM_l91",
        "outputId": "98739813-b006-434f-8b3c-ed6ccfd30b7f"
      },
      "source": [
        "# Combine model results into a dataframe\n",
        "all_model_results = pd.DataFrame({\"model_0_baseline\" : baseline_results,\n",
        "                                  \"model_1_custom_token_embedding\" : model_1_results,\n",
        "                                  \"model_2_pretrained_token_embedding\" : model_2_results,\n",
        "                                  \"model_3_custom_char_embedding\" : model_3_results,\n",
        "                                  \"model_4_hybrid_char_token_embedding\" : model_4_results,\n",
        "                                  \"model_5_pos_char_token_embedding\" : model_5_results\n",
        "                                  })\n",
        "all_model_results = all_model_results.transpose()\n",
        "all_model_results"
      ],
      "execution_count": 242,
      "outputs": [
        {
          "output_type": "execute_result",
          "data": {
            "text/html": [
              "<div>\n",
              "<style scoped>\n",
              "    .dataframe tbody tr th:only-of-type {\n",
              "        vertical-align: middle;\n",
              "    }\n",
              "\n",
              "    .dataframe tbody tr th {\n",
              "        vertical-align: top;\n",
              "    }\n",
              "\n",
              "    .dataframe thead th {\n",
              "        text-align: right;\n",
              "    }\n",
              "</style>\n",
              "<table border=\"1\" class=\"dataframe\">\n",
              "  <thead>\n",
              "    <tr style=\"text-align: right;\">\n",
              "      <th></th>\n",
              "      <th>accuracy</th>\n",
              "      <th>precision</th>\n",
              "      <th>recall</th>\n",
              "      <th>f1</th>\n",
              "    </tr>\n",
              "  </thead>\n",
              "  <tbody>\n",
              "    <tr>\n",
              "      <th>model_0_baseline</th>\n",
              "      <td>72.183238</td>\n",
              "      <td>0.718647</td>\n",
              "      <td>0.721832</td>\n",
              "      <td>0.698925</td>\n",
              "    </tr>\n",
              "    <tr>\n",
              "      <th>model_1_custom_token_embedding</th>\n",
              "      <td>78.703826</td>\n",
              "      <td>0.784155</td>\n",
              "      <td>0.787038</td>\n",
              "      <td>0.784659</td>\n",
              "    </tr>\n",
              "    <tr>\n",
              "      <th>model_2_pretrained_token_embedding</th>\n",
              "      <td>71.421952</td>\n",
              "      <td>0.714411</td>\n",
              "      <td>0.714220</td>\n",
              "      <td>0.711159</td>\n",
              "    </tr>\n",
              "    <tr>\n",
              "      <th>model_3_custom_char_embedding</th>\n",
              "      <td>65.295247</td>\n",
              "      <td>0.645174</td>\n",
              "      <td>0.652952</td>\n",
              "      <td>0.643617</td>\n",
              "    </tr>\n",
              "    <tr>\n",
              "      <th>model_4_hybrid_char_token_embedding</th>\n",
              "      <td>73.626374</td>\n",
              "      <td>0.735175</td>\n",
              "      <td>0.736264</td>\n",
              "      <td>0.732469</td>\n",
              "    </tr>\n",
              "    <tr>\n",
              "      <th>model_5_pos_char_token_embedding</th>\n",
              "      <td>83.387396</td>\n",
              "      <td>0.832642</td>\n",
              "      <td>0.833874</td>\n",
              "      <td>0.832828</td>\n",
              "    </tr>\n",
              "  </tbody>\n",
              "</table>\n",
              "</div>"
            ],
            "text/plain": [
              "                                      accuracy  precision    recall        f1\n",
              "model_0_baseline                     72.183238   0.718647  0.721832  0.698925\n",
              "model_1_custom_token_embedding       78.703826   0.784155  0.787038  0.784659\n",
              "model_2_pretrained_token_embedding   71.421952   0.714411  0.714220  0.711159\n",
              "model_3_custom_char_embedding        65.295247   0.645174  0.652952  0.643617\n",
              "model_4_hybrid_char_token_embedding  73.626374   0.735175  0.736264  0.732469\n",
              "model_5_pos_char_token_embedding     83.387396   0.832642  0.833874  0.832828"
            ]
          },
          "metadata": {
            "tags": []
          },
          "execution_count": 242
        }
      ]
    },
    {
      "cell_type": "code",
      "metadata": {
        "id": "Hk9Szn5TA2gg"
      },
      "source": [
        "# Reduce the accuracy to same scale as other metrics\n",
        "all_model_results[\"accuracy\"] = all_model_results[\"accuracy\"] /100"
      ],
      "execution_count": 243,
      "outputs": []
    },
    {
      "cell_type": "code",
      "metadata": {
        "colab": {
          "base_uri": "https://localhost:8080/",
          "height": 636
        },
        "id": "A0lBan5ABEIb",
        "outputId": "e86d6f85-2ab1-4e4f-d69a-2425f01cafba"
      },
      "source": [
        "# Plot and compare all model results\n",
        "all_model_results.plot(kind=\"bar\", figsize=(10, 7)).legend(bbox_to_anchor=(1.0, 1.0))"
      ],
      "execution_count": 245,
      "outputs": [
        {
          "output_type": "execute_result",
          "data": {
            "text/plain": [
              "<matplotlib.legend.Legend at 0x7fb8916f6c10>"
            ]
          },
          "metadata": {
            "tags": []
          },
          "execution_count": 245
        },
        {
          "output_type": "display_data",
          "data": {
            "image/png": "[encoded data removed]",
            "text/plain": [
              "<Figure size 720x504 with 1 Axes>"
            ]
          },
          "metadata": {
            "tags": [],
            "needs_background": "light"
          }
        }
      ]
    },
    {
      "cell_type": "code",
      "metadata": {
        "colab": {
          "base_uri": "https://localhost:8080/",
          "height": 636
        },
        "id": "QrG68B8LBnr2",
        "outputId": "252fc181-32d8-4b5b-d1bc-d3adeb0f7018"
      },
      "source": [
        "# Sort models results by f1-score\n",
        "\n",
        "all_model_results.sort_values(\"f1\", ascending=True)[\"f1\"].plot(kind=\"bar\", figsize=(10, 7))"
      ],
      "execution_count": 247,
      "outputs": [
        {
          "output_type": "execute_result",
          "data": {
            "text/plain": [
              "<matplotlib.axes._subplots.AxesSubplot at 0x7fb89134f590>"
            ]
          },
          "metadata": {
            "tags": []
          },
          "execution_count": 247
        },
        {
          "output_type": "display_data",
          "data": {
            "image/png": "[encoded data removed]",
            "text/plain": [
              "<Figure size 720x504 with 1 Axes>"
            ]
          },
          "metadata": {
            "tags": [],
            "needs_background": "light"
          }
        }
      ]
    },
    {
      "cell_type": "markdown",
      "metadata": {
        "id": "jrpPARKZB49n"
      },
      "source": [
        "### Save and load model"
      ]
    },
    {
      "cell_type": "code",
      "metadata": {
        "colab": {
          "base_uri": "https://localhost:8080/"
        },
        "id": "NcCq3rfRDscM",
        "outputId": "f8f91264-ed9d-429f-d17f-48510df466d6"
      },
      "source": [
        "# Save the best performing model to SaveModel format(default)\n",
        "model_5.save(\"skimlit_tribrid_model\")\n"
      ],
      "execution_count": 248,
      "outputs": [
        {
          "output_type": "stream",
          "text": [
            "WARNING:absl:Found untraced functions such as lstm_cell_10_layer_call_and_return_conditional_losses, lstm_cell_10_layer_call_fn, lstm_cell_11_layer_call_and_return_conditional_losses, lstm_cell_11_layer_call_fn, lstm_cell_10_layer_call_fn while saving (showing 5 of 10). These functions will not be directly callable after loading.\n"
          ],
          "name": "stderr"
        },
        {
          "output_type": "stream",
          "text": [
            "INFO:tensorflow:Assets written to: skimlit_tribrid_model/assets\n"
          ],
          "name": "stdout"
        },
        {
          "output_type": "stream",
          "text": [
            "INFO:tensorflow:Assets written to: skimlit_tribrid_model/assets\n"
          ],
          "name": "stderr"
        }
      ]
    },
    {
      "cell_type": "code",
      "metadata": {
        "id": "8c-K3wHyFYGo"
      },
      "source": [
        "# Load in best performing model\n",
        "loaded_model = tf.keras.models.load_model(\"skimlit_tribrid_model\")\n"
      ],
      "execution_count": 250,
      "outputs": []
    },
    {
      "cell_type": "code",
      "metadata": {
        "colab": {
          "base_uri": "https://localhost:8080/"
        },
        "id": "LgO9cPCeFxAb",
        "outputId": "483f46fe-0d13-4fc8-a272-8341061954e9"
      },
      "source": [
        "# Make predictions with loaded_model on the validation set\n",
        "loaded_pred_probs = loaded_model.predict(val_char_token_pos_dataset)\n",
        "loaded_preds = tf.argmax(loaded_pred_probs, axis=1)\n",
        "loaded_preds[:10]"
      ],
      "execution_count": 251,
      "outputs": [
        {
          "output_type": "execute_result",
          "data": {
            "text/plain": [
              "<tf.Tensor: shape=(10,), dtype=int64, numpy=array([0, 0, 3, 2, 2, 4, 4, 4, 4, 1])>"
            ]
          },
          "metadata": {
            "tags": []
          },
          "execution_count": 251
        }
      ]
    },
    {
      "cell_type": "code",
      "metadata": {
        "colab": {
          "base_uri": "https://localhost:8080/"
        },
        "id": "vkijBOSJGFaK",
        "outputId": "b95d44c5-3bda-44db-bf13-fb1fd26b4ad4"
      },
      "source": [
        "# Calculate results of loaded model\n",
        "loaded_model_results = calculate_results(y_true=val_labels_encoded, \n",
        "                                         y_pred=loaded_preds)\n",
        "loaded_model_results"
      ],
      "execution_count": 252,
      "outputs": [
        {
          "output_type": "execute_result",
          "data": {
            "text/plain": [
              "{'accuracy': 83.38739573679332,\n",
              " 'f1': 0.8328280846183697,\n",
              " 'precision': 0.8326422542471428,\n",
              " 'recall': 0.8338739573679332}"
            ]
          },
          "metadata": {
            "tags": []
          },
          "execution_count": 252
        }
      ]
    },
    {
      "cell_type": "code",
      "metadata": {
        "colab": {
          "base_uri": "https://localhost:8080/"
        },
        "id": "-O4iHaDGGSd4",
        "outputId": "9ea26248-c5fc-46b6-8cab-2e8715edd6a0"
      },
      "source": [
        "model_5_results"
      ],
      "execution_count": 253,
      "outputs": [
        {
          "output_type": "execute_result",
          "data": {
            "text/plain": [
              "{'accuracy': 83.38739573679332,\n",
              " 'f1': 0.8328280846183697,\n",
              " 'precision': 0.8326422542471428,\n",
              " 'recall': 0.8338739573679332}"
            ]
          },
          "metadata": {
            "tags": []
          },
          "execution_count": 253
        }
      ]
    },
    {
      "cell_type": "code",
      "metadata": {
        "id": "pWrrfCX_GWwB"
      },
      "source": [
        " assert model_5_results == loaded_model_results"
      ],
      "execution_count": 257,
      "outputs": []
    },
    {
      "cell_type": "code",
      "metadata": {
        "colab": {
          "base_uri": "https://localhost:8080/"
        },
        "id": "EBJAMAzDGjJp",
        "outputId": "fdf13e65-ee76-4216-e7f9-4af1563aa1c4"
      },
      "source": [
        "# Check the loaded model summary\n",
        "loaded_model.summary()"
      ],
      "execution_count": 258,
      "outputs": [
        {
          "output_type": "stream",
          "text": [
            "Model: \"model_5_tribrid_embedding_model\"\n",
            "__________________________________________________________________________________________________\n",
            "Layer (type)                    Output Shape         Param #     Connected to                     \n",
            "==================================================================================================\n",
            "char_inputs (InputLayer)        [(None, 1)]          0                                            \n",
            "__________________________________________________________________________________________________\n",
            "token_inputs (InputLayer)       [(None,)]            0                                            \n",
            "__________________________________________________________________________________________________\n",
            "char_vectorizer (TextVectorizat (None, 290)          0           char_inputs[0][0]                \n",
            "__________________________________________________________________________________________________\n",
            "universal_sentence_encoder (Ker (None, 512)          256797824   token_inputs[0][0]               \n",
            "__________________________________________________________________________________________________\n",
            "char_embed (Embedding)          (None, 290, 25)      700         char_vectorizer[0][0]            \n",
            "__________________________________________________________________________________________________\n",
            "dense_16 (Dense)                (None, 128)          65664       universal_sentence_encoder[0][0] \n",
            "__________________________________________________________________________________________________\n",
            "bidirectional_3 (Bidirectional) (None, 48)           9600        char_embed[0][0]                 \n",
            "__________________________________________________________________________________________________\n",
            "char_token_hybrid_embedding (Co (None, 176)          0           dense_16[0][0]                   \n",
            "                                                                 bidirectional_3[0][0]            \n",
            "__________________________________________________________________________________________________\n",
            "line_number_input (InputLayer)  [(None, 15)]         0                                            \n",
            "__________________________________________________________________________________________________\n",
            "total_line_input (InputLayer)   [(None, 20)]         0                                            \n",
            "__________________________________________________________________________________________________\n",
            "dense_19 (Dense)                (None, 256)          45312       char_token_hybrid_embedding[0][0]\n",
            "__________________________________________________________________________________________________\n",
            "dense_17 (Dense)                (None, 32)           512         line_number_input[0][0]          \n",
            "__________________________________________________________________________________________________\n",
            "dense_18 (Dense)                (None, 32)           672         total_line_input[0][0]           \n",
            "__________________________________________________________________________________________________\n",
            "dropout_5 (Dropout)             (None, 256)          0           dense_19[0][0]                   \n",
            "__________________________________________________________________________________________________\n",
            "char_token_positional_embedding (None, 320)          0           dense_17[0][0]                   \n",
            "                                                                 dense_18[0][0]                   \n",
            "                                                                 dropout_5[0][0]                  \n",
            "__________________________________________________________________________________________________\n",
            "output_layer (Dense)            (None, 5)            1605        char_token_positional_embedding[0\n",
            "==================================================================================================\n",
            "Total params: 256,921,889\n",
            "Trainable params: 124,065\n",
            "Non-trainable params: 256,797,824\n",
            "__________________________________________________________________________________________________\n"
          ],
          "name": "stdout"
        }
      ]
    },
    {
      "cell_type": "markdown",
      "metadata": {
        "id": "uQgIlBUxG0fP"
      },
      "source": [
        "## Download and load in a pretrained model from Google storage"
      ]
    },
    {
      "cell_type": "code",
      "metadata": {
        "id": "pkEw949tH8L0"
      },
      "source": [
        "import tensorflow as tf\n",
        "import tensorflow_hub as hub\n",
        "from tensorflow.keras.layers.experimental.preprocessing import TextVectorization\n"
      ],
      "execution_count": 259,
      "outputs": []
    },
    {
      "cell_type": "code",
      "metadata": {
        "id": "rY0wTboDIh60",
        "outputId": "96228965-9ace-4f7e-ee24-e27831b9000e",
        "colab": {
          "base_uri": "https://localhost:8080/"
        }
      },
      "source": [
        "!wget https://storage.googleapis.com/ztm_tf_course/skimlit/skimlit_tribrid_model.zip\n",
        "!mkdir skimlit_gs_model\n",
        "!unzip skimlit_tribrid_model.zip -d skimlit_gs_model"
      ],
      "execution_count": 260,
      "outputs": [
        {
          "output_type": "stream",
          "text": [
            "--2021-08-14 19:33:17--  https://storage.googleapis.com/ztm_tf_course/skimlit/skimlit_tribrid_model.zip\n",
            "Resolving storage.googleapis.com (storage.googleapis.com)... 142.251.2.128, 142.250.101.128, 142.250.141.128, ...\n",
            "Connecting to storage.googleapis.com (storage.googleapis.com)|142.251.2.128|:443... connected.\n",
            "HTTP request sent, awaiting response... 200 OK\n",
            "Length: 962957902 (918M) [application/zip]\n",
            "Saving to: ‘skimlit_tribrid_model.zip’\n",
            "\n",
            "skimlit_tribrid_mod 100%[===================>] 918.35M  94.6MB/s    in 9.9s    \n",
            "\n",
            "2021-08-14 19:33:28 (93.1 MB/s) - ‘skimlit_tribrid_model.zip’ saved [962957902/962957902]\n",
            "\n",
            "Archive:  skimlit_tribrid_model.zip\n",
            "   creating: skimlit_gs_model/skimlit_tribrid_model/\n",
            "   creating: skimlit_gs_model/skimlit_tribrid_model/assets/\n",
            "   creating: skimlit_gs_model/skimlit_tribrid_model/variables/\n",
            "  inflating: skimlit_gs_model/skimlit_tribrid_model/variables/variables.index  \n",
            "  inflating: skimlit_gs_model/skimlit_tribrid_model/variables/variables.data-00000-of-00001  \n",
            "  inflating: skimlit_gs_model/skimlit_tribrid_model/saved_model.pb  \n"
          ],
          "name": "stdout"
        }
      ]
    },
    {
      "cell_type": "code",
      "metadata": {
        "id": "gxf9a1WiKS4h",
        "outputId": "2585032e-559d-447e-acec-b344704a59c7",
        "colab": {
          "base_uri": "https://localhost:8080/"
        }
      },
      "source": [
        "# Load in downloaded Google storage model\n",
        "loaded_gs_model = tf.keras.models.load_model(\"skimlit_gs_model/skimlit_tribrid_model\")\n"
      ],
      "execution_count": 261,
      "outputs": [
        {
          "output_type": "stream",
          "text": [
            "WARNING:tensorflow:SavedModel saved prior to TF 2.5 detected when loading Keras model. Please ensure that you are saving the model with model.save() or tf.keras.models.save_model(), *NOT* tf.saved_model.save(). To confirm, there should be a file named \"keras_metadata.pb\" in the SavedModel directory.\n"
          ],
          "name": "stdout"
        },
        {
          "output_type": "stream",
          "text": [
            "WARNING:tensorflow:SavedModel saved prior to TF 2.5 detected when loading Keras model. Please ensure that you are saving the model with model.save() or tf.keras.models.save_model(), *NOT* tf.saved_model.save(). To confirm, there should be a file named \"keras_metadata.pb\" in the SavedModel directory.\n"
          ],
          "name": "stderr"
        }
      ]
    },
    {
      "cell_type": "code",
      "metadata": {
        "id": "qFPlpz_7J4Q9",
        "outputId": "5bf2d8e4-553d-4bd0-f826-b3bdf098ad39",
        "colab": {
          "base_uri": "https://localhost:8080/"
        }
      },
      "source": [
        "# Evaluate the loaded Google Storage model\n",
        "loaded_gs_model.evaluate(val_char_token_pos_dataset)\n"
      ],
      "execution_count": 262,
      "outputs": [
        {
          "output_type": "stream",
          "text": [
            "945/945 [==============================] - 26s 25ms/step - loss: 0.9459 - accuracy: 0.8283\n"
          ],
          "name": "stdout"
        },
        {
          "output_type": "execute_result",
          "data": {
            "text/plain": [
              "[0.9459028244018555, 0.8283132314682007]"
            ]
          },
          "metadata": {
            "tags": []
          },
          "execution_count": 262
        }
      ]
    },
    {
      "cell_type": "markdown",
      "metadata": {
        "id": "BgbNX_-rKow5"
      },
      "source": [
        "## Your challenges\n",
        "\n",
        "1. Turn the test data samples into a tf.data Dataset(fast loading) and then evaluate(make predictions) the best performing model on the test samples.\n",
        "\n",
        "2. Find the most wrong predictions from 1 (these are the samples where the model has predicted the wrong label with the highest prediction probability).\n",
        "\n",
        "3. Make exaple predictions (on RCT abstracts from the wild), you can go to PubMed to find these :\n",
        "https://pubmed.ncbi.nlm.nih.gov/, find and use our model to predict on 3-4 different abstracts from the wild.\n",
        "      * Some examples : https://github.com/mrdbourke/tensorflow-deep-learning/blob/main/extras/skimlit_example_abstracts.json\n",
        "\n",
        "4. See the exercises and extra curriculum on GitHub to further test your skills (for section 09)\n"
      ]
    },
    {
      "cell_type": "code",
      "metadata": {
        "id": "lPN1nKn0K9ck"
      },
      "source": [
        ""
      ],
      "execution_count": null,
      "outputs": []
    }
  ]
}