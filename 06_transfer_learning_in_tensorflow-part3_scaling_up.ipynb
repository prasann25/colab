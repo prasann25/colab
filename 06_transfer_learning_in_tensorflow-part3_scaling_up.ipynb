{
  "nbformat": 4,
  "nbformat_minor": 0,
  "metadata": {
    "colab": {
      "name": "06_transfer_learning_in_tensorflow-part3_scaling_up",
      "provenance": [],
      "include_colab_link": true
    },
    "kernelspec": {
      "name": "python3",
      "display_name": "Python 3"
    },
    "language_info": {
      "name": "python"
    },
    "accelerator": "GPU"
  },
  "cells": [
    {
      "cell_type": "markdown",
      "metadata": {
        "id": "view-in-github",
        "colab_type": "text"
      },
      "source": [
        "<a href=\"https://colab.research.google.com/github/prasann25/colab/blob/main/06_transfer_learning_in_tensorflow-part3_scaling_up.ipynb\" target=\"_parent\"><img src=\"https://colab.research.google.com/assets/colab-badge.svg\" alt=\"Open In Colab\"/></a>"
      ]
    },
    {
      "cell_type": "markdown",
      "metadata": {
        "id": "-8fbclEDHYdu"
      },
      "source": [
        "# Transfer Learning With TensorFlow Part 3: Scaling Up (Food Vision mini)\n",
        "\n",
        "We've seen the power of transfer learning feature extraction and fine-tuning, now it's time to scale up to all of the classes in Food101(101 total classes of food).\n",
        "\n",
        "Our goal is to beat the original Food101 paper with 10% of the training ( leveraging the power of deep learning).\n",
        "\n",
        "Original Food101 paper : https://data.vision.ee.ethz.ch/cvl/datasets_extra/food-101/static/bossard_eccv14_food-101.pdf\n",
        "\n",
        "Our baseline to beat is 50.76% accuracy across 101 classes."
      ]
    },
    {
      "cell_type": "code",
      "metadata": {
        "colab": {
          "base_uri": "https://localhost:8080/"
        },
        "id": "IhSgWlF1qnzo",
        "outputId": "4b9b0791-b757-411e-f9e4-8ee54fe790bb"
      },
      "source": [
        "# Check to see if we're using a GPU\n",
        "!nvidia-smi"
      ],
      "execution_count": 1,
      "outputs": [
        {
          "output_type": "stream",
          "text": [
            "Mon Jul 19 03:25:46 2021       \n",
            "+-----------------------------------------------------------------------------+\n",
            "| NVIDIA-SMI 470.42.01    Driver Version: 460.32.03    CUDA Version: 11.2     |\n",
            "|-------------------------------+----------------------+----------------------+\n",
            "| GPU  Name        Persistence-M| Bus-Id        Disp.A | Volatile Uncorr. ECC |\n",
            "| Fan  Temp  Perf  Pwr:Usage/Cap|         Memory-Usage | GPU-Util  Compute M. |\n",
            "|                               |                      |               MIG M. |\n",
            "|===============================+======================+======================|\n",
            "|   0  Tesla T4            Off  | 00000000:00:04.0 Off |                    0 |\n",
            "| N/A   43C    P8     9W /  70W |      0MiB / 15109MiB |      0%      Default |\n",
            "|                               |                      |                  N/A |\n",
            "+-------------------------------+----------------------+----------------------+\n",
            "                                                                               \n",
            "+-----------------------------------------------------------------------------+\n",
            "| Processes:                                                                  |\n",
            "|  GPU   GI   CI        PID   Type   Process name                  GPU Memory |\n",
            "|        ID   ID                                                   Usage      |\n",
            "|=============================================================================|\n",
            "|  No running processes found                                                 |\n",
            "+-----------------------------------------------------------------------------+\n"
          ],
          "name": "stdout"
        }
      ]
    },
    {
      "cell_type": "markdown",
      "metadata": {
        "id": "pFGtCZXCrV1Y"
      },
      "source": [
        "## Creating helper functions\n",
        "In previous notebooks, we've created a series of helper functions to do different tasks, let's download them\n",
        "\n"
      ]
    },
    {
      "cell_type": "code",
      "metadata": {
        "colab": {
          "base_uri": "https://localhost:8080/"
        },
        "id": "M87pkgNOrrrj",
        "outputId": "28f23ed7-b98d-4754-ff55-da0feb44431b"
      },
      "source": [
        "!wget https://raw.githubusercontent.com/mrdbourke/tensorflow-deep-learning/main/extras/helper_functions.py"
      ],
      "execution_count": 2,
      "outputs": [
        {
          "output_type": "stream",
          "text": [
            "--2021-07-19 03:25:46--  https://raw.githubusercontent.com/mrdbourke/tensorflow-deep-learning/main/extras/helper_functions.py\n",
            "Resolving raw.githubusercontent.com (raw.githubusercontent.com)... 185.199.109.133, 185.199.111.133, 185.199.108.133, ...\n",
            "Connecting to raw.githubusercontent.com (raw.githubusercontent.com)|185.199.109.133|:443... connected.\n",
            "HTTP request sent, awaiting response... 200 OK\n",
            "Length: 10246 (10K) [text/plain]\n",
            "Saving to: ‘helper_functions.py’\n",
            "\n",
            "\rhelper_functions.py   0%[                    ]       0  --.-KB/s               \rhelper_functions.py 100%[===================>]  10.01K  --.-KB/s    in 0s      \n",
            "\n",
            "2021-07-19 03:25:47 (90.1 MB/s) - ‘helper_functions.py’ saved [10246/10246]\n",
            "\n"
          ],
          "name": "stdout"
        }
      ]
    },
    {
      "cell_type": "code",
      "metadata": {
        "id": "uwP3JYdBruca"
      },
      "source": [
        "# Import series of helper funcitons for our notebook\n",
        "from helper_functions import plot_loss_curves, create_tensorboard_callback, unzip_data, compare_historys, walk_through_dir"
      ],
      "execution_count": 3,
      "outputs": []
    },
    {
      "cell_type": "markdown",
      "metadata": {
        "id": "OzatXDSfsKKC"
      },
      "source": [
        "## 101 Food Classes: working with less data\n",
        "Our goal is to beat the original Food101 paper with 10% of the training data, so let's download it.\n",
        "\n",
        "The data we're downloading comes from the original Food101 dataset but has been preprocessed using the `image_data_modification` notebook - https://github.com/mrdbourke/tensorflow-deep-learning/blob/main/extras/image_data_modification.ipynb"
      ]
    },
    {
      "cell_type": "code",
      "metadata": {
        "colab": {
          "base_uri": "https://localhost:8080/"
        },
        "id": "1tjolfk9suTW",
        "outputId": "b509f327-9890-4232-8686-0723b30e909d"
      },
      "source": [
        "!wget https://storage.googleapis.com/ztm_tf_course/food_vision/101_food_classes_10_percent.zip\n",
        "unzip_data(\"101_food_classes_10_percent.zip\")"
      ],
      "execution_count": null,
      "outputs": [
        {
          "output_type": "stream",
          "text": [
            "--2021-07-19 03:25:49--  https://storage.googleapis.com/ztm_tf_course/food_vision/101_food_classes_10_percent.zip\n",
            "Resolving storage.googleapis.com (storage.googleapis.com)... 74.125.142.128, 74.125.195.128, 142.250.107.128, ...\n",
            "Connecting to storage.googleapis.com (storage.googleapis.com)|74.125.142.128|:443... connected.\n",
            "HTTP request sent, awaiting response... 200 OK\n",
            "Length: 1625420029 (1.5G) [application/zip]\n",
            "Saving to: ‘101_food_classes_10_percent.zip’\n",
            "\n",
            "101_food_classes_10 100%[===================>]   1.51G  78.6MB/s    in 9.6s    \n",
            "\n",
            "2021-07-19 03:25:59 (161 MB/s) - ‘101_food_classes_10_percent.zip’ saved [1625420029/1625420029]\n",
            "\n"
          ],
          "name": "stdout"
        }
      ]
    },
    {
      "cell_type": "code",
      "metadata": {
        "id": "m04wvcUVs-xd"
      },
      "source": [
        "train_dir = \"101_food_classes_10_percent/train/\"\n",
        "test_dir = \"101_food_classes_10_percent/test/\"\n"
      ],
      "execution_count": null,
      "outputs": []
    },
    {
      "cell_type": "code",
      "metadata": {
        "id": "_1vjuU6ctJDs"
      },
      "source": [
        "# How many images/classes are there?\n",
        "walk_through_dir(dir_path=\"101_food_classes_10_percent\")"
      ],
      "execution_count": null,
      "outputs": []
    },
    {
      "cell_type": "code",
      "metadata": {
        "id": "8KSQlxAOtS22"
      },
      "source": [
        "# Setup data inputs\n",
        "import tensorflow as tf\n",
        "\n",
        "IMG_SIZE= (224, 224)\n",
        "BATCH_SIZE=32\n",
        "train_data_all_10_percent = tf.keras.preprocessing.image_dataset_from_directory(train_dir,\n",
        "                                                                                image_size=IMG_SIZE,\n",
        "                                                                                batch_size=BATCH_SIZE,\n",
        "                                                                                label_mode=\"categorical\")\n",
        "# Not Shuffle the test data for prediction analysis\n",
        "test_data = tf.keras.preprocessing.image_dataset_from_directory(test_dir,\n",
        "                                                                label_mode=\"categorical\",\n",
        "                                                                image_size=IMG_SIZE,\n",
        "                                                                batch_size=BATCH_SIZE,\n",
        "                                                                shuffle=False) # don't shuffle test data for prediction analysis"
      ],
      "execution_count": null,
      "outputs": []
    },
    {
      "cell_type": "markdown",
      "metadata": {
        "id": "bEAah0bUv685"
      },
      "source": [
        "## Train a big dog model with transfer learning on 10% of 101 food classes\n",
        "Here are the steps we're going to take :\n",
        "* Create a ModelCheckpoint callback\n",
        "* Create data augmentation layer to build data augmentation right into model\n",
        "* Build a headless (no top layers) Functional EfficientNetB0 backboned-model ( we'll create our own output layer)\n",
        "* Compile our model\n",
        "* Feature extract for 5 full passes (5 epochs on the train dataset and validate on 15% of the test data, to save epoch time)\n"
      ]
    },
    {
      "cell_type": "code",
      "metadata": {
        "id": "c0U5Ay4ywgSL"
      },
      "source": [
        "# Create  checkpoint callback\n",
        "\n",
        "checkpoint_path=\"101_classes_10_percent_data_model_checkpoint\"\n",
        "checkpoint_callback  = tf.keras.callbacks.ModelCheckpoint(checkpoint_path,                                                          \n",
        "                                                          save_weights_only=True,\n",
        "                                                          monitor=\"val_accuracy\",\n",
        "                                                          save_best_only=True,\n",
        "                                                          save_freq=\"epoch\")\n"
      ],
      "execution_count": null,
      "outputs": []
    },
    {
      "cell_type": "code",
      "metadata": {
        "id": "qnkBKAZFzwj7"
      },
      "source": [
        "# Create data augmentation layer to incorporate it right into the model\n",
        "\n",
        "from tensorflow.keras import layers\n",
        "from tensorflow.keras.layers.experimental import preprocessing\n",
        "from tensorflow.keras.models import Sequential\n",
        "\n",
        "data_augmentation = Sequential([\n",
        "              preprocessing.RandomFlip(\"horizontal\"),\n",
        "              preprocessing.RandomRotation(0.2),\n",
        "              preprocessing.RandomHeight(0.2),\n",
        "              preprocessing.RandomWidth(0.2),\n",
        "              preprocessing.RandomZoom(0.2),\n",
        "              #preprocessing.Rescaling(1/255.), # rescale inputs of images to between 0 & 1, required for model like ResNet50              \n",
        "            ], name=\"data_augmentation\")"
      ],
      "execution_count": null,
      "outputs": []
    },
    {
      "cell_type": "code",
      "metadata": {
        "id": "NmczPrm88bmG"
      },
      "source": [
        "# Setup the base model and freeze its layers(this will extract features)\n",
        "\n",
        "base_model = tf.keras.applications.EfficientNetB0(include_top=False)\n",
        "base_model.trainable = False\n",
        "\n",
        "# Setup  model architectures with trainable top layers\n",
        "inputs = layers.Input(shape=(224, 224, 3), name=\"input_layer\")\n",
        "\n",
        "x = data_augmentation(inputs) # augment images (only happens during the training phase)\n",
        "\n",
        "x = base_model(x, training = False) # put the base model in inference mode, so weights which need to stay frozen, stay frozen\n",
        "\n",
        "x = layers.GlobalAvgPool2D(name=\"global_avg_pool_layer\")(x)\n",
        "\n",
        "# For layers, the inputs or x goes outside. For model it can go inside \n",
        "outputs = layers.Dense(len(train_data_all_10_percent.class_names), activation=\"softmax\", name=\"output_layer\") (x)\n",
        "\n",
        "model = tf.keras.Model(inputs, outputs)\n"
      ],
      "execution_count": null,
      "outputs": []
    },
    {
      "cell_type": "code",
      "metadata": {
        "id": "GyHabhE9Arjp"
      },
      "source": [
        "# Get a summary of model we've created\n",
        "model.summary()"
      ],
      "execution_count": null,
      "outputs": []
    },
    {
      "cell_type": "code",
      "metadata": {
        "id": "ofXDaGXLB7az"
      },
      "source": [
        "# Compile our model\n",
        "model.compile(loss=\"categorical_crossentropy\",\n",
        "             optimizer=tf.keras.optimizers.Adam(),\n",
        "             metrics=[\"accuracy\"])\n",
        "\n",
        "history_all_classes_10_percent = model.fit(train_data_all_10_percent, \n",
        "                                           epochs=5, # fit for epochs to keep experiment quick\n",
        "                                           validation_data = test_data,\n",
        "                                           validation_steps = int(0.15 *len(test_data)), # validate on only 15% of the data during training\n",
        "                                           callbacks=[checkpoint_callback])"
      ],
      "execution_count": null,
      "outputs": []
    },
    {
      "cell_type": "code",
      "metadata": {
        "id": "a0Rrb5aSDR1r"
      },
      "source": [
        "# Evaluate the model\n",
        "model.evaluate(test_data)\n"
      ],
      "execution_count": null,
      "outputs": []
    },
    {
      "cell_type": "code",
      "metadata": {
        "id": "14wjzzehDVdf"
      },
      "source": [
        "# Plot loss curves\n",
        "plot_loss_curves(history_all_classes_10_percent)"
      ],
      "execution_count": null,
      "outputs": []
    },
    {
      "cell_type": "code",
      "metadata": {
        "id": "M2IVDrjJoPov"
      },
      "source": [
        "> **Question** : What do these curves suggest? \n",
        "Note: Our model is overfitting as seen above, val_loss and val_accuracy deviating from training curves."
      ],
      "execution_count": null,
      "outputs": []
    },
    {
      "cell_type": "code",
      "metadata": {
        "id": "n2Wn3f6uApBX"
      },
      "source": [
        ""
      ],
      "execution_count": null,
      "outputs": []
    }
  ]
}