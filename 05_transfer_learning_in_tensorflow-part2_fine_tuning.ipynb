{
  "nbformat": 4,
  "nbformat_minor": 0,
  "metadata": {
    "colab": {
      "name": "05_transfer_learning_in_tensorflow-part2_fine_tuning",
      "provenance": [],
      "authorship_tag": "ABX9TyMte3hivzXhTidgdCxTonF0",
      "include_colab_link": true
    },
    "kernelspec": {
      "name": "python3",
      "display_name": "Python 3"
    },
    "language_info": {
      "name": "python"
    },
    "accelerator": "GPU"
  },
  "cells": [
    {
      "cell_type": "markdown",
      "metadata": {
        "id": "view-in-github",
        "colab_type": "text"
      },
      "source": [
        "<a href=\"https://colab.research.google.com/github/prasann25/colab/blob/main/05_transfer_learning_in_tensorflow-part2_fine_tuning.ipynb\" target=\"_parent\"><img src=\"https://colab.research.google.com/assets/colab-badge.svg\" alt=\"Open In Colab\"/></a>"
      ]
    },
    {
      "cell_type": "markdown",
      "metadata": {
        "id": "-8fbclEDHYdu"
      },
      "source": [
        "# Transfer Learning with TensorFlow 2 : Fine-Tuning\n",
        "\n",
        "In the previous notebook, we covered transfer learning feature extraction, now it's time to learn about a new kind of transfer learning : fine-tuning"
      ]
    },
    {
      "cell_type": "code",
      "metadata": {
        "colab": {
          "base_uri": "https://localhost:8080/"
        },
        "id": "SUpZSP-wnclf",
        "outputId": "ca652e2d-6ff2-4ef6-a219-506d4d08cfbf"
      },
      "source": [
        "# Check if we're using a GPU\n",
        "!nvidia-smi"
      ],
      "execution_count": 1,
      "outputs": [
        {
          "output_type": "stream",
          "text": [
            "Thu Jul 15 02:04:45 2021       \n",
            "+-----------------------------------------------------------------------------+\n",
            "| NVIDIA-SMI 470.42.01    Driver Version: 460.32.03    CUDA Version: 11.2     |\n",
            "|-------------------------------+----------------------+----------------------+\n",
            "| GPU  Name        Persistence-M| Bus-Id        Disp.A | Volatile Uncorr. ECC |\n",
            "| Fan  Temp  Perf  Pwr:Usage/Cap|         Memory-Usage | GPU-Util  Compute M. |\n",
            "|                               |                      |               MIG M. |\n",
            "|===============================+======================+======================|\n",
            "|   0  Tesla T4            Off  | 00000000:00:04.0 Off |                    0 |\n",
            "| N/A   51C    P8    10W /  70W |      0MiB / 15109MiB |      0%      Default |\n",
            "|                               |                      |                  N/A |\n",
            "+-------------------------------+----------------------+----------------------+\n",
            "                                                                               \n",
            "+-----------------------------------------------------------------------------+\n",
            "| Processes:                                                                  |\n",
            "|  GPU   GI   CI        PID   Type   Process name                  GPU Memory |\n",
            "|        ID   ID                                                   Usage      |\n",
            "|=============================================================================|\n",
            "|  No running processes found                                                 |\n",
            "+-----------------------------------------------------------------------------+\n"
          ],
          "name": "stdout"
        }
      ]
    },
    {
      "cell_type": "markdown",
      "metadata": {
        "id": "LUuEdLejnPAy"
      },
      "source": [
        "## Creating helper functions\n",
        "In previous notebooks, we created a bunch of helper functions, now we could rewrite them all, however this is tedious.\n",
        "\n",
        "So, it's a good idea to put functions you'll want to use again in a script you can download some of the functions we've used previously here : https://raw.githubusercontent.com/mrdbourke/tensorflow-deep-learning/main/extras/helper_functions.py"
      ]
    },
    {
      "cell_type": "code",
      "metadata": {
        "colab": {
          "base_uri": "https://localhost:8080/"
        },
        "id": "Dnl3ZeqfoK8p",
        "outputId": "e12efa92-2580-4a5a-bf91-a43b10d3c313"
      },
      "source": [
        "!wget https://raw.githubusercontent.com/mrdbourke/tensorflow-deep-learning/main/extras/helper_functions.py\n"
      ],
      "execution_count": 2,
      "outputs": [
        {
          "output_type": "stream",
          "text": [
            "--2021-07-15 02:04:45--  https://raw.githubusercontent.com/mrdbourke/tensorflow-deep-learning/main/extras/helper_functions.py\n",
            "Resolving raw.githubusercontent.com (raw.githubusercontent.com)... 185.199.108.133, 185.199.109.133, 185.199.110.133, ...\n",
            "Connecting to raw.githubusercontent.com (raw.githubusercontent.com)|185.199.108.133|:443... connected.\n",
            "HTTP request sent, awaiting response... 200 OK\n",
            "Length: 10246 (10K) [text/plain]\n",
            "Saving to: ‘helper_functions.py’\n",
            "\n",
            "helper_functions.py 100%[===================>]  10.01K  --.-KB/s    in 0s      \n",
            "\n",
            "2021-07-15 02:04:45 (97.7 MB/s) - ‘helper_functions.py’ saved [10246/10246]\n",
            "\n"
          ],
          "name": "stdout"
        }
      ]
    },
    {
      "cell_type": "code",
      "metadata": {
        "id": "5N4QHs-LoPN1"
      },
      "source": [
        "# Import helper functions we're going to use in this notebook\n",
        "from helper_functions import create_tensorboard_callback, plot_loss_curves, unzip_data, walk_through_dir"
      ],
      "execution_count": 3,
      "outputs": []
    },
    {
      "cell_type": "markdown",
      "metadata": {
        "id": "OU7bj8Bgos2X"
      },
      "source": [
        "> **Note** : If you're running this notebook in Google Colab, when it times out Colab will delete `helper functions`, so you'll have to re-download it if you want access to your helper functions."
      ]
    },
    {
      "cell_type": "markdown",
      "metadata": {
        "id": "tv4LSf_Lq1tt"
      },
      "source": [
        "## Let's get some data\n",
        "\n",
        "This time we're going to see how we can use the pre-trained models within `tf.keras.applications`  (recognizing images of food)\n",
        " link : https://www.tensorflow.org/api_docs/python/tf/keras/applications"
      ]
    },
    {
      "cell_type": "code",
      "metadata": {
        "colab": {
          "base_uri": "https://localhost:8080/"
        },
        "id": "NvNzGBXZq_AK",
        "outputId": "e353eccc-54b1-40d3-ab5d-1a054462f1c4"
      },
      "source": [
        "# Get 10% of training data of 10 classes of Food101\n",
        "!wget https://storage.googleapis.com/ztm_tf_course/food_vision/10_food_classes_10_percent.zip\n",
        "\n",
        "unzip_data(\"10_food_classes_10_percent.zip\")"
      ],
      "execution_count": 4,
      "outputs": [
        {
          "output_type": "stream",
          "text": [
            "--2021-07-15 02:04:47--  https://storage.googleapis.com/ztm_tf_course/food_vision/10_food_classes_10_percent.zip\n",
            "Resolving storage.googleapis.com (storage.googleapis.com)... 74.125.20.128, 74.125.142.128, 74.125.195.128, ...\n",
            "Connecting to storage.googleapis.com (storage.googleapis.com)|74.125.20.128|:443... connected.\n",
            "HTTP request sent, awaiting response... 200 OK\n",
            "Length: 168546183 (161M) [application/zip]\n",
            "Saving to: ‘10_food_classes_10_percent.zip’\n",
            "\n",
            "10_food_classes_10_ 100%[===================>] 160.74M   139MB/s    in 1.2s    \n",
            "\n",
            "2021-07-15 02:04:49 (139 MB/s) - ‘10_food_classes_10_percent.zip’ saved [168546183/168546183]\n",
            "\n"
          ],
          "name": "stdout"
        }
      ]
    },
    {
      "cell_type": "code",
      "metadata": {
        "colab": {
          "base_uri": "https://localhost:8080/"
        },
        "id": "d4HzKzjbsyCR",
        "outputId": "92887b55-6c47-4b5a-ee37-acc12b9acebf"
      },
      "source": [
        "# Check out how many image and subdirectories are in our dataset\n",
        "walk_through_dir(\"10_food_classes_10_percent\")"
      ],
      "execution_count": 5,
      "outputs": [
        {
          "output_type": "stream",
          "text": [
            "There are 2 directories and 0 images in '10_food_classes_10_percent'.\n",
            "There are 10 directories and 0 images in '10_food_classes_10_percent/train'.\n",
            "There are 0 directories and 75 images in '10_food_classes_10_percent/train/grilled_salmon'.\n",
            "There are 0 directories and 75 images in '10_food_classes_10_percent/train/steak'.\n",
            "There are 0 directories and 75 images in '10_food_classes_10_percent/train/chicken_curry'.\n",
            "There are 0 directories and 75 images in '10_food_classes_10_percent/train/ice_cream'.\n",
            "There are 0 directories and 75 images in '10_food_classes_10_percent/train/hamburger'.\n",
            "There are 0 directories and 75 images in '10_food_classes_10_percent/train/ramen'.\n",
            "There are 0 directories and 75 images in '10_food_classes_10_percent/train/fried_rice'.\n",
            "There are 0 directories and 75 images in '10_food_classes_10_percent/train/pizza'.\n",
            "There are 0 directories and 75 images in '10_food_classes_10_percent/train/sushi'.\n",
            "There are 0 directories and 75 images in '10_food_classes_10_percent/train/chicken_wings'.\n",
            "There are 10 directories and 0 images in '10_food_classes_10_percent/test'.\n",
            "There are 0 directories and 250 images in '10_food_classes_10_percent/test/grilled_salmon'.\n",
            "There are 0 directories and 250 images in '10_food_classes_10_percent/test/steak'.\n",
            "There are 0 directories and 250 images in '10_food_classes_10_percent/test/chicken_curry'.\n",
            "There are 0 directories and 250 images in '10_food_classes_10_percent/test/ice_cream'.\n",
            "There are 0 directories and 250 images in '10_food_classes_10_percent/test/hamburger'.\n",
            "There are 0 directories and 250 images in '10_food_classes_10_percent/test/ramen'.\n",
            "There are 0 directories and 250 images in '10_food_classes_10_percent/test/fried_rice'.\n",
            "There are 0 directories and 250 images in '10_food_classes_10_percent/test/pizza'.\n",
            "There are 0 directories and 250 images in '10_food_classes_10_percent/test/sushi'.\n",
            "There are 0 directories and 250 images in '10_food_classes_10_percent/test/chicken_wings'.\n"
          ],
          "name": "stdout"
        }
      ]
    },
    {
      "cell_type": "code",
      "metadata": {
        "id": "_aG4W0bYBgJU"
      },
      "source": [
        "# Create training and test directory paths\n",
        "train_dir =\"10_food_classes_10_percent/train\"\n",
        "test_dir =\"10_food_classes_10_percent/test\""
      ],
      "execution_count": 6,
      "outputs": []
    },
    {
      "cell_type": "code",
      "metadata": {
        "id": "rZYCeBBhBqjl"
      },
      "source": [
        "import tensorflow as tf"
      ],
      "execution_count": 7,
      "outputs": []
    },
    {
      "cell_type": "code",
      "metadata": {
        "id": "3xm1uuZ9BuYt",
        "colab": {
          "base_uri": "https://localhost:8080/"
        },
        "outputId": "72519d65-b6ac-40a1-d12e-02711b9f15c1"
      },
      "source": [
        "# Preprocess image dataset in a directory https://www.tensorflow.org/api_docs/python/tf/keras/preprocessing/image_dataset_from_directory\n",
        "\n",
        "IMG_SIZE=(224, 224)\n",
        "BATCH_SIZE = 32\n",
        "train_data_10_percent = tf.keras.preprocessing.image_dataset_from_directory(directory = train_dir,\n",
        "                                                                            image_size=IMG_SIZE,\n",
        "                                                                            label_mode=\"categorical\",\n",
        "                                                                            batch_size=BATCH_SIZE)\n",
        "test_data = tf.keras.preprocessing.image_dataset_from_directory(directory=test_dir,\n",
        "                                                                image_size=IMG_SIZE,\n",
        "                                                                label_mode=\"categorical\",\n",
        "                                                                batch_size=BATCH_SIZE)"
      ],
      "execution_count": 8,
      "outputs": [
        {
          "output_type": "stream",
          "text": [
            "Found 750 files belonging to 10 classes.\n",
            "Found 2500 files belonging to 10 classes.\n"
          ],
          "name": "stdout"
        }
      ]
    },
    {
      "cell_type": "code",
      "metadata": {
        "id": "W4y-ViacP8DQ",
        "colab": {
          "base_uri": "https://localhost:8080/"
        },
        "outputId": "ca2f9ee1-4c11-43de-98cd-35b4bc5c41ce"
      },
      "source": [
        "train_data_10_percent"
      ],
      "execution_count": 9,
      "outputs": [
        {
          "output_type": "execute_result",
          "data": {
            "text/plain": [
              "<BatchDataset shapes: ((None, 224, 224, 3), (None, 10)), types: (tf.float32, tf.float32)>"
            ]
          },
          "metadata": {
            "tags": []
          },
          "execution_count": 9
        }
      ]
    },
    {
      "cell_type": "code",
      "metadata": {
        "id": "8VYlovqJS6DV",
        "colab": {
          "base_uri": "https://localhost:8080/"
        },
        "outputId": "aab13733-05a7-44c3-823b-8176ffe9ce69"
      },
      "source": [
        "# Check out the class names of our dataset\n",
        "train_data_10_percent.class_names"
      ],
      "execution_count": 10,
      "outputs": [
        {
          "output_type": "execute_result",
          "data": {
            "text/plain": [
              "['chicken_curry',\n",
              " 'chicken_wings',\n",
              " 'fried_rice',\n",
              " 'grilled_salmon',\n",
              " 'hamburger',\n",
              " 'ice_cream',\n",
              " 'pizza',\n",
              " 'ramen',\n",
              " 'steak',\n",
              " 'sushi']"
            ]
          },
          "metadata": {
            "tags": []
          },
          "execution_count": 10
        }
      ]
    },
    {
      "cell_type": "code",
      "metadata": {
        "id": "qj0CTdudTMAz",
        "colab": {
          "base_uri": "https://localhost:8080/"
        },
        "outputId": "ffb3b0a3-b8b4-48f3-ccd2-4f86a04696d9"
      },
      "source": [
        "# See an example of batch of data\n",
        "for images, labels in train_data_10_percent.take(1) :\n",
        "  print(images, labels)"
      ],
      "execution_count": 11,
      "outputs": [
        {
          "output_type": "stream",
          "text": [
            "tf.Tensor(\n",
            "[[[[8.25714264e+01 4.05714302e+01 1.85714283e+01]\n",
            "   [8.45204086e+01 4.25204086e+01 2.05204086e+01]\n",
            "   [8.25918350e+01 4.05918388e+01 1.63775501e+01]\n",
            "   ...\n",
            "   [7.46428986e+01 3.68571663e+01 1.80714283e+01]\n",
            "   [7.01224747e+01 3.21224709e+01 1.31224718e+01]\n",
            "   [7.16172714e+01 3.36172752e+01 1.46172743e+01]]\n",
            "\n",
            "  [[8.28826523e+01 4.18826523e+01 1.98826523e+01]\n",
            "   [8.21428604e+01 4.01428604e+01 1.81428566e+01]\n",
            "   [8.35561218e+01 4.15561218e+01 1.73418369e+01]\n",
            "   ...\n",
            "   [6.90561218e+01 3.12703876e+01 1.22703876e+01]\n",
            "   [6.97958832e+01 3.17958813e+01 1.27958813e+01]\n",
            "   [7.08062897e+01 3.28062935e+01 1.38062916e+01]]\n",
            "\n",
            "  [[8.74846954e+01 4.64846954e+01 2.44846935e+01]\n",
            "   [7.75714264e+01 3.65714264e+01 1.45714273e+01]\n",
            "   [8.19234695e+01 4.00918388e+01 1.64285717e+01]\n",
            "   ...\n",
            "   [7.32142868e+01 3.53826370e+01 1.63826351e+01]\n",
            "   [7.06887589e+01 3.26887589e+01 1.32601862e+01]\n",
            "   [7.04082413e+01 3.24082375e+01 1.29796667e+01]]\n",
            "\n",
            "  ...\n",
            "\n",
            "  [[3.12806854e+01 1.87092133e+01 1.31377411e+01]\n",
            "   [3.38571434e+01 1.94285278e+01 1.27295246e+01]\n",
            "   [3.67143936e+01 1.99745502e+01 1.40000219e+01]\n",
            "   ...\n",
            "   [1.42377396e+02 1.08622292e+02 5.94285278e+01]\n",
            "   [1.42071320e+02 1.08015182e+02 6.29846306e+01]\n",
            "   [1.38494736e+02 1.03632462e+02 6.27907333e+01]]\n",
            "\n",
            "  [[3.27602119e+01 1.97602119e+01 1.37602129e+01]\n",
            "   [3.11428833e+01 1.61428833e+01 1.11428833e+01]\n",
            "   [3.60714417e+01 1.78571548e+01 1.38571558e+01]\n",
            "   ...\n",
            "   [1.34953888e+02 1.00953896e+02 5.45815010e+01]\n",
            "   [1.32061234e+02 9.70612335e+01 5.53470001e+01]\n",
            "   [1.32015137e+02 9.66120453e+01 5.94182472e+01]]\n",
            "\n",
            "  [[3.00305519e+01 1.90305519e+01 1.50305529e+01]\n",
            "   [3.49285736e+01 2.09285717e+01 1.79285717e+01]\n",
            "   [3.56428566e+01 2.00000000e+01 1.72142868e+01]\n",
            "   ...\n",
            "   [1.24586555e+02 9.05865555e+01 4.49437637e+01]\n",
            "   [1.27862137e+02 9.28621368e+01 5.30050201e+01]\n",
            "   [1.17270157e+02 8.12701569e+01 4.64437141e+01]]]\n",
            "\n",
            "\n",
            " [[[1.37448978e+01 1.29285717e+01 1.54030609e+01]\n",
            "   [1.10204077e+01 1.13775511e+01 1.40918369e+01]\n",
            "   [1.09132652e+01 1.20663261e+01 1.48571424e+01]\n",
            "   ...\n",
            "   [1.56428576e+01 1.80000648e+01 2.52143288e+01]\n",
            "   [1.43316278e+01 1.73316288e+01 2.43316288e+01]\n",
            "   [1.47143202e+01 1.77143211e+01 2.47143211e+01]]\n",
            "\n",
            "  [[3.94540863e+01 3.27142906e+01 2.31224499e+01]\n",
            "   [3.11377563e+01 2.71377583e+01 1.67091846e+01]\n",
            "   [2.71428604e+01 2.33571453e+01 1.47142868e+01]\n",
            "   ...\n",
            "   [1.56989155e+01 1.80561237e+01 2.52703876e+01]\n",
            "   [1.39948969e+01 1.69948978e+01 2.39948978e+01]\n",
            "   [1.52857494e+01 1.82857494e+01 2.52857494e+01]]\n",
            "\n",
            "  [[5.72857132e+01 4.18571396e+01 1.97857132e+01]\n",
            "   [5.99846954e+01 4.59846916e+01 2.57142830e+01]\n",
            "   [6.08979568e+01 4.72551003e+01 2.69693851e+01]\n",
            "   ...\n",
            "   [1.44744415e+01 1.68316498e+01 2.40459137e+01]\n",
            "   [1.62857285e+01 1.92857285e+01 2.62857285e+01]\n",
            "   [1.67091751e+01 1.97091751e+01 2.67091751e+01]]\n",
            "\n",
            "  ...\n",
            "\n",
            "  [[1.71397873e+02 1.76397873e+02 1.80959122e+02]\n",
            "   [1.75122421e+02 1.80122421e+02 1.83923462e+02]\n",
            "   [1.74770126e+02 1.79387482e+02 1.83004852e+02]\n",
            "   ...\n",
            "   [1.09382622e+02 1.18122444e+02 8.65255661e+01]\n",
            "   [1.05142822e+02 1.14357086e+02 8.27142944e+01]\n",
            "   [1.05928619e+02 1.15005150e+02 8.47857361e+01]]\n",
            "\n",
            "  [[1.73938599e+02 1.78938599e+02 1.84938599e+02]\n",
            "   [1.76433578e+02 1.81433578e+02 1.87433578e+02]\n",
            "   [1.71357147e+02 1.76357147e+02 1.80357147e+02]\n",
            "   ...\n",
            "   [1.05642792e+02 1.14000000e+02 8.53265305e+01]\n",
            "   [1.02214325e+02 1.11214325e+02 8.42143250e+01]\n",
            "   [1.04903160e+02 1.13903160e+02 8.69031601e+01]]\n",
            "\n",
            "  [[1.55490417e+02 1.59490417e+02 1.68490417e+02]\n",
            "   [5.34696083e+01 5.84696083e+01 6.44696045e+01]\n",
            "   [1.78703995e+02 1.83703995e+02 1.89275421e+02]\n",
            "   ...\n",
            "   [1.04219231e+02 1.12576439e+02 8.57907028e+01]\n",
            "   [1.03811226e+02 1.11811226e+02 8.78112259e+01]\n",
            "   [1.08586777e+02 1.16586777e+02 9.25867767e+01]]]\n",
            "\n",
            "\n",
            " [[[0.00000000e+00 3.00000000e+00 4.00000000e+00]\n",
            "   [9.28571701e-01 4.92857170e+00 5.21428585e+00]\n",
            "   [2.00000000e+00 6.21428585e+00 4.57142830e+00]\n",
            "   ...\n",
            "   [0.00000000e+00 1.49488389e+00 4.94883955e-01]\n",
            "   [0.00000000e+00 1.00000000e+00 0.00000000e+00]\n",
            "   [0.00000000e+00 2.00000000e+00 1.00000000e+00]]\n",
            "\n",
            "  [[0.00000000e+00 3.07142854e+00 3.92857146e+00]\n",
            "   [0.00000000e+00 4.00000000e+00 3.00000000e+00]\n",
            "   [2.00000000e+00 6.19897985e+00 4.60204077e+00]\n",
            "   ...\n",
            "   [1.53045580e-02 2.01530457e+00 1.01530457e+00]\n",
            "   [0.00000000e+00 1.06632555e+00 6.63255677e-02]\n",
            "   [0.00000000e+00 2.00000000e+00 1.00000000e+00]]\n",
            "\n",
            "  [[0.00000000e+00 4.00000000e+00 3.00000000e+00]\n",
            "   [0.00000000e+00 4.00000000e+00 3.00000000e+00]\n",
            "   [1.38265312e+00 5.38265324e+00 4.38265324e+00]\n",
            "   ...\n",
            "   [9.99978304e-01 2.99997830e+00 1.99997830e+00]\n",
            "   [0.00000000e+00 1.92855835e+00 9.28558350e-01]\n",
            "   [0.00000000e+00 2.00000000e+00 1.00000000e+00]]\n",
            "\n",
            "  ...\n",
            "\n",
            "  [[3.50000000e+01 2.90000000e+01 1.70000000e+01]\n",
            "   [3.60000000e+01 2.80000000e+01 1.70000000e+01]\n",
            "   [3.67857056e+01 2.69540787e+01 1.79540787e+01]\n",
            "   ...\n",
            "   [1.46193817e+02 1.55979553e+02 1.58622345e+02]\n",
            "   [1.40969406e+02 1.50969406e+02 1.52969406e+02]\n",
            "   [1.43999939e+02 1.53999939e+02 1.55999939e+02]]\n",
            "\n",
            "  [[3.50000000e+01 2.90000000e+01 1.51428223e+01]\n",
            "   [3.42091484e+01 2.80663280e+01 1.61377392e+01]\n",
            "   [3.50714111e+01 2.60561085e+01 1.70561085e+01]\n",
            "   ...\n",
            "   [1.48158157e+02 1.57943893e+02 1.60586685e+02]\n",
            "   [1.39010178e+02 1.49010178e+02 1.51010178e+02]\n",
            "   [1.38857056e+02 1.48857056e+02 1.50857056e+02]]\n",
            "\n",
            "  [[3.37142944e+01 2.96428528e+01 1.50000000e+01]\n",
            "   [3.40714264e+01 2.80714283e+01 1.60714283e+01]\n",
            "   [3.48622437e+01 2.58622456e+01 1.72908173e+01]\n",
            "   ...\n",
            "   [1.46647995e+02 1.56433731e+02 1.59076523e+02]\n",
            "   [1.37928558e+02 1.47928558e+02 1.49928558e+02]\n",
            "   [1.36357147e+02 1.46357147e+02 1.48357147e+02]]]\n",
            "\n",
            "\n",
            " ...\n",
            "\n",
            "\n",
            " [[[3.45714264e+01 3.25714264e+01 3.55714264e+01]\n",
            "   [3.26683655e+01 3.06683674e+01 3.36683655e+01]\n",
            "   [2.40000000e+01 2.20000000e+01 2.50000000e+01]\n",
            "   ...\n",
            "   [1.21377411e+01 1.61377411e+01 1.91377411e+01]\n",
            "   [8.81118965e+00 1.28111897e+01 1.58111897e+01]\n",
            "   [5.99996519e+00 6.99996519e+00 1.09999647e+01]]\n",
            "\n",
            "  [[1.44285698e+01 1.24285698e+01 1.54285698e+01]\n",
            "   [1.24999981e+01 1.04999981e+01 1.34999981e+01]\n",
            "   [1.11836729e+01 9.18367290e+00 1.21836729e+01]\n",
            "   ...\n",
            "   [1.44846516e+01 1.54846516e+01 1.94846516e+01]\n",
            "   [9.92345524e+00 1.09234552e+01 1.49234552e+01]\n",
            "   [6.57139397e+00 7.57139397e+00 1.15713940e+01]]\n",
            "\n",
            "  [[1.20000000e+01 1.00000000e+01 1.50000000e+01]\n",
            "   [1.21989794e+01 1.01989794e+01 1.51989794e+01]\n",
            "   [1.30000000e+01 1.10000000e+01 1.60000000e+01]\n",
            "   ...\n",
            "   [1.45969219e+01 1.34285498e+01 1.84285507e+01]\n",
            "   [1.21428442e+01 1.09285583e+01 1.59285583e+01]\n",
            "   [1.12142859e+01 1.00000000e+01 1.50000000e+01]]\n",
            "\n",
            "  ...\n",
            "\n",
            "  [[1.53566513e+02 1.53780777e+02 1.45780777e+02]\n",
            "   [1.45071243e+02 1.44499771e+02 1.38856979e+02]\n",
            "   [2.86063232e+01 2.79889355e+01 2.42491589e+01]\n",
            "   ...\n",
            "   [1.14505371e+02 1.00362427e+02 7.95766907e+01]\n",
            "   [1.35418320e+02 1.17489754e+02 9.33468704e+01]\n",
            "   [1.50541092e+02 1.30617630e+02 1.03388031e+02]]\n",
            "\n",
            "  [[1.56938599e+02 1.55938599e+02 1.50938599e+02]\n",
            "   [5.71219292e+01 5.61219292e+01 5.11882668e+01]\n",
            "   [1.41480131e+01 1.29337273e+01 1.15765848e+01]\n",
            "   ...\n",
            "   [1.04331749e+02 9.18061981e+01 7.30051575e+01]\n",
            "   [1.39020416e+02 1.22954079e+02 9.80204163e+01]\n",
            "   [1.43887466e+02 1.24025246e+02 9.89793167e+01]]\n",
            "\n",
            "  [[9.43407288e+01 9.33407288e+01 8.83407288e+01]\n",
            "   [1.13981552e+01 1.03981552e+01 6.39815521e+00]\n",
            "   [1.48875551e+01 1.36732693e+01 1.23161268e+01]\n",
            "   ...\n",
            "   [1.17138573e+02 1.05209892e+02 8.67711868e+01]\n",
            "   [1.35444336e+02 1.19444336e+02 9.63014526e+01]\n",
            "   [1.39780457e+02 1.22780457e+02 9.67804565e+01]]]\n",
            "\n",
            "\n",
            " [[[2.22500000e+02 2.20500000e+02 2.07500000e+02]\n",
            "   [2.22591843e+02 2.20591843e+02 2.07591843e+02]\n",
            "   [2.25346939e+02 2.23346939e+02 2.10346939e+02]\n",
            "   ...\n",
            "   [2.23300995e+02 2.22872467e+02 2.10872467e+02]\n",
            "   [2.20454071e+02 2.20454071e+02 2.08454071e+02]\n",
            "   [2.21153107e+02 2.21153107e+02 2.09153107e+02]]\n",
            "\n",
            "  [[2.21714279e+02 2.19714279e+02 2.06714279e+02]\n",
            "   [2.20142853e+02 2.18142853e+02 2.05142853e+02]\n",
            "   [2.18913269e+02 2.16913269e+02 2.04127548e+02]\n",
            "   ...\n",
            "   [2.20224472e+02 2.18224472e+02 2.06224472e+02]\n",
            "   [2.19423462e+02 2.19423462e+02 2.07423462e+02]\n",
            "   [2.19994888e+02 2.19994888e+02 2.07994888e+02]]\n",
            "\n",
            "  [[2.19581635e+02 2.20581635e+02 2.06153061e+02]\n",
            "   [2.19443878e+02 2.20443878e+02 2.06443878e+02]\n",
            "   [2.22188782e+02 2.19928574e+02 2.08571442e+02]\n",
            "   ...\n",
            "   [2.26096985e+02 2.23668457e+02 2.11882721e+02]\n",
            "   [2.22499969e+02 2.22071396e+02 2.10071396e+02]\n",
            "   [2.21627640e+02 2.21627640e+02 2.09627640e+02]]\n",
            "\n",
            "  ...\n",
            "\n",
            "  [[2.20653030e+02 2.21653030e+02 2.07653030e+02]\n",
            "   [2.20301102e+02 2.21301102e+02 2.07301102e+02]\n",
            "   [2.15642853e+02 2.16642853e+02 2.02642853e+02]\n",
            "   ...\n",
            "   [2.18428528e+02 2.18428528e+02 2.06428528e+02]\n",
            "   [2.18627487e+02 2.18627487e+02 2.06627487e+02]\n",
            "   [2.21984863e+02 2.21984863e+02 2.09984863e+02]]\n",
            "\n",
            "  [[2.18887802e+02 2.19887802e+02 2.05887802e+02]\n",
            "   [2.22443802e+02 2.23443802e+02 2.09443802e+02]\n",
            "   [2.22530579e+02 2.23530579e+02 2.09530579e+02]\n",
            "   ...\n",
            "   [2.20698990e+02 2.20698990e+02 2.08698990e+02]\n",
            "   [2.19923462e+02 2.19923462e+02 2.07923462e+02]\n",
            "   [2.19903137e+02 2.19903137e+02 2.07903137e+02]]\n",
            "\n",
            "  [[2.20004974e+02 2.21004974e+02 2.07004974e+02]\n",
            "   [2.20234894e+02 2.21234894e+02 2.07234894e+02]\n",
            "   [2.17494919e+02 2.18494919e+02 2.04494919e+02]\n",
            "   ...\n",
            "   [2.17505081e+02 2.17505081e+02 2.05505081e+02]\n",
            "   [2.22596985e+02 2.22596985e+02 2.10596985e+02]\n",
            "   [2.20071533e+02 2.20071533e+02 2.08071533e+02]]]\n",
            "\n",
            "\n",
            " [[[0.00000000e+00 0.00000000e+00 0.00000000e+00]\n",
            "   [0.00000000e+00 0.00000000e+00 0.00000000e+00]\n",
            "   [0.00000000e+00 0.00000000e+00 0.00000000e+00]\n",
            "   ...\n",
            "   [6.42857194e-01 5.28571415e+00 0.00000000e+00]\n",
            "   [6.42857194e-01 5.28571415e+00 0.00000000e+00]\n",
            "   [6.42857194e-01 5.28571415e+00 0.00000000e+00]]\n",
            "\n",
            "  [[0.00000000e+00 0.00000000e+00 0.00000000e+00]\n",
            "   [0.00000000e+00 0.00000000e+00 0.00000000e+00]\n",
            "   [0.00000000e+00 0.00000000e+00 0.00000000e+00]\n",
            "   ...\n",
            "   [7.14282990e-02 5.07142830e+00 0.00000000e+00]\n",
            "   [7.14282990e-02 5.07142830e+00 0.00000000e+00]\n",
            "   [7.14282990e-02 5.07142830e+00 0.00000000e+00]]\n",
            "\n",
            "  [[0.00000000e+00 0.00000000e+00 0.00000000e+00]\n",
            "   [0.00000000e+00 0.00000000e+00 0.00000000e+00]\n",
            "   [0.00000000e+00 0.00000000e+00 0.00000000e+00]\n",
            "   ...\n",
            "   [1.78571415e+00 7.21428585e+00 1.00000000e+00]\n",
            "   [1.78571415e+00 7.21428585e+00 1.00000000e+00]\n",
            "   [1.78571415e+00 7.21428585e+00 1.00000000e+00]]\n",
            "\n",
            "  ...\n",
            "\n",
            "  [[4.93619118e+01 5.53619118e+01 5.53619118e+01]\n",
            "   [4.35150642e+01 4.95150642e+01 4.95150642e+01]\n",
            "   [3.96222191e+01 4.56222191e+01 4.56222191e+01]\n",
            "   ...\n",
            "   [1.37704544e+01 2.53419266e+01 1.23214283e+01]\n",
            "   [5.70895529e+00 1.90661640e+01 4.28042746e+00]\n",
            "   [2.08931828e+01 3.42503891e+01 1.94646549e+01]]\n",
            "\n",
            "  [[2.95969296e+01 3.85969315e+01 3.75969315e+01]\n",
            "   [2.99948845e+01 3.89948807e+01 3.79948807e+01]\n",
            "   [2.79285583e+01 3.69285583e+01 3.59285583e+01]\n",
            "   ...\n",
            "   [8.10753918e+00 2.58780289e+01 1.04493790e+01]\n",
            "   [2.66384201e+01 4.97915115e+01 3.17200699e+01]\n",
            "   [6.84191284e+01 9.17763367e+01 7.16334534e+01]]\n",
            "\n",
            "  [[3.03571434e+01 4.03571434e+01 3.93571434e+01]\n",
            "   [2.86428223e+01 3.86428223e+01 3.76428223e+01]\n",
            "   [2.74285355e+01 3.74285355e+01 3.64285355e+01]\n",
            "   ...\n",
            "   [6.18991814e+01 8.46237183e+01 6.71899796e+01]\n",
            "   [9.39334869e+01 1.22004929e+02 1.00004929e+02]\n",
            "   [8.72957077e+01 1.17367241e+02 9.50100632e+01]]]], shape=(32, 224, 224, 3), dtype=float32) tf.Tensor(\n",
            "[[0. 0. 0. 0. 0. 0. 0. 1. 0. 0.]\n",
            " [0. 0. 0. 0. 0. 1. 0. 0. 0. 0.]\n",
            " [0. 0. 1. 0. 0. 0. 0. 0. 0. 0.]\n",
            " [0. 0. 0. 0. 0. 0. 1. 0. 0. 0.]\n",
            " [0. 0. 0. 0. 1. 0. 0. 0. 0. 0.]\n",
            " [0. 0. 0. 0. 0. 0. 0. 0. 0. 1.]\n",
            " [1. 0. 0. 0. 0. 0. 0. 0. 0. 0.]\n",
            " [1. 0. 0. 0. 0. 0. 0. 0. 0. 0.]\n",
            " [0. 0. 0. 1. 0. 0. 0. 0. 0. 0.]\n",
            " [0. 0. 1. 0. 0. 0. 0. 0. 0. 0.]\n",
            " [1. 0. 0. 0. 0. 0. 0. 0. 0. 0.]\n",
            " [0. 1. 0. 0. 0. 0. 0. 0. 0. 0.]\n",
            " [0. 0. 0. 0. 0. 0. 0. 0. 0. 1.]\n",
            " [0. 0. 0. 0. 0. 0. 1. 0. 0. 0.]\n",
            " [0. 0. 0. 0. 0. 0. 1. 0. 0. 0.]\n",
            " [0. 0. 0. 0. 1. 0. 0. 0. 0. 0.]\n",
            " [0. 0. 0. 0. 0. 1. 0. 0. 0. 0.]\n",
            " [0. 0. 0. 1. 0. 0. 0. 0. 0. 0.]\n",
            " [0. 0. 0. 1. 0. 0. 0. 0. 0. 0.]\n",
            " [0. 0. 0. 0. 0. 0. 0. 0. 1. 0.]\n",
            " [0. 0. 0. 1. 0. 0. 0. 0. 0. 0.]\n",
            " [0. 0. 0. 0. 0. 1. 0. 0. 0. 0.]\n",
            " [0. 0. 0. 0. 0. 0. 0. 0. 1. 0.]\n",
            " [0. 0. 0. 0. 0. 1. 0. 0. 0. 0.]\n",
            " [0. 0. 0. 0. 1. 0. 0. 0. 0. 0.]\n",
            " [0. 0. 0. 0. 1. 0. 0. 0. 0. 0.]\n",
            " [0. 0. 1. 0. 0. 0. 0. 0. 0. 0.]\n",
            " [0. 0. 1. 0. 0. 0. 0. 0. 0. 0.]\n",
            " [0. 0. 0. 0. 0. 0. 1. 0. 0. 0.]\n",
            " [0. 0. 0. 0. 0. 1. 0. 0. 0. 0.]\n",
            " [0. 0. 0. 0. 0. 0. 1. 0. 0. 0.]\n",
            " [1. 0. 0. 0. 0. 0. 0. 0. 0. 0.]], shape=(32, 10), dtype=float32)\n"
          ],
          "name": "stdout"
        }
      ]
    },
    {
      "cell_type": "markdown",
      "metadata": {
        "id": "t9EaOcgFSnCt"
      },
      "source": [
        "## Model 0 : Building a transfer learning feature extraction model using the Keras Functional API\n",
        "The sequential API is straight-forward, it runs our layers in sequential order.\n",
        "But the functional API gives ur more flexibility with our models -https://www.tensorflow.org/guide/keras/functional"
      ]
    },
    {
      "cell_type": "code",
      "metadata": {
        "id": "4NSf5GTx6nKB",
        "outputId": "c1c39976-dd9b-4ee4-f6c4-03f8fcc4a115",
        "colab": {
          "base_uri": "https://localhost:8080/"
        }
      },
      "source": [
        "# 1. Create base model with tf.keras.applications\n",
        "base_model = tf.keras.applications.EfficientNetB0(include_top=False)\n",
        "\n",
        "# 2. Freeze the base model(so the underlying pre-trained patterns aren't updated during training)\n",
        "base_model.trainable = False\n",
        "\n",
        "# 3. Create inputs into our model\n",
        "inputs = tf.keras.layers.Input(shape=(224, 224, 3) , name=\"input_layer\")\n",
        "\n",
        "# 4. If using ResNet50V2 you will need to normalize inputs(Not required for EfficientNet)\n",
        "# x = tf.keras.layers.experimental.preprocessing.Rescaling(1./255)(inputs)\n",
        "\n",
        "# 5. Pass the inputs to the base_model\n",
        "x = base_model(inputs)\n",
        "print(f\"Shape after passing inputs through base model : {x.shape}\")\n",
        "\n",
        "# 6. Average pool the outputs of the base model (aggregate all the most important information, reduce number of computations)\n",
        "x = tf.keras.layers.GlobalAveragePooling2D(name=\"global_average_pooling_layer\")(x)\n",
        "print(f\"Shape after GlobalAveragePooling2D : {x.shape}\")\n",
        "\n",
        "# 7. Create the output activation layer\n",
        "outputs = tf.keras.layers.Dense(10, activation=\"softmax\", name=\"output_layer\")(x)\n",
        "\n",
        "# 8. Combine the inputs with the outputs\n",
        "model_0 = tf.keras.Model(inputs, outputs)\n",
        "\n",
        "# 9. Compile the model\n",
        "\n",
        "# 10. Fit the model and save its history\n",
        "\n",
        "\n",
        "\n",
        "\n"
      ],
      "execution_count": 14,
      "outputs": [
        {
          "output_type": "stream",
          "text": [
            "Downloading data from https://storage.googleapis.com/keras-applications/efficientnetb0_notop.h5\n",
            "16711680/16705208 [==============================] - 0s 0us/step\n"
          ],
          "name": "stdout"
        }
      ]
    },
    {
      "cell_type": "markdown",
      "metadata": {
        "id": "ZpJc_gZpr732"
      },
      "source": [
        ""
      ]
    }
  ]
}