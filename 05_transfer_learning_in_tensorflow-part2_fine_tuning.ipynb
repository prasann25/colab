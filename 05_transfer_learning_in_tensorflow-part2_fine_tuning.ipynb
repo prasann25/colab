{
  "nbformat": 4,
  "nbformat_minor": 0,
  "metadata": {
    "colab": {
      "name": "05_transfer_learning_in_tensorflow-part2_fine_tuning",
      "provenance": [],
      "authorship_tag": "ABX9TyNK96UD00oBYr6OpCDJ9oZd",
      "include_colab_link": true
    },
    "kernelspec": {
      "name": "python3",
      "display_name": "Python 3"
    },
    "language_info": {
      "name": "python"
    },
    "accelerator": "GPU"
  },
  "cells": [
    {
      "cell_type": "markdown",
      "metadata": {
        "id": "view-in-github",
        "colab_type": "text"
      },
      "source": [
        "<a href=\"https://colab.research.google.com/github/prasann25/colab/blob/main/05_transfer_learning_in_tensorflow-part2_fine_tuning.ipynb\" target=\"_parent\"><img src=\"https://colab.research.google.com/assets/colab-badge.svg\" alt=\"Open In Colab\"/></a>"
      ]
    },
    {
      "cell_type": "markdown",
      "metadata": {
        "id": "-8fbclEDHYdu"
      },
      "source": [
        "# Transfer Learning with TensorFlow 2 : Fine-Tuning\n",
        "\n",
        "In the previous notebook, we covered transfer learning feature extraction, now it's time to learn about a new kind of transfer learning : fine-tuning"
      ]
    },
    {
      "cell_type": "code",
      "metadata": {
        "colab": {
          "base_uri": "https://localhost:8080/"
        },
        "id": "SUpZSP-wnclf",
        "outputId": "ff67e3a9-e16c-4266-b37f-e2b0676a26a0"
      },
      "source": [
        "# Check if we're using a GPU\n",
        "!nvidia-smi"
      ],
      "execution_count": 1,
      "outputs": [
        {
          "output_type": "stream",
          "text": [
            "Tue Jul 13 18:55:42 2021       \n",
            "+-----------------------------------------------------------------------------+\n",
            "| NVIDIA-SMI 470.42.01    Driver Version: 460.32.03    CUDA Version: 11.2     |\n",
            "|-------------------------------+----------------------+----------------------+\n",
            "| GPU  Name        Persistence-M| Bus-Id        Disp.A | Volatile Uncorr. ECC |\n",
            "| Fan  Temp  Perf  Pwr:Usage/Cap|         Memory-Usage | GPU-Util  Compute M. |\n",
            "|                               |                      |               MIG M. |\n",
            "|===============================+======================+======================|\n",
            "|   0  Tesla T4            Off  | 00000000:00:04.0 Off |                    0 |\n",
            "| N/A   59C    P8    10W /  70W |      0MiB / 15109MiB |      0%      Default |\n",
            "|                               |                      |                  N/A |\n",
            "+-------------------------------+----------------------+----------------------+\n",
            "                                                                               \n",
            "+-----------------------------------------------------------------------------+\n",
            "| Processes:                                                                  |\n",
            "|  GPU   GI   CI        PID   Type   Process name                  GPU Memory |\n",
            "|        ID   ID                                                   Usage      |\n",
            "|=============================================================================|\n",
            "|  No running processes found                                                 |\n",
            "+-----------------------------------------------------------------------------+\n"
          ],
          "name": "stdout"
        }
      ]
    },
    {
      "cell_type": "markdown",
      "metadata": {
        "id": "LUuEdLejnPAy"
      },
      "source": [
        "## Creating helper functions\n",
        "In previous notebooks, we created a bunch of helper functions, now we could rewrite them all, however this is tedious.\n",
        "\n",
        "So, it's a good idea to put functions you'll want to use again in a script you can download some of the functions we've used previously here : https://raw.githubusercontent.com/mrdbourke/tensorflow-deep-learning/main/extras/helper_functions.py"
      ]
    },
    {
      "cell_type": "code",
      "metadata": {
        "colab": {
          "base_uri": "https://localhost:8080/"
        },
        "id": "Dnl3ZeqfoK8p",
        "outputId": "305b6e89-7482-40ed-887c-2a6a175f9c35"
      },
      "source": [
        "!wget https://raw.githubusercontent.com/mrdbourke/tensorflow-deep-learning/main/extras/helper_functions.py\n"
      ],
      "execution_count": 2,
      "outputs": [
        {
          "output_type": "stream",
          "text": [
            "--2021-07-13 18:55:42--  https://raw.githubusercontent.com/mrdbourke/tensorflow-deep-learning/main/extras/helper_functions.py\n",
            "Resolving raw.githubusercontent.com (raw.githubusercontent.com)... 185.199.110.133, 185.199.111.133, 185.199.108.133, ...\n",
            "Connecting to raw.githubusercontent.com (raw.githubusercontent.com)|185.199.110.133|:443... connected.\n",
            "HTTP request sent, awaiting response... 200 OK\n",
            "Length: 10246 (10K) [text/plain]\n",
            "Saving to: ‘helper_functions.py’\n",
            "\n",
            "helper_functions.py 100%[===================>]  10.01K  --.-KB/s    in 0s      \n",
            "\n",
            "2021-07-13 18:55:42 (104 MB/s) - ‘helper_functions.py’ saved [10246/10246]\n",
            "\n"
          ],
          "name": "stdout"
        }
      ]
    },
    {
      "cell_type": "code",
      "metadata": {
        "id": "5N4QHs-LoPN1"
      },
      "source": [
        "# Import helper functions we're going to use in this notebook\n",
        "from helper_functions import create_tensorboard_callback, plot_loss_curves, unzip_data, walk_through_dir"
      ],
      "execution_count": 3,
      "outputs": []
    },
    {
      "cell_type": "markdown",
      "metadata": {
        "id": "OU7bj8Bgos2X"
      },
      "source": [
        "> **Note** : If you're running this notebook in Google Colab, when it times out Colab will delete `helper functions`, so you'll have to re-download it if you want access to your helper functions."
      ]
    },
    {
      "cell_type": "markdown",
      "metadata": {
        "id": "tv4LSf_Lq1tt"
      },
      "source": [
        "## Let's get some data\n",
        "\n",
        "This time we're going to see how we can use the pre-trained models within `tf.keras.applications`  (recognizing images of food)\n",
        " link : https://www.tensorflow.org/api_docs/python/tf/keras/applications"
      ]
    },
    {
      "cell_type": "code",
      "metadata": {
        "colab": {
          "base_uri": "https://localhost:8080/"
        },
        "id": "NvNzGBXZq_AK",
        "outputId": "10d587d5-e96f-4974-ab9b-4d74f05050cd"
      },
      "source": [
        "# Get 10% of training data of 10 classes of Food101\n",
        "!wget https://storage.googleapis.com/ztm_tf_course/food_vision/10_food_classes_10_percent.zip\n",
        "\n",
        "unzip_data(\"10_food_classes_10_percent.zip\")"
      ],
      "execution_count": 4,
      "outputs": [
        {
          "output_type": "stream",
          "text": [
            "--2021-07-13 18:55:44--  https://storage.googleapis.com/ztm_tf_course/food_vision/10_food_classes_10_percent.zip\n",
            "Resolving storage.googleapis.com (storage.googleapis.com)... 74.125.142.128, 74.125.195.128, 2607:f8b0:400e:c08::80, ...\n",
            "Connecting to storage.googleapis.com (storage.googleapis.com)|74.125.142.128|:443... connected.\n",
            "HTTP request sent, awaiting response... 200 OK\n",
            "Length: 168546183 (161M) [application/zip]\n",
            "Saving to: ‘10_food_classes_10_percent.zip’\n",
            "\n",
            "10_food_classes_10_ 100%[===================>] 160.74M  91.8MB/s    in 1.8s    \n",
            "\n",
            "2021-07-13 18:55:46 (91.8 MB/s) - ‘10_food_classes_10_percent.zip’ saved [168546183/168546183]\n",
            "\n"
          ],
          "name": "stdout"
        }
      ]
    },
    {
      "cell_type": "code",
      "metadata": {
        "colab": {
          "base_uri": "https://localhost:8080/"
        },
        "id": "d4HzKzjbsyCR",
        "outputId": "3e490bd6-bb88-4ee5-e694-9ee99815deb4"
      },
      "source": [
        "# Check out how many image and subdirectories are in our dataset\n",
        "walk_through_dir(\"10_food_classes_10_percent\")"
      ],
      "execution_count": 5,
      "outputs": [
        {
          "output_type": "stream",
          "text": [
            "There are 2 directories and 0 images in '10_food_classes_10_percent'.\n",
            "There are 10 directories and 0 images in '10_food_classes_10_percent/test'.\n",
            "There are 0 directories and 250 images in '10_food_classes_10_percent/test/chicken_curry'.\n",
            "There are 0 directories and 250 images in '10_food_classes_10_percent/test/ramen'.\n",
            "There are 0 directories and 250 images in '10_food_classes_10_percent/test/sushi'.\n",
            "There are 0 directories and 250 images in '10_food_classes_10_percent/test/grilled_salmon'.\n",
            "There are 0 directories and 250 images in '10_food_classes_10_percent/test/ice_cream'.\n",
            "There are 0 directories and 250 images in '10_food_classes_10_percent/test/chicken_wings'.\n",
            "There are 0 directories and 250 images in '10_food_classes_10_percent/test/pizza'.\n",
            "There are 0 directories and 250 images in '10_food_classes_10_percent/test/hamburger'.\n",
            "There are 0 directories and 250 images in '10_food_classes_10_percent/test/steak'.\n",
            "There are 0 directories and 250 images in '10_food_classes_10_percent/test/fried_rice'.\n",
            "There are 10 directories and 0 images in '10_food_classes_10_percent/train'.\n",
            "There are 0 directories and 75 images in '10_food_classes_10_percent/train/chicken_curry'.\n",
            "There are 0 directories and 75 images in '10_food_classes_10_percent/train/ramen'.\n",
            "There are 0 directories and 75 images in '10_food_classes_10_percent/train/sushi'.\n",
            "There are 0 directories and 75 images in '10_food_classes_10_percent/train/grilled_salmon'.\n",
            "There are 0 directories and 75 images in '10_food_classes_10_percent/train/ice_cream'.\n",
            "There are 0 directories and 75 images in '10_food_classes_10_percent/train/chicken_wings'.\n",
            "There are 0 directories and 75 images in '10_food_classes_10_percent/train/pizza'.\n",
            "There are 0 directories and 75 images in '10_food_classes_10_percent/train/hamburger'.\n",
            "There are 0 directories and 75 images in '10_food_classes_10_percent/train/steak'.\n",
            "There are 0 directories and 75 images in '10_food_classes_10_percent/train/fried_rice'.\n"
          ],
          "name": "stdout"
        }
      ]
    },
    {
      "cell_type": "code",
      "metadata": {
        "id": "_aG4W0bYBgJU"
      },
      "source": [
        "# Create training and test directory paths\n",
        "train_dir =\"10_food_classes_10_percent/train\"\n",
        "test_dir =\"10_food_classes_10_percent/test\""
      ],
      "execution_count": 6,
      "outputs": []
    },
    {
      "cell_type": "code",
      "metadata": {
        "id": "rZYCeBBhBqjl"
      },
      "source": [
        "import tensorflow as tf"
      ],
      "execution_count": 7,
      "outputs": []
    },
    {
      "cell_type": "code",
      "metadata": {
        "id": "3xm1uuZ9BuYt",
        "outputId": "a0be0d2c-8ae5-4484-a197-629f0938f943",
        "colab": {
          "base_uri": "https://localhost:8080/"
        }
      },
      "source": [
        "# Preprocess image dataset in a directory https://www.tensorflow.org/api_docs/python/tf/keras/preprocessing/image_dataset_from_directory\n",
        "\n",
        "IMG_SIZE=(224, 224)\n",
        "BATCH_SIZE = 32\n",
        "train_data_10_percent = tf.keras.preprocessing.image_dataset_from_directory(directory = train_dir,\n",
        "                                                                            image_size=IMG_SIZE,\n",
        "                                                                            label_mode=\"categorical\",\n",
        "                                                                            batch_size=BATCH_SIZE)\n",
        "test_data = tf.keras.preprocessing.image_dataset_from_directory(directory=test_dir,\n",
        "                                                                image_size=IMG_SIZE,\n",
        "                                                                label_mode=\"categorical\",\n",
        "                                                                batch_size=BATCH_SIZE)"
      ],
      "execution_count": 9,
      "outputs": [
        {
          "output_type": "stream",
          "text": [
            "Found 750 files belonging to 10 classes.\n",
            "Found 2500 files belonging to 10 classes.\n"
          ],
          "name": "stdout"
        }
      ]
    },
    {
      "cell_type": "code",
      "metadata": {
        "id": "W4y-ViacP8DQ",
        "outputId": "c2a7ad5f-442a-42f8-fac5-7d6e86056f11",
        "colab": {
          "base_uri": "https://localhost:8080/"
        }
      },
      "source": [
        "train_data_10_percent"
      ],
      "execution_count": 10,
      "outputs": [
        {
          "output_type": "execute_result",
          "data": {
            "text/plain": [
              "<BatchDataset shapes: ((None, 224, 224, 3), (None, 10)), types: (tf.float32, tf.float32)>"
            ]
          },
          "metadata": {
            "tags": []
          },
          "execution_count": 10
        }
      ]
    },
    {
      "cell_type": "code",
      "metadata": {
        "id": "8VYlovqJS6DV",
        "outputId": "3c96764f-5525-4951-b856-ad360dfc6985",
        "colab": {
          "base_uri": "https://localhost:8080/"
        }
      },
      "source": [
        "# Check out the class names of our dataset\n",
        "train_data_10_percent.class_names"
      ],
      "execution_count": 11,
      "outputs": [
        {
          "output_type": "execute_result",
          "data": {
            "text/plain": [
              "['chicken_curry',\n",
              " 'chicken_wings',\n",
              " 'fried_rice',\n",
              " 'grilled_salmon',\n",
              " 'hamburger',\n",
              " 'ice_cream',\n",
              " 'pizza',\n",
              " 'ramen',\n",
              " 'steak',\n",
              " 'sushi']"
            ]
          },
          "metadata": {
            "tags": []
          },
          "execution_count": 11
        }
      ]
    },
    {
      "cell_type": "code",
      "metadata": {
        "id": "qj0CTdudTMAz",
        "outputId": "01cedd16-51ce-43d4-be20-e6bdd0c99fc2",
        "colab": {
          "base_uri": "https://localhost:8080/"
        }
      },
      "source": [
        "# See an example of batch of data\n",
        "for images, labels in train_data_10_percent.take(1) :\n",
        "  print(images, labels)"
      ],
      "execution_count": 12,
      "outputs": [
        {
          "output_type": "stream",
          "text": [
            "tf.Tensor(\n",
            "[[[[157.51834   162.06203   131.58035  ]\n",
            "   [157.7677    158.72609   126.93064  ]\n",
            "   [163.72083   161.47768   127.25638  ]\n",
            "   ...\n",
            "   [ 57.381016   66.87476    51.37685  ]\n",
            "   [ 55.165974   62.497925   49.70249  ]\n",
            "   [ 58.946938   64.255745   53.776367 ]]\n",
            "\n",
            "  [[165.53206   166.70026   134.06186  ]\n",
            "   [163.04465   162.93112   129.00462  ]\n",
            "   [170.7138    167.0429    130.62053  ]\n",
            "   ...\n",
            "   [ 98.00001   111.9678     96.9839   ]\n",
            "   [102.67637   115.598236   98.93273  ]\n",
            "   [112.2188    123.00452   107.2188   ]]\n",
            "\n",
            "  [[173.02519   170.0137    133.67252  ]\n",
            "   [170.57812   166.27136   128.99234  ]\n",
            "   [169.14493   161.51036   122.355545 ]\n",
            "   ...\n",
            "   [140.67867   156.84749   137.83421  ]\n",
            "   [137.99075   152.97688   128.95007  ]\n",
            "   [143.86165   157.86165   130.36401  ]]\n",
            "\n",
            "  ...\n",
            "\n",
            "  [[126.49313   128.49312   127.49313  ]\n",
            "   [127.935265  129.93527   128.93527  ]\n",
            "   [126.22545   128.22545   125.67634  ]\n",
            "   ...\n",
            "   [190.60858   200.03711   206.82285  ]\n",
            "   [189.06473   198.49326   205.27899  ]\n",
            "   [188.86177   199.30408   205.58293  ]]\n",
            "\n",
            "  [[123.95391   127.95391   126.95391  ]\n",
            "   [127.        129.        128.       ]\n",
            "   [126.22545   128.22545   125.67634  ]\n",
            "   ...\n",
            "   [191.56519   198.56519   206.56519  ]\n",
            "   [190.00462   197.00462   205.00462  ]\n",
            "   [189.67047   198.61975   205.64511  ]]\n",
            "\n",
            "  [[123.35491   127.35491   126.35491  ]\n",
            "   [127.        129.        128.       ]\n",
            "   [126.22545   128.22545   125.67634  ]\n",
            "   ...\n",
            "   [192.27664   199.27664   207.27664  ]\n",
            "   [191.39879   198.39879   206.39879  ]\n",
            "   [190.35489   197.35489   205.35489  ]]]\n",
            "\n",
            "\n",
            " [[[  0.          0.          0.       ]\n",
            "   [  0.          0.          0.       ]\n",
            "   [  0.          0.          0.       ]\n",
            "   ...\n",
            "   [  0.          0.          0.       ]\n",
            "   [  0.          0.          0.       ]\n",
            "   [  0.          0.          0.       ]]\n",
            "\n",
            "  [[  0.          0.          0.       ]\n",
            "   [  0.          0.          0.       ]\n",
            "   [  0.          0.          0.       ]\n",
            "   ...\n",
            "   [  0.          0.          0.       ]\n",
            "   [  0.          0.          0.       ]\n",
            "   [  0.          0.          0.       ]]\n",
            "\n",
            "  [[  0.          0.          0.       ]\n",
            "   [  0.          0.          0.       ]\n",
            "   [  0.          0.          0.       ]\n",
            "   ...\n",
            "   [  0.          0.          0.       ]\n",
            "   [  0.          0.          0.       ]\n",
            "   [  0.          0.          0.       ]]\n",
            "\n",
            "  ...\n",
            "\n",
            "  [[  0.          0.          0.       ]\n",
            "   [  0.          0.          0.       ]\n",
            "   [  0.          0.          0.       ]\n",
            "   ...\n",
            "   [  0.          0.          0.       ]\n",
            "   [  0.          0.          0.       ]\n",
            "   [  0.          0.          0.       ]]\n",
            "\n",
            "  [[  0.          0.          0.       ]\n",
            "   [  0.          0.          0.       ]\n",
            "   [  0.          0.          0.       ]\n",
            "   ...\n",
            "   [  0.          0.          0.       ]\n",
            "   [  0.          0.          0.       ]\n",
            "   [  0.          0.          0.       ]]\n",
            "\n",
            "  [[  0.          0.          0.       ]\n",
            "   [  0.          0.          0.       ]\n",
            "   [  0.          0.          0.       ]\n",
            "   ...\n",
            "   [  0.          0.          0.       ]\n",
            "   [  0.          0.          0.       ]\n",
            "   [  0.          0.          0.       ]]]\n",
            "\n",
            "\n",
            " [[[ 43.484695   23.897959   16.897959 ]\n",
            "   [ 39.663265   22.520409   14.591837 ]\n",
            "   [ 38.872448   25.086735   16.086735 ]\n",
            "   ...\n",
            "   [ 59.709213   42.85712    22.918339 ]\n",
            "   [ 60.025463   39.025463   18.025463 ]\n",
            "   [ 57.944004   37.944004   13.944005 ]]\n",
            "\n",
            "  [[ 48.52551    31.12245    21.12245  ]\n",
            "   [ 37.765305   23.346937   12.484692 ]\n",
            "   [ 44.94388    33.22959    21.285715 ]\n",
            "   ...\n",
            "   [ 56.729633   40.15816    21.83165  ]\n",
            "   [ 60.57135    42.57135    22.295816 ]\n",
            "   [ 56.857315   35.857315   14.857317 ]]\n",
            "\n",
            "  [[ 58.341835   44.5        29.204082 ]\n",
            "   [ 51.97959    40.05102    23.821428 ]\n",
            "   [ 47.59694    40.59694    22.765306 ]\n",
            "   ...\n",
            "   [ 50.454193   35.88272    17.31125  ]\n",
            "   [ 58.60719    41.60719    21.60719  ]\n",
            "   [ 60.188633   42.40292    22.40292  ]]\n",
            "\n",
            "  ...\n",
            "\n",
            "  [[247.88293   250.31146   249.73999  ]\n",
            "   [235.43909   237.86761   237.29614  ]\n",
            "   [232.30093   233.46924   236.28044  ]\n",
            "   ...\n",
            "   [254.        255.        250.       ]\n",
            "   [254.        255.        250.       ]\n",
            "   [254.        255.        250.       ]]\n",
            "\n",
            "  [[248.97958   254.02551   247.21936  ]\n",
            "   [251.92346   253.9949    248.71933  ]\n",
            "   [254.27042   254.80103   250.39795  ]\n",
            "   ...\n",
            "   [254.        255.        250.       ]\n",
            "   [254.        255.        250.       ]\n",
            "   [254.        255.        250.       ]]\n",
            "\n",
            "  [[250.35718   255.        244.81633  ]\n",
            "   [252.90807   254.66833   244.9999   ]\n",
            "   [252.4592    253.52554   244.68362  ]\n",
            "   ...\n",
            "   [254.        255.        250.       ]\n",
            "   [254.        255.        250.       ]\n",
            "   [254.        255.        250.       ]]]\n",
            "\n",
            "\n",
            " ...\n",
            "\n",
            "\n",
            " [[[245.2857    245.2857    245.2857   ]\n",
            "   [247.92857   247.92857   247.92857  ]\n",
            "   [247.92348   247.92348   247.92348  ]\n",
            "   ...\n",
            "   [246.43367   246.43367   246.43367  ]\n",
            "   [245.33163   245.33163   245.33163  ]\n",
            "   [245.64285   245.64285   245.64285  ]]\n",
            "\n",
            "  [[244.71428   244.71428   244.71428  ]\n",
            "   [246.07143   246.07143   246.07143  ]\n",
            "   [246.85715   246.85715   246.85715  ]\n",
            "   ...\n",
            "   [246.0153    246.0153    246.0153   ]\n",
            "   [246.07143   246.07143   246.07143  ]\n",
            "   [247.07143   247.07143   247.07143  ]]\n",
            "\n",
            "  [[247.        247.        247.       ]\n",
            "   [247.78572   247.78572   247.78572  ]\n",
            "   [248.83163   248.83163   248.83163  ]\n",
            "   ...\n",
            "   [246.42854   246.42854   246.42854  ]\n",
            "   [245.15816   245.15816   245.15816  ]\n",
            "   [244.50511   244.50511   244.50511  ]]\n",
            "\n",
            "  ...\n",
            "\n",
            "  [[242.49489   242.49489   242.49489  ]\n",
            "   [242.        242.        242.       ]\n",
            "   [243.00002   243.00002   243.00002  ]\n",
            "   ...\n",
            "   [242.95409   242.95409   242.95409  ]\n",
            "   [242.37239   242.37239   242.37239  ]\n",
            "   [241.352     241.352     241.352    ]]\n",
            "\n",
            "  [[240.        240.        240.       ]\n",
            "   [240.86223   240.86223   240.86223  ]\n",
            "   [242.14284   242.14284   242.14284  ]\n",
            "   ...\n",
            "   [240.92856   240.92856   240.92856  ]\n",
            "   [241.07144   241.07144   241.07144  ]\n",
            "   [242.02551   242.02551   242.02551  ]]\n",
            "\n",
            "  [[241.71432   241.71432   241.71432  ]\n",
            "   [241.02551   241.02551   241.02551  ]\n",
            "   [241.21428   241.21428   241.21428  ]\n",
            "   ...\n",
            "   [241.14291   241.14291   241.14291  ]\n",
            "   [243.33167   243.33167   243.33167  ]\n",
            "   [241.87242   241.87242   241.87242  ]]]\n",
            "\n",
            "\n",
            " [[[161.43878   137.43878   112.72449  ]\n",
            "   [164.5357    138.5357    112.82143  ]\n",
            "   [168.56633   142.63266   114.28571  ]\n",
            "   ...\n",
            "   [ 32.127575   18.556103    8.91331  ]\n",
            "   [ 35.045967   16.045965    9.045966 ]\n",
            "   [ 39.68874    20.688738   13.688738 ]]\n",
            "\n",
            "  [[162.44897   139.5204    107.16327  ]\n",
            "   [172.09694   149.16838   116.81123  ]\n",
            "   [169.88776   145.88776   111.60204  ]\n",
            "   ...\n",
            "   [ 32.403122   16.045914    7.403122 ]\n",
            "   [ 38.005142   19.005142   12.005142 ]\n",
            "   [ 39.857037   19.857038   12.8570385]]\n",
            "\n",
            "  [[172.32143   152.67857   110.96429  ]\n",
            "   [173.17857   153.5357    112.60714  ]\n",
            "   [172.18877   149.7602    109.40306  ]\n",
            "   ...\n",
            "   [ 37.545937   19.448948   11.591871 ]\n",
            "   [ 39.887787   20.102074   13.102073 ]\n",
            "   [ 41.790684   19.433542   13.219255 ]]\n",
            "\n",
            "  ...\n",
            "\n",
            "  [[231.84694   213.56633   178.40816  ]\n",
            "   [230.95918   212.95918   175.10204  ]\n",
            "   [230.72957   213.23468   173.0663   ]\n",
            "   ...\n",
            "   [205.0664    184.898     113.897934 ]\n",
            "   [213.74486   192.31627   124.81626  ]\n",
            "   [206.459     184.53548   122.31618  ]]\n",
            "\n",
            "  [[228.62239   210.62239   173.42848  ]\n",
            "   [230.0765    212.0765    172.36218  ]\n",
            "   [229.61224   212.54083   169.75507  ]\n",
            "   ...\n",
            "   [206.69386   185.12239   110.69375  ]\n",
            "   [201.9132    179.84178   105.34172  ]\n",
            "   [205.97935   182.90794   115.57628  ]]\n",
            "\n",
            "  [[226.01532   206.01532   169.01532  ]\n",
            "   [227.59695   209.59695   169.64796  ]\n",
            "   [231.02042   214.02042   170.88266  ]\n",
            "   ...\n",
            "   [196.8928    175.39792    98.096855 ]\n",
            "   [206.17854   183.15303   105.34695  ]\n",
            "   [195.19377   170.8366    101.90813  ]]]\n",
            "\n",
            "\n",
            " [[[  7.285714    8.285714   12.285715 ]\n",
            "   [  6.7142854   7.7142854  11.714286 ]\n",
            "   [  3.5714288   4.571429    7.5816326]\n",
            "   ...\n",
            "   [150.7755    139.6276    106.35721  ]\n",
            "   [148.97957   137.97957   105.97956  ]\n",
            "   [137.38237   126.38238    94.38238  ]]\n",
            "\n",
            "  [[  5.6683674   6.6683674  10.525511 ]\n",
            "   [  5.9336734   6.9336734   8.933674 ]\n",
            "   [  5.19898     6.214286    8.168367 ]\n",
            "   ...\n",
            "   [151.07152   140.42873   105.627686 ]\n",
            "   [153.85202   143.85202   108.85203  ]\n",
            "   [148.90807   137.97949   105.765205 ]]\n",
            "\n",
            "  [[  7.0663266   8.066326   10.066326 ]\n",
            "   [  5.0714283   6.0714283   8.071428 ]\n",
            "   [  4.214286    6.0459185   5.55102  ]\n",
            "   ...\n",
            "   [152.50009   141.8573    106.23993  ]\n",
            "   [155.15813   145.15813   110.15813  ]\n",
            "   [150.77553   140.77553   105.77553  ]]\n",
            "\n",
            "  ...\n",
            "\n",
            "  [[102.14287   101.14287    83.14287  ]\n",
            "   [103.87244   102.87244    84.87244  ]\n",
            "   [104.83163   103.83163    84.260216 ]\n",
            "   ...\n",
            "   [118.5255    123.95409   128.71938  ]\n",
            "   [119.57138   125.214264  128.99997  ]\n",
            "   [115.        120.64288   124.42859  ]]\n",
            "\n",
            "  [[103.26021   102.26021    84.26021  ]\n",
            "   [103.14285   102.14285    84.14285  ]\n",
            "   [103.2857    102.2857     84.2857   ]\n",
            "   ...\n",
            "   [115.12752   123.58678   128.85715  ]\n",
            "   [117.857086  126.785675  131.64285  ]\n",
            "   [115.33167   124.26026   129.11743  ]]\n",
            "\n",
            "  [[102.51531   101.51531    80.87246  ]\n",
            "   [101.54592   100.54592    80.54592  ]\n",
            "   [103.21429   102.21429    84.21429  ]\n",
            "   ...\n",
            "   [114.49489   123.49489   128.77037  ]\n",
            "   [113.92856   124.214264  128.57141  ]\n",
            "   [112.30109   123.30109   127.30109  ]]]], shape=(32, 224, 224, 3), dtype=float32) tf.Tensor(\n",
            "[[1. 0. 0. 0. 0. 0. 0. 0. 0. 0.]\n",
            " [0. 0. 0. 0. 0. 0. 1. 0. 0. 0.]\n",
            " [0. 1. 0. 0. 0. 0. 0. 0. 0. 0.]\n",
            " [0. 0. 0. 0. 0. 0. 1. 0. 0. 0.]\n",
            " [0. 0. 0. 1. 0. 0. 0. 0. 0. 0.]\n",
            " [0. 0. 0. 0. 0. 0. 0. 0. 0. 1.]\n",
            " [0. 0. 0. 0. 1. 0. 0. 0. 0. 0.]\n",
            " [1. 0. 0. 0. 0. 0. 0. 0. 0. 0.]\n",
            " [0. 1. 0. 0. 0. 0. 0. 0. 0. 0.]\n",
            " [0. 0. 1. 0. 0. 0. 0. 0. 0. 0.]\n",
            " [0. 0. 0. 0. 0. 0. 0. 0. 0. 1.]\n",
            " [0. 1. 0. 0. 0. 0. 0. 0. 0. 0.]\n",
            " [0. 0. 0. 0. 0. 0. 0. 0. 1. 0.]\n",
            " [0. 0. 0. 0. 1. 0. 0. 0. 0. 0.]\n",
            " [0. 0. 1. 0. 0. 0. 0. 0. 0. 0.]\n",
            " [0. 0. 0. 1. 0. 0. 0. 0. 0. 0.]\n",
            " [0. 0. 0. 0. 0. 0. 0. 0. 0. 1.]\n",
            " [0. 0. 1. 0. 0. 0. 0. 0. 0. 0.]\n",
            " [0. 0. 0. 0. 0. 0. 0. 0. 1. 0.]\n",
            " [0. 0. 0. 1. 0. 0. 0. 0. 0. 0.]\n",
            " [0. 0. 0. 0. 1. 0. 0. 0. 0. 0.]\n",
            " [1. 0. 0. 0. 0. 0. 0. 0. 0. 0.]\n",
            " [0. 0. 0. 0. 0. 0. 0. 1. 0. 0.]\n",
            " [0. 0. 0. 0. 1. 0. 0. 0. 0. 0.]\n",
            " [0. 0. 0. 0. 1. 0. 0. 0. 0. 0.]\n",
            " [0. 0. 0. 0. 0. 0. 0. 0. 0. 1.]\n",
            " [0. 0. 0. 1. 0. 0. 0. 0. 0. 0.]\n",
            " [0. 0. 0. 1. 0. 0. 0. 0. 0. 0.]\n",
            " [0. 1. 0. 0. 0. 0. 0. 0. 0. 0.]\n",
            " [0. 0. 0. 0. 0. 0. 0. 1. 0. 0.]\n",
            " [0. 0. 0. 0. 0. 0. 0. 0. 1. 0.]\n",
            " [0. 0. 0. 0. 0. 0. 0. 0. 0. 1.]], shape=(32, 10), dtype=float32)\n"
          ],
          "name": "stdout"
        }
      ]
    },
    {
      "cell_type": "markdown",
      "metadata": {
        "id": "ZpJc_gZpr732"
      },
      "source": [
        ""
      ]
    }
  ]
}