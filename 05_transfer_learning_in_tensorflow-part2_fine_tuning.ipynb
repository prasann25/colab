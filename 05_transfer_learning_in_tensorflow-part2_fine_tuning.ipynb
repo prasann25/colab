{
  "nbformat": 4,
  "nbformat_minor": 0,
  "metadata": {
    "colab": {
      "name": "05_transfer_learning_in_tensorflow-part2_fine_tuning",
      "provenance": [],
      "authorship_tag": "ABX9TyNi4UrM70/LiLEaYFFG8yDM",
      "include_colab_link": true
    },
    "kernelspec": {
      "name": "python3",
      "display_name": "Python 3"
    },
    "language_info": {
      "name": "python"
    },
    "accelerator": "GPU"
  },
  "cells": [
    {
      "cell_type": "markdown",
      "metadata": {
        "id": "view-in-github",
        "colab_type": "text"
      },
      "source": [
        "<a href=\"https://colab.research.google.com/github/prasann25/colab/blob/main/05_transfer_learning_in_tensorflow-part2_fine_tuning.ipynb\" target=\"_parent\"><img src=\"https://colab.research.google.com/assets/colab-badge.svg\" alt=\"Open In Colab\"/></a>"
      ]
    },
    {
      "cell_type": "markdown",
      "metadata": {
        "id": "-8fbclEDHYdu"
      },
      "source": [
        "# Transfer Learning with TensorFlow 2 : Fine-Tuning\n",
        "\n",
        "In the previous notebook, we covered transfer learning feature extraction, now it's time to learn about a new kind of transfer learning : fine-tuning"
      ]
    },
    {
      "cell_type": "code",
      "metadata": {
        "colab": {
          "base_uri": "https://localhost:8080/"
        },
        "id": "SUpZSP-wnclf",
        "outputId": "3913b0fb-2a36-4c93-dfc2-9c52ad6b81f5"
      },
      "source": [
        "# Check if we're using a GPU\n",
        "!nvidia-smi"
      ],
      "execution_count": 1,
      "outputs": [
        {
          "output_type": "stream",
          "text": [
            "Wed Jul 14 04:30:06 2021       \n",
            "+-----------------------------------------------------------------------------+\n",
            "| NVIDIA-SMI 470.42.01    Driver Version: 460.32.03    CUDA Version: 11.2     |\n",
            "|-------------------------------+----------------------+----------------------+\n",
            "| GPU  Name        Persistence-M| Bus-Id        Disp.A | Volatile Uncorr. ECC |\n",
            "| Fan  Temp  Perf  Pwr:Usage/Cap|         Memory-Usage | GPU-Util  Compute M. |\n",
            "|                               |                      |               MIG M. |\n",
            "|===============================+======================+======================|\n",
            "|   0  Tesla T4            Off  | 00000000:00:04.0 Off |                    0 |\n",
            "| N/A   67C    P8    12W /  70W |      0MiB / 15109MiB |      0%      Default |\n",
            "|                               |                      |                  N/A |\n",
            "+-------------------------------+----------------------+----------------------+\n",
            "                                                                               \n",
            "+-----------------------------------------------------------------------------+\n",
            "| Processes:                                                                  |\n",
            "|  GPU   GI   CI        PID   Type   Process name                  GPU Memory |\n",
            "|        ID   ID                                                   Usage      |\n",
            "|=============================================================================|\n",
            "|  No running processes found                                                 |\n",
            "+-----------------------------------------------------------------------------+\n"
          ],
          "name": "stdout"
        }
      ]
    },
    {
      "cell_type": "markdown",
      "metadata": {
        "id": "LUuEdLejnPAy"
      },
      "source": [
        "## Creating helper functions\n",
        "In previous notebooks, we created a bunch of helper functions, now we could rewrite them all, however this is tedious.\n",
        "\n",
        "So, it's a good idea to put functions you'll want to use again in a script you can download some of the functions we've used previously here : https://raw.githubusercontent.com/mrdbourke/tensorflow-deep-learning/main/extras/helper_functions.py"
      ]
    },
    {
      "cell_type": "code",
      "metadata": {
        "colab": {
          "base_uri": "https://localhost:8080/"
        },
        "id": "Dnl3ZeqfoK8p",
        "outputId": "e7a82cc6-8636-4e06-af39-396017ceae9d"
      },
      "source": [
        "!wget https://raw.githubusercontent.com/mrdbourke/tensorflow-deep-learning/main/extras/helper_functions.py\n"
      ],
      "execution_count": 2,
      "outputs": [
        {
          "output_type": "stream",
          "text": [
            "--2021-07-14 04:30:06--  https://raw.githubusercontent.com/mrdbourke/tensorflow-deep-learning/main/extras/helper_functions.py\n",
            "Resolving raw.githubusercontent.com (raw.githubusercontent.com)... 185.199.108.133, 185.199.109.133, 185.199.110.133, ...\n",
            "Connecting to raw.githubusercontent.com (raw.githubusercontent.com)|185.199.108.133|:443... connected.\n",
            "HTTP request sent, awaiting response... 200 OK\n",
            "Length: 10246 (10K) [text/plain]\n",
            "Saving to: ‘helper_functions.py’\n",
            "\n",
            "\rhelper_functions.py   0%[                    ]       0  --.-KB/s               \rhelper_functions.py 100%[===================>]  10.01K  --.-KB/s    in 0s      \n",
            "\n",
            "2021-07-14 04:30:06 (106 MB/s) - ‘helper_functions.py’ saved [10246/10246]\n",
            "\n"
          ],
          "name": "stdout"
        }
      ]
    },
    {
      "cell_type": "code",
      "metadata": {
        "id": "5N4QHs-LoPN1"
      },
      "source": [
        "# Import helper functions we're going to use in this notebook\n",
        "from helper_functions import create_tensorboard_callback, plot_loss_curves, unzip_data, walk_through_dir"
      ],
      "execution_count": 3,
      "outputs": []
    },
    {
      "cell_type": "markdown",
      "metadata": {
        "id": "OU7bj8Bgos2X"
      },
      "source": [
        "> **Note** : If you're running this notebook in Google Colab, when it times out Colab will delete `helper functions`, so you'll have to re-download it if you want access to your helper functions."
      ]
    },
    {
      "cell_type": "markdown",
      "metadata": {
        "id": "tv4LSf_Lq1tt"
      },
      "source": [
        "## Let's get some data\n",
        "\n",
        "This time we're going to see how we can use the pre-trained models within `tf.keras.applications`  (recognizing images of food)\n",
        " link : https://www.tensorflow.org/api_docs/python/tf/keras/applications"
      ]
    },
    {
      "cell_type": "code",
      "metadata": {
        "colab": {
          "base_uri": "https://localhost:8080/"
        },
        "id": "NvNzGBXZq_AK",
        "outputId": "5771063f-a7ac-4573-de8d-d9df0dd28129"
      },
      "source": [
        "# Get 10% of training data of 10 classes of Food101\n",
        "!wget https://storage.googleapis.com/ztm_tf_course/food_vision/10_food_classes_10_percent.zip\n",
        "\n",
        "unzip_data(\"10_food_classes_10_percent.zip\")"
      ],
      "execution_count": 4,
      "outputs": [
        {
          "output_type": "stream",
          "text": [
            "--2021-07-14 04:30:09--  https://storage.googleapis.com/ztm_tf_course/food_vision/10_food_classes_10_percent.zip\n",
            "Resolving storage.googleapis.com (storage.googleapis.com)... 172.253.115.128, 172.253.122.128, 172.253.63.128, ...\n",
            "Connecting to storage.googleapis.com (storage.googleapis.com)|172.253.115.128|:443... connected.\n",
            "HTTP request sent, awaiting response... 200 OK\n",
            "Length: 168546183 (161M) [application/zip]\n",
            "Saving to: ‘10_food_classes_10_percent.zip’\n",
            "\n",
            "10_food_classes_10_ 100%[===================>] 160.74M   171MB/s    in 0.9s    \n",
            "\n",
            "2021-07-14 04:30:10 (171 MB/s) - ‘10_food_classes_10_percent.zip’ saved [168546183/168546183]\n",
            "\n"
          ],
          "name": "stdout"
        }
      ]
    },
    {
      "cell_type": "code",
      "metadata": {
        "colab": {
          "base_uri": "https://localhost:8080/"
        },
        "id": "d4HzKzjbsyCR",
        "outputId": "8e182f41-eaa5-42b2-bced-081b1b793767"
      },
      "source": [
        "# Check out how many image and subdirectories are in our dataset\n",
        "walk_through_dir(\"10_food_classes_10_percent\")"
      ],
      "execution_count": 5,
      "outputs": [
        {
          "output_type": "stream",
          "text": [
            "There are 2 directories and 0 images in '10_food_classes_10_percent'.\n",
            "There are 10 directories and 0 images in '10_food_classes_10_percent/test'.\n",
            "There are 0 directories and 250 images in '10_food_classes_10_percent/test/chicken_curry'.\n",
            "There are 0 directories and 250 images in '10_food_classes_10_percent/test/ramen'.\n",
            "There are 0 directories and 250 images in '10_food_classes_10_percent/test/sushi'.\n",
            "There are 0 directories and 250 images in '10_food_classes_10_percent/test/grilled_salmon'.\n",
            "There are 0 directories and 250 images in '10_food_classes_10_percent/test/ice_cream'.\n",
            "There are 0 directories and 250 images in '10_food_classes_10_percent/test/chicken_wings'.\n",
            "There are 0 directories and 250 images in '10_food_classes_10_percent/test/pizza'.\n",
            "There are 0 directories and 250 images in '10_food_classes_10_percent/test/hamburger'.\n",
            "There are 0 directories and 250 images in '10_food_classes_10_percent/test/steak'.\n",
            "There are 0 directories and 250 images in '10_food_classes_10_percent/test/fried_rice'.\n",
            "There are 10 directories and 0 images in '10_food_classes_10_percent/train'.\n",
            "There are 0 directories and 75 images in '10_food_classes_10_percent/train/chicken_curry'.\n",
            "There are 0 directories and 75 images in '10_food_classes_10_percent/train/ramen'.\n",
            "There are 0 directories and 75 images in '10_food_classes_10_percent/train/sushi'.\n",
            "There are 0 directories and 75 images in '10_food_classes_10_percent/train/grilled_salmon'.\n",
            "There are 0 directories and 75 images in '10_food_classes_10_percent/train/ice_cream'.\n",
            "There are 0 directories and 75 images in '10_food_classes_10_percent/train/chicken_wings'.\n",
            "There are 0 directories and 75 images in '10_food_classes_10_percent/train/pizza'.\n",
            "There are 0 directories and 75 images in '10_food_classes_10_percent/train/hamburger'.\n",
            "There are 0 directories and 75 images in '10_food_classes_10_percent/train/steak'.\n",
            "There are 0 directories and 75 images in '10_food_classes_10_percent/train/fried_rice'.\n"
          ],
          "name": "stdout"
        }
      ]
    },
    {
      "cell_type": "code",
      "metadata": {
        "id": "_aG4W0bYBgJU"
      },
      "source": [
        "# Create training and test directory paths\n",
        "train_dir =\"10_food_classes_10_percent/train\"\n",
        "test_dir =\"10_food_classes_10_percent/test\""
      ],
      "execution_count": 6,
      "outputs": []
    },
    {
      "cell_type": "code",
      "metadata": {
        "id": "rZYCeBBhBqjl"
      },
      "source": [
        "import tensorflow as tf"
      ],
      "execution_count": 7,
      "outputs": []
    },
    {
      "cell_type": "code",
      "metadata": {
        "id": "3xm1uuZ9BuYt",
        "colab": {
          "base_uri": "https://localhost:8080/"
        },
        "outputId": "108a589a-c93d-4abd-b13f-db34ff726581"
      },
      "source": [
        "# Preprocess image dataset in a directory https://www.tensorflow.org/api_docs/python/tf/keras/preprocessing/image_dataset_from_directory\n",
        "\n",
        "IMG_SIZE=(224, 224)\n",
        "BATCH_SIZE = 32\n",
        "train_data_10_percent = tf.keras.preprocessing.image_dataset_from_directory(directory = train_dir,\n",
        "                                                                            image_size=IMG_SIZE,\n",
        "                                                                            label_mode=\"categorical\",\n",
        "                                                                            batch_size=BATCH_SIZE)\n",
        "test_data = tf.keras.preprocessing.image_dataset_from_directory(directory=test_dir,\n",
        "                                                                image_size=IMG_SIZE,\n",
        "                                                                label_mode=\"categorical\",\n",
        "                                                                batch_size=BATCH_SIZE)"
      ],
      "execution_count": 8,
      "outputs": [
        {
          "output_type": "stream",
          "text": [
            "Found 750 files belonging to 10 classes.\n",
            "Found 2500 files belonging to 10 classes.\n"
          ],
          "name": "stdout"
        }
      ]
    },
    {
      "cell_type": "code",
      "metadata": {
        "id": "W4y-ViacP8DQ",
        "colab": {
          "base_uri": "https://localhost:8080/"
        },
        "outputId": "9f92c6ed-f8de-482f-e439-9803c30e2b5f"
      },
      "source": [
        "train_data_10_percent"
      ],
      "execution_count": 9,
      "outputs": [
        {
          "output_type": "execute_result",
          "data": {
            "text/plain": [
              "<BatchDataset shapes: ((None, 224, 224, 3), (None, 10)), types: (tf.float32, tf.float32)>"
            ]
          },
          "metadata": {
            "tags": []
          },
          "execution_count": 9
        }
      ]
    },
    {
      "cell_type": "code",
      "metadata": {
        "id": "8VYlovqJS6DV",
        "colab": {
          "base_uri": "https://localhost:8080/"
        },
        "outputId": "3e7a0263-dcb9-4538-e9d0-ed57cba6f9f2"
      },
      "source": [
        "# Check out the class names of our dataset\n",
        "train_data_10_percent.class_names"
      ],
      "execution_count": 10,
      "outputs": [
        {
          "output_type": "execute_result",
          "data": {
            "text/plain": [
              "['chicken_curry',\n",
              " 'chicken_wings',\n",
              " 'fried_rice',\n",
              " 'grilled_salmon',\n",
              " 'hamburger',\n",
              " 'ice_cream',\n",
              " 'pizza',\n",
              " 'ramen',\n",
              " 'steak',\n",
              " 'sushi']"
            ]
          },
          "metadata": {
            "tags": []
          },
          "execution_count": 10
        }
      ]
    },
    {
      "cell_type": "code",
      "metadata": {
        "id": "qj0CTdudTMAz",
        "colab": {
          "base_uri": "https://localhost:8080/"
        },
        "outputId": "72fb68b9-5b10-49b0-e6db-b519a9a1ae2d"
      },
      "source": [
        "# See an example of batch of data\n",
        "for images, labels in train_data_10_percent.take(1) :\n",
        "  print(images, labels)"
      ],
      "execution_count": 11,
      "outputs": [
        {
          "output_type": "stream",
          "text": [
            "tf.Tensor(\n",
            "[[[[121.57143    140.57143    183.57143   ]\n",
            "   [119.28571    136.2857     180.2857    ]\n",
            "   [115.78061    129.41327    174.41327   ]\n",
            "   ...\n",
            "   [188.64285     60.642857     0.        ]\n",
            "   [189.31123     61.31123      0.        ]\n",
            "   [189.77042     61.77042      0.        ]]\n",
            "\n",
            "  [[133.66837    154.66837    201.52551   ]\n",
            "   [131.85204    149.85204    197.70918   ]\n",
            "   [131.18367    147.34184    194.02551   ]\n",
            "   ...\n",
            "   [190.78574     62.785736     0.        ]\n",
            "   [191.92856     63.92856      0.92855835]\n",
            "   [189.71425     61.71425      0.        ]]\n",
            "\n",
            "  [[122.77551    144.70918    196.13266   ]\n",
            "   [126.841835   147.14285    198.69897   ]\n",
            "   [128.73979    146.14285    196.73979   ]\n",
            "   ...\n",
            "   [189.40308     62.045937     0.        ]\n",
            "   [189.30101     61.943867     0.        ]\n",
            "   [187.57143     60.214287     0.        ]]\n",
            "\n",
            "  ...\n",
            "\n",
            "  [[  9.653024    13.653024    24.867289  ]\n",
            "   [  9.857164    13.857164    25.071428  ]\n",
            "   [  8.42855     12.42855     23.5969    ]\n",
            "   ...\n",
            "   [ 58.785736    70.214264   102.64279   ]\n",
            "   [ 60.91325     71.484726   103.69899   ]\n",
            "   [ 55.928467    64.285675    97.07141   ]]\n",
            "\n",
            "  [[  8.025528    12.025528    21.025528  ]\n",
            "   [ 10.00509     14.00509     23.005089  ]\n",
            "   [  6.214286    10.214286    19.214287  ]\n",
            "   ...\n",
            "   [ 54.872486    68.30101    102.08675   ]\n",
            "   [ 57.          70.         102.        ]\n",
            "   [ 54.33157     65.331566    97.331566  ]]\n",
            "\n",
            "  [[ 11.841884    15.841884    24.841885  ]\n",
            "   [  8.117344    13.117344    19.117344  ]\n",
            "   [  7.          12.          18.        ]\n",
            "   ...\n",
            "   [ 57.290794    72.290794   105.290794  ]\n",
            "   [ 57.49994     72.49994    103.49994   ]\n",
            "   [ 51.443714    64.44371     96.44371   ]]]\n",
            "\n",
            "\n",
            " [[[150.0153     154.68367    153.03061   ]\n",
            "   [158.19897    155.4847     146.69897   ]\n",
            "   [113.86734    108.36224     90.87755   ]\n",
            "   ...\n",
            "   [121.35185    115.994644    80.637436  ]\n",
            "   [119.90825    107.83681     67.6429    ]\n",
            "   [130.76016    115.2755      71.688705  ]]\n",
            "\n",
            "  [[ 89.82142     90.89285     85.39795   ]\n",
            "   [106.07141    104.219376    92.37243   ]\n",
            "   [ 50.08162     46.913254    29.969378  ]\n",
            "   ...\n",
            "   [110.83145    107.64259     72.87216   ]\n",
            "   [113.88263    104.464226    65.448906  ]\n",
            "   [119.566635   107.4952      66.63799   ]]\n",
            "\n",
            "  [[ 41.071426    36.642857    25.42857   ]\n",
            "   [ 42.811222    38.38265     25.954077  ]\n",
            "   [ 26.811224    23.239798    11.071429  ]\n",
            "   ...\n",
            "   [111.81114    109.45393     76.23967   ]\n",
            "   [110.673386   105.703964    67.84681   ]\n",
            "   [105.34713     98.27063     58.48992   ]]\n",
            "\n",
            "  ...\n",
            "\n",
            "  [[ 18.214264    15.214264    10.214264  ]\n",
            "   [ 16.84186     14.270388     9.270388  ]\n",
            "   [ 16.16835     15.260178    10.42855   ]\n",
            "   ...\n",
            "   [ 33.004913    16.550974    11.550974  ]\n",
            "   [ 27.270338    18.413221    13.341779  ]\n",
            "   [ 27.352211    21.495094    15.418564  ]]\n",
            "\n",
            "  [[ 20.188745    17.188745    10.188745  ]\n",
            "   [ 18.923443    15.923442    10.923442  ]\n",
            "   [ 16.785675    15.785675    10.785675  ]\n",
            "   ...\n",
            "   [ 50.51018     37.11227     30.882698  ]\n",
            "   [ 36.63787     23.494987    17.56643   ]\n",
            "   [ 45.117275    30.831509    27.90295   ]]\n",
            "\n",
            "  [[ 19.785854    14.785853     8.785853  ]\n",
            "   [ 17.50014     14.500139     7.500139  ]\n",
            "   [ 14.428711    13.428711     8.428711  ]\n",
            "   ...\n",
            "   [ 37.16327     24.80606     18.163269  ]\n",
            "   [ 45.388046    29.17874     24.58184   ]\n",
            "   [ 42.566345    22.851992    19.20917   ]]]\n",
            "\n",
            "\n",
            " [[[164.60715    133.60715     76.60714   ]\n",
            "   [162.93367    131.93367     76.841835  ]\n",
            "   [159.88776    126.168365    76.04082   ]\n",
            "   ...\n",
            "   [ 84.21437     21.214373    12.214373  ]\n",
            "   [ 83.5306      21.739813    12.336744  ]\n",
            "   [ 85.74494     25.744944    15.744943  ]]\n",
            "\n",
            "  [[169.94388    139.94388     77.42347   ]\n",
            "   [167.7653     137.69897     77.765305  ]\n",
            "   [161.63774    127.994896    74.5102    ]\n",
            "   ...\n",
            "   [ 84.413315    20.413311    11.413311  ]\n",
            "   [ 90.306046    26.443815    17.443815  ]\n",
            "   [ 89.54616     25.949253    16.949253  ]]\n",
            "\n",
            "  [[167.36224    138.14795     69.71939   ]\n",
            "   [165.15816    134.15816     69.85714   ]\n",
            "   [166.19388    133.55103     75.19388   ]\n",
            "   ...\n",
            "   [ 90.59696     23.168394    15.38268   ]\n",
            "   [ 96.831604    29.40303     21.617315  ]\n",
            "   [ 94.97967     27.551094    19.76538   ]]\n",
            "\n",
            "  ...\n",
            "\n",
            "  [[242.56633    218.56633    182.99486   ]\n",
            "   [240.15816    216.15816    182.04591   ]\n",
            "   [239.78572    214.78572    183.95409   ]\n",
            "   ...\n",
            "   [203.29596    148.7756      74.607254  ]\n",
            "   [189.51527    139.65816     69.44389   ]\n",
            "   [216.13792    171.2808     109.85224   ]]\n",
            "\n",
            "  [[241.26529    217.26529    179.26529   ]\n",
            "   [239.92346    215.92346    179.92346   ]\n",
            "   [238.0153     213.0153     182.22958   ]\n",
            "   ...\n",
            "   [188.41856    142.82162     69.418434  ]\n",
            "   [186.40823    136.54091     63.47457   ]\n",
            "   [202.81104    153.7396      86.928375  ]]\n",
            "\n",
            "  [[238.71425    215.71425    174.71425   ]\n",
            "   [238.83163    214.83163    178.68878   ]\n",
            "   [238.29082    213.21428    182.65819   ]\n",
            "   ...\n",
            "   [177.23979    136.52042     65.7448    ]\n",
            "   [187.16325    139.09181     63.09182   ]\n",
            "   [186.58183    133.22466     62.765457  ]]]\n",
            "\n",
            "\n",
            " ...\n",
            "\n",
            "\n",
            " [[[194.81122    147.88264    122.02551   ]\n",
            "   [191.16837    144.88266    115.188774  ]\n",
            "   [197.04591    152.7551     118.765305  ]\n",
            "   ...\n",
            "   [ 34.239716    40.826492    48.964233  ]\n",
            "   [ 25.88801     33.602295    41.24515   ]\n",
            "   [ 72.0464      81.0464      88.0464    ]]\n",
            "\n",
            "  [[192.80612    149.7347     115.30612   ]\n",
            "   [192.78572    149.7143     115.28571   ]\n",
            "   [201.39285    157.89287    125.005104  ]\n",
            "   ...\n",
            "   [129.22958    140.37245    146.37245   ]\n",
            "   [ 96.62243    105.76529    112.69386   ]\n",
            "   [122.25072    131.25072    138.25072   ]]\n",
            "\n",
            "  [[191.52551    145.95409    128.38264   ]\n",
            "   [164.47958    118.12244     99.7653    ]\n",
            "   [139.39795     92.7806      72.56121   ]\n",
            "   ...\n",
            "   [132.21426    146.78569    151.99998   ]\n",
            "   [134.56111    145.44885    151.50499   ]\n",
            "   [117.53555    124.96413    132.74985   ]]\n",
            "\n",
            "  ...\n",
            "\n",
            "  [[  2.8622394    3.8622394    8.076533  ]\n",
            "   [  6.841837     5.841837    10.841837  ]\n",
            "   [  8.857143     6.4285717    8.663269  ]\n",
            "   ...\n",
            "   [121.112434    94.89817     71.09198   ]\n",
            "   [107.74491     81.74491     55.173504  ]\n",
            "   [102.53597     77.32168     47.178856  ]]\n",
            "\n",
            "  [[  2.6887817    3.6887817    8.688782  ]\n",
            "   [  5.923454     4.923454     9.923453  ]\n",
            "   [  8.857143     6.4285717    9.        ]\n",
            "   ...\n",
            "   [106.93349     80.71922     58.147755  ]\n",
            "   [109.275505    83.275505    58.2755    ]\n",
            "   [108.38792     82.38792     55.387913  ]]\n",
            "\n",
            "  [[  2.7142856    3.7142856    8.714286  ]\n",
            "   [  5.785715     4.785715    10.785715  ]\n",
            "   [  8.642858     6.214286    10.357142  ]\n",
            "   ...\n",
            "   [113.62768     87.62768     61.341976  ]\n",
            "   [103.65828     78.65828     48.658283  ]\n",
            "   [113.34701     88.34701     57.347008  ]]]\n",
            "\n",
            "\n",
            " [[[ 20.913265    11.071428    12.198979  ]\n",
            "   [ 18.311224    14.117348    11.280613  ]\n",
            "   [ 14.479591    16.62245     10.127551  ]\n",
            "   ...\n",
            "   [ 14.505116    14.505116    16.505116  ]\n",
            "   [ 13.642858    13.642858    15.642858  ]\n",
            "   [ 14.642858    14.642858    16.642857  ]]\n",
            "\n",
            "  [[ 17.168367    13.02551     14.005102  ]\n",
            "   [ 19.785715    15.785715    14.653063  ]\n",
            "   [ 15.397961    12.17347      7.4132657 ]\n",
            "   ...\n",
            "   [ 13.270388    13.270388    15.270388  ]\n",
            "   [ 14.071428    14.071428    16.071428  ]\n",
            "   [ 13.142857    13.142857    15.142857  ]]\n",
            "\n",
            "  [[ 16.663265    16.020409    14.306123  ]\n",
            "   [ 24.882656    16.556124    14.183674  ]\n",
            "   [ 31.168367    13.596939     8.168367  ]\n",
            "   ...\n",
            "   [ 12.571406    12.571406    14.571406  ]\n",
            "   [ 16.08675     16.08675     18.08675   ]\n",
            "   [ 14.994856    14.994856    16.994856  ]]\n",
            "\n",
            "  ...\n",
            "\n",
            "  [[ 23.97442     23.97442     25.545893  ]\n",
            "   [ 15.015196    15.015196    16.586668  ]\n",
            "   [ 62.692276    62.692276    64.26375   ]\n",
            "   ...\n",
            "   [ 19.948874    10.550974    10.357208  ]\n",
            "   [ 16.897882    11.872485    12.857178  ]\n",
            "   [ 16.99997     14.571442    15.142914  ]]\n",
            "\n",
            "  [[ 21.637716    21.637716    23.637716  ]\n",
            "   [ 23.923416    23.923416    25.923416  ]\n",
            "   [ 20.515322    20.515322    22.515322  ]\n",
            "   ...\n",
            "   [ 15.913251    13.943866    16.928558  ]\n",
            "   [ 16.94387     14.933662    17.923454  ]\n",
            "   [ 20.26022     15.285736    19.209185  ]]\n",
            "\n",
            "  [[ 22.203962    22.203962    24.203962  ]\n",
            "   [ 18.571321    18.571321    20.571321  ]\n",
            "   [ 21.188705    21.188705    23.188705  ]\n",
            "   ...\n",
            "   [ 17.352028    15.780556    16.566292  ]\n",
            "   [ 19.357178    14.550974    15.147872  ]\n",
            "   [ 19.42871     12.357178    13.540796  ]]]\n",
            "\n",
            "\n",
            " [[[192.12755    183.55612    159.60204   ]\n",
            "   [187.54593    168.5204     144.59183   ]\n",
            "   [147.7653     117.89796     93.83674   ]\n",
            "   ...\n",
            "   [197.86226    223.86226    248.86226   ]\n",
            "   [198.         224.         249.        ]\n",
            "   [197.87244    223.87244    248.87244   ]]\n",
            "\n",
            "  [[199.31122    184.31122    158.00511   ]\n",
            "   [176.69388    151.20407    124.2755    ]\n",
            "   [110.5051      75.17857     47.44898   ]\n",
            "   ...\n",
            "   [196.80104    222.80104    247.80104   ]\n",
            "   [198.         224.         249.        ]\n",
            "   [198.         224.         249.        ]]\n",
            "\n",
            "  [[179.16837    154.10204    122.2551    ]\n",
            "   [150.38776    117.0153      85.44386   ]\n",
            "   [136.30101     94.22959     61.632652  ]\n",
            "   ...\n",
            "   [197.         223.         248.        ]\n",
            "   [196.9847     222.9847     247.9847    ]\n",
            "   [195.78572    221.78572    246.78572   ]]\n",
            "\n",
            "  ...\n",
            "\n",
            "  [[172.7908     189.36227    209.57654   ]\n",
            "   [174.0561     190.62758    210.84184   ]\n",
            "   [175.83163    192.4031     212.61737   ]\n",
            "   ...\n",
            "   [142.55098    171.78574    210.16835   ]\n",
            "   [141.21426    170.42853    210.        ]\n",
            "   [141.49492    170.70918    210.28065   ]]\n",
            "\n",
            "  [[173.73979    190.73979    210.73979   ]\n",
            "   [174.79082    191.79082    211.79082   ]\n",
            "   [174.92856    191.92856    211.92856   ]\n",
            "   ...\n",
            "   [141.84187    171.05614    210.62761   ]\n",
            "   [142.0051     171.0051     211.0051    ]\n",
            "   [138.7857     167.7857     207.7857    ]]\n",
            "\n",
            "  [[175.07143    192.07143    212.07143   ]\n",
            "   [174.52548    191.52548    211.52548   ]\n",
            "   [172.42854    189.42854    209.42854   ]\n",
            "   ...\n",
            "   [140.1479     169.36217    208.93364   ]\n",
            "   [141.9795     170.9795     210.9795    ]\n",
            "   [143.12758    172.12758    212.12758   ]]]], shape=(32, 224, 224, 3), dtype=float32) tf.Tensor(\n",
            "[[0. 0. 0. 0. 0. 0. 1. 0. 0. 0.]\n",
            " [0. 0. 0. 0. 0. 0. 0. 1. 0. 0.]\n",
            " [0. 0. 0. 0. 0. 0. 1. 0. 0. 0.]\n",
            " [0. 0. 0. 0. 0. 0. 1. 0. 0. 0.]\n",
            " [0. 0. 1. 0. 0. 0. 0. 0. 0. 0.]\n",
            " [0. 0. 0. 0. 0. 1. 0. 0. 0. 0.]\n",
            " [0. 0. 0. 0. 0. 0. 0. 0. 0. 1.]\n",
            " [0. 0. 0. 0. 0. 1. 0. 0. 0. 0.]\n",
            " [0. 0. 0. 0. 1. 0. 0. 0. 0. 0.]\n",
            " [0. 0. 0. 0. 0. 0. 0. 0. 1. 0.]\n",
            " [0. 0. 0. 0. 0. 0. 0. 0. 0. 1.]\n",
            " [0. 0. 1. 0. 0. 0. 0. 0. 0. 0.]\n",
            " [0. 0. 0. 0. 0. 0. 0. 0. 0. 1.]\n",
            " [0. 0. 0. 0. 0. 1. 0. 0. 0. 0.]\n",
            " [0. 0. 0. 0. 0. 0. 0. 1. 0. 0.]\n",
            " [0. 0. 0. 0. 0. 0. 0. 1. 0. 0.]\n",
            " [0. 1. 0. 0. 0. 0. 0. 0. 0. 0.]\n",
            " [1. 0. 0. 0. 0. 0. 0. 0. 0. 0.]\n",
            " [0. 0. 0. 0. 0. 1. 0. 0. 0. 0.]\n",
            " [0. 0. 0. 1. 0. 0. 0. 0. 0. 0.]\n",
            " [0. 0. 0. 0. 0. 0. 0. 0. 0. 1.]\n",
            " [0. 0. 1. 0. 0. 0. 0. 0. 0. 0.]\n",
            " [0. 0. 0. 0. 0. 0. 0. 0. 1. 0.]\n",
            " [0. 0. 1. 0. 0. 0. 0. 0. 0. 0.]\n",
            " [0. 0. 0. 0. 1. 0. 0. 0. 0. 0.]\n",
            " [0. 0. 0. 0. 0. 0. 0. 0. 1. 0.]\n",
            " [0. 1. 0. 0. 0. 0. 0. 0. 0. 0.]\n",
            " [0. 0. 0. 0. 0. 0. 0. 0. 0. 1.]\n",
            " [0. 0. 0. 1. 0. 0. 0. 0. 0. 0.]\n",
            " [0. 0. 0. 0. 0. 0. 0. 1. 0. 0.]\n",
            " [0. 0. 0. 0. 0. 0. 0. 0. 1. 0.]\n",
            " [0. 0. 1. 0. 0. 0. 0. 0. 0. 0.]], shape=(32, 10), dtype=float32)\n"
          ],
          "name": "stdout"
        }
      ]
    },
    {
      "cell_type": "code",
      "metadata": {
        "id": "23WZkvOCSifY"
      },
      "source": [
        "# Build a model using tf.keras.applications\n"
      ],
      "execution_count": null,
      "outputs": []
    },
    {
      "cell_type": "code",
      "metadata": {
        "id": "t9EaOcgFSnCt"
      },
      "source": [
        ""
      ],
      "execution_count": null,
      "outputs": []
    },
    {
      "cell_type": "markdown",
      "metadata": {
        "id": "ZpJc_gZpr732"
      },
      "source": [
        ""
      ]
    }
  ]
}