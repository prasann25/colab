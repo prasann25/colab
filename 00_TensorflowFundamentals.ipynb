{
  "nbformat": 4,
  "nbformat_minor": 0,
  "metadata": {
    "colab": {
      "name": "00_TensorflowFundamentals.ipynb",
      "provenance": [],
      "authorship_tag": "ABX9TyPCTkKp/7PR6DJsF85U024a"
    },
    "kernelspec": {
      "name": "python3",
      "display_name": "Python 3"
    },
    "language_info": {
      "name": "python"
    }
  },
  "cells": [
    {
      "cell_type": "code",
      "metadata": {
        "id": "8szA_j63Dohh"
      },
      "source": [
        ""
      ],
      "execution_count": null,
      "outputs": []
    },
    {
      "cell_type": "markdown",
      "metadata": {
        "id": "WGotGUQUHZPj"
      },
      "source": [
        ""
      ]
    },
    {
      "cell_type": "markdown",
      "metadata": {
        "id": "rt5QKrXYiWTi"
      },
      "source": [
        ""
      ]
    },
    {
      "cell_type": "markdown",
      "metadata": {
        "id": "FsEBZgv3HQ_G"
      },
      "source": [
        "# In this notebook, we are going to cover some of the most fundamental concepts of tensors using TensorFlow\n",
        "\n",
        "More specifically we're going to cover :\n",
        "\n",
        "\n",
        "> Indented block\n",
        "* Introduction to tensors\n",
        "* Getting informations from tensors\n",
        "* Manipulating tensors\n",
        "* Tensors and NumPy\n",
        "*Using @tf.function(a way to speed up your regular Python functons)\n",
        "*Using GPUs with TensorFlow(or TPUs)\n",
        "*Exercises to your self!\n",
        "\n",
        "\n",
        "\n",
        "\n",
        "\n",
        "\n"
      ]
    },
    {
      "cell_type": "markdown",
      "metadata": {
        "id": "4ZmtrEToFLH8"
      },
      "source": [
        "## Introduction to Tensors"
      ]
    },
    {
      "cell_type": "code",
      "metadata": {
        "colab": {
          "base_uri": "https://localhost:8080/"
        },
        "id": "6UBTpZ4TilNQ",
        "outputId": "f7ce8678-f375-48e8-be55-5a16dd53650d"
      },
      "source": [
        "#Import TensorFlow\n",
        "import tensorflow as tf\n",
        "print(tf.__version__)"
      ],
      "execution_count": 3,
      "outputs": [
        {
          "output_type": "stream",
          "text": [
            "2.5.0\n"
          ],
          "name": "stdout"
        }
      ]
    },
    {
      "cell_type": "code",
      "metadata": {
        "colab": {
          "base_uri": "https://localhost:8080/"
        },
        "id": "21SeinibmNat",
        "outputId": "b073e3c5-df4f-4da8-e41b-d3b8c4663e76"
      },
      "source": [
        "#Create tensors with tf.constant()\n",
        "scalar = tf.constant(7)\n",
        "scalar"
      ],
      "execution_count": 6,
      "outputs": [
        {
          "output_type": "execute_result",
          "data": {
            "text/plain": [
              "<tf.Tensor: shape=(), dtype=int32, numpy=7>"
            ]
          },
          "metadata": {
            "tags": []
          },
          "execution_count": 6
        }
      ]
    },
    {
      "cell_type": "code",
      "metadata": {
        "colab": {
          "base_uri": "https://localhost:8080/"
        },
        "id": "PGRNBzwbwCrh",
        "outputId": "b4b8c232-6649-470b-cb3a-f8040fc3480b"
      },
      "source": [
        "#Check the number of dimensions of a tensor(ndim stands for number of dimensions)\n",
        "scalar.ndim"
      ],
      "execution_count": 7,
      "outputs": [
        {
          "output_type": "execute_result",
          "data": {
            "text/plain": [
              "0"
            ]
          },
          "metadata": {
            "tags": []
          },
          "execution_count": 7
        }
      ]
    },
    {
      "cell_type": "code",
      "metadata": {
        "colab": {
          "base_uri": "https://localhost:8080/"
        },
        "id": "vGIf0pt7wST3",
        "outputId": "c8729c31-174a-4b43-dc53-e3a618124e3d"
      },
      "source": [
        "vector = tf.constant([10, 10])\n",
        "vector"
      ],
      "execution_count": 8,
      "outputs": [
        {
          "output_type": "execute_result",
          "data": {
            "text/plain": [
              "<tf.Tensor: shape=(2,), dtype=int32, numpy=array([10, 10], dtype=int32)>"
            ]
          },
          "metadata": {
            "tags": []
          },
          "execution_count": 8
        }
      ]
    },
    {
      "cell_type": "code",
      "metadata": {
        "colab": {
          "base_uri": "https://localhost:8080/"
        },
        "id": "PqJ_R7KewbPA",
        "outputId": "df9a32e4-1087-428a-fd6f-a01db70e9eac"
      },
      "source": [
        "vector.ndim"
      ],
      "execution_count": 9,
      "outputs": [
        {
          "output_type": "execute_result",
          "data": {
            "text/plain": [
              "1"
            ]
          },
          "metadata": {
            "tags": []
          },
          "execution_count": 9
        }
      ]
    },
    {
      "cell_type": "code",
      "metadata": {
        "colab": {
          "base_uri": "https://localhost:8080/"
        },
        "id": "4HV0P130wtly",
        "outputId": "ba88024e-304e-466b-d1d4-00ab38d3b60a"
      },
      "source": [
        "# Create a matrix (has more than 1 dimensions)\n",
        "matrix = tf.constant([[10, 7],\n",
        "                      [7, 10]])\n",
        "matrix"
      ],
      "execution_count": 10,
      "outputs": [
        {
          "output_type": "execute_result",
          "data": {
            "text/plain": [
              "<tf.Tensor: shape=(2, 2), dtype=int32, numpy=\n",
              "array([[10,  7],\n",
              "       [ 7, 10]], dtype=int32)>"
            ]
          },
          "metadata": {
            "tags": []
          },
          "execution_count": 10
        }
      ]
    },
    {
      "cell_type": "code",
      "metadata": {
        "colab": {
          "base_uri": "https://localhost:8080/"
        },
        "id": "YPeMxAsaxD7t",
        "outputId": "b57d0758-bc48-4d31-acdb-c7be508759d5"
      },
      "source": [
        "# Check dimensions of a matrix\n",
        "matrix.ndim"
      ],
      "execution_count": 11,
      "outputs": [
        {
          "output_type": "execute_result",
          "data": {
            "text/plain": [
              "2"
            ]
          },
          "metadata": {
            "tags": []
          },
          "execution_count": 11
        }
      ]
    },
    {
      "cell_type": "code",
      "metadata": {
        "colab": {
          "base_uri": "https://localhost:8080/"
        },
        "id": "bcVVxtYexRS6",
        "outputId": "4ec2a382-1a01-4de0-a90e-8fa3fd3db1bf"
      },
      "source": [
        "#Create another matrix\n",
        "another_matrix = tf.constant([[10., 7.],\n",
        "                              [3., 2.],\n",
        "                              [8., 9.]], dtype = tf.float16) # specify the data type with dtype parameter\n",
        "another_matrix"
      ],
      "execution_count": 12,
      "outputs": [
        {
          "output_type": "execute_result",
          "data": {
            "text/plain": [
              "<tf.Tensor: shape=(3, 2), dtype=float16, numpy=\n",
              "array([[10.,  7.],\n",
              "       [ 3.,  2.],\n",
              "       [ 8.,  9.]], dtype=float16)>"
            ]
          },
          "metadata": {
            "tags": []
          },
          "execution_count": 12
        }
      ]
    },
    {
      "cell_type": "code",
      "metadata": {
        "colab": {
          "base_uri": "https://localhost:8080/"
        },
        "id": "TFQXJyN6xqhz",
        "outputId": "09679b89-17df-483c-a505-9dad8a903d15"
      },
      "source": [
        "#Check dimensions of another matrix\n",
        "another_matrix.ndim"
      ],
      "execution_count": 13,
      "outputs": [
        {
          "output_type": "execute_result",
          "data": {
            "text/plain": [
              "2"
            ]
          },
          "metadata": {
            "tags": []
          },
          "execution_count": 13
        }
      ]
    },
    {
      "cell_type": "code",
      "metadata": {
        "id": "116jCDcd-1dY",
        "outputId": "cbad0bf1-b69d-4a51-9604-c886941d16be",
        "colab": {
          "base_uri": "https://localhost:8080/"
        }
      },
      "source": [
        "#Let's create a tensor\n",
        "\n",
        "tensor = tf.constant([[[1, 2, 3],\n",
        "                       [4, 5, 6]],\n",
        "                       [[7, 8, 9],\n",
        "                       [10, 11, 12]],\n",
        "                       [[13, 14, 15],\n",
        "                       [16, 17, 18]],\n",
        "                       [[19, 20, 21],\n",
        "                       [22, 23, 24]] ])\n",
        "tensor"
      ],
      "execution_count": 17,
      "outputs": [
        {
          "output_type": "execute_result",
          "data": {
            "text/plain": [
              "<tf.Tensor: shape=(4, 2, 3), dtype=int32, numpy=\n",
              "array([[[ 1,  2,  3],\n",
              "        [ 4,  5,  6]],\n",
              "\n",
              "       [[ 7,  8,  9],\n",
              "        [10, 11, 12]],\n",
              "\n",
              "       [[13, 14, 15],\n",
              "        [16, 17, 18]],\n",
              "\n",
              "       [[19, 20, 21],\n",
              "        [22, 23, 24]]], dtype=int32)>"
            ]
          },
          "metadata": {
            "tags": []
          },
          "execution_count": 17
        }
      ]
    },
    {
      "cell_type": "code",
      "metadata": {
        "id": "T35AsD_7ALwz",
        "outputId": "114a7c6e-3c84-4785-f835-575af1429a72",
        "colab": {
          "base_uri": "https://localhost:8080/"
        }
      },
      "source": [
        "tensor.ndim"
      ],
      "execution_count": 18,
      "outputs": [
        {
          "output_type": "execute_result",
          "data": {
            "text/plain": [
              "3"
            ]
          },
          "metadata": {
            "tags": []
          },
          "execution_count": 18
        }
      ]
    },
    {
      "cell_type": "code",
      "metadata": {
        "id": "4Wf1x3B5Bnfz"
      },
      "source": [
        ""
      ],
      "execution_count": null,
      "outputs": []
    },
    {
      "cell_type": "markdown",
      "metadata": {
        "id": "heIgH-qdA8Py"
      },
      "source": [
        "What we've created so far :\n",
        "\n",
        "* Scalar : a single number\n",
        "* Vector : a number with direction (eg. wind speed and direction)\n",
        "* Matrix : a 2-dimensional array of numbers\n",
        "* Tensor : an n-dimensional array of numbers (where n can be any number, a 0-dimensional tensor is a scalar, a 1-dimensional is vector, )"
      ]
    }
  ]
}