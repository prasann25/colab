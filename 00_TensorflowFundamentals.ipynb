{
  "nbformat": 4,
  "nbformat_minor": 0,
  "metadata": {
    "colab": {
      "name": "00_TensorflowFundamentals.ipynb",
      "provenance": [],
      "authorship_tag": "ABX9TyMjLRMGMyUaalfl/icwnHVH"
    },
    "kernelspec": {
      "name": "python3",
      "display_name": "Python 3"
    },
    "language_info": {
      "name": "python"
    }
  },
  "cells": [
    {
      "cell_type": "code",
      "metadata": {
        "id": "8szA_j63Dohh"
      },
      "source": [
        ""
      ],
      "execution_count": null,
      "outputs": []
    },
    {
      "cell_type": "markdown",
      "metadata": {
        "id": "WGotGUQUHZPj"
      },
      "source": [
        "**Test 111"
      ]
    },
    {
      "cell_type": "markdown",
      "metadata": {
        "id": "FsEBZgv3HQ_G"
      },
      "source": [
        "In this notebook, we are going to cover some of the most fundamental concepts of tensors using TensorFlow\n",
        "\n",
        "More specifically we're going to cover :\n",
        "\n",
        "\n",
        "> Indented block\n",
        "*    Introduction to tensors\n",
        "* Getting informations from tensors\n",
        "* Manipulating tensors\n",
        "* Tensors and NumPy\n",
        "*Using @tf.function(a way to speed up your regular Python functons)\n",
        "*Using GPUs with TensorFlow(or TPUs)\n",
        "*Exercises to your self!\n",
        "\n",
        "\n",
        "\n",
        "\n",
        "\n",
        "\n"
      ]
    },
    {
      "cell_type": "markdown",
      "metadata": {
        "id": "tF593hzKHPMx"
      },
      "source": [
        ""
      ]
    },
    {
      "cell_type": "markdown",
      "metadata": {
        "id": "mYMZKmenFKln"
      },
      "source": [
        ""
      ]
    },
    {
      "cell_type": "code",
      "metadata": {
        "id": "4ZmtrEToFLH8"
      },
      "source": [
        ""
      ],
      "execution_count": null,
      "outputs": []
    }
  ]
}