{
  "nbformat": 4,
  "nbformat_minor": 0,
  "metadata": {
    "colab": {
      "name": "03_convolutional_neural_network_in_tensorflow",
      "provenance": [],
      "authorship_tag": "ABX9TyMxClK+YQNV6izm3659px4f",
      "include_colab_link": true
    },
    "kernelspec": {
      "name": "python3",
      "display_name": "Python 3"
    },
    "language_info": {
      "name": "python"
    },
    "accelerator": "GPU"
  },
  "cells": [
    {
      "cell_type": "markdown",
      "metadata": {
        "id": "view-in-github",
        "colab_type": "text"
      },
      "source": [
        "<a href=\"https://colab.research.google.com/github/prasann25/colab/blob/main/03_convolutional_neural_network_in_tensorflow.ipynb\" target=\"_parent\"><img src=\"https://colab.research.google.com/assets/colab-badge.svg\" alt=\"Open In Colab\"/></a>"
      ]
    },
    {
      "cell_type": "markdown",
      "metadata": {
        "id": "-8fbclEDHYdu"
      },
      "source": [
        "# Introduction to Convolutional Neural Networks and Computer Vision with TensorFlow\n",
        "\n",
        "\n",
        "Computer vision is the practice of writing algorithms which can discover patterns in visual data. Such as the camera of a self-driving car recognizing the car in front.\n"
      ]
    },
    {
      "cell_type": "markdown",
      "metadata": {
        "id": "UKVmDo7gUnMh"
      },
      "source": [
        "##  Get the data\n",
        "\n",
        "The images we're working with are the from the Food101 dataset (101 different classes of food) :[https://www.kaggle.com/kmader/food41](https://www.kaggle.com/kmader/food41)\n",
        "\n",
        "However we've modified it to only use 2 classes (pizza & steak) using the image data modification notebook : [https://github.com/mrdbourke/tensorflow-deep-learning/blob/main/extras/image_data_modification.ipynb](https://github.com/mrdbourke/tensorflow-deep-learning/blob/main/extras/image_data_modification.ipynb)\n",
        "\n",
        "Note : We start with a smaller dataset so we can experiment quickly and figure what works (or better yet what doesnt work)\n"
      ]
    },
    {
      "cell_type": "code",
      "metadata": {
        "colab": {
          "base_uri": "https://localhost:8080/"
        },
        "id": "NItWe34nUr7y",
        "outputId": "fa2efa98-911e-4150-9fe0-ac055a84b88f"
      },
      "source": [
        "import zipfile\n",
        "\n",
        "!wget https://storage.googleapis.com/ztm_tf_course/food_vision/pizza_steak.zip\n",
        "\n",
        "# Unzip the download file\n",
        "zip_ref = zipfile.ZipFile(\"pizza_steak.zip\")\n",
        "zip_ref.extractall()\n",
        "zip_ref.close()\n"
      ],
      "execution_count": 1,
      "outputs": [
        {
          "output_type": "stream",
          "text": [
            "--2021-06-30 02:19:36--  https://storage.googleapis.com/ztm_tf_course/food_vision/pizza_steak.zip\n",
            "Resolving storage.googleapis.com (storage.googleapis.com)... 74.125.20.128, 74.125.195.128, 74.125.142.128, ...\n",
            "Connecting to storage.googleapis.com (storage.googleapis.com)|74.125.20.128|:443... connected.\n",
            "HTTP request sent, awaiting response... 200 OK\n",
            "Length: 109579078 (105M) [application/zip]\n",
            "Saving to: ‘pizza_steak.zip’\n",
            "\n",
            "pizza_steak.zip     100%[===================>] 104.50M   143MB/s    in 0.7s    \n",
            "\n",
            "2021-06-30 02:19:37 (143 MB/s) - ‘pizza_steak.zip’ saved [109579078/109579078]\n",
            "\n"
          ],
          "name": "stdout"
        }
      ]
    },
    {
      "cell_type": "markdown",
      "metadata": {
        "id": "kV8olxuAWQsg"
      },
      "source": [
        "## Inspect the data (become one with it)\n",
        "\n",
        "A very crucial step at the begining of any machine learning project is become one with the data.\n",
        "\n",
        "And for a computer vision.. this usually means visualizing many samples of your data."
      ]
    },
    {
      "cell_type": "code",
      "metadata": {
        "colab": {
          "base_uri": "https://localhost:8080/"
        },
        "id": "yVY5xt12X3C9",
        "outputId": "1c79370c-80a9-4bab-a3fc-2d88ac0f765b"
      },
      "source": [
        "! ls pizza_steak/"
      ],
      "execution_count": 2,
      "outputs": [
        {
          "output_type": "stream",
          "text": [
            "test  train\n"
          ],
          "name": "stdout"
        }
      ]
    },
    {
      "cell_type": "code",
      "metadata": {
        "colab": {
          "base_uri": "https://localhost:8080/"
        },
        "id": "vwkwmuDaX7Jo",
        "outputId": "72169b1c-f52b-4037-aa55-605f32584a51"
      },
      "source": [
        "! ls pizza_steak/train"
      ],
      "execution_count": 3,
      "outputs": [
        {
          "output_type": "stream",
          "text": [
            "pizza  steak\n"
          ],
          "name": "stdout"
        }
      ]
    },
    {
      "cell_type": "code",
      "metadata": {
        "colab": {
          "base_uri": "https://localhost:8080/"
        },
        "id": "fpRfAvMYX_Fy",
        "outputId": "69bebbf8-e909-42ad-80a0-77ad5cb7bbbc"
      },
      "source": [
        "! ls pizza_steak/train/pizza"
      ],
      "execution_count": 4,
      "outputs": [
        {
          "output_type": "stream",
          "text": [
            "1008104.jpg  1638227.jpg  2235981.jpg  2774899.jpg  3464027.jpg  576236.jpg\n",
            "1008144.jpg  1646974.jpg  2236914.jpg  2775763.jpg  3464858.jpg  5764.jpg\n",
            "1008844.jpg  1649108.jpg  2241448.jpg  2778214.jpg  3473991.jpg  579691.jpg\n",
            "1008941.jpg  1649276.jpg  2247711.jpg  277963.jpg   3475936.jpg  593400.jpg\n",
            "1011404.jpg  1652943.jpg  2253670.jpg  2785084.jpg  3478964.jpg  59445.jpg\n",
            "102037.jpg   1654444.jpg  2255361.jpg  2793535.jpg  3479875.jpg  596494.jpg\n",
            "1026922.jpg  1660415.jpg  2274117.jpg  27963.jpg    3479936.jpg  598381.jpg\n",
            "1029698.jpg  1663749.jpg  2279642.jpg  2800325.jpg  3484590.jpg  604977.jpg\n",
            "1033251.jpg  1665654.jpg  2280345.jpg  2811032.jpg  3493457.jpg  608085.jpg\n",
            "1035854.jpg  166823.jpg   2285269.jpg  282013.jpg   349946.jpg\t 618021.jpg\n",
            "1038357.jpg  1670471.jpg  2285942.jpg  2821034.jpg  350358.jpg\t 61822.jpg\n",
            "1040878.jpg  1671531.jpg  228778.jpg   2821048.jpg  3505182.jpg  618348.jpg\n",
            "1044524.jpg  1678284.jpg  2291093.jpg  2827938.jpg  3512070.jpg  625687.jpg\n",
            "1044789.jpg  1681043.jpg  2292986.jpg  2831983.jpg  3514408.jpg  626170.jpg\n",
            "1047561.jpg  1686908.jpg  2293453.jpg  2844278.jpg  352051.jpg\t 626902.jpg\n",
            "1048649.jpg  1687681.jpg  2301105.jpg  2849924.jpg  3530210.jpg  63480.jpg\n",
            "1054420.jpg  168879.jpg   2304021.jpg  2852301.jpg  3536393.jpg  647215.jpg\n",
            "1055065.jpg  1688838.jpg  2312987.jpg  2855844.jpg  3546278.jpg  652004.jpg\n",
            "105910.jpg   169318.jpg   23199.jpg    287000.jpg   3549765.jpg  656817.jpg\n",
            "1065078.jpg  169720.jpg   2321465.jpg  2877565.jpg  3550805.jpg  662526.jpg\n",
            "1069629.jpg  1705747.jpg  232976.jpg   2881282.jpg  3554287.jpg  663285.jpg\n",
            "1075568.jpg  1705773.jpg  2330965.jpg  2885050.jpg  3555299.jpg  665900.jpg\n",
            "1076699.jpg  1708197.jpg  233143.jpg   2885796.jpg  3557127.jpg  667309.jpg\n",
            "1083380.jpg  1717790.jpg  2331467.jpg  2902766.jpg  3574192.jpg  668944.jpg\n",
            "1084888.jpg  1742542.jpg  2361973.jpg  2916034.jpg  358178.jpg\t 670201.jpg\n",
            "1088332.jpg  1743389.jpg  2365046.jpg  2922019.jpg  3589437.jpg  674188.jpg\n",
            "1089334.jpg  175626.jpg   2382016.jpg  2924941.jpg  3595758.jpg  676432.jpg\n",
            "1097980.jpg  1757288.jpg  238843.jpg   2933332.jpg  3597955.jpg  682201.jpg\n",
            "1098197.jpg  1761451.jpg  2397868.jpg  29417.jpg    3614525.jpg  68684.jpg\n",
            "1105700.jpg  1763205.jpg  2410138.jpg  2951831.jpg  3628930.jpg  698251.jpg\n",
            "1107714.jpg  1774438.jpg  2412237.jpg  2952219.jpg  3629996.jpg  702165.jpg\n",
            "111051.jpg   1778167.jpg  2412970.jpg  2959665.jpg  3644733.jpg  704161.jpg\n",
            "1110966.jpg  1786840.jpg  2421445.jpg  2965.jpg     3653528.jpg  709273.jpg\n",
            "1123386.jpg  179165.jpg   2426686.jpg  2967846.jpg  3653643.jpg  709947.jpg\n",
            "1137400.jpg  1795316.jpg  2428085.jpg  2980131.jpg  3660716.jpg  712149.jpg\n",
            "1138936.jpg  1806491.jpg  242813.jpg   2989328.jpg  3663580.jpg  714991.jpg\n",
            "1143057.jpg  1810844.jpg  2432061.jpg  2990023.jpg  3675128.jpg  715169.jpg\n",
            "1157438.jpg  1818014.jpg  2439992.jpg  2990186.jpg  3678290.jpg  717350.jpg\n",
            "1159797.jpg  1828050.jpg  2441328.jpg  2992084.jpg  368644.jpg\t 721383.jpg\n",
            "1165451.jpg  1836888.jpg  2443498.jpg  299535.jpg   369017.jpg\t 724445.jpg\n",
            "1173913.jpg  1839077.jpg  244505.jpg   2995731.jpg  3693710.jpg  72716.jpg\n",
            "1183278.jpg  1870865.jpg  2448844.jpg  2999507.jpg  3699992.jpg  739735.jpg\n",
            "1202925.jpg  1871498.jpg  2451169.jpg  3000535.jpg  3702863.jpg  740385.jpg\n",
            "1205154.jpg  1877103.jpg  2456207.jpg  300869.jpg   3703769.jpg  741491.jpg\n",
            "1207213.jpg  1878005.jpg  2462190.jpg  3018077.jpg  3704879.jpg  741883.jpg\n",
            "1209973.jpg  1881674.jpg  2467990.jpg  3020376.jpg  3705479.jpg  755968.jpg\n",
            "121834.jpg   1888911.jpg  2468499.jpg  3023774.jpg  370643.jpg\t 759025.jpg\n",
            "12301.jpg    1890444.jpg  2470671.jpg  302591.jpg   3712344.jpg  759873.jpg\n",
            "1234172.jpg  1895479.jpg  2471646.jpg  3039549.jpg  3713343.jpg  762788.jpg\n",
            "1243215.jpg  1897129.jpg  2473559.jpg  3042454.jpg  372275.jpg\t 764429.jpg\n",
            "1245628.jpg  1898723.jpg  2476468.jpg  3055697.jpg  3742272.jpg  765000.jpg\n",
            "1247645.jpg  1899562.jpg  2481333.jpg  3057192.jpg  3745884.jpg  765799.jpg\n",
            "1248346.jpg  1899785.jpg  248252.jpg   3063955.jpg  3749515.jpg  768276.jpg\n",
            "1248478.jpg  1900585.jpg  2486277.jpg  3066951.jpg  375401.jpg\t 771878.jpg\n",
            "1260554.jpg  1906287.jpg  2487039.jpg  307677.jpg   3763593.jpg  774142.jpg\n",
            "1267359.jpg  1907713.jpg  2490163.jpg  3082068.jpg  376417.jpg\t 77677.jpg\n",
            "1269960.jpg  1912976.jpg  2491110.jpg  3082443.jpg  3766053.jpg  786995.jpg\n",
            "1270986.jpg  1914969.jpg  2492287.jpg  3084957.jpg  3766476.jpg  790432.jpg\n",
            "12718.jpg    1915343.jpg  2493954.jpg  3102271.jpg  3767723.jpg  790841.jpg\n",
            "1284978.jpg  1916846.jpg  2501636.jpg  3105724.jpg  3767773.jpg  792093.jpg\n",
            "1285298.jpg  1934355.jpg  2501961.jpg  3109486.jpg  3772054.jpg  799874.jpg\n",
            "1287004.jpg  1944600.jpg  2502234.jpg  312479.jpg   3778801.jpg  803243.jpg\n",
            "1289139.jpg  1947572.jpg  2508157.jpg  3128495.jpg  3790235.jpg  807128.jpg\n",
            "129536.jpg   1950499.jpg  2511911.jpg  3148119.jpg  3793314.jpg  809024.jpg\n",
            "1312761.jpg  1951130.jpg  2516510.jpg  3164761.jpg  3798959.jpg  812349.jpg\n",
            "131561.jpg   1958364.jpg  2519291.jpg  3168266.jpg  3803596.jpg  816577.jpg\n",
            "132484.jpg   1964051.jpg  2529205.jpg  3170114.jpg  3821701.jpg  816729.jpg\n",
            "132554.jpg   1968947.jpg  253127.jpg   3173779.jpg  3822139.jpg  819547.jpg\n",
            "1325918.jpg  1973447.jpg  2534774.jpg  317861.jpg   3826377.jpg  823104.jpg\n",
            "1326065.jpg  1980167.jpg  2556273.jpg  3185774.jpg  382829.jpg\t 82578.jpg\n",
            "1327402.jpg  1981348.jpg  2557340.jpg  3191035.jpg  3830773.jpg  82772.jpg\n",
            "1336882.jpg  1984976.jpg  2560539.jpg  3193599.jpg  38349.jpg\t 829229.jpg\n",
            "134462.jpg   1987634.jpg  2569760.jpg  3196721.jpg  384215.jpg\t 83538.jpg\n",
            "1344966.jpg  1988629.jpg  2570329.jpg  32004.jpg    3845083.jpg  835833.jpg\n",
            "1351146.jpg  199019.jpg   2572958.jpg  320570.jpg   3860002.jpg  839461.jpg\n",
            "1351631.jpg  1998483.jpg  2574896.jpg  3207504.jpg  3862243.jpg  853441.jpg\n",
            "1370319.jpg  2005870.jpg  2576168.jpg  3214153.jpg  3864383.jpg  857888.jpg\n",
            "1383291.jpg  2010437.jpg  2577373.jpg  3256974.jpg  3871666.jpg  861771.jpg\n",
            "1384464.jpg  2014717.jpg  2577377.jpg  3264148.jpg  3873326.jpg  866834.jpg\n",
            "138855.jpg   2019441.jpg  2581276.jpg  32666.jpg    387697.jpg\t 868789.jpg\n",
            "1390308.jpg  2019583.jpg  2584745.jpg  326809.jpg   3882444.jpg  869763.jpg\n",
            "13983.jpg    2021516.jpg  2587918.jpg  3269634.jpg  3906901.jpg  872094.jpg\n",
            "1399531.jpg  2026009.jpg  2587921.jpg  327415.jpg   3910117.jpg  874288.jpg\n",
            "140031.jpg   2032236.jpg  259449.jpg   3281494.jpg  3913912.jpg  875262.jpg\n",
            "1403878.jpg  2035248.jpg  2602611.jpg  329302.jpg   3917951.jpg  875856.jpg\n",
            "1407753.jpg  203831.jpg   2605343.jpg  3297714.jpg  393658.jpg\t 877881.jpg\n",
            "1412034.jpg  2044732.jpg  2606727.jpg  3312584.jpg  394049.jpg\t 878377.jpg\n",
            "1413289.jpg  2077999.jpg  262133.jpg   3314176.jpg  394590.jpg\t 884986.jpg\n",
            "141507.jpg   2078141.jpg  2621534.jpg  3314535.jpg  395034.jpg\t 886505.jpg\n",
            "1423515.jpg  2078208.jpg  2622336.jpg  332231.jpg   395960.jpg\t 8917.jpg\n",
            "1425089.jpg  2091857.jpg  2639094.jpg  3324050.jpg  398565.jpg\t 893644.jpg\n",
            "1426781.jpg  2097315.jpg  2640502.jpg  3326344.jpg  401701.jpg\t 896448.jpg\n",
            "143453.jpg   2098014.jpg  2664219.jpg  3333459.jpg  401979.jpg\t 898119.jpg\n",
            "1454995.jpg  2104569.jpg  2666066.jpg  3337370.jpg  40231.jpg\t 898303.jpg\n",
            "1468795.jpg  2110257.jpg  2667244.jpg  3338774.jpg  403431.jpg\t 898843.jpg\n",
            "147785.jpg   2112757.jpg  2667255.jpg  333985.jpg   413710.jpg\t 89892.jpg\n",
            "1499661.jpg  2121603.jpg  2667824.jpg  3342039.jpg  413789.jpg\t 899818.jpg\n",
            "1504421.jpg  2126352.jpg  2670730.jpg  3366256.jpg  419516.jpg\t 899959.jpg\n",
            "1504719.jpg  2126709.jpg  2671508.jpg  3367113.jpg  422261.jpg\t 904938.jpg\n",
            "1507039.jpg  2135635.jpg  2674351.jpg  337272.jpg   424288.jpg\t 910419.jpg\n",
            "1512514.jpg  2137341.jpg  2687575.jpg  3376519.jpg  430118.jpg\t 917774.jpg\n",
            "1524599.jpg  2142812.jpg  2693334.jpg  3379038.jpg  44449.jpg\t 918506.jpg\n",
            "1524655.jpg  214728.jpg   269396.jpg   3382880.jpg  448519.jpg\t 920219.jpg\n",
            "1535273.jpg  2148129.jpg  2694223.jpg  3383977.jpg  452989.jpg\t 920595.jpg\n",
            "1544197.jpg  2154394.jpg  2697971.jpg  3384856.jpg  464388.jpg\t 926046.jpg\n",
            "1552253.jpg  2155475.jpg  2700543.jpg  338838.jpg   465454.jpg\t 928663.jpg\n",
            "1553353.jpg  2155735.jpg  2702825.jpg  3391208.jpg  467986.jpg\t 928670.jpg\n",
            "1571074.jpg  2161241.jpg  2705497.jpg  3392649.jpg  474493.jpg\t 929067.jpg\n",
            "1572608.jpg  2164255.jpg  2707814.jpg  3392671.jpg  489347.jpg\t 937915.jpg\n",
            "1573562.jpg  216720.jpg   2711828.jpg  3393898.jpg  489532.jpg\t 938821.jpg\n",
            "1576248.jpg  2172850.jpg  271592.jpg   3397336.jpg  495892.jpg\t 93961.jpg\n",
            "1577871.jpg  218142.jpg   271675.jpg   3398309.jpg  513754.jpg\t 947246.jpg\n",
            "1584379.jpg  218711.jpg   271779.jpg   3399610.jpg  514014.jpg\t 951953.jpg\n",
            "1593665.jpg  2187466.jpg  2722646.jpg  3401720.jpg  517902.jpg\t 959901.jpg\n",
            "1593835.jpg  2188452.jpg  2723529.jpg  3401767.jpg  518527.jpg\t 962785.jpg\n",
            "1600705.jpg  2190018.jpg  2739039.jpg  340814.jpg   527199.jpg\t 966644.jpg\n",
            "1608000.jpg  220190.jpg   2739100.jpg  3425999.jpg  52934.jpg\t 967694.jpg\n",
            "1617418.jpg  220910.jpg   2742044.jpg  3426946.jpg  532970.jpg\t 970073.jpg\n",
            "1620560.jpg  221048.jpg   274945.jpg   3427699.jpg  543556.jpg\t 972000.jpg\n",
            "1620761.jpg  2215531.jpg  2754150.jpg  3434372.jpg  54461.jpg\t 976382.jpg\n",
            "1625147.jpg  2217956.jpg  2755875.jpg  3441394.jpg  54540.jpg\t 979955.jpg\n",
            "163039.jpg   2224099.jpg  2757327.jpg  3443136.jpg  545561.jpg\t 979998.jpg\n",
            "1633289.jpg  2224828.jpg  2760984.jpg  3456440.jpg  56449.jpg\t 985164.jpg\n",
            "1635386.jpg  2228322.jpg  276803.jpg   3462250.jpg  568383.jpg\t 98617.jpg\n",
            "1636299.jpg  2231356.jpg  2769168.jpg  34632.jpg    568995.jpg\t 998719.jpg\n"
          ],
          "name": "stdout"
        }
      ]
    },
    {
      "cell_type": "code",
      "metadata": {
        "colab": {
          "base_uri": "https://localhost:8080/"
        },
        "id": "4CtKGJWtYB-A",
        "outputId": "2b19a71a-dc9b-4f97-a677-e11d63e8e8bf"
      },
      "source": [
        "import os\n",
        "# Walk through pizza_steak directoty and list number of files\n",
        "\n",
        "for dirpath, dirnames, filenames in os.walk(\"pizza_steak\") :\n",
        "  print(f\"There are {len(dirnames)} directories and {len(filenames)} images in '{dirpath}'.\")"
      ],
      "execution_count": 5,
      "outputs": [
        {
          "output_type": "stream",
          "text": [
            "There are 2 directories and 1 images in 'pizza_steak'.\n",
            "There are 2 directories and 1 images in 'pizza_steak/train'.\n",
            "There are 0 directories and 750 images in 'pizza_steak/train/pizza'.\n",
            "There are 0 directories and 750 images in 'pizza_steak/train/steak'.\n",
            "There are 2 directories and 1 images in 'pizza_steak/test'.\n",
            "There are 0 directories and 250 images in 'pizza_steak/test/pizza'.\n",
            "There are 0 directories and 250 images in 'pizza_steak/test/steak'.\n"
          ],
          "name": "stdout"
        }
      ]
    },
    {
      "cell_type": "code",
      "metadata": {
        "colab": {
          "base_uri": "https://localhost:8080/"
        },
        "id": "DpCKOMU9Yi6Q",
        "outputId": "b1e74bc9-5177-4acc-a011-e6e14474c181"
      },
      "source": [
        "# the extra file in out pizza_steak directory is \".DS_Store\"\n",
        "! ls -la pizza_steak"
      ],
      "execution_count": 6,
      "outputs": [
        {
          "output_type": "stream",
          "text": [
            "total 24\n",
            "drwxr-xr-x 4 root root 4096 Jun 30 02:19 .\n",
            "drwxr-xr-x 1 root root 4096 Jun 30 02:19 ..\n",
            "-rw-r--r-- 1 root root 6148 Jun 30 02:19 .DS_Store\n",
            "drwxr-xr-x 4 root root 4096 Jun 30 02:19 test\n",
            "drwxr-xr-x 4 root root 4096 Jun 30 02:19 train\n"
          ],
          "name": "stdout"
        }
      ]
    },
    {
      "cell_type": "code",
      "metadata": {
        "colab": {
          "base_uri": "https://localhost:8080/"
        },
        "id": "PIbUYT5XfXne",
        "outputId": "106f7511-87eb-45a4-efe5-ac1e0ad54018"
      },
      "source": [
        "# Another way to find out how many images are in a file\n",
        "\n",
        "num_steak_images_train = len(os.listdir(\"pizza_steak/train/steak\"))\n",
        "num_steak_images_train"
      ],
      "execution_count": 7,
      "outputs": [
        {
          "output_type": "execute_result",
          "data": {
            "text/plain": [
              "750"
            ]
          },
          "metadata": {
            "tags": []
          },
          "execution_count": 7
        }
      ]
    },
    {
      "cell_type": "code",
      "metadata": {
        "colab": {
          "base_uri": "https://localhost:8080/"
        },
        "id": "QDobxxdiglHz",
        "outputId": "9d5a1309-651a-49da-ff0a-8f568340fdce"
      },
      "source": [
        "num_pizza_images_train = len(os.listdir(\"pizza_steak/train/pizza\"))\n",
        "num_pizza_images_train"
      ],
      "execution_count": 8,
      "outputs": [
        {
          "output_type": "execute_result",
          "data": {
            "text/plain": [
              "750"
            ]
          },
          "metadata": {
            "tags": []
          },
          "execution_count": 8
        }
      ]
    },
    {
      "cell_type": "markdown",
      "metadata": {
        "id": "KO-HDwlzYt_1"
      },
      "source": [
        "To visualize our images, first let's get the class names programmatically.\n"
      ]
    },
    {
      "cell_type": "code",
      "metadata": {
        "colab": {
          "base_uri": "https://localhost:8080/"
        },
        "id": "sRAykr_Eg5Kc",
        "outputId": "be0b66b4-444b-4ab4-c71b-13e7b0af237c"
      },
      "source": [
        "# Get the classnames programmatically\n",
        "import pathlib\n",
        "import numpy as np\n",
        "data_dir = pathlib.Path(\"pizza_steak/train\")\n",
        "class_names = np.array(sorted([item.name for item in data_dir.glob(\"*\")])) #Created  a list of class_names from the subdirectories\n",
        "class_names = class_names[1:] #remove .DS_store\n",
        "print(class_names)"
      ],
      "execution_count": 9,
      "outputs": [
        {
          "output_type": "stream",
          "text": [
            "['pizza' 'steak']\n"
          ],
          "name": "stdout"
        }
      ]
    },
    {
      "cell_type": "code",
      "metadata": {
        "id": "wyVpWwpPhtv0"
      },
      "source": [
        "# Let's visualize our images\n",
        "import matplotlib.pyplot as plt\n",
        "import matplotlib.image as mpimg\n",
        "import random\n",
        "\n",
        "def view_random_image(target_dir, target_class) :\n",
        "  # Setup the target directory (we'll view images from here)\n",
        "  target_folder = target_dir + target_class\n",
        "\n",
        "  # Get a random image path\n",
        "  random_image = random.sample(os.listdir(target_folder), 1)\n",
        "  print(random_image)\n",
        "\n",
        "  # Read in the image and plot it using matplotlib\n",
        "  img = mpimg.imread(target_folder + \"/\" + random_image[0])\n",
        "  plt.imshow(img)\n",
        "  plt.title(target_class)\n",
        "  plt.axis(\"off\")\n",
        "  print(f\"Image shape: {img.shape}\") # Show the shape of the image\n",
        "\n",
        "  return img"
      ],
      "execution_count": 10,
      "outputs": []
    },
    {
      "cell_type": "code",
      "metadata": {
        "colab": {
          "base_uri": "https://localhost:8080/",
          "height": 298
        },
        "id": "gVkn9LLliqMt",
        "outputId": "2fe20e48-3864-4059-daca-f542f970b3bb"
      },
      "source": [
        "# View a random image from the training dataset\n",
        "img = view_random_image(target_dir=\"pizza_steak/train/\",\n",
        "                        target_class=\"pizza\")"
      ],
      "execution_count": 11,
      "outputs": [
        {
          "output_type": "stream",
          "text": [
            "['242813.jpg']\n",
            "Image shape: (512, 383, 3)\n"
          ],
          "name": "stdout"
        },
        {
          "output_type": "display_data",
          "data": {
            "image/png": "[encoded data removed]",
            "text/plain": [
              "<Figure size 432x288 with 1 Axes>"
            ]
          },
          "metadata": {
            "tags": [],
            "needs_background": "light"
          }
        }
      ]
    },
    {
      "cell_type": "code",
      "metadata": {
        "colab": {
          "base_uri": "https://localhost:8080/"
        },
        "id": "dwpFwqTjjd-p",
        "outputId": "5840468b-c195-4f4c-c3bc-8a8ea11328a4"
      },
      "source": [
        "# The images we've imported and plotted are actually arrays/tensors of different pixel values\n",
        "import tensorflow as tf\n",
        "tf.constant(img)"
      ],
      "execution_count": 12,
      "outputs": [
        {
          "output_type": "execute_result",
          "data": {
            "text/plain": [
              "<tf.Tensor: shape=(512, 383, 3), dtype=uint8, numpy=\n",
              "array([[[42, 45, 50],\n",
              "        [42, 45, 50],\n",
              "        [43, 46, 51],\n",
              "        ...,\n",
              "        [27, 25, 26],\n",
              "        [24, 20, 21],\n",
              "        [21, 17, 18]],\n",
              "\n",
              "       [[42, 45, 50],\n",
              "        [43, 46, 51],\n",
              "        [43, 46, 51],\n",
              "        ...,\n",
              "        [28, 26, 27],\n",
              "        [22, 20, 21],\n",
              "        [21, 17, 18]],\n",
              "\n",
              "       [[43, 46, 51],\n",
              "        [43, 46, 51],\n",
              "        [44, 47, 52],\n",
              "        ...,\n",
              "        [29, 27, 28],\n",
              "        [23, 21, 22],\n",
              "        [20, 18, 19]],\n",
              "\n",
              "       ...,\n",
              "\n",
              "       [[89, 40,  0],\n",
              "        [89, 40,  0],\n",
              "        [90, 41,  0],\n",
              "        ...,\n",
              "        [ 0,  0,  0],\n",
              "        [ 0,  0,  0],\n",
              "        [ 0,  0,  0]],\n",
              "\n",
              "       [[89, 37,  0],\n",
              "        [90, 38,  0],\n",
              "        [90, 38,  0],\n",
              "        ...,\n",
              "        [ 0,  0,  0],\n",
              "        [ 0,  0,  0],\n",
              "        [ 0,  0,  0]],\n",
              "\n",
              "       [[89, 36,  0],\n",
              "        [89, 37,  0],\n",
              "        [89, 37,  0],\n",
              "        ...,\n",
              "        [ 0,  0,  0],\n",
              "        [ 0,  0,  0],\n",
              "        [ 0,  0,  0]]], dtype=uint8)>"
            ]
          },
          "metadata": {
            "tags": []
          },
          "execution_count": 12
        }
      ]
    },
    {
      "cell_type": "code",
      "metadata": {
        "colab": {
          "base_uri": "https://localhost:8080/"
        },
        "id": "WpPAbj_fguDR",
        "outputId": "d2f336da-e16c-4bfa-cad6-976e9f638733"
      },
      "source": [
        "#  View the image shape\n",
        "img.shape # returns width , height , color channels"
      ],
      "execution_count": 13,
      "outputs": [
        {
          "output_type": "execute_result",
          "data": {
            "text/plain": [
              "(512, 383, 3)"
            ]
          },
          "metadata": {
            "tags": []
          },
          "execution_count": 13
        }
      ]
    },
    {
      "cell_type": "markdown",
      "metadata": {
        "id": "nnmIWScKjZgR"
      },
      "source": [
        "**Note** : As we've discussed before, many machine learning model, including neural networks prefer the values they work with to be between 0 and 1. Knowing this, one of the most common preprocessing steps for working with images is to **scale**(also referred to as **normalize**) their pixel values by dividing the image arrays by 255. (since 255 is the maximum pixel value)."
      ]
    },
    {
      "cell_type": "code",
      "metadata": {
        "colab": {
          "base_uri": "https://localhost:8080/"
        },
        "id": "26fLiB3FiESl",
        "outputId": "2e0a884e-b536-444a-f757-d21bde359f65"
      },
      "source": [
        "# Get all the pixels values between 0 and 1\n",
        "img/255."
      ],
      "execution_count": 14,
      "outputs": [
        {
          "output_type": "execute_result",
          "data": {
            "text/plain": [
              "array([[[0.16470588, 0.17647059, 0.19607843],\n",
              "        [0.16470588, 0.17647059, 0.19607843],\n",
              "        [0.16862745, 0.18039216, 0.2       ],\n",
              "        ...,\n",
              "        [0.10588235, 0.09803922, 0.10196078],\n",
              "        [0.09411765, 0.07843137, 0.08235294],\n",
              "        [0.08235294, 0.06666667, 0.07058824]],\n",
              "\n",
              "       [[0.16470588, 0.17647059, 0.19607843],\n",
              "        [0.16862745, 0.18039216, 0.2       ],\n",
              "        [0.16862745, 0.18039216, 0.2       ],\n",
              "        ...,\n",
              "        [0.10980392, 0.10196078, 0.10588235],\n",
              "        [0.08627451, 0.07843137, 0.08235294],\n",
              "        [0.08235294, 0.06666667, 0.07058824]],\n",
              "\n",
              "       [[0.16862745, 0.18039216, 0.2       ],\n",
              "        [0.16862745, 0.18039216, 0.2       ],\n",
              "        [0.17254902, 0.18431373, 0.20392157],\n",
              "        ...,\n",
              "        [0.11372549, 0.10588235, 0.10980392],\n",
              "        [0.09019608, 0.08235294, 0.08627451],\n",
              "        [0.07843137, 0.07058824, 0.0745098 ]],\n",
              "\n",
              "       ...,\n",
              "\n",
              "       [[0.34901961, 0.15686275, 0.        ],\n",
              "        [0.34901961, 0.15686275, 0.        ],\n",
              "        [0.35294118, 0.16078431, 0.        ],\n",
              "        ...,\n",
              "        [0.        , 0.        , 0.        ],\n",
              "        [0.        , 0.        , 0.        ],\n",
              "        [0.        , 0.        , 0.        ]],\n",
              "\n",
              "       [[0.34901961, 0.14509804, 0.        ],\n",
              "        [0.35294118, 0.14901961, 0.        ],\n",
              "        [0.35294118, 0.14901961, 0.        ],\n",
              "        ...,\n",
              "        [0.        , 0.        , 0.        ],\n",
              "        [0.        , 0.        , 0.        ],\n",
              "        [0.        , 0.        , 0.        ]],\n",
              "\n",
              "       [[0.34901961, 0.14117647, 0.        ],\n",
              "        [0.34901961, 0.14509804, 0.        ],\n",
              "        [0.34901961, 0.14509804, 0.        ],\n",
              "        ...,\n",
              "        [0.        , 0.        , 0.        ],\n",
              "        [0.        , 0.        , 0.        ],\n",
              "        [0.        , 0.        , 0.        ]]])"
            ]
          },
          "metadata": {
            "tags": []
          },
          "execution_count": 14
        }
      ]
    },
    {
      "cell_type": "markdown",
      "metadata": {
        "id": "jI8gWJhOifsI"
      },
      "source": [
        "## An end to end example of a CNN model\n",
        "\n",
        "Let's build a convolutional neural network to find patterns in our images, more specifically we need a way to :\n",
        "* Load our images\n",
        "* Preprocess our images\n",
        "* Build a CNN to find patterns in our images\n",
        "* Compile our CNN\n",
        "* Fit the CNN to our training data"
      ]
    },
    {
      "cell_type": "code",
      "metadata": {
        "colab": {
          "base_uri": "https://localhost:8080/"
        },
        "id": "ATjmeUoRkSwy",
        "outputId": "3285fdc1-94b0-460a-e0aa-65ca109fe674"
      },
      "source": [
        "import tensorflow as tf\n",
        "from tensorflow.keras.preprocessing.image import ImageDataGenerator\n",
        "\n",
        "#Set the seed\n",
        "tf.random.set_seed(42)\n",
        "\n",
        "#Preprocess the data(get all of the pixel values between 0 and 1, also called scaling/normalization)\n",
        "train_datagen = ImageDataGenerator(rescale = 1./255)\n",
        "valid_datagen = ImageDataGenerator(rescale=1./255)\n",
        "\n",
        "# Setup paths to our data directories\n",
        "train_dir = \"/content/pizza_steak/train\"\n",
        "test_dir = \"pizza_steak/test\"\n",
        "\n",
        "#Import data from directories and turn it into batches\n",
        "train_data = train_datagen.flow_from_directory(directory=train_dir, \n",
        "                                               batch_size=32,\n",
        "                                               target_size=(224, 224),\n",
        "                                               class_mode=\"binary\", \n",
        "                                               seed = 42)\n",
        "valid_data = valid_datagen.flow_from_directory(directory=test_dir, \n",
        "                                               batch_size=32, \n",
        "                                               target_size=(224, 224),\n",
        "                                               class_mode=\"binary\",\n",
        "                                               seed = 42)\n",
        "\n",
        "# Build a CNN model(same as Tiny VGG on the CNN explainer website)\n",
        "model_1 = tf.keras.Sequential([\n",
        "        tf.keras.layers.Conv2D(filters =10, \n",
        "                               kernel_size=3, \n",
        "                               activation=\"relu\",\n",
        "                               input_shape=(224, 224, 3)),\n",
        "        tf.keras.layers.Conv2D(10, 3, activation=\"relu\"),\n",
        "        tf.keras.layers.MaxPool2D(pool_size=2, \n",
        "                                  padding=\"valid\"),\n",
        "        tf.keras.layers.Conv2D(10, 3, activation=\"relu\"),\n",
        "        tf.keras.layers.Conv2D(10, 3, activation=\"relu\"),\n",
        "        tf.keras.layers.MaxPool2D(2),\n",
        "        tf.keras.layers.Flatten(),\n",
        "        tf.keras.layers.Dense(1, activation=\"sigmoid\")\n",
        "])\n",
        "\n",
        "# Compile the model\n",
        "model_1.compile(loss=\"binary_crossentropy\",\n",
        "                optimizer = tf.keras.optimizers.Adam(),\n",
        "                metrics=[\"accuracy\"])\n",
        "\n",
        "\n",
        "# Fit the model\n",
        "history_1 = model_1.fit(train_data, \n",
        "                        epochs=5,\n",
        "                        steps_per_epoch=len(train_data),\n",
        "                        validation_data=valid_data,\n",
        "                        validation_steps=len(valid_data))\n",
        "\n",
        "                                            "
      ],
      "execution_count": 15,
      "outputs": [
        {
          "output_type": "stream",
          "text": [
            "Found 1500 images belonging to 2 classes.\n",
            "Found 500 images belonging to 2 classes.\n",
            "Epoch 1/5\n",
            "47/47 [==============================] - 41s 200ms/step - loss: 0.5907 - accuracy: 0.6747 - val_loss: 0.3705 - val_accuracy: 0.8480\n",
            "Epoch 2/5\n",
            "47/47 [==============================] - 9s 186ms/step - loss: 0.4108 - accuracy: 0.8167 - val_loss: 0.3471 - val_accuracy: 0.8500\n",
            "Epoch 3/5\n",
            "47/47 [==============================] - 9s 187ms/step - loss: 0.3833 - accuracy: 0.8300 - val_loss: 0.3290 - val_accuracy: 0.8640\n",
            "Epoch 4/5\n",
            "47/47 [==============================] - 9s 189ms/step - loss: 0.3358 - accuracy: 0.8573 - val_loss: 0.3133 - val_accuracy: 0.8840\n",
            "Epoch 5/5\n",
            "47/47 [==============================] - 9s 187ms/step - loss: 0.3047 - accuracy: 0.8813 - val_loss: 0.3098 - val_accuracy: 0.8640\n"
          ],
          "name": "stdout"
        }
      ]
    },
    {
      "cell_type": "markdown",
      "metadata": {
        "id": "KgaVDhQKxN_F"
      },
      "source": [
        "**Note** : If the above cell is taking longer than ~10 seconds per epoch , make sure you're using a GPU by going to Runtime -> Change Runtime Type -> Hardware Accelator -> GPU( you may ave to rerun some cells above)"
      ]
    },
    {
      "cell_type": "code",
      "metadata": {
        "colab": {
          "base_uri": "https://localhost:8080/"
        },
        "id": "3T_OIVyrrwrh",
        "outputId": "ae1c95c6-6ab4-42fb-e20a-013449aef4ac"
      },
      "source": [
        "# There is batch size of 32 images per batch, so len(train_data) = 47\n",
        "1500/32"
      ],
      "execution_count": 16,
      "outputs": [
        {
          "output_type": "execute_result",
          "data": {
            "text/plain": [
              "46.875"
            ]
          },
          "metadata": {
            "tags": []
          },
          "execution_count": 16
        }
      ]
    },
    {
      "cell_type": "code",
      "metadata": {
        "id": "FHSapLrPrzNK"
      },
      "source": [
        "# Without the GPU runtime\n",
        "\n",
        "# Found 1500 images belonging to 2 classes.\n",
        "# Found 500 images belonging to 2 classes.\n",
        "# Epoch 1/5\n",
        "# 47/47 [==============================] - 103s 2s/step - loss: 0.5768 - accuracy: 0.6913 - val_loss: 0.3942 - val_accuracy: 0.8080\n",
        "# Epoch 2/5\n",
        "# 47/47 [==============================] - 101s 2s/step - loss: 0.4195 - accuracy: 0.8140 - val_loss: 0.3745 - val_accuracy: 0.8380\n",
        "# Epoch 3/5\n",
        "#  6/47 [==>...........................] - ETA: 1:19 - loss: 0.4097 - accuracy: 0.8385"
      ],
      "execution_count": 17,
      "outputs": []
    },
    {
      "cell_type": "code",
      "metadata": {
        "id": "3tLZV-epxIR_"
      },
      "source": [
        "# # With GPU runtime\n",
        "# Found 1500 images belonging to 2 classes.\n",
        "# Found 500 images belonging to 2 classes.\n",
        "# Epoch 1/5\n",
        "# 47/47 [==============================] - 13s 203ms/step - loss: 0.5454 - accuracy: 0.7167 - val_loss: 0.4035 - val_accuracy: 0.8360\n",
        "# Epoch 2/5\n",
        "# 47/47 [==============================] - 9s 186ms/step - loss: 0.4212 - accuracy: 0.8113 - val_loss: 0.3391 - val_accuracy: 0.8620\n",
        "# Epoch 3/5\n",
        "# 47/47 [==============================] - 9s 189ms/step - loss: 0.4072 - accuracy: 0.8220 - val_loss: 0.3362 - val_accuracy: 0.8740\n",
        "# Epoch 4/5\n",
        "# 47/47 [==============================] - 9s 187ms/step - loss: 0.3737 - accuracy: 0.8433 - val_loss: 0.3123 - val_accuracy: 0.8660\n",
        "# Epoch 5/5\n",
        "# 47/47 [==============================] - 9s 186ms/step - loss: 0.3358 - accuracy: 0.8540 - val_loss: 0.3099 - val_accuracy: 0.8800"
      ],
      "execution_count": 18,
      "outputs": []
    },
    {
      "cell_type": "code",
      "metadata": {
        "colab": {
          "base_uri": "https://localhost:8080/"
        },
        "id": "xoNnu6l5xklr",
        "outputId": "ce875bf9-f2af-4f68-d164-1fe99bbe1d19"
      },
      "source": [
        "# Get a model summary\n",
        "\n",
        "model_1.summary()"
      ],
      "execution_count": 19,
      "outputs": [
        {
          "output_type": "stream",
          "text": [
            "Model: \"sequential\"\n",
            "_________________________________________________________________\n",
            "Layer (type)                 Output Shape              Param #   \n",
            "=================================================================\n",
            "conv2d (Conv2D)              (None, 222, 222, 10)      280       \n",
            "_________________________________________________________________\n",
            "conv2d_1 (Conv2D)            (None, 220, 220, 10)      910       \n",
            "_________________________________________________________________\n",
            "max_pooling2d (MaxPooling2D) (None, 110, 110, 10)      0         \n",
            "_________________________________________________________________\n",
            "conv2d_2 (Conv2D)            (None, 108, 108, 10)      910       \n",
            "_________________________________________________________________\n",
            "conv2d_3 (Conv2D)            (None, 106, 106, 10)      910       \n",
            "_________________________________________________________________\n",
            "max_pooling2d_1 (MaxPooling2 (None, 53, 53, 10)        0         \n",
            "_________________________________________________________________\n",
            "flatten (Flatten)            (None, 28090)             0         \n",
            "_________________________________________________________________\n",
            "dense (Dense)                (None, 1)                 28091     \n",
            "=================================================================\n",
            "Total params: 31,101\n",
            "Trainable params: 31,101\n",
            "Non-trainable params: 0\n",
            "_________________________________________________________________\n"
          ],
          "name": "stdout"
        }
      ]
    },
    {
      "cell_type": "markdown",
      "metadata": {
        "id": "DgpqBE7E2bcD"
      },
      "source": [
        "**Pratice/Exercise** : Goto the CNN explainer here [https://poloclub.github.io/cnn-explainer/](https://poloclub.github.io/cnn-explainer/)"
      ]
    },
    {
      "cell_type": "markdown",
      "metadata": {
        "id": "mK5lTNW48at8"
      },
      "source": [
        "## Using the same model as before\n",
        "\n",
        "Let's replicate the model we've built in a previous section to see if works with our image data.\n",
        "The model we're building is from the [TensorFlow playground.](https://playground.tensorflow.org/#activation=tanh&batchSize=10&dataset=circle&regDataset=reg-plane&learningRate=0.03&regularizationRate=0&noise=0&networkShape=4,2,2&seed=0.37865&showTestData=false&discretize=false&percTrainData=50&x=true&y=true&xTimesY=false&xSquared=false&ySquared=false&cosX=false&sinX=false&cosY=false&sinY=false&collectStats=false&problem=classification&initZero=false&hideText=false)"
      ]
    },
    {
      "cell_type": "code",
      "metadata": {
        "colab": {
          "base_uri": "https://localhost:8080/"
        },
        "id": "bsu2V58T82_9",
        "outputId": "8e9771d7-b7bb-40ab-85ce-278e243112d7"
      },
      "source": [
        "# Set the random seed\n",
        "tf.random.set_seed(42)\n",
        "\n",
        "# Create a model\n",
        "model_2 = tf.keras.Sequential([\n",
        "  tf.keras.layers.Flatten(input_shape=(224, 224, 3)),\n",
        "  tf.keras.layers.Dense(4, activation=\"relu\"),\n",
        "  tf.keras.layers.Dense(4, activation=\"relu\"),\n",
        "  tf.keras.layers.Dense(1, activation=\"sigmoid\")\n",
        "])\n",
        "\n",
        "# Compile the model\n",
        "model_2.compile(loss=\"binary_crossentropy\",\n",
        "                optimizer=tf.keras.optimizers.Adam(),\n",
        "                metrics=[\"accuracy\"])\n",
        "\n",
        "# Fit the model\n",
        "history_2 = model_2.fit(train_data, \n",
        "                        epochs=5, \n",
        "                        steps_per_epoch=len(train_data),\n",
        "                        validation_data=valid_data,\n",
        "                        validation_steps= len(valid_data))"
      ],
      "execution_count": 20,
      "outputs": [
        {
          "output_type": "stream",
          "text": [
            "Epoch 1/5\n",
            "47/47 [==============================] - 9s 180ms/step - loss: 1.0203 - accuracy: 0.5287 - val_loss: 0.6932 - val_accuracy: 0.5000\n",
            "Epoch 2/5\n",
            "47/47 [==============================] - 8s 175ms/step - loss: 0.6932 - accuracy: 0.5000 - val_loss: 0.6932 - val_accuracy: 0.5000\n",
            "Epoch 3/5\n",
            "47/47 [==============================] - 8s 174ms/step - loss: 0.6932 - accuracy: 0.5000 - val_loss: 0.6932 - val_accuracy: 0.5000\n",
            "Epoch 4/5\n",
            "47/47 [==============================] - 8s 174ms/step - loss: 0.6932 - accuracy: 0.5000 - val_loss: 0.6932 - val_accuracy: 0.5000\n",
            "Epoch 5/5\n",
            "47/47 [==============================] - 8s 173ms/step - loss: 0.6932 - accuracy: 0.5000 - val_loss: 0.6932 - val_accuracy: 0.5000\n"
          ],
          "name": "stdout"
        }
      ]
    },
    {
      "cell_type": "code",
      "metadata": {
        "colab": {
          "base_uri": "https://localhost:8080/"
        },
        "id": "Uc6W-_xJ-7zG",
        "outputId": "c99195b3-4c9d-4fcf-c911-7d39bb30a379"
      },
      "source": [
        "# Get a summary of model_2\n",
        "model_2.summary()"
      ],
      "execution_count": 21,
      "outputs": [
        {
          "output_type": "stream",
          "text": [
            "Model: \"sequential_1\"\n",
            "_________________________________________________________________\n",
            "Layer (type)                 Output Shape              Param #   \n",
            "=================================================================\n",
            "flatten_1 (Flatten)          (None, 150528)            0         \n",
            "_________________________________________________________________\n",
            "dense_1 (Dense)              (None, 4)                 602116    \n",
            "_________________________________________________________________\n",
            "dense_2 (Dense)              (None, 4)                 20        \n",
            "_________________________________________________________________\n",
            "dense_3 (Dense)              (None, 1)                 5         \n",
            "=================================================================\n",
            "Total params: 602,141\n",
            "Trainable params: 602,141\n",
            "Non-trainable params: 0\n",
            "_________________________________________________________________\n"
          ],
          "name": "stdout"
        }
      ]
    },
    {
      "cell_type": "markdown",
      "metadata": {
        "id": "Co3C_RDx_OJz"
      },
      "source": [
        "Despite having 20x more parameters than our CNN(model_1), model_2 performs terribly...let's try to improve it"
      ]
    },
    {
      "cell_type": "code",
      "metadata": {
        "colab": {
          "base_uri": "https://localhost:8080/"
        },
        "id": "mp9-LKz2ncLO",
        "outputId": "0f571e80-aba7-440f-f9e1-3ceede44b717"
      },
      "source": [
        "# Set the random_seed\n",
        "tf.random.set_seed(42)\n",
        "\n",
        "# Create the model(same as above but let's step it up a notch)\n",
        "model_3  = tf.keras.Sequential([\n",
        "      tf.keras.layers.Flatten(input_shape=(224, 224, 3)),\n",
        "      tf.keras.layers.Dense(100, activation=\"relu\"),\n",
        "      tf.keras.layers.Dense(100, activation=\"relu\"),\n",
        "      tf.keras.layers.Dense(100, activation=\"relu\"),\n",
        "      tf.keras.layers.Dense(1, activation=\"sigmoid\")\n",
        "])\n",
        "\n",
        "# Compile the model\n",
        "model_3.compile(loss=\"binary_crossentropy\",\n",
        "                optimizer=tf.keras.optimizers.Adam(),\n",
        "                metrics=[\"accuracy\"])\n",
        "\n",
        "# Fit the model\n",
        "model_3.fit(train_data, \n",
        "            epochs=5,\n",
        "            steps_per_epoch=len(train_data),\n",
        "            validation_data=valid_data,\n",
        "            validation_steps=len(valid_data) \n",
        ")"
      ],
      "execution_count": 22,
      "outputs": [
        {
          "output_type": "stream",
          "text": [
            "Epoch 1/5\n",
            "47/47 [==============================] - 9s 181ms/step - loss: 3.0765 - accuracy: 0.6113 - val_loss: 3.0550 - val_accuracy: 0.5460\n",
            "Epoch 2/5\n",
            "47/47 [==============================] - 8s 175ms/step - loss: 1.3322 - accuracy: 0.6673 - val_loss: 0.4648 - val_accuracy: 0.8000\n",
            "Epoch 3/5\n",
            "47/47 [==============================] - 8s 175ms/step - loss: 0.9013 - accuracy: 0.6940 - val_loss: 0.6921 - val_accuracy: 0.7440\n",
            "Epoch 4/5\n",
            "47/47 [==============================] - 8s 174ms/step - loss: 0.5943 - accuracy: 0.7540 - val_loss: 0.4415 - val_accuracy: 0.7900\n",
            "Epoch 5/5\n",
            "47/47 [==============================] - 8s 177ms/step - loss: 0.4619 - accuracy: 0.7920 - val_loss: 0.5945 - val_accuracy: 0.7080\n"
          ],
          "name": "stdout"
        },
        {
          "output_type": "execute_result",
          "data": {
            "text/plain": [
              "<tensorflow.python.keras.callbacks.History at 0x7f75682990d0>"
            ]
          },
          "metadata": {
            "tags": []
          },
          "execution_count": 22
        }
      ]
    },
    {
      "cell_type": "code",
      "metadata": {
        "colab": {
          "base_uri": "https://localhost:8080/"
        },
        "id": "N7tMhng8qd4k",
        "outputId": "4bb7b8e4-0810-4634-b351-5e8772a00c88"
      },
      "source": [
        "# Get a summary of model_3\n",
        "model_3.summary()\n"
      ],
      "execution_count": 23,
      "outputs": [
        {
          "output_type": "stream",
          "text": [
            "Model: \"sequential_2\"\n",
            "_________________________________________________________________\n",
            "Layer (type)                 Output Shape              Param #   \n",
            "=================================================================\n",
            "flatten_2 (Flatten)          (None, 150528)            0         \n",
            "_________________________________________________________________\n",
            "dense_4 (Dense)              (None, 100)               15052900  \n",
            "_________________________________________________________________\n",
            "dense_5 (Dense)              (None, 100)               10100     \n",
            "_________________________________________________________________\n",
            "dense_6 (Dense)              (None, 100)               10100     \n",
            "_________________________________________________________________\n",
            "dense_7 (Dense)              (None, 1)                 101       \n",
            "=================================================================\n",
            "Total params: 15,073,201\n",
            "Trainable params: 15,073,201\n",
            "Non-trainable params: 0\n",
            "_________________________________________________________________\n"
          ],
          "name": "stdout"
        }
      ]
    },
    {
      "cell_type": "code",
      "metadata": {
        "colab": {
          "base_uri": "https://localhost:8080/"
        },
        "id": "qWlH_sakqqXu",
        "outputId": "a471634d-82a1-430b-ccee-7aa87ca44e24"
      },
      "source": [
        "15000000  / 31000"
      ],
      "execution_count": 24,
      "outputs": [
        {
          "output_type": "execute_result",
          "data": {
            "text/plain": [
              "483.8709677419355"
            ]
          },
          "metadata": {
            "tags": []
          },
          "execution_count": 24
        }
      ]
    },
    {
      "cell_type": "markdown",
      "metadata": {
        "id": "4o1FdQ4wqwD7"
      },
      "source": [
        "**Note**  : You can think of trainable parameters as **patterns a model can learn from data.** Intuitively, you might that more is better. And in lots of cases, it is. But in this case, the difference here is the two different styles of model we're using. Where a series of dense layers has a number of different learnable parameters connected to each other and hence a higher number of possible learnable patterns, **a convolutional neural network seeks to sort out and learn the most important patterns in an image**. So even though there are less learnable parameters in our convolutional neural network, these are often more helpful in deciphering between different features in an image."
      ]
    },
    {
      "cell_type": "code",
      "metadata": {
        "colab": {
          "base_uri": "https://localhost:8080/"
        },
        "id": "kndEMyA5bULo",
        "outputId": "b48cea10-a2b8-4b90-d322-53d4fa5a49c4"
      },
      "source": [
        "model_1.summary()"
      ],
      "execution_count": 25,
      "outputs": [
        {
          "output_type": "stream",
          "text": [
            "Model: \"sequential\"\n",
            "_________________________________________________________________\n",
            "Layer (type)                 Output Shape              Param #   \n",
            "=================================================================\n",
            "conv2d (Conv2D)              (None, 222, 222, 10)      280       \n",
            "_________________________________________________________________\n",
            "conv2d_1 (Conv2D)            (None, 220, 220, 10)      910       \n",
            "_________________________________________________________________\n",
            "max_pooling2d (MaxPooling2D) (None, 110, 110, 10)      0         \n",
            "_________________________________________________________________\n",
            "conv2d_2 (Conv2D)            (None, 108, 108, 10)      910       \n",
            "_________________________________________________________________\n",
            "conv2d_3 (Conv2D)            (None, 106, 106, 10)      910       \n",
            "_________________________________________________________________\n",
            "max_pooling2d_1 (MaxPooling2 (None, 53, 53, 10)        0         \n",
            "_________________________________________________________________\n",
            "flatten (Flatten)            (None, 28090)             0         \n",
            "_________________________________________________________________\n",
            "dense (Dense)                (None, 1)                 28091     \n",
            "=================================================================\n",
            "Total params: 31,101\n",
            "Trainable params: 31,101\n",
            "Non-trainable params: 0\n",
            "_________________________________________________________________\n"
          ],
          "name": "stdout"
        }
      ]
    },
    {
      "cell_type": "markdown",
      "metadata": {
        "id": "4Sn8Hx0FcFV3"
      },
      "source": [
        "## Binary Classificaiton. Let's break it down\n",
        "\n",
        "1. Become one with the data(visualize, visualize, visualize)\n",
        "2. Preprocess the data(prepared it for our model, the main step here was scaling/normalizing & turning our data into batches)\n",
        "3. Created a model(start with a baseline)\n",
        "4. Fit the model\n",
        "5. Evaluate the model\n",
        "6. Adjust the different parameters and improve the model(try to beat our baseline)\n",
        "7. Repeat until satisfied (experiment, experiment, experiment)"
      ]
    },
    {
      "cell_type": "markdown",
      "metadata": {
        "id": "I5AUeWatckFD"
      },
      "source": [
        "### 1. Become one with the data(visualize, visualize, visualize)"
      ]
    },
    {
      "cell_type": "code",
      "metadata": {
        "colab": {
          "base_uri": "https://localhost:8080/",
          "height": 267
        },
        "id": "RLFt29xjcroN",
        "outputId": "42bf86ff-0634-4e50-8785-312cba7baaf6"
      },
      "source": [
        "# Visualize data\n",
        "\n",
        "plt.figure()\n",
        "plt.subplot(1, 2, 1)\n",
        "steak_img = view_random_image(target_dir=\"pizza_steak/train/\", target_class=\"steak\")\n",
        "plt.subplot(1, 2, 2)\n",
        "pizza_img = view_random_image(target_dir=\"pizza_steak/train/\", target_class=\"pizza\")"
      ],
      "execution_count": 26,
      "outputs": [
        {
          "output_type": "stream",
          "text": [
            "['442757.jpg']\n",
            "Image shape: (512, 512, 3)\n",
            "['514014.jpg']\n",
            "Image shape: (382, 512, 3)\n"
          ],
          "name": "stdout"
        },
        {
          "output_type": "display_data",
          "data": {
            "image/png": "[encoded data removed]",
            "text/plain": [
              "<Figure size 432x288 with 2 Axes>"
            ]
          },
          "metadata": {
            "tags": [],
            "needs_background": "light"
          }
        }
      ]
    },
    {
      "cell_type": "markdown",
      "metadata": {
        "id": "ZsLcVOFEdI0r"
      },
      "source": [
        "### 2. Preprocess the data (prepare it for a model)"
      ]
    },
    {
      "cell_type": "code",
      "metadata": {
        "id": "N5QUgLjNgkaC"
      },
      "source": [
        "# Define directory dataset paths\n",
        "train_dir = \"pizza_steak/train/\"\n",
        "test_dir = \"pizza_steak/test/\""
      ],
      "execution_count": 27,
      "outputs": []
    },
    {
      "cell_type": "markdown",
      "metadata": {
        "id": "y2diVXwRhFCe"
      },
      "source": [
        "Our next step is to turn out data into **batches**.\n",
        "\n",
        "A batch is a small subset of data. Rather than look at all ~10,000 images at one time, a model might only look at 32 at a time.\n",
        "\n",
        "It does for a couple of reasons :\n",
        "1. 10000 images (or more) might not fit into the memory of your processor (GPU).\n",
        "2. Trying to learn the patterns in 10,000 images in one hit could result in the model not being able to learn very well.\n",
        "\n",
        "Why 32?\n",
        "\n",
        "Because 32 is good for your health...[https://twitter.com/ylecun/status/989610208497360896?s=20](https://twitter.com/ylecun/status/989610208497360896?s=20)\n"
      ]
    },
    {
      "cell_type": "code",
      "metadata": {
        "id": "Rr-5g6D9hgc8"
      },
      "source": [
        "# Create train and test data generator and rescale the data\n",
        "\n",
        "from tensorflow.keras.preprocessing.image import ImageDataGenerator\n",
        "\n",
        "train_datagen = ImageDataGenerator(rescale=1/255.)\n",
        "test_datagen = ImageDataGenerator(rescale=1/255.)\n"
      ],
      "execution_count": 28,
      "outputs": []
    },
    {
      "cell_type": "code",
      "metadata": {
        "id": "4tdOvP1lnKzV",
        "colab": {
          "base_uri": "https://localhost:8080/"
        },
        "outputId": "dc4bcba0-c817-4231-92df-d49fb8de98e7"
      },
      "source": [
        "# Load in our image data from directories and turn them into batches\n",
        "train_data = train_datagen.flow_from_directory(directory=train_dir,   # Target directory of images  \n",
        "                                               target_size=(224, 224), # Target size of images(height, width)\n",
        "                                               class_mode=\"binary\", # type of data you're workng with\n",
        "                                               batch_size=32) # size of mini batches to load data into\n",
        "\n",
        "test_data = test_datagen.flow_from_directory(directory=test_dir, \n",
        "                                             target_size=(224, 224),\n",
        "                                             class_mode=\"binary\",\n",
        "                                             batch_size=32)\n"
      ],
      "execution_count": 29,
      "outputs": [
        {
          "output_type": "stream",
          "text": [
            "Found 1500 images belonging to 2 classes.\n",
            "Found 500 images belonging to 2 classes.\n"
          ],
          "name": "stdout"
        }
      ]
    },
    {
      "cell_type": "code",
      "metadata": {
        "colab": {
          "base_uri": "https://localhost:8080/"
        },
        "id": "bqqIMEw51jSt",
        "outputId": "72581a13-b3e2-43dc-b46e-f9f29eb46b40"
      },
      "source": [
        "# Get a sample of a train data batch\n",
        "images, labels = train_data.next() # get the \"next\" batch of images/labels in train_data\n",
        "len(images), len(labels)\n"
      ],
      "execution_count": 30,
      "outputs": [
        {
          "output_type": "execute_result",
          "data": {
            "text/plain": [
              "(32, 32)"
            ]
          },
          "metadata": {
            "tags": []
          },
          "execution_count": 30
        }
      ]
    },
    {
      "cell_type": "code",
      "metadata": {
        "colab": {
          "base_uri": "https://localhost:8080/"
        },
        "id": "7hnQXrUtzxJG",
        "outputId": "1ffdde21-b72a-4dbf-fce7-13acd7bcdc0f"
      },
      "source": [
        "# How many batches are there\n",
        "len(train_data), 1500/32"
      ],
      "execution_count": 31,
      "outputs": [
        {
          "output_type": "execute_result",
          "data": {
            "text/plain": [
              "(47, 46.875)"
            ]
          },
          "metadata": {
            "tags": []
          },
          "execution_count": 31
        }
      ]
    },
    {
      "cell_type": "code",
      "metadata": {
        "colab": {
          "base_uri": "https://localhost:8080/"
        },
        "id": "1myDZjpV2RFS",
        "outputId": "307ac171-96df-41e1-c64f-f616b679433e"
      },
      "source": [
        "len(test_data), 500/32"
      ],
      "execution_count": 32,
      "outputs": [
        {
          "output_type": "execute_result",
          "data": {
            "text/plain": [
              "(16, 15.625)"
            ]
          },
          "metadata": {
            "tags": []
          },
          "execution_count": 32
        }
      ]
    },
    {
      "cell_type": "code",
      "metadata": {
        "colab": {
          "base_uri": "https://localhost:8080/"
        },
        "id": "_k0UPDv52axq",
        "outputId": "652a089f-5079-4fee-a065-87aaf7164015"
      },
      "source": [
        "# Get the first 2 images\n",
        "images[:2], images[0].shape"
      ],
      "execution_count": 33,
      "outputs": [
        {
          "output_type": "execute_result",
          "data": {
            "text/plain": [
              "(array([[[[0.47058827, 0.40784317, 0.34509805],\n",
              "          [0.4784314 , 0.427451  , 0.3647059 ],\n",
              "          [0.48627454, 0.43529415, 0.37254903],\n",
              "          ...,\n",
              "          [0.8313726 , 0.70980394, 0.48627454],\n",
              "          [0.8431373 , 0.73333335, 0.5372549 ],\n",
              "          [0.87843144, 0.7725491 , 0.5882353 ]],\n",
              " \n",
              "         [[0.50980395, 0.427451  , 0.36078432],\n",
              "          [0.5058824 , 0.42352945, 0.35686275],\n",
              "          [0.5137255 , 0.4431373 , 0.3647059 ],\n",
              "          ...,\n",
              "          [0.82745105, 0.7058824 , 0.48235297],\n",
              "          [0.82745105, 0.70980394, 0.5058824 ],\n",
              "          [0.8431373 , 0.73333335, 0.5372549 ]],\n",
              " \n",
              "         [[0.5254902 , 0.427451  , 0.34901962],\n",
              "          [0.5372549 , 0.43921572, 0.36078432],\n",
              "          [0.5372549 , 0.45098042, 0.36078432],\n",
              "          ...,\n",
              "          [0.82745105, 0.7019608 , 0.4784314 ],\n",
              "          [0.82745105, 0.7058824 , 0.49411768],\n",
              "          [0.8352942 , 0.7176471 , 0.5137255 ]],\n",
              " \n",
              "         ...,\n",
              " \n",
              "         [[0.77647066, 0.5647059 , 0.2901961 ],\n",
              "          [0.7803922 , 0.53333336, 0.22352943],\n",
              "          [0.79215693, 0.5176471 , 0.18039216],\n",
              "          ...,\n",
              "          [0.30588236, 0.2784314 , 0.24705884],\n",
              "          [0.24705884, 0.23137257, 0.19607845],\n",
              "          [0.2784314 , 0.27450982, 0.25490198]],\n",
              " \n",
              "         [[0.7843138 , 0.57254905, 0.29803923],\n",
              "          [0.79215693, 0.54509807, 0.24313727],\n",
              "          [0.8000001 , 0.5254902 , 0.18823531],\n",
              "          ...,\n",
              "          [0.2627451 , 0.23529413, 0.20392159],\n",
              "          [0.24313727, 0.227451  , 0.19215688],\n",
              "          [0.26666668, 0.2627451 , 0.24313727]],\n",
              " \n",
              "         [[0.7960785 , 0.59607846, 0.3372549 ],\n",
              "          [0.7960785 , 0.5647059 , 0.26666668],\n",
              "          [0.81568635, 0.54901963, 0.22352943],\n",
              "          ...,\n",
              "          [0.23529413, 0.19607845, 0.16078432],\n",
              "          [0.3019608 , 0.26666668, 0.24705884],\n",
              "          [0.26666668, 0.2509804 , 0.24705884]]],\n",
              " \n",
              " \n",
              "        [[[0.38823533, 0.4666667 , 0.36078432],\n",
              "          [0.3921569 , 0.46274513, 0.36078432],\n",
              "          [0.38431376, 0.454902  , 0.36078432],\n",
              "          ...,\n",
              "          [0.5294118 , 0.627451  , 0.54509807],\n",
              "          [0.5294118 , 0.627451  , 0.54509807],\n",
              "          [0.5411765 , 0.6392157 , 0.5568628 ]],\n",
              " \n",
              "         [[0.38431376, 0.454902  , 0.3529412 ],\n",
              "          [0.3921569 , 0.46274513, 0.36078432],\n",
              "          [0.39607847, 0.4666667 , 0.37254903],\n",
              "          ...,\n",
              "          [0.54509807, 0.6431373 , 0.5686275 ],\n",
              "          [0.5529412 , 0.6509804 , 0.5764706 ],\n",
              "          [0.5647059 , 0.6627451 , 0.5882353 ]],\n",
              " \n",
              "         [[0.3921569 , 0.46274513, 0.36078432],\n",
              "          [0.38431376, 0.454902  , 0.3529412 ],\n",
              "          [0.4039216 , 0.47450984, 0.3803922 ],\n",
              "          ...,\n",
              "          [0.5764706 , 0.67058825, 0.6156863 ],\n",
              "          [0.5647059 , 0.6666667 , 0.6156863 ],\n",
              "          [0.5647059 , 0.6666667 , 0.6156863 ]],\n",
              " \n",
              "         ...,\n",
              " \n",
              "         [[0.47058827, 0.5647059 , 0.4784314 ],\n",
              "          [0.4784314 , 0.5764706 , 0.4901961 ],\n",
              "          [0.48235297, 0.5803922 , 0.49803925],\n",
              "          ...,\n",
              "          [0.39607847, 0.42352945, 0.3019608 ],\n",
              "          [0.37647063, 0.40000004, 0.2901961 ],\n",
              "          [0.3803922 , 0.4039216 , 0.3019608 ]],\n",
              " \n",
              "         [[0.45098042, 0.5529412 , 0.454902  ],\n",
              "          [0.46274513, 0.5647059 , 0.4666667 ],\n",
              "          [0.47058827, 0.57254905, 0.47450984],\n",
              "          ...,\n",
              "          [0.40784317, 0.43529415, 0.3137255 ],\n",
              "          [0.39607847, 0.41960788, 0.31764707],\n",
              "          [0.38823533, 0.40784317, 0.31764707]],\n",
              " \n",
              "         [[0.47450984, 0.5764706 , 0.47058827],\n",
              "          [0.47058827, 0.57254905, 0.4666667 ],\n",
              "          [0.46274513, 0.5647059 , 0.4666667 ],\n",
              "          ...,\n",
              "          [0.4039216 , 0.427451  , 0.31764707],\n",
              "          [0.3921569 , 0.4156863 , 0.3137255 ],\n",
              "          [0.4039216 , 0.42352945, 0.3372549 ]]]], dtype=float32),\n",
              " (224, 224, 3))"
            ]
          },
          "metadata": {
            "tags": []
          },
          "execution_count": 33
        }
      ]
    },
    {
      "cell_type": "code",
      "metadata": {
        "colab": {
          "base_uri": "https://localhost:8080/"
        },
        "id": "Uoqupiab2lwI",
        "outputId": "b95a6bdc-1acb-4e99-d101-b56b55e49a04"
      },
      "source": [
        "images[7], images[7].shape"
      ],
      "execution_count": 34,
      "outputs": [
        {
          "output_type": "execute_result",
          "data": {
            "text/plain": [
              "(array([[[0.30588236, 0.17254902, 0.227451  ],\n",
              "         [0.34901962, 0.21960786, 0.25490198],\n",
              "         [0.4039216 , 0.2784314 , 0.2901961 ],\n",
              "         ...,\n",
              "         [0.16470589, 0.02745098, 0.1137255 ],\n",
              "         [0.16862746, 0.01960784, 0.10980393],\n",
              "         [0.15686275, 0.00784314, 0.10588236]],\n",
              " \n",
              "        [[0.28235295, 0.14901961, 0.20392159],\n",
              "         [0.34117648, 0.21176472, 0.24705884],\n",
              "         [0.42352945, 0.29803923, 0.30980393],\n",
              "         ...,\n",
              "         [0.17254902, 0.02352941, 0.1137255 ],\n",
              "         [0.1764706 , 0.02745098, 0.11764707],\n",
              "         [0.16078432, 0.01176471, 0.10980393]],\n",
              " \n",
              "        [[0.2627451 , 0.13725491, 0.19607845],\n",
              "         [0.3254902 , 0.20000002, 0.24313727],\n",
              "         [0.41960788, 0.29803923, 0.31764707],\n",
              "         ...,\n",
              "         [0.19215688, 0.04313726, 0.1254902 ],\n",
              "         [0.1764706 , 0.02745098, 0.11764707],\n",
              "         [0.16862746, 0.03137255, 0.1254902 ]],\n",
              " \n",
              "        ...,\n",
              " \n",
              "        [[0.62352943, 0.5803922 , 0.5568628 ],\n",
              "         [0.6039216 , 0.56078434, 0.5372549 ],\n",
              "         [0.6039216 , 0.56078434, 0.5372549 ],\n",
              "         ...,\n",
              "         [0.5529412 , 0.5137255 , 0.5058824 ],\n",
              "         [0.5411765 , 0.5058824 , 0.48627454],\n",
              "         [0.5882353 , 0.5529412 , 0.5254902 ]],\n",
              " \n",
              "        [[0.59607846, 0.5529412 , 0.5372549 ],\n",
              "         [0.59607846, 0.5529412 , 0.5372549 ],\n",
              "         [0.5882353 , 0.54509807, 0.5294118 ],\n",
              "         ...,\n",
              "         [0.59607846, 0.5647059 , 0.5529412 ],\n",
              "         [0.57254905, 0.54509807, 0.52156866],\n",
              "         [0.60784316, 0.5803922 , 0.54901963]],\n",
              " \n",
              "        [[0.58431375, 0.5411765 , 0.53333336],\n",
              "         [0.5882353 , 0.54509807, 0.5294118 ],\n",
              "         [0.58431375, 0.5411765 , 0.5254902 ],\n",
              "         ...,\n",
              "         [0.6392157 , 0.60784316, 0.59607846],\n",
              "         [0.6039216 , 0.5764706 , 0.5529412 ],\n",
              "         [0.6039216 , 0.5764706 , 0.54509807]]], dtype=float32), (224, 224, 3))"
            ]
          },
          "metadata": {
            "tags": []
          },
          "execution_count": 34
        }
      ]
    },
    {
      "cell_type": "code",
      "metadata": {
        "colab": {
          "base_uri": "https://localhost:8080/"
        },
        "id": "rg9-HZiq2ycW",
        "outputId": "749f7324-61af-41a9-f7d9-d476628679db"
      },
      "source": [
        "# view the first batch of labels\n",
        "labels"
      ],
      "execution_count": 35,
      "outputs": [
        {
          "output_type": "execute_result",
          "data": {
            "text/plain": [
              "array([1., 1., 0., 1., 0., 0., 0., 1., 0., 1., 0., 0., 1., 0., 0., 0., 1.,\n",
              "       1., 0., 1., 0., 1., 1., 1., 0., 0., 0., 0., 0., 1., 0., 1.],\n",
              "      dtype=float32)"
            ]
          },
          "metadata": {
            "tags": []
          },
          "execution_count": 35
        }
      ]
    },
    {
      "cell_type": "markdown",
      "metadata": {
        "id": "sIjWwXyT29dR"
      },
      "source": [
        "### 3. Create a CNN model ( start with a baseline)\n",
        "\n",
        "* A baseline is a relative simple model or existing result that you setup when begining a machine learning experiment and then as you keep experimenting, you try to beat the baseline.\n",
        "\n",
        "\n",
        "> **Note** : In deep learning, there is almost an infinite amount of architecture you could create. So one of the best ways to get started is to start with something simple and see if it works on your data and then introduce complexity as required(e.g. look at which current model is performing best in the field for your problem)."
      ]
    },
    {
      "cell_type": "code",
      "metadata": {
        "id": "rg4ayhwZ3aZE"
      },
      "source": [
        "# Make the creating  our model a little easier\n",
        "\n",
        "from tensorflow.keras.optimizers import Adam\n",
        "from tensorflow.keras.layers import Dense, Flatten, Conv2D, MaxPool2D, Activation\n",
        "from tensorflow.keras import Sequential\n"
      ],
      "execution_count": 36,
      "outputs": []
    },
    {
      "cell_type": "code",
      "metadata": {
        "id": "PlPzRiTFIrW0"
      },
      "source": [
        "tf.random.set_seed(42)\n",
        "\n",
        "# Create the model (this will be our baseline, a layer convolutional neural network)\n",
        "model_4 = Sequential([\n",
        "    Conv2D(filters = 10, # Number of sliding windows going across an input (higher=more complex model)\n",
        "           kernel_size=(3, 3), # size of the sliding window going across an input\n",
        "           strides=1, # the size of the step the sliding window takes across an input\n",
        "           padding=\"valid\", # if \"same\", output is same as input shape, if \"valid\" - output shape gets compressed\n",
        "           activation=\"relu\",\n",
        "           input_shape=(224, 224, 3)),  # input layer (specify input shape)\n",
        "    Conv2D(10, 3, activation=\"relu\"),\n",
        "    Conv2D(10, 3, activation=\"relu\"),\n",
        "    Flatten(),\n",
        "    Dense(1, activation=\"sigmoid\") # output layer(working with binary classificaion so  only 1 output)\n",
        "])"
      ],
      "execution_count": 48,
      "outputs": []
    },
    {
      "cell_type": "markdown",
      "metadata": {
        "id": "QJO02cLRO3H2"
      },
      "source": [
        "**Practice** : Understand what's going on in a Conv2D later by going through the CNN explainer website for 10-20 minutes.\n",
        "[https://poloclub.github.io/cnn-explainer/](https://poloclub.github.io/cnn-explainer/)\n"
      ]
    },
    {
      "cell_type": "code",
      "metadata": {
        "id": "jPaYmSsdbq_W"
      },
      "source": [
        "# Compile the model \n",
        "model_4.compile(loss=\"binary_crossentropy\",\n",
        "                optimizer=Adam(),\n",
        "                metrics=[\"accuracy\"])\n"
      ],
      "execution_count": 49,
      "outputs": []
    },
    {
      "cell_type": "code",
      "metadata": {
        "colab": {
          "base_uri": "https://localhost:8080/"
        },
        "id": "AOCSWR5HcI42",
        "outputId": "f158bd45-1852-43a9-c929-694703eaa5ce"
      },
      "source": [
        "# Get a summary of our model\n",
        "model_4.summary()"
      ],
      "execution_count": 50,
      "outputs": [
        {
          "output_type": "stream",
          "text": [
            "Model: \"sequential_4\"\n",
            "_________________________________________________________________\n",
            "Layer (type)                 Output Shape              Param #   \n",
            "=================================================================\n",
            "conv2d_7 (Conv2D)            (None, 222, 222, 10)      280       \n",
            "_________________________________________________________________\n",
            "conv2d_8 (Conv2D)            (None, 220, 220, 10)      910       \n",
            "_________________________________________________________________\n",
            "conv2d_9 (Conv2D)            (None, 218, 218, 10)      910       \n",
            "_________________________________________________________________\n",
            "flatten_4 (Flatten)          (None, 475240)            0         \n",
            "_________________________________________________________________\n",
            "dense_9 (Dense)              (None, 1)                 475241    \n",
            "=================================================================\n",
            "Total params: 477,341\n",
            "Trainable params: 477,341\n",
            "Non-trainable params: 0\n",
            "_________________________________________________________________\n"
          ],
          "name": "stdout"
        }
      ]
    },
    {
      "cell_type": "markdown",
      "metadata": {
        "id": "IGqVW9fIcBsp"
      },
      "source": [
        "### 4. Fit the Model"
      ]
    },
    {
      "cell_type": "code",
      "metadata": {
        "colab": {
          "base_uri": "https://localhost:8080/"
        },
        "id": "h7-zCVmNcWkb",
        "outputId": "ba670640-8c25-4741-bbcf-ed1006e6fef8"
      },
      "source": [
        "# Check the lengths of training and test data generators\n",
        "\n",
        "len(train_data), len(test_data)"
      ],
      "execution_count": 51,
      "outputs": [
        {
          "output_type": "execute_result",
          "data": {
            "text/plain": [
              "(47, 16)"
            ]
          },
          "metadata": {
            "tags": []
          },
          "execution_count": 51
        }
      ]
    },
    {
      "cell_type": "code",
      "metadata": {
        "colab": {
          "base_uri": "https://localhost:8080/"
        },
        "id": "minbZmy-clOI",
        "outputId": "353ba72f-3e98-4076-c24b-43e0cf1c3079"
      },
      "source": [
        "# Fit the model\n",
        "history_4 = model_4.fit(train_data, # this is a combination of labels and sample data\n",
        "            epochs=5,\n",
        "            steps_per_epoch=len(train_data), # each epoch would take len(train_data) = 47 steps \n",
        "            validation_data = test_data,\n",
        "            validation_steps=len(test_data))\n"
      ],
      "execution_count": 52,
      "outputs": [
        {
          "output_type": "stream",
          "text": [
            "Epoch 1/5\n",
            "47/47 [==============================] - 10s 196ms/step - loss: 0.7289 - accuracy: 0.6593 - val_loss: 0.5019 - val_accuracy: 0.7620\n",
            "Epoch 2/5\n",
            "47/47 [==============================] - 9s 192ms/step - loss: 0.4740 - accuracy: 0.7827 - val_loss: 0.3758 - val_accuracy: 0.8380\n",
            "Epoch 3/5\n",
            "47/47 [==============================] - 9s 192ms/step - loss: 0.3519 - accuracy: 0.8487 - val_loss: 0.3706 - val_accuracy: 0.8400\n",
            "Epoch 4/5\n",
            "47/47 [==============================] - 9s 192ms/step - loss: 0.2374 - accuracy: 0.9193 - val_loss: 0.3654 - val_accuracy: 0.8460\n",
            "Epoch 5/5\n",
            "47/47 [==============================] - 9s 191ms/step - loss: 0.1922 - accuracy: 0.9347 - val_loss: 0.4941 - val_accuracy: 0.7840\n"
          ],
          "name": "stdout"
        }
      ]
    },
    {
      "cell_type": "markdown",
      "metadata": {
        "id": "-qIJ52Gxd91e"
      },
      "source": [
        "### 5. Evaluating our model\n",
        "\n",
        "It looks like our model is learning something, let's evaluate it.\n"
      ]
    },
    {
      "cell_type": "code",
      "metadata": {
        "id": "0O48ffUxt2sa",
        "outputId": "745a34a2-bb72-48ba-f4d3-548349b660d1",
        "colab": {
          "base_uri": "https://localhost:8080/",
          "height": 445
        }
      },
      "source": [
        "import pandas as pd\n",
        "pd.DataFrame(history_4.history).plot(figsize=(10, 7))"
      ],
      "execution_count": 53,
      "outputs": [
        {
          "output_type": "execute_result",
          "data": {
            "text/plain": [
              "<matplotlib.axes._subplots.AxesSubplot at 0x7f756be5c910>"
            ]
          },
          "metadata": {
            "tags": []
          },
          "execution_count": 53
        },
        {
          "output_type": "display_data",
          "data": {
            "image/png": "[encoded data removed]",
            "text/plain": [
              "<Figure size 720x504 with 1 Axes>"
            ]
          },
          "metadata": {
            "tags": [],
            "needs_background": "light"
          }
        }
      ]
    },
    {
      "cell_type": "code",
      "metadata": {
        "id": "8OqMxEPgvzfX"
      },
      "source": [
        "# Plot validation and training curves separately\n",
        "def plot_loss_curves(history) :\n",
        "  \"\"\"\n",
        "   Return separate loss curves for training and validation metrics.\n",
        "  \"\"\"\n",
        "  loss = history.history[\"loss\"]\n",
        "  val_loss = history.history[\"val_loss\"]\n",
        "\n",
        "  accuracy = history.history[\"accuracy\"]\n",
        "  val_accuracy = history.history[\"val_accuracy\"]\n",
        "\n",
        "  epochs = range(len(history.history[\"loss\"])) # how many epochs we run for?\n",
        "\n",
        "  # Plot loss\n",
        "  plt.plot(epochs, loss, label=\"training_loss\")\n",
        "  plt.plot(epochs, val_loss, label=\"val_loss\")\n",
        "  plt.title(\"loss\")\n",
        "  plt.xlabel(\"epochs\")\n",
        "  plt.legend()\n",
        "\n",
        "  #Plot accuracy\n",
        "  plt.figure()\n",
        "  plt.plot(epochs, accuracy, label=\"training_accuracy\")\n",
        "  plt.plot(epochs, val_accuracy, label=\"test_accuracy\")\n",
        "  plt.title(\"accuracy\")\n",
        "  plt.xlabel(\"epochs\")\n",
        "  plt.legend()\n"
      ],
      "execution_count": 56,
      "outputs": []
    },
    {
      "cell_type": "markdown",
      "metadata": {
        "id": "3yjpy5Ooxbtl"
      },
      "source": [
        "> **Note**: When a model's **validation loss starts to increase**, it's likely that the model is **overfitting** the training dataset. This means it's learning the patterns in the training dataset *too well* and thus the model's ability to generalize the unseen data will be diminished."
      ]
    },
    {
      "cell_type": "code",
      "metadata": {
        "id": "v9v0ZvMnxMg4",
        "outputId": "88ba6ac4-d44c-48b9-b46a-e1e03195bc73",
        "colab": {
          "base_uri": "https://localhost:8080/",
          "height": 573
        }
      },
      "source": [
        "plot_loss_curves(history_4)"
      ],
      "execution_count": 57,
      "outputs": [
        {
          "output_type": "display_data",
          "data": {
            "image/png": "[encoded data removed]",
            "text/plain": [
              "<Figure size 432x288 with 1 Axes>"
            ]
          },
          "metadata": {
            "tags": [],
            "needs_background": "light"
          }
        },
        {
          "output_type": "display_data",
          "data": {
            "image/png": "[encoded data removed]",
            "text/plain": [
              "<Figure size 432x288 with 1 Axes>"
            ]
          },
          "metadata": {
            "tags": [],
            "needs_background": "light"
          }
        }
      ]
    },
    {
      "cell_type": "code",
      "metadata": {
        "id": "RstQMJGNwjav",
        "outputId": "bd32ace7-804a-48a4-cdc9-95bba2cb7a4f",
        "colab": {
          "base_uri": "https://localhost:8080/"
        }
      },
      "source": [
        "range(5)"
      ],
      "execution_count": 54,
      "outputs": [
        {
          "output_type": "execute_result",
          "data": {
            "text/plain": [
              "range(0, 5)"
            ]
          },
          "metadata": {
            "tags": []
          },
          "execution_count": 54
        }
      ]
    }
  ]
}