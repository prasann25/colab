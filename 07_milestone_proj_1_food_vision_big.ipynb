{
  "nbformat": 4,
  "nbformat_minor": 0,
  "metadata": {
    "colab": {
      "name": "07_milestone_proj_1_food_vision_big",
      "provenance": [],
      "authorship_tag": "ABX9TyPkY/eH3mqOssKUvXukBqBs",
      "include_colab_link": true
    },
    "kernelspec": {
      "name": "python3",
      "display_name": "Python 3"
    },
    "language_info": {
      "name": "python"
    },
    "accelerator": "GPU"
  },
  "cells": [
    {
      "cell_type": "markdown",
      "metadata": {
        "id": "view-in-github",
        "colab_type": "text"
      },
      "source": [
        "<a href=\"https://colab.research.google.com/github/prasann25/colab/blob/main/07_milestone_proj_1_food_vision_big.ipynb\" target=\"_parent\"><img src=\"https://colab.research.google.com/assets/colab-badge.svg\" alt=\"Open In Colab\"/></a>"
      ]
    },
    {
      "cell_type": "markdown",
      "metadata": {
        "id": "-8fbclEDHYdu"
      },
      "source": [
        "# MileStone Project 1 : Food Vision Big\n",
        "\n",
        "See the annotated version of this notebook on GitHub : https://github.com/mrdbourke/tensorflow-deep-learning/blob/main/07_food_vision_milestone_project_1.ipynb"
      ]
    },
    {
      "cell_type": "markdown",
      "metadata": {
        "id": "QAVNV-u5mN8J"
      },
      "source": [
        "## Check GPU\n",
        "\n",
        "Google Colab offers free GPUs(thank you Google), however, not all of them are compatible with mixed precision training. \n",
        "We need Nvidia V100, T4 or A100 to get the benefits of mixed precision training https://www.tensorflow.org/guide/mixed_precision\n",
        "\n",
        "Google Colab offers :\n",
        "* K80 (not compatible)\n",
        "* P100 (not compatible)\n",
        "* Tesla T4 (compatible)\n",
        "\n",
        "Knowing this, in order to use mixed precision training, we need access to a Tesla T4( from within Google Colab) or if we're using our own hardware, our GPU needs a score of 7.0+ (see here : https://developer.nvidia.com/cuda-gpus)."
      ]
    },
    {
      "cell_type": "code",
      "metadata": {
        "id": "W4f0cU0pmRaa",
        "outputId": "937ac166-04d3-4ec7-a856-89f0c78802d4",
        "colab": {
          "base_uri": "https://localhost:8080/"
        }
      },
      "source": [
        "! nvidia-smi -L"
      ],
      "execution_count": 2,
      "outputs": [
        {
          "output_type": "stream",
          "text": [
            "GPU 0: Tesla T4 (UUID: GPU-6e052747-78c6-7d26-dd45-a1e78074a483)\n"
          ],
          "name": "stdout"
        }
      ]
    },
    {
      "cell_type": "code",
      "metadata": {
        "id": "rKA6rwCCp0BL"
      },
      "source": [
        ""
      ],
      "execution_count": null,
      "outputs": []
    }
  ]
}